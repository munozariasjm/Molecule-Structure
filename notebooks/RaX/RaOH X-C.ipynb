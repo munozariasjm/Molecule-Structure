{
    "cells": [
        {
            "cell_type": "code",
            "execution_count": 1,
            "id": "e1151edf",
            "metadata": {},
            "outputs": [],
            "source": [
                "from config_path import add_to_sys_path\n",
                "add_to_sys_path()  # Call the function to add path\n",
                "\n",
                "import numpy as np\n",
                "from sympy.physics.wigner import wigner_3j,wigner_6j\n",
                "import sympy as sy\n",
                "from numpy import linalg as LA\n",
                "from IPython.display import Latex,display\n",
                "import matplotlib.pyplot as plt\n",
                "from matplotlib import colors\n",
                "%matplotlib inline\n",
                "import seaborn as sns\n",
                "sns.set()\n",
                "sns.set_palette('bright')\n",
                "from molecular_structure import MoleculeLevels\n",
                "from energy_levels import branching_ratios, calculate_TDMs,calculate_TDM_evecs\n",
                "from functools import partial\n",
                "np.set_printoptions(precision=5, suppress=True)\n",
                "from tabulate import tabulate\n",
                "from matplotlib.collections import LineCollection"
            ]
        },
        {
            "cell_type": "code",
            "execution_count": 2,
            "id": "50d59e63",
            "metadata": {},
            "outputs": [],
            "source": [
                "%matplotlib inline"
            ]
        },
        {
            "cell_type": "code",
            "execution_count": 3,
            "id": "8b7462e9",
            "metadata": {},
            "outputs": [],
            "source": [
                "import copy\n",
                "\n",
                "def select_dipole(dipole,TDM_func):\n",
                "    if dipole == 'z':\n",
                "        TDM = TDM_func(0)\n",
                "    elif dipole == '+':\n",
                "        TDM = TDM_func(1)\n",
                "    elif dipole == '-':\n",
                "        TDM = TDM_func(1)\n",
                "    elif 'x' in dipole:\n",
                "        TDMx = -1/np.sqrt(2)*(TDM_func(1)-TDM_func(-1))\n",
                "        if dipole=='x':\n",
                "            TDM=TDMx\n",
                "        elif dipole=='x+z' or dipole=='z+x':\n",
                "            TDM = 1/np.sqrt(2)*(abs(TDMx)+abs(TDM_func(0)))\n",
                "    else:\n",
                "        TDM = 1/np.sqrt(3)*(abs(TDM_func(-1))+abs(TDM_func(0))+abs(TDM_func(1)))\n",
                "    return TDM\n",
                "\n",
                "def lorentzian(f,f0,g,N):\n",
                "    return N*(g/2)**2 /((f-f0)**2 + (g/2)**2)\n",
                "\n",
                "\n",
                "def simulate_spectra(field_EB,state_g,state_e,g_idx,e_idx,ret_str =False,freq_array=None,diagonalize=False,T=4,origin = 0,P_adjust=False,square=True,pad=10,dipole='z',cm=True,thresh=1e-3,g=7.9/(29979.2458),dip=False,make_lorentzians=True,plot=True):\n",
                "    E0, B0 = field_EB\n",
                "    if diagonalize:\n",
                "        G_evals,G_evecs = copy.deepcopy(state_g.eigensystem(E0,B0))\n",
                "        E_evals,E_evecs = copy.deepcopy(state_e.eigensystem(E0,B0))\n",
                "    else:\n",
                "        G_evals,G_evecs = copy.deepcopy(state_g.evals0),copy.deepcopy(state_g.evecs0)\n",
                "        E_evals,E_evecs = copy.deepcopy(state_e.evals0),copy.deepcopy(state_e.evecs0)\n",
                "    TDM_func = partial(calculate_TDMs,Ground=state_g,Excited=state_e,Ez=E0,Bz=B0,q=[0])\n",
                "    TDM_EB = select_dipole(dipole,TDM_func)\n",
                "    if cm:\n",
                "        E_evals/=29979.2458\n",
                "        G_evals/=29979.2458\n",
                "    E_evals+= origin\n",
                "    dE_EB = np.subtract.outer(E_evals, G_evals)\n",
                "    \n",
                "    all_param = []\n",
                "    flist = []\n",
                "    TDMlist = []\n",
                "    t_str_list = []\n",
                "    for i in g_idx:\n",
                "        vec_g = G_evecs[i,:]\n",
                "        q_g = abs(vec_g).argmax()\n",
                "        for j in e_idx:\n",
                "            vec_e = E_evecs[j,:]\n",
                "            q_e = abs(vec_e).argmax()\n",
                "            Je,Me = [state_e.q_numbers[_q][q_e] for _q in ['J','M']]\n",
                "            Pe = {1:'+',-1:'-'}[state_e.parities[j]]\n",
                "            Ng,Jg,Mg = [state_g.q_numbers[_q][q_g] for _q in ['N','J','M']]\n",
                "            Pg = {1:'+',-1:'-'}[state_g.parities[i]]\n",
                "            if Me % 1 == 0:\n",
                "                Me=int(Me)\n",
                "                Mg = int(Mg)\n",
                "#                 if N==1:\n",
                "#                     boltz=1\n",
                "#                 else:\n",
                "#                     boltz = np.exp(-(0.352*(N*(N+1)-2)/T))\n",
                "            if cm:\n",
                "                boltz = np.exp(-G_evals[i]*1.439/T)\n",
                "            else:\n",
                "                boltz = np.exp(-4.799e-5*G_evals[i]/T)\n",
                "            _TDM = TDM_EB[j,i]\n",
                "            _dE = dE_EB[j,i]\n",
                "            if _dE<0:\n",
                "                continue\n",
                "            if abs(_TDM) < thresh:\n",
                "                continue\n",
                "            flist.append(_dE)\n",
                "            if square:\n",
                "                _TDM = np.square(_TDM)\n",
                "            _TDM*= boltz\n",
                "            if Jg>Je and P_adjust:\n",
                "                _TDM*=(2*Je+1)/(2*Jg+1)\n",
                "            all_param.append([_dE,g,_TDM])\n",
                "            TDMlist.append(_TDM)\n",
                "            with_F = False\n",
                "            if ret_str:\n",
                "                if with_F:\n",
                "                    t_str = '(N={Ng}{Pg},J={Jg},F={Fg},M={Mg})->(J={Je}{Pe},F={Fe},M={Me})'.format(Je=Je,Fe=Fe,Me=Me,Pe=Pe,Ng=Ng,Jg=Jg,Fg=Fg,Mg=Mg,Pg=Pg)\n",
                "                else:\n",
                "                    dJ = Je-Jg\n",
                "                    PQR_J = {-1:'P', 0:'Q', 1:'R'}[dJ]\n",
                "                    dJN = Jg - Ng\n",
                "                    dN = (Je-0.5) - Ng\n",
                "                    PQR_N = {-2:'O',-1:'P', 0:'Q', 1:'R'}[dN]\n",
                "                    F12 = {0.5:'1',-0.5:'2'}[dJN]\n",
                "                    full_str = []\n",
                "                    pqr_str = r'$^{{{pqr_n}}} {{{pqr_j}}}_{{1{{{fi}}}}}({{{Ng}}}^{{{{{Pg}}}}})$'.format(pqr_n=PQR_N,pqr_j=PQR_J,fi=F12,Ng=Ng,Pg=Pg)\n",
                "                    full_str.append(pqr_str)\n",
                "                    qn_str = ['{Ng}, {Jg2}/2'.format(Ng=Ng,Jg2=int(Jg*2)),'{Je2}/2'.format(Je2=int(Je*2))]\n",
                "                    full_str.extend(qn_str)\n",
                "                    freq_str = ['{}'.format(np.round(_dE,4))]\n",
                "                    full_str.extend(freq_str)\n",
                "#                     '\\t' + r'$N={{{Ng}}}^{{{{{Pg}}}}},J={{{Jg}}},M={{{Mg}}} \\rightarrow J={{{Je}}}^{{{{{Pe}}}}},M={{{Me}}}$'.format(Je=Je,Me=Me,Pe=Pe,Ng=Ng,Jg=Jg,Mg=Mg,Pg=Pg)\n",
                "                t_str_list.append(full_str)\n",
                "    if flist==[]:\n",
                "        flist.append(0)\n",
                "        all_param.append([0,g,0])\n",
                "        TDMlist.append(0)\n",
                "    if make_lorentzians:\n",
                "        if freq_array is None:\n",
                "            fmin = min(flist)-pad*g\n",
                "            fmax = max(flist)+pad*g\n",
                "            n=int((fmax-fmin)/(g/20))\n",
                "            freq = np.linspace(fmin,fmax,n)\n",
                "        else:\n",
                "            freq = freq_array\n",
                "            n = len(freq_array)\n",
                "        tot_lor = np.zeros(n)\n",
                "        for param in all_param:\n",
                "            tot_lor+=lorentzian(freq,*param)\n",
                "        if dip:\n",
                "            tot_lor*=-1\n",
                "        if plot:\n",
                "            plt.figure()\n",
                "            plt.plot(freq,tot_lor)\n",
                "        if ret_str:\n",
                "            return flist,(freq,tot_lor),TDMlist,t_str_list\n",
                "        else:\n",
                "            return flist,(freq,tot_lor),TDMlist\n",
                "    else:\n",
                "        if ret_str:\n",
                "            return flist,TDMlist,t_str_list\n",
                "        else:\n",
                "            return flist,TDMlist"
            ]
        },
        {
            "cell_type": "code",
            "execution_count": 17,
            "id": "c337cee8",
            "metadata": {},
            "outputs": [],
            "source": [
                "g = MoleculeLevels.initialize_state('CaOH','40','X000',[0,1,2,3,4,5,6,7,8,9,10,11],M_values = 'pos',I=[0,0],S=1/2,round=8,P_values=[1/2])\n",
                "e = MoleculeLevels.initialize_state('CaOH','40','B000',[0,1,2,3,4,5,6,7,8,9,10,11,12],M_values = 'pos',I=[0,0],S=1/2,round=8,P_values=[1/2])\n",
                "g.eigensystem(0,1e-3)\n",
                "e.eigensystem(0,1e-3)\n",
                "gidx = g.select_q({'N':[0,1,2,3,4,5,7,8,9,10,11]})\n",
                "eidx = e.select_q({'N':[0,1,2,3,4,5,6,7,8,9,10,11,12]})"
            ]
        },
        {
            "cell_type": "code",
            "execution_count": 18,
            "id": "5aad5e89",
            "metadata": {},
            "outputs": [
                {
                    "data": {
                        "text/plain": [
                            "{'mu_B': 1.399624494,\n",
                            " 'g_S': 2.0023,\n",
                            " 'g_L': 1,\n",
                            " '2_e0c': 75346062800.0,\n",
                            " 'mu_N': 0.000762259323,\n",
                            " 'Be': 10023.0841,\n",
                            " 'D': 0.01154,\n",
                            " 'Gamma_SR': 34.7593,\n",
                            " 'bF': 2.602,\n",
                            " 'c': 2.053,\n",
                            " 'b': 1.9176666666666664,\n",
                            " 'muE': 0.73749858}"
                        ]
                    },
                    "execution_count": 18,
                    "metadata": {},
                    "output_type": "execute_result"
                }
            ],
            "source": [
                "g.parameters"
            ]
        },
        {
            "cell_type": "code",
            "execution_count": 19,
            "id": "aed74a15",
            "metadata": {},
            "outputs": [
                {
                    "data": {
                        "text/plain": [
                            "{'mu_B': 1.399624494,\n",
                            " 'g_S': 2.0023,\n",
                            " 'g_L': 1,\n",
                            " '2_e0c': 75346062800.0,\n",
                            " 'mu_N': 0.000762259323,\n",
                            " 'Be': 10175.2,\n",
                            " 'Gamma_SR': -1307.54,\n",
                            " 'bF': 0.10407999999999999,\n",
                            " 'c': 0.08212,\n",
                            " 'b': 0.07670666666666666,\n",
                            " 'muE': 0.374538528}"
                        ]
                    },
                    "execution_count": 19,
                    "metadata": {},
                    "output_type": "execute_result"
                }
            ],
            "source": [
                "e.parameters"
            ]
        },
        {
            "cell_type": "code",
            "execution_count": 20,
            "id": "9f58d5e4",
            "metadata": {},
            "outputs": [],
            "source": [
                "g.update_params({\n",
                "    'D':0,\n",
                "    'Be': 5868,\n",
                "    'Gamma_SR':175,\n",
                "})\n",
                "\n",
                "e.update_params({\n",
                "    'Be':5855,\n",
                "    'Gamma_SR':-8800\n",
                "})"
            ]
        },
        {
            "cell_type": "code",
            "execution_count": 84,
            "id": "e2e5c9c8",
            "metadata": {
                "scrolled": true
            },
            "outputs": [
                {
                    "name": "stdout",
                    "output_type": "stream",
                    "text": [
                        "Successfully converted eigenvectors from bBJ to aBJ\n",
                        "Successfully converted eigenvectors from bBJ to aBJ\n"
                    ]
                },
                {
                    "data": {
                        "image/png": "[encoded data removed]",
                        "text/plain": [
                            "<Figure size 432x288 with 1 Axes>"
                        ]
                    },
                    "metadata": {
                        "needs_background": "light"
                    },
                    "output_type": "display_data"
                }
            ],
            "source": [
                "# gidx = g.select_q({'N':[2]})\n",
                "# eidx = e.select_q({'N':[3],'J':[7/2]})\n",
                "# gidx = g.select_q({'N':[0,1,2,3,4,5,7,8,9,10,11]})\n",
                "# eidx = e.select_q({'N':[0,1,2,3,4,5,6,7,8,9,10,11,12]})\n",
                "gidx = g.select_q({'N':[0,1,2,3,4]})\n",
                "eidx = e.select_q({'N':[0,1,2,3,4,5,6]})\n",
                "flist,(freq,tot_lor),TDMlist = simulate_spectra([0,1e-3],g,e,gidx,eidx,ret_str =False,freq_array=None,diagonalize=False,T=4,origin = 15739.9+0.6238,P_adjust=False,square=True,pad=300,dipole='z',cm=True,thresh=1e-3,g=100/(29979.2458),dip=False,make_lorentzians=True,plot=True)"
            ]
        },
        {
            "cell_type": "code",
            "execution_count": 81,
            "id": "8b743391",
            "metadata": {},
            "outputs": [
                {
                    "data": {
                        "text/plain": [
                            "(15741.0, 15741.25)"
                        ]
                    },
                    "execution_count": 81,
                    "metadata": {},
                    "output_type": "execute_result"
                },
                {
                    "data": {
                        "image/png": "[encoded data removed]",
                        "text/plain": [
                            "<Figure size 432x288 with 1 Axes>"
                        ]
                    },
                    "metadata": {
                        "needs_background": "light"
                    },
                    "output_type": "display_data"
                }
            ],
            "source": [
                "plt.plot(freq,tot_lor)\n",
                "plt.xlim(15741,15741.25)"
            ]
        },
        {
            "cell_type": "code",
            "execution_count": 82,
            "id": "30e23695",
            "metadata": {},
            "outputs": [
                {
                    "data": {
                        "text/plain": [
                            "0.6238000000000028"
                        ]
                    },
                    "execution_count": 82,
                    "metadata": {},
                    "output_type": "execute_result"
                }
            ],
            "source": [
                "41.7226-41.0988"
            ]
        },
        {
            "cell_type": "code",
            "execution_count": 78,
            "id": "30fa4750",
            "metadata": {},
            "outputs": [
                {
                    "data": {
                        "text/plain": [
                            "[15737.876933764108,\n",
                            " 15737.876933767073,\n",
                            " 15737.876933770041,\n",
                            " 15737.876933773008,\n",
                            " 15737.90320194699,\n",
                            " 15737.90320197073,\n",
                            " 15737.903201994473,\n",
                            " 15737.903202018213,\n",
                            " 15738.42069327508,\n",
                            " 15738.420693280423,\n",
                            " 15738.420693285763,\n",
                            " 15738.441124089266,\n",
                            " 15738.441124121317,\n",
                            " 15738.441124153365,\n",
                            " 15738.930579340911,\n",
                            " 15738.930579343878,\n",
                            " 15738.930579346847,\n",
                            " 15738.963585521782,\n",
                            " 15738.963585534246,\n",
                            " 15738.978178969644,\n",
                            " 15738.9781790195,\n",
                            " 15739.174965074664,\n",
                            " 15739.174965080005,\n",
                            " 15739.418483544145,\n",
                            " 15739.505610523203,\n",
                            " 15739.514366611862,\n",
                            " 15740.14383532243,\n",
                            " 15740.383884736002,\n",
                            " 15740.383884748468,\n",
                            " 15740.58413989693,\n",
                            " 15740.623066875807,\n",
                            " 15740.623066881148,\n",
                            " 15740.62306688649,\n",
                            " 15740.861381746588,\n",
                            " 15740.861381749555,\n",
                            " 15740.861381752524,\n",
                            " 15740.86138175549,\n",
                            " 15741.098829349643,\n",
                            " 15741.098829351531,\n",
                            " 15741.09882935342,\n",
                            " 15741.098829355307,\n",
                            " 15741.098829357197,\n",
                            " 15741.11772568935,\n",
                            " 15741.117725739206,\n",
                            " 15741.126481827865,\n",
                            " 15741.650444222245,\n",
                            " 15741.650444254296,\n",
                            " 15741.650444286346,\n",
                            " 15741.665037734208,\n",
                            " 15741.665037739549,\n",
                            " 15742.182295490868,\n",
                            " 15742.182295514607,\n",
                            " 15742.182295538349,\n",
                            " 15742.182295562088,\n",
                            " 15742.202726376274,\n",
                            " 15742.202726379242,\n",
                            " 15742.20272638221,\n",
                            " 15742.713279493919,\n",
                            " 15742.713279512804,\n",
                            " 15742.713279531688,\n",
                            " 15742.713279550573,\n",
                            " 15742.71327956946,\n",
                            " 15742.739547752342,\n",
                            " 15742.73954775423,\n",
                            " 15742.73954775612,\n",
                            " 15742.739547758008]"
                        ]
                    },
                    "execution_count": 78,
                    "metadata": {},
                    "output_type": "execute_result"
                }
            ],
            "source": [
                "sorted(flist)"
            ]
        },
        {
            "cell_type": "code",
            "execution_count": null,
            "id": "f1c25144",
            "metadata": {},
            "outputs": [],
            "source": []
        }
    ],
    "metadata": {
        "kernelspec": {
            "display_name": "Python 3 (ipykernel)",
            "language": "python",
            "name": "python3"
        },
        "language_info": {
            "codemirror_mode": {
                "name": "ipython",
                "version": 3
            },
            "file_extension": ".py",
            "mimetype": "text/x-python",
            "name": "python",
            "nbconvert_exporter": "python",
            "pygments_lexer": "ipython3",
            "version": "3.7.13"
        }
    },
    "nbformat": 4,
    "nbformat_minor": 5
}