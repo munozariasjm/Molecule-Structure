{
    "cells": [
        {
            "cell_type": "code",
            "execution_count": 1,
            "id": "eeb03441",
            "metadata": {},
            "outputs": [],
            "source": [
                "from config_path import add_to_sys_path\n",
                "add_to_sys_path()  # Call the function to add path\n",
                "\n",
                "import numpy as np\n",
                "from sympy.physics.wigner import wigner_3j,wigner_6j\n",
                "import sympy as sy\n",
                "from numpy import linalg as LA\n",
                "from IPython.display import Latex,display\n",
                "import matplotlib.pyplot as plt\n",
                "%matplotlib inline\n",
                "import seaborn as sns\n",
                "sns.set()\n",
                "sns.set_palette('terrain')\n",
                "from molecular_structure import MoleculeLevels\n",
                "np.set_printoptions(precision=5, suppress=True)\n",
                "%matplotlib qt"
            ]
        },
        {
            "cell_type": "code",
            "execution_count": 202,
            "id": "debbdc2b",
            "metadata": {},
            "outputs": [],
            "source": [
                "import matrix_elements as me\n",
                "kronecker = me.kronecker\n",
                "from functools import partial\n",
                "\n",
                "def build_operator(q_in,q_out,matrix_element,symbolic=False):\n",
                "    q_str_in = list(q_in)\n",
                "    q_str_out = list(q_out)\n",
                "    size_in = len(q_in[q_str_in[0]])\n",
                "    size_out = len(q_out[q_str_out[0]])\n",
                "    operator = np.zeros((size_out,size_in))\n",
                "    for i in range(size_out):\n",
                "        for j in range(size_in):\n",
                "            state_out = {q+'0':q_out[q][i] for q in q_out}\n",
                "            state_in = {q+'1':q_in[q][j] for q in q_in}\n",
                "            q_args = {**state_out,**state_in}\n",
                "            operator[i,j] = matrix_element(**q_args)\n",
                "            if symbolic:\n",
                "                operator[i,j] = sy.nsimplify(operator[i,j])\n",
                "    if symbolic:\n",
                "        operator = sy.Matrix(operator)\n",
                "    return operator\n",
                "\n",
                "def decouple_b(input_qnumbers,output_qnumbers,S=1/2,I=1/2):\n",
                "    input_keys = list(input_qnumbers)\n",
                "    output_keys = list(output_qnumbers)\n",
                "    input_size = len(input_qnumbers[input_keys[0]])\n",
                "    output_size = len(output_qnumbers[output_keys[0]])\n",
                "    basis_matrix = np.zeros((output_size,input_size)).tolist()\n",
                "    for i in range(output_size):\n",
                "        for j in range(input_size):\n",
                "            decoupled_qnumbers = {q:output_qnumbers[q][i] for q in output_keys}\n",
                "            b_qnumbers = {q:input_qnumbers[q][j] for q in input_keys}\n",
                "            basis_matrix[i][j] = sy.nsimplify(decouple_b_even(decoupled_qnumbers,b_qnumbers,S=S,I=I))\n",
                "    return basis_matrix\n",
                "\n",
                "B,gamma,gammap, bF,c,b,q_lD,muE,muB,g_S,g_L = sy.symbols('B_{rot} gamma gamma^\\' b_F c b q_{lD} D mu_B g_S g_L')\n",
                "params_40X010 = {\n",
                "'Be': B,\n",
                "'Gamma_SR': gamma,\n",
                "'Gamma_Prime': gammap,\n",
                "'bF': 0,\n",
                "'c': 0,\n",
                "'b': b,\n",
                "'q_lD': q_lD,\n",
                "'muE': muE,\n",
                "'mu_B': muB, #MHz/Gauss\n",
                "'g_S': g_S,\n",
                "'g_L': g_L,\n",
                "}\n",
                "\n",
                "bBJ_even_X_matrix_elements={\n",
                "# Fine Structure\n",
                "'N^2': me.Rot_bBJ,                 # N^2 Rotation\n",
                "'N.S': me.SR_bBJ,                  # N.S Spin Rotation\n",
                "'l-doubling': me.lD_bBJ,           # Effective l doubling\n",
                "'l doubling p':me.p_lD_bBJ,\n",
                "'l doubling q':me.q_lD_bBJ,\n",
                "'NzSz': me.NzSz_bBJ,               # NzSz for bending mode\n",
                "\n",
                "# Hydrogen Hyperfine\n",
                "'I.S': me.IS_bBJ,                  # I.S Fermi Contact Interaction\n",
                "'T2_0(I,S)': me.T2IS_bBJ,          # I S dipolar interaction\n",
                "'Iz': me.Iz_bBJ,                   # I.n projection of I on internuclear axis n\n",
                "'Sz': me.Sz_bBJ,                   # S.n projection of S on internuclear axis n\n",
                "}\n",
                "\n",
                "def Parity_b(K0,N0,J0,F0,M0,K1,N1,J1,F1,M1,S=1/2,I=1/2):\n",
                "    if not kronecker(N0,N1)*kronecker(M0,M1)*kronecker(J0,J1)*kronecker(F0,F1):\n",
                "        return 0\n",
                "    elif K1!=-K0:\n",
                "        return 0\n",
                "    else:\n",
                "        return (-1)**(N0-abs(K0))\n",
                "\n",
                "def Parity_a(K0,Sigma0,P0,J0,F0,M0,K1,Sigma1,P1,J1,F1,M1,S=1/2,I=1/2):\n",
                "    return (-1)**(J0-S-abs(K0))*kronecker(K0,-K1)*kronecker(Sigma0,-Sigma1)*kronecker(P0,-P1)*kronecker(J0,J1)*kronecker(F0,F1)*kronecker(M0,M1)\n",
                "\n",
                "def convert_abBJ(input_qnumbers,output_qnumbers,S=1/2,sym=True):\n",
                "    input_keys = list(input_qnumbers)\n",
                "    output_keys = list(output_qnumbers)\n",
                "    input_size = len(input_qnumbers[input_keys[0]])\n",
                "    output_size = len(output_qnumbers[output_keys[0]])\n",
                "    basis_matrix = np.zeros((output_size,input_size))\n",
                "    for i in range(output_size):\n",
                "        for j in range(input_size):\n",
                "            if 'N' in input_keys: #Convert case (b) to (a)\n",
                "                a_qnumbers = {q:output_qnumbers[q][i] for q in output_keys}\n",
                "                b_qnumbers = {q:input_qnumbers[q][j] for q in input_keys}\n",
                "            else:\n",
                "                b_qnumbers = {q:output_qnumbers[q][i] for q in output_keys}\n",
                "                a_qnumbers = {q:input_qnumbers[q][j] for q in input_keys}\n",
                "            basis_matrix[i,j] = b2a_matrix(a_qnumbers,b_qnumbers,S=S)\n",
                "    if sym:\n",
                "        basis_matrix = sy.Matrix(basis_matrix)\n",
                "    return basis_matrix\n",
                "\n",
                "def b2a_matrix(a,b,S=1/2):\n",
                "    if not kronecker(a['K'],b['K'])*kronecker(a['J'],b['J'])*kronecker(a['F'],b['F'])*kronecker(a['M'],b['M']):\n",
                "        return 0\n",
                "    else:\n",
                "        if 'F1' in b.keys():\n",
                "            if not kronecker(a['F1'],b['F1']):\n",
                "                return 0\n",
                "        return (-1)**(b['N']-S+a['P'])*np.sqrt(2*b['N']+1)*wigner_3j(a['J'],S,b['N'],a['P'],-a['Sigma'],-a['K'])\n",
                "\n",
                "def TDM_noM(K0,Sigma0,P0,J0,F0,M0,K1,Sigma1,P1,J1,F1,M1,S=1/2,I=1/2):\n",
                "    if not kronecker(Sigma0,Sigma1):\n",
                "        return 0\n",
                "    elif not (kronecker(F0,F1) or kronecker(F0+1,F1) or kronecker(F0-1,F1)):\n",
                "        return 0\n",
                "    else:\n",
                "        TDM_total = 1/np.sqrt((2*F1+1))*sum([\n",
                "                        (-1)**(F1+J0+I+1)*sy.sqrt((2*F0+1)*(2*F1+1))*\\\n",
                "                            wigner_6j(J1,F1,I,F0,J0,1)*(-1)**(J0-P0)*sy.sqrt((2*J0+1)*(2*J1+1))*wigner_3j(J0,1,J1,-P0,q,P1)\\\n",
                "                            for q in range(-1,2)])\n",
                "        return sy.nsimplify(TDM_total)"
            ]
        },
        {
            "cell_type": "code",
            "execution_count": 92,
            "id": "09367bb6",
            "metadata": {},
            "outputs": [],
            "source": [
                "def TDM_b(K0,N0,J0,F0,M0,K1,N1,J1,F1,M1,S=1/2,sym=False):\n",
                "    if sym:\n",
                "        return (sy.nsimplify(1/(sy.sqrt(2*J1+1))*(-1)**(J1+N1+1+S)*sy.sqrt((2*J0+1)*(2*J1+1))*wigner_6j(N1,J1,S,J0,N0,1)*(-1)**(N0-K0)*wigner_3j(N0,1,N1,-K0,0,K1)))**2\n",
                "    else:\n",
                "        return (1/(np.sqrt(2*J1+1))*(-1)**(J1+N1+1+S)*np.sqrt((2*J0+1)*(2*J1+1))*wigner_6j(N1,J1,S,J0,N0,1)*(-1)**(N0-K0)*wigner_3j(N0,1,N1,-K0,0,K1))**2\n"
            ]
        },
        {
            "cell_type": "code",
            "execution_count": 93,
            "id": "3f55ac63",
            "metadata": {},
            "outputs": [],
            "source": [
                "def q_numbers_even_bBJ(N_range,K_mag,S=1/2,I_list=[0,1/2],M_values='all',M_range=[]):\n",
                "    IM=I_list[0]\n",
                "    iH = I_list[-1]\n",
                "    Nmin,Nmax=N_range[0],N_range[-1]\n",
                "    K_mag = abs(K_mag)\n",
                "    if Nmin<K_mag:\n",
                "        print('Nmin must be >= |K|')\n",
                "        Nmin=abs(K_mag)\n",
                "    q_str = ['K','N','J','F','M']\n",
                "    I = max(IM,iH)\n",
                "    q_numbers = {}\n",
                "    for q in q_str:\n",
                "        q_numbers[q] = []\n",
                "    for N in np.arange(Nmin,Nmax+1,1):\n",
                "        for J in np.arange(abs(N-S),abs(N+S)+1,1):\n",
                "            for F in np.arange(abs(J-I),abs(J+I)+1,1):\n",
                "                if M_values=='none':\n",
                "                    for K in {True:[0], False:[-K_mag,K_mag]}[K_mag==0]:\n",
                "                        M=abs(F)%1\n",
                "                        values = [K,N,J,F,M]\n",
                "                        for q,val in zip(q_str,values):\n",
                "                            q_numbers[q].append(val+0)    #looks weird but adding 0 converts -0 to 0\n",
                "                else:\n",
                "                    if M_values=='all' or M_values=='custom':\n",
                "                        Mmin = -F\n",
                "                    elif M_values=='pos':\n",
                "                        Mmin = abs(F) % 1\n",
                "                    for M in np.arange(Mmin,F+1,1):\n",
                "                        if (M_values=='custom' and M in M_range) or (M_values=='all') or (M_values=='pos'):\n",
                "                            for K in {True:[0], False:[-K_mag,K_mag]}[K_mag==0]:\n",
                "                                values = [K,N,J,F,M]\n",
                "                                for q,val in zip(q_str,values):\n",
                "                                    q_numbers[q].append(val+0)    #looks weird but adding 0 converts -0 to 0\n",
                "                        elif M_values=='custom' and M not in M_range:\n",
                "                            continue\n",
                "    return q_numbers\n",
                "\n",
                "def q_numbers_even_aBJ(N_range,K_mag=1,S=1/2,I_list=[0,1/2],M_values='all',P_values=[1/2],M_range=[]):\n",
                "    IM=I_list[0]\n",
                "    iH = I_list[-1]\n",
                "    Nmin,Nmax=N_range[0],N_range[-1]\n",
                "    Jmin = abs(Nmin-S)\n",
                "    Jmax = abs(Nmax+S)\n",
                "    K_mag = abs(K_mag)\n",
                "    if Nmin<K_mag:\n",
                "        print('Nmin must be >= |K|')\n",
                "        Nmin=abs(K_mag)\n",
                "    q_str = ['K','Sigma','P','J','F','M']\n",
                "    q_numbers = {}\n",
                "    for q in q_str:\n",
                "        q_numbers[q] = []\n",
                "    I = max(IM,iH)\n",
                "    for J in np.arange(Jmin,Jmax+1,1):\n",
                "        for F in np.arange(abs(J-I),abs(J+I)+1,1):\n",
                "            if M_values=='none':\n",
                "                for Sigma in np.arange(-abs(S),abs(S)+1,1):\n",
                "                    for K in {True:[0], False:[-K_mag,K_mag]}[K_mag==0]:\n",
                "                        P=K+Sigma\n",
                "                        if abs(P) not in P_values:\n",
                "                            continue\n",
                "                        elif J < abs(P):\n",
                "                            continue\n",
                "                        else:\n",
                "                            M=abs(F)%1\n",
                "                            values = [K,Sigma,P,J,F,M]\n",
                "                        for q,val in zip(q_str,values):\n",
                "                            q_numbers[q].append(val+0)    #looks weird but adding 0 converts -0 to 0\n",
                "            else:\n",
                "                if M_values=='all' or M_values=='custom':\n",
                "                    Mmin = -F\n",
                "                elif M_values=='pos':\n",
                "                    Mmin = abs(F) % 1\n",
                "                for M in np.arange(Mmin,F+1,1):\n",
                "                    if (M_values=='custom' and M in M_range) or (M_values=='all') or (M_values=='pos'):\n",
                "                        for Sigma in np.arange(-abs(S),abs(S)+1,1):\n",
                "                            for K in {True:[0], False:[-K_mag,K_mag]}[K_mag==0]:\n",
                "                                P=K+Sigma\n",
                "                                if abs(P) not in P_values:\n",
                "                                    continue\n",
                "                                elif J < abs(P):\n",
                "                                    continue\n",
                "                                else:\n",
                "                                    values = [K,Sigma,P,J,F,M]\n",
                "                                for q,val in zip(q_str,values):\n",
                "                                    q_numbers[q].append(val+0)    #looks weird but adding 0 converts -0 to 0\n",
                "                    elif M_values=='custom' and M not in M_range:\n",
                "                        continue\n",
                "    return q_numbers"
            ]
        },
        {
            "cell_type": "code",
            "execution_count": 317,
            "id": "fbbc753f",
            "metadata": {},
            "outputs": [],
            "source": [
                "qa_X010 = q_numbers_even_aBJ([1,2,3],1,I_list=[0,0],M_values='none')\n",
                "qa_B010 = q_numbers_even_aBJ([1,2,3],1,I_list=[0,0],M_values='none')"
            ]
        },
        {
            "cell_type": "code",
            "execution_count": 318,
            "id": "329acf06",
            "metadata": {},
            "outputs": [],
            "source": [
                "qb_X010 = q_numbers_even_bBJ([1,2,3],1,I_list=[0,0],M_values='none')\n",
                "qb_B010 = q_numbers_even_bBJ([1,2,3],1,I_list=[0,0],M_values='none')"
            ]
        },
        {
            "cell_type": "code",
            "execution_count": 319,
            "id": "db5d3d67",
            "metadata": {},
            "outputs": [],
            "source": [
                "TDM = build_operator(qa_X010,qa_B010,partial(TDM_noM,I=0))\n",
                "Pa = build_operator(qa_X010,qa_X010,Parity_a,symbolic=True)\n",
                "Pb = build_operator(qb_X010,qb_X010,Parity_b,symbolic=True)"
            ]
        },
        {
            "cell_type": "code",
            "execution_count": 320,
            "id": "ec2146e3",
            "metadata": {},
            "outputs": [],
            "source": [
                "b2a = convert_abBJ(qb_X010,qa_X010)\n",
                "b2a = np.array(b2a).astype(np.float64)"
            ]
        },
        {
            "cell_type": "code",
            "execution_count": 321,
            "id": "659ce8cb",
            "metadata": {},
            "outputs": [],
            "source": [
                "TDM = np.array(TDM).astype(np.float64)"
            ]
        },
        {
            "cell_type": "code",
            "execution_count": 322,
            "id": "72db0244",
            "metadata": {},
            "outputs": [
                {
                    "data": {
                        "text/plain": [
                            "{'K': [1, -1, 1, -1, 1, -1, 1, -1],\n",
                            " 'Sigma': [-0.5, 0.5, -0.5, 0.5, -0.5, 0.5, -0.5, 0.5],\n",
                            " 'P': [0.5, -0.5, 0.5, -0.5, 0.5, -0.5, 0.5, -0.5],\n",
                            " 'J': [0.5, 0.5, 1.5, 1.5, 2.5, 2.5, 3.5, 3.5],\n",
                            " 'F': [0.5, 0.5, 1.5, 1.5, 2.5, 2.5, 3.5, 3.5],\n",
                            " 'M': [0.5, 0.5, 0.5, 0.5, 0.5, 0.5, 0.5, 0.5]}"
                        ]
                    },
                    "execution_count": 322,
                    "metadata": {},
                    "output_type": "execute_result"
                }
            ],
            "source": [
                "qa_X010"
            ]
        },
        {
            "cell_type": "code",
            "execution_count": 323,
            "id": "dbd89011",
            "metadata": {},
            "outputs": [],
            "source": [
                "Pamat, parities_a = [np.array(out).astype(np.float64) for out in Pa.diagonalize()]\n",
                "Pbmat, parities_b = [np.array(out).astype(np.float64) for out in Pb.diagonalize()]"
            ]
        },
        {
            "cell_type": "code",
            "execution_count": 324,
            "id": "878e3822",
            "metadata": {},
            "outputs": [],
            "source": [
                "Painv = (np.linalg.inv(Pamat))\n",
                "Pbinv = (np.linalg.inv(Pbmat))"
            ]
        },
        {
            "cell_type": "code",
            "execution_count": 330,
            "id": "e303a867",
            "metadata": {},
            "outputs": [],
            "source": [
                "b2a_parity_BR=(Pbinv@b2a.T@TDM@b2a@Pbmat)**2"
            ]
        },
        {
            "cell_type": "code",
            "execution_count": 331,
            "id": "1753f14f",
            "metadata": {},
            "outputs": [],
            "source": [
                "pa_val = np.diag(parities_a)\n",
                "pb_val = np.diag(parities_b)"
            ]
        },
        {
            "cell_type": "code",
            "execution_count": 332,
            "id": "6fba80b3",
            "metadata": {},
            "outputs": [
                {
                    "data": {
                        "text/plain": [
                            "(12, 8)"
                        ]
                    },
                    "execution_count": 332,
                    "metadata": {},
                    "output_type": "execute_result"
                }
            ],
            "source": [
                "BR_plot.shape"
            ]
        },
        {
            "cell_type": "code",
            "execution_count": 333,
            "id": "2a6cf8b3",
            "metadata": {},
            "outputs": [
                {
                    "data": {
                        "text/plain": [
                            "'ℙ'"
                        ]
                    },
                    "execution_count": 333,
                    "metadata": {},
                    "output_type": "execute_result"
                }
            ],
            "source": [
                "'\\u2119'"
            ]
        },
        {
            "cell_type": "code",
            "execution_count": 334,
            "id": "f4dd97d2",
            "metadata": {},
            "outputs": [],
            "source": [
                "qa_X010['Par']=pa_val\n",
                "qb_X010['Par']=pb_val"
            ]
        },
        {
            "cell_type": "code",
            "execution_count": 328,
            "id": "c2d18558",
            "metadata": {},
            "outputs": [
                {
                    "ename": "IndexError",
                    "evalue": "list index out of range",
                    "output_type": "error",
                    "traceback": [
                        "\u001b[1;31m---------------------------------------------------------------------------\u001b[0m",
                        "\u001b[1;31mIndexError\u001b[0m                                Traceback (most recent call last)",
                        "\u001b[1;32m~\\AppData\\Local\\Temp/ipykernel_14716/1921966257.py\u001b[0m in \u001b[0;36m<module>\u001b[1;34m\u001b[0m\n\u001b[1;32m----> 1\u001b[1;33m \u001b[1;33m[\u001b[0m\u001b[1;34m', '\u001b[0m\u001b[1;33m.\u001b[0m\u001b[0mjoin\u001b[0m\u001b[1;33m(\u001b[0m\u001b[1;33m[\u001b[0m\u001b[1;33m(\u001b[0m\u001b[0mk\u001b[0m\u001b[1;33m+\u001b[0m\u001b[1;34m'={}'\u001b[0m\u001b[1;33m.\u001b[0m\u001b[0mformat\u001b[0m\u001b[1;33m(\u001b[0m\u001b[0mv\u001b[0m\u001b[1;33m[\u001b[0m\u001b[0mi\u001b[0m\u001b[1;33m]\u001b[0m\u001b[1;33m)\u001b[0m\u001b[1;33m)\u001b[0m \u001b[1;32mfor\u001b[0m \u001b[0mk\u001b[0m\u001b[1;33m,\u001b[0m\u001b[0mv\u001b[0m \u001b[1;32min\u001b[0m \u001b[0mqa_X010\u001b[0m\u001b[1;33m.\u001b[0m\u001b[0mitems\u001b[0m\u001b[1;33m(\u001b[0m\u001b[1;33m)\u001b[0m \u001b[1;32mif\u001b[0m \u001b[1;33m(\u001b[0m\u001b[0mk\u001b[0m\u001b[1;33m==\u001b[0m\u001b[1;34m'J'\u001b[0m \u001b[1;32mor\u001b[0m \u001b[0mk\u001b[0m\u001b[1;33m==\u001b[0m\u001b[1;34m'N'\u001b[0m \u001b[1;32mor\u001b[0m \u001b[0mk\u001b[0m\u001b[1;33m==\u001b[0m\u001b[1;34m'Par'\u001b[0m\u001b[1;33m)\u001b[0m\u001b[1;33m]\u001b[0m\u001b[1;33m)\u001b[0m \u001b[1;32mfor\u001b[0m \u001b[0mi\u001b[0m \u001b[1;32min\u001b[0m \u001b[0mrange\u001b[0m\u001b[1;33m(\u001b[0m\u001b[1;36m10\u001b[0m\u001b[1;33m)\u001b[0m\u001b[1;33m]\u001b[0m\u001b[1;33m[\u001b[0m\u001b[1;36m0\u001b[0m\u001b[1;33m]\u001b[0m\u001b[1;33m\u001b[0m\u001b[1;33m\u001b[0m\u001b[0m\n\u001b[0m",
                        "\u001b[1;32m~\\AppData\\Local\\Temp/ipykernel_14716/1921966257.py\u001b[0m in \u001b[0;36m<listcomp>\u001b[1;34m(.0)\u001b[0m\n\u001b[1;32m----> 1\u001b[1;33m \u001b[1;33m[\u001b[0m\u001b[1;34m', '\u001b[0m\u001b[1;33m.\u001b[0m\u001b[0mjoin\u001b[0m\u001b[1;33m(\u001b[0m\u001b[1;33m[\u001b[0m\u001b[1;33m(\u001b[0m\u001b[0mk\u001b[0m\u001b[1;33m+\u001b[0m\u001b[1;34m'={}'\u001b[0m\u001b[1;33m.\u001b[0m\u001b[0mformat\u001b[0m\u001b[1;33m(\u001b[0m\u001b[0mv\u001b[0m\u001b[1;33m[\u001b[0m\u001b[0mi\u001b[0m\u001b[1;33m]\u001b[0m\u001b[1;33m)\u001b[0m\u001b[1;33m)\u001b[0m \u001b[1;32mfor\u001b[0m \u001b[0mk\u001b[0m\u001b[1;33m,\u001b[0m\u001b[0mv\u001b[0m \u001b[1;32min\u001b[0m \u001b[0mqa_X010\u001b[0m\u001b[1;33m.\u001b[0m\u001b[0mitems\u001b[0m\u001b[1;33m(\u001b[0m\u001b[1;33m)\u001b[0m \u001b[1;32mif\u001b[0m \u001b[1;33m(\u001b[0m\u001b[0mk\u001b[0m\u001b[1;33m==\u001b[0m\u001b[1;34m'J'\u001b[0m \u001b[1;32mor\u001b[0m \u001b[0mk\u001b[0m\u001b[1;33m==\u001b[0m\u001b[1;34m'N'\u001b[0m \u001b[1;32mor\u001b[0m \u001b[0mk\u001b[0m\u001b[1;33m==\u001b[0m\u001b[1;34m'Par'\u001b[0m\u001b[1;33m)\u001b[0m\u001b[1;33m]\u001b[0m\u001b[1;33m)\u001b[0m \u001b[1;32mfor\u001b[0m \u001b[0mi\u001b[0m \u001b[1;32min\u001b[0m \u001b[0mrange\u001b[0m\u001b[1;33m(\u001b[0m\u001b[1;36m10\u001b[0m\u001b[1;33m)\u001b[0m\u001b[1;33m]\u001b[0m\u001b[1;33m[\u001b[0m\u001b[1;36m0\u001b[0m\u001b[1;33m]\u001b[0m\u001b[1;33m\u001b[0m\u001b[1;33m\u001b[0m\u001b[0m\n\u001b[0m",
                        "\u001b[1;32m~\\AppData\\Local\\Temp/ipykernel_14716/1921966257.py\u001b[0m in \u001b[0;36m<listcomp>\u001b[1;34m(.0)\u001b[0m\n\u001b[1;32m----> 1\u001b[1;33m \u001b[1;33m[\u001b[0m\u001b[1;34m', '\u001b[0m\u001b[1;33m.\u001b[0m\u001b[0mjoin\u001b[0m\u001b[1;33m(\u001b[0m\u001b[1;33m[\u001b[0m\u001b[1;33m(\u001b[0m\u001b[0mk\u001b[0m\u001b[1;33m+\u001b[0m\u001b[1;34m'={}'\u001b[0m\u001b[1;33m.\u001b[0m\u001b[0mformat\u001b[0m\u001b[1;33m(\u001b[0m\u001b[0mv\u001b[0m\u001b[1;33m[\u001b[0m\u001b[0mi\u001b[0m\u001b[1;33m]\u001b[0m\u001b[1;33m)\u001b[0m\u001b[1;33m)\u001b[0m \u001b[1;32mfor\u001b[0m \u001b[0mk\u001b[0m\u001b[1;33m,\u001b[0m\u001b[0mv\u001b[0m \u001b[1;32min\u001b[0m \u001b[0mqa_X010\u001b[0m\u001b[1;33m.\u001b[0m\u001b[0mitems\u001b[0m\u001b[1;33m(\u001b[0m\u001b[1;33m)\u001b[0m \u001b[1;32mif\u001b[0m \u001b[1;33m(\u001b[0m\u001b[0mk\u001b[0m\u001b[1;33m==\u001b[0m\u001b[1;34m'J'\u001b[0m \u001b[1;32mor\u001b[0m \u001b[0mk\u001b[0m\u001b[1;33m==\u001b[0m\u001b[1;34m'N'\u001b[0m \u001b[1;32mor\u001b[0m \u001b[0mk\u001b[0m\u001b[1;33m==\u001b[0m\u001b[1;34m'Par'\u001b[0m\u001b[1;33m)\u001b[0m\u001b[1;33m]\u001b[0m\u001b[1;33m)\u001b[0m \u001b[1;32mfor\u001b[0m \u001b[0mi\u001b[0m \u001b[1;32min\u001b[0m \u001b[0mrange\u001b[0m\u001b[1;33m(\u001b[0m\u001b[1;36m10\u001b[0m\u001b[1;33m)\u001b[0m\u001b[1;33m]\u001b[0m\u001b[1;33m[\u001b[0m\u001b[1;36m0\u001b[0m\u001b[1;33m]\u001b[0m\u001b[1;33m\u001b[0m\u001b[1;33m\u001b[0m\u001b[0m\n\u001b[0m",
                        "\u001b[1;31mIndexError\u001b[0m: list index out of range"
                    ]
                }
            ],
            "source": [
                "[', '.join([(k+'={}'.format(v[i])) for k,v in qa_X010.items() if (k=='J' or k=='N' or k=='Par')]) for i in range(10)][0]"
            ]
        },
        {
            "cell_type": "code",
            "execution_count": 336,
            "id": "a870ebef",
            "metadata": {},
            "outputs": [
                {
                    "name": "stderr",
                    "output_type": "stream",
                    "text": [
                        "C:\\ProgramData\\Anaconda3\\lib\\site-packages\\ipykernel_launcher.py:30: MatplotlibDeprecationWarning: Auto-removal of grids by pcolor() and pcolormesh() is deprecated since 3.5 and will be removed two minor releases later; please call grid(False) first.\n"
                    ]
                }
            ],
            "source": [
                "fig,ax = plt.subplots(figsize=(10,10),constrained_layout=True)\n",
                "BR_plot = b2a_parity_BR\n",
                "log=False\n",
                "if log:\n",
                "    BR_plot=np.log10(BR0)\n",
                "    vmin = -10\n",
                "    vmax = 0\n",
                "else:\n",
                "    vmin=None\n",
                "    vmax = None\n",
                "#     log_BR = np.copy(BR0)\n",
                "#     for i,val1 in enumerate(log_BR):\n",
                "#         for j,val2 in enumerate(val1):\n",
                "#             if val2 !=0:\n",
                "#                 log_BR[i,j] = np.log10(val2)\n",
                "#     BR_plot = log_BR\n",
                "mat = ax.matshow(BR_plot,cmap=plt.get_cmap('hot'),vmax = vmax, vmin = 0)\n",
                "y,x = BR_plot.shape\n",
                "ax.set_yticks(np.arange(0,y))\n",
                "ax.set_xticks(np.arange(0,x))\n",
                "y_labels = [', '.join([(k+'={}'.format(v[i])) for k,v in qb_X010.items() if (k=='J' or k=='N' or k=='Par')]) for i in range(y)]\n",
                "x_labels = [', '.join([(k+'={}'.format(v[i])) for k,v in qb_X010.items() if (k=='J' or k=='N' or k=='Par')]) for i in range(x)]\n",
                "ax.set_yticklabels(y_labels, rotation='40', fontsize=12, ha='right')\n",
                "ax.set_xticklabels(x_labels, rotation='40', fontsize=12,ha='left')\n",
                "ax.tick_params(axis='both',labelsize=14,direction='out')\n",
                "ax.grid(True,which='major',color='white',ls='--',linewidth=0.5)\n",
                "ax.grid(False,which='minor')\n",
                "(bot,top) = ax.get_ylim()\n",
                "# ax.set_ylim(bot+0.5, top-0.5)\n",
                "cbar = fig.colorbar(mat, ax=ax,fraction=0.015, pad=0.05)\n",
                "#ax.set_xlim(-0.5,x.size+0.5);"
            ]
        },
        {
            "cell_type": "code",
            "execution_count": 255,
            "id": "b40884aa",
            "metadata": {},
            "outputs": [],
            "source": [
                "y_labels = list(qb_X010.items())"
            ]
        },
        {
            "cell_type": "code",
            "execution_count": 256,
            "id": "896fd624",
            "metadata": {},
            "outputs": [
                {
                    "data": {
                        "text/plain": [
                            "[('K', [-1, 1, -1, 1, -1, 1, -1, 1]),\n",
                            " ('N', [1, 1, 1, 1, 2, 2, 2, 2]),\n",
                            " ('J', [0.5, 0.5, 1.5, 1.5, 1.5, 1.5, 2.5, 2.5]),\n",
                            " ('F', [0.5, 0.5, 1.5, 1.5, 1.5, 1.5, 2.5, 2.5]),\n",
                            " ('M', [0.5, 0.5, 0.5, 0.5, 0.5, 0.5, 0.5, 0.5])]"
                        ]
                    },
                    "execution_count": 256,
                    "metadata": {},
                    "output_type": "execute_result"
                }
            ],
            "source": [
                "y_labels"
            ]
        },
        {
            "cell_type": "code",
            "execution_count": 236,
            "id": "9a3868aa",
            "metadata": {},
            "outputs": [
                {
                    "data": {
                        "text/plain": [
                            "<matplotlib.image.AxesImage at 0x2b52cc6ea88>"
                        ]
                    },
                    "execution_count": 236,
                    "metadata": {},
                    "output_type": "execute_result"
                },
                {
                    "data": {
                        "image/png": "[encoded data removed]",
                        "text/plain": [
                            "<Figure size 432x288 with 1 Axes>"
                        ]
                    },
                    "metadata": {},
                    "output_type": "display_data"
                }
            ],
            "source": [
                "plt.imshow(b2a_parity_BR)"
            ]
        },
        {
            "cell_type": "code",
            "execution_count": null,
            "id": "b9c36a4b",
            "metadata": {},
            "outputs": [],
            "source": []
        },
        {
            "cell_type": "code",
            "execution_count": null,
            "id": "482ab304",
            "metadata": {},
            "outputs": [],
            "source": [
                "\n",
                "\n",
                "M_values='none'\n",
                "iH=0\n",
                "\n",
                "if M_values != 'none':\n",
                "    ext_fields = {\n",
                "    # External Fields\n",
                "    'ZeemanZ': me.ZeemanZ_bBJ,         # Zeeman interaction with lab z magnetic field\n",
                "    'StarkZ': me.StarkZ_bBJ            # Stark interaction with lab z electric field\n",
                "    }\n",
                "    bBJ_even_X_matrix_elements.update(ext_fields)\n",
                "for term,element in bBJ_even_X_matrix_elements.items():       #iterate through, substitute hydrogen proton value\n",
                "    bBJ_even_X_matrix_elements[term] = partial(element,I=iH)"
            ]
        },
        {
            "cell_type": "code",
            "execution_count": 14,
            "id": "f860b7f0",
            "metadata": {},
            "outputs": [
                {
                    "name": "stdout",
                    "output_type": "stream",
                    "text": [
                        "Cannot construct decoupled basis without M values\n"
                    ]
                }
            ],
            "source": [
                "X010 = MoleculeLevels.initialize_state('CaOH','40','X010',[1,2,3],M_values = 'none',I=[0,0],S=1/2,round=8)\n",
                "op = partial(build_operator,X010.q_numbers,X010.q_numbers,symbolic=True)"
            ]
        },
        {
            "cell_type": "code",
            "execution_count": 5,
            "id": "83e8ad76",
            "metadata": {},
            "outputs": [],
            "source": [
                "P = op(Parity)"
            ]
        },
        {
            "cell_type": "code",
            "execution_count": 6,
            "id": "2588d9cd",
            "metadata": {},
            "outputs": [],
            "source": [
                "lD = op(bBJ_even_X_matrix_elements['l doubling q'])*q_lD"
            ]
        },
        {
            "cell_type": "code",
            "execution_count": 7,
            "id": "276be68a",
            "metadata": {},
            "outputs": [],
            "source": [
                "lD_eff = lD = op(bBJ_even_X_matrix_elements['l-doubling'])*q_lD"
            ]
        },
        {
            "cell_type": "code",
            "execution_count": 8,
            "id": "a068a844",
            "metadata": {},
            "outputs": [
                {
                    "data": {
                        "text/latex": [
                            "$\\displaystyle \\left[\\begin{matrix}0 & - 2.0 q_{lD} & 0 & 0\\\\- 2.0 q_{lD} & 0 & 0 & 0\\\\0 & 0 & 0 & - 2.0 q_{lD}\\\\0 & 0 & - 2.0 q_{lD} & 0\\end{matrix}\\right]$"
                        ],
                        "text/plain": [
                            "Matrix([\n",
                            "[          0, -2.0*q_{lD},           0,           0],\n",
                            "[-2.0*q_{lD},           0,           0,           0],\n",
                            "[          0,           0,           0, -2.0*q_{lD}],\n",
                            "[          0,           0, -2.0*q_{lD},           0]])"
                        ]
                    },
                    "execution_count": 8,
                    "metadata": {},
                    "output_type": "execute_result"
                }
            ],
            "source": [
                "lD_eff"
            ]
        },
        {
            "cell_type": "code",
            "execution_count": 9,
            "id": "617bb78b",
            "metadata": {},
            "outputs": [
                {
                    "data": {
                        "text/latex": [
                            "$\\displaystyle \\left[\\begin{matrix}0 & - 2.0 q_{lD} & 0 & 0\\\\- 2.0 q_{lD} & 0 & 0 & 0\\\\0 & 0 & 0 & - 2.0 q_{lD}\\\\0 & 0 & - 2.0 q_{lD} & 0\\end{matrix}\\right]$"
                        ],
                        "text/plain": [
                            "Matrix([\n",
                            "[          0, -2.0*q_{lD},           0,           0],\n",
                            "[-2.0*q_{lD},           0,           0,           0],\n",
                            "[          0,           0,           0, -2.0*q_{lD}],\n",
                            "[          0,           0, -2.0*q_{lD},           0]])"
                        ]
                    },
                    "execution_count": 9,
                    "metadata": {},
                    "output_type": "execute_result"
                }
            ],
            "source": [
                "lD"
            ]
        },
        {
            "cell_type": "code",
            "execution_count": 45,
            "id": "3900d779",
            "metadata": {},
            "outputs": [
                {
                    "data": {
                        "text/latex": [
                            "$\\displaystyle - \\frac{\\sqrt{2}}{2}$"
                        ],
                        "text/plain": [
                            "-sqrt(2)/2"
                        ]
                    },
                    "execution_count": 45,
                    "metadata": {},
                    "output_type": "execute_result"
                }
            ],
            "source": [
                "vec = X010.evecs0()"
            ]
        },
        {
            "cell_type": "code",
            "execution_count": null,
            "id": "424f90f3",
            "metadata": {},
            "outputs": [],
            "source": []
        }
    ],
    "metadata": {
        "kernelspec": {
            "display_name": "Python 3 (ipykernel)",
            "language": "python",
            "name": "python3"
        },
        "language_info": {
            "codemirror_mode": {
                "name": "ipython",
                "version": 3
            },
            "file_extension": ".py",
            "mimetype": "text/x-python",
            "name": "python",
            "nbconvert_exporter": "python",
            "pygments_lexer": "ipython3",
            "version": "3.7.13"
        }
    },
    "nbformat": 4,
    "nbformat_minor": 5
}
