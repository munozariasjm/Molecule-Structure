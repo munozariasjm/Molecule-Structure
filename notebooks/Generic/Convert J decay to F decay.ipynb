{
 "cells": [
  {
   "cell_type": "code",
   "execution_count": 1,
   "id": "43b5d15b",
   "metadata": {},
   "outputs": [],
   "source": [
    "from config_path import add_to_sys_path\n",
    "add_to_sys_path()  # Call the function to add path\n",
    "\n",
    "import numpy as np\n",
    "from sympy.physics.wigner import wigner_3j,wigner_6j"
   ]
  },
  {
   "cell_type": "code",
   "execution_count": 17,
   "id": "2bd703f5",
   "metadata": {},
   "outputs": [],
   "source": [
    "def BRFF(BRJJ,Jg,Fg,Fe):\n",
    "    Je = 1/2\n",
    "    i = 1/2\n",
    "    BR = wigner_6j(Je, Fe, i, Fg, Jg, 1)**2 * (2*Fg + 1)*(2*Je + 1) * BRJJ\n",
    "    return float(BR)"
   ]
  },
  {
   "cell_type": "code",
   "execution_count": 39,
   "id": "7aaeaf9b",
   "metadata": {},
   "outputs": [
    {
     "name": "stdout",
     "output_type": "stream",
     "text": [
      "Decay from Fe=0 -> Fg=0, Jg=0.5 is 0.0\n",
      "Decay from Fe=1 -> Fg=0, Jg=0.5 is 0.111\n",
      "Avg decay is to Fg=0,Jg=0.5 is 0.083\n",
      "Decay from Fe=0 -> Fg=1, Jg=0.5 is 0.333\n",
      "Decay from Fe=1 -> Fg=1, Jg=0.5 is 0.222\n",
      "Avg decay is to Fg=1,Jg=0.5 is 0.25\n",
      "Decay from Fe=0 -> Fg=1, Jg=1.5 is 0.167\n",
      "Decay from Fe=1 -> Fg=1, Jg=1.5 is 0.028\n",
      "Avg decay is to Fg=1,Jg=1.5 is 0.062\n",
      "Decay from Fe=0 -> Fg=2, Jg=1.5 is 0.0\n",
      "Decay from Fe=1 -> Fg=2, Jg=1.5 is 0.139\n",
      "Avg decay is to Fg=2,Jg=1.5 is 0.104\n",
      "Decay from Fe=0 -> Fg=1, Jg=1.5 is 0.5\n",
      "Decay from Fe=1 -> Fg=1, Jg=1.5 is 0.083\n",
      "Avg decay is to Fg=1,Jg=1.5 is 0.188\n",
      "Decay from Fe=0 -> Fg=2, Jg=1.5 is 0.0\n",
      "Decay from Fe=1 -> Fg=2, Jg=1.5 is 0.417\n",
      "Avg decay is to Fg=2,Jg=1.5 is 0.312\n"
     ]
    }
   ],
   "source": [
    "BRJJ = [1/3,1/6,1/2]\n",
    "Jg = [1/2,3/2,3/2]\n",
    "Fe = [(0,1),(0,1),(0,1)]\n",
    "Fg = [(0,1),(1,2),(1,2)]\n",
    "\n",
    "for i,(_brjj,_jg) in enumerate(zip(BRJJ,Jg)):\n",
    "    for _fg in Fg[i]:\n",
    "        for _fe in Fe[i]:\n",
    "            _brff = BRFF(_brjj, _jg,_fg,_fe)\n",
    "            print('Decay from Fe={Fe} -> Fg={Fg}, Jg={Jg} is {br}'.format(Fe=_fe,Fg=_fg,Jg=_jg,br=np.round(_brff,3)))\n",
    "        avg = np.round((3*BRFF(_brjj, _jg,_fg,1)+BRFF(_brjj, _jg,_fg,0))/4,3)\n",
    "        print('Avg decay is to Fg={Fg},Jg={Jg} is {avg}'.format(Fg=_fg,Jg=_jg,avg=avg))"
   ]
  },
  {
   "cell_type": "code",
   "execution_count": 33,
   "id": "964460cd",
   "metadata": {},
   "outputs": [
    {
     "data": {
      "text/plain": [
       "0.0405"
      ]
     },
     "execution_count": 33,
     "metadata": {},
     "output_type": "execute_result"
    }
   ],
   "source": [
    "for br0,br1 in [(0,0.186),(0.558,0.372),(0.007)]"
   ]
  },
  {
   "cell_type": "code",
   "execution_count": 34,
   "id": "d278bdac",
   "metadata": {},
   "outputs": [
    {
     "data": {
      "text/plain": [
       "0.999"
      ]
     },
     "execution_count": 34,
     "metadata": {},
     "output_type": "execute_result"
    }
   ],
   "source": [
    "0.027+0.081+0.310+0.516+0.025+0.040"
   ]
  },
  {
   "cell_type": "code",
   "execution_count": 79,
   "id": "cb5c1c99",
   "metadata": {},
   "outputs": [],
   "source": [
    "def kronecker(a,b):         # Kronecker delta function\n",
    "    if a==b:\n",
    "        return 1\n",
    "    else:\n",
    "        return 0\n",
    "\n",
    "def b2a_matrix(a,b,S=1/2):\n",
    "    if not kronecker(a['K'],b['K'])*kronecker(a['J'],b['J'])*kronecker(a['F'],b['F'])*kronecker(a['M'],b['M']):\n",
    "        return 0\n",
    "    else:\n",
    "        if 'F1' in b.keys():\n",
    "            if not kronecker(a['F1'],b['F1']):\n",
    "                return 0\n",
    "        return (-1)**(b['N']-S+a['P'])*np.sqrt(2*b['N']+1)*wigner_3j(a['J'],S,b['N'],a['P'],-a['Sigma'],-a['K'])\n",
    "    \n",
    "def convert_abBJ(input_qnumbers,output_qnumbers,S=1/2):\n",
    "    input_keys = list(input_qnumbers)\n",
    "    output_keys = list(output_qnumbers)\n",
    "    input_size = len(input_qnumbers[input_keys[0]])\n",
    "    output_size = len(output_qnumbers[output_keys[0]])\n",
    "    basis_matrix = np.zeros((output_size,input_size))\n",
    "    for i in range(output_size):\n",
    "        for j in range(input_size):\n",
    "            if 'N' in input_keys: #Convert case (b) to (a)\n",
    "                a_qnumbers = {q:output_qnumbers[q][i] for q in output_keys}\n",
    "                b_qnumbers = {q:input_qnumbers[q][j] for q in input_keys}\n",
    "            else:\n",
    "                b_qnumbers = {q:output_qnumbers[q][i] for q in output_keys}\n",
    "                a_qnumbers = {q:input_qnumbers[q][j] for q in input_keys}\n",
    "            basis_matrix[i,j] = b2a_matrix(a_qnumbers,b_qnumbers,S=S)\n",
    "    return basis_matrix\n",
    "\n",
    "def q_numbers_even_bBJ(N_range,K_mag,S=1/2,I_list=[0,1/2],M_values='all',M_range=[]):\n",
    "    IM=I_list[0]\n",
    "    iH = I_list[-1]\n",
    "    Nmin,Nmax=N_range[0],N_range[-1]\n",
    "    K_mag = abs(K_mag)\n",
    "    if Nmin<K_mag:\n",
    "        print('Nmin must be >= |K|')\n",
    "        Nmin=abs(K_mag)\n",
    "    q_str = ['K','N','J','F','M']\n",
    "    I = max(IM,iH)\n",
    "    q_numbers = {}\n",
    "    for q in q_str:\n",
    "        q_numbers[q] = []\n",
    "    for N in np.arange(Nmin,Nmax+1,1):\n",
    "        for J in np.arange(abs(N-S),abs(N+S)+1,1):\n",
    "            for F in np.arange(abs(J-I),abs(J+I)+1,1):\n",
    "                if M_values=='none':\n",
    "                    for K in {True:[0], False:[-K_mag,K_mag]}[K_mag==0]:\n",
    "                        M=abs(F)%1\n",
    "                        values = [K,N,J,F,M]\n",
    "                        for q,val in zip(q_str,values):\n",
    "                            q_numbers[q].append(val+0)    #looks weird but adding 0 converts -0 to 0\n",
    "                else:\n",
    "                    if M_values=='all' or M_values=='custom':\n",
    "                        Mmin = -F\n",
    "                    elif M_values=='pos':\n",
    "                        Mmin = abs(F) % 1\n",
    "                    for M in np.arange(Mmin,F+1,1):\n",
    "                        if (M_values=='custom' and M in M_range) or (M_values=='all') or (M_values=='pos'):\n",
    "                            for K in {True:[0], False:[-K_mag,K_mag]}[K_mag==0]:\n",
    "                                values = [K,N,J,F,M]\n",
    "                                for q,val in zip(q_str,values):\n",
    "                                    q_numbers[q].append(val+0)    #looks weird but adding 0 converts -0 to 0\n",
    "                        elif M_values=='custom' and M not in M_range:\n",
    "                            continue\n",
    "    return q_numbers\n",
    "\n",
    "def q_numbers_even_aBJ(N_range,K_mag=1,S=1/2,I_list=[0,1/2],M_values='all',P_values=[1/2],M_range=[]):\n",
    "    IM=I_list[0]\n",
    "    iH = I_list[-1]\n",
    "    Nmin,Nmax=N_range[0],N_range[-1]\n",
    "    Jmin = abs(Nmin-S)\n",
    "    Jmax = abs(Nmax+S)\n",
    "    K_mag = abs(K_mag)\n",
    "    if Nmin<K_mag:\n",
    "        print('Nmin must be >= |K|')\n",
    "        Nmin=abs(K_mag)\n",
    "    q_str = ['K','Sigma','P','J','F','M']\n",
    "    q_numbers = {}\n",
    "    for q in q_str:\n",
    "        q_numbers[q] = []\n",
    "    I = max(IM,iH)\n",
    "    for J in np.arange(Jmin,Jmax+1,1):\n",
    "        for F in np.arange(abs(J-I),abs(J+I)+1,1):\n",
    "            if M_values=='none':\n",
    "                for Sigma in np.arange(-abs(S),abs(S)+1,1):\n",
    "                    for K in {True:[0], False:[-K_mag,K_mag]}[K_mag==0]:\n",
    "                        P=K+Sigma\n",
    "                        if abs(P) not in P_values:\n",
    "                            continue\n",
    "                        elif J < abs(P):\n",
    "                            continue\n",
    "                        else:\n",
    "                            M=abs(F)%1\n",
    "                            values = [K,Sigma,P,J,F,M]\n",
    "                        for q,val in zip(q_str,values):\n",
    "                            q_numbers[q].append(val+0)    #looks weird but adding 0 converts -0 to 0\n",
    "            else:\n",
    "                if M_values=='all' or M_values=='custom':\n",
    "                    Mmin = -F\n",
    "                elif M_values=='pos':\n",
    "                    Mmin = abs(F) % 1\n",
    "                for M in np.arange(Mmin,F+1,1):\n",
    "                    if (M_values=='custom' and M in M_range) or (M_values=='all') or (M_values=='pos'):\n",
    "                        for Sigma in np.arange(-abs(S),abs(S)+1,1):\n",
    "                            for K in {True:[0], False:[-K_mag,K_mag]}[K_mag==0]:\n",
    "                                P=K+Sigma\n",
    "                                if abs(P) not in P_values:\n",
    "                                    continue\n",
    "                                elif J < abs(P):\n",
    "                                    continue\n",
    "                                else:\n",
    "                                    values = [K,Sigma,P,J,F,M]\n",
    "                                for q,val in zip(q_str,values):\n",
    "                                    q_numbers[q].append(val+0)    #looks weird but adding 0 converts -0 to 0\n",
    "                    elif M_values=='custom' and M not in M_range:\n",
    "                        continue\n",
    "    return q_numbers\n",
    "\n",
    "def write_state(vector,qn,case):\n",
    "    for index in np.nonzero(vector)[0]:\n",
    "        v={q:qn[q][index] for q in qn}\n",
    "        coeff = vector[index]\n",
    "        if case == 'bBS':\n",
    "            print(' {} |K={},N={},G={},F1={},F={},M={}> \\n'.format(coeff,v['K'],v['N'],v['G'],v['F1'],v['F'],v['M']))\n",
    "        elif case == 'bBJ':\n",
    "            print(' {} |K={},N={},J={},F={},M={}> \\n'.format(coeff,v['K'],v['N'],v['J'],v['F'],v['M']))\n",
    "        elif case == 'aBJ':\n",
    "            print(' {} |K={},\\u03A3={},P={},J={},F={},M={}> \\n'.format(coeff,v['K'],v['Sigma'],v['P'],v['J'],v['F'],v['M']))"
   ]
  },
  {
   "cell_type": "code",
   "execution_count": 92,
   "id": "0562de4b",
   "metadata": {},
   "outputs": [
    {
     "name": "stdout",
     "output_type": "stream",
     "text": [
      "{'K': [0, 0, 0, 0, 0, 0], 'Sigma': [-0.5, 0.5, -0.5, 0.5, -0.5, 0.5], 'P': [-0.5, 0.5, -0.5, 0.5, -0.5, 0.5], 'J': [0.5, 0.5, 1.5, 1.5, 2.5, 2.5], 'F': [0.5, 0.5, 1.5, 1.5, 2.5, 2.5], 'M': [0.5, 0.5, 0.5, 0.5, 0.5, 0.5]}\n",
      "\n",
      "{'K': [0, 0, 0, 0, 0], 'N': [0, 1, 1, 2, 2], 'J': [0.5, 0.5, 1.5, 1.5, 2.5], 'F': [0.5, 0.5, 1.5, 1.5, 2.5], 'M': [0.5, 0.5, 0.5, 0.5, 0.5]}\n"
     ]
    }
   ],
   "source": [
    "qb = q_numbers_even_bBJ([0,1,2],0,M_values='none',I_list=[0,0])\n",
    "qa = q_numbers_even_aBJ([0,1,2],K_mag=0,M_values='none',I_list=[0,0])\n",
    "na = len(qa['J'])\n",
    "nb = len(qb['N'])\n",
    "print(qa)\n",
    "print()\n",
    "print(qb)"
   ]
  },
  {
   "cell_type": "code",
   "execution_count": 119,
   "id": "076966e2",
   "metadata": {},
   "outputs": [],
   "source": [
    "vb = np.zeros(nb)\n",
    "vb[0]=1"
   ]
  },
  {
   "cell_type": "code",
   "execution_count": 120,
   "id": "a2a0c588",
   "metadata": {},
   "outputs": [],
   "source": [
    "b2a=convert_abBJ(qb,qa,S=1/2)"
   ]
  },
  {
   "cell_type": "code",
   "execution_count": 121,
   "id": "0eae9167",
   "metadata": {},
   "outputs": [
    {
     "name": "stdout",
     "output_type": "stream",
     "text": [
      " 1.0 |K=0,N=0,J=0.5,F=0.5,M=0.5> \n",
      "\n"
     ]
    }
   ],
   "source": [
    "write_state(vb,qb,'bBJ')"
   ]
  },
  {
   "cell_type": "code",
   "execution_count": 122,
   "id": "f13749dd",
   "metadata": {},
   "outputs": [
    {
     "name": "stdout",
     "output_type": "stream",
     "text": [
      " 0.7071067811865476 |K=0,Σ=-0.5,P=-0.5,J=0.5,F=0.5,M=0.5> \n",
      "\n",
      " 0.7071067811865476 |K=0,Σ=0.5,P=0.5,J=0.5,F=0.5,M=0.5> \n",
      "\n"
     ]
    }
   ],
   "source": [
    "write_state(b2a@vb,qa,'aBJ')"
   ]
  },
  {
   "cell_type": "code",
   "execution_count": 77,
   "id": "6ff46361",
   "metadata": {},
   "outputs": [],
   "source": [
    "b2a=convert_abBJ(qb,qa,S=1/2)"
   ]
  },
  {
   "cell_type": "code",
   "execution_count": null,
   "id": "e7d24981",
   "metadata": {},
   "outputs": [],
   "source": []
  },
  {
   "cell_type": "code",
   "execution_count": 64,
   "id": "584ebfc9",
   "metadata": {},
   "outputs": [],
   "source": [
    "a={}\n",
    "b={}\n",
    "a['J']=1/2\n",
    "a['F']=1/2\n",
    "a['M']=0\n",
    "a['K']=0\n",
    "a['P']=-1/2\n",
    "a['Sigma']=a['P']\n",
    "b['N']=1\n",
    "b['J']=1/2\n",
    "b['K']=0\n",
    "b['F']=1/2\n",
    "b['M']=0"
   ]
  },
  {
   "cell_type": "code",
   "execution_count": 65,
   "id": "68b1bf5f",
   "metadata": {},
   "outputs": [
    {
     "data": {
      "text/latex": [
       "$\\displaystyle 0.288675134594813 \\sqrt{6}$"
      ],
      "text/plain": [
       "0.288675134594813*sqrt(6)"
      ]
     },
     "execution_count": 65,
     "metadata": {},
     "output_type": "execute_result"
    }
   ],
   "source": [
    "b2a_matrix(a,b)"
   ]
  },
  {
   "cell_type": "code",
   "execution_count": 132,
   "id": "920adb42",
   "metadata": {},
   "outputs": [],
   "source": [
    "def q_numbers_A010(J,l=1,L=1,S=1/2,P_values=[1/2,3/2,5/2]):\n",
    "    q_str = ['K','Lambda','l','P','J','Par']\n",
    "    q_numbers = {}\n",
    "    for q in q_str:\n",
    "        q_numbers[q] = []\n",
    "    for K in [abs(L-l),abs(L+l)]:\n",
    "        for P in [abs(K-S),abs(K+S)]:\n",
    "            if abs(P) not in P_values:\n",
    "                continue\n",
    "            elif J < abs(P):\n",
    "                continue\n",
    "            else:\n",
    "                for parity in [1,-1]:\n",
    "                    values = [K,L,l,P,J,parity]\n",
    "                    for q,val in zip(q_str,values):\n",
    "                            q_numbers[q].append(val+0)\n",
    "    return q_numbers"
   ]
  },
  {
   "cell_type": "code",
   "execution_count": 133,
   "id": "878727b8",
   "metadata": {},
   "outputs": [
    {
     "data": {
      "text/plain": [
       "{'K': [0, 0, 0, 0],\n",
       " 'Lambda': [1, 1, 1, 1],\n",
       " 'l': [1, 1, 1, 1],\n",
       " 'P': [0.5, 0.5, 0.5, 0.5],\n",
       " 'J': [0.5, 0.5, 0.5, 0.5],\n",
       " 'Par': [1, -1, 1, -1]}"
      ]
     },
     "execution_count": 133,
     "metadata": {},
     "output_type": "execute_result"
    }
   ],
   "source": [
    "q_numbers_A010(1/2)"
   ]
  },
  {
   "cell_type": "code",
   "execution_count": null,
   "id": "71d74b92",
   "metadata": {},
   "outputs": [],
   "source": [
    "params_A010={\n",
    "    'Ts':,\n",
    "    'Td':,\n",
    "    'Bd':,\n",
    "    'Bs-':,\n",
    "    'Bs+':,\n",
    "    'Dd':0,\n",
    "    'Ds-':0,\n",
    "    'Ds+':0,\n",
    "    'A':,\n",
    "    'AD':0,\n",
    "    'e':,\n",
    "    'gs-':,\n",
    "    'gs+':,\n",
    "    'gsD-':,\n",
    "    'gsD+':,\n",
    "    'qe':,\n",
    "    'qv':,\n",
    "    'pe+2qe':,\n",
    "    'w2':,\n",
    "}\n",
    "\n",
    "def A010(J,parity,params):\n",
    "    n=4\n",
    "    Ts=0\n",
    "    H = np.zeros((n,n))\n",
    "    z=np.sqrt(J+1/2)\n",
    "    Ad = params['A']*(1-3/4*params['e']**2)\n",
    "    As = params['A']*(1-1/4*params['e']**2)\n",
    "    AdD = params['AD']*(1-3/4*params['e']**2)\n",
    "    AsD = params['AD']*(1-1/4*params['e']**2)\n",
    "    H[0,0] = params['Ts']-params['Td']+params['Bd']*(z-6)-params['Dd'] (z**2-11*z+32)+1/2*(Ad+AdD*(z-6))\n",
    "    H[0,1] = -params['Bd']*np.sqrt(z-4)+2*params['Dd']*(z-4)**(3/2)\n",
    "    H[1,0] = H[0,1]\n",
    "    H[1,1] = params['Ts'] - params['Td'] + params['Bd']*(z-2) - params['Dd']*z*(z-3)-1/2*(Ad+AdD*(z-2))\n",
    "    H[0,2] = 1/2*params['qv']*(z**2-5*z+4)**(1/2)\n",
    "    H[2,0] = H[0,2]\n",
    "    H[1,2] = (z-1)**(1/2)*(parity*1/2*(params['qe']*z**(1/2)-params['qv']))\n",
    "    H[2,1] = H[1,2]\n",
    "    H[2,2] = params['Ts'] - 1/2*(As+AsD*z) - parity*1/2*params['gs-']*z**(1/2)+params['Bs-']*z-params['Ds-']*z*(z+1)-parity*params['gs-D']*z**(1/2)*(z+1+parity*z**(1/2))\n",
    "    H[0,3] = parity*params['qe']*(z**2 - 5*z + 4)**(1/2)\n",
    "    H[3,0] = H[0,3]\n",
    "    H[1,3] = (z-1)**(1/2)*(-parity/2*params['pe+2qe']+1/2*params['qv']*z**(1/2))\n",
    "    H[3,1] = H[1,3]\n",
    "    H[2,3] = -1/2*(params['Bs-']+params['Bs+'])*z**(1/2) + (params['Ds-']+params['Ds+'])*z**(3/2)+params['e']*params['w2']\n",
    "    H[3,2] = H[2,3]\n",
    "    H[3,3] = params['Ts'] - 1/2*(As+AsD*z)+parity*params['gs+']*z**(1/2)+params['Bs+']*z - params['Ds+']*z*(z+1)+parity/2*params['gs+d']*z**(1/2)*(z+1-parity*2*z**(1/2))\n",
    "    return H"
   ]
  },
  {
   "cell_type": "code",
   "execution_count": null,
   "id": "da625553",
   "metadata": {},
   "outputs": [],
   "source": []
  }
 ],
 "metadata": {
  "kernelspec": {
   "display_name": "Python 3 (ipykernel)",
   "language": "python",
   "name": "python3"
  },
  "language_info": {
   "codemirror_mode": {
    "name": "ipython",
    "version": 3
   },
   "file_extension": ".py",
   "mimetype": "text/x-python",
   "name": "python",
   "nbconvert_exporter": "python",
   "pygments_lexer": "ipython3",
   "version": "3.8.12"
  }
 },
 "nbformat": 4,
 "nbformat_minor": 5
}
