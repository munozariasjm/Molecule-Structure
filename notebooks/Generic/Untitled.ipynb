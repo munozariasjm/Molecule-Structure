{
 "cells": [
  {
   "cell_type": "code",
   "execution_count": 1,
   "id": "2978a940",
   "metadata": {},
   "outputs": [],
   "source": [
    "from config_path import add_to_sys_path\n",
    "add_to_sys_path()  # Call the function to add path\n",
    "\n",
    "import numpy as np"
   ]
  },
  {
   "cell_type": "code",
   "execution_count": 2,
   "id": "fd5be204",
   "metadata": {},
   "outputs": [],
   "source": [
    "def count_momenta(J_list, M_values):\n",
    "    if M_values == 'all':\n",
    "         num = 1\n",
    "         for J in J_list:\n",
    "             num*=(2*J+1)\n",
    "    else:\n",
    "        J_coupled = recursive_add_J(J_list)\n",
    "        if M_values == 'pos':\n",
    "            num = np.sum(J_coupled + 1 - (J_coupled[-1] % 1))\n",
    "        elif M_values == 'none':\n",
    "            num = len(J_coupled)\n",
    "    return int(num)\n",
    "\n",
    "def recursive_add_J(J_list):\n",
    "    n = len(J_list)\n",
    "    if n==2:\n",
    "        J_sum = list_add_J(*J_list)\n",
    "        return J_sum\n",
    "    elif n>2:\n",
    "        J_main = J_list[:-1]\n",
    "        J_add = J_list[-1]\n",
    "        return list_add_J(recursive_add_J(J_main),J_add)\n",
    "\n",
    "def base_add_J(J1,J2):\n",
    "    J_sum = np.arange(abs(J1-J2),J1+J2+1, 1)\n",
    "    return J_sum\n",
    "\n",
    "def list_add_J(J1,J2): #J2 cannot be a list\n",
    "    if isinstance(J1, (list, tuple, np.ndarray)) and not isinstance(J2, (list, tuple, np.ndarray)):\n",
    "        J_sum = []\n",
    "        for _J in J1:\n",
    "            J_sum.extend(base_add_J(_J,J2))\n",
    "        return np.sort(np.array(J_sum))\n",
    "    elif not isinstance(J1, (list, tuple, np.ndarray)) and not isinstance(J2, (list, tuple, np.ndarray)):\n",
    "        return base_add_J(J1,J2)\n",
    "    elif isinstance(J2, (list, tuple, np.ndarray)):\n",
    "        if not isinstance(J1, (list, tuple, np.ndarray)):\n",
    "            return list_add_J(J2,J1)\n",
    "        else:\n",
    "            print('J1 and J2 cannot both be lists')\n",
    "            return None\n"
   ]
  },
  {
   "cell_type": "code",
   "execution_count": 11,
   "id": "fc371c49",
   "metadata": {},
   "outputs": [
    {
     "data": {
      "text/plain": [
       "array([0., 1.])"
      ]
     },
     "execution_count": 11,
     "metadata": {},
     "output_type": "execute_result"
    }
   ],
   "source": [
    "recursive_add_J([0.5,0.5])"
   ]
  },
  {
   "cell_type": "code",
   "execution_count": null,
   "id": "86319316",
   "metadata": {},
   "outputs": [],
   "source": []
  }
 ],
 "metadata": {
  "kernelspec": {
   "display_name": "Python 3 (ipykernel)",
   "language": "python",
   "name": "python3"
  },
  "language_info": {
   "codemirror_mode": {
    "name": "ipython",
    "version": 3
   },
   "file_extension": ".py",
   "mimetype": "text/x-python",
   "name": "python",
   "nbconvert_exporter": "python",
   "pygments_lexer": "ipython3",
   "version": "3.8.12"
  }
 },
 "nbformat": 4,
 "nbformat_minor": 5
}
