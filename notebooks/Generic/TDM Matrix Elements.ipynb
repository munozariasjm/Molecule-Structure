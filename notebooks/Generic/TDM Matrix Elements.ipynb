{
 "cells": [
  {
   "cell_type": "code",
   "execution_count": 1,
   "id": "110e8d95",
   "metadata": {},
   "outputs": [],
   "source": [
    "from config_path import add_to_sys_path\n",
    "add_to_sys_path()  # Call the function to add path\n",
    "\n",
    "import numpy as np\n",
    "from sympy.physics.wigner import wigner_3j,wigner_6j\n",
    "import sympy as sy"
   ]
  },
  {
   "cell_type": "code",
   "execution_count": 14,
   "id": "20e4f9bf",
   "metadata": {},
   "outputs": [],
   "source": [
    "def TDM(J0,F0,M0,J1,F1,M1,p,S=1/2,I=1/2):\n",
    "    TDM_total = (-1)**(F0-M0)*wigner_3j(F0,1,F1,-M0,p,M1)*(-1)**(F1+J0+I+1)*np.sqrt((2*F0+1)*(2*F1+1))*wigner_6j(J1,F1,I,F0,J0,1)\n",
    "    return TDM_total"
   ]
  },
  {
   "cell_type": "code",
   "execution_count": 20,
   "id": "320c38dc",
   "metadata": {},
   "outputs": [
    {
     "name": "stdout",
     "output_type": "stream",
     "text": [
      "M=1 to M=0, F=1 to F=0: -0.408248290463863\n",
      "M=-1 to M=0, F=1 to F=0: -0.408248290463863\n"
     ]
    }
   ],
   "source": [
    "print('M=1 to M=0, F=1 to F=0:',sy.N(TDM(1/2,0,0,1/2,1,1,-1)))\n",
    "print('M=-1 to M=0, F=1 to F=0:',sy.N(TDM(1/2,0,0,1/2,1,-1,1)))"
   ]
  },
  {
   "cell_type": "code",
   "execution_count": 21,
   "id": "7c268878",
   "metadata": {},
   "outputs": [
    {
     "name": "stdout",
     "output_type": "stream",
     "text": [
      "M=1 to M=0, F=1 to F=1: 0.408248290463863\n",
      "M=-1 to M=0, F=1 to F=1: -0.408248290463863\n"
     ]
    }
   ],
   "source": [
    "print('M=1 to M=0, F=1 to F=1:',sy.N(TDM(1/2,1,0,1/2,1,1,-1)))\n",
    "print('M=-1 to M=0, F=1 to F=1:',sy.N(TDM(1/2,1,0,1/2,1,-1,1)))"
   ]
  },
  {
   "cell_type": "code",
   "execution_count": 24,
   "id": "1691b08a",
   "metadata": {},
   "outputs": [
    {
     "data": {
      "text/latex": [
       "$\\displaystyle - \\frac{1}{3}$"
      ],
      "text/plain": [
       "-1/3"
      ]
     },
     "execution_count": 24,
     "metadata": {},
     "output_type": "execute_result"
    }
   ],
   "source": [
    "wigner_6j(1/2,1,1/2,1,1/2,1)"
   ]
  },
  {
   "cell_type": "code",
   "execution_count": 20,
   "id": "2b12ce37",
   "metadata": {},
   "outputs": [
    {
     "data": {
      "text/latex": [
       "$\\displaystyle -0.408248290463863$"
      ],
      "text/plain": [
       "-0.408248290463863"
      ]
     },
     "execution_count": 20,
     "metadata": {},
     "output_type": "execute_result"
    }
   ],
   "source": [
    "sy.N(TDM(1/2,1,1,1/2,1,0,1))"
   ]
  },
  {
   "cell_type": "code",
   "execution_count": null,
   "id": "5faf4733",
   "metadata": {},
   "outputs": [],
   "source": [
    "wigner_6j(J1,F1,I,F0,J0,1)"
   ]
  },
  {
   "cell_type": "code",
   "execution_count": null,
   "id": "259ab1d7",
   "metadata": {},
   "outputs": [],
   "source": [
    "(-1)**(F0-M0)*wigner_3j(F0,1,F1,-M0,p,M1)"
   ]
  },
  {
   "cell_type": "code",
   "execution_count": null,
   "id": "e087ab45",
   "metadata": {},
   "outputs": [],
   "source": [
    "[5,5,6,6,7,8,8,9]\n"
   ]
  }
 ],
 "metadata": {
  "kernelspec": {
   "display_name": "Python 3 (ipykernel)",
   "language": "python",
   "name": "python3"
  },
  "language_info": {
   "codemirror_mode": {
    "name": "ipython",
    "version": 3
   },
   "file_extension": ".py",
   "mimetype": "text/x-python",
   "name": "python",
   "nbconvert_exporter": "python",
   "pygments_lexer": "ipython3",
   "version": "3.8.13"
  }
 },
 "nbformat": 4,
 "nbformat_minor": 5
}
