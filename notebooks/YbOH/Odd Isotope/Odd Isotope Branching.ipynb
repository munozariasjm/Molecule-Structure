{
    "cells": [
        {
            "cell_type": "code",
            "execution_count": 1,
            "metadata": {},
            "outputs": [],
            "source": [
                "from config_path import add_to_sys_path\n",
                "add_to_sys_path()  # Call the function to add path\n",
                "\n",
                "import numpy as np\n",
                "from sympy.physics.wigner import wigner_3j,wigner_6j\n",
                "import sympy as sy\n",
                "from numpy import linalg as LA\n",
                "from IPython.display import Latex,display\n",
                "import matplotlib.pyplot as plt\n",
                "# import seaborn as sns\n",
                "# sns.set()\n",
                "# sns.set_palette('terrain')\n",
                "from YbOH_energy_levels_symbolic import YbOHLevels\n",
                "np.set_printoptions(precision=8, suppress=True)"
            ]
        },
        {
            "cell_type": "code",
            "execution_count": 2,
            "metadata": {},
            "outputs": [],
            "source": [
                "%matplotlib qt"
            ]
        },
        {
            "cell_type": "code",
            "execution_count": 3,
            "metadata": {},
            "outputs": [
                {
                    "name": "stdout",
                    "output_type": "stream",
                    "text": [
                        "Cannot construct decoupled basis without M values\n"
                    ]
                }
            ],
            "source": [
                "X000= YbOHLevels.initialize_state('173','X000',[0,1],M_values='none',I=[5/2,0],round=8)\n",
                "#X000= YbOHLevels.initialize_state('171','X000',[0,1,2,3,4],M_values='none',I=[1/2,0],round=12)"
            ]
        },
        {
            "cell_type": "code",
            "execution_count": 4,
            "metadata": {},
            "outputs": [
                {
                    "name": "stdout",
                    "output_type": "stream",
                    "text": [
                        "Cannot construct decoupled basis without M values\n"
                    ]
                }
            ],
            "source": [
                "A000= YbOHLevels.initialize_state('173','A000',[1],M_values='none',I=[5/2,0],round=8)\n",
                "#A000= YbOHLevels.initialize_state('171','A000',[1,2,3],M_values='none',I=[1/2,0],round=12)"
            ]
        },
        {
            "cell_type": "code",
            "execution_count": 5,
            "metadata": {},
            "outputs": [],
            "source": [
                "A000.eigensystem(0.0,0.0);\n",
                "X000.eigensystem(0.0,0.0);"
            ]
        },
        {
            "cell_type": "code",
            "execution_count": 6,
            "metadata": {},
            "outputs": [
                {
                    "data": {
                        "text/plain": [
                            "array([-0.07889523, -0.07880168,  0.1096412 ,  0.10970806,  0.39403439,\n",
                            "        0.39412209,  0.41633318,  0.41642122,  0.42781263,  0.42790201,\n",
                            "        0.58510566,  0.58516695,  0.60552375,  0.6055822 ,  0.61381913,\n",
                            "        0.61387778,  1.37902179,  1.37909754,  1.38486563,  1.38493678,\n",
                            "        1.39845411,  1.39854046,  1.40053214,  1.40060229,  1.41676832,\n",
                            "        1.41684963,  1.56901082,  1.56905726,  1.57549982,  1.5755364 ,\n",
                            "        1.58925194,  1.58930724,  1.58960563,  1.58962955,  1.59972207,\n",
                            "        2.85223699,  2.85230765,  2.85292265,  2.85298225,  2.86281941,\n",
                            "        2.86286758,  2.86989182,  2.86997712,  2.8756663 ,  2.87570319,\n",
                            "        2.88690792,  2.88693158,  2.89337825,  3.04241297,  3.04245113,\n",
                            "        3.04343704,  3.04346001,  3.05409046,  3.05409334,  3.06261676,\n",
                            "        3.06267006,  3.0658522 ,  3.06588864,  4.81359102,  4.81363961,\n",
                            "        4.81473866,  4.81480237,  4.82113189,  4.82116713,  4.83113607,\n",
                            "        4.83122064,  4.8325971 ,  4.8326146 ,  4.844408  ,  4.84441604,\n",
                            "        4.85383938,  4.85389759,  5.00394872,  5.00396551,  5.00564304,\n",
                            "        5.00567789,  5.0125699 ,  5.01257666,  5.02481354,  5.02485558,\n",
                            "        5.02595489,  5.0260067 ])"
                        ]
                    },
                    "execution_count": 6,
                    "metadata": {},
                    "output_type": "execute_result"
                }
            ],
            "source": [
                "X000.evals0/29979.2458"
            ]
        },
        {
            "cell_type": "code",
            "execution_count": 7,
            "metadata": {},
            "outputs": [
                {
                    "data": {
                        "text/plain": [
                            "array([0.02312298, 0.04901353, 0.46707085, 0.4724814 , 0.56670714,\n",
                            "       0.57160301, 0.58248092, 0.59853732, 1.4428817 , 1.44394748,\n",
                            "       1.45078891, 1.45922188, 1.61421416, 1.61485277, 1.62136585,\n",
                            "       1.63262243, 1.64306064, 1.64917498, 2.92713456, 2.93016556,\n",
                            "       2.93067017, 2.93488383, 2.93805763, 2.94766368, 3.16614592,\n",
                            "       3.16872503, 3.17135086, 3.18086268, 3.1912373 , 3.19972679,\n",
                            "       4.91909494, 4.92008621, 4.92402639, 4.92470436, 4.92818105,\n",
                            "       4.94155549])"
                        ]
                    },
                    "execution_count": 7,
                    "metadata": {},
                    "output_type": "execute_result"
                }
            ],
            "source": [
                "A000.evals0/29979.2458"
            ]
        },
        {
            "cell_type": "code",
            "execution_count": 6,
            "metadata": {},
            "outputs": [],
            "source": [
                "from YbOH_energy_levels_symbolic import xa_branching_ratios"
            ]
        },
        {
            "cell_type": "code",
            "execution_count": 7,
            "metadata": {
                "scrolled": false
            },
            "outputs": [
                {
                    "name": "stdout",
                    "output_type": "stream",
                    "text": [
                        "Successfully converted eigenvectors from bBS to aBJ\n"
                    ]
                }
            ],
            "source": [
                "BR0 = xa_branching_ratios(X000,A000,0,0.0)"
            ]
        },
        {
            "cell_type": "code",
            "execution_count": 8,
            "metadata": {},
            "outputs": [
                {
                    "data": {
                        "text/plain": [
                            "array([0.6666591 , 0.66664205, 0.99997281, 0.98910851, 0.7       ,\n",
                            "       0.71089149, 0.70002719, 0.7       , 0.16667423, 0.16669129,\n",
                            "       0.16666667, 0.16666667])"
                        ]
                    },
                    "execution_count": 8,
                    "metadata": {},
                    "output_type": "execute_result"
                }
            ],
            "source": [
                "BR0.sum(axis=0)"
            ]
        },
        {
            "cell_type": "code",
            "execution_count": 9,
            "metadata": {},
            "outputs": [],
            "source": [
                "def select_N(N,state):\n",
                "    idx = []\n",
                "    N = np.array(N)\n",
                "    for i,qN in enumerate(state.q_numbers['N']):\n",
                "        for _N in N:\n",
                "            if qN == _N:\n",
                "                idx.append(i)\n",
                "    return np.array(idx)\n",
                "\n",
                "def select_J(J,state):\n",
                "    idx = []\n",
                "    J = np.array(J)\n",
                "    for i,qJ in enumerate(state.q_numbers['J']):\n",
                "        for _J in J:\n",
                "            if qJ == _J:\n",
                "                idx.append(i)\n",
                "    return np.array(idx)"
            ]
        },
        {
            "cell_type": "code",
            "execution_count": 10,
            "metadata": {},
            "outputs": [
                {
                    "name": "stdout",
                    "output_type": "stream",
                    "text": [
                        "[ 0  1  2  3  4  5  6  7  8  9 10 11]\n",
                        "[2 3 4 5 6 7]\n"
                    ]
                }
            ],
            "source": [
                "J_idx = A000.select_q({'J':[0.5,1.5]})\n",
                "print(J_idx)\n",
                "N_idx = X000.select_q({'N':1})\n",
                "print(N_idx)"
            ]
        },
        {
            "cell_type": "code",
            "execution_count": 11,
            "metadata": {},
            "outputs": [],
            "source": [
                "(y,x) = BR0.shape\n",
                "h=10\n",
                "fsize = (h,h*x/y)\n",
                "fig,axes = plt.subplots(1,1,figsize=(15,10),sharey=True,constrained_layout=True)\n",
                "axes.matshow(BR0)\n",
                "axes.grid(False)"
            ]
        },
        {
            "cell_type": "code",
            "execution_count": 12,
            "metadata": {},
            "outputs": [],
            "source": [
                "def gen_state_str(vector,q_numbers,label_q,thresh=0.02,show_coeff=True):\n",
                "    full_label = r''\n",
                "    nonzero_idx = np.nonzero(vector)[0]\n",
                "    first = 0\n",
                "    for i,index in enumerate(nonzero_idx):\n",
                "        coeff = vector[index]\n",
                "        if abs(coeff) < thresh:\n",
                "            first+=1\n",
                "            continue\n",
                "        sign = {True: '+', False: '-'}[coeff > 0]\n",
                "        sign0 = {True: ' ', False: sign}[sign=='+']\n",
                "        if show_coeff:\n",
                "            label_str = r'${}{}|'.format({True: sign0, False: sign}[i==first],abs(coeff))\n",
                "        else:\n",
                "            label_str = r'${}|'.format({True: sign0, False: sign}[i==first])\n",
                "        val = {q:q_numbers[q][index] for q in label_q}\n",
                "        for q in label_q:\n",
                "            _q = {True: '\\u039B', False: q}[q=='L']\n",
                "            _q = {True: '\\u03A3', False: _q}[q=='Sigma']\n",
                "            _q = {True: '\\u03A9', False: _q}[q=='Omega']\n",
                "            if (abs(val[q]) % 1) !=0:\n",
                "                label_str+=r'{}=\\frac{{{}}}{{{}}},'.format(_q,*val[q].as_integer_ratio())\n",
                "            else:\n",
                "                label_str+=r'{}={},'.format(_q,int(val[q]))\n",
                "        label_str = label_str[:-1]+r'\\rangle$'\n",
                "        full_label+=label_str\n",
                "    if i==first and show_coeff==False:\n",
                "        full_label = r'$'+full_label[2:]\n",
                "    return full_label"
            ]
        },
        {
            "cell_type": "code",
            "execution_count": 13,
            "metadata": {},
            "outputs": [],
            "source": [
                "fig,ax = plt.subplots(figsize=(10,10),constrained_layout=True)\n",
                "# ax.set_aspect('equal')\n",
                "A_idx = J_idx[-1]+1\n",
                "X_idx = N_idx[-1]+1\n",
                "log=False\n",
                "BR_plot = BR0\n",
                "if log:\n",
                "    BR_plot=np.log10(BR0)\n",
                "    vmin = -10\n",
                "    vmax = 0\n",
                "else:\n",
                "    vmin=None\n",
                "    vmax = None\n",
                "#     log_BR = np.copy(BR0)\n",
                "#     for i,val1 in enumerate(log_BR):\n",
                "#         for j,val2 in enumerate(val1):\n",
                "#             if val2 !=0:\n",
                "#                 log_BR[i,j] = np.log10(val2)\n",
                "#     BR_plot = log_BR\n",
                "mat = ax.matshow(BR_plot[:X_idx,:A_idx],cmap=plt.get_cmap('magma'),vmax = vmax, vmin = vmin)\n",
                "y = np.arange(0,len(X000.evecs0[:X_idx]))\n",
                "x = np.arange(0,len(A000.evecs0[:A_idx]))\n",
                "ax.set_yticks(y)\n",
                "ax.set_xticks(x)\n",
                "y_labels = [gen_state_str(X000.evecs0[i],X000.q_numbers,[q for q in X000.q_str if (q=='N' or q=='G' or q=='F1')],thresh=0.2,show_coeff=False) for i in range(y.size)]\n",
                "x_labels = [gen_state_str(A000.evecs0[i],A000.q_numbers,[q for q in A000.q_str if (q=='L' or q=='J' or q=='F1')],thresh=0.2,show_coeff=False) for i in range(x.size)]\n",
                "ax.set_yticklabels(y_labels, rotation='40', fontsize=12, ha='right')\n",
                "ax.set_xticklabels(x_labels, rotation='40', fontsize=12,ha='left')\n",
                "ax.tick_params(axis='both',labelsize=10,direction='out')\n",
                "ax.grid(True,which='major',color='white',ls='--',linewidth=0.5)\n",
                "ax.grid(False,which='minor')\n",
                "(bot,top) = ax.get_ylim()\n",
                "ax.set_ylim(bot+0.5, top-0.5)\n",
                "cbar = fig.colorbar(mat, ax=ax,fraction=0.015, pad=0.05)\n",
                "#ax.set_xlim(-0.5,x.size+0.5);"
            ]
        },
        {
            "cell_type": "code",
            "execution_count": 62,
            "metadata": {},
            "outputs": [],
            "source": [
                "N_idx = select_N([4],X000)\n",
                "s = slice(N_idx[0],N_idx[-1]+1)"
            ]
        },
        {
            "cell_type": "code",
            "execution_count": 63,
            "metadata": {},
            "outputs": [
                {
                    "data": {
                        "text/plain": [
                            "slice(14, 18, None)"
                        ]
                    },
                    "execution_count": 63,
                    "metadata": {},
                    "output_type": "execute_result"
                }
            ],
            "source": [
                "s"
            ]
        },
        {
            "cell_type": "code",
            "execution_count": 64,
            "metadata": {},
            "outputs": [
                {
                    "data": {
                        "text/plain": [
                            "array([0.        , 0.        , 0.        , 0.        , 0.        ,\n",
                            "       0.        , 0.00237795, 0.        , 0.28344722, 0.28563516,\n",
                            "       0.        , 0.        , 0.        , 0.        , 0.78565275,\n",
                            "       0.78579341])"
                        ]
                    },
                    "execution_count": 64,
                    "metadata": {},
                    "output_type": "execute_result"
                }
            ],
            "source": [
                "BR0[s].sum(axis=0)"
            ]
        },
        {
            "cell_type": "code",
            "execution_count": 11,
            "metadata": {},
            "outputs": [],
            "source": [
                "def select_N(N,state):\n",
                "    idx = []\n",
                "    N = np.array(N)\n",
                "    for i,qN in enumerate(state.q_numbers['N']):\n",
                "        for _N in N:\n",
                "            if qN == _N:\n",
                "                idx.append(i)\n",
                "    return np.array(idx)\n",
                "\n",
                "def select_J(J,state):\n",
                "    idx = []\n",
                "    J = np.array(J)\n",
                "    for i,qJ in enumerate(state.q_numbers['J']):\n",
                "        for _J in J:\n",
                "            if qJ == _J:\n",
                "                idx.append(i)\n",
                "    return np.array(idx)"
            ]
        },
        {
            "cell_type": "code",
            "execution_count": 71,
            "metadata": {},
            "outputs": [
                {
                    "name": "stdout",
                    "output_type": "stream",
                    "text": [
                        "[0 1 2 3]\n",
                        "[ 0  1  8  9 10 11 12 13 14 15 16 17]\n"
                    ]
                }
            ],
            "source": [
                "J_idx = select_J([0.5],A000)\n",
                "print(J_idx)\n",
                "N_idx = select_N([0,2],X000)\n",
                "print(N_idx)"
            ]
        },
        {
            "cell_type": "code",
            "execution_count": 72,
            "metadata": {
                "scrolled": false
            },
            "outputs": [
                {
                    "name": "stdout",
                    "output_type": "stream",
                    "text": [
                        "0 693.2096012882782\n"
                    ]
                },
                {
                    "data": {
                        "text/latex": [
                            "$ 0.707085737922|Λ=1,Σ=\\tfrac{-1}{2},Ω=\\tfrac{1}{2},J=\\tfrac{1}{2},F1=3,F=3,M=0\\rangle$$-0.707085737922|Λ=-1,Σ=\\tfrac{1}{2},Ω=\\tfrac{-1}{2},J=\\tfrac{1}{2},F1=3,F=3,M=0\\rangle$$-0.00278791441|Λ=1,Σ=\\tfrac{-1}{2},Ω=\\tfrac{1}{2},J=\\tfrac{3}{2},F1=3,F=3,M=0\\rangle$$-0.00278791441|Λ=-1,Σ=\\tfrac{1}{2},Ω=\\tfrac{-1}{2},J=\\tfrac{3}{2},F1=3,F=3,M=0\\rangle$$+0.004689003204|Λ=1,Σ=\\tfrac{-1}{2},Ω=\\tfrac{1}{2},J=\\tfrac{5}{2},F1=3,F=3,M=0\\rangle$$-0.004689003204|Λ=-1,Σ=\\tfrac{1}{2},Ω=\\tfrac{-1}{2},J=\\tfrac{5}{2},F1=3,F=3,M=0\\rangle$$-3.050111e-06|Λ=1,Σ=\\tfrac{-1}{2},Ω=\\tfrac{1}{2},J=\\tfrac{7}{2},F1=3,F=3,M=0\\rangle$$-3.050111e-06|Λ=-1,Σ=\\tfrac{1}{2},Ω=\\tfrac{-1}{2},J=\\tfrac{7}{2},F1=3,F=3,M=0\\rangle$"
                        ],
                        "text/plain": [
                            "<IPython.core.display.Latex object>"
                        ]
                    },
                    "metadata": {},
                    "output_type": "display_data"
                },
                {
                    "name": "stdout",
                    "output_type": "stream",
                    "text": [
                        "1 1469.3885290736666\n"
                    ]
                },
                {
                    "data": {
                        "text/latex": [
                            "$ 0.707082227533|Λ=1,Σ=\\tfrac{-1}{2},Ω=\\tfrac{1}{2},J=\\tfrac{1}{2},F1=2,F=2,M=0\\rangle$$-0.707082227533|Λ=-1,Σ=\\tfrac{1}{2},Ω=\\tfrac{-1}{2},J=\\tfrac{1}{2},F1=2,F=2,M=0\\rangle$$+0.004948278856|Λ=1,Σ=\\tfrac{-1}{2},Ω=\\tfrac{1}{2},J=\\tfrac{3}{2},F1=2,F=2,M=0\\rangle$$+0.004948278856|Λ=-1,Σ=\\tfrac{1}{2},Ω=\\tfrac{-1}{2},J=\\tfrac{3}{2},F1=2,F=2,M=0\\rangle$$+0.003199683453|Λ=1,Σ=\\tfrac{-1}{2},Ω=\\tfrac{1}{2},J=\\tfrac{5}{2},F1=2,F=2,M=0\\rangle$$-0.003199683453|Λ=-1,Σ=\\tfrac{1}{2},Ω=\\tfrac{-1}{2},J=\\tfrac{5}{2},F1=2,F=2,M=0\\rangle$$+8.32106e-06|Λ=1,Σ=\\tfrac{-1}{2},Ω=\\tfrac{1}{2},J=\\tfrac{7}{2},F1=2,F=2,M=0\\rangle$$+8.32106e-06|Λ=-1,Σ=\\tfrac{1}{2},Ω=\\tfrac{-1}{2},J=\\tfrac{7}{2},F1=2,F=2,M=0\\rangle$"
                        ],
                        "text/plain": [
                            "<IPython.core.display.Latex object>"
                        ]
                    },
                    "metadata": {},
                    "output_type": "display_data"
                },
                {
                    "name": "stdout",
                    "output_type": "stream",
                    "text": [
                        "2 14002.431880641494\n"
                    ]
                },
                {
                    "data": {
                        "text/latex": [
                            "$-0.70707251613|Λ=1,Σ=\\tfrac{-1}{2},Ω=\\tfrac{1}{2},J=\\tfrac{1}{2},F1=2,F=2,M=0\\rangle$$-0.70707251613|Λ=-1,Σ=\\tfrac{1}{2},Ω=\\tfrac{-1}{2},J=\\tfrac{1}{2},F1=2,F=2,M=0\\rangle$$+0.006650421108|Λ=1,Σ=\\tfrac{-1}{2},Ω=\\tfrac{1}{2},J=\\tfrac{3}{2},F1=2,F=2,M=0\\rangle$$-0.006650421108|Λ=-1,Σ=\\tfrac{1}{2},Ω=\\tfrac{-1}{2},J=\\tfrac{3}{2},F1=2,F=2,M=0\\rangle$$-0.002056322609|Λ=1,Σ=\\tfrac{-1}{2},Ω=\\tfrac{1}{2},J=\\tfrac{5}{2},F1=2,F=2,M=0\\rangle$$-0.002056322609|Λ=-1,Σ=\\tfrac{1}{2},Ω=\\tfrac{-1}{2},J=\\tfrac{5}{2},F1=2,F=2,M=0\\rangle$$+1.9237629e-05|Λ=1,Σ=\\tfrac{-1}{2},Ω=\\tfrac{1}{2},J=\\tfrac{7}{2},F1=2,F=2,M=0\\rangle$$-1.9237629e-05|Λ=-1,Σ=\\tfrac{1}{2},Ω=\\tfrac{-1}{2},J=\\tfrac{7}{2},F1=2,F=2,M=0\\rangle$"
                        ],
                        "text/plain": [
                            "<IPython.core.display.Latex object>"
                        ]
                    },
                    "metadata": {},
                    "output_type": "display_data"
                },
                {
                    "name": "stdout",
                    "output_type": "stream",
                    "text": [
                        "3 14164.636055729787\n"
                    ]
                },
                {
                    "data": {
                        "text/latex": [
                            "$-0.694157297639|Λ=1,Σ=\\tfrac{-1}{2},Ω=\\tfrac{1}{2},J=\\tfrac{1}{2},F1=3,F=3,M=0\\rangle$$-0.694157297639|Λ=-1,Σ=\\tfrac{1}{2},Ω=\\tfrac{-1}{2},J=\\tfrac{1}{2},F1=3,F=3,M=0\\rangle$$+0.134673696585|Λ=1,Σ=\\tfrac{-1}{2},Ω=\\tfrac{1}{2},J=\\tfrac{3}{2},F1=3,F=3,M=0\\rangle$$-0.134673696585|Λ=-1,Σ=\\tfrac{1}{2},Ω=\\tfrac{-1}{2},J=\\tfrac{3}{2},F1=3,F=3,M=0\\rangle$$-0.002899048876|Λ=1,Σ=\\tfrac{-1}{2},Ω=\\tfrac{1}{2},J=\\tfrac{5}{2},F1=3,F=3,M=0\\rangle$$-0.002899048876|Λ=-1,Σ=\\tfrac{1}{2},Ω=\\tfrac{-1}{2},J=\\tfrac{5}{2},F1=3,F=3,M=0\\rangle$$+0.000486927731|Λ=1,Σ=\\tfrac{-1}{2},Ω=\\tfrac{1}{2},J=\\tfrac{7}{2},F1=3,F=3,M=0\\rangle$$-0.000486927731|Λ=-1,Σ=\\tfrac{1}{2},Ω=\\tfrac{-1}{2},J=\\tfrac{7}{2},F1=3,F=3,M=0\\rangle$"
                        ],
                        "text/plain": [
                            "<IPython.core.display.Latex object>"
                        ]
                    },
                    "metadata": {},
                    "output_type": "display_data"
                }
            ],
            "source": [
                "for i in J_idx:\n",
                "    print(i, A000.evals0[i])\n",
                "    display(Latex(A000.gen_state_str(i,basis=None,label_q=None,thresh=0.000000001,show_coeff=True,new_line=False,round=16)))"
            ]
        },
        {
            "cell_type": "code",
            "execution_count": 73,
            "metadata": {
                "scrolled": false
            },
            "outputs": [
                {
                    "name": "stdout",
                    "output_type": "stream",
                    "text": [
                        "0 -2363.5941618933575\n"
                    ]
                },
                {
                    "data": {
                        "text/latex": [
                            "$ 0.999891980988|Λ=0,N=0,G=3,F1=3,F=3,M=0\\rangle$$-0.003926368471|Λ=0,N=2,G=2,F1=3,F=3,M=0\\rangle$$+0.014163631087|Λ=0,N=2,G=3,F1=3,F=3,M=0\\rangle$$-1.8146333e-05|Λ=0,N=4,G=2,F1=3,F=3,M=0\\rangle$$+3.4804245e-05|Λ=0,N=4,G=3,F1=3,F=3,M=0\\rangle$"
                        ],
                        "text/plain": [
                            "<IPython.core.display.Latex object>"
                        ]
                    },
                    "metadata": {},
                    "output_type": "display_data"
                },
                {
                    "name": "stdout",
                    "output_type": "stream",
                    "text": [
                        "1 3287.737818417867\n"
                    ]
                },
                {
                    "data": {
                        "text/latex": [
                            "$ 0.999907744571|Λ=0,N=0,G=2,F1=2,F=2,M=0\\rangle$$+0.012151443054|Λ=0,N=2,G=2,F1=2,F=2,M=0\\rangle$$+0.006069902095|Λ=0,N=2,G=3,F1=2,F=2,M=0\\rangle$$+1.9066895e-05|Λ=0,N=4,G=2,F1=2,F=2,M=0\\rangle$$+2.6525736e-05|Λ=0,N=4,G=3,F1=2,F=2,M=0\\rangle$"
                        ],
                        "text/plain": [
                            "<IPython.core.display.Latex object>"
                        ]
                    },
                    "metadata": {},
                    "output_type": "display_data"
                },
                {
                    "name": "stdout",
                    "output_type": "stream",
                    "text": [
                        "8 41351.79888583459\n"
                    ]
                },
                {
                    "data": {
                        "text/latex": [
                            "$-0.007065221358|Λ=0,N=2,G=2,F1=4,F=4,M=0\\rangle$$+0.99996057403|Λ=0,N=2,G=3,F1=4,F=4,M=0\\rangle$$-0.001370250363|Λ=0,N=4,G=2,F1=4,F=4,M=0\\rangle$$+0.005201484982|Λ=0,N=4,G=3,F1=4,F=4,M=0\\rangle$"
                        ],
                        "text/plain": [
                            "<IPython.core.display.Latex object>"
                        ]
                    },
                    "metadata": {},
                    "output_type": "display_data"
                },
                {
                    "name": "stdout",
                    "output_type": "stream",
                    "text": [
                        "9 41514.72384166406\n"
                    ]
                },
                {
                    "data": {
                        "text/latex": [
                            "$ 0.014051149383|Λ=0,N=0,G=3,F1=3,F=3,M=0\\rangle$$-0.027338040304|Λ=0,N=2,G=2,F1=3,F=3,M=0\\rangle$$-0.999518983109|Λ=0,N=2,G=3,F1=3,F=3,M=0\\rangle$$+0.000585649228|Λ=0,N=4,G=2,F1=3,F=3,M=0\\rangle$$-0.004081197429|Λ=0,N=4,G=3,F1=3,F=3,M=0\\rangle$"
                        ],
                        "text/plain": [
                            "<IPython.core.display.Latex object>"
                        ]
                    },
                    "metadata": {},
                    "output_type": "display_data"
                },
                {
                    "name": "stdout",
                    "output_type": "stream",
                    "text": [
                        "10 41926.018391475714\n"
                    ]
                },
                {
                    "data": {
                        "text/latex": [
                            "$-0.999986024869|Λ=0,N=2,G=3,F1=5,F=5,M=0\\rangle$$+0.00186980651|Λ=0,N=4,G=2,F1=5,F=5,M=0\\rangle$$-0.004945087552|Λ=0,N=4,G=3,F1=5,F=5,M=0\\rangle$"
                        ],
                        "text/plain": [
                            "<IPython.core.display.Latex object>"
                        ]
                    },
                    "metadata": {},
                    "output_type": "display_data"
                },
                {
                    "name": "stdout",
                    "output_type": "stream",
                    "text": [
                        "11 41978.555827442295\n"
                    ]
                },
                {
                    "data": {
                        "text/latex": [
                            "$-0.006611171644|Λ=0,N=0,G=2,F1=2,F=2,M=0\\rangle$$+0.045006943079|Λ=0,N=2,G=2,F1=2,F=2,M=0\\rangle$$+0.998961817794|Λ=0,N=2,G=3,F1=2,F=2,M=0\\rangle$$-0.000137979779|Λ=0,N=4,G=2,F1=2,F=2,M=0\\rangle$$+0.002436192842|Λ=0,N=4,G=3,F1=2,F=2,M=0\\rangle$"
                        ],
                        "text/plain": [
                            "<IPython.core.display.Latex object>"
                        ]
                    },
                    "metadata": {},
                    "output_type": "display_data"
                },
                {
                    "name": "stdout",
                    "output_type": "stream",
                    "text": [
                        "12 42469.48615342732\n"
                    ]
                },
                {
                    "data": {
                        "text/latex": [
                            "$ 0.038337023569|Λ=0,N=2,G=2,F1=1,F=1,M=0\\rangle$$+0.999264452177|Λ=0,N=2,G=3,F1=1,F=1,M=0\\rangle$$+0.00090952745|Λ=0,N=4,G=3,F1=1,F=1,M=0\\rangle$"
                        ],
                        "text/plain": [
                            "<IPython.core.display.Latex object>"
                        ]
                    },
                    "metadata": {},
                    "output_type": "display_data"
                },
                {
                    "name": "stdout",
                    "output_type": "stream",
                    "text": [
                        "13 47042.05658401892\n"
                    ]
                },
                {
                    "data": {
                        "text/latex": [
                            "$ 0.004311761186|Λ=0,N=0,G=3,F1=3,F=3,M=0\\rangle$$+0.99960773415|Λ=0,N=2,G=2,F1=3,F=3,M=0\\rangle$$-0.027285190284|Λ=0,N=2,G=3,F1=3,F=3,M=0\\rangle$$+0.004201989382|Λ=0,N=4,G=2,F1=3,F=3,M=0\\rangle$$+0.001910031221|Λ=0,N=4,G=3,F1=3,F=3,M=0\\rangle$"
                        ],
                        "text/plain": [
                            "<IPython.core.display.Latex object>"
                        ]
                    },
                    "metadata": {},
                    "output_type": "display_data"
                },
                {
                    "name": "stdout",
                    "output_type": "stream",
                    "text": [
                        "14 47242.35994082906\n"
                    ]
                },
                {
                    "data": {
                        "text/latex": [
                            "$-0.011865688661|Λ=0,N=0,G=2,F1=2,F=2,M=0\\rangle$$+0.998908130021|Λ=0,N=2,G=2,F1=2,F=2,M=0\\rangle$$-0.045087136625|Λ=0,N=2,G=3,F1=2,F=2,M=0\\rangle$$+0.00237268338|Λ=0,N=4,G=2,F1=2,F=2,M=0\\rangle$$+0.001809335591|Λ=0,N=4,G=3,F1=2,F=2,M=0\\rangle$"
                        ],
                        "text/plain": [
                            "<IPython.core.display.Latex object>"
                        ]
                    },
                    "metadata": {},
                    "output_type": "display_data"
                },
                {
                    "name": "stdout",
                    "output_type": "stream",
                    "text": [
                        "15 47636.80967267388\n"
                    ]
                },
                {
                    "data": {
                        "text/latex": [
                            "$ 0.999963007268|Λ=0,N=2,G=2,F1=4,F=4,M=0\\rangle$$+0.007063456468|Λ=0,N=2,G=3,F1=4,F=4,M=0\\rangle$$+0.004651176256|Λ=0,N=4,G=2,F1=4,F=4,M=0\\rangle$$+0.001567876845|Λ=0,N=4,G=3,F1=4,F=4,M=0\\rangle$"
                        ],
                        "text/plain": [
                            "<IPython.core.display.Latex object>"
                        ]
                    },
                    "metadata": {},
                    "output_type": "display_data"
                },
                {
                    "name": "stdout",
                    "output_type": "stream",
                    "text": [
                        "16 47661.19997644234\n"
                    ]
                },
                {
                    "data": {
                        "text/latex": [
                            "$ 0.999264007417|Λ=0,N=2,G=2,F1=1,F=1,M=0\\rangle$$-0.038338167981|Λ=0,N=2,G=3,F1=1,F=1,M=0\\rangle$$+0.001276071137|Λ=0,N=4,G=3,F1=1,F=1,M=0\\rangle$"
                        ],
                        "text/plain": [
                            "<IPython.core.display.Latex object>"
                        ]
                    },
                    "metadata": {},
                    "output_type": "display_data"
                },
                {
                    "name": "stdout",
                    "output_type": "stream",
                    "text": [
                        "17 47958.45749999993\n"
                    ]
                },
                {
                    "data": {
                        "text/latex": [
                            "$-1.0|Λ=0,N=2,G=2,F1=0,F=0,M=0\\rangle$"
                        ],
                        "text/plain": [
                            "<IPython.core.display.Latex object>"
                        ]
                    },
                    "metadata": {},
                    "output_type": "display_data"
                }
            ],
            "source": [
                "for i in N_idx:\n",
                "    print(i, X000.evals0[i])\n",
                "    display(Latex(X000.gen_state_str(i,basis='bBS',label_q=None,thresh=0.000001,show_coeff=True,new_line=False,round=None)))"
            ]
        },
        {
            "cell_type": "code",
            "execution_count": null,
            "metadata": {},
            "outputs": [],
            "source": []
        }
    ],
    "metadata": {
        "kernelspec": {
            "display_name": "Python 3",
            "language": "python",
            "name": "python3"
        },
        "language_info": {
            "codemirror_mode": {
                "name": "ipython",
                "version": 3
            },
            "file_extension": ".py",
            "mimetype": "text/x-python",
            "name": "python",
            "nbconvert_exporter": "python",
            "pygments_lexer": "ipython3",
            "version": "3.7.11"
        }
    },
    "nbformat": 4,
    "nbformat_minor": 2
}