{
    "cells": [
        {
            "cell_type": "code",
            "execution_count": 1,
            "metadata": {},
            "outputs": [],
            "source": [
                "\n",
                "\n",
                "import numpy as np\n",
                "from sympy.physics.wigner import wigner_3j,wigner_6j\n",
                "import sympy as sy\n",
                "from numpy import linalg as LA\n",
                "from IPython.display import Latex,display\n",
                "import matplotlib.pyplot as plt\n",
                "# import seaborn as sns\n",
                "# sns.set()\n",
                "# sns.set_palette('terrain')\n",
                "from energy_levels import MoleculeLevels\n",
                "np.set_printoptions(precision=8, suppress=True)"
            ]
        },
        {
            "cell_type": "code",
            "execution_count": 2,
            "metadata": {},
            "outputs": [],
            "source": [
                "%matplotlib qt"
            ]
        },
        {
            "cell_type": "code",
            "execution_count": 8,
            "metadata": {},
            "outputs": [
                {
                    "name": "stdout",
                    "output_type": "stream",
                    "text": [
                        "No P values provided, using P=1/2 as default\n"
                    ]
                }
            ],
            "source": [
                "A000= MoleculeLevels.initialize_state('YbOH','171','A000',[1,2],M_values='all',I=[1/2,0],round=8)"
            ]
        },
        {
            "cell_type": "code",
            "execution_count": 14,
            "metadata": {
                "scrolled": false
            },
            "outputs": [
                {
                    "name": "stdout",
                    "output_type": "stream",
                    "text": [
                        "[ 0  1  5  7  9 14 16 18 22 28 32 38 45]\n",
                        "\n",
                        "\n"
                    ]
                },
                {
                    "data": {
                        "text/latex": [
                            "$E = 320.97\\:\\mathrm{MHz}$"
                        ],
                        "text/plain": [
                            "<IPython.core.display.Latex object>"
                        ]
                    },
                    "metadata": {},
                    "output_type": "display_data"
                },
                {
                    "name": "stdout",
                    "output_type": "stream",
                    "text": [
                        "Case A:\n"
                    ]
                },
                {
                    "data": {
                        "text/latex": [
                            "$\\,-\\,0.7071|K=1,Sigma=\\frac{-1}{2},P=\\frac{1}{2},J=\\frac{1}{2},F1=0,F=0,M=0\\rangle\\,$$\\,+\\,0.7071|K=-1,Sigma=\\frac{1}{2},P=\\frac{-1}{2},J=\\frac{1}{2},F1=0,F=0,M=0\\rangle\\,$"
                        ],
                        "text/plain": [
                            "<IPython.core.display.Latex object>"
                        ]
                    },
                    "metadata": {},
                    "output_type": "display_data"
                },
                {
                    "name": "stdout",
                    "output_type": "stream",
                    "text": [
                        "\n",
                        "\n",
                        "Decoupled:\n"
                    ]
                },
                {
                    "data": {
                        "text/latex": [
                            "$\\, \\,0.4082|K=-1,M_N=-1,M_S=\\frac{1}{2},M_I=\\frac{1}{2},M_F=0\\rangle\\,$$\\,+\\,0.4082|K=1,M_N=-1,M_S=\\frac{1}{2},M_I=\\frac{1}{2},M_F=0\\rangle\\,$$\\,-\\,0.2887|K=-1,M_N=0,M_S=\\frac{-1}{2},M_I=\\frac{1}{2},M_F=0\\rangle\\,$$\\,-\\,0.2887|K=1,M_N=0,M_S=\\frac{-1}{2},M_I=\\frac{1}{2},M_F=0\\rangle\\,$$\\,-\\,0.2887|K=-1,M_N=0,M_S=\\frac{1}{2},M_I=\\frac{-1}{2},M_F=0\\rangle\\,$$\\,-\\,0.2887|K=1,M_N=0,M_S=\\frac{1}{2},M_I=\\frac{-1}{2},M_F=0\\rangle\\,$$\\,+\\,0.4082|K=-1,M_N=1,M_S=\\frac{-1}{2},M_I=\\frac{-1}{2},M_F=0\\rangle\\,$$\\,+\\,0.4082|K=1,M_N=1,M_S=\\frac{-1}{2},M_I=\\frac{-1}{2},M_F=0\\rangle\\,$"
                        ],
                        "text/plain": [
                            "<IPython.core.display.Latex object>"
                        ]
                    },
                    "metadata": {},
                    "output_type": "display_data"
                },
                {
                    "name": "stdout",
                    "output_type": "stream",
                    "text": [
                        "Case bBS:\n",
                        "Parity= -1.0\n"
                    ]
                },
                {
                    "ename": "KeyError",
                    "evalue": "'N'",
                    "output_type": "error",
                    "traceback": [
                        "\u001b[1;31m---------------------------------------------------------------------------\u001b[0m",
                        "\u001b[1;31mKeyError\u001b[0m                                  Traceback (most recent call last)",
                        "\u001b[1;32m~\\AppData\\Local\\Temp/ipykernel_9052/914234565.py\u001b[0m in \u001b[0;36m<module>\u001b[1;34m\u001b[0m\n\u001b[0;32m     12\u001b[0m     \u001b[0mprint\u001b[0m\u001b[1;33m(\u001b[0m\u001b[1;34m'Case bBS:'\u001b[0m\u001b[1;33m)\u001b[0m\u001b[1;33m\u001b[0m\u001b[1;33m\u001b[0m\u001b[0m\n\u001b[0;32m     13\u001b[0m     \u001b[0mprint\u001b[0m\u001b[1;33m(\u001b[0m\u001b[1;34m'Parity='\u001b[0m\u001b[1;33m,\u001b[0m\u001b[0mA000\u001b[0m\u001b[1;33m.\u001b[0m\u001b[0mparities\u001b[0m\u001b[1;33m[\u001b[0m\u001b[0mi\u001b[0m\u001b[1;33m]\u001b[0m\u001b[1;33m)\u001b[0m\u001b[1;33m\u001b[0m\u001b[1;33m\u001b[0m\u001b[0m\n\u001b[1;32m---> 14\u001b[1;33m     \u001b[0mdisplay\u001b[0m\u001b[1;33m(\u001b[0m\u001b[0mLatex\u001b[0m\u001b[1;33m(\u001b[0m\u001b[0mA000\u001b[0m\u001b[1;33m.\u001b[0m\u001b[0mgen_state_str\u001b[0m\u001b[1;33m(\u001b[0m\u001b[0mi\u001b[0m\u001b[1;33m,\u001b[0m\u001b[0mbasis\u001b[0m\u001b[1;33m=\u001b[0m\u001b[1;34m'bBS'\u001b[0m\u001b[1;33m,\u001b[0m\u001b[0mthresh\u001b[0m\u001b[1;33m=\u001b[0m\u001b[1;36m0.05\u001b[0m\u001b[1;33m,\u001b[0m\u001b[0mround\u001b[0m\u001b[1;33m=\u001b[0m\u001b[1;36m4\u001b[0m\u001b[1;33m)\u001b[0m\u001b[1;33m)\u001b[0m\u001b[1;33m)\u001b[0m\u001b[1;33m\u001b[0m\u001b[1;33m\u001b[0m\u001b[0m\n\u001b[0m",
                        "\u001b[1;32m~\\Dropbox (Hutzler Lab)\\HutzlerLabShared\\Personal\\ArianJadbabaie\\Code\\Molecular-Structure\\energy_levels.py\u001b[0m in \u001b[0;36mgen_state_str\u001b[1;34m(self, vector_idx, evecs, basis, label_q, parity, single, thresh, show_coeff, new_line, round, frac)\u001b[0m\n\u001b[0;32m    634\u001b[0m             \u001b[1;32melif\u001b[0m \u001b[1;34m'bBS'\u001b[0m \u001b[1;32min\u001b[0m \u001b[0mbasis\u001b[0m\u001b[1;33m:\u001b[0m\u001b[1;33m\u001b[0m\u001b[1;33m\u001b[0m\u001b[0m\n\u001b[0;32m    635\u001b[0m                 \u001b[0mq_numbers\u001b[0m \u001b[1;33m=\u001b[0m \u001b[0mself\u001b[0m\u001b[1;33m.\u001b[0m\u001b[0malt_q_numbers\u001b[0m\u001b[1;33m[\u001b[0m\u001b[1;34m'bBS'\u001b[0m\u001b[1;33m]\u001b[0m\u001b[1;33m\u001b[0m\u001b[1;33m\u001b[0m\u001b[0m\n\u001b[1;32m--> 636\u001b[1;33m                 \u001b[1;32mif\u001b[0m \u001b[0mlabel_q\u001b[0m \u001b[1;33m==\u001b[0m \u001b[1;32mNone\u001b[0m\u001b[1;33m:\u001b[0m\u001b[1;33m\u001b[0m\u001b[1;33m\u001b[0m\u001b[0m\n\u001b[0m\u001b[0;32m    637\u001b[0m                     \u001b[0mlabel_q\u001b[0m \u001b[1;33m=\u001b[0m \u001b[0mlist\u001b[0m\u001b[1;33m(\u001b[0m\u001b[0mself\u001b[0m\u001b[1;33m.\u001b[0m\u001b[0malt_q_numbers\u001b[0m\u001b[1;33m[\u001b[0m\u001b[1;34m'bBS'\u001b[0m\u001b[1;33m]\u001b[0m\u001b[1;33m)\u001b[0m\u001b[1;33m\u001b[0m\u001b[1;33m\u001b[0m\u001b[0m\n\u001b[0;32m    638\u001b[0m                 \u001b[0mevecs\u001b[0m \u001b[1;33m=\u001b[0m \u001b[0mself\u001b[0m\u001b[1;33m.\u001b[0m\u001b[0mconvert_evecs\u001b[0m\u001b[1;33m(\u001b[0m\u001b[1;34m'bBS'\u001b[0m\u001b[1;33m,\u001b[0m\u001b[0mevecs\u001b[0m\u001b[1;33m=\u001b[0m\u001b[0mevecs\u001b[0m\u001b[1;33m,\u001b[0m\u001b[0mverbose\u001b[0m\u001b[1;33m=\u001b[0m\u001b[1;32mFalse\u001b[0m\u001b[1;33m)\u001b[0m\u001b[1;33m\u001b[0m\u001b[1;33m\u001b[0m\u001b[0m\n",
                        "\u001b[1;32m~\\Dropbox (Hutzler Lab)\\HutzlerLabShared\\Personal\\ArianJadbabaie\\Code\\Molecular-Structure\\energy_levels.py\u001b[0m in \u001b[0;36mconvert_evecs\u001b[1;34m(self, basis, evecs, Normalize, verbose)\u001b[0m\n\u001b[0;32m    588\u001b[0m             \u001b[0mintermediate\u001b[0m \u001b[1;33m=\u001b[0m \u001b[0mself\u001b[0m\u001b[1;33m.\u001b[0m\u001b[0malt_q_numbers\u001b[0m\u001b[1;33m[\u001b[0m\u001b[1;34m'bBJ'\u001b[0m\u001b[1;33m]\u001b[0m\u001b[1;33m\u001b[0m\u001b[1;33m\u001b[0m\u001b[0m\n\u001b[0;32m    589\u001b[0m             \u001b[1;32mif\u001b[0m \u001b[1;34m'bBS'\u001b[0m \u001b[1;32min\u001b[0m \u001b[0mcurrent_case\u001b[0m\u001b[1;33m:\u001b[0m\u001b[1;33m\u001b[0m\u001b[1;33m\u001b[0m\u001b[0m\n\u001b[1;32m--> 590\u001b[1;33m                 \u001b[0mbasis_matrix\u001b[0m \u001b[1;33m=\u001b[0m \u001b[0mself\u001b[0m\u001b[1;33m.\u001b[0m\u001b[0mlibrary\u001b[0m\u001b[1;33m.\u001b[0m\u001b[0mbasis_changers\u001b[0m\u001b[1;33m[\u001b[0m\u001b[1;34m'a_bBJ'\u001b[0m\u001b[1;33m]\u001b[0m\u001b[1;33m(\u001b[0m\u001b[0mintermediate\u001b[0m\u001b[1;33m,\u001b[0m\u001b[0moutput\u001b[0m\u001b[1;33m)\u001b[0m\u001b[1;33m@\u001b[0m\u001b[0mself\u001b[0m\u001b[1;33m.\u001b[0m\u001b[0mlibrary\u001b[0m\u001b[1;33m.\u001b[0m\u001b[0mbasis_changers\u001b[0m\u001b[1;33m[\u001b[0m\u001b[1;34m'bBS_bBJ'\u001b[0m\u001b[1;33m]\u001b[0m\u001b[1;33m(\u001b[0m\u001b[0minputt\u001b[0m\u001b[1;33m,\u001b[0m\u001b[0mintermediate\u001b[0m\u001b[1;33m)\u001b[0m\u001b[1;33m\u001b[0m\u001b[1;33m\u001b[0m\u001b[0m\n\u001b[0m\u001b[0;32m    591\u001b[0m             \u001b[1;32melse\u001b[0m\u001b[1;33m:\u001b[0m\u001b[1;33m\u001b[0m\u001b[1;33m\u001b[0m\u001b[0m\n\u001b[0;32m    592\u001b[0m                 \u001b[0mbasis_matrix\u001b[0m \u001b[1;33m=\u001b[0m \u001b[0mself\u001b[0m\u001b[1;33m.\u001b[0m\u001b[0mlibrary\u001b[0m\u001b[1;33m.\u001b[0m\u001b[0mbasis_changers\u001b[0m\u001b[1;33m[\u001b[0m\u001b[1;34m'bBS_bBJ'\u001b[0m\u001b[1;33m]\u001b[0m\u001b[1;33m(\u001b[0m\u001b[0minputt\u001b[0m\u001b[1;33m,\u001b[0m\u001b[0mintermediate\u001b[0m\u001b[1;33m)\u001b[0m\u001b[1;33m@\u001b[0m\u001b[0mself\u001b[0m\u001b[1;33m.\u001b[0m\u001b[0mlibrary\u001b[0m\u001b[1;33m.\u001b[0m\u001b[0mbasis_changers\u001b[0m\u001b[1;33m[\u001b[0m\u001b[1;34m'a_bBJ'\u001b[0m\u001b[1;33m]\u001b[0m\u001b[1;33m(\u001b[0m\u001b[0mintermediate\u001b[0m\u001b[1;33m,\u001b[0m\u001b[0moutput\u001b[0m\u001b[1;33m)\u001b[0m\u001b[1;33m\u001b[0m\u001b[1;33m\u001b[0m\u001b[0m\n",
                        "\u001b[1;32m~\\Dropbox (Hutzler Lab)\\HutzlerLabShared\\Personal\\ArianJadbabaie\\Code\\Molecular-Structure\\hamiltonian_builders.py\u001b[0m in \u001b[0;36mconvert_bbBS\u001b[1;34m(input_qnumbers, output_qnumbers, S, I)\u001b[0m\n\u001b[0;32m    319\u001b[0m                 \u001b[0mbBS_qnumbers\u001b[0m \u001b[1;33m=\u001b[0m \u001b[1;33m{\u001b[0m\u001b[0mq\u001b[0m\u001b[1;33m:\u001b[0m\u001b[0moutput_qnumbers\u001b[0m\u001b[1;33m[\u001b[0m\u001b[0mq\u001b[0m\u001b[1;33m]\u001b[0m\u001b[1;33m[\u001b[0m\u001b[0mi\u001b[0m\u001b[1;33m]\u001b[0m \u001b[1;32mfor\u001b[0m \u001b[0mq\u001b[0m \u001b[1;32min\u001b[0m \u001b[0moutput_keys\u001b[0m\u001b[1;33m}\u001b[0m\u001b[1;33m\u001b[0m\u001b[1;33m\u001b[0m\u001b[0m\n\u001b[0;32m    320\u001b[0m                 \u001b[0mbBJ_qnumbers\u001b[0m \u001b[1;33m=\u001b[0m \u001b[1;33m{\u001b[0m\u001b[0mq\u001b[0m\u001b[1;33m:\u001b[0m\u001b[0minput_qnumbers\u001b[0m\u001b[1;33m[\u001b[0m\u001b[0mq\u001b[0m\u001b[1;33m]\u001b[0m\u001b[1;33m[\u001b[0m\u001b[0mj\u001b[0m\u001b[1;33m]\u001b[0m \u001b[1;32mfor\u001b[0m \u001b[0mq\u001b[0m \u001b[1;32min\u001b[0m \u001b[0minput_keys\u001b[0m\u001b[1;33m}\u001b[0m\u001b[1;33m\u001b[0m\u001b[1;33m\u001b[0m\u001b[0m\n\u001b[1;32m--> 321\u001b[1;33m             \u001b[0mbasis_matrix\u001b[0m\u001b[1;33m[\u001b[0m\u001b[0mi\u001b[0m\u001b[1;33m,\u001b[0m\u001b[0mj\u001b[0m\u001b[1;33m]\u001b[0m \u001b[1;33m=\u001b[0m \u001b[0mbBS_2_bBJ_matrix\u001b[0m\u001b[1;33m(\u001b[0m\u001b[0mbBS_qnumbers\u001b[0m\u001b[1;33m,\u001b[0m\u001b[0mbBJ_qnumbers\u001b[0m\u001b[1;33m,\u001b[0m\u001b[0mS\u001b[0m\u001b[1;33m=\u001b[0m\u001b[0mS\u001b[0m\u001b[1;33m,\u001b[0m\u001b[0mI\u001b[0m\u001b[1;33m=\u001b[0m\u001b[0mI\u001b[0m\u001b[1;33m)\u001b[0m\u001b[1;33m\u001b[0m\u001b[1;33m\u001b[0m\u001b[0m\n\u001b[0m\u001b[0;32m    322\u001b[0m     \u001b[1;32mreturn\u001b[0m \u001b[0mbasis_matrix\u001b[0m\u001b[1;33m\u001b[0m\u001b[1;33m\u001b[0m\u001b[0m\n\u001b[0;32m    323\u001b[0m \u001b[1;33m\u001b[0m\u001b[0m\n",
                        "\u001b[1;32m~\\Dropbox (Hutzler Lab)\\HutzlerLabShared\\Personal\\ArianJadbabaie\\Code\\Molecular-Structure\\matrix_elements.py\u001b[0m in \u001b[0;36mbBS_2_bBJ_matrix\u001b[1;34m(bBS, bBJ, S, I)\u001b[0m\n\u001b[0;32m     54\u001b[0m     \u001b[1;32mif\u001b[0m \u001b[1;34m'F1'\u001b[0m \u001b[1;32min\u001b[0m \u001b[0mbBJ\u001b[0m\u001b[1;33m.\u001b[0m\u001b[0mkeys\u001b[0m\u001b[1;33m(\u001b[0m\u001b[1;33m)\u001b[0m\u001b[1;33m:\u001b[0m\u001b[1;33m\u001b[0m\u001b[1;33m\u001b[0m\u001b[0m\n\u001b[0;32m     55\u001b[0m         \u001b[0mF\u001b[0m \u001b[1;33m=\u001b[0m \u001b[0mbBJ\u001b[0m\u001b[1;33m[\u001b[0m\u001b[1;34m'F1'\u001b[0m\u001b[1;33m]\u001b[0m\u001b[1;33m\u001b[0m\u001b[1;33m\u001b[0m\u001b[0m\n\u001b[1;32m---> 56\u001b[1;33m         \u001b[1;32mif\u001b[0m \u001b[1;32mnot\u001b[0m \u001b[0mkronecker\u001b[0m\u001b[1;33m(\u001b[0m\u001b[0mbBS\u001b[0m\u001b[1;33m[\u001b[0m\u001b[1;34m'F1'\u001b[0m\u001b[1;33m]\u001b[0m\u001b[1;33m,\u001b[0m\u001b[0mbBJ\u001b[0m\u001b[1;33m[\u001b[0m\u001b[1;34m'F1'\u001b[0m\u001b[1;33m]\u001b[0m\u001b[1;33m)\u001b[0m\u001b[1;33m*\u001b[0m\u001b[0mkronecker\u001b[0m\u001b[1;33m(\u001b[0m\u001b[0mbBS\u001b[0m\u001b[1;33m[\u001b[0m\u001b[1;34m'M'\u001b[0m\u001b[1;33m]\u001b[0m\u001b[1;33m,\u001b[0m\u001b[0mbBJ\u001b[0m\u001b[1;33m[\u001b[0m\u001b[1;34m'M'\u001b[0m\u001b[1;33m]\u001b[0m\u001b[1;33m)\u001b[0m\u001b[1;33m*\u001b[0m\u001b[0mkronecker\u001b[0m\u001b[1;33m(\u001b[0m\u001b[0mbBS\u001b[0m\u001b[1;33m[\u001b[0m\u001b[1;34m'N'\u001b[0m\u001b[1;33m]\u001b[0m\u001b[1;33m,\u001b[0m\u001b[0mbBJ\u001b[0m\u001b[1;33m[\u001b[0m\u001b[1;34m'N'\u001b[0m\u001b[1;33m]\u001b[0m\u001b[1;33m)\u001b[0m\u001b[1;33m*\u001b[0m\u001b[0mkronecker\u001b[0m\u001b[1;33m(\u001b[0m\u001b[0mbBS\u001b[0m\u001b[1;33m[\u001b[0m\u001b[1;34m'F'\u001b[0m\u001b[1;33m]\u001b[0m\u001b[1;33m,\u001b[0m\u001b[0mbBJ\u001b[0m\u001b[1;33m[\u001b[0m\u001b[1;34m'F'\u001b[0m\u001b[1;33m]\u001b[0m\u001b[1;33m)\u001b[0m\u001b[1;33m:\u001b[0m\u001b[1;33m\u001b[0m\u001b[1;33m\u001b[0m\u001b[0m\n\u001b[0m\u001b[0;32m     57\u001b[0m             \u001b[1;32mreturn\u001b[0m \u001b[1;36m0\u001b[0m\u001b[1;33m\u001b[0m\u001b[1;33m\u001b[0m\u001b[0m\n\u001b[0;32m     58\u001b[0m     \u001b[1;32melse\u001b[0m\u001b[1;33m:\u001b[0m\u001b[1;33m\u001b[0m\u001b[1;33m\u001b[0m\u001b[0m\n",
                        "\u001b[1;31mKeyError\u001b[0m: 'N'"
                    ]
                }
            ],
            "source": [
                "evals, evecs = A000.eigensystem(0,1e-6,order=True,method='torch')\n",
                "M0_idx = A000.select_q({'M':[0]})\n",
                "print(M0_idx)\n",
                "print('\\n')\n",
                "for i in M0_idx:\n",
                "    display(Latex('$E = '+str(np.round(A000.evals0[i],4))+r'\\:\\mathrm{MHz}$'))\n",
                "    print('Case A:')\n",
                "    display(Latex(A000.gen_state_str(i,thresh=0.05,round=4)))\n",
                "    print('\\n')\n",
                "    print('Decoupled:')\n",
                "    display(Latex(A000.gen_state_str(i,basis='decoupled',thresh=0.05,label_q=['K','M_N','M_S','M_I','M_F'],round=4)))\n",
                "    print('Case bBS:')\n",
                "    print('Parity=',A000.parities[i])\n",
                "    display(Latex(A000.gen_state_str(i,basis='bBS',thresh=0.05,round=4)))"
            ]
        },
        {
            "cell_type": "code",
            "execution_count": null,
            "metadata": {},
            "outputs": [],
            "source": []
        },
        {
            "cell_type": "code",
            "execution_count": null,
            "metadata": {},
            "outputs": [],
            "source": []
        },
        {
            "cell_type": "code",
            "execution_count": 4,
            "metadata": {},
            "outputs": [
                {
                    "name": "stdout",
                    "output_type": "stream",
                    "text": [
                        "Cannot construct decoupled basis without M values\n"
                    ]
                }
            ],
            "source": [
                "A000= MoleculeLevels.initialize_state('YbOH','171','A000',[1],M_values='none',I=[1/2,1/2],P_values=[1/2],round=8)"
            ]
        },
        {
            "cell_type": "code",
            "execution_count": 5,
            "metadata": {},
            "outputs": [],
            "source": [
                "A000.eigensystem(0.0,0.0);\n",
                "X000.eigensystem(0.0,0.0);"
            ]
        },
        {
            "cell_type": "code",
            "execution_count": 6,
            "metadata": {},
            "outputs": [],
            "source": [
                "from energy_levels import branching_ratios\n",
                "from energy_levels import xa_branching_ratios"
            ]
        },
        {
            "cell_type": "code",
            "execution_count": null,
            "metadata": {},
            "outputs": [],
            "source": []
        },
        {
            "cell_type": "code",
            "execution_count": 7,
            "metadata": {},
            "outputs": [],
            "source": [
                "def select_N(N,state):\n",
                "    idx = []\n",
                "    N = np.array(N)\n",
                "    for i,qN in enumerate(state.q_numbers['N']):\n",
                "        for _N in N:\n",
                "            if qN == _N:\n",
                "                idx.append(i)\n",
                "    return np.array(idx)\n",
                "\n",
                "def select_J(J,state):\n",
                "    idx = []\n",
                "    J = np.array(J)\n",
                "    for i,qJ in enumerate(state.q_numbers['J']):\n",
                "        for _J in J:\n",
                "            if qJ == _J:\n",
                "                idx.append(i)\n",
                "    return np.array(idx)"
            ]
        },
        {
            "cell_type": "code",
            "execution_count": 8,
            "metadata": {},
            "outputs": [
                {
                    "name": "stdout",
                    "output_type": "stream",
                    "text": [
                        "[0 1 2 3 4 5]\n",
                        "[3 4 5 6 7 8 9]\n"
                    ]
                }
            ],
            "source": [
                "J_idx = A000.select_q({'J':[0.5]})\n",
                "print(J_idx)\n",
                "N_idx = X000.select_q({'N':[1]})\n",
                "print(N_idx)"
            ]
        },
        {
            "cell_type": "code",
            "execution_count": 9,
            "metadata": {},
            "outputs": [
                {
                    "name": "stdout",
                    "output_type": "stream",
                    "text": [
                        "Successfully converted eigenvectors from bBS to aBJ\n"
                    ]
                }
            ],
            "source": [
                "BR0 = branching_ratios(X000,A000,0,0)"
            ]
        },
        {
            "cell_type": "code",
            "execution_count": 10,
            "metadata": {},
            "outputs": [],
            "source": [
                "(y,x) = BR0.shape\n",
                "h=10\n",
                "fsize = (h,h*x/y)\n",
                "fig,axes = plt.subplots(1,1,figsize=(15,10),sharey=True,constrained_layout=True)\n",
                "axes.matshow(BR0)\n",
                "axes.grid(False)"
            ]
        },
        {
            "cell_type": "code",
            "execution_count": null,
            "metadata": {},
            "outputs": [],
            "source": []
        },
        {
            "cell_type": "code",
            "execution_count": 11,
            "metadata": {},
            "outputs": [],
            "source": [
                "def gen_state_str(vector,q_numbers,label_q,thresh=0.02,show_coeff=True):\n",
                "    full_label = r''\n",
                "    nonzero_idx = np.nonzero(vector)[0]\n",
                "    first = 0\n",
                "    for i,index in enumerate(nonzero_idx):\n",
                "        coeff = vector[index]\n",
                "        if abs(coeff) < thresh:\n",
                "            first+=1\n",
                "            continue\n",
                "        sign = {True: '+', False: '-'}[coeff > 0]\n",
                "        sign0 = {True: ' ', False: sign}[sign=='+']\n",
                "        if show_coeff:\n",
                "            label_str = r'${}{}|'.format({True: sign0, False: sign}[i==first],abs(coeff))\n",
                "        else:\n",
                "            label_str = r'${}|'.format({True: sign0, False: sign}[i==first])\n",
                "        val = {q:q_numbers[q][index] for q in label_q}\n",
                "        for q in label_q:\n",
                "            _q = {True: '\\u039B', False: q}[q=='L']\n",
                "            _q = {True: '\\u03A3', False: _q}[q=='Sigma']\n",
                "            _q = {True: '\\u03A9', False: _q}[q=='Omega']\n",
                "            if (abs(val[q]) % 1) !=0:\n",
                "                label_str+=r'{}=\\frac{{{}}}{{{}}},'.format(_q,*val[q].as_integer_ratio())\n",
                "            else:\n",
                "                label_str+=r'{}={},'.format(_q,int(val[q]))\n",
                "        label_str = label_str[:-1]+r'\\rangle$'\n",
                "        full_label+=label_str\n",
                "    if i==first and show_coeff==False:\n",
                "        full_label = r'$'+full_label[2:]\n",
                "    return full_label"
            ]
        },
        {
            "cell_type": "code",
            "execution_count": 12,
            "metadata": {},
            "outputs": [],
            "source": [
                "fig,ax = plt.subplots(figsize=(10,10),constrained_layout=True)\n",
                "# ax.set_aspect('equal')\n",
                "A_idx = J_idx[-1]+1\n",
                "X_idx = N_idx[-1]+1\n",
                "log=False\n",
                "BR_plot = BR0\n",
                "if log:\n",
                "    BR_plot=np.log10(BR0)\n",
                "    vmin = -10\n",
                "    vmax = 0\n",
                "else:\n",
                "    vmin=None\n",
                "    vmax = None\n",
                "#     log_BR = np.copy(BR0)\n",
                "#     for i,val1 in enumerate(log_BR):\n",
                "#         for j,val2 in enumerate(val1):\n",
                "#             if val2 !=0:\n",
                "#                 log_BR[i,j] = np.log10(val2)\n",
                "#     BR_plot = log_BR\n",
                "mat = ax.matshow(BR_plot[:X_idx,:A_idx],cmap=plt.get_cmap('magma'),vmax = vmax, vmin = vmin)\n",
                "y = np.arange(0,len(X000.evecs0[:X_idx]))\n",
                "x = np.arange(0,len(A000.evecs0[:A_idx]))\n",
                "ax.set_yticks(y)\n",
                "ax.set_xticks(x)\n",
                "y_labels = [gen_state_str(X000.evecs0[i],X000.q_numbers,[q for q in X000.q_str if (q=='N' or q=='G' or q=='F1' or q=='F')],thresh=0.2,show_coeff=False) for i in range(y.size)]\n",
                "x_labels = [gen_state_str(A000.evecs0[i],A000.q_numbers,[q for q in A000.q_str if (q=='L' or q=='J' or q=='F1' or q=='F')],thresh=0.2,show_coeff=False) for i in range(x.size)]\n",
                "ax.set_yticklabels(y_labels, rotation='40', fontsize=12, ha='right')\n",
                "ax.set_xticklabels(x_labels, rotation='40', fontsize=12,ha='left')\n",
                "ax.tick_params(axis='both',labelsize=10,direction='out')\n",
                "ax.grid(True,which='major',color='white',ls='--',linewidth=0.5)\n",
                "ax.grid(False,which='minor')\n",
                "(bot,top) = ax.get_ylim()\n",
                "ax.set_ylim(bot+0.5, top-0.5)\n",
                "cbar = fig.colorbar(mat, ax=ax,fraction=0.015, pad=0.05)\n",
                "#ax.set_xlim(-0.5,x.size+0.5);"
            ]
        },
        {
            "cell_type": "code",
            "execution_count": 14,
            "metadata": {},
            "outputs": [],
            "source": [
                "X000.display_levels(0,0,pattern_q='F',idx=N_idx)"
            ]
        },
        {
            "cell_type": "code",
            "execution_count": 62,
            "metadata": {},
            "outputs": [],
            "source": [
                "N_idx = select_N([4],X000)\n",
                "s = slice(N_idx[0],N_idx[-1]+1)"
            ]
        },
        {
            "cell_type": "code",
            "execution_count": 63,
            "metadata": {},
            "outputs": [
                {
                    "data": {
                        "text/plain": [
                            "slice(14, 18, None)"
                        ]
                    },
                    "execution_count": 63,
                    "metadata": {},
                    "output_type": "execute_result"
                }
            ],
            "source": [
                "s"
            ]
        },
        {
            "cell_type": "code",
            "execution_count": 64,
            "metadata": {},
            "outputs": [
                {
                    "data": {
                        "text/plain": [
                            "array([0.        , 0.        , 0.        , 0.        , 0.        ,\n",
                            "       0.        , 0.00237795, 0.        , 0.28344722, 0.28563516,\n",
                            "       0.        , 0.        , 0.        , 0.        , 0.78565275,\n",
                            "       0.78579341])"
                        ]
                    },
                    "execution_count": 64,
                    "metadata": {},
                    "output_type": "execute_result"
                }
            ],
            "source": [
                "BR0[s].sum(axis=0)"
            ]
        },
        {
            "cell_type": "code",
            "execution_count": 11,
            "metadata": {},
            "outputs": [],
            "source": [
                "def select_N(N,state):\n",
                "    idx = []\n",
                "    N = np.array(N)\n",
                "    for i,qN in enumerate(state.q_numbers['N']):\n",
                "        for _N in N:\n",
                "            if qN == _N:\n",
                "                idx.append(i)\n",
                "    return np.array(idx)\n",
                "\n",
                "def select_J(J,state):\n",
                "    idx = []\n",
                "    J = np.array(J)\n",
                "    for i,qJ in enumerate(state.q_numbers['J']):\n",
                "        for _J in J:\n",
                "            if qJ == _J:\n",
                "                idx.append(i)\n",
                "    return np.array(idx)"
            ]
        },
        {
            "cell_type": "code",
            "execution_count": 71,
            "metadata": {},
            "outputs": [
                {
                    "name": "stdout",
                    "output_type": "stream",
                    "text": [
                        "[0 1 2 3]\n",
                        "[ 0  1  8  9 10 11 12 13 14 15 16 17]\n"
                    ]
                }
            ],
            "source": [
                "J_idx = select_J([0.5],A000)\n",
                "print(J_idx)\n",
                "N_idx = select_N([0,2],X000)\n",
                "print(N_idx)"
            ]
        },
        {
            "cell_type": "code",
            "execution_count": 72,
            "metadata": {
                "scrolled": false
            },
            "outputs": [
                {
                    "name": "stdout",
                    "output_type": "stream",
                    "text": [
                        "0 693.2096012882782\n"
                    ]
                },
                {
                    "data": {
                        "text/latex": [
                            "$ 0.707085737922|Λ=1,Σ=\\tfrac{-1}{2},Ω=\\tfrac{1}{2},J=\\tfrac{1}{2},F1=3,F=3,M=0\\rangle$$-0.707085737922|Λ=-1,Σ=\\tfrac{1}{2},Ω=\\tfrac{-1}{2},J=\\tfrac{1}{2},F1=3,F=3,M=0\\rangle$$-0.00278791441|Λ=1,Σ=\\tfrac{-1}{2},Ω=\\tfrac{1}{2},J=\\tfrac{3}{2},F1=3,F=3,M=0\\rangle$$-0.00278791441|Λ=-1,Σ=\\tfrac{1}{2},Ω=\\tfrac{-1}{2},J=\\tfrac{3}{2},F1=3,F=3,M=0\\rangle$$+0.004689003204|Λ=1,Σ=\\tfrac{-1}{2},Ω=\\tfrac{1}{2},J=\\tfrac{5}{2},F1=3,F=3,M=0\\rangle$$-0.004689003204|Λ=-1,Σ=\\tfrac{1}{2},Ω=\\tfrac{-1}{2},J=\\tfrac{5}{2},F1=3,F=3,M=0\\rangle$$-3.050111e-06|Λ=1,Σ=\\tfrac{-1}{2},Ω=\\tfrac{1}{2},J=\\tfrac{7}{2},F1=3,F=3,M=0\\rangle$$-3.050111e-06|Λ=-1,Σ=\\tfrac{1}{2},Ω=\\tfrac{-1}{2},J=\\tfrac{7}{2},F1=3,F=3,M=0\\rangle$"
                        ],
                        "text/plain": [
                            "<IPython.core.display.Latex object>"
                        ]
                    },
                    "metadata": {},
                    "output_type": "display_data"
                },
                {
                    "name": "stdout",
                    "output_type": "stream",
                    "text": [
                        "1 1469.3885290736666\n"
                    ]
                },
                {
                    "data": {
                        "text/latex": [
                            "$ 0.707082227533|Λ=1,Σ=\\tfrac{-1}{2},Ω=\\tfrac{1}{2},J=\\tfrac{1}{2},F1=2,F=2,M=0\\rangle$$-0.707082227533|Λ=-1,Σ=\\tfrac{1}{2},Ω=\\tfrac{-1}{2},J=\\tfrac{1}{2},F1=2,F=2,M=0\\rangle$$+0.004948278856|Λ=1,Σ=\\tfrac{-1}{2},Ω=\\tfrac{1}{2},J=\\tfrac{3}{2},F1=2,F=2,M=0\\rangle$$+0.004948278856|Λ=-1,Σ=\\tfrac{1}{2},Ω=\\tfrac{-1}{2},J=\\tfrac{3}{2},F1=2,F=2,M=0\\rangle$$+0.003199683453|Λ=1,Σ=\\tfrac{-1}{2},Ω=\\tfrac{1}{2},J=\\tfrac{5}{2},F1=2,F=2,M=0\\rangle$$-0.003199683453|Λ=-1,Σ=\\tfrac{1}{2},Ω=\\tfrac{-1}{2},J=\\tfrac{5}{2},F1=2,F=2,M=0\\rangle$$+8.32106e-06|Λ=1,Σ=\\tfrac{-1}{2},Ω=\\tfrac{1}{2},J=\\tfrac{7}{2},F1=2,F=2,M=0\\rangle$$+8.32106e-06|Λ=-1,Σ=\\tfrac{1}{2},Ω=\\tfrac{-1}{2},J=\\tfrac{7}{2},F1=2,F=2,M=0\\rangle$"
                        ],
                        "text/plain": [
                            "<IPython.core.display.Latex object>"
                        ]
                    },
                    "metadata": {},
                    "output_type": "display_data"
                },
                {
                    "name": "stdout",
                    "output_type": "stream",
                    "text": [
                        "2 14002.431880641494\n"
                    ]
                },
                {
                    "data": {
                        "text/latex": [
                            "$-0.70707251613|Λ=1,Σ=\\tfrac{-1}{2},Ω=\\tfrac{1}{2},J=\\tfrac{1}{2},F1=2,F=2,M=0\\rangle$$-0.70707251613|Λ=-1,Σ=\\tfrac{1}{2},Ω=\\tfrac{-1}{2},J=\\tfrac{1}{2},F1=2,F=2,M=0\\rangle$$+0.006650421108|Λ=1,Σ=\\tfrac{-1}{2},Ω=\\tfrac{1}{2},J=\\tfrac{3}{2},F1=2,F=2,M=0\\rangle$$-0.006650421108|Λ=-1,Σ=\\tfrac{1}{2},Ω=\\tfrac{-1}{2},J=\\tfrac{3}{2},F1=2,F=2,M=0\\rangle$$-0.002056322609|Λ=1,Σ=\\tfrac{-1}{2},Ω=\\tfrac{1}{2},J=\\tfrac{5}{2},F1=2,F=2,M=0\\rangle$$-0.002056322609|Λ=-1,Σ=\\tfrac{1}{2},Ω=\\tfrac{-1}{2},J=\\tfrac{5}{2},F1=2,F=2,M=0\\rangle$$+1.9237629e-05|Λ=1,Σ=\\tfrac{-1}{2},Ω=\\tfrac{1}{2},J=\\tfrac{7}{2},F1=2,F=2,M=0\\rangle$$-1.9237629e-05|Λ=-1,Σ=\\tfrac{1}{2},Ω=\\tfrac{-1}{2},J=\\tfrac{7}{2},F1=2,F=2,M=0\\rangle$"
                        ],
                        "text/plain": [
                            "<IPython.core.display.Latex object>"
                        ]
                    },
                    "metadata": {},
                    "output_type": "display_data"
                },
                {
                    "name": "stdout",
                    "output_type": "stream",
                    "text": [
                        "3 14164.636055729787\n"
                    ]
                },
                {
                    "data": {
                        "text/latex": [
                            "$-0.694157297639|Λ=1,Σ=\\tfrac{-1}{2},Ω=\\tfrac{1}{2},J=\\tfrac{1}{2},F1=3,F=3,M=0\\rangle$$-0.694157297639|Λ=-1,Σ=\\tfrac{1}{2},Ω=\\tfrac{-1}{2},J=\\tfrac{1}{2},F1=3,F=3,M=0\\rangle$$+0.134673696585|Λ=1,Σ=\\tfrac{-1}{2},Ω=\\tfrac{1}{2},J=\\tfrac{3}{2},F1=3,F=3,M=0\\rangle$$-0.134673696585|Λ=-1,Σ=\\tfrac{1}{2},Ω=\\tfrac{-1}{2},J=\\tfrac{3}{2},F1=3,F=3,M=0\\rangle$$-0.002899048876|Λ=1,Σ=\\tfrac{-1}{2},Ω=\\tfrac{1}{2},J=\\tfrac{5}{2},F1=3,F=3,M=0\\rangle$$-0.002899048876|Λ=-1,Σ=\\tfrac{1}{2},Ω=\\tfrac{-1}{2},J=\\tfrac{5}{2},F1=3,F=3,M=0\\rangle$$+0.000486927731|Λ=1,Σ=\\tfrac{-1}{2},Ω=\\tfrac{1}{2},J=\\tfrac{7}{2},F1=3,F=3,M=0\\rangle$$-0.000486927731|Λ=-1,Σ=\\tfrac{1}{2},Ω=\\tfrac{-1}{2},J=\\tfrac{7}{2},F1=3,F=3,M=0\\rangle$"
                        ],
                        "text/plain": [
                            "<IPython.core.display.Latex object>"
                        ]
                    },
                    "metadata": {},
                    "output_type": "display_data"
                }
            ],
            "source": [
                "for i in J_idx:\n",
                "    print(i, A000.evals0[i])\n",
                "    display(Latex(A000.gen_state_str(i,basis=None,label_q=None,thresh=0.000000001,show_coeff=True,new_line=False,round=16)))"
            ]
        },
        {
            "cell_type": "code",
            "execution_count": 73,
            "metadata": {
                "scrolled": false
            },
            "outputs": [
                {
                    "name": "stdout",
                    "output_type": "stream",
                    "text": [
                        "0 -2363.5941618933575\n"
                    ]
                },
                {
                    "data": {
                        "text/latex": [
                            "$ 0.999891980988|Λ=0,N=0,G=3,F1=3,F=3,M=0\\rangle$$-0.003926368471|Λ=0,N=2,G=2,F1=3,F=3,M=0\\rangle$$+0.014163631087|Λ=0,N=2,G=3,F1=3,F=3,M=0\\rangle$$-1.8146333e-05|Λ=0,N=4,G=2,F1=3,F=3,M=0\\rangle$$+3.4804245e-05|Λ=0,N=4,G=3,F1=3,F=3,M=0\\rangle$"
                        ],
                        "text/plain": [
                            "<IPython.core.display.Latex object>"
                        ]
                    },
                    "metadata": {},
                    "output_type": "display_data"
                },
                {
                    "name": "stdout",
                    "output_type": "stream",
                    "text": [
                        "1 3287.737818417867\n"
                    ]
                },
                {
                    "data": {
                        "text/latex": [
                            "$ 0.999907744571|Λ=0,N=0,G=2,F1=2,F=2,M=0\\rangle$$+0.012151443054|Λ=0,N=2,G=2,F1=2,F=2,M=0\\rangle$$+0.006069902095|Λ=0,N=2,G=3,F1=2,F=2,M=0\\rangle$$+1.9066895e-05|Λ=0,N=4,G=2,F1=2,F=2,M=0\\rangle$$+2.6525736e-05|Λ=0,N=4,G=3,F1=2,F=2,M=0\\rangle$"
                        ],
                        "text/plain": [
                            "<IPython.core.display.Latex object>"
                        ]
                    },
                    "metadata": {},
                    "output_type": "display_data"
                },
                {
                    "name": "stdout",
                    "output_type": "stream",
                    "text": [
                        "8 41351.79888583459\n"
                    ]
                },
                {
                    "data": {
                        "text/latex": [
                            "$-0.007065221358|Λ=0,N=2,G=2,F1=4,F=4,M=0\\rangle$$+0.99996057403|Λ=0,N=2,G=3,F1=4,F=4,M=0\\rangle$$-0.001370250363|Λ=0,N=4,G=2,F1=4,F=4,M=0\\rangle$$+0.005201484982|Λ=0,N=4,G=3,F1=4,F=4,M=0\\rangle$"
                        ],
                        "text/plain": [
                            "<IPython.core.display.Latex object>"
                        ]
                    },
                    "metadata": {},
                    "output_type": "display_data"
                },
                {
                    "name": "stdout",
                    "output_type": "stream",
                    "text": [
                        "9 41514.72384166406\n"
                    ]
                },
                {
                    "data": {
                        "text/latex": [
                            "$ 0.014051149383|Λ=0,N=0,G=3,F1=3,F=3,M=0\\rangle$$-0.027338040304|Λ=0,N=2,G=2,F1=3,F=3,M=0\\rangle$$-0.999518983109|Λ=0,N=2,G=3,F1=3,F=3,M=0\\rangle$$+0.000585649228|Λ=0,N=4,G=2,F1=3,F=3,M=0\\rangle$$-0.004081197429|Λ=0,N=4,G=3,F1=3,F=3,M=0\\rangle$"
                        ],
                        "text/plain": [
                            "<IPython.core.display.Latex object>"
                        ]
                    },
                    "metadata": {},
                    "output_type": "display_data"
                },
                {
                    "name": "stdout",
                    "output_type": "stream",
                    "text": [
                        "10 41926.018391475714\n"
                    ]
                },
                {
                    "data": {
                        "text/latex": [
                            "$-0.999986024869|Λ=0,N=2,G=3,F1=5,F=5,M=0\\rangle$$+0.00186980651|Λ=0,N=4,G=2,F1=5,F=5,M=0\\rangle$$-0.004945087552|Λ=0,N=4,G=3,F1=5,F=5,M=0\\rangle$"
                        ],
                        "text/plain": [
                            "<IPython.core.display.Latex object>"
                        ]
                    },
                    "metadata": {},
                    "output_type": "display_data"
                },
                {
                    "name": "stdout",
                    "output_type": "stream",
                    "text": [
                        "11 41978.555827442295\n"
                    ]
                },
                {
                    "data": {
                        "text/latex": [
                            "$-0.006611171644|Λ=0,N=0,G=2,F1=2,F=2,M=0\\rangle$$+0.045006943079|Λ=0,N=2,G=2,F1=2,F=2,M=0\\rangle$$+0.998961817794|Λ=0,N=2,G=3,F1=2,F=2,M=0\\rangle$$-0.000137979779|Λ=0,N=4,G=2,F1=2,F=2,M=0\\rangle$$+0.002436192842|Λ=0,N=4,G=3,F1=2,F=2,M=0\\rangle$"
                        ],
                        "text/plain": [
                            "<IPython.core.display.Latex object>"
                        ]
                    },
                    "metadata": {},
                    "output_type": "display_data"
                },
                {
                    "name": "stdout",
                    "output_type": "stream",
                    "text": [
                        "12 42469.48615342732\n"
                    ]
                },
                {
                    "data": {
                        "text/latex": [
                            "$ 0.038337023569|Λ=0,N=2,G=2,F1=1,F=1,M=0\\rangle$$+0.999264452177|Λ=0,N=2,G=3,F1=1,F=1,M=0\\rangle$$+0.00090952745|Λ=0,N=4,G=3,F1=1,F=1,M=0\\rangle$"
                        ],
                        "text/plain": [
                            "<IPython.core.display.Latex object>"
                        ]
                    },
                    "metadata": {},
                    "output_type": "display_data"
                },
                {
                    "name": "stdout",
                    "output_type": "stream",
                    "text": [
                        "13 47042.05658401892\n"
                    ]
                },
                {
                    "data": {
                        "text/latex": [
                            "$ 0.004311761186|Λ=0,N=0,G=3,F1=3,F=3,M=0\\rangle$$+0.99960773415|Λ=0,N=2,G=2,F1=3,F=3,M=0\\rangle$$-0.027285190284|Λ=0,N=2,G=3,F1=3,F=3,M=0\\rangle$$+0.004201989382|Λ=0,N=4,G=2,F1=3,F=3,M=0\\rangle$$+0.001910031221|Λ=0,N=4,G=3,F1=3,F=3,M=0\\rangle$"
                        ],
                        "text/plain": [
                            "<IPython.core.display.Latex object>"
                        ]
                    },
                    "metadata": {},
                    "output_type": "display_data"
                },
                {
                    "name": "stdout",
                    "output_type": "stream",
                    "text": [
                        "14 47242.35994082906\n"
                    ]
                },
                {
                    "data": {
                        "text/latex": [
                            "$-0.011865688661|Λ=0,N=0,G=2,F1=2,F=2,M=0\\rangle$$+0.998908130021|Λ=0,N=2,G=2,F1=2,F=2,M=0\\rangle$$-0.045087136625|Λ=0,N=2,G=3,F1=2,F=2,M=0\\rangle$$+0.00237268338|Λ=0,N=4,G=2,F1=2,F=2,M=0\\rangle$$+0.001809335591|Λ=0,N=4,G=3,F1=2,F=2,M=0\\rangle$"
                        ],
                        "text/plain": [
                            "<IPython.core.display.Latex object>"
                        ]
                    },
                    "metadata": {},
                    "output_type": "display_data"
                },
                {
                    "name": "stdout",
                    "output_type": "stream",
                    "text": [
                        "15 47636.80967267388\n"
                    ]
                },
                {
                    "data": {
                        "text/latex": [
                            "$ 0.999963007268|Λ=0,N=2,G=2,F1=4,F=4,M=0\\rangle$$+0.007063456468|Λ=0,N=2,G=3,F1=4,F=4,M=0\\rangle$$+0.004651176256|Λ=0,N=4,G=2,F1=4,F=4,M=0\\rangle$$+0.001567876845|Λ=0,N=4,G=3,F1=4,F=4,M=0\\rangle$"
                        ],
                        "text/plain": [
                            "<IPython.core.display.Latex object>"
                        ]
                    },
                    "metadata": {},
                    "output_type": "display_data"
                },
                {
                    "name": "stdout",
                    "output_type": "stream",
                    "text": [
                        "16 47661.19997644234\n"
                    ]
                },
                {
                    "data": {
                        "text/latex": [
                            "$ 0.999264007417|Λ=0,N=2,G=2,F1=1,F=1,M=0\\rangle$$-0.038338167981|Λ=0,N=2,G=3,F1=1,F=1,M=0\\rangle$$+0.001276071137|Λ=0,N=4,G=3,F1=1,F=1,M=0\\rangle$"
                        ],
                        "text/plain": [
                            "<IPython.core.display.Latex object>"
                        ]
                    },
                    "metadata": {},
                    "output_type": "display_data"
                },
                {
                    "name": "stdout",
                    "output_type": "stream",
                    "text": [
                        "17 47958.45749999993\n"
                    ]
                },
                {
                    "data": {
                        "text/latex": [
                            "$-1.0|Λ=0,N=2,G=2,F1=0,F=0,M=0\\rangle$"
                        ],
                        "text/plain": [
                            "<IPython.core.display.Latex object>"
                        ]
                    },
                    "metadata": {},
                    "output_type": "display_data"
                }
            ],
            "source": [
                "for i in N_idx:\n",
                "    print(i, X000.evals0[i])\n",
                "    display(Latex(X000.gen_state_str(i,basis='bBS',label_q=None,thresh=0.000001,show_coeff=True,new_line=False,round=None)))"
            ]
        },
        {
            "cell_type": "code",
            "execution_count": null,
            "metadata": {},
            "outputs": [],
            "source": []
        }
    ],
    "metadata": {
        "kernelspec": {
            "display_name": "Python 3 (ipykernel)",
            "language": "python",
            "name": "python3"
        },
        "language_info": {
            "codemirror_mode": {
                "name": "ipython",
                "version": 3
            },
            "file_extension": ".py",
            "mimetype": "text/x-python",
            "name": "python",
            "nbconvert_exporter": "python",
            "pygments_lexer": "ipython3",
            "version": "3.8.12"
        }
    },
    "nbformat": 4,
    "nbformat_minor": 2
}
