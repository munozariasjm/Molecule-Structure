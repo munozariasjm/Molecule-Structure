{
    "cells": [
        {
            "cell_type": "code",
            "execution_count": null,
            "id": "0ede5ef1",
            "metadata": {},
            "outputs": [],
            "source": [
                "from config_path import add_to_sys_path\n",
                "add_to_sys_path()  # Call the function to add path"
            ]
        },
        {
            "cell_type": "markdown",
            "metadata": {},
            "source": [
                "import numpy as np\n",
                "from sympy.physics.wigner import wigner_3j,wigner_6j\n",
                "import sympy as sy\n",
                "from numpy import linalg as LA\n",
                "from IPython.display import Latex\n",
                "import matplotlib.pyplot as plt\n",
                "import seaborn as sns\n",
                "sns.set()\n",
                "sns.set_palette('terrain')\n",
                "#from YbOH_energy_levels_symbolic import YbOHLevels\n",
                "np.set_printoptions(precision=8, suppress=True)"
            ]
        },
        {
            "cell_type": "code",
            "execution_count": 10,
            "metadata": {},
            "outputs": [],
            "source": [
                "def H_hfs(q_numbers,matrix_elements,SO=0,E=0,B=0,M_values='all',precision=5):\n",
                "    q_str = list(q_numbers)\n",
                "    B,a,d,pq,eQq = sy.symbols('B a d pq eQq')\n",
                "    size = len(q_numbers[q_str[0]])\n",
                "    H = np.zeros((size,size)).tolist()\n",
                "    for i in range(size):\n",
                "        for j in range(size):\n",
                "            state_out = {q+'0':q_numbers[q][i] for q in q_str}\n",
                "            state_in = {q+'1':q_numbers[q][j] for q in q_str}\n",
                "            q_args = {**state_out,**state_in}\n",
                "            elements = {term: element(**q_args) for term, element in matrix_elements.items()}\n",
                "            H[i][j] = B*elements['N^2'] + a*elements['IzLz_Yb'] - d*elements['T2_2(IS)_Yb']+\\\n",
                "                          eQq*elements['T2_0(II)_Yb']+pq*elements['Lambda-Doubling']\n",
                "            # if M_values!='none':\n",
                "            #     H[i][j]+=params['g_L']*params['mu_B']*Bz*elements['ZeemanLZ']+params['g_S']*params['mu_B']*Bz*elements['ZeemanSZ'] +\\\n",
                "            #     Bz*params['g_lp']*params['mu_B']*elements['ZeemanParityZ'] - params['muE_A']*Ez*elements['StarkZ']\n",
                "            # H[i][j] = round(H[i][j],precision)\n",
                "\n",
                "\n",
                "                # params['bFH']*elements['I.S'] + params['cH']*np.sqrt(6)/3*elements['T2_0(IS)']\n",
                "    H_symbolic = sy.Matrix(H)\n",
                "    H_func = sy.lambdify((Ez,Bz), H_symbolic, modules='numpy')\n",
                "    return H_func,H_symbolic\n",
                "                          \n",
                "def q_numbers_aBJ(N_range,Lambda=1,S=1/2,I_list=[0,1/2],Omega_values=[1/2]):\n",
                "    IYb=I_list[0]\n",
                "    iH = I_list[-1]\n",
                "    Nmin,Nmax=N_range[0],N_range[-1]\n",
                "    Jmin = abs(Nmin-S)\n",
                "    Jmax = abs(Nmax+S)\n",
                "    if Nmin<abs(Lambda):\n",
                "        print('Nmin must be >= L')\n",
                "        Nmin=abs(Lambda)\n",
                "    q_str = ['L','Sigma','Omega','J','F']\n",
                "    q_numbers = {}\n",
                "    for q in q_str:\n",
                "        q_numbers[q] = []\n",
                "    I = max(IYb,iH)\n",
                "    for J in np.arange(Jmin,Jmax+1,1):\n",
                "        for F in np.arange(abs(J-I),abs(J+I)+1,1):\n",
                "            for Sigma in np.arange(-abs(S),abs(S)+1,1):\n",
                "                for L in {True:[0], False:[-Lambda,Lambda]}[Lambda==0]:\n",
                "                    Omega=L+Sigma\n",
                "                    if abs(Omega) not in Omega_values:\n",
                "                        continue\n",
                "                    else:\n",
                "                        values = [L,Sigma,Omega,J,F]\n",
                "                    for q,val in zip(q_str,values):\n",
                "                        q_numbers[q].append(val+0)    #looks weird but adding 0 converts -0 to 0\n",
                "    return q_numbers\n",
                "                          \n",
                "def kronecker(a,b):         # Kronecker delta function\n",
                "    if a==b:\n",
                "        return 1\n",
                "    else:\n",
                "        return 0\n",
                "    \n",
                "def IL(L0,Sigma0,Omega0,J0,F0,L1,Sigma1,Omega1,J1,F1,S,I):\n",
                "    if not kronecker(L0,L1)*kronecker(F0,F1)*kronecker(Sigma0,Sigma1)*kronecker(Omega0,Omega1):\n",
                "        return 0\n",
                "    else:\n",
                "        return L0*(-1)**(J1+I+F0)*wigner_6j(J1,I,F0,I,J0,1)*\\\n",
                "            (-1)**(J0-Omega0)*wigner_3j(J0,1,J1,-Omega0,0,Omega1)*\\\n",
                "            sy.sqrt((2*J0+1)*(2*J1+1)*(2*I+1)*(I+1)*I)\n",
                "    \n",
                "def T2q2_IS(L0,Sigma0,Omega0,J0,F0,L1,Sigma1,Omega1,J1,F1,S,I):\n",
                "    if not kronecker(F0,F1)*(not kronecker(L0,L1)):\n",
                "        return 0\n",
                "    else:\n",
                "        return (-1)**(J1+I+F0+J0-Omega0+S-Sigma0)*\\\n",
                "            wigner_6j(J1,I,F0,I,J0,1)*sy.sqrt((2*J0+1)*(2*J1+1)*S*(S+1)*(2*S+1)*I*(I+1)*(2*I+1))*\\\n",
                "            sum([(-1)**(q)*kronecker(L0,L1-2*q)*wigner_3j(S,1,S,-Sigma0,q,Sigma1)*wigner_3j(J0,1,J1,-Omega0,-q,Omega1) for q in [-1,1]])\n",
                "    \n",
                "def a_pos_term(L0,Sigma0,Omega0,J0,F0,L1,Sigma1,Omega1,J1,F1,S,I):\n",
                "    a_term= 1/2*(IL(L0,Sigma0,Omega0,J0,F0,L1,Sigma1,Omega1,J1,F1,S,I)+(-1)**(J0-S+J1-S)*IL(-L0,-Sigma0,-Omega0,J0,F0,-L1,-Sigma1,-Omega1,J1,F1,S,I))\n",
                "    return sy.nsimplify(a_term)\n",
                "\n",
                "def d_pos_term(L0,Sigma0,Omega0,J0,F0,L1,Sigma1,Omega1,J1,F1,S,I):\n",
                "    d_term = 1/2*((-1)**(J0-S)*T2q2_IS(-L0,-Sigma0,-Omega0,J0,F0,L1,Sigma1,Omega1,J1,F1,S,I)+(-1)**(J1-S)*T2q2_IS(L0,Sigma0,Omega0,J0,F0,-L1,-Sigma1,-Omega1,J1,F1,S,I))\n",
                "    return sy.nsimplify(d_term)"
            ]
        },
        {
            "cell_type": "code",
            "execution_count": 64,
            "metadata": {},
            "outputs": [],
            "source": [
                "B,a,d,pq,eQq= sy.symbols('B a d (p+2q) eQq')"
            ]
        },
        {
            "cell_type": "code",
            "execution_count": 79,
            "metadata": {},
            "outputs": [],
            "source": [
                "Ja = sy.nsimplify(1/2)\n",
                "Jb = sy.nsimplify(3/2)\n",
                "F = sy.nsimplify(1)\n",
                "I = sy.nsimplify(1/2)\n",
                "S = sy.nsimplify(1/2)\n",
                "L = sy.nsimplify(1)"
            ]
        },
        {
            "cell_type": "code",
            "execution_count": 80,
            "metadata": {},
            "outputs": [],
            "source": [
                "diag_a = sy.nsimplify(B*Ja*(Ja+1) + -(-1)**(Ja-S)*pq/2*(Ja+1/2))\n",
                "diag_b = sy.nsimplify(B*Jb*(Jb+1) + -(-1)**(Jb-S)*pq/2*(Jb+1/2))"
            ]
        },
        {
            "cell_type": "code",
            "execution_count": 81,
            "metadata": {},
            "outputs": [],
            "source": [
                "off_r = a*a_pos_term(1,-1/2,1/2,Jb,F,1,-1/2,1/2,Ja,F,S,I) + d*d_pos_term(1,-1/2,1/2,Jb,F,1,-1/2,1/2,Ja,F,S,I) \n",
                "off_l = a*a_pos_term(1,-1/2,1/2,Ja,F,1,-1/2,1/2,Jb,F,S,I) + d*d_pos_term(1,-1/2,1/2,Ja,F,1,-1/2,1/2,Jb,F,S,I) "
            ]
        },
        {
            "cell_type": "code",
            "execution_count": 82,
            "metadata": {},
            "outputs": [],
            "source": [
                "H=sy.Matrix([[diag_a,off_r],[off_l,diag_b]])"
            ]
        },
        {
            "cell_type": "code",
            "execution_count": 83,
            "metadata": {},
            "outputs": [
                {
                    "data": {
                        "text/latex": [
                            "$\\displaystyle \\left[\\begin{matrix}- \\frac{(p+2q)}{2} + \\frac{3 B}{4} & - \\frac{\\sqrt{2} a}{3} + \\frac{\\sqrt{2} d}{6}\\\\- \\frac{\\sqrt{2} a}{3} + \\frac{\\sqrt{2} d}{6} & (p+2q) + \\frac{15 B}{4}\\end{matrix}\\right]$"
                        ],
                        "text/plain": [
                            "Matrix([\n",
                            "[         -(p+2q)/2 + 3*B/4, -sqrt(2)*a/3 + sqrt(2)*d/6],\n",
                            "[-sqrt(2)*a/3 + sqrt(2)*d/6,            (p+2q) + 15*B/4]])"
                        ]
                    },
                    "execution_count": 83,
                    "metadata": {},
                    "output_type": "execute_result"
                }
            ],
            "source": [
                "H"
            ]
        },
        {
            "cell_type": "code",
            "execution_count": 73,
            "metadata": {},
            "outputs": [
                {
                    "data": {
                        "text/latex": [
                            "$\\displaystyle \\left[\\begin{matrix}- \\frac{3 (p+2q)}{4} - \\frac{3 B}{2} & - \\frac{\\sqrt{14} a}{3} + \\frac{\\sqrt{14} d}{6}\\\\- \\frac{\\sqrt{14} a}{3} + \\frac{\\sqrt{14} d}{6} & \\frac{3 (p+2q)}{4} + \\frac{3 B}{2}\\end{matrix}\\right]$"
                        ],
                        "text/plain": [
                            "Matrix([\n",
                            "[         -3*(p+2q)/4 - 3*B/2, -sqrt(14)*a/3 + sqrt(14)*d/6],\n",
                            "[-sqrt(14)*a/3 + sqrt(14)*d/6,           3*(p+2q)/4 + 3*B/2]])"
                        ]
                    },
                    "execution_count": 73,
                    "metadata": {},
                    "output_type": "execute_result"
                }
            ],
            "source": [
                "H - sy.Matrix([[1,0],[0,1]])*(H[0,0]+H[1,1])/2"
            ]
        },
        {
            "cell_type": "code",
            "execution_count": 42,
            "metadata": {},
            "outputs": [],
            "source": [
                "out=H.eigenvects(simplify=True)"
            ]
        },
        {
            "cell_type": "code",
            "execution_count": 43,
            "metadata": {},
            "outputs": [
                {
                    "data": {
                        "text/latex": [
                            "$\\displaystyle \\frac{(p+2q)}{4} + \\frac{9 B}{4} - \\frac{\\sqrt{81 (p+2q)^{2} + 324 (p+2q) B + 324 B^{2} + 32 a^{2} - 32 a d + 8 d^{2}}}{12}$"
                        ],
                        "text/plain": [
                            "(p+2q)/4 + 9*B/4 - sqrt(81*(p+2q)**2 + 324*(p+2q)*B + 324*B**2 + 32*a**2 - 32*a*d + 8*d**2)/12"
                        ]
                    },
                    "execution_count": 43,
                    "metadata": {},
                    "output_type": "execute_result"
                }
            ],
            "source": [
                "out[0][0]"
            ]
        },
        {
            "cell_type": "code",
            "execution_count": 44,
            "metadata": {},
            "outputs": [],
            "source": [
                "energies = [out[0][0],out[1][0]]"
            ]
        },
        {
            "cell_type": "code",
            "execution_count": 45,
            "metadata": {},
            "outputs": [],
            "source": [
                "evects = [out[0][2][0], out[1][2][0]]"
            ]
        },
        {
            "cell_type": "code",
            "execution_count": 49,
            "metadata": {},
            "outputs": [
                {
                    "data": {
                        "text/latex": [
                            "$\\displaystyle \\left[\\begin{matrix}\\frac{2 \\sqrt{2} \\left(- 2 a + d\\right)}{\\sqrt{8 \\left|{\\frac{2 a - d}{9 (p+2q) + 18 B - \\sqrt{81 (p+2q)^{2} + 324 (p+2q) B + 324 B^{2} + 32 a^{2} - 32 a d + 8 d^{2}}}}\\right|^{2} + 1} \\left(9 (p+2q) + 18 B - \\sqrt{81 (p+2q)^{2} + 324 (p+2q) B + 324 B^{2} + 32 a^{2} - 32 a d + 8 d^{2}}\\right)}\\\\\\frac{1}{\\sqrt{8 \\left|{\\frac{2 a - d}{9 (p+2q) + 18 B - \\sqrt{81 (p+2q)^{2} + 324 (p+2q) B + 324 B^{2} + 32 a^{2} - 32 a d + 8 d^{2}}}}\\right|^{2} + 1}}\\end{matrix}\\right]$"
                        ],
                        "text/plain": [
                            "Matrix([\n",
                            "[2*sqrt(2)*(-2*a + d)/(sqrt(8*Abs((2*a - d)/(9*(p+2q) + 18*B - sqrt(81*(p+2q)**2 + 324*(p+2q)*B + 324*B**2 + 32*a**2 - 32*a*d + 8*d**2)))**2 + 1)*(9*(p+2q) + 18*B - sqrt(81*(p+2q)**2 + 324*(p+2q)*B + 324*B**2 + 32*a**2 - 32*a*d + 8*d**2)))],\n",
                            "[                                                                                                                  1/sqrt(8*Abs((2*a - d)/(9*(p+2q) + 18*B - sqrt(81*(p+2q)**2 + 324*(p+2q)*B + 324*B**2 + 32*a**2 - 32*a*d + 8*d**2)))**2 + 1)]])"
                        ]
                    },
                    "execution_count": 49,
                    "metadata": {},
                    "output_type": "execute_result"
                }
            ],
            "source": [
                "sy.simplify(evects[0].normalized())"
            ]
        },
        {
            "cell_type": "code",
            "execution_count": 56,
            "metadata": {},
            "outputs": [
                {
                    "data": {
                        "text/latex": [
                            "$\\displaystyle \\sqrt{8 \\left|{\\frac{2 a - d}{9 (p+2q) + 18 B - \\sqrt{81 (p+2q)^{2} + 324 (p+2q) B + 324 B^{2} + 32 a^{2} - 32 a d + 8 d^{2}}}}\\right|^{2} + 1}$"
                        ],
                        "text/plain": [
                            "sqrt(8*Abs((2*a - d)/(9*(p+2q) + 18*B - sqrt(81*(p+2q)**2 + 324*(p+2q)*B + 324*B**2 + 32*a**2 - 32*a*d + 8*d**2)))**2 + 1)"
                        ]
                    },
                    "execution_count": 56,
                    "metadata": {},
                    "output_type": "execute_result"
                }
            ],
            "source": [
                "sy.simplify(evects[0].norm())"
            ]
        },
        {
            "cell_type": "code",
            "execution_count": 63,
            "metadata": {},
            "outputs": [
                {
                    "data": {
                        "text/latex": [
                            "$\\displaystyle 81 (p+2q)^{2} + 324 (p+2q) B + 324 B^{2} + 32 a^{2} - 32 a d + 8 d^{2}$"
                        ],
                        "text/plain": [
                            "81*(p+2q)**2 + 324*(p+2q)*B + 324*B**2 + 32*a**2 - 32*a*d + 8*d**2"
                        ]
                    },
                    "execution_count": 63,
                    "metadata": {},
                    "output_type": "execute_result"
                }
            ],
            "source": [
                "y = 81*pq**2 + 324*pq*B + 324*B**2 + 32*a**2 - 32*a*d+8*d**2\n",
                "sy.simplify(y)"
            ]
        },
        {
            "cell_type": "code",
            "execution_count": 38,
            "metadata": {},
            "outputs": [
                {
                    "ename": "TypeError",
                    "evalue": "unsupported operand type(s) for /: 'One' and 'MutableDenseMatrix'",
                    "output_type": "error",
                    "traceback": [
                        "\u001b[1;31m---------------------------------------------------------------------------\u001b[0m",
                        "\u001b[1;31mTypeError\u001b[0m                                 Traceback (most recent call last)",
                        "\u001b[1;32m<ipython-input-38-0f0ae0cf624b>\u001b[0m in \u001b[0;36m<module>\u001b[1;34m\u001b[0m\n\u001b[0;32m      2\u001b[0m \u001b[1;32mfor\u001b[0m \u001b[0mevec\u001b[0m \u001b[1;32min\u001b[0m \u001b[0mevects\u001b[0m\u001b[1;33m:\u001b[0m\u001b[1;33m\u001b[0m\u001b[1;33m\u001b[0m\u001b[0m\n\u001b[0;32m      3\u001b[0m     \u001b[0mnorm\u001b[0m \u001b[1;33m=\u001b[0m \u001b[0mevec\u001b[0m\u001b[1;33m.\u001b[0m\u001b[0mT\u001b[0m\u001b[1;33m*\u001b[0m\u001b[0mevec\u001b[0m\u001b[1;33m\u001b[0m\u001b[1;33m\u001b[0m\u001b[0m\n\u001b[1;32m----> 4\u001b[1;33m     \u001b[0mnorm_evects\u001b[0m\u001b[1;33m.\u001b[0m\u001b[0mappend\u001b[0m\u001b[1;33m(\u001b[0m\u001b[0mevec\u001b[0m\u001b[1;33m/\u001b[0m\u001b[0mnorm\u001b[0m\u001b[1;33m)\u001b[0m\u001b[1;33m\u001b[0m\u001b[1;33m\u001b[0m\u001b[0m\n\u001b[0m",
                        "\u001b[1;32mD:\\Anaconda3\\lib\\site-packages\\sympy\\core\\decorators.py\u001b[0m in \u001b[0;36mbinary_op_wrapper\u001b[1;34m(self, other)\u001b[0m\n\u001b[0;32m    125\u001b[0m                     \u001b[1;32mif\u001b[0m \u001b[0mf\u001b[0m \u001b[1;32mis\u001b[0m \u001b[1;32mnot\u001b[0m \u001b[1;32mNone\u001b[0m\u001b[1;33m:\u001b[0m\u001b[1;33m\u001b[0m\u001b[1;33m\u001b[0m\u001b[0m\n\u001b[0;32m    126\u001b[0m                         \u001b[1;32mreturn\u001b[0m \u001b[0mf\u001b[0m\u001b[1;33m(\u001b[0m\u001b[0mself\u001b[0m\u001b[1;33m)\u001b[0m\u001b[1;33m\u001b[0m\u001b[1;33m\u001b[0m\u001b[0m\n\u001b[1;32m--> 127\u001b[1;33m             \u001b[1;32mreturn\u001b[0m \u001b[0mfunc\u001b[0m\u001b[1;33m(\u001b[0m\u001b[0mself\u001b[0m\u001b[1;33m,\u001b[0m \u001b[0mother\u001b[0m\u001b[1;33m)\u001b[0m\u001b[1;33m\u001b[0m\u001b[1;33m\u001b[0m\u001b[0m\n\u001b[0m\u001b[0;32m    128\u001b[0m         \u001b[1;32mreturn\u001b[0m \u001b[0mbinary_op_wrapper\u001b[0m\u001b[1;33m\u001b[0m\u001b[1;33m\u001b[0m\u001b[0m\n\u001b[0;32m    129\u001b[0m     \u001b[1;32mreturn\u001b[0m \u001b[0mpriority_decorator\u001b[0m\u001b[1;33m\u001b[0m\u001b[1;33m\u001b[0m\u001b[0m\n",
                        "\u001b[1;32mD:\\Anaconda3\\lib\\site-packages\\sympy\\matrices\\common.py\u001b[0m in \u001b[0;36m__truediv__\u001b[1;34m(self, other)\u001b[0m\n\u001b[0;32m   2710\u001b[0m     \u001b[1;33m@\u001b[0m\u001b[0mcall_highest_priority\u001b[0m\u001b[1;33m(\u001b[0m\u001b[1;34m'__rtruediv__'\u001b[0m\u001b[1;33m)\u001b[0m\u001b[1;33m\u001b[0m\u001b[1;33m\u001b[0m\u001b[0m\n\u001b[0;32m   2711\u001b[0m     \u001b[1;32mdef\u001b[0m \u001b[0m__truediv__\u001b[0m\u001b[1;33m(\u001b[0m\u001b[0mself\u001b[0m\u001b[1;33m,\u001b[0m \u001b[0mother\u001b[0m\u001b[1;33m)\u001b[0m\u001b[1;33m:\u001b[0m\u001b[1;33m\u001b[0m\u001b[1;33m\u001b[0m\u001b[0m\n\u001b[1;32m-> 2712\u001b[1;33m         \u001b[1;32mreturn\u001b[0m \u001b[0mself\u001b[0m\u001b[1;33m.\u001b[0m\u001b[0m__div__\u001b[0m\u001b[1;33m(\u001b[0m\u001b[0mother\u001b[0m\u001b[1;33m)\u001b[0m\u001b[1;33m\u001b[0m\u001b[1;33m\u001b[0m\u001b[0m\n\u001b[0m\u001b[0;32m   2713\u001b[0m \u001b[1;33m\u001b[0m\u001b[0m\n\u001b[0;32m   2714\u001b[0m \u001b[1;33m\u001b[0m\u001b[0m\n",
                        "\u001b[1;32mD:\\Anaconda3\\lib\\site-packages\\sympy\\core\\decorators.py\u001b[0m in \u001b[0;36mbinary_op_wrapper\u001b[1;34m(self, other)\u001b[0m\n\u001b[0;32m    125\u001b[0m                     \u001b[1;32mif\u001b[0m \u001b[0mf\u001b[0m \u001b[1;32mis\u001b[0m \u001b[1;32mnot\u001b[0m \u001b[1;32mNone\u001b[0m\u001b[1;33m:\u001b[0m\u001b[1;33m\u001b[0m\u001b[1;33m\u001b[0m\u001b[0m\n\u001b[0;32m    126\u001b[0m                         \u001b[1;32mreturn\u001b[0m \u001b[0mf\u001b[0m\u001b[1;33m(\u001b[0m\u001b[0mself\u001b[0m\u001b[1;33m)\u001b[0m\u001b[1;33m\u001b[0m\u001b[1;33m\u001b[0m\u001b[0m\n\u001b[1;32m--> 127\u001b[1;33m             \u001b[1;32mreturn\u001b[0m \u001b[0mfunc\u001b[0m\u001b[1;33m(\u001b[0m\u001b[0mself\u001b[0m\u001b[1;33m,\u001b[0m \u001b[0mother\u001b[0m\u001b[1;33m)\u001b[0m\u001b[1;33m\u001b[0m\u001b[1;33m\u001b[0m\u001b[0m\n\u001b[0m\u001b[0;32m    128\u001b[0m         \u001b[1;32mreturn\u001b[0m \u001b[0mbinary_op_wrapper\u001b[0m\u001b[1;33m\u001b[0m\u001b[1;33m\u001b[0m\u001b[0m\n\u001b[0;32m    129\u001b[0m     \u001b[1;32mreturn\u001b[0m \u001b[0mpriority_decorator\u001b[0m\u001b[1;33m\u001b[0m\u001b[1;33m\u001b[0m\u001b[0m\n",
                        "\u001b[1;32mD:\\Anaconda3\\lib\\site-packages\\sympy\\matrices\\common.py\u001b[0m in \u001b[0;36m__div__\u001b[1;34m(self, other)\u001b[0m\n\u001b[0;32m   2450\u001b[0m     \u001b[1;33m@\u001b[0m\u001b[0mcall_highest_priority\u001b[0m\u001b[1;33m(\u001b[0m\u001b[1;34m'__rdiv__'\u001b[0m\u001b[1;33m)\u001b[0m\u001b[1;33m\u001b[0m\u001b[1;33m\u001b[0m\u001b[0m\n\u001b[0;32m   2451\u001b[0m     \u001b[1;32mdef\u001b[0m \u001b[0m__div__\u001b[0m\u001b[1;33m(\u001b[0m\u001b[0mself\u001b[0m\u001b[1;33m,\u001b[0m \u001b[0mother\u001b[0m\u001b[1;33m)\u001b[0m\u001b[1;33m:\u001b[0m\u001b[1;33m\u001b[0m\u001b[1;33m\u001b[0m\u001b[0m\n\u001b[1;32m-> 2452\u001b[1;33m         \u001b[1;32mreturn\u001b[0m \u001b[0mself\u001b[0m \u001b[1;33m*\u001b[0m \u001b[1;33m(\u001b[0m\u001b[0mself\u001b[0m\u001b[1;33m.\u001b[0m\u001b[0mone\u001b[0m \u001b[1;33m/\u001b[0m \u001b[0mother\u001b[0m\u001b[1;33m)\u001b[0m\u001b[1;33m\u001b[0m\u001b[1;33m\u001b[0m\u001b[0m\n\u001b[0m\u001b[0;32m   2453\u001b[0m \u001b[1;33m\u001b[0m\u001b[0m\n\u001b[0;32m   2454\u001b[0m     \u001b[1;33m@\u001b[0m\u001b[0mcall_highest_priority\u001b[0m\u001b[1;33m(\u001b[0m\u001b[1;34m'__rmatmul__'\u001b[0m\u001b[1;33m)\u001b[0m\u001b[1;33m\u001b[0m\u001b[1;33m\u001b[0m\u001b[0m\n",
                        "\u001b[1;31mTypeError\u001b[0m: unsupported operand type(s) for /: 'One' and 'MutableDenseMatrix'"
                    ]
                }
            ],
            "source": [
                "norm_evects = []\n",
                "for evec in evects:\n",
                "    norm = evec.T*evec\n",
                "    norm_evects.append(evec/norm)"
            ]
        },
        {
            "cell_type": "code",
            "execution_count": 41,
            "metadata": {},
            "outputs": [
                {
                    "ename": "AttributeError",
                    "evalue": "'MutableDenseMatrix' object has no attribute 'normalize'",
                    "output_type": "error",
                    "traceback": [
                        "\u001b[1;31m---------------------------------------------------------------------------\u001b[0m",
                        "\u001b[1;31mAttributeError\u001b[0m                            Traceback (most recent call last)",
                        "\u001b[1;32m<ipython-input-41-8eb89a1bcd84>\u001b[0m in \u001b[0;36m<module>\u001b[1;34m\u001b[0m\n\u001b[1;32m----> 1\u001b[1;33m \u001b[0mevects\u001b[0m\u001b[1;33m[\u001b[0m\u001b[1;36m0\u001b[0m\u001b[1;33m]\u001b[0m\u001b[1;33m.\u001b[0m\u001b[0mnormalize\u001b[0m\u001b[1;33m(\u001b[0m\u001b[1;33m)\u001b[0m\u001b[1;33m\u001b[0m\u001b[1;33m\u001b[0m\u001b[0m\n\u001b[0m",
                        "\u001b[1;31mAttributeError\u001b[0m: 'MutableDenseMatrix' object has no attribute 'normalize'"
                    ]
                }
            ],
            "source": [
                "evects[0].normalize()"
            ]
        },
        {
            "cell_type": "code",
            "execution_count": 116,
            "metadata": {},
            "outputs": [],
            "source": [
                "a,b,c,d= sy.symbols('a b c d')"
            ]
        },
        {
            "cell_type": "code",
            "execution_count": 123,
            "metadata": {},
            "outputs": [
                {
                    "data": {
                        "text/latex": [
                            "$\\displaystyle \\left[\\begin{matrix}b & - a + d\\\\- a + d & c\\end{matrix}\\right]$"
                        ],
                        "text/plain": [
                            "Matrix([\n",
                            "[     b, -a + d],\n",
                            "[-a + d,      c]])"
                        ]
                    },
                    "execution_count": 123,
                    "metadata": {},
                    "output_type": "execute_result"
                }
            ],
            "source": [
                "G=sy.Matrix([[b,-a+d],[-a+d,c]])\n",
                "G"
            ]
        },
        {
            "cell_type": "code",
            "execution_count": 122,
            "metadata": {},
            "outputs": [
                {
                    "data": {
                        "text/latex": [
                            "$\\displaystyle \\left[\\begin{matrix}\\frac{2 a - 2 d}{b - c + \\sqrt{4 a^{2} - 8 a d + b^{2} - 2 b c + c^{2} + 4 d^{2}}}\\\\1\\end{matrix}\\right]$"
                        ],
                        "text/plain": [
                            "Matrix([\n",
                            "[(2*a - 2*d)/(b - c + sqrt(4*a**2 - 8*a*d + b**2 - 2*b*c + c**2 + 4*d**2))],\n",
                            "[                                                                        1]])"
                        ]
                    },
                    "execution_count": 122,
                    "metadata": {},
                    "output_type": "execute_result"
                }
            ],
            "source": [
                "G.eigenvects()[0][2][0]"
            ]
        },
        {
            "cell_type": "code",
            "execution_count": 128,
            "metadata": {},
            "outputs": [],
            "source": [
                "n = G.eigenvects()[1][2][0][0]"
            ]
        },
        {
            "cell_type": "code",
            "execution_count": 129,
            "metadata": {},
            "outputs": [
                {
                    "data": {
                        "text/latex": [
                            "$\\displaystyle \\frac{2 a - 2 d}{b - c - \\sqrt{4 a^{2} - 8 a d + b^{2} - 2 b c + c^{2} + 4 d^{2}}}$"
                        ],
                        "text/plain": [
                            "(2*a - 2*d)/(b - c - sqrt(4*a**2 - 8*a*d + b**2 - 2*b*c + c**2 + 4*d**2))"
                        ]
                    },
                    "execution_count": 129,
                    "metadata": {},
                    "output_type": "execute_result"
                }
            ],
            "source": [
                "n"
            ]
        },
        {
            "cell_type": "code",
            "execution_count": 133,
            "metadata": {},
            "outputs": [
                {
                    "data": {
                        "text/latex": [
                            "$\\displaystyle \\sqrt{\\frac{4 \\left(a - d\\right)^{2}}{\\left(- b + c + \\sqrt{4 a^{2} - 8 a d + b^{2} - 2 b c + c^{2} + 4 d^{2}}\\right)^{2}} + 1}$"
                        ],
                        "text/plain": [
                            "sqrt(4*(a - d)**2/(-b + c + sqrt(4*a**2 - 8*a*d + b**2 - 2*b*c + c**2 + 4*d**2))**2 + 1)"
                        ]
                    },
                    "execution_count": 133,
                    "metadata": {},
                    "output_type": "execute_result"
                }
            ],
            "source": [
                "sy.simplify(sy.sqrt(n**2+1))"
            ]
        },
        {
            "cell_type": "code",
            "execution_count": null,
            "metadata": {},
            "outputs": [],
            "source": []
        }
    ],
    "metadata": {
        "kernelspec": {
            "display_name": "Python 3",
            "language": "python",
            "name": "python3"
        },
        "language_info": {
            "codemirror_mode": {
                "name": "ipython",
                "version": 3
            },
            "file_extension": ".py",
            "mimetype": "text/x-python",
            "name": "python",
            "nbconvert_exporter": "python",
            "pygments_lexer": "ipython3",
            "version": "3.8.11"
        }
    },
    "nbformat": 4,
    "nbformat_minor": 4
}