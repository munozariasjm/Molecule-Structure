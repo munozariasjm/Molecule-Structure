{
    "cells": [
        {
            "cell_type": "code",
            "execution_count": 10,
            "metadata": {},
            "outputs": [],
            "source": [
                "from config_path import add_to_sys_path\n",
                "add_to_sys_path()  # Call the function to add path\n",
                "\n",
                "import numpy as np\n",
                "from sympy.physics.wigner import wigner_3j,wigner_6j\n",
                "import sympy as sy\n",
                "from numpy import linalg as LA\n",
                "from IPython.display import Latex,display\n",
                "import matplotlib.pyplot as plt\n",
                "import seaborn as sns\n",
                "sns.set()\n",
                "sns.set_palette('terrain')\n",
                "from YbOH_energy_levels_symbolic import YbOHLevels\n",
                "np.set_printoptions(precision=5, suppress=True)"
            ]
        },
        {
            "cell_type": "code",
            "execution_count": 2,
            "metadata": {},
            "outputs": [
                {
                    "name": "stdout",
                    "output_type": "stream",
                    "text": [
                        "Cannot construct decoupled basis without M values\n"
                    ]
                }
            ],
            "source": [
                "X000_173 = YbOHLevels.initialize_state('173','X000',[0,1,2,3,4],M_values = 'none',I=[5/2,1/2],S=1/2,round=6)"
            ]
        },
        {
            "cell_type": "code",
            "execution_count": 3,
            "metadata": {
                "scrolled": false
            },
            "outputs": [
                {
                    "name": "stdout",
                    "output_type": "stream",
                    "text": [
                        "Cannot construct decoupled basis without M values\n"
                    ]
                }
            ],
            "source": [
                "A000_173 = YbOHLevels.initialize_state('173','A000',[1,2,3,4],M_values = 'none',I=[5/2,1/2],S=1/2,round=6)"
            ]
        },
        {
            "cell_type": "code",
            "execution_count": 4,
            "metadata": {},
            "outputs": [],
            "source": [
                "evals, evecs = A000_173.eigensystem(0,0.0000,order=True,method='numpy')"
            ]
        },
        {
            "cell_type": "code",
            "execution_count": 5,
            "metadata": {},
            "outputs": [
                {
                    "data": {
                        "text/plain": [
                            "array([  7331.76374,   7331.76374,   7770.95954,   7770.95954,\n",
                            "        16305.32084,  16305.32084,  16734.95261,  16734.95261,\n",
                            "        18256.59935,  18256.59935,  25380.43901,  25380.43901,\n",
                            "        27329.57483,  27329.57483,  27686.83009,  27686.83009,\n",
                            "        44121.14521,  44121.14521,  45875.70713,  45875.70713,\n",
                            "        47544.08653,  48307.24412,  48307.24412,  48707.75778,\n",
                            "        48707.75778,  50929.1698 ,  50929.1698 ,  51562.31297,\n",
                            "        51562.31297,  53845.38049,  53845.38049,  56826.63573,\n",
                            "        56826.63573,  58254.95938,  58254.95938,  86982.08653,\n",
                            "        87587.83261,  87587.83261,  88819.09011,  88819.09011,\n",
                            "        90713.7455 ,  90713.7455 ,  92698.88772,  92698.88772,\n",
                            "        93334.59947,  93334.59947,  94031.23902,  94031.23902,\n",
                            "        95955.21201,  95955.21201,  96814.27697,  96814.27697,\n",
                            "        98372.95467,  98372.95467, 101104.14674, 101104.14674,\n",
                            "       103476.05155, 103476.05155, 145152.41669, 145152.41669,\n",
                            "       146151.74923, 146151.74923, 147669.59037, 147669.59037,\n",
                            "       149730.53712, 149730.53712, 152360.4543 , 152360.4543 ,\n",
                            "       152374.2772 , 152374.2772 , 153816.82369, 153816.82369,\n",
                            "       155674.39234, 155674.39234, 155711.64645, 155711.64645,\n",
                            "       157996.44969, 157996.44969, 160586.29988, 160586.29988,\n",
                            "       163270.21329, 163270.21329, 217989.95103, 217989.95103,\n",
                            "       219318.06219, 219318.06219, 221086.00329, 221086.00329,\n",
                            "       223291.26256, 223291.26256, 225930.64067, 225930.64067,\n",
                            "       229000.21329, 229000.21329])"
                        ]
                    },
                    "execution_count": 5,
                    "metadata": {},
                    "output_type": "execute_result"
                }
            ],
            "source": [
                "from YbOH_energy_levels_symbolic import xa_branching_ratios"
            ]
        },
        {
            "cell_type": "code",
            "execution_count": null,
            "metadata": {},
            "outputs": [],
            "source": []
        },
        {
            "cell_type": "code",
            "execution_count": 6,
            "metadata": {},
            "outputs": [],
            "source": [
                "def select_N(N,state):\n",
                "    idx = []\n",
                "    N = np.array(N)\n",
                "    for i,qN in enumerate(state.q_numbers['N']):\n",
                "        for _N in N:\n",
                "            if qN == _N:\n",
                "                idx.append(i)\n",
                "    return np.array(idx)\n",
                "\n",
                "def select_J(J,state):\n",
                "    idx = []\n",
                "    J = np.array(J)\n",
                "    for i,qJ in enumerate(state.q_numbers['J']):\n",
                "        for _J in J:\n",
                "            if qJ == _J:\n",
                "                idx.append(i)\n",
                "    return np.array(idx)"
            ]
        },
        {
            "cell_type": "code",
            "execution_count": 7,
            "metadata": {},
            "outputs": [],
            "source": [
                "J_idx = select_J([0.5,1.5,2.5],A000_173)"
            ]
        },
        {
            "cell_type": "code",
            "execution_count": 14,
            "metadata": {
                "scrolled": false
            },
            "outputs": [
                {
                    "name": "stdout",
                    "output_type": "stream",
                    "text": [
                        "[ 4  5  6  7 16 17 18 19 34 35 36 37 54 55 56 57 76 77]\n"
                    ]
                },
                {
                    "data": {
                        "text/latex": [
                            "$ 0.156458|Λ=1,Σ=\\tfrac{-1}{2},Ω=\\tfrac{1}{2},J=\\tfrac{1}{2},F1=3,F=\\tfrac{5}{2},M=\\tfrac{1}{2}\\rangle$$-0.156458|Λ=-1,Σ=\\tfrac{1}{2},Ω=\\tfrac{-1}{2},J=\\tfrac{1}{2},F1=3,F=\\tfrac{5}{2},M=\\tfrac{1}{2}\\rangle$$-0.683728|Λ=1,Σ=\\tfrac{-1}{2},Ω=\\tfrac{1}{2},J=\\tfrac{1}{2},F1=3,F=\\tfrac{7}{2},M=\\tfrac{1}{2}\\rangle$$+0.683728|Λ=-1,Σ=\\tfrac{1}{2},Ω=\\tfrac{-1}{2},J=\\tfrac{1}{2},F1=3,F=\\tfrac{7}{2},M=\\tfrac{1}{2}\\rangle$$-0.019961|Λ=1,Σ=\\tfrac{-1}{2},Ω=\\tfrac{1}{2},J=\\tfrac{3}{2},F1=3,F=\\tfrac{5}{2},M=\\tfrac{1}{2}\\rangle$$-0.019961|Λ=-1,Σ=\\tfrac{1}{2},Ω=\\tfrac{-1}{2},J=\\tfrac{3}{2},F1=3,F=\\tfrac{5}{2},M=\\tfrac{1}{2}\\rangle$$+0.08723|Λ=1,Σ=\\tfrac{-1}{2},Ω=\\tfrac{1}{2},J=\\tfrac{3}{2},F1=3,F=\\tfrac{7}{2},M=\\tfrac{1}{2}\\rangle$$+0.08723|Λ=-1,Σ=\\tfrac{1}{2},Ω=\\tfrac{-1}{2},J=\\tfrac{3}{2},F1=3,F=\\tfrac{7}{2},M=\\tfrac{1}{2}\\rangle$$+0.001208|Λ=1,Σ=\\tfrac{-1}{2},Ω=\\tfrac{1}{2},J=\\tfrac{5}{2},F1=3,F=\\tfrac{5}{2},M=\\tfrac{1}{2}\\rangle$$-0.001208|Λ=-1,Σ=\\tfrac{1}{2},Ω=\\tfrac{-1}{2},J=\\tfrac{5}{2},F1=3,F=\\tfrac{5}{2},M=\\tfrac{1}{2}\\rangle$$-0.005277|Λ=1,Σ=\\tfrac{-1}{2},Ω=\\tfrac{1}{2},J=\\tfrac{5}{2},F1=3,F=\\tfrac{7}{2},M=\\tfrac{1}{2}\\rangle$$+0.005277|Λ=-1,Σ=\\tfrac{1}{2},Ω=\\tfrac{-1}{2},J=\\tfrac{5}{2},F1=3,F=\\tfrac{7}{2},M=\\tfrac{1}{2}\\rangle$"
                        ],
                        "text/plain": [
                            "<IPython.core.display.Latex object>"
                        ]
                    },
                    "metadata": {},
                    "output_type": "display_data"
                },
                {
                    "name": "stdout",
                    "output_type": "stream",
                    "text": [
                        "[ 4  5  6  7 16 17 18 19 34 35 36 37 54 55 56 57 76 77]\n"
                    ]
                },
                {
                    "data": {
                        "text/latex": [
                            "$ 0.156458|Λ=1,Σ=\\tfrac{-1}{2},Ω=\\tfrac{1}{2},J=\\tfrac{1}{2},F1=3,F=\\tfrac{5}{2},M=\\tfrac{1}{2}\\rangle$$-0.156458|Λ=-1,Σ=\\tfrac{1}{2},Ω=\\tfrac{-1}{2},J=\\tfrac{1}{2},F1=3,F=\\tfrac{5}{2},M=\\tfrac{1}{2}\\rangle$$-0.683728|Λ=1,Σ=\\tfrac{-1}{2},Ω=\\tfrac{1}{2},J=\\tfrac{1}{2},F1=3,F=\\tfrac{7}{2},M=\\tfrac{1}{2}\\rangle$$+0.683728|Λ=-1,Σ=\\tfrac{1}{2},Ω=\\tfrac{-1}{2},J=\\tfrac{1}{2},F1=3,F=\\tfrac{7}{2},M=\\tfrac{1}{2}\\rangle$$-0.019961|Λ=1,Σ=\\tfrac{-1}{2},Ω=\\tfrac{1}{2},J=\\tfrac{3}{2},F1=3,F=\\tfrac{5}{2},M=\\tfrac{1}{2}\\rangle$$-0.019961|Λ=-1,Σ=\\tfrac{1}{2},Ω=\\tfrac{-1}{2},J=\\tfrac{3}{2},F1=3,F=\\tfrac{5}{2},M=\\tfrac{1}{2}\\rangle$$+0.08723|Λ=1,Σ=\\tfrac{-1}{2},Ω=\\tfrac{1}{2},J=\\tfrac{3}{2},F1=3,F=\\tfrac{7}{2},M=\\tfrac{1}{2}\\rangle$$+0.08723|Λ=-1,Σ=\\tfrac{1}{2},Ω=\\tfrac{-1}{2},J=\\tfrac{3}{2},F1=3,F=\\tfrac{7}{2},M=\\tfrac{1}{2}\\rangle$$+0.001208|Λ=1,Σ=\\tfrac{-1}{2},Ω=\\tfrac{1}{2},J=\\tfrac{5}{2},F1=3,F=\\tfrac{5}{2},M=\\tfrac{1}{2}\\rangle$$-0.001208|Λ=-1,Σ=\\tfrac{1}{2},Ω=\\tfrac{-1}{2},J=\\tfrac{5}{2},F1=3,F=\\tfrac{5}{2},M=\\tfrac{1}{2}\\rangle$$-0.005277|Λ=1,Σ=\\tfrac{-1}{2},Ω=\\tfrac{1}{2},J=\\tfrac{5}{2},F1=3,F=\\tfrac{7}{2},M=\\tfrac{1}{2}\\rangle$$+0.005277|Λ=-1,Σ=\\tfrac{1}{2},Ω=\\tfrac{-1}{2},J=\\tfrac{5}{2},F1=3,F=\\tfrac{7}{2},M=\\tfrac{1}{2}\\rangle$"
                        ],
                        "text/plain": [
                            "<IPython.core.display.Latex object>"
                        ]
                    },
                    "metadata": {},
                    "output_type": "display_data"
                },
                {
                    "name": "stdout",
                    "output_type": "stream",
                    "text": [
                        "[ 4  5  6  7 16 17 18 19 34 35 36 37 54 55 56 57 76 77]\n"
                    ]
                },
                {
                    "data": {
                        "text/latex": [
                            "$ 0.156458|Λ=1,Σ=\\tfrac{-1}{2},Ω=\\tfrac{1}{2},J=\\tfrac{1}{2},F1=3,F=\\tfrac{5}{2},M=\\tfrac{1}{2}\\rangle$$-0.156458|Λ=-1,Σ=\\tfrac{1}{2},Ω=\\tfrac{-1}{2},J=\\tfrac{1}{2},F1=3,F=\\tfrac{5}{2},M=\\tfrac{1}{2}\\rangle$$-0.683728|Λ=1,Σ=\\tfrac{-1}{2},Ω=\\tfrac{1}{2},J=\\tfrac{1}{2},F1=3,F=\\tfrac{7}{2},M=\\tfrac{1}{2}\\rangle$$+0.683728|Λ=-1,Σ=\\tfrac{1}{2},Ω=\\tfrac{-1}{2},J=\\tfrac{1}{2},F1=3,F=\\tfrac{7}{2},M=\\tfrac{1}{2}\\rangle$$-0.019961|Λ=1,Σ=\\tfrac{-1}{2},Ω=\\tfrac{1}{2},J=\\tfrac{3}{2},F1=3,F=\\tfrac{5}{2},M=\\tfrac{1}{2}\\rangle$$-0.019961|Λ=-1,Σ=\\tfrac{1}{2},Ω=\\tfrac{-1}{2},J=\\tfrac{3}{2},F1=3,F=\\tfrac{5}{2},M=\\tfrac{1}{2}\\rangle$$+0.08723|Λ=1,Σ=\\tfrac{-1}{2},Ω=\\tfrac{1}{2},J=\\tfrac{3}{2},F1=3,F=\\tfrac{7}{2},M=\\tfrac{1}{2}\\rangle$$+0.08723|Λ=-1,Σ=\\tfrac{1}{2},Ω=\\tfrac{-1}{2},J=\\tfrac{3}{2},F1=3,F=\\tfrac{7}{2},M=\\tfrac{1}{2}\\rangle$$+0.001208|Λ=1,Σ=\\tfrac{-1}{2},Ω=\\tfrac{1}{2},J=\\tfrac{5}{2},F1=3,F=\\tfrac{5}{2},M=\\tfrac{1}{2}\\rangle$$-0.001208|Λ=-1,Σ=\\tfrac{1}{2},Ω=\\tfrac{-1}{2},J=\\tfrac{5}{2},F1=3,F=\\tfrac{5}{2},M=\\tfrac{1}{2}\\rangle$$-0.005277|Λ=1,Σ=\\tfrac{-1}{2},Ω=\\tfrac{1}{2},J=\\tfrac{5}{2},F1=3,F=\\tfrac{7}{2},M=\\tfrac{1}{2}\\rangle$$+0.005277|Λ=-1,Σ=\\tfrac{1}{2},Ω=\\tfrac{-1}{2},J=\\tfrac{5}{2},F1=3,F=\\tfrac{7}{2},M=\\tfrac{1}{2}\\rangle$"
                        ],
                        "text/plain": [
                            "<IPython.core.display.Latex object>"
                        ]
                    },
                    "metadata": {},
                    "output_type": "display_data"
                },
                {
                    "name": "stdout",
                    "output_type": "stream",
                    "text": [
                        "[ 4  5  6  7 16 17 18 19 34 35 36 37 54 55 56 57 76 77]\n"
                    ]
                },
                {
                    "data": {
                        "text/latex": [
                            "$ 0.156458|Λ=1,Σ=\\tfrac{-1}{2},Ω=\\tfrac{1}{2},J=\\tfrac{1}{2},F1=3,F=\\tfrac{5}{2},M=\\tfrac{1}{2}\\rangle$$-0.156458|Λ=-1,Σ=\\tfrac{1}{2},Ω=\\tfrac{-1}{2},J=\\tfrac{1}{2},F1=3,F=\\tfrac{5}{2},M=\\tfrac{1}{2}\\rangle$$-0.683728|Λ=1,Σ=\\tfrac{-1}{2},Ω=\\tfrac{1}{2},J=\\tfrac{1}{2},F1=3,F=\\tfrac{7}{2},M=\\tfrac{1}{2}\\rangle$$+0.683728|Λ=-1,Σ=\\tfrac{1}{2},Ω=\\tfrac{-1}{2},J=\\tfrac{1}{2},F1=3,F=\\tfrac{7}{2},M=\\tfrac{1}{2}\\rangle$$-0.019961|Λ=1,Σ=\\tfrac{-1}{2},Ω=\\tfrac{1}{2},J=\\tfrac{3}{2},F1=3,F=\\tfrac{5}{2},M=\\tfrac{1}{2}\\rangle$$-0.019961|Λ=-1,Σ=\\tfrac{1}{2},Ω=\\tfrac{-1}{2},J=\\tfrac{3}{2},F1=3,F=\\tfrac{5}{2},M=\\tfrac{1}{2}\\rangle$$+0.08723|Λ=1,Σ=\\tfrac{-1}{2},Ω=\\tfrac{1}{2},J=\\tfrac{3}{2},F1=3,F=\\tfrac{7}{2},M=\\tfrac{1}{2}\\rangle$$+0.08723|Λ=-1,Σ=\\tfrac{1}{2},Ω=\\tfrac{-1}{2},J=\\tfrac{3}{2},F1=3,F=\\tfrac{7}{2},M=\\tfrac{1}{2}\\rangle$$+0.001208|Λ=1,Σ=\\tfrac{-1}{2},Ω=\\tfrac{1}{2},J=\\tfrac{5}{2},F1=3,F=\\tfrac{5}{2},M=\\tfrac{1}{2}\\rangle$$-0.001208|Λ=-1,Σ=\\tfrac{1}{2},Ω=\\tfrac{-1}{2},J=\\tfrac{5}{2},F1=3,F=\\tfrac{5}{2},M=\\tfrac{1}{2}\\rangle$$-0.005277|Λ=1,Σ=\\tfrac{-1}{2},Ω=\\tfrac{1}{2},J=\\tfrac{5}{2},F1=3,F=\\tfrac{7}{2},M=\\tfrac{1}{2}\\rangle$$+0.005277|Λ=-1,Σ=\\tfrac{1}{2},Ω=\\tfrac{-1}{2},J=\\tfrac{5}{2},F1=3,F=\\tfrac{7}{2},M=\\tfrac{1}{2}\\rangle$"
                        ],
                        "text/plain": [
                            "<IPython.core.display.Latex object>"
                        ]
                    },
                    "metadata": {},
                    "output_type": "display_data"
                },
                {
                    "name": "stdout",
                    "output_type": "stream",
                    "text": [
                        "[ 4  5  6  7 16 17 18 19 34 35 36 37 54 55 56 57 76 77]\n"
                    ]
                },
                {
                    "data": {
                        "text/latex": [
                            "$ 0.156458|Λ=1,Σ=\\tfrac{-1}{2},Ω=\\tfrac{1}{2},J=\\tfrac{1}{2},F1=3,F=\\tfrac{5}{2},M=\\tfrac{1}{2}\\rangle$$-0.156458|Λ=-1,Σ=\\tfrac{1}{2},Ω=\\tfrac{-1}{2},J=\\tfrac{1}{2},F1=3,F=\\tfrac{5}{2},M=\\tfrac{1}{2}\\rangle$$-0.683728|Λ=1,Σ=\\tfrac{-1}{2},Ω=\\tfrac{1}{2},J=\\tfrac{1}{2},F1=3,F=\\tfrac{7}{2},M=\\tfrac{1}{2}\\rangle$$+0.683728|Λ=-1,Σ=\\tfrac{1}{2},Ω=\\tfrac{-1}{2},J=\\tfrac{1}{2},F1=3,F=\\tfrac{7}{2},M=\\tfrac{1}{2}\\rangle$$-0.019961|Λ=1,Σ=\\tfrac{-1}{2},Ω=\\tfrac{1}{2},J=\\tfrac{3}{2},F1=3,F=\\tfrac{5}{2},M=\\tfrac{1}{2}\\rangle$$-0.019961|Λ=-1,Σ=\\tfrac{1}{2},Ω=\\tfrac{-1}{2},J=\\tfrac{3}{2},F1=3,F=\\tfrac{5}{2},M=\\tfrac{1}{2}\\rangle$$+0.08723|Λ=1,Σ=\\tfrac{-1}{2},Ω=\\tfrac{1}{2},J=\\tfrac{3}{2},F1=3,F=\\tfrac{7}{2},M=\\tfrac{1}{2}\\rangle$$+0.08723|Λ=-1,Σ=\\tfrac{1}{2},Ω=\\tfrac{-1}{2},J=\\tfrac{3}{2},F1=3,F=\\tfrac{7}{2},M=\\tfrac{1}{2}\\rangle$$+0.001208|Λ=1,Σ=\\tfrac{-1}{2},Ω=\\tfrac{1}{2},J=\\tfrac{5}{2},F1=3,F=\\tfrac{5}{2},M=\\tfrac{1}{2}\\rangle$$-0.001208|Λ=-1,Σ=\\tfrac{1}{2},Ω=\\tfrac{-1}{2},J=\\tfrac{5}{2},F1=3,F=\\tfrac{5}{2},M=\\tfrac{1}{2}\\rangle$$-0.005277|Λ=1,Σ=\\tfrac{-1}{2},Ω=\\tfrac{1}{2},J=\\tfrac{5}{2},F1=3,F=\\tfrac{7}{2},M=\\tfrac{1}{2}\\rangle$$+0.005277|Λ=-1,Σ=\\tfrac{1}{2},Ω=\\tfrac{-1}{2},J=\\tfrac{5}{2},F1=3,F=\\tfrac{7}{2},M=\\tfrac{1}{2}\\rangle$"
                        ],
                        "text/plain": [
                            "<IPython.core.display.Latex object>"
                        ]
                    },
                    "metadata": {},
                    "output_type": "display_data"
                },
                {
                    "name": "stdout",
                    "output_type": "stream",
                    "text": [
                        "[ 4  5  6  7 16 17 18 19 34 35 36 37 54 55 56 57 76 77]\n"
                    ]
                },
                {
                    "data": {
                        "text/latex": [
                            "$ 0.156458|Λ=1,Σ=\\tfrac{-1}{2},Ω=\\tfrac{1}{2},J=\\tfrac{1}{2},F1=3,F=\\tfrac{5}{2},M=\\tfrac{1}{2}\\rangle$$-0.156458|Λ=-1,Σ=\\tfrac{1}{2},Ω=\\tfrac{-1}{2},J=\\tfrac{1}{2},F1=3,F=\\tfrac{5}{2},M=\\tfrac{1}{2}\\rangle$$-0.683728|Λ=1,Σ=\\tfrac{-1}{2},Ω=\\tfrac{1}{2},J=\\tfrac{1}{2},F1=3,F=\\tfrac{7}{2},M=\\tfrac{1}{2}\\rangle$$+0.683728|Λ=-1,Σ=\\tfrac{1}{2},Ω=\\tfrac{-1}{2},J=\\tfrac{1}{2},F1=3,F=\\tfrac{7}{2},M=\\tfrac{1}{2}\\rangle$$-0.019961|Λ=1,Σ=\\tfrac{-1}{2},Ω=\\tfrac{1}{2},J=\\tfrac{3}{2},F1=3,F=\\tfrac{5}{2},M=\\tfrac{1}{2}\\rangle$$-0.019961|Λ=-1,Σ=\\tfrac{1}{2},Ω=\\tfrac{-1}{2},J=\\tfrac{3}{2},F1=3,F=\\tfrac{5}{2},M=\\tfrac{1}{2}\\rangle$$+0.08723|Λ=1,Σ=\\tfrac{-1}{2},Ω=\\tfrac{1}{2},J=\\tfrac{3}{2},F1=3,F=\\tfrac{7}{2},M=\\tfrac{1}{2}\\rangle$$+0.08723|Λ=-1,Σ=\\tfrac{1}{2},Ω=\\tfrac{-1}{2},J=\\tfrac{3}{2},F1=3,F=\\tfrac{7}{2},M=\\tfrac{1}{2}\\rangle$$+0.001208|Λ=1,Σ=\\tfrac{-1}{2},Ω=\\tfrac{1}{2},J=\\tfrac{5}{2},F1=3,F=\\tfrac{5}{2},M=\\tfrac{1}{2}\\rangle$$-0.001208|Λ=-1,Σ=\\tfrac{1}{2},Ω=\\tfrac{-1}{2},J=\\tfrac{5}{2},F1=3,F=\\tfrac{5}{2},M=\\tfrac{1}{2}\\rangle$$-0.005277|Λ=1,Σ=\\tfrac{-1}{2},Ω=\\tfrac{1}{2},J=\\tfrac{5}{2},F1=3,F=\\tfrac{7}{2},M=\\tfrac{1}{2}\\rangle$$+0.005277|Λ=-1,Σ=\\tfrac{1}{2},Ω=\\tfrac{-1}{2},J=\\tfrac{5}{2},F1=3,F=\\tfrac{7}{2},M=\\tfrac{1}{2}\\rangle$"
                        ],
                        "text/plain": [
                            "<IPython.core.display.Latex object>"
                        ]
                    },
                    "metadata": {},
                    "output_type": "display_data"
                },
                {
                    "name": "stdout",
                    "output_type": "stream",
                    "text": [
                        "[ 4  5  6  7 16 17 18 19 34 35 36 37 54 55 56 57 76 77]\n"
                    ]
                },
                {
                    "data": {
                        "text/latex": [
                            "$ 0.156458|Λ=1,Σ=\\tfrac{-1}{2},Ω=\\tfrac{1}{2},J=\\tfrac{1}{2},F1=3,F=\\tfrac{5}{2},M=\\tfrac{1}{2}\\rangle$$-0.156458|Λ=-1,Σ=\\tfrac{1}{2},Ω=\\tfrac{-1}{2},J=\\tfrac{1}{2},F1=3,F=\\tfrac{5}{2},M=\\tfrac{1}{2}\\rangle$$-0.683728|Λ=1,Σ=\\tfrac{-1}{2},Ω=\\tfrac{1}{2},J=\\tfrac{1}{2},F1=3,F=\\tfrac{7}{2},M=\\tfrac{1}{2}\\rangle$$+0.683728|Λ=-1,Σ=\\tfrac{1}{2},Ω=\\tfrac{-1}{2},J=\\tfrac{1}{2},F1=3,F=\\tfrac{7}{2},M=\\tfrac{1}{2}\\rangle$$-0.019961|Λ=1,Σ=\\tfrac{-1}{2},Ω=\\tfrac{1}{2},J=\\tfrac{3}{2},F1=3,F=\\tfrac{5}{2},M=\\tfrac{1}{2}\\rangle$$-0.019961|Λ=-1,Σ=\\tfrac{1}{2},Ω=\\tfrac{-1}{2},J=\\tfrac{3}{2},F1=3,F=\\tfrac{5}{2},M=\\tfrac{1}{2}\\rangle$$+0.08723|Λ=1,Σ=\\tfrac{-1}{2},Ω=\\tfrac{1}{2},J=\\tfrac{3}{2},F1=3,F=\\tfrac{7}{2},M=\\tfrac{1}{2}\\rangle$$+0.08723|Λ=-1,Σ=\\tfrac{1}{2},Ω=\\tfrac{-1}{2},J=\\tfrac{3}{2},F1=3,F=\\tfrac{7}{2},M=\\tfrac{1}{2}\\rangle$$+0.001208|Λ=1,Σ=\\tfrac{-1}{2},Ω=\\tfrac{1}{2},J=\\tfrac{5}{2},F1=3,F=\\tfrac{5}{2},M=\\tfrac{1}{2}\\rangle$$-0.001208|Λ=-1,Σ=\\tfrac{1}{2},Ω=\\tfrac{-1}{2},J=\\tfrac{5}{2},F1=3,F=\\tfrac{5}{2},M=\\tfrac{1}{2}\\rangle$$-0.005277|Λ=1,Σ=\\tfrac{-1}{2},Ω=\\tfrac{1}{2},J=\\tfrac{5}{2},F1=3,F=\\tfrac{7}{2},M=\\tfrac{1}{2}\\rangle$$+0.005277|Λ=-1,Σ=\\tfrac{1}{2},Ω=\\tfrac{-1}{2},J=\\tfrac{5}{2},F1=3,F=\\tfrac{7}{2},M=\\tfrac{1}{2}\\rangle$"
                        ],
                        "text/plain": [
                            "<IPython.core.display.Latex object>"
                        ]
                    },
                    "metadata": {},
                    "output_type": "display_data"
                },
                {
                    "name": "stdout",
                    "output_type": "stream",
                    "text": [
                        "[ 4  5  6  7 16 17 18 19 34 35 36 37 54 55 56 57 76 77]\n"
                    ]
                },
                {
                    "data": {
                        "text/latex": [
                            "$ 0.156458|Λ=1,Σ=\\tfrac{-1}{2},Ω=\\tfrac{1}{2},J=\\tfrac{1}{2},F1=3,F=\\tfrac{5}{2},M=\\tfrac{1}{2}\\rangle$$-0.156458|Λ=-1,Σ=\\tfrac{1}{2},Ω=\\tfrac{-1}{2},J=\\tfrac{1}{2},F1=3,F=\\tfrac{5}{2},M=\\tfrac{1}{2}\\rangle$$-0.683728|Λ=1,Σ=\\tfrac{-1}{2},Ω=\\tfrac{1}{2},J=\\tfrac{1}{2},F1=3,F=\\tfrac{7}{2},M=\\tfrac{1}{2}\\rangle$$+0.683728|Λ=-1,Σ=\\tfrac{1}{2},Ω=\\tfrac{-1}{2},J=\\tfrac{1}{2},F1=3,F=\\tfrac{7}{2},M=\\tfrac{1}{2}\\rangle$$-0.019961|Λ=1,Σ=\\tfrac{-1}{2},Ω=\\tfrac{1}{2},J=\\tfrac{3}{2},F1=3,F=\\tfrac{5}{2},M=\\tfrac{1}{2}\\rangle$$-0.019961|Λ=-1,Σ=\\tfrac{1}{2},Ω=\\tfrac{-1}{2},J=\\tfrac{3}{2},F1=3,F=\\tfrac{5}{2},M=\\tfrac{1}{2}\\rangle$$+0.08723|Λ=1,Σ=\\tfrac{-1}{2},Ω=\\tfrac{1}{2},J=\\tfrac{3}{2},F1=3,F=\\tfrac{7}{2},M=\\tfrac{1}{2}\\rangle$$+0.08723|Λ=-1,Σ=\\tfrac{1}{2},Ω=\\tfrac{-1}{2},J=\\tfrac{3}{2},F1=3,F=\\tfrac{7}{2},M=\\tfrac{1}{2}\\rangle$$+0.001208|Λ=1,Σ=\\tfrac{-1}{2},Ω=\\tfrac{1}{2},J=\\tfrac{5}{2},F1=3,F=\\tfrac{5}{2},M=\\tfrac{1}{2}\\rangle$$-0.001208|Λ=-1,Σ=\\tfrac{1}{2},Ω=\\tfrac{-1}{2},J=\\tfrac{5}{2},F1=3,F=\\tfrac{5}{2},M=\\tfrac{1}{2}\\rangle$$-0.005277|Λ=1,Σ=\\tfrac{-1}{2},Ω=\\tfrac{1}{2},J=\\tfrac{5}{2},F1=3,F=\\tfrac{7}{2},M=\\tfrac{1}{2}\\rangle$$+0.005277|Λ=-1,Σ=\\tfrac{1}{2},Ω=\\tfrac{-1}{2},J=\\tfrac{5}{2},F1=3,F=\\tfrac{7}{2},M=\\tfrac{1}{2}\\rangle$"
                        ],
                        "text/plain": [
                            "<IPython.core.display.Latex object>"
                        ]
                    },
                    "metadata": {},
                    "output_type": "display_data"
                },
                {
                    "name": "stdout",
                    "output_type": "stream",
                    "text": [
                        "[ 4  5  6  7 16 17 18 19 34 35 36 37 54 55 56 57 76 77]\n"
                    ]
                },
                {
                    "data": {
                        "text/latex": [
                            "$ 0.156458|Λ=1,Σ=\\tfrac{-1}{2},Ω=\\tfrac{1}{2},J=\\tfrac{1}{2},F1=3,F=\\tfrac{5}{2},M=\\tfrac{1}{2}\\rangle$$-0.156458|Λ=-1,Σ=\\tfrac{1}{2},Ω=\\tfrac{-1}{2},J=\\tfrac{1}{2},F1=3,F=\\tfrac{5}{2},M=\\tfrac{1}{2}\\rangle$$-0.683728|Λ=1,Σ=\\tfrac{-1}{2},Ω=\\tfrac{1}{2},J=\\tfrac{1}{2},F1=3,F=\\tfrac{7}{2},M=\\tfrac{1}{2}\\rangle$$+0.683728|Λ=-1,Σ=\\tfrac{1}{2},Ω=\\tfrac{-1}{2},J=\\tfrac{1}{2},F1=3,F=\\tfrac{7}{2},M=\\tfrac{1}{2}\\rangle$$-0.019961|Λ=1,Σ=\\tfrac{-1}{2},Ω=\\tfrac{1}{2},J=\\tfrac{3}{2},F1=3,F=\\tfrac{5}{2},M=\\tfrac{1}{2}\\rangle$$-0.019961|Λ=-1,Σ=\\tfrac{1}{2},Ω=\\tfrac{-1}{2},J=\\tfrac{3}{2},F1=3,F=\\tfrac{5}{2},M=\\tfrac{1}{2}\\rangle$$+0.08723|Λ=1,Σ=\\tfrac{-1}{2},Ω=\\tfrac{1}{2},J=\\tfrac{3}{2},F1=3,F=\\tfrac{7}{2},M=\\tfrac{1}{2}\\rangle$$+0.08723|Λ=-1,Σ=\\tfrac{1}{2},Ω=\\tfrac{-1}{2},J=\\tfrac{3}{2},F1=3,F=\\tfrac{7}{2},M=\\tfrac{1}{2}\\rangle$$+0.001208|Λ=1,Σ=\\tfrac{-1}{2},Ω=\\tfrac{1}{2},J=\\tfrac{5}{2},F1=3,F=\\tfrac{5}{2},M=\\tfrac{1}{2}\\rangle$$-0.001208|Λ=-1,Σ=\\tfrac{1}{2},Ω=\\tfrac{-1}{2},J=\\tfrac{5}{2},F1=3,F=\\tfrac{5}{2},M=\\tfrac{1}{2}\\rangle$$-0.005277|Λ=1,Σ=\\tfrac{-1}{2},Ω=\\tfrac{1}{2},J=\\tfrac{5}{2},F1=3,F=\\tfrac{7}{2},M=\\tfrac{1}{2}\\rangle$$+0.005277|Λ=-1,Σ=\\tfrac{1}{2},Ω=\\tfrac{-1}{2},J=\\tfrac{5}{2},F1=3,F=\\tfrac{7}{2},M=\\tfrac{1}{2}\\rangle$"
                        ],
                        "text/plain": [
                            "<IPython.core.display.Latex object>"
                        ]
                    },
                    "metadata": {},
                    "output_type": "display_data"
                },
                {
                    "name": "stdout",
                    "output_type": "stream",
                    "text": [
                        "[ 4  5  6  7 16 17 18 19 34 35 36 37 54 55 56 57 76 77]\n"
                    ]
                },
                {
                    "data": {
                        "text/latex": [
                            "$ 0.156458|Λ=1,Σ=\\tfrac{-1}{2},Ω=\\tfrac{1}{2},J=\\tfrac{1}{2},F1=3,F=\\tfrac{5}{2},M=\\tfrac{1}{2}\\rangle$$-0.156458|Λ=-1,Σ=\\tfrac{1}{2},Ω=\\tfrac{-1}{2},J=\\tfrac{1}{2},F1=3,F=\\tfrac{5}{2},M=\\tfrac{1}{2}\\rangle$$-0.683728|Λ=1,Σ=\\tfrac{-1}{2},Ω=\\tfrac{1}{2},J=\\tfrac{1}{2},F1=3,F=\\tfrac{7}{2},M=\\tfrac{1}{2}\\rangle$$+0.683728|Λ=-1,Σ=\\tfrac{1}{2},Ω=\\tfrac{-1}{2},J=\\tfrac{1}{2},F1=3,F=\\tfrac{7}{2},M=\\tfrac{1}{2}\\rangle$$-0.019961|Λ=1,Σ=\\tfrac{-1}{2},Ω=\\tfrac{1}{2},J=\\tfrac{3}{2},F1=3,F=\\tfrac{5}{2},M=\\tfrac{1}{2}\\rangle$$-0.019961|Λ=-1,Σ=\\tfrac{1}{2},Ω=\\tfrac{-1}{2},J=\\tfrac{3}{2},F1=3,F=\\tfrac{5}{2},M=\\tfrac{1}{2}\\rangle$$+0.08723|Λ=1,Σ=\\tfrac{-1}{2},Ω=\\tfrac{1}{2},J=\\tfrac{3}{2},F1=3,F=\\tfrac{7}{2},M=\\tfrac{1}{2}\\rangle$$+0.08723|Λ=-1,Σ=\\tfrac{1}{2},Ω=\\tfrac{-1}{2},J=\\tfrac{3}{2},F1=3,F=\\tfrac{7}{2},M=\\tfrac{1}{2}\\rangle$$+0.001208|Λ=1,Σ=\\tfrac{-1}{2},Ω=\\tfrac{1}{2},J=\\tfrac{5}{2},F1=3,F=\\tfrac{5}{2},M=\\tfrac{1}{2}\\rangle$$-0.001208|Λ=-1,Σ=\\tfrac{1}{2},Ω=\\tfrac{-1}{2},J=\\tfrac{5}{2},F1=3,F=\\tfrac{5}{2},M=\\tfrac{1}{2}\\rangle$$-0.005277|Λ=1,Σ=\\tfrac{-1}{2},Ω=\\tfrac{1}{2},J=\\tfrac{5}{2},F1=3,F=\\tfrac{7}{2},M=\\tfrac{1}{2}\\rangle$$+0.005277|Λ=-1,Σ=\\tfrac{1}{2},Ω=\\tfrac{-1}{2},J=\\tfrac{5}{2},F1=3,F=\\tfrac{7}{2},M=\\tfrac{1}{2}\\rangle$"
                        ],
                        "text/plain": [
                            "<IPython.core.display.Latex object>"
                        ]
                    },
                    "metadata": {},
                    "output_type": "display_data"
                },
                {
                    "name": "stdout",
                    "output_type": "stream",
                    "text": [
                        "[ 4  5  6  7 16 17 18 19 34 35 36 37 54 55 56 57 76 77]\n"
                    ]
                },
                {
                    "data": {
                        "text/latex": [
                            "$ 0.156458|Λ=1,Σ=\\tfrac{-1}{2},Ω=\\tfrac{1}{2},J=\\tfrac{1}{2},F1=3,F=\\tfrac{5}{2},M=\\tfrac{1}{2}\\rangle$$-0.156458|Λ=-1,Σ=\\tfrac{1}{2},Ω=\\tfrac{-1}{2},J=\\tfrac{1}{2},F1=3,F=\\tfrac{5}{2},M=\\tfrac{1}{2}\\rangle$$-0.683728|Λ=1,Σ=\\tfrac{-1}{2},Ω=\\tfrac{1}{2},J=\\tfrac{1}{2},F1=3,F=\\tfrac{7}{2},M=\\tfrac{1}{2}\\rangle$$+0.683728|Λ=-1,Σ=\\tfrac{1}{2},Ω=\\tfrac{-1}{2},J=\\tfrac{1}{2},F1=3,F=\\tfrac{7}{2},M=\\tfrac{1}{2}\\rangle$$-0.019961|Λ=1,Σ=\\tfrac{-1}{2},Ω=\\tfrac{1}{2},J=\\tfrac{3}{2},F1=3,F=\\tfrac{5}{2},M=\\tfrac{1}{2}\\rangle$$-0.019961|Λ=-1,Σ=\\tfrac{1}{2},Ω=\\tfrac{-1}{2},J=\\tfrac{3}{2},F1=3,F=\\tfrac{5}{2},M=\\tfrac{1}{2}\\rangle$$+0.08723|Λ=1,Σ=\\tfrac{-1}{2},Ω=\\tfrac{1}{2},J=\\tfrac{3}{2},F1=3,F=\\tfrac{7}{2},M=\\tfrac{1}{2}\\rangle$$+0.08723|Λ=-1,Σ=\\tfrac{1}{2},Ω=\\tfrac{-1}{2},J=\\tfrac{3}{2},F1=3,F=\\tfrac{7}{2},M=\\tfrac{1}{2}\\rangle$$+0.001208|Λ=1,Σ=\\tfrac{-1}{2},Ω=\\tfrac{1}{2},J=\\tfrac{5}{2},F1=3,F=\\tfrac{5}{2},M=\\tfrac{1}{2}\\rangle$$-0.001208|Λ=-1,Σ=\\tfrac{1}{2},Ω=\\tfrac{-1}{2},J=\\tfrac{5}{2},F1=3,F=\\tfrac{5}{2},M=\\tfrac{1}{2}\\rangle$$-0.005277|Λ=1,Σ=\\tfrac{-1}{2},Ω=\\tfrac{1}{2},J=\\tfrac{5}{2},F1=3,F=\\tfrac{7}{2},M=\\tfrac{1}{2}\\rangle$$+0.005277|Λ=-1,Σ=\\tfrac{1}{2},Ω=\\tfrac{-1}{2},J=\\tfrac{5}{2},F1=3,F=\\tfrac{7}{2},M=\\tfrac{1}{2}\\rangle$"
                        ],
                        "text/plain": [
                            "<IPython.core.display.Latex object>"
                        ]
                    },
                    "metadata": {},
                    "output_type": "display_data"
                },
                {
                    "name": "stdout",
                    "output_type": "stream",
                    "text": [
                        "[ 4  5  6  7 16 17 18 19 34 35 36 37 54 55 56 57 76 77]\n"
                    ]
                },
                {
                    "data": {
                        "text/latex": [
                            "$ 0.156458|Λ=1,Σ=\\tfrac{-1}{2},Ω=\\tfrac{1}{2},J=\\tfrac{1}{2},F1=3,F=\\tfrac{5}{2},M=\\tfrac{1}{2}\\rangle$$-0.156458|Λ=-1,Σ=\\tfrac{1}{2},Ω=\\tfrac{-1}{2},J=\\tfrac{1}{2},F1=3,F=\\tfrac{5}{2},M=\\tfrac{1}{2}\\rangle$$-0.683728|Λ=1,Σ=\\tfrac{-1}{2},Ω=\\tfrac{1}{2},J=\\tfrac{1}{2},F1=3,F=\\tfrac{7}{2},M=\\tfrac{1}{2}\\rangle$$+0.683728|Λ=-1,Σ=\\tfrac{1}{2},Ω=\\tfrac{-1}{2},J=\\tfrac{1}{2},F1=3,F=\\tfrac{7}{2},M=\\tfrac{1}{2}\\rangle$$-0.019961|Λ=1,Σ=\\tfrac{-1}{2},Ω=\\tfrac{1}{2},J=\\tfrac{3}{2},F1=3,F=\\tfrac{5}{2},M=\\tfrac{1}{2}\\rangle$$-0.019961|Λ=-1,Σ=\\tfrac{1}{2},Ω=\\tfrac{-1}{2},J=\\tfrac{3}{2},F1=3,F=\\tfrac{5}{2},M=\\tfrac{1}{2}\\rangle$$+0.08723|Λ=1,Σ=\\tfrac{-1}{2},Ω=\\tfrac{1}{2},J=\\tfrac{3}{2},F1=3,F=\\tfrac{7}{2},M=\\tfrac{1}{2}\\rangle$$+0.08723|Λ=-1,Σ=\\tfrac{1}{2},Ω=\\tfrac{-1}{2},J=\\tfrac{3}{2},F1=3,F=\\tfrac{7}{2},M=\\tfrac{1}{2}\\rangle$$+0.001208|Λ=1,Σ=\\tfrac{-1}{2},Ω=\\tfrac{1}{2},J=\\tfrac{5}{2},F1=3,F=\\tfrac{5}{2},M=\\tfrac{1}{2}\\rangle$$-0.001208|Λ=-1,Σ=\\tfrac{1}{2},Ω=\\tfrac{-1}{2},J=\\tfrac{5}{2},F1=3,F=\\tfrac{5}{2},M=\\tfrac{1}{2}\\rangle$$-0.005277|Λ=1,Σ=\\tfrac{-1}{2},Ω=\\tfrac{1}{2},J=\\tfrac{5}{2},F1=3,F=\\tfrac{7}{2},M=\\tfrac{1}{2}\\rangle$$+0.005277|Λ=-1,Σ=\\tfrac{1}{2},Ω=\\tfrac{-1}{2},J=\\tfrac{5}{2},F1=3,F=\\tfrac{7}{2},M=\\tfrac{1}{2}\\rangle$"
                        ],
                        "text/plain": [
                            "<IPython.core.display.Latex object>"
                        ]
                    },
                    "metadata": {},
                    "output_type": "display_data"
                },
                {
                    "name": "stdout",
                    "output_type": "stream",
                    "text": [
                        "[ 4  5  6  7 16 17 18 19 34 35 36 37 54 55 56 57 76 77]\n"
                    ]
                },
                {
                    "data": {
                        "text/latex": [
                            "$ 0.156458|Λ=1,Σ=\\tfrac{-1}{2},Ω=\\tfrac{1}{2},J=\\tfrac{1}{2},F1=3,F=\\tfrac{5}{2},M=\\tfrac{1}{2}\\rangle$$-0.156458|Λ=-1,Σ=\\tfrac{1}{2},Ω=\\tfrac{-1}{2},J=\\tfrac{1}{2},F1=3,F=\\tfrac{5}{2},M=\\tfrac{1}{2}\\rangle$$-0.683728|Λ=1,Σ=\\tfrac{-1}{2},Ω=\\tfrac{1}{2},J=\\tfrac{1}{2},F1=3,F=\\tfrac{7}{2},M=\\tfrac{1}{2}\\rangle$$+0.683728|Λ=-1,Σ=\\tfrac{1}{2},Ω=\\tfrac{-1}{2},J=\\tfrac{1}{2},F1=3,F=\\tfrac{7}{2},M=\\tfrac{1}{2}\\rangle$$-0.019961|Λ=1,Σ=\\tfrac{-1}{2},Ω=\\tfrac{1}{2},J=\\tfrac{3}{2},F1=3,F=\\tfrac{5}{2},M=\\tfrac{1}{2}\\rangle$$-0.019961|Λ=-1,Σ=\\tfrac{1}{2},Ω=\\tfrac{-1}{2},J=\\tfrac{3}{2},F1=3,F=\\tfrac{5}{2},M=\\tfrac{1}{2}\\rangle$$+0.08723|Λ=1,Σ=\\tfrac{-1}{2},Ω=\\tfrac{1}{2},J=\\tfrac{3}{2},F1=3,F=\\tfrac{7}{2},M=\\tfrac{1}{2}\\rangle$$+0.08723|Λ=-1,Σ=\\tfrac{1}{2},Ω=\\tfrac{-1}{2},J=\\tfrac{3}{2},F1=3,F=\\tfrac{7}{2},M=\\tfrac{1}{2}\\rangle$$+0.001208|Λ=1,Σ=\\tfrac{-1}{2},Ω=\\tfrac{1}{2},J=\\tfrac{5}{2},F1=3,F=\\tfrac{5}{2},M=\\tfrac{1}{2}\\rangle$$-0.001208|Λ=-1,Σ=\\tfrac{1}{2},Ω=\\tfrac{-1}{2},J=\\tfrac{5}{2},F1=3,F=\\tfrac{5}{2},M=\\tfrac{1}{2}\\rangle$$-0.005277|Λ=1,Σ=\\tfrac{-1}{2},Ω=\\tfrac{1}{2},J=\\tfrac{5}{2},F1=3,F=\\tfrac{7}{2},M=\\tfrac{1}{2}\\rangle$$+0.005277|Λ=-1,Σ=\\tfrac{1}{2},Ω=\\tfrac{-1}{2},J=\\tfrac{5}{2},F1=3,F=\\tfrac{7}{2},M=\\tfrac{1}{2}\\rangle$"
                        ],
                        "text/plain": [
                            "<IPython.core.display.Latex object>"
                        ]
                    },
                    "metadata": {},
                    "output_type": "display_data"
                },
                {
                    "name": "stdout",
                    "output_type": "stream",
                    "text": [
                        "[ 4  5  6  7 16 17 18 19 34 35 36 37 54 55 56 57 76 77]\n"
                    ]
                },
                {
                    "data": {
                        "text/latex": [
                            "$ 0.156458|Λ=1,Σ=\\tfrac{-1}{2},Ω=\\tfrac{1}{2},J=\\tfrac{1}{2},F1=3,F=\\tfrac{5}{2},M=\\tfrac{1}{2}\\rangle$$-0.156458|Λ=-1,Σ=\\tfrac{1}{2},Ω=\\tfrac{-1}{2},J=\\tfrac{1}{2},F1=3,F=\\tfrac{5}{2},M=\\tfrac{1}{2}\\rangle$$-0.683728|Λ=1,Σ=\\tfrac{-1}{2},Ω=\\tfrac{1}{2},J=\\tfrac{1}{2},F1=3,F=\\tfrac{7}{2},M=\\tfrac{1}{2}\\rangle$$+0.683728|Λ=-1,Σ=\\tfrac{1}{2},Ω=\\tfrac{-1}{2},J=\\tfrac{1}{2},F1=3,F=\\tfrac{7}{2},M=\\tfrac{1}{2}\\rangle$$-0.019961|Λ=1,Σ=\\tfrac{-1}{2},Ω=\\tfrac{1}{2},J=\\tfrac{3}{2},F1=3,F=\\tfrac{5}{2},M=\\tfrac{1}{2}\\rangle$$-0.019961|Λ=-1,Σ=\\tfrac{1}{2},Ω=\\tfrac{-1}{2},J=\\tfrac{3}{2},F1=3,F=\\tfrac{5}{2},M=\\tfrac{1}{2}\\rangle$$+0.08723|Λ=1,Σ=\\tfrac{-1}{2},Ω=\\tfrac{1}{2},J=\\tfrac{3}{2},F1=3,F=\\tfrac{7}{2},M=\\tfrac{1}{2}\\rangle$$+0.08723|Λ=-1,Σ=\\tfrac{1}{2},Ω=\\tfrac{-1}{2},J=\\tfrac{3}{2},F1=3,F=\\tfrac{7}{2},M=\\tfrac{1}{2}\\rangle$$+0.001208|Λ=1,Σ=\\tfrac{-1}{2},Ω=\\tfrac{1}{2},J=\\tfrac{5}{2},F1=3,F=\\tfrac{5}{2},M=\\tfrac{1}{2}\\rangle$$-0.001208|Λ=-1,Σ=\\tfrac{1}{2},Ω=\\tfrac{-1}{2},J=\\tfrac{5}{2},F1=3,F=\\tfrac{5}{2},M=\\tfrac{1}{2}\\rangle$$-0.005277|Λ=1,Σ=\\tfrac{-1}{2},Ω=\\tfrac{1}{2},J=\\tfrac{5}{2},F1=3,F=\\tfrac{7}{2},M=\\tfrac{1}{2}\\rangle$$+0.005277|Λ=-1,Σ=\\tfrac{1}{2},Ω=\\tfrac{-1}{2},J=\\tfrac{5}{2},F1=3,F=\\tfrac{7}{2},M=\\tfrac{1}{2}\\rangle$"
                        ],
                        "text/plain": [
                            "<IPython.core.display.Latex object>"
                        ]
                    },
                    "metadata": {},
                    "output_type": "display_data"
                },
                {
                    "name": "stdout",
                    "output_type": "stream",
                    "text": [
                        "[ 4  5  6  7 16 17 18 19 34 35 36 37 54 55 56 57 76 77]\n"
                    ]
                },
                {
                    "data": {
                        "text/latex": [
                            "$ 0.156458|Λ=1,Σ=\\tfrac{-1}{2},Ω=\\tfrac{1}{2},J=\\tfrac{1}{2},F1=3,F=\\tfrac{5}{2},M=\\tfrac{1}{2}\\rangle$$-0.156458|Λ=-1,Σ=\\tfrac{1}{2},Ω=\\tfrac{-1}{2},J=\\tfrac{1}{2},F1=3,F=\\tfrac{5}{2},M=\\tfrac{1}{2}\\rangle$$-0.683728|Λ=1,Σ=\\tfrac{-1}{2},Ω=\\tfrac{1}{2},J=\\tfrac{1}{2},F1=3,F=\\tfrac{7}{2},M=\\tfrac{1}{2}\\rangle$$+0.683728|Λ=-1,Σ=\\tfrac{1}{2},Ω=\\tfrac{-1}{2},J=\\tfrac{1}{2},F1=3,F=\\tfrac{7}{2},M=\\tfrac{1}{2}\\rangle$$-0.019961|Λ=1,Σ=\\tfrac{-1}{2},Ω=\\tfrac{1}{2},J=\\tfrac{3}{2},F1=3,F=\\tfrac{5}{2},M=\\tfrac{1}{2}\\rangle$$-0.019961|Λ=-1,Σ=\\tfrac{1}{2},Ω=\\tfrac{-1}{2},J=\\tfrac{3}{2},F1=3,F=\\tfrac{5}{2},M=\\tfrac{1}{2}\\rangle$$+0.08723|Λ=1,Σ=\\tfrac{-1}{2},Ω=\\tfrac{1}{2},J=\\tfrac{3}{2},F1=3,F=\\tfrac{7}{2},M=\\tfrac{1}{2}\\rangle$$+0.08723|Λ=-1,Σ=\\tfrac{1}{2},Ω=\\tfrac{-1}{2},J=\\tfrac{3}{2},F1=3,F=\\tfrac{7}{2},M=\\tfrac{1}{2}\\rangle$$+0.001208|Λ=1,Σ=\\tfrac{-1}{2},Ω=\\tfrac{1}{2},J=\\tfrac{5}{2},F1=3,F=\\tfrac{5}{2},M=\\tfrac{1}{2}\\rangle$$-0.001208|Λ=-1,Σ=\\tfrac{1}{2},Ω=\\tfrac{-1}{2},J=\\tfrac{5}{2},F1=3,F=\\tfrac{5}{2},M=\\tfrac{1}{2}\\rangle$$-0.005277|Λ=1,Σ=\\tfrac{-1}{2},Ω=\\tfrac{1}{2},J=\\tfrac{5}{2},F1=3,F=\\tfrac{7}{2},M=\\tfrac{1}{2}\\rangle$$+0.005277|Λ=-1,Σ=\\tfrac{1}{2},Ω=\\tfrac{-1}{2},J=\\tfrac{5}{2},F1=3,F=\\tfrac{7}{2},M=\\tfrac{1}{2}\\rangle$"
                        ],
                        "text/plain": [
                            "<IPython.core.display.Latex object>"
                        ]
                    },
                    "metadata": {},
                    "output_type": "display_data"
                },
                {
                    "name": "stdout",
                    "output_type": "stream",
                    "text": [
                        "[ 4  5  6  7 16 17 18 19 34 35 36 37 54 55 56 57 76 77]\n"
                    ]
                },
                {
                    "data": {
                        "text/latex": [
                            "$ 0.156458|Λ=1,Σ=\\tfrac{-1}{2},Ω=\\tfrac{1}{2},J=\\tfrac{1}{2},F1=3,F=\\tfrac{5}{2},M=\\tfrac{1}{2}\\rangle$$-0.156458|Λ=-1,Σ=\\tfrac{1}{2},Ω=\\tfrac{-1}{2},J=\\tfrac{1}{2},F1=3,F=\\tfrac{5}{2},M=\\tfrac{1}{2}\\rangle$$-0.683728|Λ=1,Σ=\\tfrac{-1}{2},Ω=\\tfrac{1}{2},J=\\tfrac{1}{2},F1=3,F=\\tfrac{7}{2},M=\\tfrac{1}{2}\\rangle$$+0.683728|Λ=-1,Σ=\\tfrac{1}{2},Ω=\\tfrac{-1}{2},J=\\tfrac{1}{2},F1=3,F=\\tfrac{7}{2},M=\\tfrac{1}{2}\\rangle$$-0.019961|Λ=1,Σ=\\tfrac{-1}{2},Ω=\\tfrac{1}{2},J=\\tfrac{3}{2},F1=3,F=\\tfrac{5}{2},M=\\tfrac{1}{2}\\rangle$$-0.019961|Λ=-1,Σ=\\tfrac{1}{2},Ω=\\tfrac{-1}{2},J=\\tfrac{3}{2},F1=3,F=\\tfrac{5}{2},M=\\tfrac{1}{2}\\rangle$$+0.08723|Λ=1,Σ=\\tfrac{-1}{2},Ω=\\tfrac{1}{2},J=\\tfrac{3}{2},F1=3,F=\\tfrac{7}{2},M=\\tfrac{1}{2}\\rangle$$+0.08723|Λ=-1,Σ=\\tfrac{1}{2},Ω=\\tfrac{-1}{2},J=\\tfrac{3}{2},F1=3,F=\\tfrac{7}{2},M=\\tfrac{1}{2}\\rangle$$+0.001208|Λ=1,Σ=\\tfrac{-1}{2},Ω=\\tfrac{1}{2},J=\\tfrac{5}{2},F1=3,F=\\tfrac{5}{2},M=\\tfrac{1}{2}\\rangle$$-0.001208|Λ=-1,Σ=\\tfrac{1}{2},Ω=\\tfrac{-1}{2},J=\\tfrac{5}{2},F1=3,F=\\tfrac{5}{2},M=\\tfrac{1}{2}\\rangle$$-0.005277|Λ=1,Σ=\\tfrac{-1}{2},Ω=\\tfrac{1}{2},J=\\tfrac{5}{2},F1=3,F=\\tfrac{7}{2},M=\\tfrac{1}{2}\\rangle$$+0.005277|Λ=-1,Σ=\\tfrac{1}{2},Ω=\\tfrac{-1}{2},J=\\tfrac{5}{2},F1=3,F=\\tfrac{7}{2},M=\\tfrac{1}{2}\\rangle$"
                        ],
                        "text/plain": [
                            "<IPython.core.display.Latex object>"
                        ]
                    },
                    "metadata": {},
                    "output_type": "display_data"
                },
                {
                    "name": "stdout",
                    "output_type": "stream",
                    "text": [
                        "[ 4  5  6  7 16 17 18 19 34 35 36 37 54 55 56 57 76 77]\n"
                    ]
                },
                {
                    "data": {
                        "text/latex": [
                            "$ 0.156458|Λ=1,Σ=\\tfrac{-1}{2},Ω=\\tfrac{1}{2},J=\\tfrac{1}{2},F1=3,F=\\tfrac{5}{2},M=\\tfrac{1}{2}\\rangle$$-0.156458|Λ=-1,Σ=\\tfrac{1}{2},Ω=\\tfrac{-1}{2},J=\\tfrac{1}{2},F1=3,F=\\tfrac{5}{2},M=\\tfrac{1}{2}\\rangle$$-0.683728|Λ=1,Σ=\\tfrac{-1}{2},Ω=\\tfrac{1}{2},J=\\tfrac{1}{2},F1=3,F=\\tfrac{7}{2},M=\\tfrac{1}{2}\\rangle$$+0.683728|Λ=-1,Σ=\\tfrac{1}{2},Ω=\\tfrac{-1}{2},J=\\tfrac{1}{2},F1=3,F=\\tfrac{7}{2},M=\\tfrac{1}{2}\\rangle$$-0.019961|Λ=1,Σ=\\tfrac{-1}{2},Ω=\\tfrac{1}{2},J=\\tfrac{3}{2},F1=3,F=\\tfrac{5}{2},M=\\tfrac{1}{2}\\rangle$$-0.019961|Λ=-1,Σ=\\tfrac{1}{2},Ω=\\tfrac{-1}{2},J=\\tfrac{3}{2},F1=3,F=\\tfrac{5}{2},M=\\tfrac{1}{2}\\rangle$$+0.08723|Λ=1,Σ=\\tfrac{-1}{2},Ω=\\tfrac{1}{2},J=\\tfrac{3}{2},F1=3,F=\\tfrac{7}{2},M=\\tfrac{1}{2}\\rangle$$+0.08723|Λ=-1,Σ=\\tfrac{1}{2},Ω=\\tfrac{-1}{2},J=\\tfrac{3}{2},F1=3,F=\\tfrac{7}{2},M=\\tfrac{1}{2}\\rangle$$+0.001208|Λ=1,Σ=\\tfrac{-1}{2},Ω=\\tfrac{1}{2},J=\\tfrac{5}{2},F1=3,F=\\tfrac{5}{2},M=\\tfrac{1}{2}\\rangle$$-0.001208|Λ=-1,Σ=\\tfrac{1}{2},Ω=\\tfrac{-1}{2},J=\\tfrac{5}{2},F1=3,F=\\tfrac{5}{2},M=\\tfrac{1}{2}\\rangle$$-0.005277|Λ=1,Σ=\\tfrac{-1}{2},Ω=\\tfrac{1}{2},J=\\tfrac{5}{2},F1=3,F=\\tfrac{7}{2},M=\\tfrac{1}{2}\\rangle$$+0.005277|Λ=-1,Σ=\\tfrac{1}{2},Ω=\\tfrac{-1}{2},J=\\tfrac{5}{2},F1=3,F=\\tfrac{7}{2},M=\\tfrac{1}{2}\\rangle$"
                        ],
                        "text/plain": [
                            "<IPython.core.display.Latex object>"
                        ]
                    },
                    "metadata": {},
                    "output_type": "display_data"
                },
                {
                    "name": "stdout",
                    "output_type": "stream",
                    "text": [
                        "[ 4  5  6  7 16 17 18 19 34 35 36 37 54 55 56 57 76 77]\n"
                    ]
                },
                {
                    "data": {
                        "text/latex": [
                            "$ 0.156458|Λ=1,Σ=\\tfrac{-1}{2},Ω=\\tfrac{1}{2},J=\\tfrac{1}{2},F1=3,F=\\tfrac{5}{2},M=\\tfrac{1}{2}\\rangle$$-0.156458|Λ=-1,Σ=\\tfrac{1}{2},Ω=\\tfrac{-1}{2},J=\\tfrac{1}{2},F1=3,F=\\tfrac{5}{2},M=\\tfrac{1}{2}\\rangle$$-0.683728|Λ=1,Σ=\\tfrac{-1}{2},Ω=\\tfrac{1}{2},J=\\tfrac{1}{2},F1=3,F=\\tfrac{7}{2},M=\\tfrac{1}{2}\\rangle$$+0.683728|Λ=-1,Σ=\\tfrac{1}{2},Ω=\\tfrac{-1}{2},J=\\tfrac{1}{2},F1=3,F=\\tfrac{7}{2},M=\\tfrac{1}{2}\\rangle$$-0.019961|Λ=1,Σ=\\tfrac{-1}{2},Ω=\\tfrac{1}{2},J=\\tfrac{3}{2},F1=3,F=\\tfrac{5}{2},M=\\tfrac{1}{2}\\rangle$$-0.019961|Λ=-1,Σ=\\tfrac{1}{2},Ω=\\tfrac{-1}{2},J=\\tfrac{3}{2},F1=3,F=\\tfrac{5}{2},M=\\tfrac{1}{2}\\rangle$$+0.08723|Λ=1,Σ=\\tfrac{-1}{2},Ω=\\tfrac{1}{2},J=\\tfrac{3}{2},F1=3,F=\\tfrac{7}{2},M=\\tfrac{1}{2}\\rangle$$+0.08723|Λ=-1,Σ=\\tfrac{1}{2},Ω=\\tfrac{-1}{2},J=\\tfrac{3}{2},F1=3,F=\\tfrac{7}{2},M=\\tfrac{1}{2}\\rangle$$+0.001208|Λ=1,Σ=\\tfrac{-1}{2},Ω=\\tfrac{1}{2},J=\\tfrac{5}{2},F1=3,F=\\tfrac{5}{2},M=\\tfrac{1}{2}\\rangle$$-0.001208|Λ=-1,Σ=\\tfrac{1}{2},Ω=\\tfrac{-1}{2},J=\\tfrac{5}{2},F1=3,F=\\tfrac{5}{2},M=\\tfrac{1}{2}\\rangle$$-0.005277|Λ=1,Σ=\\tfrac{-1}{2},Ω=\\tfrac{1}{2},J=\\tfrac{5}{2},F1=3,F=\\tfrac{7}{2},M=\\tfrac{1}{2}\\rangle$$+0.005277|Λ=-1,Σ=\\tfrac{1}{2},Ω=\\tfrac{-1}{2},J=\\tfrac{5}{2},F1=3,F=\\tfrac{7}{2},M=\\tfrac{1}{2}\\rangle$"
                        ],
                        "text/plain": [
                            "<IPython.core.display.Latex object>"
                        ]
                    },
                    "metadata": {},
                    "output_type": "display_data"
                },
                {
                    "name": "stdout",
                    "output_type": "stream",
                    "text": [
                        "[ 4  5  6  7 16 17 18 19 34 35 36 37 54 55 56 57 76 77]\n"
                    ]
                },
                {
                    "data": {
                        "text/latex": [
                            "$ 0.156458|Λ=1,Σ=\\tfrac{-1}{2},Ω=\\tfrac{1}{2},J=\\tfrac{1}{2},F1=3,F=\\tfrac{5}{2},M=\\tfrac{1}{2}\\rangle$$-0.156458|Λ=-1,Σ=\\tfrac{1}{2},Ω=\\tfrac{-1}{2},J=\\tfrac{1}{2},F1=3,F=\\tfrac{5}{2},M=\\tfrac{1}{2}\\rangle$$-0.683728|Λ=1,Σ=\\tfrac{-1}{2},Ω=\\tfrac{1}{2},J=\\tfrac{1}{2},F1=3,F=\\tfrac{7}{2},M=\\tfrac{1}{2}\\rangle$$+0.683728|Λ=-1,Σ=\\tfrac{1}{2},Ω=\\tfrac{-1}{2},J=\\tfrac{1}{2},F1=3,F=\\tfrac{7}{2},M=\\tfrac{1}{2}\\rangle$$-0.019961|Λ=1,Σ=\\tfrac{-1}{2},Ω=\\tfrac{1}{2},J=\\tfrac{3}{2},F1=3,F=\\tfrac{5}{2},M=\\tfrac{1}{2}\\rangle$$-0.019961|Λ=-1,Σ=\\tfrac{1}{2},Ω=\\tfrac{-1}{2},J=\\tfrac{3}{2},F1=3,F=\\tfrac{5}{2},M=\\tfrac{1}{2}\\rangle$$+0.08723|Λ=1,Σ=\\tfrac{-1}{2},Ω=\\tfrac{1}{2},J=\\tfrac{3}{2},F1=3,F=\\tfrac{7}{2},M=\\tfrac{1}{2}\\rangle$$+0.08723|Λ=-1,Σ=\\tfrac{1}{2},Ω=\\tfrac{-1}{2},J=\\tfrac{3}{2},F1=3,F=\\tfrac{7}{2},M=\\tfrac{1}{2}\\rangle$$+0.001208|Λ=1,Σ=\\tfrac{-1}{2},Ω=\\tfrac{1}{2},J=\\tfrac{5}{2},F1=3,F=\\tfrac{5}{2},M=\\tfrac{1}{2}\\rangle$$-0.001208|Λ=-1,Σ=\\tfrac{1}{2},Ω=\\tfrac{-1}{2},J=\\tfrac{5}{2},F1=3,F=\\tfrac{5}{2},M=\\tfrac{1}{2}\\rangle$$-0.005277|Λ=1,Σ=\\tfrac{-1}{2},Ω=\\tfrac{1}{2},J=\\tfrac{5}{2},F1=3,F=\\tfrac{7}{2},M=\\tfrac{1}{2}\\rangle$$+0.005277|Λ=-1,Σ=\\tfrac{1}{2},Ω=\\tfrac{-1}{2},J=\\tfrac{5}{2},F1=3,F=\\tfrac{7}{2},M=\\tfrac{1}{2}\\rangle$"
                        ],
                        "text/plain": [
                            "<IPython.core.display.Latex object>"
                        ]
                    },
                    "metadata": {},
                    "output_type": "display_data"
                },
                {
                    "name": "stdout",
                    "output_type": "stream",
                    "text": [
                        "[ 4  5  6  7 16 17 18 19 34 35 36 37 54 55 56 57 76 77]\n"
                    ]
                },
                {
                    "data": {
                        "text/latex": [
                            "$ 0.156458|Λ=1,Σ=\\tfrac{-1}{2},Ω=\\tfrac{1}{2},J=\\tfrac{1}{2},F1=3,F=\\tfrac{5}{2},M=\\tfrac{1}{2}\\rangle$$-0.156458|Λ=-1,Σ=\\tfrac{1}{2},Ω=\\tfrac{-1}{2},J=\\tfrac{1}{2},F1=3,F=\\tfrac{5}{2},M=\\tfrac{1}{2}\\rangle$$-0.683728|Λ=1,Σ=\\tfrac{-1}{2},Ω=\\tfrac{1}{2},J=\\tfrac{1}{2},F1=3,F=\\tfrac{7}{2},M=\\tfrac{1}{2}\\rangle$$+0.683728|Λ=-1,Σ=\\tfrac{1}{2},Ω=\\tfrac{-1}{2},J=\\tfrac{1}{2},F1=3,F=\\tfrac{7}{2},M=\\tfrac{1}{2}\\rangle$$-0.019961|Λ=1,Σ=\\tfrac{-1}{2},Ω=\\tfrac{1}{2},J=\\tfrac{3}{2},F1=3,F=\\tfrac{5}{2},M=\\tfrac{1}{2}\\rangle$$-0.019961|Λ=-1,Σ=\\tfrac{1}{2},Ω=\\tfrac{-1}{2},J=\\tfrac{3}{2},F1=3,F=\\tfrac{5}{2},M=\\tfrac{1}{2}\\rangle$$+0.08723|Λ=1,Σ=\\tfrac{-1}{2},Ω=\\tfrac{1}{2},J=\\tfrac{3}{2},F1=3,F=\\tfrac{7}{2},M=\\tfrac{1}{2}\\rangle$$+0.08723|Λ=-1,Σ=\\tfrac{1}{2},Ω=\\tfrac{-1}{2},J=\\tfrac{3}{2},F1=3,F=\\tfrac{7}{2},M=\\tfrac{1}{2}\\rangle$$+0.001208|Λ=1,Σ=\\tfrac{-1}{2},Ω=\\tfrac{1}{2},J=\\tfrac{5}{2},F1=3,F=\\tfrac{5}{2},M=\\tfrac{1}{2}\\rangle$$-0.001208|Λ=-1,Σ=\\tfrac{1}{2},Ω=\\tfrac{-1}{2},J=\\tfrac{5}{2},F1=3,F=\\tfrac{5}{2},M=\\tfrac{1}{2}\\rangle$$-0.005277|Λ=1,Σ=\\tfrac{-1}{2},Ω=\\tfrac{1}{2},J=\\tfrac{5}{2},F1=3,F=\\tfrac{7}{2},M=\\tfrac{1}{2}\\rangle$$+0.005277|Λ=-1,Σ=\\tfrac{1}{2},Ω=\\tfrac{-1}{2},J=\\tfrac{5}{2},F1=3,F=\\tfrac{7}{2},M=\\tfrac{1}{2}\\rangle$"
                        ],
                        "text/plain": [
                            "<IPython.core.display.Latex object>"
                        ]
                    },
                    "metadata": {},
                    "output_type": "display_data"
                },
                {
                    "name": "stdout",
                    "output_type": "stream",
                    "text": [
                        "[ 4  5  6  7 16 17 18 19 34 35 36 37 54 55 56 57 76 77]\n"
                    ]
                },
                {
                    "data": {
                        "text/latex": [
                            "$ 0.156458|Λ=1,Σ=\\tfrac{-1}{2},Ω=\\tfrac{1}{2},J=\\tfrac{1}{2},F1=3,F=\\tfrac{5}{2},M=\\tfrac{1}{2}\\rangle$$-0.156458|Λ=-1,Σ=\\tfrac{1}{2},Ω=\\tfrac{-1}{2},J=\\tfrac{1}{2},F1=3,F=\\tfrac{5}{2},M=\\tfrac{1}{2}\\rangle$$-0.683728|Λ=1,Σ=\\tfrac{-1}{2},Ω=\\tfrac{1}{2},J=\\tfrac{1}{2},F1=3,F=\\tfrac{7}{2},M=\\tfrac{1}{2}\\rangle$$+0.683728|Λ=-1,Σ=\\tfrac{1}{2},Ω=\\tfrac{-1}{2},J=\\tfrac{1}{2},F1=3,F=\\tfrac{7}{2},M=\\tfrac{1}{2}\\rangle$$-0.019961|Λ=1,Σ=\\tfrac{-1}{2},Ω=\\tfrac{1}{2},J=\\tfrac{3}{2},F1=3,F=\\tfrac{5}{2},M=\\tfrac{1}{2}\\rangle$$-0.019961|Λ=-1,Σ=\\tfrac{1}{2},Ω=\\tfrac{-1}{2},J=\\tfrac{3}{2},F1=3,F=\\tfrac{5}{2},M=\\tfrac{1}{2}\\rangle$$+0.08723|Λ=1,Σ=\\tfrac{-1}{2},Ω=\\tfrac{1}{2},J=\\tfrac{3}{2},F1=3,F=\\tfrac{7}{2},M=\\tfrac{1}{2}\\rangle$$+0.08723|Λ=-1,Σ=\\tfrac{1}{2},Ω=\\tfrac{-1}{2},J=\\tfrac{3}{2},F1=3,F=\\tfrac{7}{2},M=\\tfrac{1}{2}\\rangle$$+0.001208|Λ=1,Σ=\\tfrac{-1}{2},Ω=\\tfrac{1}{2},J=\\tfrac{5}{2},F1=3,F=\\tfrac{5}{2},M=\\tfrac{1}{2}\\rangle$$-0.001208|Λ=-1,Σ=\\tfrac{1}{2},Ω=\\tfrac{-1}{2},J=\\tfrac{5}{2},F1=3,F=\\tfrac{5}{2},M=\\tfrac{1}{2}\\rangle$$-0.005277|Λ=1,Σ=\\tfrac{-1}{2},Ω=\\tfrac{1}{2},J=\\tfrac{5}{2},F1=3,F=\\tfrac{7}{2},M=\\tfrac{1}{2}\\rangle$$+0.005277|Λ=-1,Σ=\\tfrac{1}{2},Ω=\\tfrac{-1}{2},J=\\tfrac{5}{2},F1=3,F=\\tfrac{7}{2},M=\\tfrac{1}{2}\\rangle$"
                        ],
                        "text/plain": [
                            "<IPython.core.display.Latex object>"
                        ]
                    },
                    "metadata": {},
                    "output_type": "display_data"
                },
                {
                    "name": "stdout",
                    "output_type": "stream",
                    "text": [
                        "[ 4  5  6  7 16 17 18 19 34 35 36 37 54 55 56 57 76 77]\n"
                    ]
                },
                {
                    "data": {
                        "text/latex": [
                            "$ 0.156458|Λ=1,Σ=\\tfrac{-1}{2},Ω=\\tfrac{1}{2},J=\\tfrac{1}{2},F1=3,F=\\tfrac{5}{2},M=\\tfrac{1}{2}\\rangle$$-0.156458|Λ=-1,Σ=\\tfrac{1}{2},Ω=\\tfrac{-1}{2},J=\\tfrac{1}{2},F1=3,F=\\tfrac{5}{2},M=\\tfrac{1}{2}\\rangle$$-0.683728|Λ=1,Σ=\\tfrac{-1}{2},Ω=\\tfrac{1}{2},J=\\tfrac{1}{2},F1=3,F=\\tfrac{7}{2},M=\\tfrac{1}{2}\\rangle$$+0.683728|Λ=-1,Σ=\\tfrac{1}{2},Ω=\\tfrac{-1}{2},J=\\tfrac{1}{2},F1=3,F=\\tfrac{7}{2},M=\\tfrac{1}{2}\\rangle$$-0.019961|Λ=1,Σ=\\tfrac{-1}{2},Ω=\\tfrac{1}{2},J=\\tfrac{3}{2},F1=3,F=\\tfrac{5}{2},M=\\tfrac{1}{2}\\rangle$$-0.019961|Λ=-1,Σ=\\tfrac{1}{2},Ω=\\tfrac{-1}{2},J=\\tfrac{3}{2},F1=3,F=\\tfrac{5}{2},M=\\tfrac{1}{2}\\rangle$$+0.08723|Λ=1,Σ=\\tfrac{-1}{2},Ω=\\tfrac{1}{2},J=\\tfrac{3}{2},F1=3,F=\\tfrac{7}{2},M=\\tfrac{1}{2}\\rangle$$+0.08723|Λ=-1,Σ=\\tfrac{1}{2},Ω=\\tfrac{-1}{2},J=\\tfrac{3}{2},F1=3,F=\\tfrac{7}{2},M=\\tfrac{1}{2}\\rangle$$+0.001208|Λ=1,Σ=\\tfrac{-1}{2},Ω=\\tfrac{1}{2},J=\\tfrac{5}{2},F1=3,F=\\tfrac{5}{2},M=\\tfrac{1}{2}\\rangle$$-0.001208|Λ=-1,Σ=\\tfrac{1}{2},Ω=\\tfrac{-1}{2},J=\\tfrac{5}{2},F1=3,F=\\tfrac{5}{2},M=\\tfrac{1}{2}\\rangle$$-0.005277|Λ=1,Σ=\\tfrac{-1}{2},Ω=\\tfrac{1}{2},J=\\tfrac{5}{2},F1=3,F=\\tfrac{7}{2},M=\\tfrac{1}{2}\\rangle$$+0.005277|Λ=-1,Σ=\\tfrac{1}{2},Ω=\\tfrac{-1}{2},J=\\tfrac{5}{2},F1=3,F=\\tfrac{7}{2},M=\\tfrac{1}{2}\\rangle$"
                        ],
                        "text/plain": [
                            "<IPython.core.display.Latex object>"
                        ]
                    },
                    "metadata": {},
                    "output_type": "display_data"
                },
                {
                    "name": "stdout",
                    "output_type": "stream",
                    "text": [
                        "[ 4  5  6  7 16 17 18 19 34 35 36 37 54 55 56 57 76 77]\n"
                    ]
                },
                {
                    "data": {
                        "text/latex": [
                            "$ 0.156458|Λ=1,Σ=\\tfrac{-1}{2},Ω=\\tfrac{1}{2},J=\\tfrac{1}{2},F1=3,F=\\tfrac{5}{2},M=\\tfrac{1}{2}\\rangle$$-0.156458|Λ=-1,Σ=\\tfrac{1}{2},Ω=\\tfrac{-1}{2},J=\\tfrac{1}{2},F1=3,F=\\tfrac{5}{2},M=\\tfrac{1}{2}\\rangle$$-0.683728|Λ=1,Σ=\\tfrac{-1}{2},Ω=\\tfrac{1}{2},J=\\tfrac{1}{2},F1=3,F=\\tfrac{7}{2},M=\\tfrac{1}{2}\\rangle$$+0.683728|Λ=-1,Σ=\\tfrac{1}{2},Ω=\\tfrac{-1}{2},J=\\tfrac{1}{2},F1=3,F=\\tfrac{7}{2},M=\\tfrac{1}{2}\\rangle$$-0.019961|Λ=1,Σ=\\tfrac{-1}{2},Ω=\\tfrac{1}{2},J=\\tfrac{3}{2},F1=3,F=\\tfrac{5}{2},M=\\tfrac{1}{2}\\rangle$$-0.019961|Λ=-1,Σ=\\tfrac{1}{2},Ω=\\tfrac{-1}{2},J=\\tfrac{3}{2},F1=3,F=\\tfrac{5}{2},M=\\tfrac{1}{2}\\rangle$$+0.08723|Λ=1,Σ=\\tfrac{-1}{2},Ω=\\tfrac{1}{2},J=\\tfrac{3}{2},F1=3,F=\\tfrac{7}{2},M=\\tfrac{1}{2}\\rangle$$+0.08723|Λ=-1,Σ=\\tfrac{1}{2},Ω=\\tfrac{-1}{2},J=\\tfrac{3}{2},F1=3,F=\\tfrac{7}{2},M=\\tfrac{1}{2}\\rangle$$+0.001208|Λ=1,Σ=\\tfrac{-1}{2},Ω=\\tfrac{1}{2},J=\\tfrac{5}{2},F1=3,F=\\tfrac{5}{2},M=\\tfrac{1}{2}\\rangle$$-0.001208|Λ=-1,Σ=\\tfrac{1}{2},Ω=\\tfrac{-1}{2},J=\\tfrac{5}{2},F1=3,F=\\tfrac{5}{2},M=\\tfrac{1}{2}\\rangle$$-0.005277|Λ=1,Σ=\\tfrac{-1}{2},Ω=\\tfrac{1}{2},J=\\tfrac{5}{2},F1=3,F=\\tfrac{7}{2},M=\\tfrac{1}{2}\\rangle$$+0.005277|Λ=-1,Σ=\\tfrac{1}{2},Ω=\\tfrac{-1}{2},J=\\tfrac{5}{2},F1=3,F=\\tfrac{7}{2},M=\\tfrac{1}{2}\\rangle$"
                        ],
                        "text/plain": [
                            "<IPython.core.display.Latex object>"
                        ]
                    },
                    "metadata": {},
                    "output_type": "display_data"
                },
                {
                    "name": "stdout",
                    "output_type": "stream",
                    "text": [
                        "[ 4  5  6  7 16 17 18 19 34 35 36 37 54 55 56 57 76 77]\n"
                    ]
                },
                {
                    "data": {
                        "text/latex": [
                            "$ 0.156458|Λ=1,Σ=\\tfrac{-1}{2},Ω=\\tfrac{1}{2},J=\\tfrac{1}{2},F1=3,F=\\tfrac{5}{2},M=\\tfrac{1}{2}\\rangle$$-0.156458|Λ=-1,Σ=\\tfrac{1}{2},Ω=\\tfrac{-1}{2},J=\\tfrac{1}{2},F1=3,F=\\tfrac{5}{2},M=\\tfrac{1}{2}\\rangle$$-0.683728|Λ=1,Σ=\\tfrac{-1}{2},Ω=\\tfrac{1}{2},J=\\tfrac{1}{2},F1=3,F=\\tfrac{7}{2},M=\\tfrac{1}{2}\\rangle$$+0.683728|Λ=-1,Σ=\\tfrac{1}{2},Ω=\\tfrac{-1}{2},J=\\tfrac{1}{2},F1=3,F=\\tfrac{7}{2},M=\\tfrac{1}{2}\\rangle$$-0.019961|Λ=1,Σ=\\tfrac{-1}{2},Ω=\\tfrac{1}{2},J=\\tfrac{3}{2},F1=3,F=\\tfrac{5}{2},M=\\tfrac{1}{2}\\rangle$$-0.019961|Λ=-1,Σ=\\tfrac{1}{2},Ω=\\tfrac{-1}{2},J=\\tfrac{3}{2},F1=3,F=\\tfrac{5}{2},M=\\tfrac{1}{2}\\rangle$$+0.08723|Λ=1,Σ=\\tfrac{-1}{2},Ω=\\tfrac{1}{2},J=\\tfrac{3}{2},F1=3,F=\\tfrac{7}{2},M=\\tfrac{1}{2}\\rangle$$+0.08723|Λ=-1,Σ=\\tfrac{1}{2},Ω=\\tfrac{-1}{2},J=\\tfrac{3}{2},F1=3,F=\\tfrac{7}{2},M=\\tfrac{1}{2}\\rangle$$+0.001208|Λ=1,Σ=\\tfrac{-1}{2},Ω=\\tfrac{1}{2},J=\\tfrac{5}{2},F1=3,F=\\tfrac{5}{2},M=\\tfrac{1}{2}\\rangle$$-0.001208|Λ=-1,Σ=\\tfrac{1}{2},Ω=\\tfrac{-1}{2},J=\\tfrac{5}{2},F1=3,F=\\tfrac{5}{2},M=\\tfrac{1}{2}\\rangle$$-0.005277|Λ=1,Σ=\\tfrac{-1}{2},Ω=\\tfrac{1}{2},J=\\tfrac{5}{2},F1=3,F=\\tfrac{7}{2},M=\\tfrac{1}{2}\\rangle$$+0.005277|Λ=-1,Σ=\\tfrac{1}{2},Ω=\\tfrac{-1}{2},J=\\tfrac{5}{2},F1=3,F=\\tfrac{7}{2},M=\\tfrac{1}{2}\\rangle$"
                        ],
                        "text/plain": [
                            "<IPython.core.display.Latex object>"
                        ]
                    },
                    "metadata": {},
                    "output_type": "display_data"
                },
                {
                    "name": "stdout",
                    "output_type": "stream",
                    "text": [
                        "[ 4  5  6  7 16 17 18 19 34 35 36 37 54 55 56 57 76 77]\n"
                    ]
                },
                {
                    "data": {
                        "text/latex": [
                            "$ 0.156458|Λ=1,Σ=\\tfrac{-1}{2},Ω=\\tfrac{1}{2},J=\\tfrac{1}{2},F1=3,F=\\tfrac{5}{2},M=\\tfrac{1}{2}\\rangle$$-0.156458|Λ=-1,Σ=\\tfrac{1}{2},Ω=\\tfrac{-1}{2},J=\\tfrac{1}{2},F1=3,F=\\tfrac{5}{2},M=\\tfrac{1}{2}\\rangle$$-0.683728|Λ=1,Σ=\\tfrac{-1}{2},Ω=\\tfrac{1}{2},J=\\tfrac{1}{2},F1=3,F=\\tfrac{7}{2},M=\\tfrac{1}{2}\\rangle$$+0.683728|Λ=-1,Σ=\\tfrac{1}{2},Ω=\\tfrac{-1}{2},J=\\tfrac{1}{2},F1=3,F=\\tfrac{7}{2},M=\\tfrac{1}{2}\\rangle$$-0.019961|Λ=1,Σ=\\tfrac{-1}{2},Ω=\\tfrac{1}{2},J=\\tfrac{3}{2},F1=3,F=\\tfrac{5}{2},M=\\tfrac{1}{2}\\rangle$$-0.019961|Λ=-1,Σ=\\tfrac{1}{2},Ω=\\tfrac{-1}{2},J=\\tfrac{3}{2},F1=3,F=\\tfrac{5}{2},M=\\tfrac{1}{2}\\rangle$$+0.08723|Λ=1,Σ=\\tfrac{-1}{2},Ω=\\tfrac{1}{2},J=\\tfrac{3}{2},F1=3,F=\\tfrac{7}{2},M=\\tfrac{1}{2}\\rangle$$+0.08723|Λ=-1,Σ=\\tfrac{1}{2},Ω=\\tfrac{-1}{2},J=\\tfrac{3}{2},F1=3,F=\\tfrac{7}{2},M=\\tfrac{1}{2}\\rangle$$+0.001208|Λ=1,Σ=\\tfrac{-1}{2},Ω=\\tfrac{1}{2},J=\\tfrac{5}{2},F1=3,F=\\tfrac{5}{2},M=\\tfrac{1}{2}\\rangle$$-0.001208|Λ=-1,Σ=\\tfrac{1}{2},Ω=\\tfrac{-1}{2},J=\\tfrac{5}{2},F1=3,F=\\tfrac{5}{2},M=\\tfrac{1}{2}\\rangle$$-0.005277|Λ=1,Σ=\\tfrac{-1}{2},Ω=\\tfrac{1}{2},J=\\tfrac{5}{2},F1=3,F=\\tfrac{7}{2},M=\\tfrac{1}{2}\\rangle$$+0.005277|Λ=-1,Σ=\\tfrac{1}{2},Ω=\\tfrac{-1}{2},J=\\tfrac{5}{2},F1=3,F=\\tfrac{7}{2},M=\\tfrac{1}{2}\\rangle$"
                        ],
                        "text/plain": [
                            "<IPython.core.display.Latex object>"
                        ]
                    },
                    "metadata": {},
                    "output_type": "display_data"
                },
                {
                    "name": "stdout",
                    "output_type": "stream",
                    "text": [
                        "[ 4  5  6  7 16 17 18 19 34 35 36 37 54 55 56 57 76 77]\n"
                    ]
                },
                {
                    "data": {
                        "text/latex": [
                            "$ 0.156458|Λ=1,Σ=\\tfrac{-1}{2},Ω=\\tfrac{1}{2},J=\\tfrac{1}{2},F1=3,F=\\tfrac{5}{2},M=\\tfrac{1}{2}\\rangle$$-0.156458|Λ=-1,Σ=\\tfrac{1}{2},Ω=\\tfrac{-1}{2},J=\\tfrac{1}{2},F1=3,F=\\tfrac{5}{2},M=\\tfrac{1}{2}\\rangle$$-0.683728|Λ=1,Σ=\\tfrac{-1}{2},Ω=\\tfrac{1}{2},J=\\tfrac{1}{2},F1=3,F=\\tfrac{7}{2},M=\\tfrac{1}{2}\\rangle$$+0.683728|Λ=-1,Σ=\\tfrac{1}{2},Ω=\\tfrac{-1}{2},J=\\tfrac{1}{2},F1=3,F=\\tfrac{7}{2},M=\\tfrac{1}{2}\\rangle$$-0.019961|Λ=1,Σ=\\tfrac{-1}{2},Ω=\\tfrac{1}{2},J=\\tfrac{3}{2},F1=3,F=\\tfrac{5}{2},M=\\tfrac{1}{2}\\rangle$$-0.019961|Λ=-1,Σ=\\tfrac{1}{2},Ω=\\tfrac{-1}{2},J=\\tfrac{3}{2},F1=3,F=\\tfrac{5}{2},M=\\tfrac{1}{2}\\rangle$$+0.08723|Λ=1,Σ=\\tfrac{-1}{2},Ω=\\tfrac{1}{2},J=\\tfrac{3}{2},F1=3,F=\\tfrac{7}{2},M=\\tfrac{1}{2}\\rangle$$+0.08723|Λ=-1,Σ=\\tfrac{1}{2},Ω=\\tfrac{-1}{2},J=\\tfrac{3}{2},F1=3,F=\\tfrac{7}{2},M=\\tfrac{1}{2}\\rangle$$+0.001208|Λ=1,Σ=\\tfrac{-1}{2},Ω=\\tfrac{1}{2},J=\\tfrac{5}{2},F1=3,F=\\tfrac{5}{2},M=\\tfrac{1}{2}\\rangle$$-0.001208|Λ=-1,Σ=\\tfrac{1}{2},Ω=\\tfrac{-1}{2},J=\\tfrac{5}{2},F1=3,F=\\tfrac{5}{2},M=\\tfrac{1}{2}\\rangle$$-0.005277|Λ=1,Σ=\\tfrac{-1}{2},Ω=\\tfrac{1}{2},J=\\tfrac{5}{2},F1=3,F=\\tfrac{7}{2},M=\\tfrac{1}{2}\\rangle$$+0.005277|Λ=-1,Σ=\\tfrac{1}{2},Ω=\\tfrac{-1}{2},J=\\tfrac{5}{2},F1=3,F=\\tfrac{7}{2},M=\\tfrac{1}{2}\\rangle$"
                        ],
                        "text/plain": [
                            "<IPython.core.display.Latex object>"
                        ]
                    },
                    "metadata": {},
                    "output_type": "display_data"
                },
                {
                    "name": "stdout",
                    "output_type": "stream",
                    "text": [
                        "[ 4  5  6  7 16 17 18 19 34 35 36 37 54 55 56 57 76 77]\n"
                    ]
                },
                {
                    "data": {
                        "text/latex": [
                            "$ 0.156458|Λ=1,Σ=\\tfrac{-1}{2},Ω=\\tfrac{1}{2},J=\\tfrac{1}{2},F1=3,F=\\tfrac{5}{2},M=\\tfrac{1}{2}\\rangle$$-0.156458|Λ=-1,Σ=\\tfrac{1}{2},Ω=\\tfrac{-1}{2},J=\\tfrac{1}{2},F1=3,F=\\tfrac{5}{2},M=\\tfrac{1}{2}\\rangle$$-0.683728|Λ=1,Σ=\\tfrac{-1}{2},Ω=\\tfrac{1}{2},J=\\tfrac{1}{2},F1=3,F=\\tfrac{7}{2},M=\\tfrac{1}{2}\\rangle$$+0.683728|Λ=-1,Σ=\\tfrac{1}{2},Ω=\\tfrac{-1}{2},J=\\tfrac{1}{2},F1=3,F=\\tfrac{7}{2},M=\\tfrac{1}{2}\\rangle$$-0.019961|Λ=1,Σ=\\tfrac{-1}{2},Ω=\\tfrac{1}{2},J=\\tfrac{3}{2},F1=3,F=\\tfrac{5}{2},M=\\tfrac{1}{2}\\rangle$$-0.019961|Λ=-1,Σ=\\tfrac{1}{2},Ω=\\tfrac{-1}{2},J=\\tfrac{3}{2},F1=3,F=\\tfrac{5}{2},M=\\tfrac{1}{2}\\rangle$$+0.08723|Λ=1,Σ=\\tfrac{-1}{2},Ω=\\tfrac{1}{2},J=\\tfrac{3}{2},F1=3,F=\\tfrac{7}{2},M=\\tfrac{1}{2}\\rangle$$+0.08723|Λ=-1,Σ=\\tfrac{1}{2},Ω=\\tfrac{-1}{2},J=\\tfrac{3}{2},F1=3,F=\\tfrac{7}{2},M=\\tfrac{1}{2}\\rangle$$+0.001208|Λ=1,Σ=\\tfrac{-1}{2},Ω=\\tfrac{1}{2},J=\\tfrac{5}{2},F1=3,F=\\tfrac{5}{2},M=\\tfrac{1}{2}\\rangle$$-0.001208|Λ=-1,Σ=\\tfrac{1}{2},Ω=\\tfrac{-1}{2},J=\\tfrac{5}{2},F1=3,F=\\tfrac{5}{2},M=\\tfrac{1}{2}\\rangle$$-0.005277|Λ=1,Σ=\\tfrac{-1}{2},Ω=\\tfrac{1}{2},J=\\tfrac{5}{2},F1=3,F=\\tfrac{7}{2},M=\\tfrac{1}{2}\\rangle$$+0.005277|Λ=-1,Σ=\\tfrac{1}{2},Ω=\\tfrac{-1}{2},J=\\tfrac{5}{2},F1=3,F=\\tfrac{7}{2},M=\\tfrac{1}{2}\\rangle$"
                        ],
                        "text/plain": [
                            "<IPython.core.display.Latex object>"
                        ]
                    },
                    "metadata": {},
                    "output_type": "display_data"
                },
                {
                    "name": "stdout",
                    "output_type": "stream",
                    "text": [
                        "[ 4  5  6  7 16 17 18 19 34 35 36 37 54 55 56 57 76 77]\n"
                    ]
                },
                {
                    "data": {
                        "text/latex": [
                            "$ 0.156458|Λ=1,Σ=\\tfrac{-1}{2},Ω=\\tfrac{1}{2},J=\\tfrac{1}{2},F1=3,F=\\tfrac{5}{2},M=\\tfrac{1}{2}\\rangle$$-0.156458|Λ=-1,Σ=\\tfrac{1}{2},Ω=\\tfrac{-1}{2},J=\\tfrac{1}{2},F1=3,F=\\tfrac{5}{2},M=\\tfrac{1}{2}\\rangle$$-0.683728|Λ=1,Σ=\\tfrac{-1}{2},Ω=\\tfrac{1}{2},J=\\tfrac{1}{2},F1=3,F=\\tfrac{7}{2},M=\\tfrac{1}{2}\\rangle$$+0.683728|Λ=-1,Σ=\\tfrac{1}{2},Ω=\\tfrac{-1}{2},J=\\tfrac{1}{2},F1=3,F=\\tfrac{7}{2},M=\\tfrac{1}{2}\\rangle$$-0.019961|Λ=1,Σ=\\tfrac{-1}{2},Ω=\\tfrac{1}{2},J=\\tfrac{3}{2},F1=3,F=\\tfrac{5}{2},M=\\tfrac{1}{2}\\rangle$$-0.019961|Λ=-1,Σ=\\tfrac{1}{2},Ω=\\tfrac{-1}{2},J=\\tfrac{3}{2},F1=3,F=\\tfrac{5}{2},M=\\tfrac{1}{2}\\rangle$$+0.08723|Λ=1,Σ=\\tfrac{-1}{2},Ω=\\tfrac{1}{2},J=\\tfrac{3}{2},F1=3,F=\\tfrac{7}{2},M=\\tfrac{1}{2}\\rangle$$+0.08723|Λ=-1,Σ=\\tfrac{1}{2},Ω=\\tfrac{-1}{2},J=\\tfrac{3}{2},F1=3,F=\\tfrac{7}{2},M=\\tfrac{1}{2}\\rangle$$+0.001208|Λ=1,Σ=\\tfrac{-1}{2},Ω=\\tfrac{1}{2},J=\\tfrac{5}{2},F1=3,F=\\tfrac{5}{2},M=\\tfrac{1}{2}\\rangle$$-0.001208|Λ=-1,Σ=\\tfrac{1}{2},Ω=\\tfrac{-1}{2},J=\\tfrac{5}{2},F1=3,F=\\tfrac{5}{2},M=\\tfrac{1}{2}\\rangle$$-0.005277|Λ=1,Σ=\\tfrac{-1}{2},Ω=\\tfrac{1}{2},J=\\tfrac{5}{2},F1=3,F=\\tfrac{7}{2},M=\\tfrac{1}{2}\\rangle$$+0.005277|Λ=-1,Σ=\\tfrac{1}{2},Ω=\\tfrac{-1}{2},J=\\tfrac{5}{2},F1=3,F=\\tfrac{7}{2},M=\\tfrac{1}{2}\\rangle$"
                        ],
                        "text/plain": [
                            "<IPython.core.display.Latex object>"
                        ]
                    },
                    "metadata": {},
                    "output_type": "display_data"
                },
                {
                    "name": "stdout",
                    "output_type": "stream",
                    "text": [
                        "[ 4  5  6  7 16 17 18 19 34 35 36 37 54 55 56 57 76 77]\n"
                    ]
                },
                {
                    "data": {
                        "text/latex": [
                            "$ 0.156458|Λ=1,Σ=\\tfrac{-1}{2},Ω=\\tfrac{1}{2},J=\\tfrac{1}{2},F1=3,F=\\tfrac{5}{2},M=\\tfrac{1}{2}\\rangle$$-0.156458|Λ=-1,Σ=\\tfrac{1}{2},Ω=\\tfrac{-1}{2},J=\\tfrac{1}{2},F1=3,F=\\tfrac{5}{2},M=\\tfrac{1}{2}\\rangle$$-0.683728|Λ=1,Σ=\\tfrac{-1}{2},Ω=\\tfrac{1}{2},J=\\tfrac{1}{2},F1=3,F=\\tfrac{7}{2},M=\\tfrac{1}{2}\\rangle$$+0.683728|Λ=-1,Σ=\\tfrac{1}{2},Ω=\\tfrac{-1}{2},J=\\tfrac{1}{2},F1=3,F=\\tfrac{7}{2},M=\\tfrac{1}{2}\\rangle$$-0.019961|Λ=1,Σ=\\tfrac{-1}{2},Ω=\\tfrac{1}{2},J=\\tfrac{3}{2},F1=3,F=\\tfrac{5}{2},M=\\tfrac{1}{2}\\rangle$$-0.019961|Λ=-1,Σ=\\tfrac{1}{2},Ω=\\tfrac{-1}{2},J=\\tfrac{3}{2},F1=3,F=\\tfrac{5}{2},M=\\tfrac{1}{2}\\rangle$$+0.08723|Λ=1,Σ=\\tfrac{-1}{2},Ω=\\tfrac{1}{2},J=\\tfrac{3}{2},F1=3,F=\\tfrac{7}{2},M=\\tfrac{1}{2}\\rangle$$+0.08723|Λ=-1,Σ=\\tfrac{1}{2},Ω=\\tfrac{-1}{2},J=\\tfrac{3}{2},F1=3,F=\\tfrac{7}{2},M=\\tfrac{1}{2}\\rangle$$+0.001208|Λ=1,Σ=\\tfrac{-1}{2},Ω=\\tfrac{1}{2},J=\\tfrac{5}{2},F1=3,F=\\tfrac{5}{2},M=\\tfrac{1}{2}\\rangle$$-0.001208|Λ=-1,Σ=\\tfrac{1}{2},Ω=\\tfrac{-1}{2},J=\\tfrac{5}{2},F1=3,F=\\tfrac{5}{2},M=\\tfrac{1}{2}\\rangle$$-0.005277|Λ=1,Σ=\\tfrac{-1}{2},Ω=\\tfrac{1}{2},J=\\tfrac{5}{2},F1=3,F=\\tfrac{7}{2},M=\\tfrac{1}{2}\\rangle$$+0.005277|Λ=-1,Σ=\\tfrac{1}{2},Ω=\\tfrac{-1}{2},J=\\tfrac{5}{2},F1=3,F=\\tfrac{7}{2},M=\\tfrac{1}{2}\\rangle$"
                        ],
                        "text/plain": [
                            "<IPython.core.display.Latex object>"
                        ]
                    },
                    "metadata": {},
                    "output_type": "display_data"
                },
                {
                    "name": "stdout",
                    "output_type": "stream",
                    "text": [
                        "[ 4  5  6  7 16 17 18 19 34 35 36 37 54 55 56 57 76 77]\n"
                    ]
                },
                {
                    "data": {
                        "text/latex": [
                            "$ 0.156458|Λ=1,Σ=\\tfrac{-1}{2},Ω=\\tfrac{1}{2},J=\\tfrac{1}{2},F1=3,F=\\tfrac{5}{2},M=\\tfrac{1}{2}\\rangle$$-0.156458|Λ=-1,Σ=\\tfrac{1}{2},Ω=\\tfrac{-1}{2},J=\\tfrac{1}{2},F1=3,F=\\tfrac{5}{2},M=\\tfrac{1}{2}\\rangle$$-0.683728|Λ=1,Σ=\\tfrac{-1}{2},Ω=\\tfrac{1}{2},J=\\tfrac{1}{2},F1=3,F=\\tfrac{7}{2},M=\\tfrac{1}{2}\\rangle$$+0.683728|Λ=-1,Σ=\\tfrac{1}{2},Ω=\\tfrac{-1}{2},J=\\tfrac{1}{2},F1=3,F=\\tfrac{7}{2},M=\\tfrac{1}{2}\\rangle$$-0.019961|Λ=1,Σ=\\tfrac{-1}{2},Ω=\\tfrac{1}{2},J=\\tfrac{3}{2},F1=3,F=\\tfrac{5}{2},M=\\tfrac{1}{2}\\rangle$$-0.019961|Λ=-1,Σ=\\tfrac{1}{2},Ω=\\tfrac{-1}{2},J=\\tfrac{3}{2},F1=3,F=\\tfrac{5}{2},M=\\tfrac{1}{2}\\rangle$$+0.08723|Λ=1,Σ=\\tfrac{-1}{2},Ω=\\tfrac{1}{2},J=\\tfrac{3}{2},F1=3,F=\\tfrac{7}{2},M=\\tfrac{1}{2}\\rangle$$+0.08723|Λ=-1,Σ=\\tfrac{1}{2},Ω=\\tfrac{-1}{2},J=\\tfrac{3}{2},F1=3,F=\\tfrac{7}{2},M=\\tfrac{1}{2}\\rangle$$+0.001208|Λ=1,Σ=\\tfrac{-1}{2},Ω=\\tfrac{1}{2},J=\\tfrac{5}{2},F1=3,F=\\tfrac{5}{2},M=\\tfrac{1}{2}\\rangle$$-0.001208|Λ=-1,Σ=\\tfrac{1}{2},Ω=\\tfrac{-1}{2},J=\\tfrac{5}{2},F1=3,F=\\tfrac{5}{2},M=\\tfrac{1}{2}\\rangle$$-0.005277|Λ=1,Σ=\\tfrac{-1}{2},Ω=\\tfrac{1}{2},J=\\tfrac{5}{2},F1=3,F=\\tfrac{7}{2},M=\\tfrac{1}{2}\\rangle$$+0.005277|Λ=-1,Σ=\\tfrac{1}{2},Ω=\\tfrac{-1}{2},J=\\tfrac{5}{2},F1=3,F=\\tfrac{7}{2},M=\\tfrac{1}{2}\\rangle$"
                        ],
                        "text/plain": [
                            "<IPython.core.display.Latex object>"
                        ]
                    },
                    "metadata": {},
                    "output_type": "display_data"
                },
                {
                    "name": "stdout",
                    "output_type": "stream",
                    "text": [
                        "[ 4  5  6  7 16 17 18 19 34 35 36 37 54 55 56 57 76 77]\n"
                    ]
                },
                {
                    "data": {
                        "text/latex": [
                            "$ 0.156458|Λ=1,Σ=\\tfrac{-1}{2},Ω=\\tfrac{1}{2},J=\\tfrac{1}{2},F1=3,F=\\tfrac{5}{2},M=\\tfrac{1}{2}\\rangle$$-0.156458|Λ=-1,Σ=\\tfrac{1}{2},Ω=\\tfrac{-1}{2},J=\\tfrac{1}{2},F1=3,F=\\tfrac{5}{2},M=\\tfrac{1}{2}\\rangle$$-0.683728|Λ=1,Σ=\\tfrac{-1}{2},Ω=\\tfrac{1}{2},J=\\tfrac{1}{2},F1=3,F=\\tfrac{7}{2},M=\\tfrac{1}{2}\\rangle$$+0.683728|Λ=-1,Σ=\\tfrac{1}{2},Ω=\\tfrac{-1}{2},J=\\tfrac{1}{2},F1=3,F=\\tfrac{7}{2},M=\\tfrac{1}{2}\\rangle$$-0.019961|Λ=1,Σ=\\tfrac{-1}{2},Ω=\\tfrac{1}{2},J=\\tfrac{3}{2},F1=3,F=\\tfrac{5}{2},M=\\tfrac{1}{2}\\rangle$$-0.019961|Λ=-1,Σ=\\tfrac{1}{2},Ω=\\tfrac{-1}{2},J=\\tfrac{3}{2},F1=3,F=\\tfrac{5}{2},M=\\tfrac{1}{2}\\rangle$$+0.08723|Λ=1,Σ=\\tfrac{-1}{2},Ω=\\tfrac{1}{2},J=\\tfrac{3}{2},F1=3,F=\\tfrac{7}{2},M=\\tfrac{1}{2}\\rangle$$+0.08723|Λ=-1,Σ=\\tfrac{1}{2},Ω=\\tfrac{-1}{2},J=\\tfrac{3}{2},F1=3,F=\\tfrac{7}{2},M=\\tfrac{1}{2}\\rangle$$+0.001208|Λ=1,Σ=\\tfrac{-1}{2},Ω=\\tfrac{1}{2},J=\\tfrac{5}{2},F1=3,F=\\tfrac{5}{2},M=\\tfrac{1}{2}\\rangle$$-0.001208|Λ=-1,Σ=\\tfrac{1}{2},Ω=\\tfrac{-1}{2},J=\\tfrac{5}{2},F1=3,F=\\tfrac{5}{2},M=\\tfrac{1}{2}\\rangle$$-0.005277|Λ=1,Σ=\\tfrac{-1}{2},Ω=\\tfrac{1}{2},J=\\tfrac{5}{2},F1=3,F=\\tfrac{7}{2},M=\\tfrac{1}{2}\\rangle$$+0.005277|Λ=-1,Σ=\\tfrac{1}{2},Ω=\\tfrac{-1}{2},J=\\tfrac{5}{2},F1=3,F=\\tfrac{7}{2},M=\\tfrac{1}{2}\\rangle$"
                        ],
                        "text/plain": [
                            "<IPython.core.display.Latex object>"
                        ]
                    },
                    "metadata": {},
                    "output_type": "display_data"
                },
                {
                    "name": "stdout",
                    "output_type": "stream",
                    "text": [
                        "[ 4  5  6  7 16 17 18 19 34 35 36 37 54 55 56 57 76 77]\n"
                    ]
                },
                {
                    "data": {
                        "text/latex": [
                            "$ 0.156458|Λ=1,Σ=\\tfrac{-1}{2},Ω=\\tfrac{1}{2},J=\\tfrac{1}{2},F1=3,F=\\tfrac{5}{2},M=\\tfrac{1}{2}\\rangle$$-0.156458|Λ=-1,Σ=\\tfrac{1}{2},Ω=\\tfrac{-1}{2},J=\\tfrac{1}{2},F1=3,F=\\tfrac{5}{2},M=\\tfrac{1}{2}\\rangle$$-0.683728|Λ=1,Σ=\\tfrac{-1}{2},Ω=\\tfrac{1}{2},J=\\tfrac{1}{2},F1=3,F=\\tfrac{7}{2},M=\\tfrac{1}{2}\\rangle$$+0.683728|Λ=-1,Σ=\\tfrac{1}{2},Ω=\\tfrac{-1}{2},J=\\tfrac{1}{2},F1=3,F=\\tfrac{7}{2},M=\\tfrac{1}{2}\\rangle$$-0.019961|Λ=1,Σ=\\tfrac{-1}{2},Ω=\\tfrac{1}{2},J=\\tfrac{3}{2},F1=3,F=\\tfrac{5}{2},M=\\tfrac{1}{2}\\rangle$$-0.019961|Λ=-1,Σ=\\tfrac{1}{2},Ω=\\tfrac{-1}{2},J=\\tfrac{3}{2},F1=3,F=\\tfrac{5}{2},M=\\tfrac{1}{2}\\rangle$$+0.08723|Λ=1,Σ=\\tfrac{-1}{2},Ω=\\tfrac{1}{2},J=\\tfrac{3}{2},F1=3,F=\\tfrac{7}{2},M=\\tfrac{1}{2}\\rangle$$+0.08723|Λ=-1,Σ=\\tfrac{1}{2},Ω=\\tfrac{-1}{2},J=\\tfrac{3}{2},F1=3,F=\\tfrac{7}{2},M=\\tfrac{1}{2}\\rangle$$+0.001208|Λ=1,Σ=\\tfrac{-1}{2},Ω=\\tfrac{1}{2},J=\\tfrac{5}{2},F1=3,F=\\tfrac{5}{2},M=\\tfrac{1}{2}\\rangle$$-0.001208|Λ=-1,Σ=\\tfrac{1}{2},Ω=\\tfrac{-1}{2},J=\\tfrac{5}{2},F1=3,F=\\tfrac{5}{2},M=\\tfrac{1}{2}\\rangle$$-0.005277|Λ=1,Σ=\\tfrac{-1}{2},Ω=\\tfrac{1}{2},J=\\tfrac{5}{2},F1=3,F=\\tfrac{7}{2},M=\\tfrac{1}{2}\\rangle$$+0.005277|Λ=-1,Σ=\\tfrac{1}{2},Ω=\\tfrac{-1}{2},J=\\tfrac{5}{2},F1=3,F=\\tfrac{7}{2},M=\\tfrac{1}{2}\\rangle$"
                        ],
                        "text/plain": [
                            "<IPython.core.display.Latex object>"
                        ]
                    },
                    "metadata": {},
                    "output_type": "display_data"
                },
                {
                    "name": "stdout",
                    "output_type": "stream",
                    "text": [
                        "[ 4  5  6  7 16 17 18 19 34 35 36 37 54 55 56 57 76 77]\n"
                    ]
                },
                {
                    "data": {
                        "text/latex": [
                            "$ 0.156458|Λ=1,Σ=\\tfrac{-1}{2},Ω=\\tfrac{1}{2},J=\\tfrac{1}{2},F1=3,F=\\tfrac{5}{2},M=\\tfrac{1}{2}\\rangle$$-0.156458|Λ=-1,Σ=\\tfrac{1}{2},Ω=\\tfrac{-1}{2},J=\\tfrac{1}{2},F1=3,F=\\tfrac{5}{2},M=\\tfrac{1}{2}\\rangle$$-0.683728|Λ=1,Σ=\\tfrac{-1}{2},Ω=\\tfrac{1}{2},J=\\tfrac{1}{2},F1=3,F=\\tfrac{7}{2},M=\\tfrac{1}{2}\\rangle$$+0.683728|Λ=-1,Σ=\\tfrac{1}{2},Ω=\\tfrac{-1}{2},J=\\tfrac{1}{2},F1=3,F=\\tfrac{7}{2},M=\\tfrac{1}{2}\\rangle$$-0.019961|Λ=1,Σ=\\tfrac{-1}{2},Ω=\\tfrac{1}{2},J=\\tfrac{3}{2},F1=3,F=\\tfrac{5}{2},M=\\tfrac{1}{2}\\rangle$$-0.019961|Λ=-1,Σ=\\tfrac{1}{2},Ω=\\tfrac{-1}{2},J=\\tfrac{3}{2},F1=3,F=\\tfrac{5}{2},M=\\tfrac{1}{2}\\rangle$$+0.08723|Λ=1,Σ=\\tfrac{-1}{2},Ω=\\tfrac{1}{2},J=\\tfrac{3}{2},F1=3,F=\\tfrac{7}{2},M=\\tfrac{1}{2}\\rangle$$+0.08723|Λ=-1,Σ=\\tfrac{1}{2},Ω=\\tfrac{-1}{2},J=\\tfrac{3}{2},F1=3,F=\\tfrac{7}{2},M=\\tfrac{1}{2}\\rangle$$+0.001208|Λ=1,Σ=\\tfrac{-1}{2},Ω=\\tfrac{1}{2},J=\\tfrac{5}{2},F1=3,F=\\tfrac{5}{2},M=\\tfrac{1}{2}\\rangle$$-0.001208|Λ=-1,Σ=\\tfrac{1}{2},Ω=\\tfrac{-1}{2},J=\\tfrac{5}{2},F1=3,F=\\tfrac{5}{2},M=\\tfrac{1}{2}\\rangle$$-0.005277|Λ=1,Σ=\\tfrac{-1}{2},Ω=\\tfrac{1}{2},J=\\tfrac{5}{2},F1=3,F=\\tfrac{7}{2},M=\\tfrac{1}{2}\\rangle$$+0.005277|Λ=-1,Σ=\\tfrac{1}{2},Ω=\\tfrac{-1}{2},J=\\tfrac{5}{2},F1=3,F=\\tfrac{7}{2},M=\\tfrac{1}{2}\\rangle$"
                        ],
                        "text/plain": [
                            "<IPython.core.display.Latex object>"
                        ]
                    },
                    "metadata": {},
                    "output_type": "display_data"
                },
                {
                    "name": "stdout",
                    "output_type": "stream",
                    "text": [
                        "[ 4  5  6  7 16 17 18 19 34 35 36 37 54 55 56 57 76 77]\n"
                    ]
                },
                {
                    "data": {
                        "text/latex": [
                            "$ 0.156458|Λ=1,Σ=\\tfrac{-1}{2},Ω=\\tfrac{1}{2},J=\\tfrac{1}{2},F1=3,F=\\tfrac{5}{2},M=\\tfrac{1}{2}\\rangle$$-0.156458|Λ=-1,Σ=\\tfrac{1}{2},Ω=\\tfrac{-1}{2},J=\\tfrac{1}{2},F1=3,F=\\tfrac{5}{2},M=\\tfrac{1}{2}\\rangle$$-0.683728|Λ=1,Σ=\\tfrac{-1}{2},Ω=\\tfrac{1}{2},J=\\tfrac{1}{2},F1=3,F=\\tfrac{7}{2},M=\\tfrac{1}{2}\\rangle$$+0.683728|Λ=-1,Σ=\\tfrac{1}{2},Ω=\\tfrac{-1}{2},J=\\tfrac{1}{2},F1=3,F=\\tfrac{7}{2},M=\\tfrac{1}{2}\\rangle$$-0.019961|Λ=1,Σ=\\tfrac{-1}{2},Ω=\\tfrac{1}{2},J=\\tfrac{3}{2},F1=3,F=\\tfrac{5}{2},M=\\tfrac{1}{2}\\rangle$$-0.019961|Λ=-1,Σ=\\tfrac{1}{2},Ω=\\tfrac{-1}{2},J=\\tfrac{3}{2},F1=3,F=\\tfrac{5}{2},M=\\tfrac{1}{2}\\rangle$$+0.08723|Λ=1,Σ=\\tfrac{-1}{2},Ω=\\tfrac{1}{2},J=\\tfrac{3}{2},F1=3,F=\\tfrac{7}{2},M=\\tfrac{1}{2}\\rangle$$+0.08723|Λ=-1,Σ=\\tfrac{1}{2},Ω=\\tfrac{-1}{2},J=\\tfrac{3}{2},F1=3,F=\\tfrac{7}{2},M=\\tfrac{1}{2}\\rangle$$+0.001208|Λ=1,Σ=\\tfrac{-1}{2},Ω=\\tfrac{1}{2},J=\\tfrac{5}{2},F1=3,F=\\tfrac{5}{2},M=\\tfrac{1}{2}\\rangle$$-0.001208|Λ=-1,Σ=\\tfrac{1}{2},Ω=\\tfrac{-1}{2},J=\\tfrac{5}{2},F1=3,F=\\tfrac{5}{2},M=\\tfrac{1}{2}\\rangle$$-0.005277|Λ=1,Σ=\\tfrac{-1}{2},Ω=\\tfrac{1}{2},J=\\tfrac{5}{2},F1=3,F=\\tfrac{7}{2},M=\\tfrac{1}{2}\\rangle$$+0.005277|Λ=-1,Σ=\\tfrac{1}{2},Ω=\\tfrac{-1}{2},J=\\tfrac{5}{2},F1=3,F=\\tfrac{7}{2},M=\\tfrac{1}{2}\\rangle$"
                        ],
                        "text/plain": [
                            "<IPython.core.display.Latex object>"
                        ]
                    },
                    "metadata": {},
                    "output_type": "display_data"
                },
                {
                    "name": "stdout",
                    "output_type": "stream",
                    "text": [
                        "[ 4  5  6  7 16 17 18 19 34 35 36 37 54 55 56 57 76 77]\n"
                    ]
                },
                {
                    "data": {
                        "text/latex": [
                            "$ 0.156458|Λ=1,Σ=\\tfrac{-1}{2},Ω=\\tfrac{1}{2},J=\\tfrac{1}{2},F1=3,F=\\tfrac{5}{2},M=\\tfrac{1}{2}\\rangle$$-0.156458|Λ=-1,Σ=\\tfrac{1}{2},Ω=\\tfrac{-1}{2},J=\\tfrac{1}{2},F1=3,F=\\tfrac{5}{2},M=\\tfrac{1}{2}\\rangle$$-0.683728|Λ=1,Σ=\\tfrac{-1}{2},Ω=\\tfrac{1}{2},J=\\tfrac{1}{2},F1=3,F=\\tfrac{7}{2},M=\\tfrac{1}{2}\\rangle$$+0.683728|Λ=-1,Σ=\\tfrac{1}{2},Ω=\\tfrac{-1}{2},J=\\tfrac{1}{2},F1=3,F=\\tfrac{7}{2},M=\\tfrac{1}{2}\\rangle$$-0.019961|Λ=1,Σ=\\tfrac{-1}{2},Ω=\\tfrac{1}{2},J=\\tfrac{3}{2},F1=3,F=\\tfrac{5}{2},M=\\tfrac{1}{2}\\rangle$$-0.019961|Λ=-1,Σ=\\tfrac{1}{2},Ω=\\tfrac{-1}{2},J=\\tfrac{3}{2},F1=3,F=\\tfrac{5}{2},M=\\tfrac{1}{2}\\rangle$$+0.08723|Λ=1,Σ=\\tfrac{-1}{2},Ω=\\tfrac{1}{2},J=\\tfrac{3}{2},F1=3,F=\\tfrac{7}{2},M=\\tfrac{1}{2}\\rangle$$+0.08723|Λ=-1,Σ=\\tfrac{1}{2},Ω=\\tfrac{-1}{2},J=\\tfrac{3}{2},F1=3,F=\\tfrac{7}{2},M=\\tfrac{1}{2}\\rangle$$+0.001208|Λ=1,Σ=\\tfrac{-1}{2},Ω=\\tfrac{1}{2},J=\\tfrac{5}{2},F1=3,F=\\tfrac{5}{2},M=\\tfrac{1}{2}\\rangle$$-0.001208|Λ=-1,Σ=\\tfrac{1}{2},Ω=\\tfrac{-1}{2},J=\\tfrac{5}{2},F1=3,F=\\tfrac{5}{2},M=\\tfrac{1}{2}\\rangle$$-0.005277|Λ=1,Σ=\\tfrac{-1}{2},Ω=\\tfrac{1}{2},J=\\tfrac{5}{2},F1=3,F=\\tfrac{7}{2},M=\\tfrac{1}{2}\\rangle$$+0.005277|Λ=-1,Σ=\\tfrac{1}{2},Ω=\\tfrac{-1}{2},J=\\tfrac{5}{2},F1=3,F=\\tfrac{7}{2},M=\\tfrac{1}{2}\\rangle$"
                        ],
                        "text/plain": [
                            "<IPython.core.display.Latex object>"
                        ]
                    },
                    "metadata": {},
                    "output_type": "display_data"
                },
                {
                    "name": "stdout",
                    "output_type": "stream",
                    "text": [
                        "[ 4  5  6  7 16 17 18 19 34 35 36 37 54 55 56 57 76 77]\n"
                    ]
                },
                {
                    "data": {
                        "text/latex": [
                            "$ 0.156458|Λ=1,Σ=\\tfrac{-1}{2},Ω=\\tfrac{1}{2},J=\\tfrac{1}{2},F1=3,F=\\tfrac{5}{2},M=\\tfrac{1}{2}\\rangle$$-0.156458|Λ=-1,Σ=\\tfrac{1}{2},Ω=\\tfrac{-1}{2},J=\\tfrac{1}{2},F1=3,F=\\tfrac{5}{2},M=\\tfrac{1}{2}\\rangle$$-0.683728|Λ=1,Σ=\\tfrac{-1}{2},Ω=\\tfrac{1}{2},J=\\tfrac{1}{2},F1=3,F=\\tfrac{7}{2},M=\\tfrac{1}{2}\\rangle$$+0.683728|Λ=-1,Σ=\\tfrac{1}{2},Ω=\\tfrac{-1}{2},J=\\tfrac{1}{2},F1=3,F=\\tfrac{7}{2},M=\\tfrac{1}{2}\\rangle$$-0.019961|Λ=1,Σ=\\tfrac{-1}{2},Ω=\\tfrac{1}{2},J=\\tfrac{3}{2},F1=3,F=\\tfrac{5}{2},M=\\tfrac{1}{2}\\rangle$$-0.019961|Λ=-1,Σ=\\tfrac{1}{2},Ω=\\tfrac{-1}{2},J=\\tfrac{3}{2},F1=3,F=\\tfrac{5}{2},M=\\tfrac{1}{2}\\rangle$$+0.08723|Λ=1,Σ=\\tfrac{-1}{2},Ω=\\tfrac{1}{2},J=\\tfrac{3}{2},F1=3,F=\\tfrac{7}{2},M=\\tfrac{1}{2}\\rangle$$+0.08723|Λ=-1,Σ=\\tfrac{1}{2},Ω=\\tfrac{-1}{2},J=\\tfrac{3}{2},F1=3,F=\\tfrac{7}{2},M=\\tfrac{1}{2}\\rangle$$+0.001208|Λ=1,Σ=\\tfrac{-1}{2},Ω=\\tfrac{1}{2},J=\\tfrac{5}{2},F1=3,F=\\tfrac{5}{2},M=\\tfrac{1}{2}\\rangle$$-0.001208|Λ=-1,Σ=\\tfrac{1}{2},Ω=\\tfrac{-1}{2},J=\\tfrac{5}{2},F1=3,F=\\tfrac{5}{2},M=\\tfrac{1}{2}\\rangle$$-0.005277|Λ=1,Σ=\\tfrac{-1}{2},Ω=\\tfrac{1}{2},J=\\tfrac{5}{2},F1=3,F=\\tfrac{7}{2},M=\\tfrac{1}{2}\\rangle$$+0.005277|Λ=-1,Σ=\\tfrac{1}{2},Ω=\\tfrac{-1}{2},J=\\tfrac{5}{2},F1=3,F=\\tfrac{7}{2},M=\\tfrac{1}{2}\\rangle$"
                        ],
                        "text/plain": [
                            "<IPython.core.display.Latex object>"
                        ]
                    },
                    "metadata": {},
                    "output_type": "display_data"
                },
                {
                    "name": "stdout",
                    "output_type": "stream",
                    "text": [
                        "[ 4  5  6  7 16 17 18 19 34 35 36 37 54 55 56 57 76 77]\n"
                    ]
                },
                {
                    "data": {
                        "text/latex": [
                            "$ 0.156458|Λ=1,Σ=\\tfrac{-1}{2},Ω=\\tfrac{1}{2},J=\\tfrac{1}{2},F1=3,F=\\tfrac{5}{2},M=\\tfrac{1}{2}\\rangle$$-0.156458|Λ=-1,Σ=\\tfrac{1}{2},Ω=\\tfrac{-1}{2},J=\\tfrac{1}{2},F1=3,F=\\tfrac{5}{2},M=\\tfrac{1}{2}\\rangle$$-0.683728|Λ=1,Σ=\\tfrac{-1}{2},Ω=\\tfrac{1}{2},J=\\tfrac{1}{2},F1=3,F=\\tfrac{7}{2},M=\\tfrac{1}{2}\\rangle$$+0.683728|Λ=-1,Σ=\\tfrac{1}{2},Ω=\\tfrac{-1}{2},J=\\tfrac{1}{2},F1=3,F=\\tfrac{7}{2},M=\\tfrac{1}{2}\\rangle$$-0.019961|Λ=1,Σ=\\tfrac{-1}{2},Ω=\\tfrac{1}{2},J=\\tfrac{3}{2},F1=3,F=\\tfrac{5}{2},M=\\tfrac{1}{2}\\rangle$$-0.019961|Λ=-1,Σ=\\tfrac{1}{2},Ω=\\tfrac{-1}{2},J=\\tfrac{3}{2},F1=3,F=\\tfrac{5}{2},M=\\tfrac{1}{2}\\rangle$$+0.08723|Λ=1,Σ=\\tfrac{-1}{2},Ω=\\tfrac{1}{2},J=\\tfrac{3}{2},F1=3,F=\\tfrac{7}{2},M=\\tfrac{1}{2}\\rangle$$+0.08723|Λ=-1,Σ=\\tfrac{1}{2},Ω=\\tfrac{-1}{2},J=\\tfrac{3}{2},F1=3,F=\\tfrac{7}{2},M=\\tfrac{1}{2}\\rangle$$+0.001208|Λ=1,Σ=\\tfrac{-1}{2},Ω=\\tfrac{1}{2},J=\\tfrac{5}{2},F1=3,F=\\tfrac{5}{2},M=\\tfrac{1}{2}\\rangle$$-0.001208|Λ=-1,Σ=\\tfrac{1}{2},Ω=\\tfrac{-1}{2},J=\\tfrac{5}{2},F1=3,F=\\tfrac{5}{2},M=\\tfrac{1}{2}\\rangle$$-0.005277|Λ=1,Σ=\\tfrac{-1}{2},Ω=\\tfrac{1}{2},J=\\tfrac{5}{2},F1=3,F=\\tfrac{7}{2},M=\\tfrac{1}{2}\\rangle$$+0.005277|Λ=-1,Σ=\\tfrac{1}{2},Ω=\\tfrac{-1}{2},J=\\tfrac{5}{2},F1=3,F=\\tfrac{7}{2},M=\\tfrac{1}{2}\\rangle$"
                        ],
                        "text/plain": [
                            "<IPython.core.display.Latex object>"
                        ]
                    },
                    "metadata": {},
                    "output_type": "display_data"
                },
                {
                    "name": "stdout",
                    "output_type": "stream",
                    "text": [
                        "[ 4  5  6  7 16 17 18 19 34 35 36 37 54 55 56 57 76 77]\n"
                    ]
                },
                {
                    "data": {
                        "text/latex": [
                            "$ 0.156458|Λ=1,Σ=\\tfrac{-1}{2},Ω=\\tfrac{1}{2},J=\\tfrac{1}{2},F1=3,F=\\tfrac{5}{2},M=\\tfrac{1}{2}\\rangle$$-0.156458|Λ=-1,Σ=\\tfrac{1}{2},Ω=\\tfrac{-1}{2},J=\\tfrac{1}{2},F1=3,F=\\tfrac{5}{2},M=\\tfrac{1}{2}\\rangle$$-0.683728|Λ=1,Σ=\\tfrac{-1}{2},Ω=\\tfrac{1}{2},J=\\tfrac{1}{2},F1=3,F=\\tfrac{7}{2},M=\\tfrac{1}{2}\\rangle$$+0.683728|Λ=-1,Σ=\\tfrac{1}{2},Ω=\\tfrac{-1}{2},J=\\tfrac{1}{2},F1=3,F=\\tfrac{7}{2},M=\\tfrac{1}{2}\\rangle$$-0.019961|Λ=1,Σ=\\tfrac{-1}{2},Ω=\\tfrac{1}{2},J=\\tfrac{3}{2},F1=3,F=\\tfrac{5}{2},M=\\tfrac{1}{2}\\rangle$$-0.019961|Λ=-1,Σ=\\tfrac{1}{2},Ω=\\tfrac{-1}{2},J=\\tfrac{3}{2},F1=3,F=\\tfrac{5}{2},M=\\tfrac{1}{2}\\rangle$$+0.08723|Λ=1,Σ=\\tfrac{-1}{2},Ω=\\tfrac{1}{2},J=\\tfrac{3}{2},F1=3,F=\\tfrac{7}{2},M=\\tfrac{1}{2}\\rangle$$+0.08723|Λ=-1,Σ=\\tfrac{1}{2},Ω=\\tfrac{-1}{2},J=\\tfrac{3}{2},F1=3,F=\\tfrac{7}{2},M=\\tfrac{1}{2}\\rangle$$+0.001208|Λ=1,Σ=\\tfrac{-1}{2},Ω=\\tfrac{1}{2},J=\\tfrac{5}{2},F1=3,F=\\tfrac{5}{2},M=\\tfrac{1}{2}\\rangle$$-0.001208|Λ=-1,Σ=\\tfrac{1}{2},Ω=\\tfrac{-1}{2},J=\\tfrac{5}{2},F1=3,F=\\tfrac{5}{2},M=\\tfrac{1}{2}\\rangle$$-0.005277|Λ=1,Σ=\\tfrac{-1}{2},Ω=\\tfrac{1}{2},J=\\tfrac{5}{2},F1=3,F=\\tfrac{7}{2},M=\\tfrac{1}{2}\\rangle$$+0.005277|Λ=-1,Σ=\\tfrac{1}{2},Ω=\\tfrac{-1}{2},J=\\tfrac{5}{2},F1=3,F=\\tfrac{7}{2},M=\\tfrac{1}{2}\\rangle$"
                        ],
                        "text/plain": [
                            "<IPython.core.display.Latex object>"
                        ]
                    },
                    "metadata": {},
                    "output_type": "display_data"
                },
                {
                    "name": "stdout",
                    "output_type": "stream",
                    "text": [
                        "[ 4  5  6  7 16 17 18 19 34 35 36 37 54 55 56 57 76 77]\n"
                    ]
                },
                {
                    "data": {
                        "text/latex": [
                            "$ 0.156458|Λ=1,Σ=\\tfrac{-1}{2},Ω=\\tfrac{1}{2},J=\\tfrac{1}{2},F1=3,F=\\tfrac{5}{2},M=\\tfrac{1}{2}\\rangle$$-0.156458|Λ=-1,Σ=\\tfrac{1}{2},Ω=\\tfrac{-1}{2},J=\\tfrac{1}{2},F1=3,F=\\tfrac{5}{2},M=\\tfrac{1}{2}\\rangle$$-0.683728|Λ=1,Σ=\\tfrac{-1}{2},Ω=\\tfrac{1}{2},J=\\tfrac{1}{2},F1=3,F=\\tfrac{7}{2},M=\\tfrac{1}{2}\\rangle$$+0.683728|Λ=-1,Σ=\\tfrac{1}{2},Ω=\\tfrac{-1}{2},J=\\tfrac{1}{2},F1=3,F=\\tfrac{7}{2},M=\\tfrac{1}{2}\\rangle$$-0.019961|Λ=1,Σ=\\tfrac{-1}{2},Ω=\\tfrac{1}{2},J=\\tfrac{3}{2},F1=3,F=\\tfrac{5}{2},M=\\tfrac{1}{2}\\rangle$$-0.019961|Λ=-1,Σ=\\tfrac{1}{2},Ω=\\tfrac{-1}{2},J=\\tfrac{3}{2},F1=3,F=\\tfrac{5}{2},M=\\tfrac{1}{2}\\rangle$$+0.08723|Λ=1,Σ=\\tfrac{-1}{2},Ω=\\tfrac{1}{2},J=\\tfrac{3}{2},F1=3,F=\\tfrac{7}{2},M=\\tfrac{1}{2}\\rangle$$+0.08723|Λ=-1,Σ=\\tfrac{1}{2},Ω=\\tfrac{-1}{2},J=\\tfrac{3}{2},F1=3,F=\\tfrac{7}{2},M=\\tfrac{1}{2}\\rangle$$+0.001208|Λ=1,Σ=\\tfrac{-1}{2},Ω=\\tfrac{1}{2},J=\\tfrac{5}{2},F1=3,F=\\tfrac{5}{2},M=\\tfrac{1}{2}\\rangle$$-0.001208|Λ=-1,Σ=\\tfrac{1}{2},Ω=\\tfrac{-1}{2},J=\\tfrac{5}{2},F1=3,F=\\tfrac{5}{2},M=\\tfrac{1}{2}\\rangle$$-0.005277|Λ=1,Σ=\\tfrac{-1}{2},Ω=\\tfrac{1}{2},J=\\tfrac{5}{2},F1=3,F=\\tfrac{7}{2},M=\\tfrac{1}{2}\\rangle$$+0.005277|Λ=-1,Σ=\\tfrac{1}{2},Ω=\\tfrac{-1}{2},J=\\tfrac{5}{2},F1=3,F=\\tfrac{7}{2},M=\\tfrac{1}{2}\\rangle$"
                        ],
                        "text/plain": [
                            "<IPython.core.display.Latex object>"
                        ]
                    },
                    "metadata": {},
                    "output_type": "display_data"
                },
                {
                    "name": "stdout",
                    "output_type": "stream",
                    "text": [
                        "[ 4  5  6  7 16 17 18 19 34 35 36 37 54 55 56 57 76 77]\n"
                    ]
                },
                {
                    "data": {
                        "text/latex": [
                            "$ 0.156458|Λ=1,Σ=\\tfrac{-1}{2},Ω=\\tfrac{1}{2},J=\\tfrac{1}{2},F1=3,F=\\tfrac{5}{2},M=\\tfrac{1}{2}\\rangle$$-0.156458|Λ=-1,Σ=\\tfrac{1}{2},Ω=\\tfrac{-1}{2},J=\\tfrac{1}{2},F1=3,F=\\tfrac{5}{2},M=\\tfrac{1}{2}\\rangle$$-0.683728|Λ=1,Σ=\\tfrac{-1}{2},Ω=\\tfrac{1}{2},J=\\tfrac{1}{2},F1=3,F=\\tfrac{7}{2},M=\\tfrac{1}{2}\\rangle$$+0.683728|Λ=-1,Σ=\\tfrac{1}{2},Ω=\\tfrac{-1}{2},J=\\tfrac{1}{2},F1=3,F=\\tfrac{7}{2},M=\\tfrac{1}{2}\\rangle$$-0.019961|Λ=1,Σ=\\tfrac{-1}{2},Ω=\\tfrac{1}{2},J=\\tfrac{3}{2},F1=3,F=\\tfrac{5}{2},M=\\tfrac{1}{2}\\rangle$$-0.019961|Λ=-1,Σ=\\tfrac{1}{2},Ω=\\tfrac{-1}{2},J=\\tfrac{3}{2},F1=3,F=\\tfrac{5}{2},M=\\tfrac{1}{2}\\rangle$$+0.08723|Λ=1,Σ=\\tfrac{-1}{2},Ω=\\tfrac{1}{2},J=\\tfrac{3}{2},F1=3,F=\\tfrac{7}{2},M=\\tfrac{1}{2}\\rangle$$+0.08723|Λ=-1,Σ=\\tfrac{1}{2},Ω=\\tfrac{-1}{2},J=\\tfrac{3}{2},F1=3,F=\\tfrac{7}{2},M=\\tfrac{1}{2}\\rangle$$+0.001208|Λ=1,Σ=\\tfrac{-1}{2},Ω=\\tfrac{1}{2},J=\\tfrac{5}{2},F1=3,F=\\tfrac{5}{2},M=\\tfrac{1}{2}\\rangle$$-0.001208|Λ=-1,Σ=\\tfrac{1}{2},Ω=\\tfrac{-1}{2},J=\\tfrac{5}{2},F1=3,F=\\tfrac{5}{2},M=\\tfrac{1}{2}\\rangle$$-0.005277|Λ=1,Σ=\\tfrac{-1}{2},Ω=\\tfrac{1}{2},J=\\tfrac{5}{2},F1=3,F=\\tfrac{7}{2},M=\\tfrac{1}{2}\\rangle$$+0.005277|Λ=-1,Σ=\\tfrac{1}{2},Ω=\\tfrac{-1}{2},J=\\tfrac{5}{2},F1=3,F=\\tfrac{7}{2},M=\\tfrac{1}{2}\\rangle$"
                        ],
                        "text/plain": [
                            "<IPython.core.display.Latex object>"
                        ]
                    },
                    "metadata": {},
                    "output_type": "display_data"
                },
                {
                    "name": "stdout",
                    "output_type": "stream",
                    "text": [
                        "[ 4  5  6  7 16 17 18 19 34 35 36 37 54 55 56 57 76 77]\n"
                    ]
                },
                {
                    "data": {
                        "text/latex": [
                            "$ 0.156458|Λ=1,Σ=\\tfrac{-1}{2},Ω=\\tfrac{1}{2},J=\\tfrac{1}{2},F1=3,F=\\tfrac{5}{2},M=\\tfrac{1}{2}\\rangle$$-0.156458|Λ=-1,Σ=\\tfrac{1}{2},Ω=\\tfrac{-1}{2},J=\\tfrac{1}{2},F1=3,F=\\tfrac{5}{2},M=\\tfrac{1}{2}\\rangle$$-0.683728|Λ=1,Σ=\\tfrac{-1}{2},Ω=\\tfrac{1}{2},J=\\tfrac{1}{2},F1=3,F=\\tfrac{7}{2},M=\\tfrac{1}{2}\\rangle$$+0.683728|Λ=-1,Σ=\\tfrac{1}{2},Ω=\\tfrac{-1}{2},J=\\tfrac{1}{2},F1=3,F=\\tfrac{7}{2},M=\\tfrac{1}{2}\\rangle$$-0.019961|Λ=1,Σ=\\tfrac{-1}{2},Ω=\\tfrac{1}{2},J=\\tfrac{3}{2},F1=3,F=\\tfrac{5}{2},M=\\tfrac{1}{2}\\rangle$$-0.019961|Λ=-1,Σ=\\tfrac{1}{2},Ω=\\tfrac{-1}{2},J=\\tfrac{3}{2},F1=3,F=\\tfrac{5}{2},M=\\tfrac{1}{2}\\rangle$$+0.08723|Λ=1,Σ=\\tfrac{-1}{2},Ω=\\tfrac{1}{2},J=\\tfrac{3}{2},F1=3,F=\\tfrac{7}{2},M=\\tfrac{1}{2}\\rangle$$+0.08723|Λ=-1,Σ=\\tfrac{1}{2},Ω=\\tfrac{-1}{2},J=\\tfrac{3}{2},F1=3,F=\\tfrac{7}{2},M=\\tfrac{1}{2}\\rangle$$+0.001208|Λ=1,Σ=\\tfrac{-1}{2},Ω=\\tfrac{1}{2},J=\\tfrac{5}{2},F1=3,F=\\tfrac{5}{2},M=\\tfrac{1}{2}\\rangle$$-0.001208|Λ=-1,Σ=\\tfrac{1}{2},Ω=\\tfrac{-1}{2},J=\\tfrac{5}{2},F1=3,F=\\tfrac{5}{2},M=\\tfrac{1}{2}\\rangle$$-0.005277|Λ=1,Σ=\\tfrac{-1}{2},Ω=\\tfrac{1}{2},J=\\tfrac{5}{2},F1=3,F=\\tfrac{7}{2},M=\\tfrac{1}{2}\\rangle$$+0.005277|Λ=-1,Σ=\\tfrac{1}{2},Ω=\\tfrac{-1}{2},J=\\tfrac{5}{2},F1=3,F=\\tfrac{7}{2},M=\\tfrac{1}{2}\\rangle$"
                        ],
                        "text/plain": [
                            "<IPython.core.display.Latex object>"
                        ]
                    },
                    "metadata": {},
                    "output_type": "display_data"
                },
                {
                    "name": "stdout",
                    "output_type": "stream",
                    "text": [
                        "[ 4  5  6  7 16 17 18 19 34 35 36 37 54 55 56 57 76 77]\n"
                    ]
                },
                {
                    "data": {
                        "text/latex": [
                            "$ 0.156458|Λ=1,Σ=\\tfrac{-1}{2},Ω=\\tfrac{1}{2},J=\\tfrac{1}{2},F1=3,F=\\tfrac{5}{2},M=\\tfrac{1}{2}\\rangle$$-0.156458|Λ=-1,Σ=\\tfrac{1}{2},Ω=\\tfrac{-1}{2},J=\\tfrac{1}{2},F1=3,F=\\tfrac{5}{2},M=\\tfrac{1}{2}\\rangle$$-0.683728|Λ=1,Σ=\\tfrac{-1}{2},Ω=\\tfrac{1}{2},J=\\tfrac{1}{2},F1=3,F=\\tfrac{7}{2},M=\\tfrac{1}{2}\\rangle$$+0.683728|Λ=-1,Σ=\\tfrac{1}{2},Ω=\\tfrac{-1}{2},J=\\tfrac{1}{2},F1=3,F=\\tfrac{7}{2},M=\\tfrac{1}{2}\\rangle$$-0.019961|Λ=1,Σ=\\tfrac{-1}{2},Ω=\\tfrac{1}{2},J=\\tfrac{3}{2},F1=3,F=\\tfrac{5}{2},M=\\tfrac{1}{2}\\rangle$$-0.019961|Λ=-1,Σ=\\tfrac{1}{2},Ω=\\tfrac{-1}{2},J=\\tfrac{3}{2},F1=3,F=\\tfrac{5}{2},M=\\tfrac{1}{2}\\rangle$$+0.08723|Λ=1,Σ=\\tfrac{-1}{2},Ω=\\tfrac{1}{2},J=\\tfrac{3}{2},F1=3,F=\\tfrac{7}{2},M=\\tfrac{1}{2}\\rangle$$+0.08723|Λ=-1,Σ=\\tfrac{1}{2},Ω=\\tfrac{-1}{2},J=\\tfrac{3}{2},F1=3,F=\\tfrac{7}{2},M=\\tfrac{1}{2}\\rangle$$+0.001208|Λ=1,Σ=\\tfrac{-1}{2},Ω=\\tfrac{1}{2},J=\\tfrac{5}{2},F1=3,F=\\tfrac{5}{2},M=\\tfrac{1}{2}\\rangle$$-0.001208|Λ=-1,Σ=\\tfrac{1}{2},Ω=\\tfrac{-1}{2},J=\\tfrac{5}{2},F1=3,F=\\tfrac{5}{2},M=\\tfrac{1}{2}\\rangle$$-0.005277|Λ=1,Σ=\\tfrac{-1}{2},Ω=\\tfrac{1}{2},J=\\tfrac{5}{2},F1=3,F=\\tfrac{7}{2},M=\\tfrac{1}{2}\\rangle$$+0.005277|Λ=-1,Σ=\\tfrac{1}{2},Ω=\\tfrac{-1}{2},J=\\tfrac{5}{2},F1=3,F=\\tfrac{7}{2},M=\\tfrac{1}{2}\\rangle$"
                        ],
                        "text/plain": [
                            "<IPython.core.display.Latex object>"
                        ]
                    },
                    "metadata": {},
                    "output_type": "display_data"
                },
                {
                    "name": "stdout",
                    "output_type": "stream",
                    "text": [
                        "[ 4  5  6  7 16 17 18 19 34 35 36 37 54 55 56 57 76 77]\n"
                    ]
                },
                {
                    "data": {
                        "text/latex": [
                            "$ 0.156458|Λ=1,Σ=\\tfrac{-1}{2},Ω=\\tfrac{1}{2},J=\\tfrac{1}{2},F1=3,F=\\tfrac{5}{2},M=\\tfrac{1}{2}\\rangle$$-0.156458|Λ=-1,Σ=\\tfrac{1}{2},Ω=\\tfrac{-1}{2},J=\\tfrac{1}{2},F1=3,F=\\tfrac{5}{2},M=\\tfrac{1}{2}\\rangle$$-0.683728|Λ=1,Σ=\\tfrac{-1}{2},Ω=\\tfrac{1}{2},J=\\tfrac{1}{2},F1=3,F=\\tfrac{7}{2},M=\\tfrac{1}{2}\\rangle$$+0.683728|Λ=-1,Σ=\\tfrac{1}{2},Ω=\\tfrac{-1}{2},J=\\tfrac{1}{2},F1=3,F=\\tfrac{7}{2},M=\\tfrac{1}{2}\\rangle$$-0.019961|Λ=1,Σ=\\tfrac{-1}{2},Ω=\\tfrac{1}{2},J=\\tfrac{3}{2},F1=3,F=\\tfrac{5}{2},M=\\tfrac{1}{2}\\rangle$$-0.019961|Λ=-1,Σ=\\tfrac{1}{2},Ω=\\tfrac{-1}{2},J=\\tfrac{3}{2},F1=3,F=\\tfrac{5}{2},M=\\tfrac{1}{2}\\rangle$$+0.08723|Λ=1,Σ=\\tfrac{-1}{2},Ω=\\tfrac{1}{2},J=\\tfrac{3}{2},F1=3,F=\\tfrac{7}{2},M=\\tfrac{1}{2}\\rangle$$+0.08723|Λ=-1,Σ=\\tfrac{1}{2},Ω=\\tfrac{-1}{2},J=\\tfrac{3}{2},F1=3,F=\\tfrac{7}{2},M=\\tfrac{1}{2}\\rangle$$+0.001208|Λ=1,Σ=\\tfrac{-1}{2},Ω=\\tfrac{1}{2},J=\\tfrac{5}{2},F1=3,F=\\tfrac{5}{2},M=\\tfrac{1}{2}\\rangle$$-0.001208|Λ=-1,Σ=\\tfrac{1}{2},Ω=\\tfrac{-1}{2},J=\\tfrac{5}{2},F1=3,F=\\tfrac{5}{2},M=\\tfrac{1}{2}\\rangle$$-0.005277|Λ=1,Σ=\\tfrac{-1}{2},Ω=\\tfrac{1}{2},J=\\tfrac{5}{2},F1=3,F=\\tfrac{7}{2},M=\\tfrac{1}{2}\\rangle$$+0.005277|Λ=-1,Σ=\\tfrac{1}{2},Ω=\\tfrac{-1}{2},J=\\tfrac{5}{2},F1=3,F=\\tfrac{7}{2},M=\\tfrac{1}{2}\\rangle$"
                        ],
                        "text/plain": [
                            "<IPython.core.display.Latex object>"
                        ]
                    },
                    "metadata": {},
                    "output_type": "display_data"
                },
                {
                    "name": "stdout",
                    "output_type": "stream",
                    "text": [
                        "[ 4  5  6  7 16 17 18 19 34 35 36 37 54 55 56 57 76 77]\n"
                    ]
                },
                {
                    "data": {
                        "text/latex": [
                            "$ 0.156458|Λ=1,Σ=\\tfrac{-1}{2},Ω=\\tfrac{1}{2},J=\\tfrac{1}{2},F1=3,F=\\tfrac{5}{2},M=\\tfrac{1}{2}\\rangle$$-0.156458|Λ=-1,Σ=\\tfrac{1}{2},Ω=\\tfrac{-1}{2},J=\\tfrac{1}{2},F1=3,F=\\tfrac{5}{2},M=\\tfrac{1}{2}\\rangle$$-0.683728|Λ=1,Σ=\\tfrac{-1}{2},Ω=\\tfrac{1}{2},J=\\tfrac{1}{2},F1=3,F=\\tfrac{7}{2},M=\\tfrac{1}{2}\\rangle$$+0.683728|Λ=-1,Σ=\\tfrac{1}{2},Ω=\\tfrac{-1}{2},J=\\tfrac{1}{2},F1=3,F=\\tfrac{7}{2},M=\\tfrac{1}{2}\\rangle$$-0.019961|Λ=1,Σ=\\tfrac{-1}{2},Ω=\\tfrac{1}{2},J=\\tfrac{3}{2},F1=3,F=\\tfrac{5}{2},M=\\tfrac{1}{2}\\rangle$$-0.019961|Λ=-1,Σ=\\tfrac{1}{2},Ω=\\tfrac{-1}{2},J=\\tfrac{3}{2},F1=3,F=\\tfrac{5}{2},M=\\tfrac{1}{2}\\rangle$$+0.08723|Λ=1,Σ=\\tfrac{-1}{2},Ω=\\tfrac{1}{2},J=\\tfrac{3}{2},F1=3,F=\\tfrac{7}{2},M=\\tfrac{1}{2}\\rangle$$+0.08723|Λ=-1,Σ=\\tfrac{1}{2},Ω=\\tfrac{-1}{2},J=\\tfrac{3}{2},F1=3,F=\\tfrac{7}{2},M=\\tfrac{1}{2}\\rangle$$+0.001208|Λ=1,Σ=\\tfrac{-1}{2},Ω=\\tfrac{1}{2},J=\\tfrac{5}{2},F1=3,F=\\tfrac{5}{2},M=\\tfrac{1}{2}\\rangle$$-0.001208|Λ=-1,Σ=\\tfrac{1}{2},Ω=\\tfrac{-1}{2},J=\\tfrac{5}{2},F1=3,F=\\tfrac{5}{2},M=\\tfrac{1}{2}\\rangle$$-0.005277|Λ=1,Σ=\\tfrac{-1}{2},Ω=\\tfrac{1}{2},J=\\tfrac{5}{2},F1=3,F=\\tfrac{7}{2},M=\\tfrac{1}{2}\\rangle$$+0.005277|Λ=-1,Σ=\\tfrac{1}{2},Ω=\\tfrac{-1}{2},J=\\tfrac{5}{2},F1=3,F=\\tfrac{7}{2},M=\\tfrac{1}{2}\\rangle$"
                        ],
                        "text/plain": [
                            "<IPython.core.display.Latex object>"
                        ]
                    },
                    "metadata": {},
                    "output_type": "display_data"
                },
                {
                    "name": "stdout",
                    "output_type": "stream",
                    "text": [
                        "[ 4  5  6  7 16 17 18 19 34 35 36 37 54 55 56 57 76 77]\n"
                    ]
                },
                {
                    "data": {
                        "text/latex": [
                            "$ 0.156458|Λ=1,Σ=\\tfrac{-1}{2},Ω=\\tfrac{1}{2},J=\\tfrac{1}{2},F1=3,F=\\tfrac{5}{2},M=\\tfrac{1}{2}\\rangle$$-0.156458|Λ=-1,Σ=\\tfrac{1}{2},Ω=\\tfrac{-1}{2},J=\\tfrac{1}{2},F1=3,F=\\tfrac{5}{2},M=\\tfrac{1}{2}\\rangle$$-0.683728|Λ=1,Σ=\\tfrac{-1}{2},Ω=\\tfrac{1}{2},J=\\tfrac{1}{2},F1=3,F=\\tfrac{7}{2},M=\\tfrac{1}{2}\\rangle$$+0.683728|Λ=-1,Σ=\\tfrac{1}{2},Ω=\\tfrac{-1}{2},J=\\tfrac{1}{2},F1=3,F=\\tfrac{7}{2},M=\\tfrac{1}{2}\\rangle$$-0.019961|Λ=1,Σ=\\tfrac{-1}{2},Ω=\\tfrac{1}{2},J=\\tfrac{3}{2},F1=3,F=\\tfrac{5}{2},M=\\tfrac{1}{2}\\rangle$$-0.019961|Λ=-1,Σ=\\tfrac{1}{2},Ω=\\tfrac{-1}{2},J=\\tfrac{3}{2},F1=3,F=\\tfrac{5}{2},M=\\tfrac{1}{2}\\rangle$$+0.08723|Λ=1,Σ=\\tfrac{-1}{2},Ω=\\tfrac{1}{2},J=\\tfrac{3}{2},F1=3,F=\\tfrac{7}{2},M=\\tfrac{1}{2}\\rangle$$+0.08723|Λ=-1,Σ=\\tfrac{1}{2},Ω=\\tfrac{-1}{2},J=\\tfrac{3}{2},F1=3,F=\\tfrac{7}{2},M=\\tfrac{1}{2}\\rangle$$+0.001208|Λ=1,Σ=\\tfrac{-1}{2},Ω=\\tfrac{1}{2},J=\\tfrac{5}{2},F1=3,F=\\tfrac{5}{2},M=\\tfrac{1}{2}\\rangle$$-0.001208|Λ=-1,Σ=\\tfrac{1}{2},Ω=\\tfrac{-1}{2},J=\\tfrac{5}{2},F1=3,F=\\tfrac{5}{2},M=\\tfrac{1}{2}\\rangle$$-0.005277|Λ=1,Σ=\\tfrac{-1}{2},Ω=\\tfrac{1}{2},J=\\tfrac{5}{2},F1=3,F=\\tfrac{7}{2},M=\\tfrac{1}{2}\\rangle$$+0.005277|Λ=-1,Σ=\\tfrac{1}{2},Ω=\\tfrac{-1}{2},J=\\tfrac{5}{2},F1=3,F=\\tfrac{7}{2},M=\\tfrac{1}{2}\\rangle$"
                        ],
                        "text/plain": [
                            "<IPython.core.display.Latex object>"
                        ]
                    },
                    "metadata": {},
                    "output_type": "display_data"
                },
                {
                    "name": "stdout",
                    "output_type": "stream",
                    "text": [
                        "[ 4  5  6  7 16 17 18 19 34 35 36 37 54 55 56 57 76 77]\n"
                    ]
                },
                {
                    "data": {
                        "text/latex": [
                            "$ 0.156458|Λ=1,Σ=\\tfrac{-1}{2},Ω=\\tfrac{1}{2},J=\\tfrac{1}{2},F1=3,F=\\tfrac{5}{2},M=\\tfrac{1}{2}\\rangle$$-0.156458|Λ=-1,Σ=\\tfrac{1}{2},Ω=\\tfrac{-1}{2},J=\\tfrac{1}{2},F1=3,F=\\tfrac{5}{2},M=\\tfrac{1}{2}\\rangle$$-0.683728|Λ=1,Σ=\\tfrac{-1}{2},Ω=\\tfrac{1}{2},J=\\tfrac{1}{2},F1=3,F=\\tfrac{7}{2},M=\\tfrac{1}{2}\\rangle$$+0.683728|Λ=-1,Σ=\\tfrac{1}{2},Ω=\\tfrac{-1}{2},J=\\tfrac{1}{2},F1=3,F=\\tfrac{7}{2},M=\\tfrac{1}{2}\\rangle$$-0.019961|Λ=1,Σ=\\tfrac{-1}{2},Ω=\\tfrac{1}{2},J=\\tfrac{3}{2},F1=3,F=\\tfrac{5}{2},M=\\tfrac{1}{2}\\rangle$$-0.019961|Λ=-1,Σ=\\tfrac{1}{2},Ω=\\tfrac{-1}{2},J=\\tfrac{3}{2},F1=3,F=\\tfrac{5}{2},M=\\tfrac{1}{2}\\rangle$$+0.08723|Λ=1,Σ=\\tfrac{-1}{2},Ω=\\tfrac{1}{2},J=\\tfrac{3}{2},F1=3,F=\\tfrac{7}{2},M=\\tfrac{1}{2}\\rangle$$+0.08723|Λ=-1,Σ=\\tfrac{1}{2},Ω=\\tfrac{-1}{2},J=\\tfrac{3}{2},F1=3,F=\\tfrac{7}{2},M=\\tfrac{1}{2}\\rangle$$+0.001208|Λ=1,Σ=\\tfrac{-1}{2},Ω=\\tfrac{1}{2},J=\\tfrac{5}{2},F1=3,F=\\tfrac{5}{2},M=\\tfrac{1}{2}\\rangle$$-0.001208|Λ=-1,Σ=\\tfrac{1}{2},Ω=\\tfrac{-1}{2},J=\\tfrac{5}{2},F1=3,F=\\tfrac{5}{2},M=\\tfrac{1}{2}\\rangle$$-0.005277|Λ=1,Σ=\\tfrac{-1}{2},Ω=\\tfrac{1}{2},J=\\tfrac{5}{2},F1=3,F=\\tfrac{7}{2},M=\\tfrac{1}{2}\\rangle$$+0.005277|Λ=-1,Σ=\\tfrac{1}{2},Ω=\\tfrac{-1}{2},J=\\tfrac{5}{2},F1=3,F=\\tfrac{7}{2},M=\\tfrac{1}{2}\\rangle$"
                        ],
                        "text/plain": [
                            "<IPython.core.display.Latex object>"
                        ]
                    },
                    "metadata": {},
                    "output_type": "display_data"
                }
            ],
            "source": [
                "for i in J_idx:\n",
                "    display(Latex(A000_173.gen_state_str(0,basis=None,label_q=None,thresh=0.0001,show_coeff=True,new_line=False,round=None)))"
            ]
        },
        {
            "cell_type": "code",
            "execution_count": null,
            "metadata": {},
            "outputs": [],
            "source": []
        },
        {
            "cell_type": "code",
            "execution_count": null,
            "metadata": {},
            "outputs": [],
            "source": []
        },
        {
            "cell_type": "code",
            "execution_count": null,
            "metadata": {},
            "outputs": [],
            "source": []
        },
        {
            "cell_type": "code",
            "execution_count": 23,
            "metadata": {},
            "outputs": [
                {
                    "data": {
                        "image/png": "[encoded data removed]",
                        "text/plain": [
                            "<Figure size 720x720 with 1 Axes>"
                        ]
                    },
                    "metadata": {
                        "needs_background": "light"
                    },
                    "output_type": "display_data"
                }
            ],
            "source": [
                "X000_173.display_levels(0,0,'G',idx=N_idx)"
            ]
        },
        {
            "cell_type": "code",
            "execution_count": null,
            "metadata": {},
            "outputs": [],
            "source": []
        }
    ],
    "metadata": {
        "kernelspec": {
            "display_name": "Python 3",
            "language": "python",
            "name": "python3"
        },
        "language_info": {
            "codemirror_mode": {
                "name": "ipython",
                "version": 3
            },
            "file_extension": ".py",
            "mimetype": "text/x-python",
            "name": "python",
            "nbconvert_exporter": "python",
            "pygments_lexer": "ipython3",
            "version": "3.7.4"
        }
    },
    "nbformat": 4,
    "nbformat_minor": 2
}
