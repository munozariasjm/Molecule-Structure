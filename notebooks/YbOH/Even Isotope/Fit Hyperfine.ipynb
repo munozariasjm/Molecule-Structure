{
    "cells": [
        {
            "cell_type": "code",
            "execution_count": 90,
            "id": "3ad7419e",
            "metadata": {},
            "outputs": [],
            "source": [
                "from config_path import add_to_sys_path\n",
                "add_to_sys_path()  # Call the function to add path\n",
                "\n",
                "import numpy as np\n",
                "from sympy.physics.wigner import wigner_3j,wigner_6j\n",
                "import sympy as sy\n",
                "from numpy import linalg as LA\n",
                "from IPython.display import Latex,display\n",
                "import matplotlib.pyplot as plt\n",
                "from matplotlib import colors\n",
                "%matplotlib inline\n",
                "import seaborn as sns\n",
                "import ujson as uj\n",
                "sns.set()\n",
                "sns.set_palette('bright')\n",
                "from energy_levels import MoleculeLevels\n",
                "from energy_levels import branching_ratios, calculate_TDMs,calculate_TDM_evecs, calculate_forbidden_TDM_evecs, calculate_forbidden_TDMs\n",
                "from functools import partial\n",
                "np.set_printoptions(precision=9, suppress=True)\n",
                "# from tabulate import tabulate\n",
                "from matplotlib.collections import LineCollection"
            ]
        },
        {
            "cell_type": "code",
            "execution_count": 91,
            "id": "72b4a881",
            "metadata": {},
            "outputs": [],
            "source": [
                "def plotFitComparison(xscale,data,function,params,sigma,xlabel=None,ylabel=None):\n",
                "    plt.figure()\n",
                "    plt.title('Fit vs Data')\n",
                "    if sigma is None:\n",
                "        plt.plot(xscale,data,label='Data',marker='o')\n",
                "    else:\n",
                "        plt.errorbar(xscale,data,yerr=sigma,label='Data',marker='o',linestyle='None')\n",
                "    plt.plot(xscale,function(xscale,*params),label='Fit')\n",
                "    return\n",
                "\n",
                "def plotFitResiduals(xscale,residuals,sigma):\n",
                "    plt.figure()\n",
                "    plt.title('Fit Residuals')\n",
                "    if sigma is None:\n",
                "        plt.plot(xscale,residuals,'o',linestyle='None')\n",
                "    else:\n",
                "        plt.errorbar(xscale,residuals,yerr=sigma,marker='o',linestyle='None')\n",
                "    plt.plot(xscale,np.zeros(len(xscale)),linestyle='--')\n",
                "    return\n",
                "\n",
                "from lmfit import minimize, Parameters\n",
                "import time\n",
                "\n",
                "def hyperfine_residual(params,data_lines,data_error,update_params,no_uncert=False):\n",
                "    X_update = {}\n",
                "    for p_str in update_params:\n",
                "        if '_X' in p_str:\n",
                "            p_name = p_str[:-2]\n",
                "            X_update[p_name] = params[p_str].value\n",
                "    if X_update != {}:\n",
                "        g.update_params(X_update)\n",
                "        e.update_params(X_update)\n",
                "    E=0\n",
                "    B=0\n",
                "    g.eigensystem(E,B)\n",
                "    e.eigensystem(E,B)\n",
                "        \n",
                "    pos_predicted = []\n",
                "    neg_predicted = []\n",
                "    pos_predicted.append(e.evals0[e.select_q({'N':[1],'J':[1/2],'F':1},parity='+')] - g.evals0[g.select_q({'N':[1],'J':[3/2],'F':2},parity='+')])\n",
                "    pos_predicted.append(e.evals0[e.select_q({'N':[1],'J':[1/2],'F':0},parity='+')] - g.evals0[g.select_q({'N':[1],'J':[3/2],'F':2},parity='+')])\n",
                "    pos_predicted.append(e.evals0[e.select_q({'N':[1],'J':[1/2],'F':1},parity='+')] - g.evals0[g.select_q({'N':[1],'J':[3/2],'F':1},parity='+')])\n",
                "    pos_predicted.append(e.evals0[e.select_q({'N':[1],'J':[1/2],'F':0},parity='+')] - g.evals0[g.select_q({'N':[1],'J':[3/2],'F':1},parity='+')])\n",
                "\n",
                "    neg_predicted.append(e.evals0[e.select_q({'N':[1],'J':[1/2],'F':1},parity='-')] - g.evals0[g.select_q({'N':[1],'J':[3/2],'F':2},parity='-')])\n",
                "    neg_predicted.append(e.evals0[e.select_q({'N':[1],'J':[1/2],'F':0},parity='-')] - g.evals0[g.select_q({'N':[1],'J':[3/2],'F':2},parity='-')])\n",
                "    neg_predicted.append(e.evals0[e.select_q({'N':[1],'J':[1/2],'F':1},parity='-')] - g.evals0[g.select_q({'N':[1],'J':[3/2],'F':1},parity='-')])\n",
                "    neg_predicted.append(e.evals0[e.select_q({'N':[1],'J':[1/2],'F':0},parity='-')] - g.evals0[g.select_q({'N':[1],'J':[3/2],'F':1},parity='-')])\n",
                "\n",
                "    total_predicted = np.concatenate((pos_predicted,neg_predicted))[:,0]\n",
                "    \n",
                "    data_uncertainty = data_error\n",
                "    if no_uncert:\n",
                "            data_uncertainty=1\n",
                "    total_diff=(data_lines - total_predicted)/data_uncertainty\n",
                "    return total_diff"
            ]
        },
        {
            "cell_type": "code",
            "execution_count": 108,
            "id": "ef4d28d2",
            "metadata": {},
            "outputs": [],
            "source": [
                "pos_fit_freq = np.array([60.4167975, 62.398224,  63.287247,  65.395268]).round(3)\n",
                "pos_fit_err = np.array([0.06275193, 0.04143503, 0.05571958, 0.03731296]).round(3)\n",
                "pos_fit_err = np.sqrt(pos_fit_err**2 +0.06**2).round(3)"
            ]
        },
        {
            "cell_type": "code",
            "execution_count": 119,
            "id": "910cdd5b",
            "metadata": {},
            "outputs": [],
            "source": [
                "neg_fit_freq = np.array([43.48121, 45.5, 46.29460333, 48.498919]).round(3)\n",
                "# neg_fit_err = np.array([0.08164678, 0.12806248, 0.09131569, 0.09809826]).round(3)\n",
                "neg_fit_err = np.array([0.01631553, 0.1,        0.04402902, 0.05677385]).round(3)\n",
                "neg_fit_err = np.sqrt(neg_fit_err**2 + 0.12**2).round(3)"
            ]
        },
        {
            "cell_type": "code",
            "execution_count": 120,
            "id": "caff7fbc",
            "metadata": {},
            "outputs": [],
            "source": [
                "total_fit_freq = np.concatenate((pos_fit_freq,neg_fit_freq))\n",
                "total_fit_err = np.concatenate((pos_fit_err,neg_fit_err))"
            ]
        },
        {
            "cell_type": "code",
            "execution_count": 121,
            "id": "2cfc530b",
            "metadata": {},
            "outputs": [],
            "source": [
                "g = MoleculeLevels.initialize_state('YbOH','174','X010',[1],M_values = 'custom',M_range=[0],I=[0,1/2],S=1/2,round=8,P_values=[1/2,3/2])\n",
                "e = g\n",
                "g.eigensystem(0,0)\n",
                "e.eigensystem(0,0)\n",
                "gidx = g.select_q({'N':[1],'J':[3/2]})\n",
                "eidx = e.select_q({'N':[1],'J':[1/2]})"
            ]
        },
        {
            "cell_type": "code",
            "execution_count": null,
            "id": "93e22c32",
            "metadata": {},
            "outputs": [],
            "source": []
        },
        {
            "cell_type": "code",
            "execution_count": 122,
            "id": "e93fc273",
            "metadata": {},
            "outputs": [
                {
                    "data": {
                        "text/plain": [
                            "Text(0.5, 1.0, 'Prior stdev = 0.42903036893787655')"
                        ]
                    },
                    "execution_count": 122,
                    "metadata": {},
                    "output_type": "execute_result"
                },
                {
                    "data": {
                        "image/png": "[encoded data removed]",
                        "text/plain": [
                            "<Figure size 432x288 with 1 Axes>"
                        ]
                    },
                    "metadata": {},
                    "output_type": "display_data"
                }
            ],
            "source": [
                "# dataset = All_StarkZeeman_Data['20220526']\n",
                "params = Parameters()\n",
                "params.add('Gamma_SR_X',value=-88.660,min=-90,max=-86,vary=False)\n",
                "params.add('Gamma_Prime_X',value=15.61,min=-30,max=30,vary=True)\n",
                "params.add('q_lD_X',value=-12.03,min=-14,max=-10,vary=False)\n",
                "params.add('p_lD_X',value=-10.73,min=-14,max=-6,vary=True)\n",
                "params.add('bF_X',value=3.97,min=-10,max=10,vary=True)\n",
                "params.add('c_X',value=3.78,min=-10,max=10,vary=True)\n",
                "update_params = ['bF_X','c_X','Gamma_SR_X','Gamma_Prime_X','q_lD_X','p_lD_X']\n",
                "\n",
                "initial_resid = hyperfine_residual(params,total_fit_freq,total_fit_err,update_params,no_uncert=True)\n",
                "plt.figure()\n",
                "plt.plot(initial_resid, 'bo')\n",
                "plt.axhline(y=0)\n",
                "plt.title('Prior stdev = '+ str(initial_resid.std()))"
            ]
        },
        {
            "cell_type": "code",
            "execution_count": 123,
            "id": "1c0556a4",
            "metadata": {},
            "outputs": [
                {
                    "name": "stdout",
                    "output_type": "stream",
                    "text": [
                        "Name              Value      Min      Max   Stderr     Vary     Expr Brute_Step\n",
                        "Gamma_Prime_X     17.38      -30       30  0.03344     True     None     None\n",
                        "Gamma_SR_X       -88.66      -90      -86        0    False     None     None\n",
                        "bF_X              4.084      -10       10  0.06008     True     None     None\n",
                        "c_X               3.414      -10       10   0.1445     True     None     None\n",
                        "p_lD_X            -11.3      -14       -6  0.03458     True     None     None\n",
                        "q_lD_X           -12.03      -14      -10        0    False     None     None\n"
                    ]
                },
                {
                    "data": {
                        "image/png": "[encoded data removed]",
                        "text/plain": [
                            "<Figure size 432x288 with 1 Axes>"
                        ]
                    },
                    "metadata": {},
                    "output_type": "display_data"
                },
                {
                    "name": "stdout",
                    "output_type": "stream",
                    "text": [
                        "10.040755033493042 sec\n"
                    ]
                }
            ],
            "source": [
                "t1 = time.time()\n",
                "out = minimize(hyperfine_residual, params, args=([total_fit_freq,total_fit_err,update_params]),method='least_squares')#,kws={'flist':True})#,method='least_squares')\n",
                "t2 = time.time()\n",
                "out.params.pretty_print()\n",
                "final_resid = hyperfine_residual(out.params,total_fit_freq,total_fit_err,update_params,no_uncert=True)\n",
                "plt.figure()\n",
                "plt.plot(final_resid, 'bo')\n",
                "plt.axhline(y=0)\n",
                "plt.title('Fit stdev = '+ str(final_resid.std()))\n",
                "plt.show()\n",
                "print(t2-t1,'sec')\n",
                "\n",
                "out_w_pg_gp = out"
            ]
        },
        {
            "cell_type": "code",
            "execution_count": 124,
            "id": "ad578160",
            "metadata": {},
            "outputs": [
                {
                    "data": {
                        "text/html": [
                            "<h2>Fit Statistics</h2><table><tr><td>fitting method</td><td>least_squares</td><td></td></tr><tr><td># function evals</td><td>23</td><td></td></tr><tr><td># data points</td><td>8</td><td></td></tr><tr><td># variables</td><td>4</td><td></td></tr><tr><td>chi-square</td><td> 1.62097547</td><td></td></tr><tr><td>reduced chi-square</td><td> 0.40524387</td><td></td></tr><tr><td>Akaike info crit.</td><td>-4.77130747</td><td></td></tr><tr><td>Bayesian info crit.</td><td>-4.45354131</td><td></td></tr></table><h2>Variables</h2><table><tr><th> name </th><th> value </th><th> standard error </th><th> relative error </th><th> initial value </th><th> min </th><th> max </th><th> vary </th></tr><tr><td> Gamma_SR_X </td><td> -88.6600000 </td><td>  0.00000000 </td><td> (0.00%) </td><td> -88.66 </td><td> -90.0000000 </td><td> -86.0000000 </td><td> False </td></tr><tr><td> Gamma_Prime_X </td><td>  17.3809877 </td><td>  0.03344470 </td><td> (0.19%) </td><td> 15.61 </td><td> -30.0000000 </td><td>  30.0000000 </td><td> True </td></tr><tr><td> q_lD_X </td><td> -12.0300000 </td><td>  0.00000000 </td><td> (0.00%) </td><td> -12.03 </td><td> -14.0000000 </td><td> -10.0000000 </td><td> False </td></tr><tr><td> p_lD_X </td><td> -11.2963459 </td><td>  0.03458445 </td><td> (0.31%) </td><td> -10.73 </td><td> -14.0000000 </td><td> -6.00000000 </td><td> True </td></tr><tr><td> bF_X </td><td>  4.08381666 </td><td>  0.06008194 </td><td> (1.47%) </td><td> 3.97 </td><td> -10.0000000 </td><td>  10.0000000 </td><td> True </td></tr><tr><td> c_X </td><td>  3.41435062 </td><td>  0.14448331 </td><td> (4.23%) </td><td> 3.78 </td><td> -10.0000000 </td><td>  10.0000000 </td><td> True </td></tr></table><h2>Correlations (unreported correlations are < 0.100)</h2><table><tr><td>bF_X</td><td>c_X</td><td>-0.5402</td></tr><tr><td>Gamma_Prime_X</td><td>p_lD_X</td><td>-0.4877</td></tr><tr><td>Gamma_Prime_X</td><td>bF_X</td><td>0.3541</td></tr><tr><td>p_lD_X</td><td>c_X</td><td>0.3519</td></tr><tr><td>Gamma_Prime_X</td><td>c_X</td><td>-0.3325</td></tr><tr><td>p_lD_X</td><td>bF_X</td><td>-0.1282</td></tr></table>"
                        ],
                        "text/plain": [
                            "<lmfit.minimizer.MinimizerResult at 0x26cbb5f84c0>"
                        ]
                    },
                    "execution_count": 124,
                    "metadata": {},
                    "output_type": "execute_result"
                }
            ],
            "source": [
                "out"
            ]
        },
        {
            "cell_type": "code",
            "execution_count": null,
            "id": "eb3bd913",
            "metadata": {},
            "outputs": [],
            "source": []
        },
        {
            "cell_type": "code",
            "execution_count": null,
            "id": "640c5422",
            "metadata": {},
            "outputs": [],
            "source": []
        },
        {
            "cell_type": "code",
            "execution_count": null,
            "id": "db8e57ae",
            "metadata": {},
            "outputs": [],
            "source": []
        },
        {
            "cell_type": "code",
            "execution_count": null,
            "id": "d1dd0a0c",
            "metadata": {},
            "outputs": [],
            "source": [
                "# dataset = All_StarkZeeman_Data['20220526']\n",
                "params = Parameters()\n",
                "params.add('Gamma_SR_X',value=-88.660,min=-90,max=-86,vary=False)\n",
                "params.add('Gamma_Prime_X',value=15.61,min=-30,max=30,vary=True)\n",
                "params.add('q_lD_X',value=-12.03,min=-14,max=-10,vary=False)\n",
                "params.add('p_lD_X',value=-10.73,min=-14,max=-6,vary=True)\n",
                "params.add('bF_X',value=3.97,min=-10,max=10,vary=True)\n",
                "params.add('c_X',value=3.78,min=-10,max=10,vary=True)\n",
                "update_params = ['bF_X','c_X','Gamma_SR_X','Gamma_Prime_X','q_lD_X','p_lD_X']\n",
                "\n",
                "initial_resid = hyperfine_residual(params,total_fit_freq,total_fit_err,update_params,no_uncert=True)\n",
                "plt.figure()\n",
                "plt.plot(initial_resid, 'bo')\n",
                "plt.axhline(y=0)\n",
                "plt.title('Prior stdev = '+ str(initial_resid.std()))"
            ]
        },
        {
            "cell_type": "code",
            "execution_count": 81,
            "id": "0d663db1",
            "metadata": {},
            "outputs": [
                {
                    "name": "stdout",
                    "output_type": "stream",
                    "text": [
                        "Name              Value      Min      Max   Stderr     Vary     Expr Brute_Step\n",
                        "Gamma_Prime_X     15.61      -30       30        0    False     None     None\n",
                        "Gamma_SR_X       -88.66      -90      -86        0    False     None     None\n",
                        "bF_X              2.954      -10       10     1.23     True     None     None\n",
                        "c_X               2.925      -10       10    3.208     True     None     None\n",
                        "p_lD_X           -10.73      -20       20        0    False     None     None\n",
                        "q_lD_X           -12.03      -20       20        0    False     None     None\n"
                    ]
                },
                {
                    "data": {
                        "image/png": "[encoded data removed]",
                        "text/plain": [
                            "<Figure size 432x288 with 1 Axes>"
                        ]
                    },
                    "metadata": {},
                    "output_type": "display_data"
                },
                {
                    "name": "stdout",
                    "output_type": "stream",
                    "text": [
                        "3.436126470565796 sec\n"
                    ]
                }
            ],
            "source": [
                "t1 = time.time()\n",
                "out = minimize(hyperfine_residual, params, args=([total_fit_freq,total_fit_err,update_params]),method='least_squares')#,kws={'flist':True})#,method='least_squares')\n",
                "t2 = time.time()\n",
                "out.params.pretty_print()\n",
                "final_resid = hyperfine_residual(out.params,total_fit_freq,total_fit_err,update_params,no_uncert=True)\n",
                "plt.figure()\n",
                "plt.plot(final_resid, 'bo')\n",
                "plt.axhline(y=0)\n",
                "plt.title('Fit stdev = '+ str(final_resid.std()))\n",
                "plt.show()\n",
                "print(t2-t1,'sec')\n",
                "\n",
                "out_w_gp = out"
            ]
        },
        {
            "cell_type": "code",
            "execution_count": null,
            "id": "16de1f6d",
            "metadata": {},
            "outputs": [],
            "source": []
        }
    ],
    "metadata": {
        "kernelspec": {
            "display_name": "Python 3 (ipykernel)",
            "language": "python",
            "name": "python3"
        },
        "language_info": {
            "codemirror_mode": {
                "name": "ipython",
                "version": 3
            },
            "file_extension": ".py",
            "mimetype": "text/x-python",
            "name": "python",
            "nbconvert_exporter": "python",
            "pygments_lexer": "ipython3",
            "version": "3.7.13"
        }
    },
    "nbformat": 4,
    "nbformat_minor": 5
}