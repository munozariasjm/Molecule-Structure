{
 "cells": [
  {
   "cell_type": "code",
   "execution_count": 1,
   "id": "1c05ec43",
   "metadata": {},
   "outputs": [],
   "source": [
    "from config_path import add_to_sys_path\n",
    "add_to_sys_path()  # Call the function to add path\n",
    "\n",
    "import numpy as np"
   ]
  },
  {
   "cell_type": "code",
   "execution_count": 5,
   "id": "104dee4b",
   "metadata": {},
   "outputs": [],
   "source": [
    "tim_error = np.array([0.0001,-0.0005,-0.0002,0.0005,-0.0002,0.0004,0.0,0.0002,-0.0006,0.0007,0.0003,-0.0007,0.0005,0.0002,0.0001,-0.0001,0.0001,0.0,-0.0003,0.0,0.0004,0.0001,-0.0001,-0.0001,0.0002,-0.0003,-0.0004,0.0,-0.0009,-0.0002,-0.0011,-0.0004,-0.0004,0.0003,0.0001,-0.0003,-0.0003,0.0002,-0.0008,0.0003,0.0002,0.0001,0.0001,-0.0003,0.0003,0.0003,0.0,0.0001,-0.0006,-0.0005,-0.0001,0.0002,0.0005,-0.0002,0.0005,0.0006,0.0003,0.0009,0.0009,0.0001,0.0,-0.0005])"
   ]
  },
  {
   "cell_type": "code",
   "execution_count": 6,
   "id": "d48b06f8",
   "metadata": {},
   "outputs": [
    {
     "data": {
      "text/plain": [
       "0.0004097313909076399"
      ]
     },
     "execution_count": 6,
     "metadata": {},
     "output_type": "execute_result"
    }
   ],
   "source": [
    "tim_error.std()"
   ]
  },
  {
   "cell_type": "code",
   "execution_count": 7,
   "id": "3802277d",
   "metadata": {},
   "outputs": [
    {
     "data": {
      "text/plain": [
       "12.283438079996023"
      ]
     },
     "execution_count": 7,
     "metadata": {},
     "output_type": "execute_result"
    }
   ],
   "source": [
    "tim_error.std()*29979.2458"
   ]
  },
  {
   "cell_type": "code",
   "execution_count": 9,
   "id": "6f2daa59",
   "metadata": {},
   "outputs": [],
   "source": [
    "tim2 = np.array([0.0001,-0.0005,-0.0002,0.0005,-0.0002,0.0003,-0.0007,0.0005,0.0002,0.0001,-0.0001,-0.0001,-0.0001,0.0002,-0.0003,-0.0004,-0.0,-0.0011,-0.0004,-0.0004,0.0003,-0.0008,0.0003,0.0002,0.0001,0.0001,-0.0003,-0.0001,0.0002,0.0005,-0.0002,0.0005,0.0006])"
   ]
  },
  {
   "cell_type": "code",
   "execution_count": 11,
   "id": "39435a08",
   "metadata": {},
   "outputs": [
    {
     "data": {
      "text/plain": [
       "11.896343630765612"
      ]
     },
     "execution_count": 11,
     "metadata": {},
     "output_type": "execute_result"
    }
   ],
   "source": [
    "tim2.std()*29979.2458"
   ]
  },
  {
   "cell_type": "code",
   "execution_count": 12,
   "id": "e5c4ed6b",
   "metadata": {},
   "outputs": [
    {
     "data": {
      "text/plain": [
       "12.591283236"
      ]
     },
     "execution_count": 12,
     "metadata": {},
     "output_type": "execute_result"
    }
   ],
   "source": [
    "0.00042*29979.2458"
   ]
  },
  {
   "cell_type": "code",
   "execution_count": null,
   "id": "206f061d",
   "metadata": {},
   "outputs": [],
   "source": []
  }
 ],
 "metadata": {
  "kernelspec": {
   "display_name": "Python 3 (ipykernel)",
   "language": "python",
   "name": "python3"
  },
  "language_info": {
   "codemirror_mode": {
    "name": "ipython",
    "version": 3
   },
   "file_extension": ".py",
   "mimetype": "text/x-python",
   "name": "python",
   "nbconvert_exporter": "python",
   "pygments_lexer": "ipython3",
   "version": "3.8.13"
  }
 },
 "nbformat": 4,
 "nbformat_minor": 5
}
