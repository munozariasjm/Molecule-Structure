{
 "cells": [
  {
   "cell_type": "code",
   "execution_count": null,
   "id": "a4d44f94",
   "metadata": {},
   "outputs": [],
   "source": [
    "from config_path import add_to_sys_path\n",
    "add_to_sys_path()  # Call the function to add path\n",
    "\n"
   ]
  }
 ],
 "metadata": {
  "kernelspec": {
   "display_name": "Python 3 (ipykernel)",
   "language": "python",
   "name": "python3"
  },
  "language_info": {
   "codemirror_mode": {
    "name": "ipython",
    "version": 3
   },
   "file_extension": ".py",
   "mimetype": "text/x-python",
   "name": "python",
   "nbconvert_exporter": "python",
   "pygments_lexer": "ipython3",
   "version": "3.8.13"
  }
 },
 "nbformat": 4,
 "nbformat_minor": 5
}
