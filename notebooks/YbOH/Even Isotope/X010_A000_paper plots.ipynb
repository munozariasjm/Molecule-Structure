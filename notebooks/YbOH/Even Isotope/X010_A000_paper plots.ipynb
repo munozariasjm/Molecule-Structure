{
    "cells": [
        {
            "cell_type": "code",
            "execution_count": 1,
            "id": "c914004e",
            "metadata": {},
            "outputs": [],
            "source": [
                "from config_path import add_to_sys_path\n",
                "add_to_sys_path()  # Call the function to add path\n",
                "\n",
                "import numpy as np\n",
                "from sympy.physics.wigner import wigner_3j,wigner_6j\n",
                "import sympy as sy\n",
                "from numpy import linalg as LA\n",
                "from IPython.display import Latex,display\n",
                "import matplotlib.pyplot as plt\n",
                "from matplotlib import colors\n",
                "%matplotlib inline\n",
                "import seaborn as sns\n",
                "sns.set()\n",
                "sns.set_palette('bright')\n",
                "from energy_levels import MoleculeLevels\n",
                "from energy_levels import branching_ratios, calculate_TDMs,calculate_TDM_evecs\n",
                "from functools import partial\n",
                "np.set_printoptions(precision=5, suppress=True)\n",
                "from tabulate import tabulate\n",
                "from matplotlib.collections import LineCollection"
            ]
        },
        {
            "cell_type": "code",
            "execution_count": 24,
            "id": "546f139a",
            "metadata": {},
            "outputs": [
                {
                    "data": {
                        "image/png": "[encoded data removed]",
                        "text/plain": [
                            "<Figure size 466.56x216 with 1 Axes>"
                        ]
                    },
                    "metadata": {},
                    "output_type": "display_data"
                }
            ],
            "source": [
                "sns.set_style(\"white\", {'axes.grid' : False})\n",
                "levels = np.array([17323,17651,17653,18577,18577+330, 18577+340, 20500,20800])\n",
                "labels = [r'$\\tilde{A}^2 \\Pi_{1/2}(000)$',r'$\\tilde{A} \\mu ^2 \\Sigma^{(+)}_{1/2}(010)$',r'$\\tilde{A} ^2 \\Delta_{3/2}(010)$',r'$\\tilde{A}^2 \\Pi_{3/2}(000)$',r'$\\tilde{A} ^2 \\Delta_{5/2}(010)$',r'$\\tilde{A}\\kappa ^2 \\Sigma^{(-)}_{1/2}(010)$',r'$\\tilde{B} ^2\\Sigma^+_{1/2}(000)$',r'$\\tilde{B} ^2\\Pi(010)$']\n",
                "plt.figure(figsize=(6.48,3))\n",
                "length = 0.5\n",
                "for level,label in zip(levels,labels):\n",
                "    if 'Delta' in label:\n",
                "        continue\n",
                "    if '(000)' in label:\n",
                "        center = 0.5\n",
                "        plt.plot(np.linspace(center-length/2,center+length/2,2),[level,level],'k')\n",
                "        plt.annotate(label,(-0.4,level))\n",
                "    elif '(010)' in label:\n",
                "        center = 1.5\n",
                "        plt.plot(np.linspace(center-length/2,center+length/2,2),[level,level],'k')\n",
                "        plt.annotate(label,(1.8,level))\n",
                "sns.despine()        \n",
                "plt.xlim(-0.5,2)\n",
                "plt.tick_params(\n",
                "    axis='x',          # changes apply to the x-axis\n",
                "    which='both',      # both major and minor ticks are affected\n",
                "    bottom=False,      # ticks along the bottom edge are off\n",
                "    top=False,         # ticks along the top edge are off\n",
                "    labelbottom=False) # labels along the bottom edge are off\n",
                "plt.savefig('A000_vibronic_diagram.svg')"
            ]
        },
        {
            "cell_type": "code",
            "execution_count": null,
            "id": "9390348d",
            "metadata": {},
            "outputs": [],
            "source": []
        }
    ],
    "metadata": {
        "kernelspec": {
            "display_name": "Python 3 (ipykernel)",
            "language": "python",
            "name": "python3"
        },
        "language_info": {
            "codemirror_mode": {
                "name": "ipython",
                "version": 3
            },
            "file_extension": ".py",
            "mimetype": "text/x-python",
            "name": "python",
            "nbconvert_exporter": "python",
            "pygments_lexer": "ipython3",
            "version": "3.8.13"
        }
    },
    "nbformat": 4,
    "nbformat_minor": 5
}