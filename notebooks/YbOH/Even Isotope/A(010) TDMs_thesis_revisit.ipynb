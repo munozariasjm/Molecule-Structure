{
 "cells": [
  {
   "cell_type": "code",
   "execution_count": 1,
   "id": "43b5d15b",
   "metadata": {},
   "outputs": [],
   "source": [
    "from config_path import add_to_sys_path\n",
    "add_to_sys_path()  # Call the function to add path\n",
    "\n",
    "import numpy as np\n",
    "import matplotlib.pyplot as plt\n",
    "from sympy.physics.wigner import wigner_3j,wigner_6j\n",
    "import lmfit\n",
    "from lmfit import Parameters,minimize\n",
    "import copy\n",
    "from scipy import signal"
   ]
  },
  {
   "cell_type": "code",
   "execution_count": 2,
   "id": "cb5c1c99",
   "metadata": {},
   "outputs": [],
   "source": [
    "def kronecker(a,b):         # Kronecker delta function\n",
    "    if a==b:\n",
    "        return 1\n",
    "    else:\n",
    "        return 0\n",
    "\n",
    "def b2a_matrix(a,b,S=1/2):\n",
    "    if not kronecker(a['K'],b['K'])*kronecker(a['J'],b['J']):\n",
    "        return 0\n",
    "    else:\n",
    "        return (-1)**(b['N']-S+a['P'])*np.sqrt(2*b['N']+1)*wigner_3j(a['J'],S,b['N'],a['P'],-a['Sigma'],-a['K'])\n",
    "    \n",
    "def convert_abBJ(input_qnumbers,output_qnumbers,S=1/2):\n",
    "    input_keys = list(input_qnumbers)\n",
    "    output_keys = list(output_qnumbers)\n",
    "    input_size = len(input_qnumbers[input_keys[0]])\n",
    "    output_size = len(output_qnumbers[output_keys[0]])\n",
    "    basis_matrix = np.zeros((output_size,input_size))\n",
    "    for i in range(output_size):\n",
    "        for j in range(input_size):\n",
    "            if 'N' in input_keys: #Convert case (b) to (a)\n",
    "                a_qnumbers = {q:output_qnumbers[q][i] for q in output_keys}\n",
    "                b_qnumbers = {q:input_qnumbers[q][j] for q in input_keys}\n",
    "            else:\n",
    "                b_qnumbers = {q:output_qnumbers[q][i] for q in output_keys}\n",
    "                a_qnumbers = {q:input_qnumbers[q][j] for q in input_keys}\n",
    "            basis_matrix[i,j] = b2a_matrix(a_qnumbers,b_qnumbers,S=S)\n",
    "    return basis_matrix\n",
    "\n",
    "def q_numbers_even_bBJ(N_range,K_mag,S=1/2,I_list=[0,1/2],M_values='all',M_range=[]):\n",
    "    IM=I_list[0]\n",
    "    iH = I_list[-1]\n",
    "    Nmin,Nmax=N_range[0],N_range[-1]\n",
    "    K_mag = abs(K_mag)\n",
    "    if Nmin<K_mag:\n",
    "        print('Nmin must be >= |K|')\n",
    "        Nmin=abs(K_mag)\n",
    "    q_str = ['K','N','J','F','M']\n",
    "    I = max(IM,iH)\n",
    "    q_numbers = {}\n",
    "    for q in q_str:\n",
    "        q_numbers[q] = []\n",
    "    for N in np.arange(Nmin,Nmax+1,1):\n",
    "        for J in np.arange(abs(N-S),abs(N+S)+1,1):\n",
    "            for F in np.arange(abs(J-I),abs(J+I)+1,1):\n",
    "                if M_values=='none':\n",
    "                    for K in {True:[0], False:[-K_mag,K_mag]}[K_mag==0]:\n",
    "                        M=abs(F)%1\n",
    "                        values = [K,N,J,F,M]\n",
    "                        for q,val in zip(q_str,values):\n",
    "                            q_numbers[q].append(val+0)    #looks weird but adding 0 converts -0 to 0\n",
    "                else:\n",
    "                    if M_values=='all' or M_values=='custom':\n",
    "                        Mmin = -F\n",
    "                    elif M_values=='pos':\n",
    "                        Mmin = abs(F) % 1\n",
    "                    for M in np.arange(Mmin,F+1,1):\n",
    "                        if (M_values=='custom' and M in M_range) or (M_values=='all') or (M_values=='pos'):\n",
    "                            for K in {True:[0], False:[-K_mag,K_mag]}[K_mag==0]:\n",
    "                                values = [K,N,J,F,M]\n",
    "                                for q,val in zip(q_str,values):\n",
    "                                    q_numbers[q].append(val+0)    #looks weird but adding 0 converts -0 to 0\n",
    "                        elif M_values=='custom' and M not in M_range:\n",
    "                            continue\n",
    "    return q_numbers\n",
    "\n",
    "def q_numbers_even_aBJ(N_range,K_mag=1,S=1/2,I_list=[0,1/2],M_values='all',P_values=[1/2],M_range=[]):\n",
    "    IM=I_list[0]\n",
    "    iH = I_list[-1]\n",
    "    Nmin,Nmax=N_range[0],N_range[-1]\n",
    "    Jmin = abs(Nmin-S)\n",
    "    Jmax = abs(Nmax+S)\n",
    "    K_mag = abs(K_mag)\n",
    "    if Nmin<K_mag:\n",
    "        print('Nmin must be >= |K|')\n",
    "        Nmin=abs(K_mag)\n",
    "    q_str = ['K','Sigma','P','J','F','M']\n",
    "    q_numbers = {}\n",
    "    for q in q_str:\n",
    "        q_numbers[q] = []\n",
    "    I = max(IM,iH)\n",
    "    for J in np.arange(Jmin,Jmax+1,1):\n",
    "        for F in np.arange(abs(J-I),abs(J+I)+1,1):\n",
    "            if M_values=='none':\n",
    "                for Sigma in np.arange(-abs(S),abs(S)+1,1):\n",
    "                    for K in {True:[0], False:[-K_mag,K_mag]}[K_mag==0]:\n",
    "                        P=K+Sigma\n",
    "                        if abs(P) not in P_values:\n",
    "                            continue\n",
    "                        elif J < abs(P):\n",
    "                            continue\n",
    "                        else:\n",
    "                            M=abs(F)%1\n",
    "                            values = [K,Sigma,P,J,F,M]\n",
    "                        for q,val in zip(q_str,values):\n",
    "                            q_numbers[q].append(val+0)    #looks weird but adding 0 converts -0 to 0\n",
    "            else:\n",
    "                if M_values=='all' or M_values=='custom':\n",
    "                    Mmin = -F\n",
    "                elif M_values=='pos':\n",
    "                    Mmin = abs(F) % 1\n",
    "                for M in np.arange(Mmin,F+1,1):\n",
    "                    if (M_values=='custom' and M in M_range) or (M_values=='all') or (M_values=='pos'):\n",
    "                        for Sigma in np.arange(-abs(S),abs(S)+1,1):\n",
    "                            for K in {True:[0], False:[-K_mag,K_mag]}[K_mag==0]:\n",
    "                                P=K+Sigma\n",
    "                                if abs(P) not in P_values:\n",
    "                                    continue\n",
    "                                elif J < abs(P):\n",
    "                                    continue\n",
    "                                else:\n",
    "                                    values = [K,Sigma,P,J,F,M]\n",
    "                                for q,val in zip(q_str,values):\n",
    "                                    q_numbers[q].append(val+0)    #looks weird but adding 0 converts -0 to 0\n",
    "                    elif M_values=='custom' and M not in M_range:\n",
    "                        continue\n",
    "    return q_numbers\n",
    "\n",
    "def write_state(vector,qn,case):\n",
    "    for index in np.nonzero(vector)[0]:\n",
    "        v={q:qn[q][index] for q in qn}\n",
    "        coeff = vector[index]\n",
    "        if case == 'bBS':\n",
    "            print(' {} |K={},N={},G={},F1={},F={},M={}> \\n'.format(coeff,v['K'],v['N'],v['G'],v['F1'],v['F'],v['M']))\n",
    "        elif case == 'bBJ':\n",
    "            print(' {} |K={},N={},J={},F={},M={}> \\n'.format(coeff,v['K'],v['N'],v['J'],v['F'],v['M']))\n",
    "        elif case == 'aBJ':\n",
    "            print(' {} |K={},\\u03A3={},P={},J={},F={},M={}> \\n'.format(coeff,v['K'],v['Sigma'],v['P'],v['J'],v['F'],v['M']))\n",
    "            \n",
    "def build_operator(q_in,q_out,matrix_element,symbolic=False):\n",
    "    q_str_in = list(q_in)\n",
    "    q_str_out = list(q_out)\n",
    "    size_in = len(q_in[q_str_in[0]])\n",
    "    size_out = len(q_out[q_str_out[0]])\n",
    "    operator = np.zeros((size_out,size_in))\n",
    "    for i in range(size_out):\n",
    "        for j in range(size_in):\n",
    "            state_out = {q+'0':q_out[q][i] for q in q_out}\n",
    "            state_in = {q+'1':q_in[q][j] for q in q_in}\n",
    "            q_args = {**state_out,**state_in}\n",
    "            operator[i,j] = matrix_element(**q_args)\n",
    "            if symbolic:\n",
    "                operator[i,j] = sy.nsimplify(operator[i,j])\n",
    "    if symbolic:\n",
    "        operator = sy.Matrix(operator)\n",
    "    return operator"
   ]
  },
  {
   "cell_type": "code",
   "execution_count": 3,
   "id": "920adb42",
   "metadata": {},
   "outputs": [],
   "source": [
    "def q_numbers_A010(N_range,l=1,L=1,S=1/2,P_values=[1/2,3/2,5/2],Omega_values=[1/2,3/2]):\n",
    "    q_str = ['L','l','Sigma','K','Omega','P','J']\n",
    "    q_numbers = {}\n",
    "    for q in q_str:\n",
    "        q_numbers[q] = []\n",
    "    if L==0:\n",
    "        Lvals = [0]\n",
    "    else:\n",
    "        Lvals = [-L,L]\n",
    "    if l==0:\n",
    "        lvals = [0]\n",
    "    else:\n",
    "        lvals = [-l,l]\n",
    "    if S==0:\n",
    "        Svals = [0]\n",
    "    else:\n",
    "        Svals = [-S,S]\n",
    "    Nmin,Nmax=N_range[0],N_range[-1]\n",
    "    if Nmin<abs(l):\n",
    "        print('Nmin must be >= |K|')\n",
    "        Nmin=abs(l)\n",
    "    Jmin = abs(Nmin-S)\n",
    "    Jmax = abs(Nmax+S)\n",
    "    for J in np.arange(Jmin,Jmax+1,1):\n",
    "        for _L in Lvals:\n",
    "            for _l in lvals:\n",
    "                K = _L+_l\n",
    "                for _S in Svals:\n",
    "                    Omega = _S+_L\n",
    "                    if abs(Omega) not in Omega_values:\n",
    "                        continue\n",
    "                    P= _L+_l+_S\n",
    "                    if abs(P) not in P_values:\n",
    "                        continue\n",
    "                    elif J < abs(P):\n",
    "                        continue\n",
    "                    else:\n",
    "                        values = [_L,_l,_S,K,Omega,P,J]\n",
    "                        for q,val in zip(q_str,values):\n",
    "                                q_numbers[q].append(val+0)\n",
    "    return q_numbers\n",
    "\n",
    "def q_numbers_X010(N_range,l=1,L=0,S=1/2):\n",
    "    q_str = ['L','l','K','N','J']\n",
    "    q_numbers = {}\n",
    "    for q in q_str:\n",
    "        q_numbers[q] = []\n",
    "    if L==0:\n",
    "        Lvals = [0]\n",
    "    else:\n",
    "        Lvals = [-L,L]\n",
    "    if l==0:\n",
    "        lvals = [0]\n",
    "    else:\n",
    "        lvals = [-l,l]\n",
    "    Nmin,Nmax=N_range[0],N_range[-1]\n",
    "    if Nmin<abs(l):\n",
    "        print('Nmin must be >= |K|')\n",
    "        Nmin=abs(l)\n",
    "    for N in N_range:\n",
    "        for J in np.arange(abs(N-S),abs(N+S)+1,1):\n",
    "            for _L in Lvals:\n",
    "                for _l in lvals:\n",
    "                    K = _L+_l\n",
    "                    values = [_L,_l,K,N,J]\n",
    "                    for q,val in zip(q_str,values):\n",
    "                            q_numbers[q].append(val+0)\n",
    "    return q_numbers\n",
    "\n",
    "def Parity_b(L0,l0,K0,N0,J0,L1,l1,K1,N1,J1,S=1/2):\n",
    "    if not kronecker(N0,N1)*kronecker(K0,-K1)*kronecker(L0,-L1)*kronecker(l0,-l1)*kronecker(J0,J1):\n",
    "        return 0\n",
    "    else:\n",
    "        return (-1)**(N0-l0)\n",
    "    \n",
    "def Parity_a(L0,l0,Sigma0,K0,Omega0,P0,J0,L1,l1,Sigma1,K1,Omega1,P1,J1,S=1/2):\n",
    "    if not kronecker(J0,J1)*kronecker(K0,-K1)*kronecker(L0,-L1)*kronecker(l0,-l1)*kronecker(Sigma0,-Sigma1)*kronecker(Omega0,-Omega1):\n",
    "        return 0\n",
    "    else:\n",
    "        return (-1)**(J0-S-l0)\n",
    "    \n",
    "def lD_a(L0,l0,Sigma0,K0,Omega0,P0,J0,L1,l1,Sigma1,K1,Omega1,P1,J1,S=1/2):\n",
    "    if not kronecker(J0,J1)*kronecker(l0,-l1)*kronecker(Sigma0,Sigma1)*kronecker(L0,L1):\n",
    "        return 0\n",
    "    else:\n",
    "        return 1\n",
    "    \n",
    "def ew_a(L0,l0,Sigma0,K0,Omega0,P0,J0,L1,l1,Sigma1,K1,Omega1,P1,J1,S=1/2):\n",
    "    if not kronecker(J0,J1)*kronecker(J0,1/2)*kronecker(Sigma0,-Sigma1)*kronecker(L0,-L1)*kronecker(l0,-l1):\n",
    "        return 0\n",
    "    else:\n",
    "        return (-1)**(J0-S-l0)\n",
    "    \n",
    "def p_lD_b(L0,l0,K0,N0,J0,L1,l1,K1,N1,J1,S=1/2):\n",
    "    if not kronecker(J0,J1)*kronecker(L0,L1)*kronecker(N0,N1)*(not kronecker(l0,l1)):\n",
    "        return 0\n",
    "    else:\n",
    "        return sum([(-1)**(J0+N1+S)*-np.sqrt(10/6)*wigner_6j(N0,S,J0,S,N1,1)*np.sqrt(S*(S+1)*(2*S+1))*\\\n",
    "            np.sqrt(3)*(-1)**(1+N0+N1)*wigner_6j(2,1,1,N1,N0,N0)*np.sqrt(N0*(N0+1)*(2*N0+1))*\\\n",
    "            (-1)**(N0-K0)*wigner_3j(N0,2,N1,-K0,2*q,K1)*np.sqrt((2*N0+1)*(2*N1+1))*kronecker(K0,K1+2*q) for q in [-1,1]])\n",
    "\n",
    "\n",
    "def q_lD_b(L0,l0,K0,N0,J0,L1,l1,K1,N1,J1,S=1/2):\n",
    "    if not kronecker(J0,J1)*kronecker(L0,L1)*kronecker(N0,N1)*(not kronecker(l0,l1)):\n",
    "        return 0\n",
    "    else:\n",
    "        return sum([(-1)**(2*J0)*np.sqrt((2*J1+1))*(-1)**(S+J1+N0)*wigner_6j(N1,J1,S,J0,N0,0)*\\\n",
    "            np.sqrt(5)*(-1)**(N0+N1)*wigner_6j(2,2,0,N1,N0,N0)*(-1)**(N0-K0)*wigner_3j(N0,2,N1,-K0,2*q,K1)*\\\n",
    "            1/(2*np.sqrt(6))*np.sqrt((2*N0-1)*(2*N0)*(2*N0+1)*(2*N0+2)*(2*N0+3))*np.sqrt((2*N0+1)*(2*N1+1))*kronecker(K0,K1+2*q) for q in [-1,1]]) #there is ambiguity over the inclusion of extra sqrt(2J0+1)\n",
    "    \n",
    "def LD_a(L0,l0,Sigma0,K0,Omega0,P0,J0,L1,l1,Sigma1,K1,Omega1,P1,J1,S=1/2):\n",
    "    if not kronecker(J0,J1)*kronecker(l0,l1):\n",
    "        return 0\n",
    "    else:\n",
    "        return (sum([np.sqrt((2*J0+1)*(J0+1)*J0*(2*S+1)*(S+1)*S)*kronecker(L1,L0+2*q)*(-1)**(J0-P0)*wigner_3j(J0,1,J1,-P0,-q,P1)*(-1)**(S-Sigma0)*wigner_3j(S,1,S,-Sigma0,q,Sigma1) for q in [-1,1]]))\n",
    "    \n",
    "def Brot_a(L0,l0,Sigma0,K0,Omega0,P0,J0,L1,l1,Sigma1,K1,Omega1,P1,J1,S=1/2):\n",
    "    if not kronecker(l0,l1)*kronecker(J0,J1):\n",
    "        return 0\n",
    "    else:\n",
    "        return kronecker(Sigma0,Sigma1)*kronecker(P0,P1)*(J0*(J0+1)+S*(S+1)-(P0)**2-(Sigma0)**2-0*2*P0*Sigma0)-\\\n",
    "            sum([2*(-1)**(J0-(P0)+S-Sigma0)*np.sqrt((2*J0+1)*J0*(J0+1)*(2*S+1)*S*(S+1))*\\\n",
    "            wigner_3j(J0,1,J1,-P0,q,P1)*wigner_3j(S,1,S,-Sigma0,q,Sigma1) for q in [-1,1]])\n",
    "    \n",
    "def Brot_b(L0,l0,K0,N0,J0,L1,l1,K1,N1,J1,S=1/2):\n",
    "    if not kronecker(J0,J1)*kronecker(L0,L1)*kronecker(l0,l1)*kronecker(N0,N1):\n",
    "        return 0\n",
    "    else:\n",
    "        return N0*(N0+1)\n",
    "\n",
    "def SR_b(L0,l0,K0,N0,J0,L1,l1,K1,N1,J1,S=1/2):\n",
    "    if not kronecker(J0,J1)*kronecker(L0,L1)*kronecker(l0,l1)*kronecker(N0,N1):\n",
    "        return 0\n",
    "    else:\n",
    "        return (-1)**(N1+J0+S)*np.sqrt(S*(S+1)*(2*S+1)*N0*(N0+1)*(2*N0+1))*\\\n",
    "            wigner_6j(N0,S,J0,S,N1,1)\n",
    "    \n",
    "def TDM_vibronic_a_noM(L0,l0,K0,Sigma0,Omega0,P0,J0,L1,l1,K1,Sigma1,Omega1,P1,J1,S=1/2):\n",
    "    if not kronecker(Sigma0,Sigma1)*kronecker(l0,l1):\n",
    "        return 0\n",
    "    else:\n",
    "        delta_L = L0-L1\n",
    "        TDM = 1/np.sqrt(2*J1+1)*\\\n",
    "            sum([np.sqrt((2*J0+1)*(2*J1+1))*(-1)**(J0-P0)*wigner_3j(J0,1,J1,-P0,_q,P1)*kronecker(delta_L,_q) for _q in [-1,1]])\n",
    "        return TDM\n",
    "\n",
    "def write_state(vector,qn,case):\n",
    "    for index in np.nonzero(vector)[0]:\n",
    "        v={q:qn[q][index] for q in qn}\n",
    "        coeff = vector[index]\n",
    "        if case == 'b':\n",
    "            print(' {} |L={},l={},K={},N={},J={}> \\n'.format(coeff,v['L'],v['l'],v['K'],v['N'],v['J']))\n",
    "        elif case == 'a':\n",
    "            print(' {} |L={},l={},Sigma={},K={},P={},J={}> \\n'.format(coeff,v['L'],v['l'],v['Sigma'],v['K'],v['P'],v['J']))\n",
    "    \n",
    "def state_str(vector,qn,case,parity=None):\n",
    "    if parity is None:\n",
    "        state = ''\n",
    "        for index in np.nonzero(vector)[0]:\n",
    "            v={q:qn[q][index] for q in qn}\n",
    "            coeff = np.round(vector[index],2)\n",
    "            if case == 'b':\n",
    "                state+='{}|'.format(coeff)\n",
    "                state+='$\\\\Lambda$={}, $\\\\ell$={}> '.format(v['L'],v['l'])\n",
    "            elif case == 'a':\n",
    "                if v['Omega']<0:\n",
    "                    continue\n",
    "                state+='{}|'.format(coeff)\n",
    "                state+='$\\\\Lambda$={}, $\\\\ell$={}, $\\\\Sigma$={}> '.format(v['L'],v['l'],v['Sigma'])\n",
    "    else:\n",
    "        state = '$\\\\mathcal{{P}}$=${},$'.format({True:'+',False:'-'}[parity>0])\n",
    "        first = True\n",
    "        for index in np.nonzero(vector)[0]:\n",
    "            v={q:qn[q][index] for q in qn}\n",
    "            coeff = vector[index]\n",
    "            if case=='a':\n",
    "                if v['Omega']<0:\n",
    "                    continue\n",
    "                if first:\n",
    "                    first=False\n",
    "                    sgn = np.sign(coeff)\n",
    "                else:\n",
    "                    state+= '${}$'.format({True:'+', False:'-'}[coeff*sgn>0])\n",
    "                K = v['L'] + v['l']\n",
    "                if K==0:\n",
    "                    state+='$^2\\\\Sigma_{{1/2}}$'\n",
    "                if K==2:\n",
    "                    state+='$^2\\\\Delta_{{3/2}}$'\n",
    "                if K==-2:\n",
    "                    print('uhhh')\n",
    "            elif case=='b':\n",
    "                if v['l']<0:\n",
    "                    continue\n",
    "                if first:\n",
    "                    first=False\n",
    "                    sgn = np.sign(coeff)\n",
    "                else:\n",
    "                    state+= '${}$'.format({True:'+', False:'-'}[coeff*sgn>0])\n",
    "                state+='$N$={}'.format(v['N'])\n",
    "        state+=', $J$={}'.format(v['J'])\n",
    "        return state"
   ]
  },
  {
   "cell_type": "code",
   "execution_count": 4,
   "id": "2ae0ecb9",
   "metadata": {},
   "outputs": [],
   "source": [
    "qnA = q_numbers_A010([1,2],l=1,L=1,S=1/2,Omega_values=[1/2])\n",
    "qnXb = q_numbers_X010([1,2],l=1,L=0,S=1/2)\n",
    "qnXa = q_numbers_A010([1,2],l=1,L=0,S=1/2,P_values=[1/2,3/2])"
   ]
  },
  {
   "cell_type": "code",
   "execution_count": 6,
   "id": "7cadfdf7",
   "metadata": {},
   "outputs": [],
   "source": [
    "Pb = build_operator(qnXb,qnXb,Parity_b)\n",
    "Pa = build_operator(qnA,qnA,Parity_a)\n",
    "qlD = build_operator(qnXb,qnXb,q_lD_b)\n",
    "plD = build_operator(qnXb,qnXb,p_lD_b)\n",
    "LDa = build_operator(qnA,qnA,LD_a)\n",
    "lDa = build_operator(qnA,qnA,lD_a)\n",
    "ewa = build_operator(qnA,qnA,ew_a)\n",
    "b2a = convert_abBJ(qnXb,qnXa,S=1/2)\n",
    "TDM = build_operator(qnXa,qnA,TDM_vibronic_a_noM)\n",
    "Rota = build_operator(qnA,qnA,Brot_a)\n",
    "Rotb = build_operator(qnXb,qnXb,Brot_b)\n",
    "SRb = build_operator(qnXb,qnXb,SR_b)"
   ]
  },
  {
   "cell_type": "code",
   "execution_count": 1301,
   "id": "d729408d",
   "metadata": {},
   "outputs": [],
   "source": [
    "Hb = -0.0004*Pb+0.25*Rotb-0.003*SRb\n",
    "Ha = -0.44*LDa+0.25*Rota*0-0.016*lDa*0-0.016*Pa\n",
    "Hdp = 0.25*Rota-0.016*Pa"
   ]
  },
  {
   "cell_type": "code",
   "execution_count": 1302,
   "id": "4281e8f9",
   "metadata": {},
   "outputs": [
    {
     "data": {
      "text/plain": [
       "{'L': [-1, 1, -1, -1, 1, 1, -1, -1, 1, 1],\n",
       " 'l': [1, -1, -1, 1, -1, 1, -1, 1, -1, 1],\n",
       " 'Sigma': [0.5, -0.5, 0.5, 0.5, -0.5, -0.5, 0.5, 0.5, -0.5, -0.5],\n",
       " 'K': [0, 0, -2, 0, 0, 2, -2, 0, 0, 2],\n",
       " 'Omega': [-0.5, 0.5, -0.5, -0.5, 0.5, 0.5, -0.5, -0.5, 0.5, 0.5],\n",
       " 'P': [0.5, -0.5, -1.5, 0.5, -0.5, 1.5, -1.5, 0.5, -0.5, 1.5],\n",
       " 'J': [0.5, 0.5, 1.5, 1.5, 1.5, 1.5, 2.5, 2.5, 2.5, 2.5]}"
      ]
     },
     "execution_count": 1302,
     "metadata": {},
     "output_type": "execute_result"
    }
   ],
   "source": [
    "qnA"
   ]
  },
  {
   "cell_type": "code",
   "execution_count": 1303,
   "id": "493393e6",
   "metadata": {},
   "outputs": [],
   "source": [
    "Pvals_b,Pvecs_b = np.linalg.eigh(Pb)\n",
    "Pvals_a, Pvecs_a = np.linalg.eigh(Pa)\n",
    "Hvals_a, Hvecs_a = np.linalg.eigh(Ha)\n",
    "Hvals_b, Hvecs_b = np.linalg.eigh(Hb)\n",
    "Hvals_dp, Hvecs_dp = np.linalg.eigh(Hdp)\n",
    "Pvecs_b=np.round(Pvecs_b.T,6)\n",
    "Pvecs_a=np.round(Pvecs_a.T,6)\n",
    "Hvecs_a=np.round(Hvecs_a.T,6)\n",
    "Hvecs_b=np.round(Hvecs_b.T,6)\n",
    "Hvecs_dp=np.round(Hvecs_dp.T,6)"
   ]
  },
  {
   "cell_type": "code",
   "execution_count": 1304,
   "id": "b6fcee7a",
   "metadata": {},
   "outputs": [
    {
     "data": {
      "text/plain": [
       "array([[ 0.      ,  0.      ,  0.      ,  0.      ,  0.      ,  0.      ,\n",
       "        -0.5     , -0.5     ,  0.5     ,  0.5     ],\n",
       "       [-0.      , -0.      , -0.      , -0.      , -0.      , -0.      ,\n",
       "        -0.5     ,  0.5     ,  0.5     , -0.5     ],\n",
       "       [ 0.      ,  0.      ,  0.5     , -0.5     , -0.5     ,  0.5     ,\n",
       "         0.      ,  0.      ,  0.      ,  0.      ],\n",
       "       [-0.      , -0.      ,  0.5     ,  0.5     , -0.5     , -0.5     ,\n",
       "         0.      ,  0.      ,  0.      ,  0.      ],\n",
       "       [-0.707107,  0.707107,  0.      ,  0.      ,  0.      ,  0.      ,\n",
       "         0.      ,  0.      ,  0.      ,  0.      ],\n",
       "       [ 0.707107,  0.707107,  0.      ,  0.      ,  0.      ,  0.      ,\n",
       "         0.      ,  0.      ,  0.      ,  0.      ],\n",
       "       [ 0.      ,  0.      ,  0.5     ,  0.5     ,  0.5     ,  0.5     ,\n",
       "         0.      ,  0.      ,  0.      ,  0.      ],\n",
       "       [ 0.      ,  0.      ,  0.5     , -0.5     ,  0.5     , -0.5     ,\n",
       "         0.      ,  0.      ,  0.      ,  0.      ],\n",
       "       [ 0.      ,  0.      ,  0.      ,  0.      ,  0.      ,  0.      ,\n",
       "        -0.5     ,  0.5     , -0.5     ,  0.5     ],\n",
       "       [ 0.      ,  0.      ,  0.      ,  0.      ,  0.      ,  0.      ,\n",
       "        -0.5     , -0.5     , -0.5     , -0.5     ]])"
      ]
     },
     "execution_count": 1304,
     "metadata": {},
     "output_type": "execute_result"
    }
   ],
   "source": [
    "Hvecs_a"
   ]
  },
  {
   "cell_type": "code",
   "execution_count": 1305,
   "id": "144f6487",
   "metadata": {},
   "outputs": [],
   "source": [
    "# #Checking Lambda Doubling parity\n",
    "# Hvals_b,Hvecs_b = np.linalg.eigh(Brota)\n",
    "# Pvals_a, Pvecs_a = np.linalg.eigh(-LDa)\n",
    "# Pvecs_b = np.round(Pvecs_b,8)\n",
    "# Pvecs_a = np.round(Pvecs_a,8)\n",
    "# print(np.linalg.inv(Pvecs_a)@LDa@Pvecs_a)\n",
    "# for i,v in enumerate(Pvecs_a.T):\n",
    "#     nonzero = np.nonzero(v)[0]\n",
    "#     for inz in nonzero:\n",
    "#         if qnA['L'][inz]<0:\n",
    "#             continue\n",
    "#         else:\n",
    "#             iL = inz\n",
    "#     print('Parity {}'.format(Pvals_a[i]))\n",
    "#     print('J={}, K={}'.format(qnA['J'][iL],qnA['K'][iL]))\n",
    "#     pLD = -(Pvals_a[i])*(-1)**(qnA['J'][iL]-0.5-1)\n",
    "#     print('pLD = {}'.format(pLD))\n",
    "#     print('')\n",
    "# pLDa=np.linalg.inv(Pvecs_a)@LDa@Pvecs_a\n",
    "# print(pLDa)"
   ]
  },
  {
   "cell_type": "code",
   "execution_count": 1306,
   "id": "008f09d9",
   "metadata": {},
   "outputs": [],
   "source": [
    "Xa_vecs=np.array([b2a@Pvec for Pvec in Pvecs_b])\n",
    "HParities_A = np.round(np.array([Hvec@Pa@Hvec for Hvec in Hvecs_a]),0)\n",
    "HParities_B = np.round(np.array([Hvec@Pb@Hvec for Hvec in Hvecs_b]),0)\n",
    "HParities_DP = np.round(np.array([Hvec@Pa@Hvec for Hvec in Hvecs_dp]),0)"
   ]
  },
  {
   "cell_type": "code",
   "execution_count": 1307,
   "id": "a5f963bb",
   "metadata": {},
   "outputs": [],
   "source": [
    "%matplotlib qt"
   ]
  },
  {
   "cell_type": "code",
   "execution_count": 1308,
   "id": "e4f8b972",
   "metadata": {},
   "outputs": [],
   "source": [
    "lenx = len(Xa_vecs)\n",
    "leny = len(Hvecs_dp)\n",
    "TDM_P = (Hvecs_dp@TDM@Xa_vecs.T)**2\n",
    "fig = plt.figure(figsize=(8,8),tight_layout=True)\n",
    "im = plt.imshow(TDM_P,vmin=0,vmax=0.5,cmap='magma')\n",
    "fig.colorbar(im)\n",
    "plt.grid(linestyle='--',alpha=0.3)\n",
    "plt.xticks(ticks=np.arange(lenx),labels=[state_str(vec,qnXb,'b',parity=pb) for (vec,pb) in zip(Hvecs_b,HParities_B)],rotation=35,ha='right',rotation_mode=\"anchor\");\n",
    "plt.yticks(ticks=np.arange(leny),labels=[state_str(vec,qnA,'a',parity=pa) for (vec,pa) in zip(Hvecs_dp,HParities_DP)],rotation=35,ha='right',rotation_mode=\"anchor\");\n",
    "# plt.ylim(11,-0.5)"
   ]
  },
  {
   "cell_type": "code",
   "execution_count": 1309,
   "id": "dc9a63aa",
   "metadata": {},
   "outputs": [],
   "source": [
    "lenx = len(Xa_vecs)\n",
    "leny = len(Hvecs_a)\n",
    "TDM_H = (Hvecs_a@TDM@Xa_vecs.T)**2\n",
    "fig = plt.figure(figsize=(8,8),tight_layout=True)\n",
    "im = plt.imshow(TDM_H,vmin=0,vmax=0.5,cmap='magma')\n",
    "fig.colorbar(im)\n",
    "plt.grid(linestyle='--',alpha=0.3)\n",
    "plt.xticks(ticks=np.arange(lenx),labels=[state_str(vec,qnXb,'b',parity=pb) for (vec,pb) in zip(Hvecs_b,HParities_B)],rotation=35,ha='right',rotation_mode=\"anchor\");\n",
    "plt.yticks(ticks=np.arange(leny),labels=[state_str(vec,qnA,'a',parity=pa) for (vec,pa) in zip(Hvecs_a,HParities_A)],rotation=35,ha='right',rotation_mode=\"anchor\");\n",
    "# plt.ylim(11,-0.5)"
   ]
  },
  {
   "cell_type": "code",
   "execution_count": 1213,
   "id": "55dff6e2",
   "metadata": {},
   "outputs": [
    {
     "data": {
      "text/plain": [
       "array([ 1., -1.,  1., -1.,  1., -1.,  1., -1.,  1., -1.])"
      ]
     },
     "execution_count": 1213,
     "metadata": {},
     "output_type": "execute_result"
    }
   ],
   "source": [
    "HParities_A"
   ]
  },
  {
   "cell_type": "code",
   "execution_count": 1215,
   "id": "bb9ca6fc",
   "metadata": {},
   "outputs": [
    {
     "data": {
      "text/plain": [
       "['$\\\\mathcal{P}$=$+,$$^2\\\\Sigma_{{1/2}}$, $J$=0.5',\n",
       " '$\\\\mathcal{P}$=$-,$$^2\\\\Sigma_{{1/2}}$, $J$=0.5',\n",
       " '$\\\\mathcal{P}$=$+,$$^2\\\\Sigma_{{1/2}}$$-$$^2\\\\Delta_{{3/2}}$, $J$=1.5',\n",
       " '$\\\\mathcal{P}$=$-,$$^2\\\\Sigma_{{1/2}}$$+$$^2\\\\Delta_{{3/2}}$, $J$=1.5',\n",
       " '$\\\\mathcal{P}$=$+,$$^2\\\\Sigma_{{1/2}}$$+$$^2\\\\Delta_{{3/2}}$, $J$=1.5',\n",
       " '$\\\\mathcal{P}$=$-,$$^2\\\\Sigma_{{1/2}}$$-$$^2\\\\Delta_{{3/2}}$, $J$=1.5',\n",
       " '$\\\\mathcal{P}$=$+,$$^2\\\\Sigma_{{1/2}}$$+$$^2\\\\Delta_{{3/2}}$, $J$=2.5',\n",
       " '$\\\\mathcal{P}$=$-,$$^2\\\\Sigma_{{1/2}}$$-$$^2\\\\Delta_{{3/2}}$, $J$=2.5',\n",
       " '$\\\\mathcal{P}$=$+,$$^2\\\\Sigma_{{1/2}}$$-$$^2\\\\Delta_{{3/2}}$, $J$=2.5',\n",
       " '$\\\\mathcal{P}$=$-,$$^2\\\\Sigma_{{1/2}}$$+$$^2\\\\Delta_{{3/2}}$, $J$=2.5']"
      ]
     },
     "execution_count": 1215,
     "metadata": {},
     "output_type": "execute_result"
    }
   ],
   "source": [
    "[state_str(vec,qnA,'a',parity=pa) for (vec,pa) in zip(Hvecs_a,HParities_A)]"
   ]
  },
  {
   "cell_type": "code",
   "execution_count": 596,
   "id": "3974db92",
   "metadata": {},
   "outputs": [
    {
     "data": {
      "text/plain": [
       "array([[-0.707107, -0.707107, -0.      , -0.      , -0.      , -0.      ,\n",
       "        -0.      , -0.      ,  0.      , -0.      ],\n",
       "       [-0.707107,  0.707107,  0.      ,  0.      ,  0.      ,  0.      ,\n",
       "         0.      ,  0.      ,  0.      ,  0.      ],\n",
       "       [-0.      , -0.      ,  0.5     ,  0.5     , -0.5     , -0.5     ,\n",
       "        -0.      , -0.      ,  0.      , -0.      ],\n",
       "       [-0.      , -0.      ,  0.5     , -0.5     ,  0.5     , -0.5     ,\n",
       "         0.      ,  0.      ,  0.      ,  0.      ],\n",
       "       [ 0.      ,  0.      ,  0.5     , -0.5     , -0.5     ,  0.5     ,\n",
       "         0.      ,  0.      ,  0.      ,  0.      ],\n",
       "       [ 0.      ,  0.      , -0.5     , -0.5     , -0.5     , -0.5     ,\n",
       "         0.      ,  0.      ,  0.      ,  0.      ],\n",
       "       [ 0.      ,  0.      ,  0.      ,  0.      ,  0.      ,  0.      ,\n",
       "         0.5     ,  0.5     ,  0.5     ,  0.5     ],\n",
       "       [-0.      , -0.      , -0.      , -0.      , -0.      , -0.      ,\n",
       "        -0.5     ,  0.5     ,  0.5     , -0.5     ],\n",
       "       [ 0.      ,  0.      ,  0.      ,  0.      ,  0.      ,  0.      ,\n",
       "        -0.5     ,  0.5     , -0.5     ,  0.5     ],\n",
       "       [ 0.      ,  0.      ,  0.      ,  0.      ,  0.      ,  0.      ,\n",
       "         0.5     ,  0.5     , -0.5     , -0.5     ]])"
      ]
     },
     "execution_count": 596,
     "metadata": {},
     "output_type": "execute_result"
    }
   ],
   "source": [
    "Hvecs_a"
   ]
  },
  {
   "cell_type": "code",
   "execution_count": 363,
   "id": "51de9887",
   "metadata": {},
   "outputs": [
    {
     "name": "stdout",
     "output_type": "stream",
     "text": [
      " -0.707107 |L=-1,l=1,Sigma=0.5,K=0,P=0.5,J=0.5> \n",
      "\n",
      " -0.707107 |L=1,l=-1,Sigma=-0.5,K=0,P=-0.5,J=0.5> \n",
      "\n",
      "\n",
      "\n",
      " -0.707107 |L=-1,l=-1,Sigma=0.5,K=-2,P=-1.5,J=1.5> \n",
      "\n",
      " 0.707107 |L=1,l=1,Sigma=-0.5,K=2,P=1.5,J=1.5> \n",
      "\n",
      "\n",
      "\n",
      " 0.707107 |L=-1,l=1,Sigma=0.5,K=0,P=0.5,J=1.5> \n",
      "\n",
      " -0.707107 |L=1,l=-1,Sigma=-0.5,K=0,P=-0.5,J=1.5> \n",
      "\n",
      "\n",
      "\n",
      " -0.707107 |L=-1,l=-1,Sigma=0.5,K=-2,P=-1.5,J=2.5> \n",
      "\n",
      " -0.707107 |L=1,l=1,Sigma=-0.5,K=2,P=1.5,J=2.5> \n",
      "\n",
      "\n",
      "\n",
      " -0.707107 |L=-1,l=1,Sigma=0.5,K=0,P=0.5,J=2.5> \n",
      "\n",
      " -0.707107 |L=1,l=-1,Sigma=-0.5,K=0,P=-0.5,J=2.5> \n",
      "\n",
      "\n",
      "\n",
      " -0.707107 |L=-1,l=-1,Sigma=0.5,K=-2,P=-1.5,J=1.5> \n",
      "\n",
      " -0.707107 |L=1,l=1,Sigma=-0.5,K=2,P=1.5,J=1.5> \n",
      "\n",
      "\n",
      "\n",
      " -0.707107 |L=-1,l=-1,Sigma=0.5,K=-2,P=-1.5,J=2.5> \n",
      "\n",
      " 0.707107 |L=1,l=1,Sigma=-0.5,K=2,P=1.5,J=2.5> \n",
      "\n",
      "\n",
      "\n",
      " -0.707107 |L=-1,l=1,Sigma=0.5,K=0,P=0.5,J=0.5> \n",
      "\n",
      " 0.707107 |L=1,l=-1,Sigma=-0.5,K=0,P=-0.5,J=0.5> \n",
      "\n",
      "\n",
      "\n",
      " 0.707107 |L=-1,l=1,Sigma=0.5,K=0,P=0.5,J=2.5> \n",
      "\n",
      " -0.707107 |L=1,l=-1,Sigma=-0.5,K=0,P=-0.5,J=2.5> \n",
      "\n",
      "\n",
      "\n",
      " -0.707107 |L=-1,l=1,Sigma=0.5,K=0,P=0.5,J=1.5> \n",
      "\n",
      " -0.707107 |L=1,l=-1,Sigma=-0.5,K=0,P=-0.5,J=1.5> \n",
      "\n",
      "\n",
      "\n"
     ]
    }
   ],
   "source": [
    "for s in Pvecs_a:\n",
    "    write_state(s,qnA,'a')\n",
    "    print('\\n')"
   ]
  },
  {
   "cell_type": "code",
   "execution_count": 382,
   "id": "4671ab37",
   "metadata": {},
   "outputs": [
    {
     "name": "stdout",
     "output_type": "stream",
     "text": [
      " 0.5 |L=-1,l=-1,Sigma=0.5,K=-2,P=-1.5,J=1.5> \n",
      "\n",
      " 0.5 |L=-1,l=1,Sigma=0.5,K=0,P=0.5,J=1.5> \n",
      "\n",
      " -0.5 |L=1,l=-1,Sigma=-0.5,K=0,P=-0.5,J=1.5> \n",
      "\n",
      " -0.5 |L=1,l=1,Sigma=-0.5,K=2,P=1.5,J=1.5> \n",
      "\n",
      "\n",
      "\n",
      " -0.5 |L=-1,l=-1,Sigma=0.5,K=-2,P=-1.5,J=2.5> \n",
      "\n",
      " 0.5 |L=-1,l=1,Sigma=0.5,K=0,P=0.5,J=2.5> \n",
      "\n",
      " 0.5 |L=1,l=-1,Sigma=-0.5,K=0,P=-0.5,J=2.5> \n",
      "\n",
      " -0.5 |L=1,l=1,Sigma=-0.5,K=2,P=1.5,J=2.5> \n",
      "\n",
      "\n",
      "\n",
      " -0.707107 |L=-1,l=1,Sigma=0.5,K=0,P=0.5,J=0.5> \n",
      "\n",
      " -0.707107 |L=1,l=-1,Sigma=-0.5,K=0,P=-0.5,J=0.5> \n",
      "\n",
      "\n",
      "\n",
      " -0.5 |L=-1,l=-1,Sigma=0.5,K=-2,P=-1.5,J=2.5> \n",
      "\n",
      " -0.5 |L=-1,l=1,Sigma=0.5,K=0,P=0.5,J=2.5> \n",
      "\n",
      " -0.5 |L=1,l=-1,Sigma=-0.5,K=0,P=-0.5,J=2.5> \n",
      "\n",
      " -0.5 |L=1,l=1,Sigma=-0.5,K=2,P=1.5,J=2.5> \n",
      "\n",
      "\n",
      "\n",
      " 0.5 |L=-1,l=-1,Sigma=0.5,K=-2,P=-1.5,J=1.5> \n",
      "\n",
      " -0.5 |L=-1,l=1,Sigma=0.5,K=0,P=0.5,J=1.5> \n",
      "\n",
      " 0.5 |L=1,l=-1,Sigma=-0.5,K=0,P=-0.5,J=1.5> \n",
      "\n",
      " -0.5 |L=1,l=1,Sigma=-0.5,K=2,P=1.5,J=1.5> \n",
      "\n",
      "\n",
      "\n",
      " 0.5 |L=-1,l=-1,Sigma=0.5,K=-2,P=-1.5,J=2.5> \n",
      "\n",
      " 0.5 |L=-1,l=1,Sigma=0.5,K=0,P=0.5,J=2.5> \n",
      "\n",
      " -0.5 |L=1,l=-1,Sigma=-0.5,K=0,P=-0.5,J=2.5> \n",
      "\n",
      " -0.5 |L=1,l=1,Sigma=-0.5,K=2,P=1.5,J=2.5> \n",
      "\n",
      "\n",
      "\n",
      " 0.5 |L=-1,l=-1,Sigma=0.5,K=-2,P=-1.5,J=1.5> \n",
      "\n",
      " -0.5 |L=-1,l=1,Sigma=0.5,K=0,P=0.5,J=1.5> \n",
      "\n",
      " -0.5 |L=1,l=-1,Sigma=-0.5,K=0,P=-0.5,J=1.5> \n",
      "\n",
      " 0.5 |L=1,l=1,Sigma=-0.5,K=2,P=1.5,J=1.5> \n",
      "\n",
      "\n",
      "\n",
      " -0.707107 |L=-1,l=1,Sigma=0.5,K=0,P=0.5,J=0.5> \n",
      "\n",
      " 0.707107 |L=1,l=-1,Sigma=-0.5,K=0,P=-0.5,J=0.5> \n",
      "\n",
      "\n",
      "\n",
      " -0.5 |L=-1,l=-1,Sigma=0.5,K=-2,P=-1.5,J=1.5> \n",
      "\n",
      " -0.5 |L=-1,l=1,Sigma=0.5,K=0,P=0.5,J=1.5> \n",
      "\n",
      " -0.5 |L=1,l=-1,Sigma=-0.5,K=0,P=-0.5,J=1.5> \n",
      "\n",
      " -0.5 |L=1,l=1,Sigma=-0.5,K=2,P=1.5,J=1.5> \n",
      "\n",
      "\n",
      "\n",
      " -0.5 |L=-1,l=-1,Sigma=0.5,K=-2,P=-1.5,J=2.5> \n",
      "\n",
      " 0.5 |L=-1,l=1,Sigma=0.5,K=0,P=0.5,J=2.5> \n",
      "\n",
      " -0.5 |L=1,l=-1,Sigma=-0.5,K=0,P=-0.5,J=2.5> \n",
      "\n",
      " 0.5 |L=1,l=1,Sigma=-0.5,K=2,P=1.5,J=2.5> \n",
      "\n",
      "\n",
      "\n"
     ]
    }
   ],
   "source": [
    "for s in Hvecs_a:\n",
    "    write_state(s,qnA,'a')\n",
    "    print('\\n')"
   ]
  },
  {
   "cell_type": "code",
   "execution_count": 378,
   "id": "6a2de8d9",
   "metadata": {},
   "outputs": [
    {
     "name": "stdout",
     "output_type": "stream",
     "text": [
      " 0.5 |L=-1,l=-1,Sigma=0.5,K=-2,P=-1.5,J=2.5> \n",
      "\n",
      " -0.5 |L=-1,l=1,Sigma=0.5,K=0,P=0.5,J=2.5> \n",
      "\n",
      " -0.5 |L=1,l=-1,Sigma=-0.5,K=0,P=-0.5,J=2.5> \n",
      "\n",
      " 0.5 |L=1,l=1,Sigma=-0.5,K=2,P=1.5,J=2.5> \n",
      "\n",
      "\n",
      "\n",
      " -0.5 |L=-1,l=-1,Sigma=0.5,K=-2,P=-1.5,J=1.5> \n",
      "\n",
      " -0.5 |L=-1,l=1,Sigma=0.5,K=0,P=0.5,J=1.5> \n",
      "\n",
      " 0.5 |L=1,l=-1,Sigma=-0.5,K=0,P=-0.5,J=1.5> \n",
      "\n",
      " 0.5 |L=1,l=1,Sigma=-0.5,K=2,P=1.5,J=1.5> \n",
      "\n",
      "\n",
      "\n",
      " -0.5 |L=-1,l=-1,Sigma=0.5,K=-2,P=-1.5,J=1.5> \n",
      "\n",
      " 0.5 |L=-1,l=1,Sigma=0.5,K=0,P=0.5,J=1.5> \n",
      "\n",
      " 0.5 |L=1,l=-1,Sigma=-0.5,K=0,P=-0.5,J=1.5> \n",
      "\n",
      " -0.5 |L=1,l=1,Sigma=-0.5,K=2,P=1.5,J=1.5> \n",
      "\n",
      "\n",
      "\n",
      " -0.707107 |L=-1,l=1,Sigma=0.5,K=0,P=0.5,J=0.5> \n",
      "\n",
      " -0.707107 |L=1,l=-1,Sigma=-0.5,K=0,P=-0.5,J=0.5> \n",
      "\n",
      "\n",
      "\n",
      " 0.5 |L=-1,l=-1,Sigma=0.5,K=-2,P=-1.5,J=2.5> \n",
      "\n",
      " 0.5 |L=-1,l=1,Sigma=0.5,K=0,P=0.5,J=2.5> \n",
      "\n",
      " -0.5 |L=1,l=-1,Sigma=-0.5,K=0,P=-0.5,J=2.5> \n",
      "\n",
      " -0.5 |L=1,l=1,Sigma=-0.5,K=2,P=1.5,J=2.5> \n",
      "\n",
      "\n",
      "\n",
      " -0.707107 |L=-1,l=1,Sigma=0.5,K=0,P=0.5,J=0.5> \n",
      "\n",
      " 0.707107 |L=1,l=-1,Sigma=-0.5,K=0,P=-0.5,J=0.5> \n",
      "\n",
      "\n",
      "\n",
      " 0.5 |L=-1,l=-1,Sigma=0.5,K=-2,P=-1.5,J=2.5> \n",
      "\n",
      " 0.5 |L=-1,l=1,Sigma=0.5,K=0,P=0.5,J=2.5> \n",
      "\n",
      " 0.5 |L=1,l=-1,Sigma=-0.5,K=0,P=-0.5,J=2.5> \n",
      "\n",
      " 0.5 |L=1,l=1,Sigma=-0.5,K=2,P=1.5,J=2.5> \n",
      "\n",
      "\n",
      "\n",
      " -0.5 |L=-1,l=-1,Sigma=0.5,K=-2,P=-1.5,J=1.5> \n",
      "\n",
      " 0.5 |L=-1,l=1,Sigma=0.5,K=0,P=0.5,J=1.5> \n",
      "\n",
      " -0.5 |L=1,l=-1,Sigma=-0.5,K=0,P=-0.5,J=1.5> \n",
      "\n",
      " 0.5 |L=1,l=1,Sigma=-0.5,K=2,P=1.5,J=1.5> \n",
      "\n",
      "\n",
      "\n",
      " -0.5 |L=-1,l=-1,Sigma=0.5,K=-2,P=-1.5,J=1.5> \n",
      "\n",
      " -0.5 |L=-1,l=1,Sigma=0.5,K=0,P=0.5,J=1.5> \n",
      "\n",
      " -0.5 |L=1,l=-1,Sigma=-0.5,K=0,P=-0.5,J=1.5> \n",
      "\n",
      " -0.5 |L=1,l=1,Sigma=-0.5,K=2,P=1.5,J=1.5> \n",
      "\n",
      "\n",
      "\n",
      " 0.5 |L=-1,l=-1,Sigma=0.5,K=-2,P=-1.5,J=2.5> \n",
      "\n",
      " -0.5 |L=-1,l=1,Sigma=0.5,K=0,P=0.5,J=2.5> \n",
      "\n",
      " 0.5 |L=1,l=-1,Sigma=-0.5,K=0,P=-0.5,J=2.5> \n",
      "\n",
      " -0.5 |L=1,l=1,Sigma=-0.5,K=2,P=1.5,J=2.5> \n",
      "\n",
      "\n",
      "\n"
     ]
    }
   ],
   "source": [
    "for s in Hvecs_a:\n",
    "    write_state(s,qnA,'a')\n",
    "    print('\\n')"
   ]
  },
  {
   "cell_type": "code",
   "execution_count": null,
   "id": "d0f14ee1",
   "metadata": {},
   "outputs": [],
   "source": []
  },
  {
   "cell_type": "code",
   "execution_count": 358,
   "id": "3f606c43",
   "metadata": {},
   "outputs": [
    {
     "data": {
      "text/plain": [
       "array([ 0.      ,  0.      , -0.707107,  0.707107,  0.      ,  0.      ,\n",
       "        0.      ,  0.      ])"
      ]
     },
     "execution_count": 358,
     "metadata": {},
     "output_type": "execute_result"
    }
   ],
   "source": [
    "for s in Hvecs_a:\n",
    "    write_state(s,qnA,'a')\n",
    "    print('\\n')"
   ]
  },
  {
   "cell_type": "code",
   "execution_count": 239,
   "id": "4dd7e7d8",
   "metadata": {},
   "outputs": [
    {
     "data": {
      "text/plain": [
       "array([[-1.       ,  0.       ,  0.       ,  0.       ],\n",
       "       [ 0.       ,  1.       ,  0.       ,  0.       ],\n",
       "       [ 0.       ,  0.       ,  0.8660254,  0.       ],\n",
       "       [ 0.       ,  0.       ,  0.5      ,  0.       ],\n",
       "       [ 0.       ,  0.       ,  0.       ,  0.5      ],\n",
       "       [ 0.       ,  0.       ,  0.       ,  0.8660254]])"
      ]
     },
     "execution_count": 239,
     "metadata": {},
     "output_type": "execute_result"
    }
   ],
   "source": [
    "b2a"
   ]
  },
  {
   "cell_type": "code",
   "execution_count": null,
   "id": "68da58f2",
   "metadata": {},
   "outputs": [],
   "source": [
    "converted_evecs = []\n",
    "        for i in range(len(evecs)):\n",
    "            converted_evecs.append(basis_matrix@evecs[i])\n",
    "        converted_evecs = np.array(converted_evecs)"
   ]
  },
  {
   "cell_type": "code",
   "execution_count": 250,
   "id": "bb3b70eb",
   "metadata": {},
   "outputs": [],
   "source": [
    "converted=np.array([b2a@Pvec for Pvec in Pvecs_b])"
   ]
  },
  {
   "cell_type": "code",
   "execution_count": 247,
   "id": "6ac7a7ae",
   "metadata": {},
   "outputs": [
    {
     "data": {
      "text/plain": [
       "array([ 0.707107, -0.707107,  0.      ,  0.      ])"
      ]
     },
     "execution_count": 247,
     "metadata": {},
     "output_type": "execute_result"
    }
   ],
   "source": [
    "(b2a@Pvecs_b)[0]"
   ]
  },
  {
   "cell_type": "code",
   "execution_count": 218,
   "id": "dbfa714b",
   "metadata": {},
   "outputs": [
    {
     "data": {
      "text/plain": [
       "array([[-0.30618641, -0.30618641, -0.30618641, -0.30618641],\n",
       "       [-0.65811429,  0.34188633, -0.65811429,  0.34188633],\n",
       "       [ 0.27386145,  0.27386145,  0.27386145,  0.27386145],\n",
       "       [-0.30618641, -0.30618641,  0.30618641,  0.30618641],\n",
       "       [-0.27386145, -0.27386145,  0.27386145,  0.27386145],\n",
       "       [-0.34188633,  0.65811429,  0.34188633, -0.65811429]])"
      ]
     },
     "execution_count": 218,
     "metadata": {},
     "output_type": "execute_result"
    }
   ],
   "source": [
    "(Pvecs_a@TDM@b2a@Pvecs_b.T)"
   ]
  },
  {
   "cell_type": "code",
   "execution_count": null,
   "id": "57ce0d42",
   "metadata": {},
   "outputs": [],
   "source": [
    "Pvecs_b"
   ]
  },
  {
   "cell_type": "code",
   "execution_count": 143,
   "id": "30de258a",
   "metadata": {},
   "outputs": [
    {
     "data": {
      "text/plain": [
       "{'Lambda': [-1, 1, -1, -1, 1, 1],\n",
       " 'l': [1, -1, -1, 1, -1, 1],\n",
       " 'Sigma': [0.5, -0.5, 0.5, 0.5, -0.5, -0.5],\n",
       " 'K': [0, 0, -2, 0, 0, 2],\n",
       " 'Omega': [-0.5, 0.5, -0.5, -0.5, 0.5, 0.5],\n",
       " 'P': [0.5, -0.5, -1.5, 0.5, -0.5, 1.5],\n",
       " 'J': [0.5, 0.5, 1.5, 1.5, 1.5, 1.5]}"
      ]
     },
     "execution_count": 143,
     "metadata": {},
     "output_type": "execute_result"
    }
   ],
   "source": [
    "qnA"
   ]
  },
  {
   "cell_type": "code",
   "execution_count": 145,
   "id": "20f3ca71",
   "metadata": {},
   "outputs": [
    {
     "data": {
      "text/plain": [
       "{'Lambda': [0, 0, 0, 0],\n",
       " 'l': [-1, 1, -1, 1],\n",
       " 'K': [-1, 1, -1, 1],\n",
       " 'N': [1, 1, 1, 1],\n",
       " 'J': [0.5, 0.5, 1.5, 1.5]}"
      ]
     },
     "execution_count": 145,
     "metadata": {},
     "output_type": "execute_result"
    }
   ],
   "source": [
    "qnXb"
   ]
  },
  {
   "cell_type": "code",
   "execution_count": 146,
   "id": "e4357fd9",
   "metadata": {},
   "outputs": [
    {
     "data": {
      "text/plain": [
       "{'Lambda': [0, 0, 0, 0, 0, 0],\n",
       " 'l': [-1, 1, -1, -1, 1, 1],\n",
       " 'Sigma': [0.5, -0.5, -0.5, 0.5, -0.5, 0.5],\n",
       " 'K': [-1, 1, -1, -1, 1, 1],\n",
       " 'Omega': [0.5, -0.5, -0.5, 0.5, -0.5, 0.5],\n",
       " 'P': [-0.5, 0.5, -1.5, -0.5, 0.5, 1.5],\n",
       " 'J': [0.5, 0.5, 1.5, 1.5, 1.5, 1.5]}"
      ]
     },
     "execution_count": 146,
     "metadata": {},
     "output_type": "execute_result"
    }
   ],
   "source": [
    "qnXa"
   ]
  },
  {
   "cell_type": "code",
   "execution_count": 147,
   "id": "45df4834",
   "metadata": {},
   "outputs": [],
   "source": [
    "nA = len(qnA['J'])\n",
    "nXb = len(qnXb['J'])\n",
    "nXa = len(qnXa['J'])\n",
    "qA_basis = [signal.unit_impulse(nA,i) for i in range(nA)]\n",
    "qXb_basis = [signal.unit_impulse(nXb,i) for i in range(nXb)]\n",
    "qXa_basis = [signal.unit_impulse(nXa,i) for i in range(nXa)]"
   ]
  },
  {
   "cell_type": "code",
   "execution_count": 148,
   "id": "39d5fe88",
   "metadata": {},
   "outputs": [
    {
     "data": {
      "text/plain": [
       "array([[-1.       ,  0.       ,  0.       ,  0.       ],\n",
       "       [ 0.       ,  1.       ,  0.       ,  0.       ],\n",
       "       [ 0.       ,  0.       ,  0.8660254,  0.       ],\n",
       "       [ 0.       ,  0.       ,  0.5      ,  0.       ],\n",
       "       [ 0.       ,  0.       ,  0.       ,  0.5      ],\n",
       "       [ 0.       ,  0.       ,  0.       ,  0.8660254]])"
      ]
     },
     "execution_count": 148,
     "metadata": {},
     "output_type": "execute_result"
    }
   ],
   "source": [
    "b2a = convert_abBJ(qnXb,qnXa,S=1/2)\n",
    "b2a"
   ]
  },
  {
   "cell_type": "code",
   "execution_count": null,
   "id": "5721989e",
   "metadata": {},
   "outputs": [],
   "source": []
  },
  {
   "cell_type": "code",
   "execution_count": 140,
   "id": "64f774fc",
   "metadata": {},
   "outputs": [
    {
     "data": {
      "text/plain": [
       "{'K': [-1, 1, -1, 1],\n",
       " 'N': [1, 1, 1, 1],\n",
       " 'J': [0.5, 0.5, 1.5, 1.5],\n",
       " 'F': [0.5, 0.5, 1.5, 1.5],\n",
       " 'M': [0.5, 0.5, 0.5, 0.5]}"
      ]
     },
     "execution_count": 140,
     "metadata": {},
     "output_type": "execute_result"
    }
   ],
   "source": [
    "qnB"
   ]
  },
  {
   "cell_type": "code",
   "execution_count": 141,
   "id": "88030293",
   "metadata": {},
   "outputs": [
    {
     "data": {
      "text/plain": [
       "{'Lambda': [-1, 1, -1, -1, 1, 1],\n",
       " 'l': [1, -1, -1, 1, -1, 1],\n",
       " 'Sigma': [0.5, -0.5, 0.5, 0.5, -0.5, -0.5],\n",
       " 'K': [0, 0, -2, 0, 0, 2],\n",
       " 'Omega': [-0.5, 0.5, -0.5, -0.5, 0.5, 0.5],\n",
       " 'P': [0.5, -0.5, -1.5, 0.5, -0.5, 1.5],\n",
       " 'J': [0.5, 0.5, 1.5, 1.5, 1.5, 1.5]}"
      ]
     },
     "execution_count": 141,
     "metadata": {},
     "output_type": "execute_result"
    }
   ],
   "source": [
    "qnA"
   ]
  },
  {
   "cell_type": "code",
   "execution_count": 92,
   "id": "0c4ed5de",
   "metadata": {},
   "outputs": [
    {
     "data": {
      "text/plain": [
       "array([[ 0.       ,  1.       ,  0.       ,  0.       ],\n",
       "       [-1.       ,  0.       ,  0.       ,  0.       ],\n",
       "       [ 0.       ,  0.       ,  0.8660254,  0.       ],\n",
       "       [ 0.       ,  0.       ,  0.       ,  0.5      ],\n",
       "       [ 0.       ,  0.       ,  0.5      ,  0.       ],\n",
       "       [ 0.       ,  0.       ,  0.       ,  0.8660254]])"
      ]
     },
     "execution_count": 92,
     "metadata": {},
     "output_type": "execute_result"
    }
   ],
   "source": [
    "b2a = convert_abBJ(qnB,qnA,S=1/2)\n",
    "b2a"
   ]
  },
  {
   "cell_type": "code",
   "execution_count": 93,
   "id": "50f9f5a2",
   "metadata": {},
   "outputs": [
    {
     "data": {
      "text/plain": [
       "array([ 0., -1.,  0.,  0.,  0.,  0.])"
      ]
     },
     "execution_count": 93,
     "metadata": {},
     "output_type": "execute_result"
    }
   ],
   "source": [
    "b2a@qB_basis[0]"
   ]
  },
  {
   "cell_type": "code",
   "execution_count": 109,
   "id": "0e709998",
   "metadata": {},
   "outputs": [
    {
     "name": "stdout",
     "output_type": "stream",
     "text": [
      "N=1, J=1.5, p=1\n"
     ]
    },
    {
     "data": {
      "text/plain": [
       "array([0.        , 0.        , 0.61237244, 0.35355339, 0.35355339,\n",
       "       0.61237244])"
      ]
     },
     "execution_count": 109,
     "metadata": {},
     "output_type": "execute_result"
    }
   ],
   "source": [
    "N=1\n",
    "i1 = 2\n",
    "i2 = i1+1\n",
    "p = 1\n",
    "\n",
    "qnB = q_numbers_even_bBJ([N],1,S=1/2,I_list=[0,0],M_values='none',M_range=[])\n",
    "qnA = q_numbers_even_aBJ([N],K_mag=1,S=1/2,I_list=[0,0],M_values='none',P_values=[1/2,3/2],M_range=[])\n",
    "n = len(qnB['J'])\n",
    "qB_basis = [signal.unit_impulse(n,i) for i in range(n)]\n",
    "b2a = convert_abBJ(qnB,qnA,S=1/2)\n",
    "\n",
    "print('N={}, J={}, p={}'.format(qnB['N'][i1],qnB['J'][i1],p))\n",
    "b2a@(qB_basis[i1]/np.sqrt(2) + p*(-1)**(qnB['J'][i1]-1/2+1)*qB_basis[i2]/np.sqrt(2))"
   ]
  },
  {
   "cell_type": "code",
   "execution_count": 30,
   "id": "4a183488",
   "metadata": {},
   "outputs": [],
   "source": [
    "n = len(b2a)"
   ]
  },
  {
   "cell_type": "code",
   "execution_count": 31,
   "id": "56e8b757",
   "metadata": {},
   "outputs": [],
   "source": [
    "from scipy import signal\n",
    "qB_basis = [signal.unit_impulse(n,i) for i in range(n)]"
   ]
  },
  {
   "cell_type": "code",
   "execution_count": 44,
   "id": "00b23477",
   "metadata": {},
   "outputs": [
    {
     "data": {
      "text/plain": [
       "array([0., 0., 0., 0., 0., 1.])"
      ]
     },
     "execution_count": 44,
     "metadata": {},
     "output_type": "execute_result"
    }
   ],
   "source": [
    "(qB_basis[-1]).T"
   ]
  },
  {
   "cell_type": "code",
   "execution_count": null,
   "id": "bd0a3e4c",
   "metadata": {},
   "outputs": [],
   "source": [
    "convert_abBJ(input_qnumbers,output_qnumbers,S=1/2):"
   ]
  },
  {
   "cell_type": "code",
   "execution_count": null,
   "id": "e9896742",
   "metadata": {},
   "outputs": [],
   "source": []
  },
  {
   "cell_type": "code",
   "execution_count": null,
   "id": "702d9a82",
   "metadata": {},
   "outputs": [],
   "source": []
  },
  {
   "cell_type": "code",
   "execution_count": null,
   "id": "9d3d67ae",
   "metadata": {},
   "outputs": [],
   "source": []
  },
  {
   "cell_type": "markdown",
   "id": "69fd6dca",
   "metadata": {},
   "source": [
    "There are two papers with effective Hamiltonians.\n",
    "Earlier is the SrOH paper:\n",
    "https://aip.scitation.org/doi/10.1063/1.468171\n",
    "\n",
    "And later on is the CaOH paper:\n",
    "https://aip.scitation.org/doi/10.1063/1.468643\n",
    "\n",
    "The CaOH result has gK"
   ]
  },
  {
   "cell_type": "code",
   "execution_count": 5,
   "id": "0c75c686",
   "metadata": {},
   "outputs": [],
   "source": [
    "params_A010 ={\n",
    "    'Tev': 16360.3890,\n",
    "    'A': 67.0951,\n",
    "    'ADdelt': 0.1232e-3,\n",
    "    'ADsig': 0.140e-2,\n",
    "    'AH': -0.140e-6,\n",
    "    'ew2': -36.2634,\n",
    "    'eDw2': 0.741e-3,\n",
    "    'gK': 0.5937,\n",
    "    'Bdelt': 0.3402609,\n",
    "    'Bsig': 0.3402123,\n",
    "    'Ddelt': 0.3976e-6,\n",
    "    'Dsig': 0.399e-6,\n",
    "    'gam': 0.02617,\n",
    "    'gamD': -0.119e-4,\n",
    "    'pe': -0.04472,\n",
    "    'qe': -0.3072e-3,\n",
    "    'qv': -0.6978e-3,\n",
    "    'eps': -0.099,\n",
    "}\n",
    "\n",
    "def CaOH_A010(J,ef_parity,params):\n",
    "    n=4\n",
    "    H = np.zeros((n,n))\n",
    "    z=(J+1/2)**2\n",
    "    p=params\n",
    "    \n",
    "    Tev = p['Tev']\n",
    "    gK = p['gK']\n",
    "    eps = p['eps']\n",
    "    A = p['A']\n",
    "    ADd = p['ADdelt']\n",
    "    ADs = p['ADsig']\n",
    "    AH = p['AH']\n",
    "    ew2 = p['ew2']\n",
    "    eDw2 = p['eDw2']\n",
    "    Bd = p['Bdelt']\n",
    "    Bs = p['Bsig']\n",
    "    Dd = p['Ddelt']\n",
    "    Ds = p['Dsig']\n",
    "    g = p['gam']\n",
    "    gD = p['gamD']\n",
    "    pe = p['pe']\n",
    "    qe = p['qe']\n",
    "    qv = p['qv']\n",
    "    \n",
    "    if J>3/2:\n",
    "        H[0,0] = Tev + 2*gK - 3/4*eps*ew2 + 1/2*A*(1-3/4*eps**2) + (Bd + 1/2*ADd)*(z-6) - (Dd - 1/2*AH*0)*(z**2 - 11*z + 32) - 1/2*g - 0*gD*(z-5)\n",
    "        H[0,1] = -(Bd - 1/2*g)*(z-4)**(1/2) + 2*Dd*(z-4)**(3/2) + 0*1/2*gD*(z-3)*(z-4)**(1/2)\n",
    "        H[0,2] = 1/2*qv*(z**2 - 5*z + 4)**(1/2)\n",
    "        H[0,3] = ef_parity*1/2*qe*(z**2 - 5*z + 4)**(1/2)\n",
    "        H[1:,0] = H[0,1:]\n",
    "    if J>1/2:\n",
    "        H[1,1] = Tev + 2*gK - 3/4*eps*ew2 - 1/2*A*(1-3/4*eps**2) + (Bd - 1/2*ADd)*(z-2) - (Dd + 1/2*AH*0)*z*(z-3) - 1/2*g - 0*gD*(z-3)\n",
    "        H[1,2] = (ef_parity*1/2*qe*z**(1/2) - qv)*(z-1)**(1/2) #Ambiguity on this term between SrOH and CaOH\n",
    "        H[1,3] = (-ef_parity*1/2*(pe + 2*qe) + 1/2*qv*z**(1/2))*(z-1)**(1/2)\n",
    "        H[2:,1] = H[1,2:]\n",
    "    H[2,2] = Tev - 1/4*eps*ew2 + 1/2*A*(1-1/4*eps**2) + (Bs + 1/2*ADs)*z - (Ds - 1/2*AH)*(z**2 + z) - ef_parity*eDw2*z**(1/2) - 1/2*g - gD*z\n",
    "    H[2,3] = ef_parity*ew2 - (Bs - 1/2*g)*z**(1/2) + 2*Ds*z**(3/2) + ef_parity*eDw2*z + 1/2*gD*(z+1)*z**(1/2)\n",
    "    H[3,2] = H[2,3]\n",
    "    H[3,3] = Tev - 1/4*eps*ew2 - 1/2*A*(1-1/4*eps**2) + (Bs - 1/2*ADs)*z - (Ds + 1/2*AH)*(z**2 + z) - ef_parity*eDw2*z**(1/2) - 1/2*g - gD*z\n",
    "    \n",
    "    \n",
    "    if J == 1/2:\n",
    "        H0 = H[2:,2:]\n",
    "#         print(H0)\n",
    "        return H0\n",
    "    elif J == 3/2:\n",
    "        H0 = H[1:,1:]\n",
    "#         print(H0)\n",
    "        return H0\n",
    "    else:\n",
    "#         print(H)\n",
    "        return H\n",
    "\n",
    "def A010(J,parity,params):\n",
    "    n=4\n",
    "    H = np.zeros((n,n))\n",
    "    z=(J+1/2)**2 - 1\n",
    "    p=params\n",
    "    \n",
    "    w2 = p['w2']\n",
    "    gK = p['gK']\n",
    "    e = p['eps']\n",
    "    A = p['A']\n",
    "    w2 = p['w2']\n",
    "    ew2 = p['ew2']\n",
    "    eDw2 = p['eDw2']\n",
    "    B = p['B']\n",
    "    pe = p['pe']\n",
    "    qe = p['qe']\n",
    "    qv = p['qv']\n",
    "    pv = p['pv']\n",
    "    gm = p['gamma']\n",
    "    \n",
    "    if J>3/2:\n",
    "        H[0,0] = 2*w2 + 2*gK - 3*(ew2)**2/(2*(2*w2 - A)) + 1/2*A + B*(z - 4) - D*(z**2 - 7*z + 13)\n",
    "        H[0,1] = -(z - 3)**(1/2)*(B - 1/2*gm - 2*D*(z-2))\n",
    "        H[0,2] = 1/2*qv*(z*(z - 1))**(1/2)\n",
    "        H[0,3] = parity*(-1)**(J-1/2)*1/2*qe*(z*(z-3))**(1/2)\n",
    "        H[1:,0] = H[0,1:]\n",
    "    if J>1/2:\n",
    "        H[1,1] = 2*w2 + 2*gK - 3*(ew2)**2/(2*(2*w2 + A)) - 1/2*A - gm + B*z - D*(z**2+z-3)\n",
    "        H[1,2] = parity*(-1)**(J-1/2)*qe*(z*(z+1))**(1/2) + 1/2*(pv+ 2*qv)*z**(1/2)\n",
    "        H[1,3] = -parity*(-1)**(J-1/2) * 1/2*(pe + 2*qe)*z**(1/2) - 1/2*qv*(z*(z+1))**(1/2)\n",
    "        if depert:\n",
    "            H[1,3]=0\n",
    "        H[2:,1] = H[1,2:]\n",
    "    H[2,2] = 2*w2 - (ew2)**2/(2*(2*w2 - A)) + 1/2*A + parity*(-1)**(J-1/2)*eDw2 * (J+1/2) + B*(z+2) - D*(z**2 + 5*z + 5)\n",
    "    H[2,3] = -(z+1)**(1/2)*(B - gm/2 -2*D*(z+2)) - parity*(-1)**(J-1/2)*ew2*(1+((ew2)**2*(8*w2**2 - 6*A**2))/(4*(4*w2**2-A**2))) - parity*(-1)**(J-1/2)*eDw2*(z+2)\n",
    "    H[3,2] = H[2,3]\n",
    "    H[3,3] = 2*w2 - (ew2)**2/(2*(2*w2 + A)) - 1/2*A - gm + parity*(-1)**(J-1/2) + B*(z+2) - D*(z**2 + 5*z + 5)\n",
    "    \n",
    "    \n",
    "    if J == 1/2:\n",
    "        H0 = H[2:,2:]\n",
    "#         print(H0)\n",
    "        return H0\n",
    "    elif J == 3/2:\n",
    "        H0 = H[1:,1:]\n",
    "#         print(H0)\n",
    "        return H0\n",
    "    else:\n",
    "#         print(H)\n",
    "        return H"
   ]
  },
  {
   "cell_type": "markdown",
   "id": "f86f2331",
   "metadata": {},
   "source": [
    "There is also the effective Hamiltonian form in the Brown computational molecular physics chapter. Let's use that, it's specifically for large spin-orbit"
   ]
  },
  {
   "cell_type": "code",
   "execution_count": null,
   "id": "3f8581dc",
   "metadata": {},
   "outputs": [],
   "source": []
  },
  {
   "cell_type": "code",
   "execution_count": 6,
   "id": "dc9c170d",
   "metadata": {},
   "outputs": [],
   "source": [
    "def A010(J,parity,params,depert=False):\n",
    "    n=4\n",
    "    H = np.zeros((n,n))\n",
    "    z=(J+1/2)**2 - 1\n",
    "    p=params\n",
    "    w2 = p['w2']\n",
    "    gK = p['gK']\n",
    "    A = p['A']\n",
    "    if 'e' in params:\n",
    "        e = p['e']\n",
    "        ew2 = e*w2\n",
    "    elif 'ew2' in params:\n",
    "        ew2 = p['ew2']\n",
    "    eDw2 = p['eDw2']\n",
    "    B = p['B']\n",
    "    D = p['D']\n",
    "    pe = p['pe']\n",
    "    if 'qe' in params:\n",
    "        qe = p['qe']\n",
    "    else:\n",
    "        qe = -pe*B/A\n",
    "    pv = p['pv']\n",
    "    if 'qv' in params:\n",
    "        qv = p['qv']    \n",
    "    else:    \n",
    "        qv = -pv*B/A\n",
    "    gm = p['gamma']\n",
    "    T0 = p['T0']\n",
    "    \n",
    "    if depert:\n",
    "        pe=0\n",
    "        qe=0\n",
    "        pv=0\n",
    "        qv=0\n",
    "    \n",
    "    ecorr = 1+1/4*ew2**2*((8*w2**2-6*A**2)/(4*w2**2-A**2)**2)\n",
    "    if J>3/2:\n",
    "        H[0,0] = T0+w2 + 2*gK - 3*(ew2)**2/(2*(2*w2 - A)) + 1/2*A + B*(z - 4) - D*(z**2 - 7*z + 13)\n",
    "        H[0,1] = -(z - 3)**(1/2)*(B - 1/2*gm - 2*D*(z-2))\n",
    "        H[0,2] = -1/2*qv*(z*(z - 1))**(1/2)\n",
    "        H[0,3] = parity*(-1)**(J-1/2-1)*1/2*qe*(z*(z-3))**(1/2)\n",
    "#         if depert:\n",
    "#             H[0,3] = 0\n",
    "        H[1:,0] = H[0,1:]\n",
    "    if J>1/2:\n",
    "        H[1,1] = T0+w2 + 2*gK - 3*(ew2)**2/(2*(2*w2 + A)) - 1/2*A - gm + B*z - D*(z**2+z-3)\n",
    "        H[1,2] = parity*(-1)**(J-1/2-1)*qe*(z*(z+1))**(1/2) + 1/2*(pv+ 2*qv)*z**(1/2)\n",
    "        H[1,3] = -parity*(-1)**(J-1/2-1) * 1/2*(pe + 2*qe)*z**(1/2) - 1/2*qv*(z*(z+1))**(1/2)\n",
    "#         if depert:\n",
    "#             H[1,3]=0\n",
    "        H[2:,1] = H[1,2:]\n",
    "    H[2,2] = T0+w2 - (ew2)**2/(2*(2*w2 - A)) + 1/2*A + parity*(-1)**(J-1/2-1)*eDw2 * (J+1/2) + B*(z+2) - D*(z**2 + 5*z + 5)\n",
    "    H[2,3] = -(z+1)**(1/2)*(B - gm/2 -2*D*(z+2)) - parity*(-1)**(J-1/2-1)*ew2*ecorr - parity*(-1)**(J-1/2-1)*eDw2*(z+2)\n",
    "#     if depert:\n",
    "#         H[2,3]=0\n",
    "    H[3,2] = H[2,3]\n",
    "    H[3,3] = T0+w2 - (ew2)**2/(2*(2*w2 + A)) - 1/2*A - gm + parity*(-1)**(J-1/2-1)*eDw2*(J+1/2) + B*(z+2) - D*(z**2 + 5*z + 5)    \n",
    "    if J == 1/2:\n",
    "        H0 = H[2:,2:]\n",
    "#         print(H0)\n",
    "        return H0\n",
    "    elif J == 3/2:\n",
    "        H0 = H[1:,1:]\n",
    "#         print(H0)\n",
    "        return H0\n",
    "    else:\n",
    "#         print(H)\n",
    "        return H"
   ]
  },
  {
   "cell_type": "code",
   "execution_count": 7,
   "id": "9db71753",
   "metadata": {},
   "outputs": [],
   "source": [
    "params = Parameters()\n",
    "params.add('w2', value=330,min=320,max=340,vary=False)\n",
    "params.add('A', value=1350,vary=False)\n",
    "params.add('D',value=0,vary=False)\n",
    "params.add('eDw2',value=0,vary=False)\n",
    "params.add('B', value=0.254,min=0.2,max=0.3,vary=False)\n",
    "params.add('pe',value=-0.5,min=-5,max=0,vary=True)\n",
    "params.add('qe',value=0.001,min=-1,max=1,vary=False)\n",
    "params.add('pv',value=-0.01,min=-5,max=5,vary=True)\n",
    "params.add('qv',value=-0.001,min=-1,max=1,vary=False)\n",
    "params.add('gK',value=0.2725,min=0,max=1,vary=True)\n",
    "params.add('gamma',-0.03,min=-5,max=5, vary=True)\n",
    "params.add('e',-0.05,min=-0.5,max=-0.001, vary=True)\n",
    "# params.add('ew2',-30,min=-50,max=0, vary=True)\n",
    "params.add('T0',17998.5875,min=17900,max=18000, vary=True)"
   ]
  },
  {
   "cell_type": "code",
   "execution_count": 10,
   "id": "d30c3f41",
   "metadata": {},
   "outputs": [],
   "source": [
    "Hp = A010(1/2,1,params)\n",
    "Hm = A010(1/2,-1,params)\n",
    "valsp,vecsp = np.linalg.eigh(Hp)\n",
    "valsm,vecsm = np.linalg.eigh(Hm)"
   ]
  },
  {
   "cell_type": "code",
   "execution_count": 11,
   "id": "43d6f4b0",
   "metadata": {},
   "outputs": [
    {
     "name": "stdout",
     "output_type": "stream",
     "text": [
      "[-393.93381519  393.93381519]\n",
      "[ 440.17659521  347.69069837 -787.8672938 ]\n",
      "[-6.33024753e+02 -5.48775346e+02  6.54383165e-07  1.18180010e+03]\n",
      "[ 8.28198155e+02  7.47533739e+02 -3.81723513e-06 -1.57573189e+03]\n"
     ]
    },
    {
     "data": {
      "text/plain": [
       "(-1.0, 1.0)"
      ]
     },
     "execution_count": 11,
     "metadata": {},
     "output_type": "execute_result"
    },
    {
     "data": {
      "image/png": "[encoded data removed]",
      "text/plain": [
       "<Figure size 1080x720 with 1 Axes>"
      ]
     },
     "metadata": {
      "needs_background": "light"
     },
     "output_type": "display_data"
    }
   ],
   "source": [
    "sub_B = False\n",
    "\n",
    "params_A010 = params\n",
    "plt.figure(figsize=(15,10))\n",
    "for J in np.arange(1/2,4):\n",
    "    Hp = A010(J,1,params_A010)\n",
    "    Hm = A010(J,-1,params_A010)\n",
    "    vals_p,vecs_p = np.linalg.eigh(Hp)\n",
    "    vals_m,vecs_m = np.linalg.eigh(Hm)\n",
    "    print((vals_p-vals_m)*29979.2458)\n",
    "    _J = [J for val in vals_p]\n",
    "    [plt.hlines(y=val,color='red',xmin=0.0,xmax=0.5) for val in vals_p]\n",
    "    [plt.annotate(f'{J}+',(0.55,val)) for val in vals_p]\n",
    "    [plt.hlines(y=val,color='blue',xmin=-0.5,xmax=-0.0) for val in vals_m]\n",
    "    [plt.annotate(f'{J}-',(-0.55,val)) for val in vals_m]\n",
    "\n",
    "# plt.ylim(33,40)\n",
    "plt.xlim(-1,1)"
   ]
  },
  {
   "cell_type": "code",
   "execution_count": 13,
   "id": "ce8b2abb",
   "metadata": {},
   "outputs": [],
   "source": [
    "def sig0_resid(params,data_p,data_m,Jmax=1/2,uncertainty=0.001, no_uncert=False):\n",
    "    theory_p = []\n",
    "    theory_m = []\n",
    "    for J in np.arange(1/2,Jmax+1):\n",
    "        HJp = A010(J,1,params)\n",
    "        HJm = A010(J,-1,params)\n",
    "        vals_p,vecs_p = np.linalg.eigh(HJp)\n",
    "        vals_m,vecs_m = np.linalg.eigh(HJm)\n",
    "        if J==1/2:\n",
    "            theory_p=vals_p.min()\n",
    "            theory_m=vals_m.min()\n",
    "        else:\n",
    "            theory_p.append(sorted(vals_p)[0])\n",
    "            theory_p.append(sorted(vals_p)[1])\n",
    "            theory_m.append(sorted(vals_m)[0])\n",
    "            theory_m.append(sorted(vals_m)[1])\n",
    "    all_data  = np.array([data_p,data_m])\n",
    "#     all_data-=all_data.min()\n",
    "    all_theory = np.array([theory_p,theory_m])\n",
    "#     all_theory-=all_theory.min()\n",
    "    if no_uncert:\n",
    "        uncertainty=1\n",
    "    resid = (all_data - all_theory)/uncertainty\n",
    "    return resid\n",
    "\n",
    "def A010_resid(params,data_p,data_m,Jmax=5/2,uncertainty = 0.001,no_uncert = False):\n",
    "    theory_p = []\n",
    "    theory_m = []\n",
    "    for J in np.arange(1/2,Jmax+1):\n",
    "        HJp = A010(J,1,params)\n",
    "        HJm = A010(J,-1,params)\n",
    "        vals_p,vecs_p = np.linalg.eigh(HJp)\n",
    "        vals_m,vecs_m = np.linalg.eigh(HJm)\n",
    "        if J==1/2:\n",
    "            theory_p.append(vals_p.min())\n",
    "            theory_m.append(vals_m.min())\n",
    "        else:\n",
    "            theory_p.append(sorted(vals_p)[0])\n",
    "            theory_p.append(sorted(vals_p)[1])\n",
    "            theory_m.append(sorted(vals_m)[0])\n",
    "            theory_m.append(sorted(vals_m)[1])\n",
    "    all_data  = np.concatenate((data_p,data_m))\n",
    "#     all_data-= all_data[0]\n",
    "    all_theory = np.concatenate((theory_p,theory_m))\n",
    "#     all_theory-=all_theory[0]\n",
    "    if no_uncert:\n",
    "        uncertainty=1\n",
    "    resid = (all_data - all_theory)/uncertainty\n",
    "    return resid"
   ]
  },
  {
   "cell_type": "code",
   "execution_count": 14,
   "id": "b0555003",
   "metadata": {},
   "outputs": [],
   "source": [
    "data_p = [17651.4518,17651.8628,17652.6353,17652.8624,17654.1210]\n",
    "data_m = [17651.4685,17651.8466,17652.6182,17652.8845,17654.1462]"
   ]
  },
  {
   "cell_type": "code",
   "execution_count": 15,
   "id": "fa676ee7",
   "metadata": {},
   "outputs": [],
   "source": [
    "%matplotlib inline"
   ]
  },
  {
   "cell_type": "code",
   "execution_count": 79,
   "id": "a492c388",
   "metadata": {},
   "outputs": [],
   "source": [
    "params = Parameters()\n",
    "params.add('w2', value=328,min=320,max=340,vary=True)\n",
    "params.add('A', value=1350,vary=False)\n",
    "params.add('D',value=0,vary=False)\n",
    "params.add('eDw2',value=0,vary=False)\n",
    "params.add('B', value=0.253,min=0.23,max=0.27,vary=True)\n",
    "params.add('pe',value=-0.4378,min=-5,max=5,vary=False)\n",
    "params.add('qe',value=0.00,min=-0.1,max=0.1,vary=False)\n",
    "params.add('pv',value=-0.4378,min=-5,max=5,vary=True)\n",
    "params.add('qv',value=0,min=-0.1,max=0.1,vary=False)\n",
    "params.add('gK',value=0.2458,min=-5,max=5,vary=True)\n",
    "params.add('gamma',0.0,min=-5,max=5, vary=False)\n",
    "# params.add('e',-0.1,min=-0.5,max=-0.01, vary=True)\n",
    "params.add('e',-0.05,min=-0.5,max=-0.001, vary=True)\n",
    "# params.add('ew2',-30,min=-50,max=-1, vary=True)\n",
    "params.add('T0',17998.5875,min=0,max=18010, vary=False)"
   ]
  },
  {
   "cell_type": "code",
   "execution_count": 80,
   "id": "9c1c90ab",
   "metadata": {},
   "outputs": [],
   "source": [
    "%matplotlib inline"
   ]
  },
  {
   "cell_type": "code",
   "execution_count": 81,
   "id": "5a143fdc",
   "metadata": {},
   "outputs": [
    {
     "data": {
      "image/png": "[encoded data removed]",
      "text/plain": [
       "<Figure size 432x288 with 1 Axes>"
      ]
     },
     "metadata": {
      "needs_background": "light"
     },
     "output_type": "display_data"
    }
   ],
   "source": [
    "initial_resid = A010_resid(params,data_p,data_m,no_uncert=True)\n",
    "plt.figure()\n",
    "plt.plot(initial_resid, 'bo')\n",
    "plt.axhline(y=0)\n",
    "plt.title('stdev = '+ str(initial_resid.std()))\n",
    "plt.show()"
   ]
  },
  {
   "cell_type": "code",
   "execution_count": 82,
   "id": "7839bc16",
   "metadata": {},
   "outputs": [
    {
     "name": "stdout",
     "output_type": "stream",
     "text": [
      "Name      Value      Min      Max   Stderr     Vary     Expr Brute_Step\n",
      "A          1350     -inf      inf     None    False     None     None\n",
      "B        0.2526     0.23     0.27     None     True     None     None\n",
      "D             0     -inf      inf     None    False     None     None\n",
      "T0      1.8e+04        0 1.801e+04     None    False     None     None\n",
      "e      -0.06571     -0.5   -0.001     None     True     None     None\n",
      "eDw2          0     -inf      inf     None    False     None     None\n",
      "gK       0.2193       -5        5     None     True     None     None\n",
      "gamma         0       -5        5     None    False     None     None\n",
      "pe      -0.4378       -5        5     None    False     None     None\n",
      "pv      -0.4588       -5        5     None     True     None     None\n",
      "qe            0     -0.1      0.1     None    False     None     None\n",
      "qv            0     -0.1      0.1     None    False     None     None\n",
      "w2        327.8      320      340     None     True     None     None\n"
     ]
    },
    {
     "data": {
      "image/png": "[encoded data removed]",
      "text/plain": [
       "<Figure size 432x288 with 1 Axes>"
      ]
     },
     "metadata": {
      "needs_background": "light"
     },
     "output_type": "display_data"
    }
   ],
   "source": [
    "out = minimize(A010_resid, params, args=([data_p,data_m]),method='nelder')#,kws={'flist':True})#,method='least_squares')\n",
    "out.params.pretty_print()\n",
    "final_resid = A010_resid(out.params,data_p,data_m,no_uncert=True)\n",
    "plt.figure()\n",
    "plt.plot(final_resid, 'bo')\n",
    "plt.axhline(y=0)\n",
    "plt.title('stdev = '+ str(final_resid.std()))\n",
    "plt.show()"
   ]
  },
  {
   "cell_type": "code",
   "execution_count": 83,
   "id": "5ff44558",
   "metadata": {},
   "outputs": [],
   "source": [
    "# Hm[0,1]**2/(1350) - Hp[0,1]**2/(1350)"
   ]
  },
  {
   "cell_type": "code",
   "execution_count": 84,
   "id": "4caca072",
   "metadata": {
    "scrolled": false
   },
   "outputs": [
    {
     "name": "stdout",
     "output_type": "stream",
     "text": [
      "Name      Value      Min      Max   Stderr     Vary     Expr Brute_Step\n",
      "A          1350     -inf      inf        0    False     None     None\n",
      "B        0.2526     0.23     0.27 0.0002332     True     None     None\n",
      "D             0     -inf      inf        0    False     None     None\n",
      "T0      1.8e+04        0 1.801e+04        0    False     None     None\n",
      "e      -0.06571     -0.5   -0.001 0.003471     True     None     None\n",
      "eDw2          0     -inf      inf        0    False     None     None\n",
      "gK       0.2193       -5        5 0.006105     True     None     None\n",
      "gamma         0       -5        5        0    False     None     None\n",
      "pe      -0.4378       -5        5        0    False     None     None\n",
      "pv      -0.4588       -5        5  0.04003     True     None     None\n",
      "qe            0     -0.1      0.1        0    False     None     None\n",
      "qv            0     -0.1      0.1        0    False     None     None\n",
      "w2        327.8      320      340  0.04857     True     None     None\n"
     ]
    },
    {
     "data": {
      "image/png": "[encoded data removed]",
      "text/plain": [
       "<Figure size 432x288 with 1 Axes>"
      ]
     },
     "metadata": {
      "needs_background": "light"
     },
     "output_type": "display_data"
    },
    {
     "data": {
      "text/html": [
       "<h2>Fit Statistics</h2><table><tr><td>fitting method</td><td>least_squares</td><td></td></tr><tr><td># function evals</td><td>7</td><td></td></tr><tr><td># data points</td><td>10</td><td></td></tr><tr><td># variables</td><td>5</td><td></td></tr><tr><td>chi-square</td><td> 13.5886367</td><td></td></tr><tr><td>reduced chi-square</td><td> 2.71772733</td><td></td></tr><tr><td>Akaike info crit.</td><td> 13.0664881</td><td></td></tr><tr><td>Bayesian info crit.</td><td> 14.5794136</td><td></td></tr></table><h2>Variables</h2><table><tr><th> name </th><th> value </th><th> standard error </th><th> relative error </th><th> initial value </th><th> min </th><th> max </th><th> vary </th></tr><tr><td> w2 </td><td>  327.826289 </td><td>  0.04856784 </td><td> (0.01%) </td><td> 327.8263195349186 </td><td>  320.000000 </td><td>  340.000000 </td><td> True </td></tr><tr><td> A </td><td>  1350.00000 </td><td>  0.00000000 </td><td> (0.00%) </td><td> 1350 </td><td>        -inf </td><td>         inf </td><td> False </td></tr><tr><td> D </td><td>  0.00000000 </td><td>  0.00000000 </td><td>  </td><td> 0 </td><td>        -inf </td><td>         inf </td><td> False </td></tr><tr><td> eDw2 </td><td>  0.00000000 </td><td>  0.00000000 </td><td>  </td><td> 0 </td><td>        -inf </td><td>         inf </td><td> False </td></tr><tr><td> B </td><td>  0.25264799 </td><td>  2.3317e-04 </td><td> (0.09%) </td><td> 0.25264809319417175 </td><td>  0.23000000 </td><td>  0.27000000 </td><td> True </td></tr><tr><td> pe </td><td> -0.43780000 </td><td>  0.00000000 </td><td> (0.00%) </td><td> -0.4378 </td><td> -5.00000000 </td><td>  5.00000000 </td><td> False </td></tr><tr><td> qe </td><td>  0.00000000 </td><td>  0.00000000 </td><td>  </td><td> 0.0 </td><td> -0.10000000 </td><td>  0.10000000 </td><td> False </td></tr><tr><td> pv </td><td> -0.45881847 </td><td>  0.04002970 </td><td> (8.72%) </td><td> -0.45876681191814583 </td><td> -5.00000000 </td><td>  5.00000000 </td><td> True </td></tr><tr><td> qv </td><td>  0.00000000 </td><td>  0.00000000 </td><td>  </td><td> 0 </td><td> -0.10000000 </td><td>  0.10000000 </td><td> False </td></tr><tr><td> gK </td><td>  0.21932750 </td><td>  0.00610538 </td><td> (2.78%) </td><td> 0.21932102975188528 </td><td> -5.00000000 </td><td>  5.00000000 </td><td> True </td></tr><tr><td> gamma </td><td>  0.00000000 </td><td>  0.00000000 </td><td>  </td><td> 0.0 </td><td> -5.00000000 </td><td>  5.00000000 </td><td> False </td></tr><tr><td> e </td><td> -0.06570934 </td><td>  0.00347121 </td><td> (5.28%) </td><td> -0.06571147908229324 </td><td> -0.50000000 </td><td> -1.0000e-03 </td><td> True </td></tr><tr><td> T0 </td><td>  17998.5875 </td><td>  0.00000000 </td><td> (0.00%) </td><td> 17998.5875 </td><td>  0.00000000 </td><td>  18010.0000 </td><td> False </td></tr></table><h2>Correlations (unreported correlations are < 0.100)</h2><table><tr><td>w2</td><td>e</td><td>-0.9997</td></tr><tr><td>w2</td><td>gK</td><td>-0.9646</td></tr><tr><td>gK</td><td>e</td><td>0.9620</td></tr><tr><td>pv</td><td>e</td><td>-0.6137</td></tr><tr><td>w2</td><td>pv</td><td>0.6127</td></tr><tr><td>pv</td><td>gK</td><td>-0.5609</td></tr><tr><td>B</td><td>gK</td><td>-0.1439</td></tr><tr><td>B</td><td>pv</td><td>-0.1029</td></tr></table>"
      ],
      "text/plain": [
       "<lmfit.minimizer.MinimizerResult at 0x17a325dcc88>"
      ]
     },
     "execution_count": 84,
     "metadata": {},
     "output_type": "execute_result"
    }
   ],
   "source": [
    "mini = lmfit.Minimizer(A010_resid, out.params, fcn_args=([data_p,data_m]))\n",
    "out2 = mini.minimize(method='least_squares')#,kws={'flist':True})#,method='least_squares')\n",
    "out2.params.pretty_print()\n",
    "final_resid2 = A010_resid(out2.params,data_p,data_m,no_uncert=True)\n",
    "plt.figure()\n",
    "plt.plot(final_resid2, 'bo')\n",
    "plt.axhline(y=0)\n",
    "plt.title('stdev = '+ str(final_resid2.std()))\n",
    "plt.show()\n",
    "out2"
   ]
  },
  {
   "cell_type": "code",
   "execution_count": 114,
   "id": "9b739c51",
   "metadata": {},
   "outputs": [
    {
     "data": {
      "text/plain": [
       "0.08"
      ]
     },
     "execution_count": 114,
     "metadata": {},
     "output_type": "execute_result"
    }
   ],
   "source": [
    "0.04*2"
   ]
  },
  {
   "cell_type": "code",
   "execution_count": 85,
   "id": "7c1c7d14",
   "metadata": {},
   "outputs": [
    {
     "name": "stdout",
     "output_type": "stream",
     "text": [
      "       99.73%    95.45%    68.27%    _BEST_    68.27%    95.45%    99.73%\n",
      " w2:  -0.22646  -0.11643  -0.05636 327.82629  +0.05813  +0.13928  +0.30756\n",
      " B :  -0.00128  -0.00062  -0.00026   0.25265  +0.00026  +0.00062  +0.00128\n",
      " pv:  -0.27508  -0.11599  -0.04585  -0.45882  +0.04282  +0.09786  +0.19083\n",
      " gK:  -0.03803  -0.01719  -0.00696   0.21933  +0.00661  +0.01520  +0.02944\n",
      " e :  -0.01909  -0.00918  -0.00385  -0.06571  +0.00385  +0.00917  +0.01906\n"
     ]
    }
   ],
   "source": [
    "ci, trace = lmfit.conf_interval(mini, out2, sigmas=[1, 2,3], trace=True)\n",
    "lmfit.printfuncs.report_ci(ci)"
   ]
  },
  {
   "cell_type": "code",
   "execution_count": 96,
   "id": "71b1a456",
   "metadata": {},
   "outputs": [],
   "source": [
    "ngrid = 39\n",
    "getlim = lambda x,nstd: (out2.params[x].value+out2.params[x].stderr*nstd,out2.params[x].value-out2.params[x].stderr*nstd)\n",
    "c_info = [\n",
    "    lmfit.conf_interval2d(mini, out2, 'gK', 'e', ngrid, ngrid,limits=(getlim('gK',5),getlim('e',5))),\n",
    "#     lmfit.conf_interval2d(mini, out2, 'gamma', 'e', 30, 30),\n",
    "    lmfit.conf_interval2d(mini, out2, 'w2', 'e', ngrid, ngrid,limits=(getlim('w2',5),getlim('e',5))),\n",
    "#     lmfit.conf_interval2d(mini, out2, 'gK', 'gamma', 30, 30),\n",
    "    lmfit.conf_interval2d(mini, out2, 'e', 'pv', ngrid, ngrid,limits=(getlim('e',5),getlim('pv',5))),\n",
    "    lmfit.conf_interval2d(mini, out2, 'gK', 'pv', ngrid, ngrid,limits=(getlim('gK',5),getlim('pv',5))),\n",
    "    lmfit.conf_interval2d(mini, out2, 'gK', 'w2', ngrid, ngrid,limits=(getlim('gK',5),getlim('w2',5))),\n",
    "    lmfit.conf_interval2d(mini, out2, 'pv', 'w2', ngrid, ngrid,limits=(getlim('pv',5),getlim('w2',5))),\n",
    "#     lmfit.conf_interval2d(mini, out2, 'w2', 'gamma', 30, 30)\n",
    "]"
   ]
  },
  {
   "cell_type": "code",
   "execution_count": 97,
   "id": "7cb48f0a",
   "metadata": {},
   "outputs": [],
   "source": [
    "xy_labels = [\n",
    "    ['$g_K$','$\\\\epsilon$'],\n",
    "#     ['$\\\\gamma$','$\\\\epsilon$'],\n",
    "    ['$\\\\omega_2$','$\\\\epsilon$'],\n",
    "    ['$\\\\epsilon$','$p_G$'],\n",
    "    ['$g_K$','$p_G$'],\n",
    "    #     ['$g_K$','$\\\\gamma$'],\n",
    "    ['$g_K$','$\\\\omega_2$'],\n",
    "    ['$p_G$','$\\\\omega_2$']\n",
    "]"
   ]
  },
  {
   "cell_type": "code",
   "execution_count": 98,
   "id": "9172d7d7",
   "metadata": {},
   "outputs": [],
   "source": [
    "plt.rcParams.update({'font.size': 10})\n",
    "save=r'C:\\Users\\Arian\\Dropbox (Hutzler Lab)\\HutzlerLabShared\\Personal\\ArianJadbabaie\\Thesis\\Ch4\\\\'\n",
    "import seaborn as sns\n",
    "sns.set()\n",
    "sns.set_style('ticks')\n",
    "sns.set_style({'ytick.direction':'in','xtick.direction':'in'})"
   ]
  },
  {
   "cell_type": "code",
   "execution_count": null,
   "id": "113187ac",
   "metadata": {},
   "outputs": [],
   "source": []
  },
  {
   "cell_type": "code",
   "execution_count": 109,
   "id": "db62c102",
   "metadata": {},
   "outputs": [
    {
     "data": {
      "image/png": "[encoded data removed]",
      "text/plain": [
       "<Figure size 396x504 with 7 Axes>"
      ]
     },
     "metadata": {},
     "output_type": "display_data"
    }
   ],
   "source": [
    "# plot confidence intervals\n",
    "fig, axes = plt.subplots(3, 2, figsize=(5.5, 7),constrained_layout=True,sharey='row')\n",
    "plt.suptitle('95% Confidence Intervals for $\\\\tilde{A}(010)$ Parameters',fontsize=14)\n",
    "axes = axes.flatten()\n",
    "\n",
    "for i,ax in enumerate(axes):\n",
    "#     if i==3:\n",
    "# #         ax.axis('off')\n",
    "#         pass\n",
    "#     else:\n",
    "    cx,cy,grid = c_info[i]\n",
    "    ctp = ax.contourf(cx, cy, grid,np.linspace(0, 0.95, 20),cmap='viridis')\n",
    "    ax.set_xlabel(xy_labels[i][0])\n",
    "    ax.set_ylabel(xy_labels[i][1])\n",
    "    if i==0:\n",
    "        ax.plot([out2.params['gK'].value],[out2.params['e'].value],marker='*',markersize=15,mfc='pink',mew=1,color='black')\n",
    "    if i==1:\n",
    "        ax.plot([out2.params['w2'].value],[out2.params['e'].value],marker='*',markersize=15,mfc='pink',mew=1,color='black')\n",
    "        ax.set_xlim(327.73,327.93)\n",
    "    if i==2:\n",
    "        ax.plot([out2.params['e'].value],[out2.params['pv'].value],marker='*',markersize=15,mfc='pink',mew=1,color='black')\n",
    "    if i==3:\n",
    "        ax.plot([out2.params['gK'].value],[out2.params['pv'].value],marker='*',markersize=15,mfc='pink',mew=1,color='black')\n",
    "    if i==4:\n",
    "        ax.plot([out2.params['gK'].value],[out2.params['w2'].value],marker='*',markersize=15,mfc='pink',mew=1,color='black')\n",
    "    if i==5:\n",
    "        ax.plot([out2.params['pv'].value],[out2.params['w2'].value],marker='*',markersize=15,mfc='pink',mew=1,color='black')\n",
    "\n",
    "#         ax.tick_params(axis='both')\n",
    "#         if i in [0,1]:\n",
    "#             ax.set_ylim(-0.078,-0.058)\n",
    "#         if i==0:\n",
    "#     # #             ax.set_xlim(0.195,0.235)\n",
    "#             ax.plot([out2.params['gK'].value],[out2.params['e'].value],marker='*',markersize=15,mfc='pink',mew=1,color='blue')\n",
    "#         if i==1:\n",
    "#     # #             ax.set_xlim(327.65,328)\n",
    "#             ax.plot([out2.params['w2'].value],[out2.params['e'].value],marker='*',markersize=15,mfc='pink',mew=1,color='blue')\n",
    "#         if i ==2:\n",
    "#             ax.plot([out2.params['gK'].value],[out2.params['w2'].value],marker='*',markersize=15,mfc='pink',mew=1,color='blue')\n",
    "#             ax.set_xlim(0.195,0.235)\n",
    "#             ax.set_ylim(0.2521,0.2531)\n",
    "cbar = fig.colorbar(ctp,ax=axes.tolist(),location='bottom')\n",
    "cbar.set_label('F-Test Confidence', rotation=0)\n",
    "plt.savefig(save+'A010_95p_e_gk_pG_w2.pdf',format='pdf')\n",
    "plt.savefig(save+'A010_95p_e_gk_pG_w2.svg',format='svg')"
   ]
  },
  {
   "cell_type": "code",
   "execution_count": 374,
   "id": "bcca7ff8",
   "metadata": {},
   "outputs": [
    {
     "data": {
      "text/plain": [
       "(array([327.72552086, 327.73074343, 327.735966  , 327.74118856,\n",
       "        327.74641113, 327.7516337 , 327.75685627, 327.76207884,\n",
       "        327.76730141, 327.77252397, 327.77774654, 327.78296911,\n",
       "        327.78819168, 327.79341425, 327.79863682, 327.80385938,\n",
       "        327.80908195, 327.81430452, 327.81952709, 327.82474966,\n",
       "        327.82997223, 327.83519479, 327.84041736, 327.84563993,\n",
       "        327.8508625 , 327.85608507, 327.86130764, 327.8665302 ,\n",
       "        327.87175277, 327.87697534, 327.88219791, 327.88742048,\n",
       "        327.89264304, 327.89786561, 327.90308818, 327.90831075,\n",
       "        327.91353332, 327.91875589, 327.92397845, 327.92920102]),\n",
       " array([-0.07160547, -0.07130722, -0.07100897, -0.07071072, -0.07041247,\n",
       "        -0.07011422, -0.06981597, -0.06951772, -0.06921947, -0.06892122,\n",
       "        -0.06862297, -0.06832472, -0.06802647, -0.06772822, -0.06742997,\n",
       "        -0.06713172, -0.06683347, -0.06653521, -0.06623696, -0.06593871,\n",
       "        -0.06564046, -0.06534221, -0.06504396, -0.06474571, -0.06444746,\n",
       "        -0.06414921, -0.06385096, -0.06355271, -0.06325446, -0.06295621,\n",
       "        -0.06265796, -0.06235971, -0.06206146, -0.06176321, -0.06146496,\n",
       "        -0.06116671, -0.06086846, -0.06057021, -0.06027196, -0.05997371]),\n",
       " array([[1.        , 1.        , 1.        , ..., 0.99997763, 0.99999865,\n",
       "         0.99999978],\n",
       "        [1.        , 1.        , 1.        , ..., 0.99999817, 0.99999973,\n",
       "         0.99999993],\n",
       "        [1.        , 1.        , 1.        , ..., 0.99999966, 0.99999992,\n",
       "         0.99999997],\n",
       "        ...,\n",
       "        [0.99999999, 0.99999998, 0.99999993, ..., 1.        , 1.        ,\n",
       "         1.        ],\n",
       "        [0.99999998, 0.99999995, 0.99999982, ..., 1.        , 1.        ,\n",
       "         1.        ],\n",
       "        [0.99999996, 0.99999987, 0.99999938, ..., 1.        , 1.        ,\n",
       "         1.        ]]))"
      ]
     },
     "execution_count": 374,
     "metadata": {},
     "output_type": "execute_result"
    }
   ],
   "source": [
    "c_info[1]"
   ]
  },
  {
   "cell_type": "code",
   "execution_count": 48,
   "id": "9c6483a3",
   "metadata": {},
   "outputs": [],
   "source": [
    "params = Parameters()\n",
    "params.add('w2', value=out2.params['w2'].value,min=320,max=340,vary=False)\n",
    "params.add('A', value=1350,vary=False)\n",
    "params.add('D',value=0,vary=False)\n",
    "params.add('eDw2',value=0,vary=False)\n",
    "params.add('B', value=out2.params['B'].value,min=0.23,max=0.27,vary=True)\n",
    "params.add('pe',value=-0.4378,min=-5,max=5,vary=False)\n",
    "# params.add('qe',value=0.001,min=-0.1,max=0.1,vary=True)\n",
    "params.add('pv',value=-0.4378,min=-5,max=5,vary=False)\n",
    "# params.add('qv',value=-0.001,min=-0.1,max=0.1,vary=True)\n",
    "params.add('gK',value=out2.params['gK'].value,min=-5,max=5,vary=True)\n",
    "params.add('gamma',out2.params['gamma'].value,min=-5,max=5, vary=False)\n",
    "params.add('e',out2.params['e'].value,min=-0.5,max=-0.001, vary=True)\n",
    "# params.add('ew2',out2.params['e'].value*out2.params['w2'].value,min=-50,max=-1, vary=True)\n",
    "params.add('T0',17998.5875,min=0,max=18010, vary=False)"
   ]
  },
  {
   "cell_type": "code",
   "execution_count": 49,
   "id": "fccf334e",
   "metadata": {},
   "outputs": [
    {
     "data": {
      "image/png": "[encoded data removed]",
      "text/plain": [
       "<Figure size 432x288 with 1 Axes>"
      ]
     },
     "metadata": {},
     "output_type": "display_data"
    }
   ],
   "source": [
    "initial_resid = A010_resid(params,data_p,data_m,no_uncert=True)\n",
    "plt.figure()\n",
    "plt.plot(initial_resid, 'bo')\n",
    "plt.axhline(y=0)\n",
    "plt.title('stdev = '+ str(initial_resid.std()))\n",
    "plt.show()"
   ]
  },
  {
   "cell_type": "code",
   "execution_count": 50,
   "id": "ab2c898a",
   "metadata": {},
   "outputs": [
    {
     "name": "stdout",
     "output_type": "stream",
     "text": [
      "Name      Value      Min      Max   Stderr     Vary     Expr Brute_Step\n",
      "A          1350     -inf      inf     None    False     None     None\n",
      "B        0.2526     0.23     0.27     None     True     None     None\n",
      "D             0     -inf      inf     None    False     None     None\n",
      "T0      1.8e+04        0 1.801e+04     None    False     None     None\n",
      "e      -0.06629     -0.5   -0.001     None     True     None     None\n",
      "eDw2          0     -inf      inf     None    False     None     None\n",
      "gK       0.2184       -5        5     None     True     None     None\n",
      "gamma         0       -5        5     None    False     None     None\n",
      "pe      -0.4378       -5        5     None    False     None     None\n",
      "pv      -0.4378       -5        5     None    False     None     None\n",
      "w2        327.8      320      340     None    False     None     None\n"
     ]
    },
    {
     "data": {
      "image/png": "[encoded data removed]",
      "text/plain": [
       "<Figure size 432x288 with 1 Axes>"
      ]
     },
     "metadata": {},
     "output_type": "display_data"
    }
   ],
   "source": [
    "out3 = minimize(A010_resid, params, args=([data_p,data_m]),method='nelder')#,kws={'flist':True})#,method='least_squares')\n",
    "out3.params.pretty_print()\n",
    "final_resid3 = A010_resid(out3.params,data_p,data_m,no_uncert=True)\n",
    "plt.figure()\n",
    "plt.plot(final_resid3, 'bo')\n",
    "plt.axhline(y=0)\n",
    "plt.title('stdev = '+ str(final_resid3.std()))\n",
    "plt.show()"
   ]
  },
  {
   "cell_type": "code",
   "execution_count": 51,
   "id": "b1280dfa",
   "metadata": {},
   "outputs": [
    {
     "name": "stdout",
     "output_type": "stream",
     "text": [
      "Name      Value      Min      Max   Stderr     Vary     Expr Brute_Step\n",
      "A          1350     -inf      inf        0    False     None     None\n",
      "B        0.2526     0.23     0.27 0.0001579     True     None     None\n",
      "D             0     -inf      inf        0    False     None     None\n",
      "T0      1.8e+04        0 1.801e+04        0    False     None     None\n",
      "e      -0.06629     -0.5   -0.001 6.059e-05     True     None     None\n",
      "eDw2          0     -inf      inf        0    False     None     None\n",
      "gK       0.2184       -5        5 0.001085     True     None     None\n",
      "gamma         0       -5        5        0    False     None     None\n",
      "pe      -0.4378       -5        5        0    False     None     None\n",
      "pv      -0.4378       -5        5        0    False     None     None\n",
      "w2        327.8      320      340        0    False     None     None\n"
     ]
    },
    {
     "data": {
      "image/png": "[encoded data removed]",
      "text/plain": [
       "<Figure size 432x288 with 1 Axes>"
      ]
     },
     "metadata": {},
     "output_type": "display_data"
    },
    {
     "data": {
      "text/html": [
       "<h2>Fit Statistics</h2><table><tr><td>fitting method</td><td>least_squares</td><td></td></tr><tr><td># function evals</td><td>2</td><td></td></tr><tr><td># data points</td><td>10</td><td></td></tr><tr><td># variables</td><td>3</td><td></td></tr><tr><td>chi-square</td><td> 8.82476205</td><td></td></tr><tr><td>reduced chi-square</td><td> 1.26068029</td><td></td></tr><tr><td>Akaike info crit.</td><td> 4.74976547</td><td></td></tr><tr><td>Bayesian info crit.</td><td> 5.65752075</td><td></td></tr></table><h2>Variables</h2><table><tr><th> name </th><th> value </th><th> standard error </th><th> relative error </th><th> initial value </th><th> min </th><th> max </th><th> vary </th></tr><tr><td> w2 </td><td>  327.834494 </td><td>  0.00000000 </td><td> (0.00%) </td><td> 327.83449415997984 </td><td>  320.000000 </td><td>  340.000000 </td><td> False </td></tr><tr><td> A </td><td>  1350.00000 </td><td>  0.00000000 </td><td> (0.00%) </td><td> 1350 </td><td>        -inf </td><td>         inf </td><td> False </td></tr><tr><td> D </td><td>  0.00000000 </td><td>  0.00000000 </td><td>  </td><td> 0 </td><td>        -inf </td><td>         inf </td><td> False </td></tr><tr><td> eDw2 </td><td>  0.00000000 </td><td>  0.00000000 </td><td>  </td><td> 0 </td><td>        -inf </td><td>         inf </td><td> False </td></tr><tr><td> B </td><td>  0.25263715 </td><td>  1.5786e-04 </td><td> (0.06%) </td><td> 0.25263714881958665 </td><td>  0.23000000 </td><td>  0.27000000 </td><td> True </td></tr><tr><td> pe </td><td> -0.43780000 </td><td>  0.00000000 </td><td> (0.00%) </td><td> -0.4378 </td><td> -5.00000000 </td><td>  5.00000000 </td><td> False </td></tr><tr><td> pv </td><td> -0.43780000 </td><td>  0.00000000 </td><td> (0.00%) </td><td> -0.4378 </td><td> -5.00000000 </td><td>  5.00000000 </td><td> False </td></tr><tr><td> gK </td><td>  0.21841830 </td><td>  0.00108500 </td><td> (0.50%) </td><td> 0.2184182617664998 </td><td> -5.00000000 </td><td>  5.00000000 </td><td> True </td></tr><tr><td> gamma </td><td>  0.00000000 </td><td>  0.00000000 </td><td>  </td><td> 0.0 </td><td> -5.00000000 </td><td>  5.00000000 </td><td> False </td></tr><tr><td> e </td><td> -0.06629483 </td><td>  6.0594e-05 </td><td> (0.09%) </td><td> -0.06629483281375725 </td><td> -0.50000000 </td><td> -1.0000e-03 </td><td> True </td></tr><tr><td> T0 </td><td>  17998.5875 </td><td>  0.00000000 </td><td> (0.00%) </td><td> 17998.5875 </td><td>  0.00000000 </td><td>  18010.0000 </td><td> False </td></tr></table><h2>Correlations (unreported correlations are < 0.100)</h2><table><tr><td>B</td><td>gK</td><td>-0.6799</td></tr><tr><td>B</td><td>e</td><td>-0.3816</td></tr><tr><td>gK</td><td>e</td><td>-0.3283</td></tr></table>"
      ],
      "text/plain": [
       "<lmfit.minimizer.MinimizerResult at 0x208a829a848>"
      ]
     },
     "execution_count": 51,
     "metadata": {},
     "output_type": "execute_result"
    }
   ],
   "source": [
    "mini = lmfit.Minimizer(A010_resid, out3.params, fcn_args=([data_p,data_m]))\n",
    "out4 = mini.minimize(method='least_squares')#,kws={'flist':True})#,method='least_squares')\n",
    "out4.params.pretty_print()\n",
    "final_resid4 = A010_resid(out4.params,data_p,data_m,no_uncert=True)\n",
    "plt.figure()\n",
    "plt.plot(final_resid4, 'bo')\n",
    "plt.axhline(y=0)\n",
    "plt.title('stdev = '+ str(final_resid4.std()))\n",
    "plt.show()\n",
    "out4"
   ]
  },
  {
   "cell_type": "code",
   "execution_count": 188,
   "id": "05bdcf5d",
   "metadata": {},
   "outputs": [
    {
     "data": {
      "text/plain": [
       "0.00012"
      ]
     },
     "execution_count": 188,
     "metadata": {},
     "output_type": "execute_result"
    }
   ],
   "source": [
    "0.00006*2"
   ]
  },
  {
   "cell_type": "code",
   "execution_count": 187,
   "id": "790daf3e",
   "metadata": {},
   "outputs": [
    {
     "data": {
      "text/plain": [
       "0.00216"
      ]
     },
     "execution_count": 187,
     "metadata": {},
     "output_type": "execute_result"
    }
   ],
   "source": [
    "0.00108*2"
   ]
  },
  {
   "cell_type": "code",
   "execution_count": 52,
   "id": "50ae42ae",
   "metadata": {},
   "outputs": [],
   "source": [
    "c_info2 = [\n",
    "    lmfit.conf_interval2d(mini, out4, 'gK', 'e', 30, 30),\n",
    "    lmfit.conf_interval2d(mini, out4, 'B', 'e', 30, 30),\n",
    "    lmfit.conf_interval2d(mini, out2, 'gK', 'B', 30, 30),\n",
    "]"
   ]
  },
  {
   "cell_type": "code",
   "execution_count": 80,
   "id": "ee0d09e3",
   "metadata": {},
   "outputs": [],
   "source": [
    "xy_labels2 = [\n",
    "    ['$g_K$ (cm$^{-1}$)','$\\\\epsilon$'],\n",
    "    ['$B$ (cm$^{-1}$)','$\\\\epsilon$'],\n",
    "    ['$g_K$ (cm$^{-1}$)','$B$ (cm$^{-1}$)'],\n",
    "]"
   ]
  },
  {
   "cell_type": "code",
   "execution_count": 170,
   "id": "9940ea72",
   "metadata": {},
   "outputs": [
    {
     "data": {
      "image/png": "[encoded data removed]",
      "text/plain": [
       "<Figure size 396x432 with 5 Axes>"
      ]
     },
     "metadata": {},
     "output_type": "display_data"
    }
   ],
   "source": [
    "# plot confidence intervals\n",
    "fig, axes = plt.subplots(2, 2, figsize=(5.5,6),constrained_layout=True,sharey='row')\n",
    "plt.suptitle('95% Confidence Intervals for Hamiltonian Parameters',fontsize=14)\n",
    "axes = axes.flatten()\n",
    "\n",
    "for i,ax in enumerate(axes):\n",
    "    if i==3:\n",
    "        ax.axis('off')\n",
    "    else:\n",
    "        cx,cy,grid = c_info2[i]\n",
    "        ctp = ax.contourf(cx, cy, grid,np.linspace(0, 0.95, 20),cmap='viridis')\n",
    "        ax.set_xlabel(xy_labels2[i][0])\n",
    "        ax.set_ylabel(xy_labels2[i][1])\n",
    "        ax.tick_params(axis='both')\n",
    "        if i in [0,1]:\n",
    "            ax.set_ylim(-0.06655,-0.06605)\n",
    "        if i==0:\n",
    "            ax.set_xlim(0.214,0.223)\n",
    "        if i==1:\n",
    "            ax.set_xlim(0.2519,0.2533)\n",
    "        if i ==2:\n",
    "            ax.set_xlim(0.195,0.235)\n",
    "            ax.set_ylim(0.2521,0.2531)\n",
    "cbar = fig.colorbar(ctp,ax=axes.tolist(),location='bottom')\n",
    "cbar.set_label('F-Test Confidence', rotation=0)\n",
    "# fig.execute_constrained_layout()\n",
    "# box = axes[2].get_position()\n",
    "# box.x0 = box.x0 + 0.23\n",
    "# box.x1 = box.x1 + 0.23\n",
    "# box.y0 = box.y0 - 0.035\n",
    "# box.y1 = box.y1 - 0.035\n",
    "# axes[2].set_position(box)\n",
    "# fig.execute_constrained_layout()\n",
    "\n",
    "# cbar.ax.tick_params() \n",
    "plt.savefig(save+'A010_95p_e_gk_B.pdf',format='pdf')\n",
    "plt.savefig(save+'A010_95p_e_gk_B.svg',format='svg')"
   ]
  },
  {
   "cell_type": "code",
   "execution_count": 117,
   "id": "62eaa054",
   "metadata": {},
   "outputs": [],
   "source": [
    "sns.set_style({\"axes.spines.bottom\":False,'axes.spines.top':False,'axes.spines.right':False,'ytick.left':True,'ytick.direction':'out'})"
   ]
  },
  {
   "cell_type": "code",
   "execution_count": 121,
   "id": "773ef4b6",
   "metadata": {},
   "outputs": [
    {
     "data": {
      "text/plain": [
       "Text(0.5, 1.0, '$\\\\tilde{A}(010)$ Levels')"
      ]
     },
     "execution_count": 121,
     "metadata": {},
     "output_type": "execute_result"
    },
    {
     "data": {
      "image/png": "[encoded data removed]",
      "text/plain": [
       "<Figure size 396x396 with 1 Axes>"
      ]
     },
     "metadata": {},
     "output_type": "display_data"
    }
   ],
   "source": [
    "from matplotlib.ticker import StrMethodFormatter\n",
    "sub_B = False\n",
    "fitparams = out2.params\n",
    "fig = plt.figure(figsize=(5.5,5.5),constrained_layout=True)\n",
    "depert = False\n",
    "off=[]\n",
    "for J in np.arange(1/2,5):\n",
    "    Hp = A010(J,1,fitparams,depert=depert)\n",
    "    Hm = A010(J,-1,fitparams,depert=depert)\n",
    "    vals_p,vecs_p = np.linalg.eigh(Hp)\n",
    "    vals_m,vecs_m = np.linalg.eigh(Hm)\n",
    "    if J==1/2:\n",
    "        off = [min(data_p)-min(vals_p),min(data_m)-min(vals_m)]\n",
    "        off = [0,0]\n",
    "#     print((vals_p-vals_m)*29979.2458)\n",
    "    [plt.hlines(y=val+off[0],color='red',xmin=0.005,xmax=0.255,linewidth=1.5) for val in data_p]\n",
    "    [plt.hlines(y=val+off[1],color='blue',xmin=-0.255,xmax=-0.005,linewidth=1.5) for val in data_m]\n",
    "    [plt.hlines(y=_p,color='k',linestyle='--',xmin=0.26,xmax=0.46,linewidth=1.5) for _p in vals_p]\n",
    "    [plt.hlines(y=_m,color='k',linestyle='--',xmin=-0.46,xmax=-0.26,linewidth=1.5) for _m in vals_m]\n",
    "    [plt.annotate(f'{J}$+$',(0.53,val+off[0]),verticalalignment='center',horizontalalignment='center') for val in vals_p]\n",
    "    [plt.annotate(f'{J}$-$',(-0.53,val+off[1]),verticalalignment='center',horizontalalignment='center') for val in vals_m]\n",
    "# sns.despine()\n",
    "plt.xticks([])\n",
    "plt.annotate(r'$J$, $\\mathcal{P}$',(-0.53,17651.2),verticalalignment='center',horizontalalignment='center')\n",
    "plt.annotate(r'$J$, $\\mathcal{P}$',(0.53,17651.2),verticalalignment='center',horizontalalignment='center')\n",
    "plt.yticks([17651,17652,17653,17654,17655])\n",
    "plt.annotate('Data',(0,17654.7),verticalalignment='center',horizontalalignment='center')\n",
    "plt.annotate('Model',(-0.36,17654.7),verticalalignment='center',horizontalalignment='center')\n",
    "plt.annotate('Model',(0.36,17654.7),verticalalignment='center',horizontalalignment='center')\n",
    "plt.ylim(17651,17655)\n",
    "# plt.ylim(17651.5,17653)\n",
    "plt.xlim(-0.6,0.6)\n",
    "plt.ylabel('Energy (cm$^{-1}$)')\n",
    "plt.gca().yaxis.set_major_formatter(StrMethodFormatter('{x:.0f}'))\n",
    "plt.title(r'$\\tilde{A}(010)$ Levels',fontsize=14)"
   ]
  },
  {
   "cell_type": "code",
   "execution_count": 122,
   "id": "d3cb7a94",
   "metadata": {},
   "outputs": [],
   "source": [
    "fig.savefig(save+'A010_levels_fit.pdf')\n",
    "fig.savefig(save+'A010_levels_fit.svg')"
   ]
  },
  {
   "cell_type": "code",
   "execution_count": 119,
   "id": "c84f1d78",
   "metadata": {},
   "outputs": [
    {
     "data": {
      "text/plain": [
       "Text(0.5, 1.02, '$\\\\tilde{A}(010)$ Deperturbation')"
      ]
     },
     "execution_count": 119,
     "metadata": {},
     "output_type": "execute_result"
    },
    {
     "data": {
      "image/png": "[encoded data removed]",
      "text/plain": [
       "<Figure size 396x432 with 1 Axes>"
      ]
     },
     "metadata": {},
     "output_type": "display_data"
    }
   ],
   "source": [
    "sub_B = False\n",
    "fitparams = out2.params\n",
    "fig=plt.figure(figsize=(5.5,6),constrained_layout=True)\n",
    "elevels = []\n",
    "flevels = []\n",
    "for J in np.arange(1/2,15):\n",
    "    nolL = copy.deepcopy(fitparams)\n",
    "    nolL['pe'].value = 0\n",
    "    nolL['pv'].value = 0\n",
    "    Hp = A010(J,1,nolL)\n",
    "    Hm = A010(J,-1,nolL)\n",
    "    valsd_p,vecs_p = np.linalg.eigh(Hp)\n",
    "    valsd_m,vecs_m = np.linalg.eigh(Hm)\n",
    "    if (-1)**(J-1/2-1)<0:\n",
    "        e_par = valsd_m\n",
    "        f_par = valsd_p\n",
    "    else:\n",
    "        e_par = valsd_p\n",
    "        f_par = valsd_m\n",
    "    valsd_p = e_par\n",
    "    valsd_m = f_par\n",
    "    valsd_p-=sub_B*nolL['B']*J*(J+1)\n",
    "    valsd_m-=sub_B*nolL['B']*J*(J+1)\n",
    "#     if J==1/2:\n",
    "#         off = [min(data_p)-min(valsd_p),min(data_m)-min(valsd_m)]\n",
    "#     print((vals_p-vals_m)*29979.2458)\n",
    "    ept = 0.2\n",
    "    off = 0.01\n",
    "    sep = 0.07\n",
    "    [plt.hlines(y=val,color='red',linestyle='-',xmin=off,xmax=ept+off) for val in valsd_p]\n",
    "    [plt.hlines(y=val,color='blue',linestyle='-',xmin=-ept-off,xmax=-off) for val in valsd_m]\n",
    "    \n",
    "    all_int = copy.deepcopy(fitparams)\n",
    "    Hp = A010(J,1,all_int)\n",
    "    Hm = A010(J,-1,all_int)\n",
    "    vals_p,vecs_p = np.linalg.eigh(Hp)\n",
    "    vals_m,vecs_m = np.linalg.eigh(Hm)\n",
    "    if (-1)**(J-1/2-1)<0:\n",
    "        e_par = vals_m\n",
    "        f_par = vals_p\n",
    "    else:\n",
    "        e_par = vals_p\n",
    "        f_par = vals_m\n",
    "    vals_p = e_par\n",
    "    vals_m = f_par\n",
    "    vals_p-=sub_B*all_int['B']*J*(J+1)\n",
    "    vals_m-=sub_B*all_int['B']*J*(J+1)\n",
    "    [plt.hlines(y=_p,color='red',xmin=ept+off+sep,xmax=2*ept+off+sep) for _p in vals_p]\n",
    "    [plt.hlines(y=_m,color='blue',xmin=-off-2*ept-sep,xmax=-off-ept-sep) for _m in vals_m]\n",
    "\n",
    "    m_slope = [(vm - dm)/(-sep) for (vm,dm) in zip(vals_m, valsd_m)]\n",
    "    p_slope = [(vp - dp)/(sep) for (vp,dp) in zip(vals_p, valsd_p)]\n",
    "    \n",
    "    xp = np.linspace(ept+off,ept+off+sep)\n",
    "    xm = np.linspace(-(ept+off),-(ept+off+sep))\n",
    "    [plt.plot(xp,ps*(xp-(ept+off))+dp,'k',linestyle='--') for (ps,dp) in zip(p_slope, valsd_p)]\n",
    "    [plt.plot(xm,ms*(xm+((ept+off)))+dm,'k',linestyle='--') for (ms,dm) in zip(m_slope, valsd_m)]\n",
    "\n",
    "    [plt.annotate(f'{J} $e$',(2*ept+off+sep+0.05,val),verticalalignment='center',horizontalalignment='center') for val in vals_p]\n",
    "    [plt.annotate(f'{J} $f$',(-(2*ept+off+sep+0.05),val),verticalalignment='center',horizontalalignment='center') for val in vals_m]\n",
    "    \n",
    "    [elevels.append(elev) for elev in vals_p[vals_p<19000]]\n",
    "    [flevels.append(flev) for flev in vals_m[vals_m<19000]]\n",
    "\n",
    "plt.xticks([])\n",
    "plt.ylim(17651,17656.4)\n",
    "plt.xlim(-0.6,0.6)\n",
    "plt.gca().yaxis.set_major_formatter(StrMethodFormatter('{x:.0f}'))\n",
    "plt.annotate('$H_K=0$',(0,17656.3),verticalalignment='center',horizontalalignment='center')\n",
    "plt.annotate('$H_K\\\\neq 0$',(-0.36,17656.3),verticalalignment='center',horizontalalignment='center')\n",
    "plt.annotate('$H_K\\\\neq 0$',(0.36,17656.3),verticalalignment='center',horizontalalignment='center')\n",
    "plt.annotate(r'$J$, $\\mathcal{P}_{e/f}$',(-0.53,17651.1),verticalalignment='center',horizontalalignment='center')\n",
    "plt.annotate(r'$J$, $\\mathcal{P}_{e/f}$',(0.53,17651.1),verticalalignment='center',horizontalalignment='center')\n",
    "plt.ylabel('Energy (cm$^{-1}$)')\n",
    "plt.gca().yaxis.set_major_formatter(StrMethodFormatter('{x:.0f}'))\n",
    "plt.title(r'$\\tilde{A}(010)$ Deperturbation',y=1.02,fontsize=14)"
   ]
  },
  {
   "cell_type": "code",
   "execution_count": 120,
   "id": "52357fe5",
   "metadata": {},
   "outputs": [],
   "source": [
    "fig.savefig(save+'A010_depert_levels.pdf')\n",
    "fig.savefig(save+'A010_depert_levels.svg')"
   ]
  },
  {
   "cell_type": "code",
   "execution_count": 163,
   "id": "6be9ed77",
   "metadata": {},
   "outputs": [],
   "source": [
    "box1 = axes[1].get_position()\n",
    "box2 = axes[1].get_position()"
   ]
  },
  {
   "cell_type": "code",
   "execution_count": 164,
   "id": "0b1c7b77",
   "metadata": {},
   "outputs": [
    {
     "data": {
      "text/plain": [
       "0.34807097025462963"
      ]
     },
     "execution_count": 164,
     "metadata": {},
     "output_type": "execute_result"
    }
   ],
   "source": [
    "box1.y1 - box1.y0"
   ]
  },
  {
   "cell_type": "code",
   "execution_count": 165,
   "id": "9b9b5c05",
   "metadata": {},
   "outputs": [
    {
     "data": {
      "text/plain": [
       "0.34807097025462963"
      ]
     },
     "execution_count": 165,
     "metadata": {},
     "output_type": "execute_result"
    }
   ],
   "source": [
    "box2.y1 - box2.y0"
   ]
  },
  {
   "cell_type": "code",
   "execution_count": 155,
   "id": "f5f1cf9e",
   "metadata": {},
   "outputs": [
    {
     "data": {
      "text/plain": [
       "Bbox([[0.3887127272727273, 0.19672261111111072], [0.7680535129068454, 0.5043552870370349]])"
      ]
     },
     "execution_count": 155,
     "metadata": {},
     "output_type": "execute_result"
    }
   ],
   "source": [
    "box"
   ]
  },
  {
   "cell_type": "code",
   "execution_count": 1354,
   "id": "633288f6",
   "metadata": {},
   "outputs": [
    {
     "data": {
      "text/plain": [
       "-22.2555582675"
      ]
     },
     "execution_count": 1354,
     "metadata": {},
     "output_type": "execute_result"
    }
   ],
   "source": [
    "-0.06787818*327.875"
   ]
  },
  {
   "cell_type": "code",
   "execution_count": 1353,
   "id": "0ba7cffc",
   "metadata": {},
   "outputs": [
    {
     "data": {
      "text/plain": [
       "0.018899370750000002"
      ]
     },
     "execution_count": 1353,
     "metadata": {},
     "output_type": "execute_result"
    }
   ],
   "source": [
    "-0.06787818*327.875"
   ]
  },
  {
   "cell_type": "code",
   "execution_count": 1,
   "id": "31cc2b08",
   "metadata": {
    "scrolled": false
   },
   "outputs": [
    {
     "ename": "NameError",
     "evalue": "name 'out2' is not defined",
     "output_type": "error",
     "traceback": [
      "\u001b[1;31m---------------------------------------------------------------------------\u001b[0m",
      "\u001b[1;31mNameError\u001b[0m                                 Traceback (most recent call last)",
      "\u001b[1;32m~\\AppData\\Local\\Temp\\ipykernel_156\\778992512.py\u001b[0m in \u001b[0;36m<module>\u001b[1;34m\u001b[0m\n\u001b[0;32m      1\u001b[0m \u001b[0msub_B\u001b[0m \u001b[1;33m=\u001b[0m \u001b[1;32mFalse\u001b[0m\u001b[1;33m\u001b[0m\u001b[1;33m\u001b[0m\u001b[0m\n\u001b[1;32m----> 2\u001b[1;33m \u001b[0mfitparams\u001b[0m \u001b[1;33m=\u001b[0m \u001b[0mout2\u001b[0m\u001b[1;33m.\u001b[0m\u001b[0mparams\u001b[0m\u001b[1;33m\u001b[0m\u001b[1;33m\u001b[0m\u001b[0m\n\u001b[0m\u001b[0;32m      3\u001b[0m \u001b[0mplt\u001b[0m\u001b[1;33m.\u001b[0m\u001b[0mfigure\u001b[0m\u001b[1;33m(\u001b[0m\u001b[0mfigsize\u001b[0m\u001b[1;33m=\u001b[0m\u001b[1;33m(\u001b[0m\u001b[1;36m15\u001b[0m\u001b[1;33m,\u001b[0m\u001b[1;36m10\u001b[0m\u001b[1;33m)\u001b[0m\u001b[1;33m)\u001b[0m\u001b[1;33m\u001b[0m\u001b[1;33m\u001b[0m\u001b[0m\n\u001b[0;32m      4\u001b[0m \u001b[0mdepert\u001b[0m \u001b[1;33m=\u001b[0m \u001b[1;32mFalse\u001b[0m\u001b[1;33m\u001b[0m\u001b[1;33m\u001b[0m\u001b[0m\n\u001b[0;32m      5\u001b[0m \u001b[0moff\u001b[0m\u001b[1;33m=\u001b[0m\u001b[1;33m[\u001b[0m\u001b[1;33m]\u001b[0m\u001b[1;33m\u001b[0m\u001b[1;33m\u001b[0m\u001b[0m\n",
      "\u001b[1;31mNameError\u001b[0m: name 'out2' is not defined"
     ]
    }
   ],
   "source": [
    "sub_B = False\n",
    "fitparams = out2.params\n",
    "plt.figure(figsize=(15,10))\n",
    "depert = False\n",
    "off=[]\n",
    "for J in np.arange(1/2,16):\n",
    "    Hp = A010(J,1,fitparams,depert=depert)\n",
    "    Hm = A010(J,-1,fitparams,depert=depert)\n",
    "    vals_p,vecs_p = np.linalg.eigh(Hp)\n",
    "    vals_m,vecs_m = np.linalg.eigh(Hm)\n",
    "    if J==1/2:\n",
    "        off = [min(data_p)-min(vals_p),min(data_m)-min(vals_m)]\n",
    "#     print((vals_p-vals_m)*29979.2458)\n",
    "    [plt.hlines(y=val+off[0],color='red',xmin=0.0,xmax=0.5) for val in vals_p]\n",
    "    [plt.annotate(f'{J}+',(0.55,val+off[0])) for val in vals_p]\n",
    "    [plt.hlines(y=val+off[1],color='blue',xmin=-0.5,xmax=-0.0) for val in vals_m]\n",
    "    [plt.hlines(y=_p,color='k',linestyle='--',xmin=0.0,xmax=0.5) for _p in data_p]\n",
    "    [plt.hlines(y=_m,color='k',linestyle='--',xmin=-0.5,xmax=0.0) for _m in data_m]\n",
    "    [plt.annotate(f'{J}-',(-0.55,val+off[1])) for val in vals_m]\n",
    "sns.despine()\n",
    "plt.ylim(17650,17655)\n",
    "plt.xlim(-1,1)"
   ]
  },
  {
   "cell_type": "code",
   "execution_count": 569,
   "id": "ad2c93f6",
   "metadata": {},
   "outputs": [
    {
     "data": {
      "text/plain": [
       "(-1.0, 1.0)"
      ]
     },
     "execution_count": 569,
     "metadata": {},
     "output_type": "execute_result"
    },
    {
     "data": {
      "image/png": "[encoded data removed]",
      "text/plain": [
       "<Figure size 1500x1000 with 1 Axes>"
      ]
     },
     "metadata": {},
     "output_type": "display_data"
    }
   ],
   "source": [
    "sub_B = False\n",
    "fitparams = out2.params\n",
    "plt.figure(figsize=(15,10))\n",
    "depert = False\n",
    "off=[]\n",
    "for J in np.arange(1/2,16):\n",
    "    Hp = A010(J,1,fitparams,depert=depert)\n",
    "    Hm = A010(J,-1,fitparams,depert=depert)\n",
    "    vals_p,vecs_p = np.linalg.eigh(Hp)\n",
    "    vals_m,vecs_m = np.linalg.eigh(Hm)\n",
    "    if J==1/2:\n",
    "        off = [min(data_p)-min(vals_p),min(data_m)-min(vals_m)]\n",
    "#     print((vals_p-vals_m)*29979.2458)\n",
    "    [plt.hlines(y=val+off[0],color='red',xmin=0.0,xmax=0.5) for val in vals_p]\n",
    "    [plt.annotate(f'{J}+',(0.55,val+off[0])) for val in vals_p]\n",
    "    [plt.hlines(y=val+off[1],color='blue',xmin=-0.5,xmax=-0.0) for val in vals_m]\n",
    "    [plt.hlines(y=_p,color='k',linestyle='--',xmin=0.0,xmax=0.5) for _p in data_p]\n",
    "    [plt.hlines(y=_m,color='k',linestyle='--',xmin=-0.5,xmax=0.0) for _m in data_m]\n",
    "    [plt.annotate(f'{J}-',(-0.55,val+off[1])) for val in vals_m]\n",
    "\n",
    "plt.ylim(17650,17656)\n",
    "plt.xlim(-1,1)"
   ]
  },
  {
   "cell_type": "code",
   "execution_count": 1313,
   "id": "c65c5da9",
   "metadata": {},
   "outputs": [],
   "source": [
    "J=1/2\n",
    "Hp = A010(J,1,fitparams,depert=False)\n",
    "Hm = A010(J,-1,fitparams,depert=False)\n",
    "vals_p,vecs_p = np.linalg.eigh(Hp)\n",
    "vals_m,vecs_m = np.linalg.eigh(Hm)"
   ]
  },
  {
   "cell_type": "code",
   "execution_count": 1314,
   "id": "b95213fc",
   "metadata": {},
   "outputs": [
    {
     "data": {
      "text/plain": [
       "array([17651.45208906, 19002.62484411])"
      ]
     },
     "execution_count": 1314,
     "metadata": {},
     "output_type": "execute_result"
    }
   ],
   "source": [
    "vals_p"
   ]
  },
  {
   "cell_type": "code",
   "execution_count": 1316,
   "id": "a26b70c1",
   "metadata": {},
   "outputs": [
    {
     "data": {
      "text/plain": [
       "array([[19002.26741973,   -21.97303661],\n",
       "       [  -21.97303661, 17651.80951345]])"
      ]
     },
     "execution_count": 1316,
     "metadata": {},
     "output_type": "execute_result"
    }
   ],
   "source": [
    "Hp"
   ]
  },
  {
   "cell_type": "code",
   "execution_count": 1317,
   "id": "b0985ec6",
   "metadata": {},
   "outputs": [
    {
     "data": {
      "text/plain": [
       "array([[19002.26741973,    21.46776231],\n",
       "       [   21.46776231, 17651.80951345]])"
      ]
     },
     "execution_count": 1317,
     "metadata": {},
     "output_type": "execute_result"
    }
   ],
   "source": [
    "Hm"
   ]
  },
  {
   "cell_type": "code",
   "execution_count": 1315,
   "id": "53df858e",
   "metadata": {},
   "outputs": [
    {
     "data": {
      "text/plain": [
       "array([[-0.0163, -0.9999],\n",
       "       [-0.9999,  0.0163]])"
      ]
     },
     "execution_count": 1315,
     "metadata": {},
     "output_type": "execute_result"
    }
   ],
   "source": [
    "np.round(vecs_p.T,4)"
   ]
  },
  {
   "cell_type": "code",
   "execution_count": 582,
   "id": "40d3606b",
   "metadata": {},
   "outputs": [
    {
     "data": {
      "text/plain": [
       "array([17651.84599521, 17652.61911553, 19003.39112243])"
      ]
     },
     "execution_count": 582,
     "metadata": {},
     "output_type": "execute_result"
    }
   ],
   "source": [
    "vals_m"
   ]
  },
  {
   "cell_type": "code",
   "execution_count": 583,
   "id": "271aa673",
   "metadata": {},
   "outputs": [
    {
     "data": {
      "text/plain": [
       "array([[-6.783e-01, -1.230e-02, -7.347e-01],\n",
       "       [-7.348e-01,  1.100e-02,  6.782e-01],\n",
       "       [ 3.000e-04, -9.999e-01,  1.650e-02]])"
      ]
     },
     "execution_count": 583,
     "metadata": {},
     "output_type": "execute_result"
    }
   ],
   "source": [
    "np.round(vecs_m.T,4)"
   ]
  },
  {
   "cell_type": "code",
   "execution_count": 465,
   "id": "d24df187",
   "metadata": {},
   "outputs": [
    {
     "data": {
      "text/plain": [
       "array([[ 2.82515028e-04,  7.01184731e-01,  1.16697268e-02,\n",
       "        -7.12884080e-01],\n",
       "       [ 2.87814067e-04,  7.12979388e-01, -1.08434239e-02,\n",
       "         7.01101084e-01],\n",
       "       [-9.99999624e-01,  4.02953728e-04,  7.68329820e-04,\n",
       "         1.26195533e-05],\n",
       "       [ 7.68251257e-04, -4.51863531e-04,  9.99872816e-01,\n",
       "         1.59235142e-02]])"
      ]
     },
     "execution_count": 465,
     "metadata": {},
     "output_type": "execute_result"
    }
   ],
   "source": [
    "vecs_m.T"
   ]
  },
  {
   "cell_type": "code",
   "execution_count": 466,
   "id": "42f6713a",
   "metadata": {},
   "outputs": [
    {
     "data": {
      "text/plain": [
       "17652.861118990033"
      ]
     },
     "execution_count": 466,
     "metadata": {},
     "output_type": "execute_result"
    }
   ],
   "source": [
    "vecs_p.T[0]@Hp@vecs_p.T[0]"
   ]
  },
  {
   "cell_type": "code",
   "execution_count": 1413,
   "id": "56e7b2d6",
   "metadata": {
    "scrolled": false
   },
   "outputs": [
    {
     "data": {
      "text/plain": [
       "(-0.6, 0.6)"
      ]
     },
     "execution_count": 1413,
     "metadata": {},
     "output_type": "execute_result"
    },
    {
     "data": {
      "image/png": "[encoded data removed]",
      "text/plain": [
       "<Figure size 800x800 with 1 Axes>"
      ]
     },
     "metadata": {},
     "output_type": "display_data"
    }
   ],
   "source": [
    "sub_B = False\n",
    "fitparams = out4.params\n",
    "plt.figure(figsize=(8,8),constrained_layout=True)\n",
    "depert = True\n",
    "plevels = []\n",
    "mlevels = []\n",
    "for J in np.arange(1/2,15):\n",
    "    Hp = A010(J,1,fitparams,depert=depert)\n",
    "    Hm = A010(J,-1,fitparams,depert=depert)\n",
    "    valsd_p,vecs_p = np.linalg.eigh(Hp)\n",
    "    valsd_m,vecs_m = np.linalg.eigh(Hm)\n",
    "    valsd_p-=sub_B*fitparams['B']*J*(J+1)\n",
    "    valsd_m-=sub_B*fitparams['B']*J*(J+1)\n",
    "#     if J==1/2:\n",
    "#         off = [min(data_p)-min(valsd_p),min(data_m)-min(valsd_m)]\n",
    "#     print((vals_p-vals_m)*29979.2458)\n",
    "    ept = 0.2\n",
    "    off = 0.01\n",
    "    sep = 0.07\n",
    "    [plt.hlines(y=val,color='r',linestyle='-',xmin=off,xmax=ept+off) for val in valsd_p]\n",
    "    [plt.hlines(y=val,color='b',linestyle='-',xmin=-ept-off,xmax=-off) for val in valsd_m]\n",
    "\n",
    "    Hp = A010(J,1,fitparams,depert=False)\n",
    "    Hm = A010(J,-1,fitparams,depert=False)\n",
    "    vals_p,vecs_p = np.linalg.eigh(Hp)\n",
    "    vals_m,vecs_m = np.linalg.eigh(Hm)\n",
    "    vals_p-=sub_B*fitparams['B']*J*(J+1)\n",
    "    vals_m-=sub_B*fitparams['B']*J*(J+1)\n",
    "    [plt.hlines(y=_p,color='red',xmin=ept+off+sep,xmax=2*ept+off+sep) for _p in vals_p]\n",
    "    [plt.hlines(y=_m,color='blue',xmin=-off-2*ept-sep,xmax=-off-ept-sep) for _m in vals_m]\n",
    "    [plt.annotate(f'{J}+',(2*ept+off+sep+0.05,val),verticalalignment='center',horizontalalignment='center') for val in vals_p]\n",
    "    [plt.annotate(f'{J}-',(-(2*ept+off+sep+0.05),val),verticalalignment='center',horizontalalignment='center') for val in vals_m]\n",
    "\n",
    "    m_slope = [(vm - dm)/(-sep) for (vm,dm) in zip(vals_m, valsd_m)]\n",
    "    p_slope = [(vp - dp)/(sep) for (vp,dp) in zip(vals_p, valsd_p)]\n",
    "    \n",
    "    xp = np.linspace(ept+off,ept+off+sep)\n",
    "    xm = np.linspace(-(ept+off),-(ept+off+sep))\n",
    "    [plt.plot(xp,ps*(xp-(ept+off))+dp,'k',linestyle='--') for (ps,dp) in zip(p_slope, valsd_p)]\n",
    "    [plt.plot(xm,ms*(xm+((ept+off)))+dm,'k',linestyle='--') for (ms,dm) in zip(m_slope, valsd_m)]\n",
    "    \n",
    "    [plevels.append(plev) for plev in vals_p[vals_p<19000]]\n",
    "    [mlevels.append(mlev) for mlev in vals_m[vals_m<19000]]\n",
    "    \n",
    "\n",
    "plt.ylim(17651.5,17656.3)\n",
    "plt.xlim(-0.6,0.6)"
   ]
  },
  {
   "cell_type": "code",
   "execution_count": 1412,
   "id": "370be379",
   "metadata": {},
   "outputs": [
    {
     "data": {
      "text/plain": [
       "(-0.6, 0.6)"
      ]
     },
     "execution_count": 1412,
     "metadata": {},
     "output_type": "execute_result"
    },
    {
     "data": {
      "image/png": "[encoded data removed]",
      "text/plain": [
       "<Figure size 800x800 with 1 Axes>"
      ]
     },
     "metadata": {},
     "output_type": "display_data"
    }
   ],
   "source": [
    "sub_B = False\n",
    "fitparams = out4.params\n",
    "plt.figure(figsize=(8,8),constrained_layout=True)\n",
    "elevels = []\n",
    "flevels = []\n",
    "for J in np.arange(1/2,15):\n",
    "    nolL = copy.deepcopy(fitparams)\n",
    "    nolL['pe'].value = 0\n",
    "    nolL['pv'].value = 0\n",
    "    Hp = A010(J,1,nolL)\n",
    "    Hm = A010(J,-1,nolL)\n",
    "    valsd_p,vecs_p = np.linalg.eigh(Hp)\n",
    "    valsd_m,vecs_m = np.linalg.eigh(Hm)\n",
    "    if (-1)**(J-1/2)<0:\n",
    "        e_par = valsd_m\n",
    "        f_par = valsd_p\n",
    "    else:\n",
    "        e_par = valsd_p\n",
    "        f_par = valsd_m\n",
    "    valsd_p = e_par\n",
    "    valsd_m = f_par\n",
    "    valsd_p-=sub_B*nolL['B']*J*(J+1)\n",
    "    valsd_m-=sub_B*nolL['B']*J*(J+1)\n",
    "#     if J==1/2:\n",
    "#         off = [min(data_p)-min(valsd_p),min(data_m)-min(valsd_m)]\n",
    "#     print((vals_p-vals_m)*29979.2458)\n",
    "    ept = 0.2\n",
    "    off = 0.01\n",
    "    sep = 0.07\n",
    "    [plt.hlines(y=val,color='r',linestyle='-',xmin=off,xmax=ept+off) for val in valsd_p]\n",
    "    [plt.hlines(y=val,color='b',linestyle='-',xmin=-ept-off,xmax=-off) for val in valsd_m]\n",
    "    \n",
    "    all_int = copy.deepcopy(fitparams)\n",
    "    Hp = A010(J,1,all_int)\n",
    "    Hm = A010(J,-1,all_int)\n",
    "    vals_p,vecs_p = np.linalg.eigh(Hp)\n",
    "    vals_m,vecs_m = np.linalg.eigh(Hm)\n",
    "    if (-1)**(J-1/2)<0:\n",
    "        e_par = vals_m\n",
    "        f_par = vals_p\n",
    "    else:\n",
    "        e_par = vals_p\n",
    "        f_par = vals_m\n",
    "    vals_p = e_par\n",
    "    vals_m = f_par\n",
    "    vals_p-=sub_B*all_int['B']*J*(J+1)\n",
    "    vals_m-=sub_B*all_int['B']*J*(J+1)\n",
    "    [plt.hlines(y=_p,color='red',xmin=ept+off+sep,xmax=2*ept+off+sep) for _p in vals_p]\n",
    "    [plt.hlines(y=_m,color='blue',xmin=-off-2*ept-sep,xmax=-off-ept-sep) for _m in vals_m]\n",
    "\n",
    "    m_slope = [(vm - dm)/(-sep) for (vm,dm) in zip(vals_m, valsd_m)]\n",
    "    p_slope = [(vp - dp)/(sep) for (vp,dp) in zip(vals_p, valsd_p)]\n",
    "    \n",
    "    xp = np.linspace(ept+off,ept+off+sep)\n",
    "    xm = np.linspace(-(ept+off),-(ept+off+sep))\n",
    "    [plt.plot(xp,ps*(xp-(ept+off))+dp,'k',linestyle='--') for (ps,dp) in zip(p_slope, valsd_p)]\n",
    "    [plt.plot(xm,ms*(xm+((ept+off)))+dm,'k',linestyle='--') for (ms,dm) in zip(m_slope, valsd_m)]\n",
    "\n",
    "    [plt.annotate(f'{J} $e$',(2*ept+off+sep+0.05,val),verticalalignment='center',horizontalalignment='center') for val in vals_p]\n",
    "    [plt.annotate(f'{J} $f$',(-(2*ept+off+sep+0.05),val),verticalalignment='center',horizontalalignment='center') for val in vals_m]\n",
    "    \n",
    "    [elevels.append(elev) for elev in vals_p[vals_p<19000]]\n",
    "    [flevels.append(flev) for flev in vals_m[vals_m<19000]]\n",
    "    \n",
    "plt.ylim(17651.5,17656.3)\n",
    "plt.xlim(-0.6,0.6)"
   ]
  },
  {
   "cell_type": "code",
   "execution_count": 494,
   "id": "fdd7495f",
   "metadata": {},
   "outputs": [
    {
     "data": {
      "text/plain": [
       "[17651.46826104817,\n",
       " 17651.862900969263,\n",
       " 17652.634439727262,\n",
       " 17652.88597660396,\n",
       " 17654.145185898295,\n",
       " 17654.425614461547,\n",
       " 17656.14969044885,\n",
       " 17656.47449423039,\n",
       " 17658.655273453383,\n",
       " 17659.03048726866,\n",
       " 17661.664063316413,\n",
       " 17662.092730248223,\n",
       " 17665.17692312841,\n",
       " 17665.660803719155,\n",
       " 17669.194272101522,\n",
       " 17669.734478609138,\n",
       " 17673.716339070015,\n",
       " 17674.31361900287,\n",
       " 17678.743259710955,\n",
       " 17679.39813908304,\n",
       " 17684.275119603237,\n",
       " 17684.987981969673,\n",
       " 17690.31197538819,\n",
       " 17691.083108463583,\n",
       " 17696.853866026086,\n",
       " 17697.683490671126,\n",
       " 17703.900819171507,\n",
       " 17704.789108204597,\n",
       " 17711.452854972875]"
      ]
     },
     "execution_count": 494,
     "metadata": {},
     "output_type": "execute_result"
    }
   ],
   "source": [
    "flevels"
   ]
  },
  {
   "cell_type": "code",
   "execution_count": 495,
   "id": "0124d71e",
   "metadata": {},
   "outputs": [
    {
     "data": {
      "text/plain": [
       "[17651.45222258044,\n",
       " 17651.862900969263,\n",
       " 17652.634439727262,\n",
       " 17652.861118990026,\n",
       " 17654.121930000325,\n",
       " 17654.425614461547,\n",
       " 17656.14969044885,\n",
       " 17656.433756525345,\n",
       " 17658.61582827625,\n",
       " 17659.03048726866,\n",
       " 17661.664063316413,\n",
       " 17662.03615420927,\n",
       " 17665.121256371174,\n",
       " 17665.660803719155,\n",
       " 17669.194272101522,\n",
       " 17669.662127006482,\n",
       " 17673.644401201174,\n",
       " 17674.31361900287,\n",
       " 17678.743259710955,\n",
       " 17679.31007986909,\n",
       " 17684.18685969116,\n",
       " 17684.987981969673,\n",
       " 17690.31197538819,\n",
       " 17690.97941243324,\n",
       " 17696.749234078467,\n",
       " 17697.683490671126,\n",
       " 17703.900819171507,\n",
       " 17704.669848403664,\n",
       " 17711.331802528228]"
      ]
     },
     "execution_count": 495,
     "metadata": {},
     "output_type": "execute_result"
    }
   ],
   "source": [
    "plevels"
   ]
  },
  {
   "cell_type": "code",
   "execution_count": 496,
   "id": "b9248ca5",
   "metadata": {},
   "outputs": [
    {
     "data": {
      "text/plain": [
       "[<matplotlib.lines.Line2D at 0x2383cc4e610>]"
      ]
     },
     "execution_count": 496,
     "metadata": {},
     "output_type": "execute_result"
    },
    {
     "data": {
      "image/png": "[encoded data removed]",
      "text/plain": [
       "<Figure size 640x480 with 1 Axes>"
      ]
     },
     "metadata": {},
     "output_type": "display_data"
    }
   ],
   "source": [
    "plt.plot(flevels)\n",
    "plt.plot(elevels)"
   ]
  },
  {
   "cell_type": "code",
   "execution_count": 497,
   "id": "36e68642",
   "metadata": {},
   "outputs": [],
   "source": [
    "sr_e = []\n",
    "sr_f = []\n",
    "B_e = []\n",
    "B_f = []\n",
    "mean = []\n",
    "for i in range(0,len(flevels),2):\n",
    "    if i==len(flevels)-1:\n",
    "        continue\n",
    "    delta_e = abs(elevels[i+1]-elevels[i])\n",
    "    delta_f = abs(flevels[i+1]-flevels[i])\n",
    "    mean_e = (elevels[i+1]+elevels[i])/2\n",
    "    mean_f = (flevels[i+1]+flevels[i])/2\n",
    "    sr_e.append(delta_e)\n",
    "    sr_f.append(delta_f)\n",
    "    B_e.append(mean_e)\n",
    "    B_f.append(mean_f)"
   ]
  },
  {
   "cell_type": "code",
   "execution_count": 498,
   "id": "9f696ec8",
   "metadata": {},
   "outputs": [],
   "source": [
    "from lmfit.models import QuadraticModel,LinearModel"
   ]
  },
  {
   "cell_type": "code",
   "execution_count": 499,
   "id": "561ae447",
   "metadata": {},
   "outputs": [],
   "source": [
    "qmodel = QuadraticModel(independent_vars=['x'])\n",
    "pars = Parameters()\n",
    "pars.add('a', value=0.25, min=0, max=1)\n",
    "pars.add('b', expr='a')\n",
    "pars.add('c',17651,min=17650,max=17654)"
   ]
  },
  {
   "cell_type": "code",
   "execution_count": 500,
   "id": "cb78bbba",
   "metadata": {},
   "outputs": [],
   "source": [
    "N = np.arange(1,len(B_f)+1,1)"
   ]
  },
  {
   "cell_type": "code",
   "execution_count": 501,
   "id": "ffd090da",
   "metadata": {},
   "outputs": [],
   "source": [
    "resf = qmodel.fit(B_f,pars,x=N)\n",
    "rese = qmodel.fit(B_e,pars,x=N)"
   ]
  },
  {
   "cell_type": "code",
   "execution_count": 502,
   "id": "079cfe59",
   "metadata": {},
   "outputs": [
    {
     "data": {
      "text/html": [
       "<h2> Model</h2> Model(parabolic) <h2>Fit Statistics</h2><table><tr><td>fitting method</td><td>leastsq</td><td></td></tr><tr><td># function evals</td><td>13</td><td></td></tr><tr><td># data points</td><td>14</td><td></td></tr><tr><td># variables</td><td>2</td><td></td></tr><tr><td>chi-square</td><td> 0.00788805</td><td></td></tr><tr><td>reduced chi-square</td><td> 6.5734e-04</td><td></td></tr><tr><td>Akaike info crit.</td><td>-100.740500</td><td></td></tr><tr><td>Bayesian info crit.</td><td>-99.4623850</td><td></td></tr></table><h2>Variables</h2><table><tr><th> name </th><th> value </th><th> standard error </th><th> relative error </th><th> initial value </th><th> min </th><th> max </th><th> vary </th><th> expression </th></tr><tr><td> a </td><td>  0.25295625 </td><td>  1.0368e-04 </td><td> (0.04%) </td><td> 0.25 </td><td>  0.00000000 </td><td>  1.00000000 </td><td> True </td><td>  </td></tr><tr><td> b </td><td>  0.25295625 </td><td>  1.0368e-04 </td><td> (0.04%) </td><td> 0.25 </td><td>        -inf </td><td>         inf </td><td> False </td><td> a </td></tr><tr><td> c </td><td>  17651.2389 </td><td>  0.01075975 </td><td> (0.00%) </td><td> 17651 </td><td>  17650.0000 </td><td>  17654.0000 </td><td> True </td><td>  </td></tr></table><h2>Correlations (unreported correlations are < 0.100)</h2><table><tr><td>a</td><td>c</td><td>-0.7709</td></tr></table>"
      ],
      "text/plain": [
       "<lmfit.model.ModelResult at 0x2383cdce970>"
      ]
     },
     "execution_count": 502,
     "metadata": {},
     "output_type": "execute_result"
    }
   ],
   "source": [
    "resf"
   ]
  },
  {
   "cell_type": "code",
   "execution_count": 503,
   "id": "afd42598",
   "metadata": {},
   "outputs": [
    {
     "data": {
      "text/html": [
       "<h2> Model</h2> Model(parabolic) <h2>Fit Statistics</h2><table><tr><td>fitting method</td><td>leastsq</td><td></td></tr><tr><td># function evals</td><td>10</td><td></td></tr><tr><td># data points</td><td>14</td><td></td></tr><tr><td># variables</td><td>2</td><td></td></tr><tr><td>chi-square</td><td> 0.00562432</td><td></td></tr><tr><td>reduced chi-square</td><td> 4.6869e-04</td><td></td></tr><tr><td>Akaike info crit.</td><td>-105.475974</td><td></td></tr><tr><td>Bayesian info crit.</td><td>-104.197859</td><td></td></tr></table><h2>Variables</h2><table><tr><th> name </th><th> value </th><th> standard error </th><th> relative error </th><th> initial value </th><th> min </th><th> max </th><th> vary </th><th> expression </th></tr><tr><td> a </td><td>  0.25248558 </td><td>  8.7546e-05 </td><td> (0.03%) </td><td> 0.25 </td><td>  0.00000000 </td><td>  1.00000000 </td><td> True </td><td>  </td></tr><tr><td> b </td><td>  0.25248558 </td><td>  8.7546e-05 </td><td> (0.03%) </td><td> 0.25 </td><td>        -inf </td><td>         inf </td><td> False </td><td> a </td></tr><tr><td> c </td><td>  17651.2122 </td><td>  0.00908296 </td><td> (0.00%) </td><td> 17651 </td><td>  17650.0000 </td><td>  17654.0000 </td><td> True </td><td>  </td></tr></table><h2>Correlations (unreported correlations are < 0.100)</h2><table><tr><td>a</td><td>c</td><td>-0.7709</td></tr></table>"
      ],
      "text/plain": [
       "<lmfit.model.ModelResult at 0x2383cdceb20>"
      ]
     },
     "execution_count": 503,
     "metadata": {},
     "output_type": "execute_result"
    }
   ],
   "source": [
    "rese"
   ]
  },
  {
   "cell_type": "code",
   "execution_count": 504,
   "id": "d67e63ab",
   "metadata": {},
   "outputs": [],
   "source": [
    "pars = Parameters()\n",
    "pars.add('frac_curve1', value=0.5, min=0, max=1)\n",
    "pars.add('frac_curve2', expr='1-frac_curve1')"
   ]
  },
  {
   "cell_type": "code",
   "execution_count": 505,
   "id": "78417116",
   "metadata": {},
   "outputs": [
    {
     "data": {
      "text/plain": [
       "[<matplotlib.lines.Line2D at 0x2383cc7d1f0>]"
      ]
     },
     "execution_count": 505,
     "metadata": {},
     "output_type": "execute_result"
    },
    {
     "data": {
      "image/png": "[encoded data removed]",
      "text/plain": [
       "<Figure size 640x480 with 1 Axes>"
      ]
     },
     "metadata": {},
     "output_type": "display_data"
    }
   ],
   "source": [
    "plt.plot(B_f-B_f[0])\n",
    "plt.plot(B_e-B_e[0])"
   ]
  },
  {
   "cell_type": "code",
   "execution_count": 506,
   "id": "1053488a",
   "metadata": {},
   "outputs": [
    {
     "data": {
      "text/plain": [
       "[<matplotlib.lines.Line2D at 0x2383cced8e0>]"
      ]
     },
     "execution_count": 506,
     "metadata": {},
     "output_type": "execute_result"
    },
    {
     "data": {
      "image/png": "[encoded data removed]",
      "text/plain": [
       "<Figure size 640x480 with 1 Axes>"
      ]
     },
     "metadata": {},
     "output_type": "display_data"
    }
   ],
   "source": [
    "sr_e = np.array(sr_e)\n",
    "sr_f = np.array(sr_f)\n",
    "sr_mean = sr_e/2+sr_f/2\n",
    "plt.plot(sr_f)\n",
    "plt.plot(sr_e)"
   ]
  },
  {
   "cell_type": "code",
   "execution_count": 1374,
   "id": "f25bdc1f",
   "metadata": {},
   "outputs": [],
   "source": [
    "qmodel = QuadraticModel(independent_vars=['x'])\n",
    "pars = Parameters()\n",
    "pars.add('a', value=0.01, min=0, max=1)\n",
    "pars.add('b', value=0.1,vary=True)\n",
    "pars.add('c',0.1,min=-1,max=1)"
   ]
  },
  {
   "cell_type": "code",
   "execution_count": 1391,
   "id": "b4d2cbfd",
   "metadata": {},
   "outputs": [],
   "source": [
    "Ni=1\n",
    "Nf=10\n",
    "resf = qmodel.fit(sr_f[Ni:Nf],pars,x=N[Ni:Nf])\n",
    "rese = qmodel.fit(sr_e[Ni:Nf],pars,x=N[Ni:Nf])"
   ]
  },
  {
   "cell_type": "code",
   "execution_count": 1392,
   "id": "831132ef",
   "metadata": {},
   "outputs": [
    {
     "data": {
      "text/html": [
       "<h2> Model</h2> Model(parabolic) <h2>Fit Statistics</h2><table><tr><td>fitting method</td><td>leastsq</td><td></td></tr><tr><td># function evals</td><td>21</td><td></td></tr><tr><td># data points</td><td>9</td><td></td></tr><tr><td># variables</td><td>3</td><td></td></tr><tr><td>chi-square</td><td> 1.4395e-04</td><td></td></tr><tr><td>reduced chi-square</td><td> 2.3991e-05</td><td></td></tr><tr><td>Akaike info crit.</td><td>-93.3896066</td><td></td></tr><tr><td>Bayesian info crit.</td><td>-92.7979329</td><td></td></tr></table><h2>Variables</h2><table><tr><th> name </th><th> value </th><th> standard error </th><th> relative error </th><th> initial value </th><th> min </th><th> max </th><th> vary </th></tr><tr><td> a </td><td>  0.00154284 </td><td>  2.7909e-04 </td><td> (18.09%) </td><td> 0.01 </td><td>  0.00000000 </td><td>  1.00000000 </td><td> True </td></tr><tr><td> b </td><td>  0.03320913 </td><td>  0.00340830 </td><td> (10.26%) </td><td> 0.1 </td><td>        -inf </td><td>         inf </td><td> True </td></tr><tr><td> c </td><td>  0.17235008 </td><td>  0.00916970 </td><td> (5.32%) </td><td> 0.1 </td><td> -1.00000000 </td><td>  1.00000000 </td><td> True </td></tr></table><h2>Correlations (unreported correlations are < 0.100)</h2><table><tr><td>a</td><td>b</td><td>-0.9826</td></tr><tr><td>b</td><td>c</td><td>-0.9541</td></tr><tr><td>a</td><td>c</td><td>0.8928</td></tr></table>"
      ],
      "text/plain": [
       "<lmfit.model.ModelResult at 0x238472f9f70>"
      ]
     },
     "execution_count": 1392,
     "metadata": {},
     "output_type": "execute_result"
    }
   ],
   "source": [
    "resf"
   ]
  },
  {
   "cell_type": "code",
   "execution_count": 1393,
   "id": "99a6c2dd",
   "metadata": {},
   "outputs": [
    {
     "data": {
      "text/plain": [
       "[<matplotlib.lines.Line2D at 0x238471bb7c0>]"
      ]
     },
     "execution_count": 1393,
     "metadata": {},
     "output_type": "execute_result"
    },
    {
     "data": {
      "image/png": "[encoded data removed]",
      "text/plain": [
       "<Figure size 640x480 with 1 Axes>"
      ]
     },
     "metadata": {},
     "output_type": "display_data"
    }
   ],
   "source": [
    "plt.plot(N[Ni:Nf],qmodel.eval(rese.params,x=N[Ni:Nf]))\n",
    "plt.plot(N[Ni:Nf],sr_e[Ni:Nf])"
   ]
  },
  {
   "cell_type": "code",
   "execution_count": 1394,
   "id": "20c08b1e",
   "metadata": {},
   "outputs": [
    {
     "data": {
      "text/html": [
       "<h2> Model</h2> Model(parabolic) <h2>Fit Statistics</h2><table><tr><td>fitting method</td><td>leastsq</td><td></td></tr><tr><td># function evals</td><td>21</td><td></td></tr><tr><td># data points</td><td>9</td><td></td></tr><tr><td># variables</td><td>3</td><td></td></tr><tr><td>chi-square</td><td> 1.4281e-04</td><td></td></tr><tr><td>reduced chi-square</td><td> 2.3801e-05</td><td></td></tr><tr><td>Akaike info crit.</td><td>-93.4610981</td><td></td></tr><tr><td>Bayesian info crit.</td><td>-92.8694243</td><td></td></tr></table><h2>Variables</h2><table><tr><th> name </th><th> value </th><th> standard error </th><th> relative error </th><th> initial value </th><th> min </th><th> max </th><th> vary </th></tr><tr><td> a </td><td>  0.00155379 </td><td>  2.7799e-04 </td><td> (17.89%) </td><td> 0.01 </td><td>  0.00000000 </td><td>  1.00000000 </td><td> True </td></tr><tr><td> b </td><td>  0.03329360 </td><td>  0.00339479 </td><td> (10.20%) </td><td> 0.1 </td><td>        -inf </td><td>         inf </td><td> True </td></tr><tr><td> c </td><td>  0.16243009 </td><td>  0.00913335 </td><td> (5.62%) </td><td> 0.1 </td><td> -1.00000000 </td><td>  1.00000000 </td><td> True </td></tr></table><h2>Correlations (unreported correlations are < 0.100)</h2><table><tr><td>a</td><td>b</td><td>-0.9826</td></tr><tr><td>b</td><td>c</td><td>-0.9541</td></tr><tr><td>a</td><td>c</td><td>0.8928</td></tr></table>"
      ],
      "text/plain": [
       "<lmfit.model.ModelResult at 0x238472f9fa0>"
      ]
     },
     "execution_count": 1394,
     "metadata": {},
     "output_type": "execute_result"
    }
   ],
   "source": [
    "rese"
   ]
  },
  {
   "cell_type": "code",
   "execution_count": null,
   "id": "e8e54a6c",
   "metadata": {},
   "outputs": [],
   "source": [
    "plt.plot(qmodel())"
   ]
  },
  {
   "cell_type": "code",
   "execution_count": 1355,
   "id": "aac6500f",
   "metadata": {},
   "outputs": [],
   "source": [
    "from lmfit import Model\n",
    "\n",
    "def sr_splitting(N,g,l):\n",
    "    return g/2*(1 - l**2/(N*(N+1)))*N + g/2*(1- l**2/(N*(N+1)))*(N+1)\n",
    "\n",
    "srmodel = Model(sr_splitting)    "
   ]
  },
  {
   "cell_type": "code",
   "execution_count": 1356,
   "id": "6626f373",
   "metadata": {},
   "outputs": [],
   "source": [
    "parsf = Parameters()\n",
    "parsf.add('g', value=0.05, min=0, max=10)\n",
    "parsf.add('l',value=0,vary=False)\n",
    "parse = Parameters()\n",
    "parse.add('g', value=0.05, min=0, max=10)\n",
    "parse.add('l',value=0,vary=False)\n"
   ]
  },
  {
   "cell_type": "code",
   "execution_count": 529,
   "id": "946d9971",
   "metadata": {},
   "outputs": [],
   "source": [
    "Ni=4\n",
    "resf = srmodel.fit(sr_f[Ni:],parsf,N=N[Ni:])\n",
    "rese = srmodel.fit(sr_e[Ni:],parse,N=N[Ni:])"
   ]
  },
  {
   "cell_type": "code",
   "execution_count": 530,
   "id": "979e1ab2",
   "metadata": {},
   "outputs": [
    {
     "data": {
      "text/html": [
       "<h2> Model</h2> Model(sr_splitting) <h2>Fit Statistics</h2><table><tr><td>fitting method</td><td>leastsq</td><td></td></tr><tr><td># function evals</td><td>8</td><td></td></tr><tr><td># data points</td><td>10</td><td></td></tr><tr><td># variables</td><td>1</td><td></td></tr><tr><td>chi-square</td><td> 0.00246231</td><td></td></tr><tr><td>reduced chi-square</td><td> 2.7359e-04</td><td></td></tr><tr><td>Akaike info crit.</td><td>-81.0924191</td><td></td></tr><tr><td>Bayesian info crit.</td><td>-80.7898340</td><td></td></tr></table><h2>Variables</h2><table><tr><th> name </th><th> value </th><th> standard error </th><th> relative error </th><th> initial value </th><th> min </th><th> max </th><th> vary </th></tr><tr><td> g </td><td>  0.06239119 </td><td>  5.0273e-04 </td><td> (0.81%) </td><td> 0.05 </td><td>  0.00000000 </td><td>  10.0000000 </td><td> True </td></tr><tr><td> l </td><td>  0.00000000 </td><td>  0.00000000 </td><td>  </td><td> 0 </td><td>        -inf </td><td>         inf </td><td> False </td></tr></table>"
      ],
      "text/plain": [
       "<lmfit.model.ModelResult at 0x2383cfc0e20>"
      ]
     },
     "execution_count": 530,
     "metadata": {},
     "output_type": "execute_result"
    }
   ],
   "source": [
    "resf"
   ]
  },
  {
   "cell_type": "code",
   "execution_count": 531,
   "id": "432ed39b",
   "metadata": {},
   "outputs": [
    {
     "data": {
      "text/plain": [
       "[<matplotlib.lines.Line2D at 0x2383c9c4400>]"
      ]
     },
     "execution_count": 531,
     "metadata": {},
     "output_type": "execute_result"
    },
    {
     "data": {
      "image/png": "[encoded data removed]",
      "text/plain": [
       "<Figure size 640x480 with 1 Axes>"
      ]
     },
     "metadata": {},
     "output_type": "display_data"
    }
   ],
   "source": [
    "plt.plot(N,sr_f)\n",
    "# plt.plot(N,sr_e)\n",
    "plt.plot(N,sr_splitting(N,**resf.params))"
   ]
  },
  {
   "cell_type": "code",
   "execution_count": 1402,
   "id": "80ab30d3",
   "metadata": {},
   "outputs": [
    {
     "data": {
      "text/plain": [
       "0.3055030348004948"
      ]
     },
     "execution_count": 1402,
     "metadata": {},
     "output_type": "execute_result"
    }
   ],
   "source": [
    "((sr_f+sr_e)[:3]/2).mean()"
   ]
  },
  {
   "cell_type": "code",
   "execution_count": 532,
   "id": "a8d5632f",
   "metadata": {},
   "outputs": [
    {
     "data": {
      "text/plain": [
       "[<matplotlib.lines.Line2D at 0x2383d0931f0>]"
      ]
     },
     "execution_count": 532,
     "metadata": {},
     "output_type": "execute_result"
    },
    {
     "data": {
      "image/png": "[encoded data removed]",
      "text/plain": [
       "<Figure size 640x480 with 1 Axes>"
      ]
     },
     "metadata": {},
     "output_type": "display_data"
    }
   ],
   "source": [
    "# plt.plot(N,sr_f)`\n",
    "plt.plot(N,sr_e)\n",
    "plt.plot(N,sr_splitting(N,**rese.params))"
   ]
  },
  {
   "cell_type": "code",
   "execution_count": 533,
   "id": "5806e1df",
   "metadata": {},
   "outputs": [
    {
     "data": {
      "text/html": [
       "<h2> Model</h2> Model(sr_splitting) <h2>Fit Statistics</h2><table><tr><td>fitting method</td><td>leastsq</td><td></td></tr><tr><td># function evals</td><td>8</td><td></td></tr><tr><td># data points</td><td>10</td><td></td></tr><tr><td># variables</td><td>1</td><td></td></tr><tr><td>chi-square</td><td> 0.00160779</td><td></td></tr><tr><td>reduced chi-square</td><td> 1.7864e-04</td><td></td></tr><tr><td>Akaike info crit.</td><td>-85.3548271</td><td></td></tr><tr><td>Bayesian info crit.</td><td>-85.0522420</td><td></td></tr></table><h2>Variables</h2><table><tr><th> name </th><th> value </th><th> standard error </th><th> relative error </th><th> initial value </th><th> min </th><th> max </th><th> vary </th></tr><tr><td> g </td><td>  0.06167571 </td><td>  4.0624e-04 </td><td> (0.66%) </td><td> 0.05 </td><td>  0.00000000 </td><td>  10.0000000 </td><td> True </td></tr><tr><td> l </td><td>  0.00000000 </td><td>  0.00000000 </td><td>  </td><td> 0 </td><td>        -inf </td><td>         inf </td><td> False </td></tr></table>"
      ],
      "text/plain": [
       "<lmfit.model.ModelResult at 0x2383cfc0be0>"
      ]
     },
     "execution_count": 533,
     "metadata": {},
     "output_type": "execute_result"
    }
   ],
   "source": [
    "rese"
   ]
  },
  {
   "cell_type": "code",
   "execution_count": 534,
   "id": "a2b845de",
   "metadata": {},
   "outputs": [
    {
     "name": "stdout",
     "output_type": "stream",
     "text": [
      "sr mean 0.06203345403773236\n",
      "sr diff -0.0003577403476542895\n"
     ]
    }
   ],
   "source": [
    "print('sr mean',(rese.params['g'].value+resf.params['g'].value)/2)\n",
    "print('sr diff',(rese.params['g'].value-resf.params['g'].value)/2)"
   ]
  },
  {
   "cell_type": "code",
   "execution_count": 535,
   "id": "8f2b9a91",
   "metadata": {},
   "outputs": [
    {
     "name": "stdout",
     "output_type": "stream",
     "text": [
      "sr mean 1859.716166420181\n",
      "sr diff -10.724785814905399\n"
     ]
    }
   ],
   "source": [
    "print('sr mean',29979.2458*(rese.params['g'].value+resf.params['g'].value)/2)\n",
    "print('sr diff',29979.2458*(rese.params['g'].value-resf.params['g'].value)/2)"
   ]
  },
  {
   "cell_type": "code",
   "execution_count": 491,
   "id": "237c429d",
   "metadata": {},
   "outputs": [
    {
     "data": {
      "text/html": [
       "<table><tr><th> name </th><th> value </th><th> standard error </th><th> relative error </th><th> initial value </th><th> min </th><th> max </th><th> vary </th></tr><tr><td> w2 </td><td>  327.875425 </td><td>  0.08460289 </td><td> (0.03%) </td><td> 327.8753882662715 </td><td>  320.000000 </td><td>  340.000000 </td><td> True </td></tr><tr><td> A </td><td>  1350.00000 </td><td>  0.00000000 </td><td> (0.00%) </td><td> 1350 </td><td>        -inf </td><td>         inf </td><td> False </td></tr><tr><td> D </td><td>  0.00000000 </td><td>  0.00000000 </td><td>  </td><td> 0 </td><td>        -inf </td><td>         inf </td><td> False </td></tr><tr><td> eDw2 </td><td>  0.00000000 </td><td>  0.00000000 </td><td>  </td><td> 0 </td><td>        -inf </td><td>         inf </td><td> False </td></tr><tr><td> B </td><td>  0.25264138 </td><td>  1.8229e-04 </td><td> (0.07%) </td><td> 0.25264126878244064 </td><td>  0.23000000 </td><td>  0.27000000 </td><td> True </td></tr><tr><td> pe </td><td> -0.43780000 </td><td>  0.00000000 </td><td> (0.00%) </td><td> -0.4378 </td><td> -5.00000000 </td><td>  5.00000000 </td><td> False </td></tr><tr><td> pv </td><td> -0.43780000 </td><td>  0.00000000 </td><td> (0.00%) </td><td> -0.4378 </td><td> -5.00000000 </td><td>  5.00000000 </td><td> False </td></tr><tr><td> gK </td><td>  0.21558554 </td><td>  0.00692838 </td><td> (3.21%) </td><td> 0.21558758616701468 </td><td> -5.00000000 </td><td>  5.00000000 </td><td> True </td></tr><tr><td> gamma </td><td>  0.01814449 </td><td>  0.03404243 </td><td> (187.62%) </td><td> 0.018129271848437156 </td><td> -5.00000000 </td><td>  5.00000000 </td><td> True </td></tr><tr><td> e </td><td> -0.06788612 </td><td>  0.00377990 </td><td> (5.57%) </td><td> -0.0678844738969363 </td><td> -0.50000000 </td><td> -1.0000e-03 </td><td> True </td></tr><tr><td> T0 </td><td>  17998.5875 </td><td>  0.00000000 </td><td> (0.00%) </td><td> 17998.5875 </td><td>  0.00000000 </td><td>  18010.0000 </td><td> False </td></tr></table>"
      ],
      "text/plain": [
       "Parameters([('w2', <Parameter 'w2', value=327.8754251754258 +/- 0.0846, bounds=[320:340]>), ('A', <Parameter 'A', value=1350 (fixed), bounds=[-inf:inf]>), ('D', <Parameter 'D', value=0 (fixed), bounds=[-inf:inf]>), ('eDw2', <Parameter 'eDw2', value=0 (fixed), bounds=[-inf:inf]>), ('B', <Parameter 'B', value=0.2526413827709153 +/- 0.000182, bounds=[0.23:0.27]>), ('pe', <Parameter 'pe', value=-0.4378 (fixed), bounds=[-5:5]>), ('pv', <Parameter 'pv', value=-0.4378 (fixed), bounds=[-5:5]>), ('gK', <Parameter 'gK', value=0.21558554364824853 +/- 0.00693, bounds=[-5:5]>), ('gamma', <Parameter 'gamma', value=0.01814448821866168 +/- 0.034, bounds=[-5:5]>), ('e', <Parameter 'e', value=-0.06788611646330678 +/- 0.00378, bounds=[-0.5:-0.001]>), ('T0', <Parameter 'T0', value=17998.5875 (fixed), bounds=[0:18010]>)])"
      ]
     },
     "execution_count": 491,
     "metadata": {},
     "output_type": "execute_result"
    }
   ],
   "source": [
    "out2.params"
   ]
  },
  {
   "cell_type": "code",
   "execution_count": 767,
   "id": "32778a1c",
   "metadata": {},
   "outputs": [],
   "source": [
    "elevels = np.array(elevels)\n",
    "flevels = np.array(flevels)"
   ]
  },
  {
   "cell_type": "code",
   "execution_count": 772,
   "id": "d2216fb6",
   "metadata": {},
   "outputs": [],
   "source": [
    "dparity = elevels - flevels"
   ]
  },
  {
   "cell_type": "code",
   "execution_count": 784,
   "id": "53c11e73",
   "metadata": {},
   "outputs": [],
   "source": [
    "qeff = ((dparity[1:]+dparity[:1])/2)[::2]"
   ]
  },
  {
   "cell_type": "code",
   "execution_count": 785,
   "id": "4aeb9588",
   "metadata": {},
   "outputs": [
    {
     "data": {
      "text/plain": [
       "[<matplotlib.lines.Line2D at 0x1e06c0133a0>]"
      ]
     },
     "execution_count": 785,
     "metadata": {},
     "output_type": "execute_result"
    },
    {
     "data": {
      "image/png": "[encoded data removed]",
      "text/plain": [
       "<Figure size 640x480 with 1 Axes>"
      ]
     },
     "metadata": {},
     "output_type": "display_data"
    }
   ],
   "source": [
    "plt.plot(((dparity[1:]+dparity[:1])/2)[::2])"
   ]
  },
  {
   "cell_type": "code",
   "execution_count": 808,
   "id": "38d2074e",
   "metadata": {},
   "outputs": [],
   "source": [
    "qmodel = QuadraticModel(independent_vars=['x'])\n",
    "pars = Parameters()\n",
    "pars.add('a', value=-0.02, min=-1, max=1)\n",
    "pars.add('b', value=0,vary=True)\n",
    "pars.add('c',0,vary=True)"
   ]
  },
  {
   "cell_type": "code",
   "execution_count": 809,
   "id": "8329eb26",
   "metadata": {},
   "outputs": [
    {
     "data": {
      "text/html": [
       "<h2> Model</h2> Model(parabolic) <h2>Fit Statistics</h2><table><tr><td>fitting method</td><td>leastsq</td><td></td></tr><tr><td># function evals</td><td>16</td><td></td></tr><tr><td># data points</td><td>14</td><td></td></tr><tr><td># variables</td><td>3</td><td></td></tr><tr><td>chi-square</td><td> 6.6457e-10</td><td></td></tr><tr><td>reduced chi-square</td><td> 6.0415e-11</td><td></td></tr><tr><td>Akaike info crit.</td><td>-326.793160</td><td></td></tr><tr><td>Bayesian info crit.</td><td>-324.875988</td><td></td></tr></table><h2>Variables</h2><table><tr><th> name </th><th> value </th><th> standard error </th><th> relative error </th><th> initial value </th><th> min </th><th> max </th><th> vary </th></tr><tr><td> a </td><td> -8.1293e-05 </td><td>  1.4404e-07 </td><td> (0.18%) </td><td> -0.02 </td><td> -1.00000000 </td><td>  1.00000000 </td><td> True </td></tr><tr><td> b </td><td> -0.00414677 </td><td>  2.2212e-06 </td><td> (0.05%) </td><td> 0 </td><td>        -inf </td><td>         inf </td><td> True </td></tr><tr><td> c </td><td> -0.01249066 </td><td>  7.2421e-06 </td><td> (0.06%) </td><td> 0 </td><td>        -inf </td><td>         inf </td><td> True </td></tr></table><h2>Correlations (unreported correlations are < 0.100)</h2><table><tr><td>a</td><td>b</td><td>-0.9727</td></tr><tr><td>b</td><td>c</td><td>-0.8977</td></tr><tr><td>a</td><td>c</td><td>0.7956</td></tr></table>"
      ],
      "text/plain": [
       "<lmfit.model.ModelResult at 0x1e0677cab20>"
      ]
     },
     "execution_count": 809,
     "metadata": {},
     "output_type": "execute_result"
    }
   ],
   "source": [
    "res = qmodel.fit(qeff,pars,x=N)\n",
    "res"
   ]
  },
  {
   "cell_type": "code",
   "execution_count": 811,
   "id": "fe3332cb",
   "metadata": {},
   "outputs": [
    {
     "data": {
      "text/plain": [
       "[<matplotlib.lines.Line2D at 0x1e0623701f0>]"
      ]
     },
     "execution_count": 811,
     "metadata": {},
     "output_type": "execute_result"
    },
    {
     "data": {
      "image/png": "[encoded data removed]",
      "text/plain": [
       "<Figure size 640x480 with 1 Axes>"
      ]
     },
     "metadata": {},
     "output_type": "display_data"
    }
   ],
   "source": [
    "q = res.params['a']\n",
    "q1 = res.params['b']\n",
    "q0 = res.params['c']\n",
    "plt.plot(N,qeff)\n",
    "plt.plot(N,q*N**2+q1*N+q0)"
   ]
  },
  {
   "cell_type": "code",
   "execution_count": 1408,
   "id": "822bb66e",
   "metadata": {},
   "outputs": [
    {
     "data": {
      "image/png": "[encoded data removed]",
      "text/plain": [
       "<Figure size 1000x600 with 1 Axes>"
      ]
     },
     "metadata": {},
     "output_type": "display_data"
    }
   ],
   "source": [
    "subB = True\n",
    "fitparams = out2.params\n",
    "plt.figure(figsize=(10,6))\n",
    "show_actual=False\n",
    "off=[]\n",
    "delta_on_e = []\n",
    "delta_off_e = []\n",
    "for J in np.arange(1/2,20.5):\n",
    "    Hp = A010(J,1,fitparams,depert=True)\n",
    "    Hm = A010(J,-1,fitparams,depert=True)\n",
    "    vals_p,vecs_p = np.linalg.eigh(Hp)\n",
    "    vals_m,vecs_m = np.linalg.eigh(Hm)\n",
    "    vals_p = vals_p[vals_p<18000]\n",
    "    vals_m = vals_m[vals_m<18000]\n",
    "    if J==1/2:\n",
    "        off = [min(data_p)-min(vals_p),min(data_m)-min(vals_m)]\n",
    "#     print((vals_p-vals_m)*29979.2458)\n",
    "    _J = np.array([J for i in vals_p])\n",
    "    if (-1)**(J-1/2)<1:\n",
    "        p_mark = 'ro'\n",
    "        m_mark = 'bs'\n",
    "    else:\n",
    "        p_mark = 'bs'\n",
    "        m_mark = 'ro'\n",
    "    plt.plot(_J,vals_p-out2.params['B']*subB*_J*(_J+1),p_mark,mfc='white',mew=1.5)\n",
    "    plt.plot(_J,vals_m-out2.params['B']*subB*_J*(_J+1),m_mark,mfc='white',mew=1.5)\n",
    "    delta_off_e.append((vals_m.max()-vals_m.min())/2+(vals_p.max()-vals_p.min())/2)\n",
    "    if show_actual:\n",
    "        Hp = A010(J,1,fitparams,depert=False)\n",
    "        Hm = A010(J,-1,fitparams,depert=False)\n",
    "        vals_p,vecs_p = np.linalg.eigh(Hp)\n",
    "        vals_m,vecs_m = np.linalg.eigh(Hm)\n",
    "        vals_p = vals_p[vals_p<18000]\n",
    "        vals_m = vals_m[vals_m<18000]\n",
    "        if J==1/2:\n",
    "            off = [min(data_p)-min(vals_p),min(data_m)-min(vals_m)]\n",
    "        #     print((vals_p-vals_m)*29979.2458)\n",
    "        _J = [J for i in vals_p]\n",
    "        if (-1)**(J-1/2)<1:\n",
    "            p_mark = 'ro'\n",
    "            m_mark = 'bs'\n",
    "        else:\n",
    "            p_mark = 'bs'\n",
    "            m_mark = 'ro'\n",
    "        plt.plot(_J,vals_p-out2.params['B']*subB*J*(J+1),p_mark)\n",
    "        plt.plot(_J,vals_m-out2.params['B']*subB*J*(J+1),m_mark)\n",
    "        delta_on_e.append((vals_m.max()-vals_m.min())/2+(vals_p.max()-vals_p.min())/2)"
   ]
  },
  {
   "cell_type": "code",
   "execution_count": 123,
   "id": "86779079",
   "metadata": {},
   "outputs": [
    {
     "data": {
      "image/png": "[encoded data removed]",
      "text/plain": [
       "<Figure size 720x432 with 1 Axes>"
      ]
     },
     "metadata": {},
     "output_type": "display_data"
    }
   ],
   "source": [
    "subB = True\n",
    "fitparams = out2.params\n",
    "plt.figure(figsize=(10,6))\n",
    "show_actual=True\n",
    "off=[]\n",
    "delta_on_e = []\n",
    "delta_off_e = []\n",
    "for J in np.arange(1/2,20.5):\n",
    "    Hp = A010(J,1,fitparams,depert=True)\n",
    "    Hm = A010(J,-1,fitparams,depert=True)\n",
    "    vals_p,vecs_p = np.linalg.eigh(Hp)\n",
    "    vals_m,vecs_m = np.linalg.eigh(Hm)\n",
    "    vals_p = vals_p[vals_p<18000]\n",
    "    vals_m = vals_m[vals_m<18000]\n",
    "    if J==1/2:\n",
    "        off = [min(data_p)-min(vals_p),min(data_m)-min(vals_m)]\n",
    "#     print((vals_p-vals_m)*29979.2458)\n",
    "    _J = np.array([J for i in vals_p])\n",
    "    if (-1)**(J-1/2)<1:\n",
    "        p_mark = 'ro'\n",
    "        m_mark = 'bs'\n",
    "    else:\n",
    "        p_mark = 'bs'\n",
    "        m_mark = 'ro'\n",
    "    plt.plot(_J,vals_p-out2.params['B']*subB*_J*(_J+1),p_mark,mfc='white',mew=1.5)\n",
    "    plt.plot(_J,vals_m-out2.params['B']*subB*_J*(_J+1),m_mark,mfc='white',mew=1.5)\n",
    "    delta_off_e.append((vals_m.max()-vals_m.min())/2+(vals_p.max()-vals_p.min())/2)\n",
    "    if show_actual:\n",
    "        Hp = A010(J,1,fitparams,depert=False)\n",
    "        Hm = A010(J,-1,fitparams,depert=False)\n",
    "        vals_p,vecs_p = np.linalg.eigh(Hp)\n",
    "        vals_m,vecs_m = np.linalg.eigh(Hm)\n",
    "        vals_p = vals_p[vals_p<18000]\n",
    "        vals_m = vals_m[vals_m<18000]\n",
    "        if J==1/2:\n",
    "            off = [min(data_p)-min(vals_p),min(data_m)-min(vals_m)]\n",
    "        #     print((vals_p-vals_m)*29979.2458)\n",
    "        _J = [J for i in vals_p]\n",
    "        if (-1)**(J-1/2)<1:\n",
    "            p_mark = 'ro'\n",
    "            m_mark = 'bs'\n",
    "        else:\n",
    "            p_mark = 'bs'\n",
    "            m_mark = 'ro'\n",
    "        plt.plot(_J,vals_p-out2.params['B']*subB*J*(J+1),p_mark)\n",
    "        plt.plot(_J,vals_m-out2.params['B']*subB*J*(J+1),m_mark)\n",
    "        delta_on_e.append((vals_m.max()-vals_m.min())/2+(vals_p.max()-vals_p.min())/2)"
   ]
  },
  {
   "cell_type": "code",
   "execution_count": 398,
   "id": "49077646",
   "metadata": {},
   "outputs": [
    {
     "data": {
      "text/plain": [
       "[<matplotlib.lines.Line2D at 0x1e066b51d30>]"
      ]
     },
     "execution_count": 398,
     "metadata": {},
     "output_type": "execute_result"
    },
    {
     "data": {
      "image/png": "[encoded data removed]",
      "text/plain": [
       "<Figure size 640x480 with 1 Axes>"
      ]
     },
     "metadata": {},
     "output_type": "display_data"
    }
   ],
   "source": [
    "_J = np.arange(1/2,20.5)\n",
    "plt.plot(_J, delta_on_e,'b.')\n",
    "plt.plot(_J, delta_off_e,'r.')"
   ]
  },
  {
   "cell_type": "code",
   "execution_count": 376,
   "id": "9f2743a3",
   "metadata": {},
   "outputs": [
    {
     "data": {
      "text/plain": [
       "0.007994635836439556"
      ]
     },
     "execution_count": 376,
     "metadata": {},
     "output_type": "execute_result"
    }
   ],
   "source": [
    "(delta_off_e[-1] - delta_off_e[-2])"
   ]
  },
  {
   "cell_type": "code",
   "execution_count": 385,
   "id": "a43be636",
   "metadata": {},
   "outputs": [
    {
     "data": {
      "text/plain": [
       "-0.008148148148148154"
      ]
     },
     "execution_count": 385,
     "metadata": {},
     "output_type": "execute_result"
    }
   ],
   "source": [
    "(22+0.25-1/2)**2/(2*1350) - (22-0.25+1/2)**2/(2*1350) "
   ]
  },
  {
   "cell_type": "code",
   "execution_count": 386,
   "id": "b2679507",
   "metadata": {},
   "outputs": [
    {
     "data": {
      "text/plain": [
       "-0.008147066275114412"
      ]
     },
     "execution_count": 386,
     "metadata": {},
     "output_type": "execute_result"
    }
   ],
   "source": [
    "np.sqrt((22-0.25)**2+1350**2)-np.sqrt((22+0.25)**2+1350**2)"
   ]
  },
  {
   "cell_type": "code",
   "execution_count": null,
   "id": "1227bf56",
   "metadata": {},
   "outputs": [],
   "source": []
  },
  {
   "cell_type": "code",
   "execution_count": 344,
   "id": "b3ac1640",
   "metadata": {},
   "outputs": [
    {
     "data": {
      "text/plain": [
       "[0.5]"
      ]
     },
     "execution_count": 344,
     "metadata": {},
     "output_type": "execute_result"
    }
   ],
   "source": [
    "_J"
   ]
  },
  {
   "cell_type": "code",
   "execution_count": 302,
   "id": "4d28e884",
   "metadata": {},
   "outputs": [
    {
     "data": {
      "text/plain": [
       "0.252649390496936"
      ]
     },
     "execution_count": 302,
     "metadata": {},
     "output_type": "execute_result"
    }
   ],
   "source": [
    "out2.params['B'].value"
   ]
  },
  {
   "cell_type": "code",
   "execution_count": 298,
   "id": "e93033a6",
   "metadata": {},
   "outputs": [
    {
     "data": {
      "text/plain": [
       "array([17651.26231296, 17650.91536479, 17651.68786479, 17650.65171783,\n",
       "       17651.91031783])"
      ]
     },
     "execution_count": 298,
     "metadata": {},
     "output_type": "execute_result"
    }
   ],
   "source": [
    "J_data = np.array([1/2,3/2,3/2,5/2,5/2])\n",
    "data_p-out2.params['B']*J_data*(J_data+1)"
   ]
  },
  {
   "cell_type": "code",
   "execution_count": 40,
   "id": "42144c2d",
   "metadata": {},
   "outputs": [
    {
     "data": {
      "text/plain": [
       "(-1.0, 1.0)"
      ]
     },
     "execution_count": 40,
     "metadata": {},
     "output_type": "execute_result"
    },
    {
     "data": {
      "image/png": "[encoded data removed]",
      "text/plain": [
       "<Figure size 1080x720 with 1 Axes>"
      ]
     },
     "metadata": {
      "needs_background": "light"
     },
     "output_type": "display_data"
    }
   ],
   "source": [
    "sub_B = False\n",
    "\n",
    "plt.figure(figsize=(15,10))\n",
    "off=[]\n",
    "for J in np.arange(1/2,6):\n",
    "    Hp = A010(J,1,out2.params)\n",
    "    Hm = A010(J,-1,out2.params)\n",
    "    vals_p,vecs_p = np.linalg.eigh(Hp)\n",
    "    vals_m,vecs_m = np.linalg.eigh(Hm)\n",
    "    if J==1/2:\n",
    "        off = [min(vals_p),min(vals_m)]\n",
    "#     print((vals_p-vals_m)*29979.2458)\n",
    "    [plt.hlines(y=val,color='red',xmin=0.0,xmax=0.5) for val in vals_p]\n",
    "    [plt.annotate(f'{J}+',(0.55,val)) for val in vals_p]\n",
    "    [plt.hlines(y=val,color='blue',xmin=-0.5,xmax=-0.0) for val in vals_m]\n",
    "    [plt.hlines(y=_p-min(data_p)+off[0],color='k',linestyle='--',xmin=0.0,xmax=0.5) for _p in data_p]\n",
    "    [plt.hlines(y=_m-min(data_m)+off[1],color='k',linestyle='--',xmin=-0.5,xmax=0.0) for _m in data_m]\n",
    "    [plt.annotate(f'{J}-',(-0.55,val)) for val in vals_m]\n",
    "\n",
    "plt.ylim(31,40)\n",
    "plt.xlim(-1,1)"
   ]
  },
  {
   "cell_type": "code",
   "execution_count": 550,
   "id": "818d3faa",
   "metadata": {},
   "outputs": [
    {
     "name": "stdout",
     "output_type": "stream",
     "text": [
      "[32.33262353639491, 32.349161803808585]\n"
     ]
    }
   ],
   "source": [
    "print(off)"
   ]
  },
  {
   "cell_type": "code",
   "execution_count": 472,
   "id": "f7cc759b",
   "metadata": {},
   "outputs": [],
   "source": [
    "Hp = A010(3/2,1,out2.params)\n",
    "Hm = A010(3/2,-1,out2.params)\n",
    "vals_p,vecs_p = np.linalg.eigh(Hp)\n",
    "vals_m,vecs_m = np.linalg.eigh(Hm)"
   ]
  },
  {
   "cell_type": "code",
   "execution_count": 477,
   "id": "fe3c820e",
   "metadata": {},
   "outputs": [
    {
     "data": {
      "text/plain": [
       "array([[ 3.47432612e+01, -4.79406415e-01, -3.76885586e-01],\n",
       "       [-4.79406415e-01,  1.28676705e+03, -2.39456630e+01],\n",
       "       [-3.76885586e-01, -2.39456630e+01,  3.51714279e+01]])"
      ]
     },
     "execution_count": 477,
     "metadata": {},
     "output_type": "execute_result"
    }
   ],
   "source": [
    "Hp"
   ]
  },
  {
   "cell_type": "code",
   "execution_count": 473,
   "id": "6a64d128",
   "metadata": {},
   "outputs": [
    {
     "data": {
      "text/plain": [
       "array([  34.34200614,   35.11454148, 1287.22519202])"
      ]
     },
     "execution_count": 473,
     "metadata": {},
     "output_type": "execute_result"
    }
   ],
   "source": [
    "vals_p"
   ]
  },
  {
   "cell_type": "code",
   "execution_count": 487,
   "id": "fbeb284a",
   "metadata": {},
   "outputs": [
    {
     "data": {
      "text/plain": [
       "array([[-6.93419125e-01, -1.40390276e-02, -7.20397684e-01],\n",
       "       [-7.20534368e-01,  1.29876635e-02,  6.93297588e-01],\n",
       "       [ 3.76941257e-04, -9.99817096e-01,  1.91214961e-02]])"
      ]
     },
     "execution_count": 487,
     "metadata": {},
     "output_type": "execute_result"
    }
   ],
   "source": [
    "vecs_p.T"
   ]
  },
  {
   "cell_type": "code",
   "execution_count": 471,
   "id": "30a8b1d3",
   "metadata": {},
   "outputs": [
    {
     "data": {
      "text/plain": [
       "array([[-0.0192932 , -0.99981387],\n",
       "       [-0.99981387,  0.0192932 ]])"
      ]
     },
     "execution_count": 471,
     "metadata": {},
     "output_type": "execute_result"
    }
   ],
   "source": [
    "vecs_m"
   ]
  },
  {
   "cell_type": "code",
   "execution_count": null,
   "id": "71d74b92",
   "metadata": {},
   "outputs": [],
   "source": [
    "params_A010_SrOH={\n",
    "    'Ts':,\n",
    "    'Td':,\n",
    "    'Bd':,\n",
    "    'Bs-':,\n",
    "    'Bs+':,\n",
    "    'Dd':0,\n",
    "    'Ds-':0,\n",
    "    'Ds+':0,\n",
    "    'A':,\n",
    "    'AD':0,\n",
    "    'e':,\n",
    "    'gs-':,\n",
    "    'gs+':,\n",
    "    'gsD-':,\n",
    "    'gsD+':,\n",
    "    'qe':,\n",
    "    'qv':,\n",
    "    'pe+2qe':,\n",
    "    'w2':,\n",
    "}\n",
    "\n",
    "def A010_SrOH(J,parity,params):\n",
    "    n=4\n",
    "    Ts=0\n",
    "    H = np.zeros((n,n))\n",
    "    z=np.sqrt(J+1/2)\n",
    "    Ad = params['A']*(1-3/4*params['e']**2)\n",
    "    As = params['A']*(1-1/4*params['e']**2)\n",
    "    AdD = params['AD']*(1-3/4*params['e']**2)\n",
    "    AsD = params['AD']*(1-1/4*params['e']**2)\n",
    "    H[0,0] = params['Ts']-params['Td']+params['Bd']*(z-6)-params['Dd'] (z**2-11*z+32)+1/2*(Ad+AdD*(z-6))\n",
    "    H[0,1] = -params['Bd']*np.sqrt(z-4)+2*params['Dd']*(z-4)**(3/2)\n",
    "    H[1,0] = H[0,1]\n",
    "    H[1,1] = params['Ts'] - params['Td'] + params['Bd']*(z-2) - params['Dd']*z*(z-3)-1/2*(Ad+AdD*(z-2))\n",
    "    H[0,2] = 1/2*params['qv']*(z**2-5*z+4)**(1/2)\n",
    "    H[2,0] = H[0,2]\n",
    "    H[1,2] = (z-1)**(1/2)*(parity*1/2*(params['qe']*z**(1/2)-params['qv']))\n",
    "    H[2,1] = H[1,2]\n",
    "    H[2,2] = params['Ts'] - 1/2*(As+AsD*z) - parity*1/2*params['gs-']*z**(1/2)+params['Bs-']*z-params['Ds-']*z*(z+1)-parity*params['gs-D']*z**(1/2)*(z+1+parity*z**(1/2))\n",
    "    H[0,3] = parity*params['qe']*(z**2 - 5*z + 4)**(1/2)\n",
    "    H[3,0] = H[0,3]\n",
    "    H[1,3] = (z-1)**(1/2)*(-parity/2*params['pe+2qe']+1/2*params['qv']*z**(1/2))\n",
    "    H[3,1] = H[1,3]\n",
    "    H[2,3] = -1/2*(params['Bs-']+params['Bs+'])*z**(1/2) + (params['Ds-']+params['Ds+'])*z**(3/2)+params['e']*params['w2']\n",
    "    H[3,2] = H[2,3]\n",
    "    H[3,3] = params['Ts'] - 1/2*(As+AsD*z)+parity*params['gs+']*z**(1/2)+params['Bs+']*z - params['Ds+']*z*(z+1)+parity/2*params['gs+d']*z**(1/2)*(z+1-parity*2*z**(1/2))\n",
    "    return H"
   ]
  },
  {
   "cell_type": "code",
   "execution_count": null,
   "id": "da625553",
   "metadata": {},
   "outputs": [],
   "source": []
  }
 ],
 "metadata": {
  "kernelspec": {
   "display_name": "Python 3 (ipykernel)",
   "language": "python",
   "name": "python3"
  },
  "language_info": {
   "codemirror_mode": {
    "name": "ipython",
    "version": 3
   },
   "file_extension": ".py",
   "mimetype": "text/x-python",
   "name": "python",
   "nbconvert_exporter": "python",
   "pygments_lexer": "ipython3",
   "version": "3.7.13"
  }
 },
 "nbformat": 4,
 "nbformat_minor": 5
}
