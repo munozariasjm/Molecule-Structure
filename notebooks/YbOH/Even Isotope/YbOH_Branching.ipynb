{
    "cells": [
        {
            "cell_type": "code",
            "execution_count": 1,
            "metadata": {},
            "outputs": [],
            "source": [
                "from config_path import add_to_sys_path\n",
                "add_to_sys_path()  # Call the function to add path\n",
                "\n",
                "import numpy as np\n",
                "from sympy.physics.wigner import wigner_3j,wigner_6j\n",
                "import sympy as sy\n",
                "from numpy import linalg as LA\n",
                "from IPython.display import Latex,display\n",
                "import matplotlib.pyplot as plt\n",
                "# import seaborn as sns\n",
                "# sns.set()\n",
                "# sns.set_palette('terrain')\n",
                "from YbOH_energy_levels_symbolic import YbOHLevels\n",
                "from YbOH_energy_levels_symbolic import xa_branching_ratios\n",
                "np.set_printoptions(precision=5, suppress=True)"
            ]
        },
        {
            "cell_type": "code",
            "execution_count": 2,
            "metadata": {},
            "outputs": [],
            "source": [
                "%matplotlib qt"
            ]
        },
        {
            "cell_type": "code",
            "execution_count": 3,
            "metadata": {},
            "outputs": [],
            "source": [
                "X000_174= YbOHLevels.initialize_state('174','X000',[0,1,2],M_values='all',I=[0,1/2])"
            ]
        },
        {
            "cell_type": "code",
            "execution_count": 4,
            "metadata": {},
            "outputs": [],
            "source": [
                "A000_174= YbOHLevels.initialize_state('174','A000',[1],M_values='all',I=[0,1/2])"
            ]
        },
        {
            "cell_type": "code",
            "execution_count": 23,
            "metadata": {},
            "outputs": [],
            "source": [
                "Bz=np.linspace(1e-6,0.1,3000)"
            ]
        },
        {
            "cell_type": "code",
            "execution_count": 24,
            "metadata": {},
            "outputs": [
                {
                    "data": {
                        "text/plain": [
                            "(14770, 14785)"
                        ]
                    },
                    "execution_count": 24,
                    "metadata": {},
                    "output_type": "execute_result"
                }
            ],
            "source": [
                "X000_174.ZeemanMap(Bz,0,plot=True)\n",
                "plt.ylim(14650,14660)\n",
                "X000_174.ZeemanMap(Bz,0,plot=True)\n",
                "plt.ylim(14770,14785)"
            ]
        },
        {
            "cell_type": "code",
            "execution_count": 25,
            "metadata": {},
            "outputs": [],
            "source": [
                "A000_174.ZeemanMap(Bz,0,plot=True)"
            ]
        },
        {
            "cell_type": "code",
            "execution_count": 26,
            "metadata": {},
            "outputs": [
                {
                    "name": "stdout",
                    "output_type": "stream",
                    "text": [
                        "E = 8606.08528594614 MHz\n",
                        "\n",
                        " -0.66897 |Λ=1,Σ=-0.5,Ω=0.5,J=0.5,F=0.0,M=0.0> \n",
                        "\n",
                        " -0.66897 |Λ=-1,Σ=0.5,Ω=-0.5,J=0.5,F=0.0,M=0.0> \n",
                        "\n",
                        " -0.22908 |Λ=1,Σ=-0.5,Ω=0.5,J=0.5,F=1.0,M=0.0> \n",
                        "\n",
                        " -0.22908 |Λ=-1,Σ=0.5,Ω=-0.5,J=0.5,F=1.0,M=0.0> \n",
                        "\n",
                        "\n",
                        "\n",
                        "E = 8606.097701142968 MHz\n",
                        "\n",
                        " -0.70711 |Λ=1,Σ=-0.5,Ω=0.5,J=0.5,F=1.0,M=1.0> \n",
                        "\n",
                        " -0.70711 |Λ=-1,Σ=0.5,Ω=-0.5,J=0.5,F=1.0,M=1.0> \n",
                        "\n",
                        "\n",
                        "\n",
                        "E = 8606.106380716357 MHz\n",
                        "\n",
                        " 0.22908 |Λ=1,Σ=-0.5,Ω=0.5,J=0.5,F=0.0,M=0.0> \n",
                        "\n",
                        " 0.22908 |Λ=-1,Σ=0.5,Ω=-0.5,J=0.5,F=0.0,M=0.0> \n",
                        "\n",
                        " -0.66897 |Λ=1,Σ=-0.5,Ω=0.5,J=0.5,F=1.0,M=0.0> \n",
                        "\n",
                        " -0.66897 |Λ=-1,Σ=0.5,Ω=-0.5,J=0.5,F=1.0,M=0.0> \n",
                        "\n",
                        "\n",
                        "\n",
                        "E = 8606.110632182908 MHz\n",
                        "\n",
                        " -0.70711 |Λ=1,Σ=-0.5,Ω=0.5,J=0.5,F=1.0,M=-1.0> \n",
                        "\n",
                        " -0.70711 |Λ=-1,Σ=0.5,Ω=-0.5,J=0.5,F=1.0,M=-1.0> \n",
                        "\n",
                        "\n",
                        "\n"
                    ]
                }
            ],
            "source": [
                "plt.figure(figsize=(10,5))\n",
                "for (i,trace) in enumerate(A000_174.evals_B.T[:4]):\n",
                "    A000_174.write_state(i,0,0.016)\n",
                "    plt.plot(Bz,trace)\n",
                "    print('\\n')\n",
                "plt.show()"
            ]
        },
        {
            "cell_type": "code",
            "execution_count": 27,
            "metadata": {},
            "outputs": [
                {
                    "name": "stdout",
                    "output_type": "stream",
                    "text": [
                        "E = 14654.295619542896 MHz\n",
                        "\n",
                        " -0.01979 |Λ=0,N=1,J=0.5,F=1.0,M=-1.0> \n",
                        "\n",
                        " 0.9998 |Λ=0,N=1,J=1.5,F=1.0,M=-1.0> \n",
                        "\n",
                        " -0.00225 |Λ=0,N=1,J=1.5,F=2.0,M=-1.0> \n",
                        "\n",
                        "\n",
                        "\n",
                        "E = 14654.313864430407 MHz\n",
                        "\n",
                        " 0.00017 |Λ=0,N=1,J=0.5,F=0.0,M=0.0> \n",
                        "\n",
                        " -0.01988 |Λ=0,N=1,J=0.5,F=1.0,M=0.0> \n",
                        "\n",
                        " 0.9998 |Λ=0,N=1,J=1.5,F=1.0,M=0.0> \n",
                        "\n",
                        " -0.0026 |Λ=0,N=1,J=1.5,F=2.0,M=0.0> \n",
                        "\n",
                        "\n",
                        "\n",
                        "E = 14654.332124709179 MHz\n",
                        "\n",
                        " 0.01997 |Λ=0,N=1,J=0.5,F=1.0,M=1.0> \n",
                        "\n",
                        " -0.9998 |Λ=0,N=1,J=1.5,F=1.0,M=1.0> \n",
                        "\n",
                        " 0.00226 |Λ=0,N=1,J=1.5,F=2.0,M=1.0> \n",
                        "\n",
                        "\n",
                        "\n",
                        "E = 14657.321640255002 MHz\n",
                        "\n",
                        " 1.0 |Λ=0,N=1,J=1.5,F=2.0,M=-2.0> \n",
                        "\n",
                        "\n",
                        "\n"
                    ]
                }
            ],
            "source": [
                "plt.figure(figsize=(10,5))\n",
                "for (i,trace) in enumerate(X000_174.evals_B.T[:4]):\n",
                "    X000_174.write_state(i,0,0.016)\n",
                "    plt.plot(Bz,trace)\n",
                "    print('\\n')\n",
                "plt.show()"
            ]
        },
        {
            "cell_type": "code",
            "execution_count": 28,
            "metadata": {
                "scrolled": true
            },
            "outputs": [
                {
                    "name": "stdout",
                    "output_type": "stream",
                    "text": [
                        "E = 8606.05457351611 MHz\n",
                        "\n",
                        " -0.54817 |Λ=1,Σ=-0.5,Ω=0.5,J=0.5,F=0.0,M=0.0> \n",
                        "\n",
                        " -0.54817 |Λ=-1,Σ=0.5,Ω=-0.5,J=0.5,F=0.0,M=0.0> \n",
                        "\n",
                        " -0.44666 |Λ=1,Σ=-0.5,Ω=0.5,J=0.5,F=1.0,M=0.0> \n",
                        "\n",
                        " -0.44666 |Λ=-1,Σ=0.5,Ω=-0.5,J=0.5,F=1.0,M=0.0> \n",
                        "\n",
                        "gfactor = -0.00024629057858788965\n",
                        "\n",
                        "\n",
                        "E = 8606.063757144599 MHz\n",
                        "\n",
                        " 0.70711 |Λ=1,Σ=-0.5,Ω=0.5,J=0.5,F=1.0,M=1.0> \n",
                        "\n",
                        " 0.70711 |Λ=-1,Σ=0.5,Ω=-0.5,J=0.5,F=1.0,M=1.0> \n",
                        "\n",
                        "gfactor = -0.28871651804162046\n",
                        "\n",
                        "\n",
                        "E = 8606.13709310918 MHz\n",
                        "\n",
                        " 0.44666 |Λ=1,Σ=-0.5,Ω=0.5,J=0.5,F=0.0,M=0.0> \n",
                        "\n",
                        " 0.44666 |Λ=-1,Σ=0.5,Ω=-0.5,J=0.5,F=0.0,M=0.0> \n",
                        "\n",
                        " -0.54817 |Λ=1,Σ=-0.5,Ω=0.5,J=0.5,F=1.0,M=0.0> \n",
                        "\n",
                        " -0.54817 |Λ=-1,Σ=0.5,Ω=-0.5,J=0.5,F=1.0,M=0.0> \n",
                        "\n",
                        "gfactor = 0.0002474598644492026\n",
                        "\n",
                        "\n",
                        "E = 8606.144576144121 MHz\n",
                        "\n",
                        " -0.70711 |Λ=1,Σ=-0.5,Ω=0.5,J=0.5,F=1.0,M=-1.0> \n",
                        "\n",
                        " -0.70711 |Λ=-1,Σ=0.5,Ω=-0.5,J=0.5,F=1.0,M=-1.0> \n",
                        "\n",
                        "gfactor = 0.2887162841844482\n",
                        "\n",
                        "\n"
                    ]
                }
            ],
            "source": [
                "plt.figure(figsize=(10,5))\n",
                "deltaB = Bz[1]-Bz[0]\n",
                "for (i,trace) in enumerate(A000_174.evals_B.T[:4]):\n",
                "    A000_174.write_state(i,0,0.1)\n",
                "    grad = np.gradient(trace)\n",
                "    print('gfactor =',grad[0]/deltaB/1.399624494)\n",
                "    plt.plot(Bz,grad/deltaB)\n",
                "    print('\\n')\n",
                "plt.show()"
            ]
        },
        {
            "cell_type": "code",
            "execution_count": 84,
            "metadata": {},
            "outputs": [],
            "source": [
                "def gF(N,J,F,I=1/2,S=1/2):\n",
                "    if F==0:\n",
                "        return 0\n",
                "    else:\n",
                "        return 2*(J*(J+1)-N*(N+1)+S*(S+1))/(2*J*(J+1))*(F*(F+1)-I*(I+1)+J*(J+1))/(2*F*(F+1))"
            ]
        },
        {
            "cell_type": "code",
            "execution_count": 95,
            "metadata": {},
            "outputs": [
                {
                    "data": {
                        "text/plain": [
                            "-0.3333333333333333"
                        ]
                    },
                    "execution_count": 95,
                    "metadata": {},
                    "output_type": "execute_result"
                }
            ],
            "source": [
                "gF(1,1/2,1)"
            ]
        },
        {
            "cell_type": "code",
            "execution_count": 79,
            "metadata": {},
            "outputs": [
                {
                    "name": "stdout",
                    "output_type": "stream",
                    "text": [
                        "Successfully converted eigenvectors from bBJ to aBJ\n"
                    ]
                }
            ],
            "source": [
                "BR0 = xa_branching_ratios(X000_174,A000_174,0,16e-3)"
            ]
        },
        {
            "cell_type": "code",
            "execution_count": 5,
            "metadata": {},
            "outputs": [
                {
                    "name": "stdout",
                    "output_type": "stream",
                    "text": [
                        "Successfully converted eigenvectors from bBJ to aBJ\n"
                    ]
                }
            ],
            "source": [
                "BR0 = xa_branching_ratios(X000_174,A000_174,0,1000)\n",
                "#BR_field = xa_branching_ratios(X000_174,A000_174,100,0.35)"
            ]
        },
        {
            "cell_type": "code",
            "execution_count": 6,
            "metadata": {},
            "outputs": [],
            "source": [
                "(y,x) = BR0.shape\n",
                "h=10\n",
                "fsize = (h,h*x/y)"
            ]
        },
        {
            "cell_type": "code",
            "execution_count": 7,
            "metadata": {
                "scrolled": false
            },
            "outputs": [],
            "source": [
                "fig,axes = plt.subplots(1,2,figsize=(9,5),sharey=True,constrained_layout=True)\n",
                "axes[0].matshow(BR0)\n",
                "#axes[1].matshow(BR_field)\n",
                "for ax in axes:\n",
                "    ax.grid(False)"
            ]
        },
        {
            "cell_type": "code",
            "execution_count": 8,
            "metadata": {},
            "outputs": [],
            "source": [
                "def gen_state_str(vector,q_numbers,label_q,thresh=0.02,show_coeff=True):\n",
                "    full_label = r''\n",
                "    nonzero_idx = np.nonzero(vector)[0]\n",
                "    first = 0\n",
                "    for i,index in enumerate(nonzero_idx):\n",
                "        coeff = vector[index]\n",
                "        if abs(coeff) < thresh:\n",
                "            first+=1\n",
                "            continue\n",
                "        sign = {True: '+', False: '-'}[coeff > 0]\n",
                "        sign0 = {True: ' ', False: sign}[sign=='+']\n",
                "        if show_coeff:\n",
                "            label_str = r'${}{}|'.format({True: sign0, False: sign}[i==first],abs(coeff))\n",
                "        else:\n",
                "            label_str = r'${}|'.format({True: sign0, False: sign}[i==first])\n",
                "        val = {q:q_numbers[q][index] for q in label_q}\n",
                "        for q in label_q:\n",
                "            _q = {True: '\\u039B', False: q}[q=='L']\n",
                "            _q = {True: '\\u03A3', False: _q}[q=='Sigma']\n",
                "            _q = {True: '\\u03A9', False: _q}[q=='Omega']\n",
                "            if (abs(val[q]) % 1) !=0:\n",
                "                label_str+=r'{}=\\frac{{{}}}{{{}}},'.format(_q,*val[q].as_integer_ratio())\n",
                "            else:\n",
                "                label_str+=r'{}={},'.format(_q,int(val[q]))\n",
                "        label_str = label_str[:-1]+r'\\rangle$'\n",
                "        full_label+=label_str\n",
                "    if i==first and show_coeff==False:\n",
                "        full_label = r'$'+full_label[2:]\n",
                "    return full_label"
            ]
        },
        {
            "cell_type": "code",
            "execution_count": 10,
            "metadata": {
                "scrolled": false
            },
            "outputs": [],
            "source": [
                "fig,ax = plt.subplots(figsize=(15,15),constrained_layout=True)\n",
                "# ax.set_aspect('equal')\n",
                "mat = ax.matshow(BR0,cmap=plt.get_cmap('hot'))\n",
                "y = np.arange(0,len(X000_174.evecs0))\n",
                "x = np.arange(0,len(A000_174.evecs0))\n",
                "ax.set_yticks(y)\n",
                "ax.set_xticks(x)\n",
                "y_labels = [gen_state_str(X000_174.evecs0[i],X000_174.q_numbers,[q for q in X000_174.q_str if (q=='N' or q=='J' or q=='F' or q=='M')],thresh=0.1,show_coeff=True) for i in range(y.size)]\n",
                "x_labels = [gen_state_str(A000_174.evecs0[i],A000_174.q_numbers,[q for q in A000_174.q_str if (q=='J' or q=='F' or q=='M')],thresh=0.1,show_coeff=True) for i in range(x.size)]\n",
                "ax.set_yticklabels(y_labels, rotation='30', fontsize=10, ha='right')\n",
                "ax.set_xticklabels(x_labels, rotation='30', fontsize=10,ha='left')\n",
                "ax.tick_params(axis='both',labelsize=10,direction='out')\n",
                "ax.grid(True,which='major',color='white',ls='--',linewidth=0.5)\n",
                "ax.grid(False,which='minor')\n",
                "(bot,top) = ax.get_ylim()\n",
                "ax.set_ylim(bot+0.5, top-0.5)\n",
                "cbar = fig.colorbar(mat, ax=ax,fraction=0.015, pad=0.05)\n",
                "# cbar.set_clim([0,1]);\n",
                "# ax.set_xlim(-0.5,x.size+0.5);"
            ]
        },
        {
            "cell_type": "code",
            "execution_count": 137,
            "metadata": {},
            "outputs": [
                {
                    "data": {
                        "text/plain": [
                            "array([18, 22, 26])"
                        ]
                    },
                    "execution_count": 137,
                    "metadata": {},
                    "output_type": "execute_result"
                }
            ],
            "source": [
                "a = np.arange(12).reshape(4,3)\n",
                "a.sum(axis=0)"
            ]
        },
        {
            "cell_type": "code",
            "execution_count": 34,
            "metadata": {},
            "outputs": [
                {
                    "data": {
                        "text/plain": [
                            "array([0.99994, 0.99996, 0.99996, 0.99994, 0.     , 0.     , 0.     ,\n",
                            "       0.     , 0.     , 0.     , 0.     , 0.     , 0.     , 0.     ,\n",
                            "       0.     , 0.     , 0.69999, 0.70001, 0.70007, 0.70007, 0.70005,\n",
                            "       0.70006, 0.7    , 0.70001])"
                        ]
                    },
                    "execution_count": 34,
                    "metadata": {},
                    "output_type": "execute_result"
                }
            ],
            "source": [
                "BR0.sum(axis=0)"
            ]
        },
        {
            "cell_type": "code",
            "execution_count": 70,
            "metadata": {},
            "outputs": [
                {
                    "data": {
                        "text/plain": [
                            "array([0.     , 0.     , 0.     , 0.     , 0.06806, 0.05245, 0.06782,\n",
                            "       0.     , 0.04157, 0.05556, 0.04176, 0.     , 0.22375, 0.11421,\n",
                            "       0.22369, 0.11111])"
                        ]
                    },
                    "execution_count": 70,
                    "metadata": {},
                    "output_type": "execute_result"
                }
            ],
            "source": [
                "(BR0[:,0]+BR0[:,2])/2"
            ]
        },
        {
            "cell_type": "code",
            "execution_count": null,
            "metadata": {},
            "outputs": [],
            "source": [
                "(BR0[:,0]+BR0[:,2])/2"
            ]
        },
        {
            "cell_type": "code",
            "execution_count": 62,
            "metadata": {},
            "outputs": [
                {
                    "data": {
                        "text/plain": [
                            "array([0.11111, 0.22222, 0.11111, 0.22222, 0.     , 0.     , 0.     ,\n",
                            "       0.     , 0.     , 0.     , 0.     , 0.     , 0.     , 0.     ,\n",
                            "       0.     , 0.     ])"
                        ]
                    },
                    "execution_count": 62,
                    "metadata": {},
                    "output_type": "execute_result"
                }
            ],
            "source": [
                "(BR0[:,4]+BR0[:,6])/2"
            ]
        },
        {
            "cell_type": "code",
            "execution_count": 75,
            "metadata": {},
            "outputs": [
                {
                    "data": {
                        "text/plain": [
                            "array([0.     , 0.     , 0.     , 0.     , 0.24446, 0.1755 , 0.     ,\n",
                            "       0.01844, 0.04893, 0.04006, 0.     , 0.     , 0.     , 0.05275,\n",
                            "       0.01163, 0.10824])"
                        ]
                    },
                    "execution_count": 75,
                    "metadata": {},
                    "output_type": "execute_result"
                }
            ],
            "source": [
                "BR0[:,-8]"
            ]
        },
        {
            "cell_type": "code",
            "execution_count": 76,
            "metadata": {},
            "outputs": [
                {
                    "data": {
                        "text/plain": [
                            "array([0.     , 0.     , 0.     , 0.     , 0.11421, 0.01904, 0.11433,\n",
                            "       0.     , 0.13341, 0.01778, 0.13325, 0.     , 0.02908, 0.05429,\n",
                            "       0.02904, 0.05555])"
                        ]
                    },
                    "execution_count": 76,
                    "metadata": {},
                    "output_type": "execute_result"
                }
            ],
            "source": [
                "(BR0[:,-3]+BR0[:,-6])/2"
            ]
        },
        {
            "cell_type": "code",
            "execution_count": 77,
            "metadata": {},
            "outputs": [
                {
                    "data": {
                        "text/plain": [
                            "array([0.05556, 0.02778, 0.05556, 0.02778, 0.     , 0.     , 0.     ,\n",
                            "       0.     , 0.     , 0.     , 0.     , 0.     , 0.     , 0.     ,\n",
                            "       0.     , 0.     ])"
                        ]
                    },
                    "execution_count": 77,
                    "metadata": {},
                    "output_type": "execute_result"
                }
            ],
            "source": [
                "(BR0[:,-11]+BR0[:,-14])/2"
            ]
        },
        {
            "cell_type": "code",
            "execution_count": 30,
            "metadata": {},
            "outputs": [
                {
                    "data": {
                        "text/plain": [
                            "array([0.7    , 0.70001, 0.79715, 0.79713, 0.89707, 0.89708, 0.7    ,\n",
                            "       0.70001, 0.80292, 0.80295, 0.90287, 0.90286])"
                        ]
                    },
                    "execution_count": 30,
                    "metadata": {},
                    "output_type": "execute_result"
                }
            ],
            "source": [
                "BR0.sum(axis=1)"
            ]
        },
        {
            "cell_type": "code",
            "execution_count": 13,
            "metadata": {},
            "outputs": [],
            "source": [
                "BRnorm = BR0/BR0.sum(axis=0,keepdims=1)"
            ]
        },
        {
            "cell_type": "code",
            "execution_count": 39,
            "metadata": {},
            "outputs": [
                {
                    "data": {
                        "text/plain": [
                            "array([0., 0., 0., 0., 0., 0., 0., 0., 0., 0., 0., 0.])"
                        ]
                    },
                    "execution_count": 39,
                    "metadata": {},
                    "output_type": "execute_result"
                },
                {
                    "name": "stderr",
                    "output_type": "stream",
                    "text": [
                        "C:\\Users\\ajadbaba\\Anaconda3\\lib\\site-packages\\ipykernel\\eventloops.py:106: UserWarning: constrained_layout not applied because axes sizes collapsed to zero.  Try making figure larger or axes decorations smaller.\n",
                        "  app.exec_()\n",
                        "C:\\Users\\ajadbaba\\Anaconda3\\lib\\site-packages\\ipykernel\\eventloops.py:106: UserWarning: constrained_layout not applied because axes sizes collapsed to zero.  Try making figure larger or axes decorations smaller.\n",
                        "  app.exec_()\n"
                    ]
                }
            ],
            "source": [
                "BR0[:,4]"
            ]
        },
        {
            "cell_type": "code",
            "execution_count": 15,
            "metadata": {},
            "outputs": [
                {
                    "data": {
                        "text/plain": [
                            "array([[0.     , 0.     , 0.     , 0.22222, 0.11111, 0.     , 0.     ,\n",
                            "        0.     , 0.     , 0.     , 0.     , 0.     ],\n",
                            "       [0.     , 0.     , 0.66666, 0.44445, 0.05555, 0.16667, 0.     ,\n",
                            "        0.     , 0.     , 0.     , 0.     , 0.     ],\n",
                            "       [0.31473, 0.06196, 0.     , 0.     , 0.     , 0.     , 0.62578,\n",
                            "        0.08161, 0.89964, 0.     , 0.     , 0.     ],\n",
                            "       [0.     , 0.27778, 0.     , 0.     , 0.     , 0.     , 0.12698,\n",
                            "        0.68571, 0.1    , 1.     , 0.     , 0.     ],\n",
                            "       [0.68527, 0.43805, 0.     , 0.     , 0.     , 0.     , 0.08851,\n",
                            "        0.23268, 0.00036, 0.     , 0.     , 0.     ],\n",
                            "       [0.     , 0.22222, 0.     , 0.     , 0.     , 0.     , 0.15873,\n",
                            "        0.     , 0.     , 0.     , 0.     , 0.     ],\n",
                            "       [0.     , 0.     , 0.     , 0.00004, 0.29588, 0.02252, 0.     ,\n",
                            "        0.     , 0.     , 0.     , 0.66847, 0.03678],\n",
                            "       [0.     , 0.     , 0.     , 0.     , 0.     , 0.28   , 0.     ,\n",
                            "        0.     , 0.     , 0.     , 0.048  , 0.68571],\n",
                            "       [0.     , 0.     , 0.     , 0.27774, 0.09301, 0.47748, 0.     ,\n",
                            "        0.     , 0.     , 0.     , 0.03153, 0.27751],\n",
                            "       [0.     , 0.     , 0.33334, 0.05555, 0.44445, 0.05333, 0.     ,\n",
                            "        0.     , 0.     , 0.     , 0.252  , 0.     ]])"
                        ]
                    },
                    "execution_count": 15,
                    "metadata": {},
                    "output_type": "execute_result"
                }
            ],
            "source": [
                "BRnorm"
            ]
        },
        {
            "cell_type": "code",
            "execution_count": 17,
            "metadata": {},
            "outputs": [],
            "source": [
                "fig,ax = plt.subplots(figsize=(15,15),constrained_layout=True)\n",
                "# ax.set_aspect('equal')\n",
                "mat = ax.matshow(BRnorm,cmap=plt.get_cmap('hot'))\n",
                "y = np.arange(0,len(X000_174.evecs0))\n",
                "x = np.arange(0,len(A000_174.evecs0))\n",
                "ax.set_yticks(y)\n",
                "ax.set_xticks(x)\n",
                "y_labels = [gen_state_str(X000_174.evecs0[i],X000_174.q_numbers,[q for q in X000_174.q_str if (q=='N' or q=='J' or q=='F')],thresh=0.02,show_coeff=False) for i in range(y.size)]\n",
                "x_labels = [gen_state_str(A000_174.evecs0[i],A000_174.q_numbers,[q for q in A000_174.q_str if (q=='L' or q=='J' or q=='F')],thresh=0.02,show_coeff=False) for i in range(x.size)]\n",
                "ax.set_yticklabels(y_labels, rotation='30', fontsize=8, ha='right')\n",
                "ax.set_xticklabels(x_labels, rotation='30', fontsize=8,ha='left')\n",
                "ax.tick_params(axis='both',labelsize=8,direction='out')\n",
                "ax.grid(True,which='major',color='white',ls='--',linewidth=0.5)\n",
                "ax.grid(False,which='minor')\n",
                "(bot,top) = ax.get_ylim()\n",
                "#ax.set_ylim(bot+0.5, top-0.5)\n",
                "cbar = fig.colorbar(mat, ax=ax,fraction=0.015, pad=0.05)\n",
                "# cbar.set_clim([0,1]);\n",
                "# ax.set_xlim(-0.5,x.size+0.5);"
            ]
        },
        {
            "cell_type": "code",
            "execution_count": 161,
            "metadata": {},
            "outputs": [],
            "source": [
                "evals, evecs = X000_174.eigensystem(0,1)"
            ]
        },
        {
            "cell_type": "code",
            "execution_count": 87,
            "metadata": {},
            "outputs": [
                {
                    "data": {
                        "text/latex": [
                            "$Λ=0,N=0,J=\\frac{1}{2},F=1,M=-1\\rangle$"
                        ],
                        "text/plain": [
                            "<IPython.core.display.Latex object>"
                        ]
                    },
                    "metadata": {},
                    "output_type": "display_data"
                }
            ],
            "source": [
                "display(Latex(gen_state_str(X000_174.evecs0[1],X000_174.q_numbers,X000_174.q_str,show_coeff=False)))"
            ]
        },
        {
            "cell_type": "code",
            "execution_count": 83,
            "metadata": {},
            "outputs": [
                {
                    "data": {
                        "text/latex": [
                            "$-|Λ=-1,Σ=\\frac{1}{2},Ω=\\frac{-1}{2},J=\\frac{1}{2},F=1,M=0\\rangle$$+|Λ=1,Σ=\\frac{-1}{2},Ω=\\frac{1}{2},J=\\frac{1}{2},F=1,M=0\\rangle$"
                        ],
                        "text/plain": [
                            "<IPython.core.display.Latex object>"
                        ]
                    },
                    "metadata": {},
                    "output_type": "display_data"
                }
            ],
            "source": [
                "display(Latex(gen_state_str(A000_174.evecs0[6],A000_174.q_numbers,A000_174.q_str,show_coeff=False)))"
            ]
        },
        {
            "cell_type": "code",
            "execution_count": 84,
            "metadata": {},
            "outputs": [
                {
                    "data": {
                        "text/plain": [
                            "'$|Λ=0,N=0,J=\\\\frac{1}{2},F=0,M=0\\\\rangle$'"
                        ]
                    },
                    "execution_count": 84,
                    "metadata": {},
                    "output_type": "execute_result"
                }
            ],
            "source": [
                "gen_state_str(X000_174.evecs0[0],X000_174.q_numbers,X000_174.q_str,show_coeff=False)"
            ]
        },
        {
            "cell_type": "code",
            "execution_count": 38,
            "metadata": {},
            "outputs": [
                {
                    "name": "stdout",
                    "output_type": "stream",
                    "text": [
                        "1$|$$F$=1$\\rangle$\n"
                    ]
                }
            ],
            "source": [
                "print(r'{}$|$${}$={}$\\rangle$'.format(1,'F',1))"
            ]
        },
        {
            "cell_type": "code",
            "execution_count": 66,
            "metadata": {},
            "outputs": [],
            "source": [
                "from fractions import Fraction"
            ]
        },
        {
            "cell_type": "code",
            "execution_count": 70,
            "metadata": {},
            "outputs": [
                {
                    "data": {
                        "text/latex": [
                            "1/4"
                        ],
                        "text/plain": [
                            "<IPython.core.display.Latex object>"
                        ]
                    },
                    "metadata": {},
                    "output_type": "display_data"
                }
            ],
            "source": [
                "display(Latex(str(Fraction(0.25))))"
            ]
        },
        {
            "cell_type": "code",
            "execution_count": 76,
            "metadata": {},
            "outputs": [
                {
                    "data": {
                        "text/latex": [
                            "$\\frac11$"
                        ],
                        "text/plain": [
                            "<IPython.core.display.Latex object>"
                        ]
                    },
                    "metadata": {},
                    "output_type": "display_data"
                }
            ],
            "source": [
                "display(Latex(r'$\\frac{}{}$'.format(*(1.0).as_integer_ratio())))"
            ]
        },
        {
            "cell_type": "code",
            "execution_count": 86,
            "metadata": {},
            "outputs": [
                {
                    "data": {
                        "text/plain": [
                            "0"
                        ]
                    },
                    "execution_count": 86,
                    "metadata": {},
                    "output_type": "execute_result"
                }
            ],
            "source": [
                "abs(1) % 1"
            ]
        },
        {
            "cell_type": "code",
            "execution_count": 84,
            "metadata": {},
            "outputs": [
                {
                    "data": {
                        "text/plain": [
                            "0.0"
                        ]
                    },
                    "execution_count": 84,
                    "metadata": {},
                    "output_type": "execute_result"
                }
            ],
            "source": [
                "-1.0+1.0"
            ]
        },
        {
            "cell_type": "code",
            "execution_count": 21,
            "metadata": {},
            "outputs": [
                {
                    "data": {
                        "text/plain": [
                            "<matplotlib.axes._subplots.AxesSubplot at 0x18e930d2f08>"
                        ]
                    },
                    "execution_count": 21,
                    "metadata": {},
                    "output_type": "execute_result"
                }
            ],
            "source": [
                "M = self.q_numbers['M'][np.argmax(evec**2)]"
            ]
        },
        {
            "cell_type": "code",
            "execution_count": 11,
            "metadata": {},
            "outputs": [
                {
                    "data": {
                        "text/plain": [
                            "array([0., 0., 0., 0.])"
                        ]
                    },
                    "execution_count": 11,
                    "metadata": {},
                    "output_type": "execute_result"
                }
            ],
            "source": [
                "ax.set_xticklabels(x_ticks_labels, rotation='vertical', fontsize=18)"
            ]
        },
        {
            "cell_type": "code",
            "execution_count": 33,
            "metadata": {},
            "outputs": [
                {
                    "data": {
                        "text/plain": [
                            "(array([    -2.37   ,      0.78859,      0.78999,      0.79139,\n",
                            "         14654.75787,  14654.75903,  14654.76018,  14657.09665,\n",
                            "         14657.09735,  14657.09806,  14657.09876,  14657.09946,\n",
                            "         14777.42764,  14777.42809,  14777.42855,  14779.56106,\n",
                            "         44007.97296,  44007.97361,  44007.97426,  44007.97491,\n",
                            "         44007.97556,  44010.15892,  44010.15939,  44010.15985,\n",
                            "         44010.16032,  44010.16079,  44010.16125,  44010.16172,\n",
                            "         44211.41627,  44211.41668,  44211.4171 ,  44211.41752,\n",
                            "         44211.41794,  44213.32749,  44213.32819,  44213.32889,\n",
                            "         88057.88207,  88057.88252,  88057.88297,  88057.88342,\n",
                            "         88057.88387,  88057.88432,  88057.88477,  88060.00662,\n",
                            "         88060.00697,  88060.00732,  88060.00767,  88060.00802,\n",
                            "         88060.00837,  88060.00872,  88060.00907,  88060.00943,\n",
                            "         88342.3133 ,  88342.31364,  88342.31397,  88342.3143 ,\n",
                            "         88342.31463,  88342.31497,  88342.3153 ,  88344.22343,\n",
                            "         88344.2239 ,  88344.22436,  88344.22483,  88344.2253 ,\n",
                            "        146804.55635, 146804.55669, 146804.55703, 146804.55737,\n",
                            "        146804.55771, 146804.55806, 146804.5584 , 146804.55874,\n",
                            "        146804.55908, 146806.64829, 146806.64857, 146806.64885,\n",
                            "        146806.64913, 146806.64941, 146806.64969, 146806.64997,\n",
                            "        146806.65025, 146806.65053, 146806.65081, 146806.65109,\n",
                            "        147170.0474 , 147170.04767, 147170.04794, 147170.04821,\n",
                            "        147170.04849, 147170.04876, 147170.04903, 147170.0493 ,\n",
                            "        147170.04957, 147171.96741, 147171.96776, 147171.96811,\n",
                            "        147171.96846, 147171.96881, 147171.96916, 147171.96951,\n",
                            "        220247.95733, 220247.9576 , 220247.95788, 220247.95815,\n",
                            "        220247.95843, 220247.95871, 220247.95898, 220247.95926,\n",
                            "        220247.95953, 220247.95981, 220247.96008, 220250.1345 ,\n",
                            "        220250.13473, 220250.13497, 220250.1352 , 220250.13543,\n",
                            "        220250.13567, 220250.1359 , 220250.13613, 220250.13637,\n",
                            "        220250.1366 , 220250.13683, 220250.13707, 220250.1373 ,\n",
                            "        220694.60104, 220694.60127, 220694.6015 , 220694.60173,\n",
                            "        220694.60196, 220694.60219, 220694.60241, 220694.60264,\n",
                            "        220694.60287, 220694.6031 , 220694.60333, 220696.52812,\n",
                            "        220696.5284 , 220696.52868, 220696.52896, 220696.52924,\n",
                            "        220696.52952, 220696.5298 , 220696.53008, 220696.53036]),\n",
                            " array([[ 1.    ,  0.    , -0.0004, ...,  0.    ,  0.    ,  0.    ],\n",
                            "        [-0.    ,  1.    , -0.    , ...,  0.    ,  0.    ,  0.    ],\n",
                            "        [-0.0004,  0.    , -1.    , ...,  0.    ,  0.    ,  0.    ],\n",
                            "        ...,\n",
                            "        [ 0.    , -0.    ,  0.    , ..., -0.    , -0.    ,  0.    ],\n",
                            "        [ 0.    ,  0.    ,  0.    , ...,  0.    , -0.    ,  0.    ],\n",
                            "        [ 0.    ,  0.    ,  0.    , ..., -0.    , -0.    ,  0.    ]]))"
                        ]
                    },
                    "execution_count": 33,
                    "metadata": {},
                    "output_type": "execute_result"
                }
            ],
            "source": [
                "for index in np.nonzero(vector)[0]:"
            ]
        },
        {
            "cell_type": "code",
            "execution_count": 17,
            "metadata": {},
            "outputs": [
                {
                    "data": {
                        "text/plain": [
                            "array([[0., 0., 0., 0., 0., 0.],\n",
                            "       [0., 0., 0., 0., 0., 0.]])"
                        ]
                    },
                    "execution_count": 17,
                    "metadata": {},
                    "output_type": "execute_result"
                }
            ],
            "source": [
                "x@u"
            ]
        },
        {
            "cell_type": "code",
            "execution_count": 7,
            "metadata": {},
            "outputs": [
                {
                    "name": "stdout",
                    "output_type": "stream",
                    "text": [
                        "[[1. 0. 0. 0. 0. 0.]\n",
                        " [0. 1. 0. 0. 0. 0.]\n",
                        " [0. 0. 1. 0. 0. 0.]\n",
                        " [0. 0. 0. 1. 0. 0.]]\n"
                    ]
                }
            ],
            "source": [
                "a = np.eye(4,6)\n",
                "print(a)"
            ]
        },
        {
            "cell_type": "code",
            "execution_count": 8,
            "metadata": {},
            "outputs": [
                {
                    "name": "stdout",
                    "output_type": "stream",
                    "text": [
                        "[[1. 0. 0. 0.]\n",
                        " [0. 1. 0. 0.]\n",
                        " [0. 0. 1. 0.]\n",
                        " [0. 0. 0. 1.]\n",
                        " [0. 0. 0. 0.]\n",
                        " [0. 0. 0. 0.]]\n"
                    ]
                }
            ],
            "source": [
                "print(a.T)"
            ]
        },
        {
            "cell_type": "code",
            "execution_count": 10,
            "metadata": {},
            "outputs": [
                {
                    "data": {
                        "text/plain": [
                            "array([[1., 0., 0., 0.],\n",
                            "       [0., 1., 0., 0.],\n",
                            "       [0., 0., 1., 0.],\n",
                            "       [0., 0., 0., 1.]])"
                        ]
                    },
                    "execution_count": 10,
                    "metadata": {},
                    "output_type": "execute_result"
                }
            ],
            "source": [
                "a@a.T"
            ]
        },
        {
            "cell_type": "code",
            "execution_count": 11,
            "metadata": {},
            "outputs": [],
            "source": [
                "a[3,5] = 2"
            ]
        },
        {
            "cell_type": "code",
            "execution_count": 12,
            "metadata": {},
            "outputs": [
                {
                    "data": {
                        "text/plain": [
                            "array([[1., 0., 0., 0., 0., 0.],\n",
                            "       [0., 1., 0., 0., 0., 0.],\n",
                            "       [0., 0., 1., 0., 0., 0.],\n",
                            "       [0., 0., 0., 1., 0., 2.]])"
                        ]
                    },
                    "execution_count": 12,
                    "metadata": {},
                    "output_type": "execute_result"
                }
            ],
            "source": [
                "a"
            ]
        },
        {
            "cell_type": "code",
            "execution_count": 1,
            "metadata": {},
            "outputs": [
                {
                    "data": {
                        "text/plain": [
                            "True"
                        ]
                    },
                    "execution_count": 1,
                    "metadata": {},
                    "output_type": "execute_result"
                }
            ],
            "source": [
                "True or True"
            ]
        },
        {
            "cell_type": "code",
            "execution_count": 2,
            "metadata": {},
            "outputs": [
                {
                    "data": {
                        "text/plain": [
                            "2"
                        ]
                    },
                    "execution_count": 2,
                    "metadata": {},
                    "output_type": "execute_result"
                }
            ],
            "source": [
                "max(2,2)"
            ]
        },
        {
            "cell_type": "code",
            "execution_count": 3,
            "metadata": {},
            "outputs": [
                {
                    "data": {
                        "text/plain": [
                            "range(0, 0)"
                        ]
                    },
                    "execution_count": 3,
                    "metadata": {},
                    "output_type": "execute_result"
                }
            ],
            "source": [
                "range(0)"
            ]
        },
        {
            "cell_type": "code",
            "execution_count": 14,
            "metadata": {},
            "outputs": [],
            "source": [
                "for i in range(2,2):\n",
                "    print(i)"
            ]
        },
        {
            "cell_type": "code",
            "execution_count": 37,
            "metadata": {},
            "outputs": [
                {
                    "name": "stdout",
                    "output_type": "stream",
                    "text": [
                        "0\n"
                    ]
                }
            ],
            "source": [
                "Lambda=0\n",
                "print(*[i for i in {True:[0], False:[-Lambda,Lambda]}[Lambda==0]])"
            ]
        },
        {
            "cell_type": "code",
            "execution_count": 39,
            "metadata": {},
            "outputs": [],
            "source": [
                "x=[1,1/2,1/2]"
            ]
        },
        {
            "cell_type": "code",
            "execution_count": 40,
            "metadata": {},
            "outputs": [
                {
                    "data": {
                        "text/plain": [
                            "2"
                        ]
                    },
                    "execution_count": 40,
                    "metadata": {},
                    "output_type": "execute_result"
                }
            ],
            "source": [
                "len(x[1:])"
            ]
        },
        {
            "cell_type": "code",
            "execution_count": 42,
            "metadata": {},
            "outputs": [
                {
                    "data": {
                        "text/plain": [
                            "array([1, 2])"
                        ]
                    },
                    "execution_count": 42,
                    "metadata": {},
                    "output_type": "execute_result"
                }
            ],
            "source": [
                "np.arange(1,3)"
            ]
        },
        {
            "cell_type": "code",
            "execution_count": 62,
            "metadata": {},
            "outputs": [
                {
                    "data": {
                        "text/plain": [
                            "<module 'numpy' from 'C:\\\\ProgramData\\\\Anaconda3\\\\lib\\\\site-packages\\\\numpy\\\\__init__.py'>"
                        ]
                    },
                    "execution_count": 62,
                    "metadata": {},
                    "output_type": "execute_result"
                }
            ],
            "source": [
                "np"
            ]
        },
        {
            "cell_type": "code",
            "execution_count": 58,
            "metadata": {},
            "outputs": [],
            "source": [
                "x= np.array([5])"
            ]
        },
        {
            "cell_type": "code",
            "execution_count": 59,
            "metadata": {},
            "outputs": [
                {
                    "data": {
                        "text/plain": [
                            "1"
                        ]
                    },
                    "execution_count": 59,
                    "metadata": {},
                    "output_type": "execute_result"
                }
            ],
            "source": [
                "len(x)"
            ]
        },
        {
            "cell_type": "code",
            "execution_count": 54,
            "metadata": {},
            "outputs": [
                {
                    "data": {
                        "text/plain": [
                            "False"
                        ]
                    },
                    "execution_count": 54,
                    "metadata": {},
                    "output_type": "execute_result"
                }
            ],
            "source": [
                "x is type(x)"
            ]
        },
        {
            "cell_type": "code",
            "execution_count": 63,
            "metadata": {},
            "outputs": [
                {
                    "data": {
                        "text/plain": [
                            "True"
                        ]
                    },
                    "execution_count": 63,
                    "metadata": {},
                    "output_type": "execute_result"
                }
            ],
            "source": [
                "isinstance(x,np.ndarray)"
            ]
        },
        {
            "cell_type": "code",
            "execution_count": 64,
            "metadata": {},
            "outputs": [
                {
                    "data": {
                        "text/plain": [
                            "array([5])"
                        ]
                    },
                    "execution_count": 64,
                    "metadata": {},
                    "output_type": "execute_result"
                }
            ],
            "source": [
                "x"
            ]
        },
        {
            "cell_type": "code",
            "execution_count": 65,
            "metadata": {},
            "outputs": [],
            "source": [
                "x = None"
            ]
        },
        {
            "cell_type": "code",
            "execution_count": 66,
            "metadata": {},
            "outputs": [
                {
                    "data": {
                        "text/plain": [
                            "True"
                        ]
                    },
                    "execution_count": 66,
                    "metadata": {},
                    "output_type": "execute_result"
                }
            ],
            "source": [
                "x is None"
            ]
        },
        {
            "cell_type": "code",
            "execution_count": 67,
            "metadata": {},
            "outputs": [],
            "source": [
                "x = 5"
            ]
        },
        {
            "cell_type": "code",
            "execution_count": 68,
            "metadata": {},
            "outputs": [
                {
                    "data": {
                        "text/plain": [
                            "False"
                        ]
                    },
                    "execution_count": 68,
                    "metadata": {},
                    "output_type": "execute_result"
                }
            ],
            "source": [
                "x is None"
            ]
        },
        {
            "cell_type": "code",
            "execution_count": 69,
            "metadata": {},
            "outputs": [],
            "source": [
                "x = [1,2,3]"
            ]
        },
        {
            "cell_type": "code",
            "execution_count": 70,
            "metadata": {},
            "outputs": [
                {
                    "data": {
                        "text/plain": [
                            "3"
                        ]
                    },
                    "execution_count": 70,
                    "metadata": {},
                    "output_type": "execute_result"
                }
            ],
            "source": [
                "len(x)"
            ]
        },
        {
            "cell_type": "code",
            "execution_count": 71,
            "metadata": {},
            "outputs": [
                {
                    "ename": "IndexError",
                    "evalue": "list index out of range",
                    "output_type": "error",
                    "traceback": [
                        "\u001b[1;31m---------------------------------------------------------------------------\u001b[0m",
                        "\u001b[1;31mIndexError\u001b[0m                                Traceback (most recent call last)",
                        "\u001b[1;32m<ipython-input-71-b4687b69244e>\u001b[0m in \u001b[0;36m<module>\u001b[1;34m\u001b[0m\n\u001b[1;32m----> 1\u001b[1;33m \u001b[0mx\u001b[0m\u001b[1;33m[\u001b[0m\u001b[0mlen\u001b[0m\u001b[1;33m(\u001b[0m\u001b[0mx\u001b[0m\u001b[1;33m)\u001b[0m\u001b[1;33m]\u001b[0m\u001b[1;33m\u001b[0m\u001b[1;33m\u001b[0m\u001b[0m\n\u001b[0m",
                        "\u001b[1;31mIndexError\u001b[0m: list index out of range"
                    ]
                }
            ],
            "source": [
                "x[len(x)]"
            ]
        },
        {
            "cell_type": "code",
            "execution_count": 73,
            "metadata": {},
            "outputs": [],
            "source": [
                "def count_momenta(J_list, M_values):\n",
                "    if M_values == 'all':\n",
                "         num = 1\n",
                "         for J in J_list:\n",
                "             num*=(2*J+1)\n",
                "    else:\n",
                "        num = iter_count(J_list,M_values,1)\n",
                "    return num\n",
                "\n",
                "def iter_count(J_list,M_values,i,J = None):\n",
                "    J0 = {True:J_list[0], False:J}[J is None]\n",
                "    Ji = J_list[i]\n",
                "    n = len(J_list) - i\n",
                "    if n>1:\n",
                "        sum = 0\n",
                "        for Jf in np.arange(abs(J0-Ji),J0+Ji+1,1):\n",
                "            sum+=iter_count(J_list,M_values,i+1,J=Jf)\n",
                "        return sum\n",
                "    else:\n",
                "        sum=0\n",
                "        if M_values == 'pos':\n",
                "            for Jf in np.arange(abs(J0-Ji),J0+Ji+1,1):\n",
                "                sum+=Jf+1\n",
                "            return sum\n",
                "        elif M_values == 'none':\n",
                "            for Jf in np.arange(abs(J0-Ji),J0+Ji+1,1):\n",
                "                sum+=1\n",
                "            return sum"
            ]
        },
        {
            "cell_type": "code",
            "execution_count": 96,
            "metadata": {},
            "outputs": [
                {
                    "name": "stdout",
                    "output_type": "stream",
                    "text": [
                        "7.0\n",
                        "21.0\n",
                        "35.0\n",
                        "48.0\n",
                        "60.0\n",
                        "72.0\n",
                        "84.0\n",
                        "96.0\n",
                        "108.0\n",
                        "120.0\n"
                    ]
                }
            ],
            "source": [
                "for N in range(10):\n",
                "    print(count_momenta([N,5/2,5/2], 'pos'))"
            ]
        },
        {
            "cell_type": "code",
            "execution_count": 92,
            "metadata": {},
            "outputs": [
                {
                    "name": "stdout",
                    "output_type": "stream",
                    "text": [
                        "252.0\n"
                    ]
                }
            ],
            "source": [
                "print(count_momenta(J,'all'))"
            ]
        },
        {
            "cell_type": "code",
            "execution_count": 93,
            "metadata": {},
            "outputs": [
                {
                    "name": "stdout",
                    "output_type": "stream",
                    "text": [
                        "132.0\n"
                    ]
                }
            ],
            "source": [
                "print(count_momenta(J,'pos'))"
            ]
        },
        {
            "cell_type": "code",
            "execution_count": 94,
            "metadata": {},
            "outputs": [
                {
                    "name": "stdout",
                    "output_type": "stream",
                    "text": [
                        "12\n"
                    ]
                }
            ],
            "source": [
                "print(count_momenta(J,'none'))"
            ]
        },
        {
            "cell_type": "code",
            "execution_count": null,
            "metadata": {},
            "outputs": [],
            "source": []
        }
    ],
    "metadata": {
        "kernelspec": {
            "display_name": "Python 3",
            "language": "python",
            "name": "python3"
        },
        "language_info": {
            "codemirror_mode": {
                "name": "ipython",
                "version": 3
            },
            "file_extension": ".py",
            "mimetype": "text/x-python",
            "name": "python",
            "nbconvert_exporter": "python",
            "pygments_lexer": "ipython3",
            "version": "3.7.11"
        }
    },
    "nbformat": 4,
    "nbformat_minor": 4
}