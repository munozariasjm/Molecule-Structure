{
 "cells": [
  {
   "cell_type": "code",
   "execution_count": 10,
   "id": "43b5d15b",
   "metadata": {},
   "outputs": [],
   "source": [
    "from config_path import add_to_sys_path\n",
    "add_to_sys_path()  # Call the function to add path\n",
    "\n",
    "import numpy as np\n",
    "import matplotlib.pyplot as plt\n",
    "from sympy.physics.wigner import wigner_3j,wigner_6j\n",
    "import lmfit\n",
    "from lmfit import Parameters,minimize\n"
   ]
  },
  {
   "cell_type": "code",
   "execution_count": 2,
   "id": "cb5c1c99",
   "metadata": {},
   "outputs": [],
   "source": [
    "def kronecker(a,b):         # Kronecker delta function\n",
    "    if a==b:\n",
    "        return 1\n",
    "    else:\n",
    "        return 0\n",
    "\n",
    "def b2a_matrix(a,b,S=1/2):\n",
    "    if not kronecker(a['K'],b['K'])*kronecker(a['J'],b['J'])*kronecker(a['F'],b['F'])*kronecker(a['M'],b['M']):\n",
    "        return 0\n",
    "    else:\n",
    "        if 'F1' in b.keys():\n",
    "            if not kronecker(a['F1'],b['F1']):\n",
    "                return 0\n",
    "        return (-1)**(b['N']-S+a['P'])*np.sqrt(2*b['N']+1)*wigner_3j(a['J'],S,b['N'],a['P'],-a['Sigma'],-a['K'])\n",
    "    \n",
    "def convert_abBJ(input_qnumbers,output_qnumbers,S=1/2):\n",
    "    input_keys = list(input_qnumbers)\n",
    "    output_keys = list(output_qnumbers)\n",
    "    input_size = len(input_qnumbers[input_keys[0]])\n",
    "    output_size = len(output_qnumbers[output_keys[0]])\n",
    "    basis_matrix = np.zeros((output_size,input_size))\n",
    "    for i in range(output_size):\n",
    "        for j in range(input_size):\n",
    "            if 'N' in input_keys: #Convert case (b) to (a)\n",
    "                a_qnumbers = {q:output_qnumbers[q][i] for q in output_keys}\n",
    "                b_qnumbers = {q:input_qnumbers[q][j] for q in input_keys}\n",
    "            else:\n",
    "                b_qnumbers = {q:output_qnumbers[q][i] for q in output_keys}\n",
    "                a_qnumbers = {q:input_qnumbers[q][j] for q in input_keys}\n",
    "            basis_matrix[i,j] = b2a_matrix(a_qnumbers,b_qnumbers,S=S)\n",
    "    return basis_matrix\n",
    "\n",
    "def q_numbers_even_bBJ(N_range,K_mag,S=1/2,I_list=[0,1/2],M_values='all',M_range=[]):\n",
    "    IM=I_list[0]\n",
    "    iH = I_list[-1]\n",
    "    Nmin,Nmax=N_range[0],N_range[-1]\n",
    "    K_mag = abs(K_mag)\n",
    "    if Nmin<K_mag:\n",
    "        print('Nmin must be >= |K|')\n",
    "        Nmin=abs(K_mag)\n",
    "    q_str = ['K','N','J','F','M']\n",
    "    I = max(IM,iH)\n",
    "    q_numbers = {}\n",
    "    for q in q_str:\n",
    "        q_numbers[q] = []\n",
    "    for N in np.arange(Nmin,Nmax+1,1):\n",
    "        for J in np.arange(abs(N-S),abs(N+S)+1,1):\n",
    "            for F in np.arange(abs(J-I),abs(J+I)+1,1):\n",
    "                if M_values=='none':\n",
    "                    for K in {True:[0], False:[-K_mag,K_mag]}[K_mag==0]:\n",
    "                        M=abs(F)%1\n",
    "                        values = [K,N,J,F,M]\n",
    "                        for q,val in zip(q_str,values):\n",
    "                            q_numbers[q].append(val+0)    #looks weird but adding 0 converts -0 to 0\n",
    "                else:\n",
    "                    if M_values=='all' or M_values=='custom':\n",
    "                        Mmin = -F\n",
    "                    elif M_values=='pos':\n",
    "                        Mmin = abs(F) % 1\n",
    "                    for M in np.arange(Mmin,F+1,1):\n",
    "                        if (M_values=='custom' and M in M_range) or (M_values=='all') or (M_values=='pos'):\n",
    "                            for K in {True:[0], False:[-K_mag,K_mag]}[K_mag==0]:\n",
    "                                values = [K,N,J,F,M]\n",
    "                                for q,val in zip(q_str,values):\n",
    "                                    q_numbers[q].append(val+0)    #looks weird but adding 0 converts -0 to 0\n",
    "                        elif M_values=='custom' and M not in M_range:\n",
    "                            continue\n",
    "    return q_numbers\n",
    "\n",
    "def q_numbers_even_aBJ(N_range,K_mag=1,S=1/2,I_list=[0,1/2],M_values='all',P_values=[1/2],M_range=[]):\n",
    "    IM=I_list[0]\n",
    "    iH = I_list[-1]\n",
    "    Nmin,Nmax=N_range[0],N_range[-1]\n",
    "    Jmin = abs(Nmin-S)\n",
    "    Jmax = abs(Nmax+S)\n",
    "    K_mag = abs(K_mag)\n",
    "    if Nmin<K_mag:\n",
    "        print('Nmin must be >= |K|')\n",
    "        Nmin=abs(K_mag)\n",
    "    q_str = ['K','Sigma','P','J','F','M']\n",
    "    q_numbers = {}\n",
    "    for q in q_str:\n",
    "        q_numbers[q] = []\n",
    "    I = max(IM,iH)\n",
    "    for J in np.arange(Jmin,Jmax+1,1):\n",
    "        for F in np.arange(abs(J-I),abs(J+I)+1,1):\n",
    "            if M_values=='none':\n",
    "                for Sigma in np.arange(-abs(S),abs(S)+1,1):\n",
    "                    for K in {True:[0], False:[-K_mag,K_mag]}[K_mag==0]:\n",
    "                        P=K+Sigma\n",
    "                        if abs(P) not in P_values:\n",
    "                            continue\n",
    "                        elif J < abs(P):\n",
    "                            continue\n",
    "                        else:\n",
    "                            M=abs(F)%1\n",
    "                            values = [K,Sigma,P,J,F,M]\n",
    "                        for q,val in zip(q_str,values):\n",
    "                            q_numbers[q].append(val+0)    #looks weird but adding 0 converts -0 to 0\n",
    "            else:\n",
    "                if M_values=='all' or M_values=='custom':\n",
    "                    Mmin = -F\n",
    "                elif M_values=='pos':\n",
    "                    Mmin = abs(F) % 1\n",
    "                for M in np.arange(Mmin,F+1,1):\n",
    "                    if (M_values=='custom' and M in M_range) or (M_values=='all') or (M_values=='pos'):\n",
    "                        for Sigma in np.arange(-abs(S),abs(S)+1,1):\n",
    "                            for K in {True:[0], False:[-K_mag,K_mag]}[K_mag==0]:\n",
    "                                P=K+Sigma\n",
    "                                if abs(P) not in P_values:\n",
    "                                    continue\n",
    "                                elif J < abs(P):\n",
    "                                    continue\n",
    "                                else:\n",
    "                                    values = [K,Sigma,P,J,F,M]\n",
    "                                for q,val in zip(q_str,values):\n",
    "                                    q_numbers[q].append(val+0)    #looks weird but adding 0 converts -0 to 0\n",
    "                    elif M_values=='custom' and M not in M_range:\n",
    "                        continue\n",
    "    return q_numbers\n",
    "\n",
    "def write_state(vector,qn,case):\n",
    "    for index in np.nonzero(vector)[0]:\n",
    "        v={q:qn[q][index] for q in qn}\n",
    "        coeff = vector[index]\n",
    "        if case == 'bBS':\n",
    "            print(' {} |K={},N={},G={},F1={},F={},M={}> \\n'.format(coeff,v['K'],v['N'],v['G'],v['F1'],v['F'],v['M']))\n",
    "        elif case == 'bBJ':\n",
    "            print(' {} |K={},N={},J={},F={},M={}> \\n'.format(coeff,v['K'],v['N'],v['J'],v['F'],v['M']))\n",
    "        elif case == 'aBJ':\n",
    "            print(' {} |K={},\\u03A3={},P={},J={},F={},M={}> \\n'.format(coeff,v['K'],v['Sigma'],v['P'],v['J'],v['F'],v['M']))"
   ]
  },
  {
   "cell_type": "code",
   "execution_count": 3,
   "id": "920adb42",
   "metadata": {},
   "outputs": [],
   "source": [
    "def q_numbers_A010(J,l=1,L=1,S=1/2,P_values=[1/2,3/2,5/2]):\n",
    "    q_str = ['K','Lambda','l','P','J','Par']\n",
    "    q_numbers = {}\n",
    "    for q in q_str:\n",
    "        q_numbers[q] = []\n",
    "    for K in [abs(L-l),abs(L+l)]:\n",
    "        for P in [abs(K-S),abs(K+S)]:\n",
    "            if abs(P) not in P_values:\n",
    "                continue\n",
    "            elif J < abs(P):\n",
    "                continue\n",
    "            else:\n",
    "                for parity in [1,-1]:\n",
    "                    values = [K,L,l,P,J,parity]\n",
    "                    for q,val in zip(q_str,values):\n",
    "                            q_numbers[q].append(val+0)\n",
    "    return q_numbers"
   ]
  },
  {
   "cell_type": "code",
   "execution_count": 4,
   "id": "878727b8",
   "metadata": {},
   "outputs": [
    {
     "data": {
      "text/plain": [
       "{'K': [0, 0, 0, 0, 2, 2],\n",
       " 'Lambda': [1, 1, 1, 1, 1, 1],\n",
       " 'l': [1, 1, 1, 1, 1, 1],\n",
       " 'P': [0.5, 0.5, 0.5, 0.5, 1.5, 1.5],\n",
       " 'J': [1.5, 1.5, 1.5, 1.5, 1.5, 1.5],\n",
       " 'Par': [1, -1, 1, -1, 1, -1]}"
      ]
     },
     "execution_count": 4,
     "metadata": {},
     "output_type": "execute_result"
    }
   ],
   "source": [
    "q_numbers_A010(3/2)"
   ]
  },
  {
   "cell_type": "markdown",
   "id": "69fd6dca",
   "metadata": {},
   "source": [
    "There are two papers with effective Hamiltonians.\n",
    "Earlier is the SrOH paper:\n",
    "https://aip.scitation.org/doi/10.1063/1.468171\n",
    "\n",
    "And later on is the CaOH paper:\n",
    "https://aip.scitation.org/doi/10.1063/1.468643\n",
    "\n",
    "The CaOH result has gK"
   ]
  },
  {
   "cell_type": "code",
   "execution_count": 5,
   "id": "0c75c686",
   "metadata": {},
   "outputs": [],
   "source": [
    "params_A010 ={\n",
    "    'Tev': 16360.3890,\n",
    "    'A': 67.0951,\n",
    "    'ADdelt': 0.1232e-3,\n",
    "    'ADsig': 0.140e-2,\n",
    "    'AH': -0.140e-6,\n",
    "    'ew2': -36.2634,\n",
    "    'eDw2': 0.741e-3,\n",
    "    'gK': 0.5937,\n",
    "    'Bdelt': 0.3402609,\n",
    "    'Bsig': 0.3402123,\n",
    "    'Ddelt': 0.3976e-6,\n",
    "    'Dsig': 0.399e-6,\n",
    "    'gam': 0.02617,\n",
    "    'gamD': -0.119e-4,\n",
    "    'pe': -0.04472,\n",
    "    'qe': -0.3072e-3,\n",
    "    'qv': -0.6978e-3,\n",
    "    'eps': -0.099,\n",
    "}\n",
    "\n",
    "def CaOH_A010(J,ef_parity,params):\n",
    "    n=4\n",
    "    H = np.zeros((n,n))\n",
    "    z=(J+1/2)**2\n",
    "    p=params\n",
    "    \n",
    "    Tev = p['Tev']\n",
    "    gK = p['gK']\n",
    "    eps = p['eps']\n",
    "    A = p['A']\n",
    "    ADd = p['ADdelt']\n",
    "    ADs = p['ADsig']\n",
    "    AH = p['AH']\n",
    "    ew2 = p['ew2']\n",
    "    eDw2 = p['eDw2']\n",
    "    Bd = p['Bdelt']\n",
    "    Bs = p['Bsig']\n",
    "    Dd = p['Ddelt']\n",
    "    Ds = p['Dsig']\n",
    "    g = p['gam']\n",
    "    gD = p['gamD']\n",
    "    pe = p['pe']\n",
    "    qe = p['qe']\n",
    "    qv = p['qv']\n",
    "    \n",
    "    if J>3/2:\n",
    "        H[0,0] = Tev + 2*gK - 3/4*eps*ew2 + 1/2*A*(1-3/4*eps**2) + (Bd + 1/2*ADd)*(z-6) - (Dd - 1/2*AH*0)*(z**2 - 11*z + 32) - 1/2*g - 0*gD*(z-5)\n",
    "        H[0,1] = -(Bd - 1/2*g)*(z-4)**(1/2) + 2*Dd*(z-4)**(3/2) + 0*1/2*gD*(z-3)*(z-4)**(1/2)\n",
    "        H[0,2] = 1/2*qv*(z**2 - 5*z + 4)**(1/2)\n",
    "        H[0,3] = ef_parity*1/2*qe*(z**2 - 5*z + 4)**(1/2)\n",
    "        H[1:,0] = H[0,1:]\n",
    "    if J>1/2:\n",
    "        H[1,1] = Tev + 2*gK - 3/4*eps*ew2 - 1/2*A*(1-3/4*eps**2) + (Bd - 1/2*ADd)*(z-2) - (Dd + 1/2*AH*0)*z*(z-3) - 1/2*g - 0*gD*(z-3)\n",
    "        H[1,2] = (ef_parity*1/2*qe*z**(1/2) - qv)*(z-1)**(1/2) #Ambiguity on this term between SrOH and CaOH\n",
    "        H[1,3] = (-ef_parity*1/2*(pe + 2*qe) + 1/2*qv*z**(1/2))*(z-1)**(1/2)\n",
    "        H[2:,1] = H[1,2:]\n",
    "    H[2,2] = Tev - 1/4*eps*ew2 + 1/2*A*(1-1/4*eps**2) + (Bs + 1/2*ADs)*z - (Ds - 1/2*AH)*(z**2 + z) - ef_parity*eDw2*z**(1/2) - 1/2*g - gD*z\n",
    "    H[2,3] = ef_parity*ew2 - (Bs - 1/2*g)*z**(1/2) + 2*Ds*z**(3/2) + ef_parity*eDw2*z + 1/2*gD*(z+1)*z**(1/2)\n",
    "    H[3,2] = H[2,3]\n",
    "    H[3,3] = Tev - 1/4*eps*ew2 - 1/2*A*(1-1/4*eps**2) + (Bs - 1/2*ADs)*z - (Ds + 1/2*AH)*(z**2 + z) - ef_parity*eDw2*z**(1/2) - 1/2*g - gD*z\n",
    "    \n",
    "    \n",
    "    if J == 1/2:\n",
    "        H0 = H[2:,2:]\n",
    "#         print(H0)\n",
    "        return H0\n",
    "    elif J == 3/2:\n",
    "        H0 = H[1:,1:]\n",
    "#         print(H0)\n",
    "        return H0\n",
    "    else:\n",
    "#         print(H)\n",
    "        return H\n",
    "\n",
    "def A010(J,parity,params):\n",
    "    n=4\n",
    "    H = np.zeros((n,n))\n",
    "    z=(J+1/2)**2 - 1\n",
    "    p=params\n",
    "    \n",
    "    w2 = p['w2']\n",
    "    gK = p['gK']\n",
    "    e = p['eps']\n",
    "    A = p['A']\n",
    "    w2 = p['w2']\n",
    "    ew2 = p['ew2']\n",
    "    eDw2 = p['eDw2']\n",
    "    B = p['B']\n",
    "    pe = p['pe']\n",
    "    qe = p['qe']\n",
    "    qv = p['qv']\n",
    "    pv = p['pv']\n",
    "    gm = p['gamma']\n",
    "    \n",
    "    if J>3/2:\n",
    "        H[0,0] = 2*w2 + 2*gK - 3*(ew2)**2/(2*(2*w2 - A)) + 1/2*A + B*(z - 4) - D*(z**2 - 7*z + 13)\n",
    "        H[0,1] = -(z - 3)**(1/2)*(B - 1/2*gm - 2*D*(z-2))\n",
    "        H[0,2] = 1/2*qv*(z*(z - 1))**(1/2)\n",
    "        H[0,3] = parity*(-1)**(J-1/2)*1/2*qe*(z*(z-3))**(1/2)\n",
    "        H[1:,0] = H[0,1:]\n",
    "    if J>1/2:\n",
    "        H[1,1] = 2*w2 + 2*gK - 3*(ew2)**2/(2*(2*w2 + A)) - 1/2*A - gm + B*z - D*(z**2+z-3)\n",
    "        H[1,2] = parity*(-1)**(J-1/2)*qe*(z*(z+1))**(1/2) + 1/2*(pv+ 2*qv)*z**(1/2)\n",
    "        H[1,3] = -parity*(-1)**(J-1/2) * 1/2*(pe + 2*qe)*z**(1/2) - 1/2*qv*(z*(z+1))**(1/2)\n",
    "        if depert:\n",
    "            H[1,3]=0\n",
    "        H[2:,1] = H[1,2:]\n",
    "    H[2,2] = 2*w2 - (ew2)**2/(2*(2*w2 - A)) + 1/2*A + parity*(-1)**(J-1/2)*eDw2 * (J+1/2) + B*(z+2) - D*(z**2 + 5*z + 5)\n",
    "    H[2,3] = -(z+1)**(1/2)*(B - gm/2 -2*D*(z+2)) - parity*(-1)**(J-1/2)*ew2*(1+((ew2)**2*(8*w2**2 - 6*A**2))/(4*(4*w2**2-A**2))) - parity*(-1)**(J-1/2)*eDw2*(z+2)\n",
    "    H[3,2] = H[2,3]\n",
    "    H[3,3] = 2*w2 - (ew2)**2/(2*(2*w2 + A)) - 1/2*A - gm + parity*(-1)**(J-1/2) + B*(z+2) - D*(z**2 + 5*z + 5)\n",
    "    \n",
    "    \n",
    "    if J == 1/2:\n",
    "        H0 = H[2:,2:]\n",
    "#         print(H0)\n",
    "        return H0\n",
    "    elif J == 3/2:\n",
    "        H0 = H[1:,1:]\n",
    "#         print(H0)\n",
    "        return H0\n",
    "    else:\n",
    "#         print(H)\n",
    "        return H"
   ]
  },
  {
   "cell_type": "markdown",
   "id": "f86f2331",
   "metadata": {},
   "source": [
    "There is also the effective Hamiltonian form in the Brown computational molecular physics chapter. Let's use that, it's specifically for large spin-orbit"
   ]
  },
  {
   "cell_type": "code",
   "execution_count": 8,
   "id": "dc9c170d",
   "metadata": {},
   "outputs": [],
   "source": [
    "def A010(J,parity,params,depert=False):\n",
    "    n=4\n",
    "    H = np.zeros((n,n))\n",
    "    z=(J+1/2)**2 - 1\n",
    "    p=params\n",
    "    \n",
    "    w2 = p['w2']\n",
    "    gK = p['gK']\n",
    "    A = p['A']\n",
    "    w2 = p['w2']\n",
    "    ew2 = p['ew2']\n",
    "    eDw2 = p['eDw2']\n",
    "    B = p['B']\n",
    "    D = p['D']\n",
    "    pe = p['pe']\n",
    "    qe = p['qe']\n",
    "    qv = p['qv']\n",
    "    pv = p['pv']\n",
    "    gm = p['gamma']\n",
    "    \n",
    "    ecorr = 1+1/4*ew2**2*((8*w2**2-6*A**2)/(4*w2**2-A**2)**2)\n",
    "    if J>3/2:\n",
    "        H[0,0] = 2*w2 + 2*gK - 3*(ew2)**2/(2*(2*w2 - A)) + 1/2*A + B*(z - 4) - D*(z**2 - 7*z + 13)\n",
    "        H[0,1] = -(z - 3)**(1/2)*(B - 1/2*gm - 2*D*(z-2))\n",
    "        H[0,2] = -1/2*qv*(z*(z - 1))**(1/2)\n",
    "        H[0,3] = parity*(-1)**(J-1/2)*1/2*qe*(z*(z-3))**(1/2)\n",
    "        H[1:,0] = H[0,1:]\n",
    "    if J>1/2:\n",
    "        H[1,1] = 2*w2 + 2*gK - 3*(ew2)**2/(2*(2*w2 + A)) - 1/2*A - gm + B*z - D*(z**2+z-3)\n",
    "        H[1,2] = parity*(-1)**(J-1/2)*qe*(z*(z+1))**(1/2) + 1/2*(pv+ 2*qv)*z**(1/2)\n",
    "        H[1,3] = -parity*(-1)**(J-1/2) * 1/2*(pe + 2*qe)*z**(1/2) - 1/2*qv*(z*(z+1))**(1/2)\n",
    "        if depert:\n",
    "            H[1,3]=0\n",
    "        H[2:,1] = H[1,2:]\n",
    "    H[2,2] = 2*w2 - (ew2)**2/(2*(2*w2 - A)) + 1/2*A + parity*(-1)**(J-1/2)*eDw2 * (J+1/2) + B*(z+2) - D*(z**2 + 5*z + 5)\n",
    "    H[2,3] = -(z+1)**(1/2)*(B - gm/2 -2*D*(z+2)) - parity*(-1)**(J-1/2)*ew2*ecorr - parity*(-1)**(J-1/2)*eDw2*(z+2)\n",
    "    H[3,2] = H[2,3]\n",
    "    H[3,3] = 2*w2 - (ew2)**2/(2*(2*w2 + A)) - 1/2*A - gm + parity*(-1)**(J-1/2)*eDw2*(J+1/2) + B*(z+2) - D*(z**2 + 5*z + 5)    \n",
    "    if J == 1/2:\n",
    "        H0 = H[2:,2:]\n",
    "#         print(H0)\n",
    "        return H0\n",
    "    elif J == 3/2:\n",
    "        H0 = H[1:,1:]\n",
    "#         print(H0)\n",
    "        return H0\n",
    "    else:\n",
    "#         print(H)\n",
    "        return H"
   ]
  },
  {
   "cell_type": "code",
   "execution_count": 15,
   "id": "df88d50d",
   "metadata": {},
   "outputs": [],
   "source": [
    "params = Parameters()\n",
    "params.add('w2', value=330,vary=False)\n",
    "params.add('A', value=1250,vary=False)\n",
    "params.add('D',value=0,vary=False)\n",
    "params.add('eDw2',value=1e-5,vary=False)\n",
    "params.add('B', value=0.254,min=0.2,max=0.3,vary=False)\n",
    "params.add('pe',value=-0.5,min=-5,max=0,vary=True)\n",
    "params.add('qe',value=0.001,min=-1,max=1,vary=False)\n",
    "params.add('pv',value=-0.01,min=-5,max=5,vary=True)\n",
    "params.add('qv',value=-0.001,min=-1,max=1,vary=False)\n",
    "params.add('gK',value=0.2725,min=-1,max=5,vary=True)\n",
    "params.add('gamma',-0.03,min=-5,max=5, vary=True)\n",
    "params.add('ew2',-20,min=-50,max=0, vary=True)"
   ]
  },
  {
   "cell_type": "code",
   "execution_count": 14,
   "id": "d30c3f41",
   "metadata": {},
   "outputs": [
    {
     "ename": "KeyError",
     "evalue": "'w2'",
     "output_type": "error",
     "traceback": [
      "\u001b[1;31m---------------------------------------------------------------------------\u001b[0m",
      "\u001b[1;31mKeyError\u001b[0m                                  Traceback (most recent call last)",
      "Input \u001b[1;32mIn [14]\u001b[0m, in \u001b[0;36m<cell line: 1>\u001b[1;34m()\u001b[0m\n\u001b[1;32m----> 1\u001b[0m Hp \u001b[38;5;241m=\u001b[39m \u001b[43mA010\u001b[49m\u001b[43m(\u001b[49m\u001b[38;5;241;43m3\u001b[39;49m\u001b[38;5;241;43m/\u001b[39;49m\u001b[38;5;241;43m2\u001b[39;49m\u001b[43m,\u001b[49m\u001b[38;5;241;43m1\u001b[39;49m\u001b[43m,\u001b[49m\u001b[43mparams_A010\u001b[49m\u001b[43m)\u001b[49m\n\u001b[0;32m      2\u001b[0m Hm \u001b[38;5;241m=\u001b[39m A010(\u001b[38;5;241m3\u001b[39m\u001b[38;5;241m/\u001b[39m\u001b[38;5;241m2\u001b[39m,\u001b[38;5;241m-\u001b[39m\u001b[38;5;241m1\u001b[39m,params_A010)\n\u001b[0;32m      3\u001b[0m valsp,vecsp \u001b[38;5;241m=\u001b[39m np\u001b[38;5;241m.\u001b[39mlinalg\u001b[38;5;241m.\u001b[39meigh(Hp)\n",
      "Input \u001b[1;32mIn [8]\u001b[0m, in \u001b[0;36mA010\u001b[1;34m(J, parity, params, depert)\u001b[0m\n\u001b[0;32m      4\u001b[0m z\u001b[38;5;241m=\u001b[39m(J\u001b[38;5;241m+\u001b[39m\u001b[38;5;241m1\u001b[39m\u001b[38;5;241m/\u001b[39m\u001b[38;5;241m2\u001b[39m)\u001b[38;5;241m*\u001b[39m\u001b[38;5;241m*\u001b[39m\u001b[38;5;241m2\u001b[39m \u001b[38;5;241m-\u001b[39m \u001b[38;5;241m1\u001b[39m\n\u001b[0;32m      5\u001b[0m p\u001b[38;5;241m=\u001b[39mparams\n\u001b[1;32m----> 7\u001b[0m w2 \u001b[38;5;241m=\u001b[39m \u001b[43mp\u001b[49m\u001b[43m[\u001b[49m\u001b[38;5;124;43m'\u001b[39;49m\u001b[38;5;124;43mw2\u001b[39;49m\u001b[38;5;124;43m'\u001b[39;49m\u001b[43m]\u001b[49m\n\u001b[0;32m      8\u001b[0m gK \u001b[38;5;241m=\u001b[39m p[\u001b[38;5;124m'\u001b[39m\u001b[38;5;124mgK\u001b[39m\u001b[38;5;124m'\u001b[39m]\n\u001b[0;32m      9\u001b[0m A \u001b[38;5;241m=\u001b[39m p[\u001b[38;5;124m'\u001b[39m\u001b[38;5;124mA\u001b[39m\u001b[38;5;124m'\u001b[39m]\n",
      "\u001b[1;31mKeyError\u001b[0m: 'w2'"
     ]
    }
   ],
   "source": [
    "Hp = A010(3/2,1,params_A010)\n",
    "Hm = A010(3/2,-1,params_A010)\n",
    "valsp,vecsp = np.linalg.eigh(Hp)\n",
    "valsm,vecsm = np.linalg.eigh(Hm)"
   ]
  },
  {
   "cell_type": "code",
   "execution_count": null,
   "id": "e3b70ea6",
   "metadata": {},
   "outputs": [],
   "source": [
    "valsp"
   ]
  },
  {
   "cell_type": "code",
   "execution_count": 7,
   "id": "43d6f4b0",
   "metadata": {},
   "outputs": [
    {
     "ename": "NameError",
     "evalue": "name 'params_A010' is not defined",
     "output_type": "error",
     "traceback": [
      "\u001b[1;31m---------------------------------------------------------------------------\u001b[0m",
      "\u001b[1;31mNameError\u001b[0m                                 Traceback (most recent call last)",
      "Input \u001b[1;32mIn [7]\u001b[0m, in \u001b[0;36m<cell line: 4>\u001b[1;34m()\u001b[0m\n\u001b[0;32m      3\u001b[0m plt\u001b[38;5;241m.\u001b[39mfigure(figsize\u001b[38;5;241m=\u001b[39m(\u001b[38;5;241m15\u001b[39m,\u001b[38;5;241m10\u001b[39m))\n\u001b[0;32m      4\u001b[0m \u001b[38;5;28;01mfor\u001b[39;00m J \u001b[38;5;129;01min\u001b[39;00m np\u001b[38;5;241m.\u001b[39marange(\u001b[38;5;241m1\u001b[39m\u001b[38;5;241m/\u001b[39m\u001b[38;5;241m2\u001b[39m,\u001b[38;5;241m4\u001b[39m):\n\u001b[1;32m----> 5\u001b[0m     Hp \u001b[38;5;241m=\u001b[39m A010(J,\u001b[38;5;241m1\u001b[39m,\u001b[43mparams_A010\u001b[49m)\n\u001b[0;32m      6\u001b[0m     Hm \u001b[38;5;241m=\u001b[39m A010(J,\u001b[38;5;241m-\u001b[39m\u001b[38;5;241m1\u001b[39m,params_A010)\n\u001b[0;32m      7\u001b[0m     vals_p,vecs_p \u001b[38;5;241m=\u001b[39m np\u001b[38;5;241m.\u001b[39mlinalg\u001b[38;5;241m.\u001b[39meigh(Hp)\n",
      "\u001b[1;31mNameError\u001b[0m: name 'params_A010' is not defined"
     ]
    },
    {
     "data": {
      "text/plain": [
       "<Figure size 1080x720 with 0 Axes>"
      ]
     },
     "metadata": {},
     "output_type": "display_data"
    }
   ],
   "source": [
    "sub_B = False\n",
    "\n",
    "plt.figure(figsize=(15,10))\n",
    "for J in np.arange(1/2,4):\n",
    "    Hp = A010(J,1,params_A010)\n",
    "    Hm = A010(J,-1,params_A010)\n",
    "    vals_p,vecs_p = np.linalg.eigh(Hp)\n",
    "    vals_m,vecs_m = np.linalg.eigh(Hm)\n",
    "    print((vals_p-vals_m)*29979.2458)\n",
    "    _J = [J for val in vals_p]\n",
    "    [plt.hlines(y=val,color='red',xmin=0.0,xmax=0.5) for val in vals_p]\n",
    "    [plt.annotate(f'{J}+',(0.55,val)) for val in vals_p]\n",
    "    [plt.hlines(y=val,color='blue',xmin=-0.5,xmax=-0.0) for val in vals_m]\n",
    "    [plt.annotate(f'{J}-',(-0.55,val)) for val in vals_m]\n",
    "\n",
    "plt.ylim(33,40)\n",
    "plt.xlim(-1,1)"
   ]
  },
  {
   "cell_type": "code",
   "execution_count": 24,
   "id": "ce8b2abb",
   "metadata": {},
   "outputs": [],
   "source": [
    "def A010_resid(params,data_p,data_m,Jmax=5/2,uncertainty = 0.001,no_uncert = False):\n",
    "    theory_p = []\n",
    "    theory_m = []\n",
    "    for J in np.arange(1/2,Jmax+1):\n",
    "        HJp = A010(J,1,params)\n",
    "        HJm = A010(J,-1,params)\n",
    "        vals_p,vecs_p = np.linalg.eigh(HJp)\n",
    "        vals_m,vecs_m = np.linalg.eigh(HJm)\n",
    "        if J==1/2:\n",
    "            theory_p.append(vals_p.min())\n",
    "            theory_m.append(vals_m.min())\n",
    "        else:\n",
    "            theory_p.append(sorted(vals_p)[0])\n",
    "            theory_p.append(sorted(vals_p)[1])\n",
    "            theory_m.append(sorted(vals_m)[0])\n",
    "            theory_m.append(sorted(vals_m)[1])\n",
    "    all_data  = np.concatenate((data_p,data_m))\n",
    "    all_data-=all_data.min()\n",
    "    all_theory = np.concatenate((theory_p,theory_m))\n",
    "    all_theory-=all_theory.min()\n",
    "    if no_uncert:\n",
    "        uncertainty=1\n",
    "    resid = (all_data - all_theory)/uncertainty\n",
    "    return resid"
   ]
  },
  {
   "cell_type": "code",
   "execution_count": 25,
   "id": "b0555003",
   "metadata": {},
   "outputs": [],
   "source": [
    "data_p = [17651.4518,17651.8629,17652.6354,17652.8624,17654.1187]\n",
    "data_m = [17651.4685,17651.8466,17652.6182,17652.8845,17654.1463]"
   ]
  },
  {
   "cell_type": "code",
   "execution_count": 26,
   "id": "5a143fdc",
   "metadata": {},
   "outputs": [
    {
     "data": {
      "image/png": "[encoded data removed]",
      "text/plain": [
       "<Figure size 432x288 with 1 Axes>"
      ]
     },
     "metadata": {
      "needs_background": "light"
     },
     "output_type": "display_data"
    }
   ],
   "source": [
    "\n",
    "\n",
    "initial_resid = A010_resid(params,data_p,data_m,no_uncert=True)\n",
    "plt.figure()\n",
    "plt.plot(initial_resid, 'bo')\n",
    "plt.axhline(y=0)\n",
    "plt.title('stdev = '+ str(initial_resid.std()))\n",
    "plt.show()"
   ]
  },
  {
   "cell_type": "code",
   "execution_count": 27,
   "id": "7839bc16",
   "metadata": {},
   "outputs": [
    {
     "name": "stdout",
     "output_type": "stream",
     "text": [
      "Name      Value      Min      Max   Stderr     Vary     Expr Brute_Step\n",
      "A          1250     -inf      inf     None    False     None     None\n",
      "B         0.254      0.2      0.3     None    False     None     None\n",
      "D             0     -inf      inf     None    False     None     None\n",
      "eDw2          0     -inf      inf     None    False     None     None\n",
      "ew2      -3.919     -100      100     None     True     None     None\n",
      "gK       0.2725        0        1     None    False     None     None\n",
      "gamma     3.152       -5        5     None     True     None     None\n",
      "pe       -0.469       -5        0     None     True     None     None\n",
      "pv        1.291       -5        5     None     True     None     None\n",
      "qe         0.01       -1        1     None    False     None     None\n",
      "qv       -0.001       -1        1     None    False     None     None\n",
      "w2          330     -inf      inf     None    False     None     None\n"
     ]
    },
    {
     "data": {
      "image/png": "[encoded data removed]",
      "text/plain": [
       "<Figure size 432x288 with 1 Axes>"
      ]
     },
     "metadata": {
      "needs_background": "light"
     },
     "output_type": "display_data"
    }
   ],
   "source": [
    "out = minimize(A010_resid, params, args=([data_p,data_m]),method='powell')#,kws={'flist':True})#,method='least_squares')\n",
    "out.params.pretty_print()\n",
    "final_resid = A010_resid(out.params,data_p,data_m,no_uncert=True)\n",
    "plt.figure()\n",
    "plt.plot(final_resid, 'bo')\n",
    "plt.axhline(y=0)\n",
    "plt.title('stdev = '+ str(final_resid.std()))\n",
    "plt.show()"
   ]
  },
  {
   "cell_type": "code",
   "execution_count": 28,
   "id": "4caca072",
   "metadata": {
    "scrolled": false
   },
   "outputs": [
    {
     "name": "stdout",
     "output_type": "stream",
     "text": [
      "Name      Value      Min      Max   Stderr     Vary     Expr Brute_Step\n",
      "A          1250     -inf      inf        0    False     None     None\n",
      "B         0.254      0.2      0.3        0    False     None     None\n",
      "D             0     -inf      inf        0    False     None     None\n",
      "eDw2          0     -inf      inf        0    False     None     None\n",
      "ew2      -3.919     -100      100  0.01525     True     None     None\n",
      "gK       0.2725        0        1        0    False     None     None\n",
      "gamma     3.152       -5        5  0.01278     True     None     None\n",
      "pe       -0.469       -5        0 7.532e-05     True     None     None\n",
      "pv        1.291       -5        5  0.01673     True     None     None\n",
      "qe         0.01       -1        1        0    False     None     None\n",
      "qv       -0.001       -1        1        0    False     None     None\n",
      "w2          330     -inf      inf        0    False     None     None\n"
     ]
    },
    {
     "data": {
      "image/png": "[encoded data removed]",
      "text/plain": [
       "<Figure size 432x288 with 1 Axes>"
      ]
     },
     "metadata": {
      "needs_background": "light"
     },
     "output_type": "display_data"
    },
    {
     "data": {
      "text/html": [
       "<h2>Fit Statistics</h2><table><tr><td>fitting method</td><td>least_squares</td><td></td></tr><tr><td># function evals</td><td>9</td><td></td></tr><tr><td># data points</td><td>10</td><td></td></tr><tr><td># variables</td><td>4</td><td></td></tr><tr><td>chi-square</td><td> 0.11082948</td><td></td></tr><tr><td>reduced chi-square</td><td> 0.01847158</td><td></td></tr><tr><td>Akaike info crit.</td><td>-37.0234753</td><td></td></tr><tr><td>Bayesian info crit.</td><td>-35.8131349</td><td></td></tr></table><h2>Variables</h2><table><tr><th> name </th><th> value </th><th> standard error </th><th> relative error </th><th> initial value </th><th> min </th><th> max </th><th> vary </th></tr><tr><td> w2 </td><td>  330.000000 </td><td>  0.00000000 </td><td> (0.00%) </td><td> 330 </td><td>        -inf </td><td>         inf </td><td> False </td></tr><tr><td> A </td><td>  1250.00000 </td><td>  0.00000000 </td><td> (0.00%) </td><td> 1250 </td><td>        -inf </td><td>         inf </td><td> False </td></tr><tr><td> D </td><td>  0.00000000 </td><td>  0.00000000 </td><td>  </td><td> 0 </td><td>        -inf </td><td>         inf </td><td> False </td></tr><tr><td> eDw2 </td><td>  0.00000000 </td><td>  0.00000000 </td><td>  </td><td> 0 </td><td>        -inf </td><td>         inf </td><td> False </td></tr><tr><td> B </td><td>  0.25400000 </td><td>  0.00000000 </td><td> (0.00%) </td><td> 0.254 </td><td>  0.20000000 </td><td>  0.30000000 </td><td> False </td></tr><tr><td> pe </td><td> -0.46903803 </td><td>  7.5318e-05 </td><td> (0.02%) </td><td> -0.4690380328980046 </td><td> -5.00000000 </td><td>  0.00000000 </td><td> True </td></tr><tr><td> qe </td><td>  0.01000000 </td><td>  0.00000000 </td><td> (0.00%) </td><td> 0.01 </td><td> -1.00000000 </td><td>  1.00000000 </td><td> False </td></tr><tr><td> pv </td><td>  1.29097465 </td><td>  0.01673428 </td><td> (1.30%) </td><td> 1.2909746528477983 </td><td> -5.00000000 </td><td>  5.00000000 </td><td> True </td></tr><tr><td> qv </td><td> -1.0000e-03 </td><td>  0.00000000 </td><td> (0.00%) </td><td> -0.001 </td><td> -1.00000000 </td><td>  1.00000000 </td><td> False </td></tr><tr><td> gK </td><td>  0.27250000 </td><td>  0.00000000 </td><td> (0.00%) </td><td> 0.2725 </td><td>  0.00000000 </td><td>  1.00000000 </td><td> False </td></tr><tr><td> gamma </td><td>  3.15178333 </td><td>  0.01278489 </td><td> (0.41%) </td><td> 3.151783331586053 </td><td> -5.00000000 </td><td>  5.00000000 </td><td> True </td></tr><tr><td> ew2 </td><td> -3.91884173 </td><td>  0.01525438 </td><td> (0.39%) </td><td> -3.9188417334764125 </td><td> -100.000000 </td><td>  100.000000 </td><td> True </td></tr></table><h2>Correlations (unreported correlations are < 0.100)</h2><table><tr><td>pe</td><td>pv</td><td>-0.8229</td></tr><tr><td>gamma</td><td>ew2</td><td>0.6733</td></tr><tr><td>pv</td><td>gamma</td><td>-0.6148</td></tr><tr><td>pe</td><td>ew2</td><td>0.6042</td></tr><tr><td>pe</td><td>gamma</td><td>0.5750</td></tr><tr><td>pv</td><td>ew2</td><td>-0.5735</td></tr></table>"
      ],
      "text/plain": [
       "<lmfit.minimizer.MinimizerResult at 0x1a502915310>"
      ]
     },
     "execution_count": 28,
     "metadata": {},
     "output_type": "execute_result"
    }
   ],
   "source": [
    "out2 = minimize(A010_resid, out.params, args=([data_p,data_m]),method='least_squares')#,kws={'flist':True})#,method='least_squares')\n",
    "out2.params.pretty_print()\n",
    "final_resid2 = A010_resid(out.params,data_p,data_m,no_uncert=True)\n",
    "plt.figure()\n",
    "plt.plot(final_resid2, 'bo')\n",
    "plt.axhline(y=0)\n",
    "plt.title('stdev = '+ str(final_resid2.std()))\n",
    "plt.show()\n",
    "out2"
   ]
  },
  {
   "cell_type": "code",
   "execution_count": 42,
   "id": "31cc2b08",
   "metadata": {},
   "outputs": [
    {
     "data": {
      "text/plain": [
       "(-1.0, 1.0)"
      ]
     },
     "execution_count": 42,
     "metadata": {},
     "output_type": "execute_result"
    },
    {
     "data": {
      "image/png": "[encoded data removed]",
      "text/plain": [
       "<Figure size 1080x720 with 1 Axes>"
      ]
     },
     "metadata": {
      "needs_background": "light"
     },
     "output_type": "display_data"
    }
   ],
   "source": [
    "sub_B = False\n",
    "fitparams = out2.params\n",
    "plt.figure(figsize=(15,10))\n",
    "depert = False\n",
    "off=[]\n",
    "for J in np.arange(1/2,16):\n",
    "    Hp = A010(J,1,fitparams,depert=depert)\n",
    "    Hm = A010(J,-1,fitparams,depert=depert)\n",
    "    vals_p,vecs_p = np.linalg.eigh(Hp)\n",
    "    vals_m,vecs_m = np.linalg.eigh(Hm)\n",
    "    if J==1/2:\n",
    "        off = [min(data_p)-min(vals_p),min(data_m)-min(vals_m)]\n",
    "#     print((vals_p-vals_m)*29979.2458)\n",
    "    [plt.hlines(y=val+off[0],color='red',xmin=0.0,xmax=0.5) for val in vals_p]\n",
    "    [plt.annotate(f'{J}+',(0.55,val+off[0])) for val in vals_p]\n",
    "    [plt.hlines(y=val+off[1],color='blue',xmin=-0.5,xmax=-0.0) for val in vals_m]\n",
    "    [plt.hlines(y=_p,color='k',linestyle='--',xmin=0.0,xmax=0.5) for _p in data_p]\n",
    "    [plt.hlines(y=_m,color='k',linestyle='--',xmin=-0.5,xmax=0.0) for _m in data_m]\n",
    "    [plt.annotate(f'{J}-',(-0.55,val+off[1])) for val in vals_m]\n",
    "\n",
    "plt.ylim(17650,17670)\n",
    "plt.xlim(-1,1)"
   ]
  },
  {
   "cell_type": "code",
   "execution_count": null,
   "id": "ad2c93f6",
   "metadata": {},
   "outputs": [],
   "source": [
    "sub_B = False\n",
    "fitparams = out2.params\n",
    "plt.figure(figsize=(15,10))\n",
    "depert = True\n",
    "off=[]\n",
    "for J in np.arange(1/2,16):\n",
    "    Hp = A010(J,1,fitparams,depert=depert)\n",
    "    Hm = A010(J,-1,fitparams,depert=depert)\n",
    "    vals_p,vecs_p = np.linalg.eigh(Hp)\n",
    "    vals_m,vecs_m = np.linalg.eigh(Hm)\n",
    "    if J==1/2:\n",
    "        off = [min(data_p)-min(vals_p),min(data_m)-min(vals_m)]\n",
    "#     print((vals_p-vals_m)*29979.2458)\n",
    "    [plt.hlines(y=val+off[0],color='red',xmin=0.0,xmax=0.5) for val in vals_p]\n",
    "    [plt.annotate(f'{J}+',(0.55,val+off[0])) for val in vals_p]\n",
    "    [plt.hlines(y=val+off[1],color='blue',xmin=-0.5,xmax=-0.0) for val in vals_m]\n",
    "    [plt.hlines(y=_p,color='k',linestyle='--',xmin=0.0,xmax=0.5) for _p in data_p]\n",
    "    [plt.hlines(y=_m,color='k',linestyle='--',xmin=-0.5,xmax=0.0) for _m in data_m]\n",
    "    [plt.annotate(f'{J}-',(-0.55,val+off[1])) for val in vals_m]\n",
    "\n",
    "plt.ylim(17650,17670)\n",
    "plt.xlim(-1,1)"
   ]
  },
  {
   "cell_type": "code",
   "execution_count": 40,
   "id": "42144c2d",
   "metadata": {},
   "outputs": [
    {
     "data": {
      "text/plain": [
       "(-1.0, 1.0)"
      ]
     },
     "execution_count": 40,
     "metadata": {},
     "output_type": "execute_result"
    },
    {
     "data": {
      "image/png": "[encoded data removed]",
      "text/plain": [
       "<Figure size 1080x720 with 1 Axes>"
      ]
     },
     "metadata": {
      "needs_background": "light"
     },
     "output_type": "display_data"
    }
   ],
   "source": [
    "sub_B = False\n",
    "\n",
    "plt.figure(figsize=(15,10))\n",
    "off=[]\n",
    "for J in np.arange(1/2,6):\n",
    "    Hp = A010(J,1,out2.params)\n",
    "    Hm = A010(J,-1,out2.params)\n",
    "    vals_p,vecs_p = np.linalg.eigh(Hp)\n",
    "    vals_m,vecs_m = np.linalg.eigh(Hm)\n",
    "    if J==1/2:\n",
    "        off = [min(vals_p),min(vals_m)]\n",
    "#     print((vals_p-vals_m)*29979.2458)\n",
    "    [plt.hlines(y=val,color='red',xmin=0.0,xmax=0.5) for val in vals_p]\n",
    "    [plt.annotate(f'{J}+',(0.55,val)) for val in vals_p]\n",
    "    [plt.hlines(y=val,color='blue',xmin=-0.5,xmax=-0.0) for val in vals_m]\n",
    "    [plt.hlines(y=_p-min(data_p)+off[0],color='k',linestyle='--',xmin=0.0,xmax=0.5) for _p in data_p]\n",
    "    [plt.hlines(y=_m-min(data_m)+off[1],color='k',linestyle='--',xmin=-0.5,xmax=0.0) for _m in data_m]\n",
    "    [plt.annotate(f'{J}-',(-0.55,val)) for val in vals_m]\n",
    "\n",
    "plt.ylim(31,40)\n",
    "plt.xlim(-1,1)"
   ]
  },
  {
   "cell_type": "code",
   "execution_count": 550,
   "id": "818d3faa",
   "metadata": {},
   "outputs": [
    {
     "name": "stdout",
     "output_type": "stream",
     "text": [
      "[32.33262353639491, 32.349161803808585]\n"
     ]
    }
   ],
   "source": [
    "print(off)"
   ]
  },
  {
   "cell_type": "code",
   "execution_count": 472,
   "id": "f7cc759b",
   "metadata": {},
   "outputs": [],
   "source": [
    "Hp = A010(3/2,1,out2.params)\n",
    "Hm = A010(3/2,-1,out2.params)\n",
    "vals_p,vecs_p = np.linalg.eigh(Hp)\n",
    "vals_m,vecs_m = np.linalg.eigh(Hm)"
   ]
  },
  {
   "cell_type": "code",
   "execution_count": 477,
   "id": "fe3c820e",
   "metadata": {},
   "outputs": [
    {
     "data": {
      "text/plain": [
       "array([[ 3.47432612e+01, -4.79406415e-01, -3.76885586e-01],\n",
       "       [-4.79406415e-01,  1.28676705e+03, -2.39456630e+01],\n",
       "       [-3.76885586e-01, -2.39456630e+01,  3.51714279e+01]])"
      ]
     },
     "execution_count": 477,
     "metadata": {},
     "output_type": "execute_result"
    }
   ],
   "source": [
    "Hp"
   ]
  },
  {
   "cell_type": "code",
   "execution_count": 473,
   "id": "6a64d128",
   "metadata": {},
   "outputs": [
    {
     "data": {
      "text/plain": [
       "array([  34.34200614,   35.11454148, 1287.22519202])"
      ]
     },
     "execution_count": 473,
     "metadata": {},
     "output_type": "execute_result"
    }
   ],
   "source": [
    "vals_p"
   ]
  },
  {
   "cell_type": "code",
   "execution_count": 487,
   "id": "fbeb284a",
   "metadata": {},
   "outputs": [
    {
     "data": {
      "text/plain": [
       "array([[-6.93419125e-01, -1.40390276e-02, -7.20397684e-01],\n",
       "       [-7.20534368e-01,  1.29876635e-02,  6.93297588e-01],\n",
       "       [ 3.76941257e-04, -9.99817096e-01,  1.91214961e-02]])"
      ]
     },
     "execution_count": 487,
     "metadata": {},
     "output_type": "execute_result"
    }
   ],
   "source": [
    "vecs_p.T"
   ]
  },
  {
   "cell_type": "code",
   "execution_count": 471,
   "id": "30a8b1d3",
   "metadata": {},
   "outputs": [
    {
     "data": {
      "text/plain": [
       "array([[-0.0192932 , -0.99981387],\n",
       "       [-0.99981387,  0.0192932 ]])"
      ]
     },
     "execution_count": 471,
     "metadata": {},
     "output_type": "execute_result"
    }
   ],
   "source": [
    "vecs_m"
   ]
  },
  {
   "cell_type": "code",
   "execution_count": null,
   "id": "71d74b92",
   "metadata": {},
   "outputs": [],
   "source": [
    "params_A010_SrOH={\n",
    "    'Ts':,\n",
    "    'Td':,\n",
    "    'Bd':,\n",
    "    'Bs-':,\n",
    "    'Bs+':,\n",
    "    'Dd':0,\n",
    "    'Ds-':0,\n",
    "    'Ds+':0,\n",
    "    'A':,\n",
    "    'AD':0,\n",
    "    'e':,\n",
    "    'gs-':,\n",
    "    'gs+':,\n",
    "    'gsD-':,\n",
    "    'gsD+':,\n",
    "    'qe':,\n",
    "    'qv':,\n",
    "    'pe+2qe':,\n",
    "    'w2':,\n",
    "}\n",
    "\n",
    "def A010_SrOH(J,parity,params):\n",
    "    n=4\n",
    "    Ts=0\n",
    "    H = np.zeros((n,n))\n",
    "    z=np.sqrt(J+1/2)\n",
    "    Ad = params['A']*(1-3/4*params['e']**2)\n",
    "    As = params['A']*(1-1/4*params['e']**2)\n",
    "    AdD = params['AD']*(1-3/4*params['e']**2)\n",
    "    AsD = params['AD']*(1-1/4*params['e']**2)\n",
    "    H[0,0] = params['Ts']-params['Td']+params['Bd']*(z-6)-params['Dd'] (z**2-11*z+32)+1/2*(Ad+AdD*(z-6))\n",
    "    H[0,1] = -params['Bd']*np.sqrt(z-4)+2*params['Dd']*(z-4)**(3/2)\n",
    "    H[1,0] = H[0,1]\n",
    "    H[1,1] = params['Ts'] - params['Td'] + params['Bd']*(z-2) - params['Dd']*z*(z-3)-1/2*(Ad+AdD*(z-2))\n",
    "    H[0,2] = 1/2*params['qv']*(z**2-5*z+4)**(1/2)\n",
    "    H[2,0] = H[0,2]\n",
    "    H[1,2] = (z-1)**(1/2)*(parity*1/2*(params['qe']*z**(1/2)-params['qv']))\n",
    "    H[2,1] = H[1,2]\n",
    "    H[2,2] = params['Ts'] - 1/2*(As+AsD*z) - parity*1/2*params['gs-']*z**(1/2)+params['Bs-']*z-params['Ds-']*z*(z+1)-parity*params['gs-D']*z**(1/2)*(z+1+parity*z**(1/2))\n",
    "    H[0,3] = parity*params['qe']*(z**2 - 5*z + 4)**(1/2)\n",
    "    H[3,0] = H[0,3]\n",
    "    H[1,3] = (z-1)**(1/2)*(-parity/2*params['pe+2qe']+1/2*params['qv']*z**(1/2))\n",
    "    H[3,1] = H[1,3]\n",
    "    H[2,3] = -1/2*(params['Bs-']+params['Bs+'])*z**(1/2) + (params['Ds-']+params['Ds+'])*z**(3/2)+params['e']*params['w2']\n",
    "    H[3,2] = H[2,3]\n",
    "    H[3,3] = params['Ts'] - 1/2*(As+AsD*z)+parity*params['gs+']*z**(1/2)+params['Bs+']*z - params['Ds+']*z*(z+1)+parity/2*params['gs+d']*z**(1/2)*(z+1-parity*2*z**(1/2))\n",
    "    return H"
   ]
  },
  {
   "cell_type": "code",
   "execution_count": null,
   "id": "da625553",
   "metadata": {},
   "outputs": [],
   "source": []
  }
 ],
 "metadata": {
  "kernelspec": {
   "display_name": "Python 3 (ipykernel)",
   "language": "python",
   "name": "python3"
  },
  "language_info": {
   "codemirror_mode": {
    "name": "ipython",
    "version": 3
   },
   "file_extension": ".py",
   "mimetype": "text/x-python",
   "name": "python",
   "nbconvert_exporter": "python",
   "pygments_lexer": "ipython3",
   "version": "3.8.13"
  }
 },
 "nbformat": 4,
 "nbformat_minor": 5
}
