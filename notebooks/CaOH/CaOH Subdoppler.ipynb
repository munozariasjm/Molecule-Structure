{
    "cells": [
        {
            "cell_type": "code",
            "execution_count": 1,
            "id": "529ac22c",
            "metadata": {},
            "outputs": [],
            "source": [
                "from config_path import add_to_sys_path\n",
                "add_to_sys_path()  # Call the function to add path\n",
                "\n",
                "import numpy as np\n",
                "from sympy.physics.wigner import wigner_3j,wigner_6j\n",
                "import sympy as sy\n",
                "from numpy import linalg as LA\n",
                "from IPython.display import Latex,display\n",
                "import matplotlib.pyplot as plt\n",
                "%matplotlib inline\n",
                "import seaborn as sns\n",
                "sns.set()\n",
                "sns.set_palette('terrain')\n",
                "from molecular_structure import MoleculeLevels\n",
                "np.set_printoptions(precision=5, suppress=True)\n",
                "from energy_levels import branching_ratios, calculate_TDMs\n",
                "\n",
                "%matplotlib qt"
            ]
        },
        {
            "cell_type": "code",
            "execution_count": 6,
            "id": "9088db39",
            "metadata": {},
            "outputs": [
                {
                    "name": "stdout",
                    "output_type": "stream",
                    "text": [
                        "No P values provided, using P=1/2 as default\n"
                    ]
                }
            ],
            "source": [
                "X000= MoleculeLevels.initialize_state('CaOH','40','X000',N_range=[1],I=[0,1/2],S=1/2,round=8, M_values = 'all',M_range=None)"
            ]
        },
        {
            "cell_type": "code",
            "execution_count": 83,
            "id": "85c741ef",
            "metadata": {},
            "outputs": [],
            "source": [
                "Bz = np.linspace(1e-6,50,1000)\n",
                "Ez = np.linspace(0.0,200,1000)"
            ]
        },
        {
            "cell_type": "code",
            "execution_count": 71,
            "id": "b839c2ae",
            "metadata": {},
            "outputs": [],
            "source": [
                "X000.ZeemanMap(Bz,plot=True)"
            ]
        },
        {
            "cell_type": "code",
            "execution_count": 92,
            "id": "833a573a",
            "metadata": {},
            "outputs": [],
            "source": [
                "A000= MoleculeLevels.initialize_state('YbOH','174','A000',[1,2],M_values = 'all',I=[0,1/2],S=1/2,round=8,M_range=None,P_values=[1/2])"
            ]
        },
        {
            "cell_type": "code",
            "execution_count": null,
            "id": "25199661",
            "metadata": {},
            "outputs": [],
            "source": [
                "N_list = [1]\n",
                "print(N_list)"
            ]
        },
        {
            "cell_type": "code",
            "execution_count": null,
            "id": "bb41dcad",
            "metadata": {},
            "outputs": [],
            "source": [
                "A000= MoleculeLevels.initialize_state('CaOH','40','A000',[1,2],M_values = 'custom',I=[0,1/2],S=1/2,round=8,M_range=[0],P_values=[1/2,3/2])"
            ]
        },
        {
            "cell_type": "code",
            "execution_count": 60,
            "id": "5d1cc3be",
            "metadata": {},
            "outputs": [],
            "source": [
                "Bz = np.linspace(1e-6,100,3000)\n",
                "Ez = np.linspace(0.0,100,5000)"
            ]
        },
        {
            "cell_type": "code",
            "execution_count": 78,
            "id": "92ee69c7",
            "metadata": {},
            "outputs": [],
            "source": [
                "A000.ZeemanMap(Bz,0,plot=True)"
            ]
        },
        {
            "cell_type": "code",
            "execution_count": 5,
            "id": "e4226ea2",
            "metadata": {
                "scrolled": true
            },
            "outputs": [
                {
                    "name": "stdout",
                    "output_type": "stream",
                    "text": [
                        "[12 13 14 15 16 17 18 19]\n",
                        "\n",
                        "\n"
                    ]
                },
                {
                    "data": {
                        "text/latex": [
                            "$E = 1032342.1674\\:\\mathrm{MHz}$"
                        ],
                        "text/plain": [
                            "<IPython.core.display.Latex object>"
                        ]
                    },
                    "metadata": {},
                    "output_type": "display_data"
                },
                {
                    "name": "stdout",
                    "output_type": "stream",
                    "text": [
                        "Decoupled:\n"
                    ]
                },
                {
                    "data": {
                        "text/latex": [
                            "$\\, \\,0.3517|K=-1,M_N=-1,M_S=\\frac{1}{2},M_I=\\frac{1}{2},M_F=0\\rangle\\,$$\\,+\\,0.4974|K=-1,M_N=0,M_S=\\frac{-1}{2},M_I=\\frac{1}{2},M_F=0\\rangle\\,$$\\,+\\,0.4974|K=1,M_N=0,M_S=\\frac{1}{2},M_I=\\frac{-1}{2},M_F=0\\rangle\\,$$\\,+\\,0.3517|K=1,M_N=1,M_S=\\frac{-1}{2},M_I=\\frac{-1}{2},M_F=0\\rangle\\,$$\\,-\\,0.2769|K=-1,M_N=-1,M_S=\\frac{1}{2},M_I=\\frac{1}{2},M_F=0\\rangle\\,$$\\,+\\,0.2285|K=-1,M_N=0,M_S=\\frac{-1}{2},M_I=\\frac{1}{2},M_F=0\\rangle\\,$$\\,+\\,0.2285|K=1,M_N=0,M_S=\\frac{1}{2},M_I=\\frac{-1}{2},M_F=0\\rangle\\,$$\\,-\\,0.2769|K=1,M_N=1,M_S=\\frac{-1}{2},M_I=\\frac{-1}{2},M_F=0\\rangle\\,$"
                        ],
                        "text/plain": [
                            "<IPython.core.display.Latex object>"
                        ]
                    },
                    "metadata": {},
                    "output_type": "display_data"
                },
                {
                    "name": "stdout",
                    "output_type": "stream",
                    "text": [
                        "Decoupled with J:\n"
                    ]
                },
                {
                    "data": {
                        "text/latex": [
                            "$\\, \\,0.4996|K=-1,N=1,J=\\frac{3}{2},M_J=\\frac{-1}{2},M_I=\\frac{1}{2},M_F=0\\rangle\\,$$\\,-\\,0.4996|K=1,N=1,J=\\frac{3}{2},M_J=\\frac{1}{2},M_I=\\frac{-1}{2},M_F=0\\rangle\\,$$\\,-\\,0.5003|K=-1,N=2,J=\\frac{3}{2},M_J=\\frac{-1}{2},M_I=\\frac{1}{2},M_F=0\\rangle\\,$$\\,-\\,0.5003|K=1,N=2,J=\\frac{3}{2},M_J=\\frac{1}{2},M_I=\\frac{-1}{2},M_F=0\\rangle\\,$"
                        ],
                        "text/plain": [
                            "<IPython.core.display.Latex object>"
                        ]
                    },
                    "metadata": {},
                    "output_type": "display_data"
                },
                {
                    "name": "stdout",
                    "output_type": "stream",
                    "text": [
                        "Case B:\n"
                    ]
                },
                {
                    "data": {
                        "text/latex": [
                            "$\\, \\,0.4305|K=-1,N=1,J=\\frac{3}{2},F=1,M=0\\rangle\\,$$\\,-\\,0.4305|K=1,N=1,J=\\frac{3}{2},F=1,M=0\\rangle\\,$$\\,-\\,0.431|K=-1,N=1,J=\\frac{3}{2},F=2,M=0\\rangle\\,$$\\,-\\,0.4311|K=1,N=1,J=\\frac{3}{2},F=2,M=0\\rangle\\,$$\\,+\\,0.2537|K=-1,N=2,J=\\frac{3}{2},F=1,M=0\\rangle\\,$$\\,+\\,0.2537|K=1,N=2,J=\\frac{3}{2},F=1,M=0\\rangle\\,$$\\,-\\,0.254|K=-1,N=2,J=\\frac{3}{2},F=2,M=0\\rangle\\,$$\\,+\\,0.254|K=1,N=2,J=\\frac{3}{2},F=2,M=0\\rangle\\,$"
                        ],
                        "text/plain": [
                            "<IPython.core.display.Latex object>"
                        ]
                    },
                    "metadata": {},
                    "output_type": "display_data"
                },
                {
                    "name": "stdout",
                    "output_type": "stream",
                    "text": [
                        "Case A:\n"
                    ]
                },
                {
                    "data": {
                        "text/latex": [
                            "$\\, \\,0.4996|P=\\frac{-3}{2},K=-1,Σ=\\frac{-1}{2},J=\\frac{3}{2},F=1,M=0\\rangle\\,$$\\,-\\,0.4996|P=\\frac{3}{2},K=1,Σ=\\frac{1}{2},J=\\frac{3}{2},F=1,M=0\\rangle\\,$$\\,-\\,0.5003|P=\\frac{-3}{2},K=-1,Σ=\\frac{-1}{2},J=\\frac{3}{2},F=2,M=0\\rangle\\,$$\\,-\\,0.5003|P=\\frac{3}{2},K=1,Σ=\\frac{1}{2},J=\\frac{3}{2},F=2,M=0\\rangle\\,$"
                        ],
                        "text/plain": [
                            "<IPython.core.display.Latex object>"
                        ]
                    },
                    "metadata": {},
                    "output_type": "display_data"
                },
                {
                    "name": "stdout",
                    "output_type": "stream",
                    "text": [
                        "\n",
                        "\n"
                    ]
                },
                {
                    "data": {
                        "text/latex": [
                            "$E = 1032342.1675\\:\\mathrm{MHz}$"
                        ],
                        "text/plain": [
                            "<IPython.core.display.Latex object>"
                        ]
                    },
                    "metadata": {},
                    "output_type": "display_data"
                },
                {
                    "name": "stdout",
                    "output_type": "stream",
                    "text": [
                        "Decoupled:\n"
                    ]
                },
                {
                    "data": {
                        "text/latex": [
                            "$\\, \\,0.3517|K=-1,M_N=-1,M_S=\\frac{1}{2},M_I=\\frac{1}{2},M_F=0\\rangle\\,$$\\,+\\,0.4974|K=-1,M_N=0,M_S=\\frac{-1}{2},M_I=\\frac{1}{2},M_F=0\\rangle\\,$$\\,-\\,0.4974|K=1,M_N=0,M_S=\\frac{1}{2},M_I=\\frac{-1}{2},M_F=0\\rangle\\,$$\\,-\\,0.3517|K=1,M_N=1,M_S=\\frac{-1}{2},M_I=\\frac{-1}{2},M_F=0\\rangle\\,$$\\,-\\,0.2769|K=-1,M_N=-1,M_S=\\frac{1}{2},M_I=\\frac{1}{2},M_F=0\\rangle\\,$$\\,+\\,0.2285|K=-1,M_N=0,M_S=\\frac{-1}{2},M_I=\\frac{1}{2},M_F=0\\rangle\\,$$\\,-\\,0.2285|K=1,M_N=0,M_S=\\frac{1}{2},M_I=\\frac{-1}{2},M_F=0\\rangle\\,$$\\,+\\,0.2769|K=1,M_N=1,M_S=\\frac{-1}{2},M_I=\\frac{-1}{2},M_F=0\\rangle\\,$"
                        ],
                        "text/plain": [
                            "<IPython.core.display.Latex object>"
                        ]
                    },
                    "metadata": {},
                    "output_type": "display_data"
                },
                {
                    "name": "stdout",
                    "output_type": "stream",
                    "text": [
                        "Decoupled with J:\n"
                    ]
                },
                {
                    "data": {
                        "text/latex": [
                            "$\\, \\,0.5003|K=-1,N=1,J=\\frac{3}{2},M_J=\\frac{-1}{2},M_I=\\frac{1}{2},M_F=0\\rangle\\,$$\\,+\\,0.5002|K=1,N=1,J=\\frac{3}{2},M_J=\\frac{1}{2},M_I=\\frac{-1}{2},M_F=0\\rangle\\,$$\\,-\\,0.4997|K=-1,N=2,J=\\frac{3}{2},M_J=\\frac{-1}{2},M_I=\\frac{1}{2},M_F=0\\rangle\\,$$\\,+\\,0.4997|K=1,N=2,J=\\frac{3}{2},M_J=\\frac{1}{2},M_I=\\frac{-1}{2},M_F=0\\rangle\\,$"
                        ],
                        "text/plain": [
                            "<IPython.core.display.Latex object>"
                        ]
                    },
                    "metadata": {},
                    "output_type": "display_data"
                },
                {
                    "name": "stdout",
                    "output_type": "stream",
                    "text": [
                        "Case B:\n"
                    ]
                },
                {
                    "data": {
                        "text/latex": [
                            "$\\, \\,0.431|K=-1,N=1,J=\\frac{3}{2},F=1,M=0\\rangle\\,$$\\,+\\,0.431|K=1,N=1,J=\\frac{3}{2},F=1,M=0\\rangle\\,$$\\,-\\,0.4305|K=-1,N=1,J=\\frac{3}{2},F=2,M=0\\rangle\\,$$\\,+\\,0.4305|K=1,N=1,J=\\frac{3}{2},F=2,M=0\\rangle\\,$$\\,+\\,0.254|K=-1,N=2,J=\\frac{3}{2},F=1,M=0\\rangle\\,$$\\,-\\,0.254|K=1,N=2,J=\\frac{3}{2},F=1,M=0\\rangle\\,$$\\,-\\,0.2537|K=-1,N=2,J=\\frac{3}{2},F=2,M=0\\rangle\\,$$\\,-\\,0.2537|K=1,N=2,J=\\frac{3}{2},F=2,M=0\\rangle\\,$"
                        ],
                        "text/plain": [
                            "<IPython.core.display.Latex object>"
                        ]
                    },
                    "metadata": {},
                    "output_type": "display_data"
                },
                {
                    "name": "stdout",
                    "output_type": "stream",
                    "text": [
                        "Case A:\n"
                    ]
                },
                {
                    "data": {
                        "text/latex": [
                            "$\\, \\,0.5003|P=\\frac{-3}{2},K=-1,Σ=\\frac{-1}{2},J=\\frac{3}{2},F=1,M=0\\rangle\\,$$\\,+\\,0.5002|P=\\frac{3}{2},K=1,Σ=\\frac{1}{2},J=\\frac{3}{2},F=1,M=0\\rangle\\,$$\\,-\\,0.4997|P=\\frac{-3}{2},K=-1,Σ=\\frac{-1}{2},J=\\frac{3}{2},F=2,M=0\\rangle\\,$$\\,+\\,0.4997|P=\\frac{3}{2},K=1,Σ=\\frac{1}{2},J=\\frac{3}{2},F=2,M=0\\rangle\\,$"
                        ],
                        "text/plain": [
                            "<IPython.core.display.Latex object>"
                        ]
                    },
                    "metadata": {},
                    "output_type": "display_data"
                },
                {
                    "name": "stdout",
                    "output_type": "stream",
                    "text": [
                        "\n",
                        "\n"
                    ]
                },
                {
                    "data": {
                        "text/latex": [
                            "$E = 1032510.4985\\:\\mathrm{MHz}$"
                        ],
                        "text/plain": [
                            "<IPython.core.display.Latex object>"
                        ]
                    },
                    "metadata": {},
                    "output_type": "display_data"
                },
                {
                    "name": "stdout",
                    "output_type": "stream",
                    "text": [
                        "Decoupled:\n"
                    ]
                },
                {
                    "data": {
                        "text/latex": [
                            "$\\,-\\,0.3517|K=1,M_N=-1,M_S=\\frac{1}{2},M_I=\\frac{1}{2},M_F=0\\rangle\\,$$\\,-\\,0.4974|K=1,M_N=0,M_S=\\frac{-1}{2},M_I=\\frac{1}{2},M_F=0\\rangle\\,$$\\,+\\,0.4974|K=-1,M_N=0,M_S=\\frac{1}{2},M_I=\\frac{-1}{2},M_F=0\\rangle\\,$$\\,+\\,0.3517|K=-1,M_N=1,M_S=\\frac{-1}{2},M_I=\\frac{-1}{2},M_F=0\\rangle\\,$$\\,-\\,0.2793|K=1,M_N=-1,M_S=\\frac{1}{2},M_I=\\frac{1}{2},M_F=0\\rangle\\,$$\\,+\\,0.2256|K=1,M_N=0,M_S=\\frac{-1}{2},M_I=\\frac{1}{2},M_F=0\\rangle\\,$$\\,-\\,0.2256|K=-1,M_N=0,M_S=\\frac{1}{2},M_I=\\frac{-1}{2},M_F=0\\rangle\\,$$\\,+\\,0.2793|K=-1,M_N=1,M_S=\\frac{-1}{2},M_I=\\frac{-1}{2},M_F=0\\rangle\\,$"
                        ],
                        "text/plain": [
                            "<IPython.core.display.Latex object>"
                        ]
                    },
                    "metadata": {},
                    "output_type": "display_data"
                },
                {
                    "name": "stdout",
                    "output_type": "stream",
                    "text": [
                        "Decoupled with J:\n"
                    ]
                },
                {
                    "data": {
                        "text/latex": [
                            "$\\,-\\,0.4997|K=-1,N=1,J=\\frac{3}{2},M_J=\\frac{-1}{2},M_I=\\frac{1}{2},M_F=0\\rangle\\,$$\\,-\\,0.4997|K=1,N=1,J=\\frac{3}{2},M_J=\\frac{1}{2},M_I=\\frac{-1}{2},M_F=0\\rangle\\,$$\\,-\\,0.5002|K=-1,N=2,J=\\frac{3}{2},M_J=\\frac{-1}{2},M_I=\\frac{1}{2},M_F=0\\rangle\\,$$\\,+\\,0.5003|K=1,N=2,J=\\frac{3}{2},M_J=\\frac{1}{2},M_I=\\frac{-1}{2},M_F=0\\rangle\\,$"
                        ],
                        "text/plain": [
                            "<IPython.core.display.Latex object>"
                        ]
                    },
                    "metadata": {},
                    "output_type": "display_data"
                },
                {
                    "name": "stdout",
                    "output_type": "stream",
                    "text": [
                        "Case B:\n"
                    ]
                },
                {
                    "data": {
                        "text/latex": [
                            "$\\,-\\,0.4305|K=-1,N=1,J=\\frac{3}{2},F=1,M=0\\rangle\\,$$\\,-\\,0.4305|K=1,N=1,J=\\frac{3}{2},F=1,M=0\\rangle\\,$$\\,-\\,0.431|K=-1,N=1,J=\\frac{3}{2},F=2,M=0\\rangle\\,$$\\,+\\,0.431|K=1,N=1,J=\\frac{3}{2},F=2,M=0\\rangle\\,$$\\,-\\,0.2537|K=-1,N=2,J=\\frac{3}{2},F=1,M=0\\rangle\\,$$\\,+\\,0.2537|K=1,N=2,J=\\frac{3}{2},F=1,M=0\\rangle\\,$$\\,-\\,0.254|K=-1,N=2,J=\\frac{3}{2},F=2,M=0\\rangle\\,$$\\,-\\,0.254|K=1,N=2,J=\\frac{3}{2},F=2,M=0\\rangle\\,$"
                        ],
                        "text/plain": [
                            "<IPython.core.display.Latex object>"
                        ]
                    },
                    "metadata": {},
                    "output_type": "display_data"
                },
                {
                    "name": "stdout",
                    "output_type": "stream",
                    "text": [
                        "Case A:\n"
                    ]
                },
                {
                    "data": {
                        "text/latex": [
                            "$\\,-\\,0.4997|P=\\frac{-3}{2},K=-1,Σ=\\frac{-1}{2},J=\\frac{3}{2},F=1,M=0\\rangle\\,$$\\,-\\,0.4997|P=\\frac{3}{2},K=1,Σ=\\frac{1}{2},J=\\frac{3}{2},F=1,M=0\\rangle\\,$$\\,-\\,0.5002|P=\\frac{-3}{2},K=-1,Σ=\\frac{-1}{2},J=\\frac{3}{2},F=2,M=0\\rangle\\,$$\\,+\\,0.5003|P=\\frac{3}{2},K=1,Σ=\\frac{1}{2},J=\\frac{3}{2},F=2,M=0\\rangle\\,$"
                        ],
                        "text/plain": [
                            "<IPython.core.display.Latex object>"
                        ]
                    },
                    "metadata": {},
                    "output_type": "display_data"
                },
                {
                    "name": "stdout",
                    "output_type": "stream",
                    "text": [
                        "\n",
                        "\n"
                    ]
                },
                {
                    "data": {
                        "text/latex": [
                            "$E = 1032510.4985\\:\\mathrm{MHz}$"
                        ],
                        "text/plain": [
                            "<IPython.core.display.Latex object>"
                        ]
                    },
                    "metadata": {},
                    "output_type": "display_data"
                },
                {
                    "name": "stdout",
                    "output_type": "stream",
                    "text": [
                        "Decoupled:\n"
                    ]
                },
                {
                    "data": {
                        "text/latex": [
                            "$\\, \\,0.3517|K=1,M_N=-1,M_S=\\frac{1}{2},M_I=\\frac{1}{2},M_F=0\\rangle\\,$$\\,+\\,0.4974|K=1,M_N=0,M_S=\\frac{-1}{2},M_I=\\frac{1}{2},M_F=0\\rangle\\,$$\\,+\\,0.4974|K=-1,M_N=0,M_S=\\frac{1}{2},M_I=\\frac{-1}{2},M_F=0\\rangle\\,$$\\,+\\,0.3517|K=-1,M_N=1,M_S=\\frac{-1}{2},M_I=\\frac{-1}{2},M_F=0\\rangle\\,$$\\,+\\,0.2793|K=1,M_N=-1,M_S=\\frac{1}{2},M_I=\\frac{1}{2},M_F=0\\rangle\\,$$\\,-\\,0.2256|K=1,M_N=0,M_S=\\frac{-1}{2},M_I=\\frac{1}{2},M_F=0\\rangle\\,$$\\,-\\,0.2256|K=-1,M_N=0,M_S=\\frac{1}{2},M_I=\\frac{-1}{2},M_F=0\\rangle\\,$$\\,+\\,0.2793|K=-1,M_N=1,M_S=\\frac{-1}{2},M_I=\\frac{-1}{2},M_F=0\\rangle\\,$"
                        ],
                        "text/plain": [
                            "<IPython.core.display.Latex object>"
                        ]
                    },
                    "metadata": {},
                    "output_type": "display_data"
                },
                {
                    "name": "stdout",
                    "output_type": "stream",
                    "text": [
                        "Decoupled with J:\n"
                    ]
                },
                {
                    "data": {
                        "text/latex": [
                            "$\\,-\\,0.5003|K=-1,N=1,J=\\frac{3}{2},M_J=\\frac{-1}{2},M_I=\\frac{1}{2},M_F=0\\rangle\\,$$\\,+\\,0.5003|K=1,N=1,J=\\frac{3}{2},M_J=\\frac{1}{2},M_I=\\frac{-1}{2},M_F=0\\rangle\\,$$\\,-\\,0.4996|K=-1,N=2,J=\\frac{3}{2},M_J=\\frac{-1}{2},M_I=\\frac{1}{2},M_F=0\\rangle\\,$$\\,-\\,0.4996|K=1,N=2,J=\\frac{3}{2},M_J=\\frac{1}{2},M_I=\\frac{-1}{2},M_F=0\\rangle\\,$"
                        ],
                        "text/plain": [
                            "<IPython.core.display.Latex object>"
                        ]
                    },
                    "metadata": {},
                    "output_type": "display_data"
                },
                {
                    "name": "stdout",
                    "output_type": "stream",
                    "text": [
                        "Case B:\n"
                    ]
                },
                {
                    "data": {
                        "text/latex": [
                            "$\\,-\\,0.4311|K=-1,N=1,J=\\frac{3}{2},F=1,M=0\\rangle\\,$$\\,+\\,0.431|K=1,N=1,J=\\frac{3}{2},F=1,M=0\\rangle\\,$$\\,-\\,0.4305|K=-1,N=1,J=\\frac{3}{2},F=2,M=0\\rangle\\,$$\\,-\\,0.4305|K=1,N=1,J=\\frac{3}{2},F=2,M=0\\rangle\\,$$\\,-\\,0.254|K=-1,N=2,J=\\frac{3}{2},F=1,M=0\\rangle\\,$$\\,-\\,0.254|K=1,N=2,J=\\frac{3}{2},F=1,M=0\\rangle\\,$$\\,-\\,0.2537|K=-1,N=2,J=\\frac{3}{2},F=2,M=0\\rangle\\,$$\\,+\\,0.2537|K=1,N=2,J=\\frac{3}{2},F=2,M=0\\rangle\\,$"
                        ],
                        "text/plain": [
                            "<IPython.core.display.Latex object>"
                        ]
                    },
                    "metadata": {},
                    "output_type": "display_data"
                },
                {
                    "name": "stdout",
                    "output_type": "stream",
                    "text": [
                        "Case A:\n"
                    ]
                },
                {
                    "data": {
                        "text/latex": [
                            "$\\,-\\,0.5003|P=\\frac{-3}{2},K=-1,Σ=\\frac{-1}{2},J=\\frac{3}{2},F=1,M=0\\rangle\\,$$\\,+\\,0.5003|P=\\frac{3}{2},K=1,Σ=\\frac{1}{2},J=\\frac{3}{2},F=1,M=0\\rangle\\,$$\\,-\\,0.4996|P=\\frac{-3}{2},K=-1,Σ=\\frac{-1}{2},J=\\frac{3}{2},F=2,M=0\\rangle\\,$$\\,-\\,0.4996|P=\\frac{3}{2},K=1,Σ=\\frac{1}{2},J=\\frac{3}{2},F=2,M=0\\rangle\\,$"
                        ],
                        "text/plain": [
                            "<IPython.core.display.Latex object>"
                        ]
                    },
                    "metadata": {},
                    "output_type": "display_data"
                },
                {
                    "name": "stdout",
                    "output_type": "stream",
                    "text": [
                        "\n",
                        "\n"
                    ]
                },
                {
                    "data": {
                        "text/latex": [
                            "$E = 1083802.7764\\:\\mathrm{MHz}$"
                        ],
                        "text/plain": [
                            "<IPython.core.display.Latex object>"
                        ]
                    },
                    "metadata": {},
                    "output_type": "display_data"
                },
                {
                    "name": "stdout",
                    "output_type": "stream",
                    "text": [
                        "Decoupled:\n"
                    ]
                },
                {
                    "data": {
                        "text/latex": [
                            "$\\, \\,0.5549|K=-1,M_N=-1,M_S=\\frac{1}{2},M_I=\\frac{1}{2},M_F=0\\rangle\\,$$\\,+\\,0.6767|K=-1,M_N=0,M_S=\\frac{-1}{2},M_I=\\frac{1}{2},M_F=0\\rangle\\,$$\\,+\\,0.6767|K=1,M_N=0,M_S=\\frac{1}{2},M_I=\\frac{-1}{2},M_F=0\\rangle\\,$$\\,+\\,0.5549|K=1,M_N=1,M_S=\\frac{-1}{2},M_I=\\frac{-1}{2},M_F=0\\rangle\\,$"
                        ],
                        "text/plain": [
                            "<IPython.core.display.Latex object>"
                        ]
                    },
                    "metadata": {},
                    "output_type": "display_data"
                },
                {
                    "name": "stdout",
                    "output_type": "stream",
                    "text": [
                        "Decoupled with J:\n"
                    ]
                },
                {
                    "ename": "IndexError",
                    "evalue": "list index out of range",
                    "output_type": "error",
                    "traceback": [
                        "\u001b[1;31m---------------------------------------------------------------------------\u001b[0m",
                        "\u001b[1;31mIndexError\u001b[0m                                Traceback (most recent call last)",
                        "\u001b[1;32m~\\AppData\\Local\\Temp/ipykernel_9328/1406708127.py\u001b[0m in \u001b[0;36m<module>\u001b[1;34m\u001b[0m\n\u001b[0;32m      8\u001b[0m     \u001b[0mdisplay\u001b[0m\u001b[1;33m(\u001b[0m\u001b[0mLatex\u001b[0m\u001b[1;33m(\u001b[0m\u001b[0mA000\u001b[0m\u001b[1;33m.\u001b[0m\u001b[0mgen_state_str\u001b[0m\u001b[1;33m(\u001b[0m\u001b[0mi\u001b[0m\u001b[1;33m,\u001b[0m\u001b[0mbasis\u001b[0m\u001b[1;33m=\u001b[0m\u001b[1;34m'decoupled'\u001b[0m\u001b[1;33m,\u001b[0m\u001b[0mthresh\u001b[0m\u001b[1;33m=\u001b[0m\u001b[1;36m0.01\u001b[0m\u001b[1;33m,\u001b[0m\u001b[0mlabel_q\u001b[0m\u001b[1;33m=\u001b[0m\u001b[1;33m[\u001b[0m\u001b[1;34m'K'\u001b[0m\u001b[1;33m,\u001b[0m\u001b[1;34m'M_N'\u001b[0m\u001b[1;33m,\u001b[0m\u001b[1;34m'M_S'\u001b[0m\u001b[1;33m,\u001b[0m\u001b[1;34m'M_I'\u001b[0m\u001b[1;33m,\u001b[0m\u001b[1;34m'M_F'\u001b[0m\u001b[1;33m]\u001b[0m\u001b[1;33m,\u001b[0m\u001b[0mround\u001b[0m\u001b[1;33m=\u001b[0m\u001b[1;36m4\u001b[0m\u001b[1;33m)\u001b[0m\u001b[1;33m)\u001b[0m\u001b[1;33m)\u001b[0m\u001b[1;33m\u001b[0m\u001b[1;33m\u001b[0m\u001b[0m\n\u001b[0;32m      9\u001b[0m     \u001b[0mprint\u001b[0m\u001b[1;33m(\u001b[0m\u001b[1;34m'Decoupled with J:'\u001b[0m\u001b[1;33m)\u001b[0m\u001b[1;33m\u001b[0m\u001b[1;33m\u001b[0m\u001b[0m\n\u001b[1;32m---> 10\u001b[1;33m     \u001b[0mdisplay\u001b[0m\u001b[1;33m(\u001b[0m\u001b[0mLatex\u001b[0m\u001b[1;33m(\u001b[0m\u001b[0mA000\u001b[0m\u001b[1;33m.\u001b[0m\u001b[0mgen_state_str\u001b[0m\u001b[1;33m(\u001b[0m\u001b[0mi\u001b[0m\u001b[1;33m,\u001b[0m\u001b[0mbasis\u001b[0m\u001b[1;33m=\u001b[0m\u001b[1;34m'recoupled_J'\u001b[0m\u001b[1;33m,\u001b[0m\u001b[0mthresh\u001b[0m\u001b[1;33m=\u001b[0m\u001b[1;36m0.01\u001b[0m\u001b[1;33m,\u001b[0m\u001b[0mlabel_q\u001b[0m\u001b[1;33m=\u001b[0m\u001b[1;33m[\u001b[0m\u001b[1;34m'K'\u001b[0m\u001b[1;33m,\u001b[0m\u001b[1;34m'N'\u001b[0m\u001b[1;33m,\u001b[0m\u001b[1;34m'J'\u001b[0m\u001b[1;33m,\u001b[0m\u001b[1;34m'M_J'\u001b[0m\u001b[1;33m,\u001b[0m\u001b[1;34m'M_I'\u001b[0m\u001b[1;33m,\u001b[0m\u001b[1;34m'M_F'\u001b[0m\u001b[1;33m]\u001b[0m\u001b[1;33m,\u001b[0m\u001b[0mround\u001b[0m\u001b[1;33m=\u001b[0m\u001b[1;36m4\u001b[0m\u001b[1;33m)\u001b[0m\u001b[1;33m)\u001b[0m\u001b[1;33m)\u001b[0m\u001b[1;33m\u001b[0m\u001b[1;33m\u001b[0m\u001b[0m\n\u001b[0m\u001b[0;32m     11\u001b[0m     \u001b[0mprint\u001b[0m\u001b[1;33m(\u001b[0m\u001b[1;34m'Case B:'\u001b[0m\u001b[1;33m)\u001b[0m\u001b[1;33m\u001b[0m\u001b[1;33m\u001b[0m\u001b[0m\n\u001b[0;32m     12\u001b[0m     \u001b[0mdisplay\u001b[0m\u001b[1;33m(\u001b[0m\u001b[0mLatex\u001b[0m\u001b[1;33m(\u001b[0m\u001b[0mA000\u001b[0m\u001b[1;33m.\u001b[0m\u001b[0mgen_state_str\u001b[0m\u001b[1;33m(\u001b[0m\u001b[0mi\u001b[0m\u001b[1;33m,\u001b[0m\u001b[0mbasis\u001b[0m\u001b[1;33m=\u001b[0m\u001b[1;34m'bBJ'\u001b[0m\u001b[1;33m,\u001b[0m\u001b[0mthresh\u001b[0m\u001b[1;33m=\u001b[0m\u001b[1;36m0.01\u001b[0m\u001b[1;33m,\u001b[0m\u001b[0mlabel_q\u001b[0m\u001b[1;33m=\u001b[0m\u001b[1;33m[\u001b[0m\u001b[1;34m'K'\u001b[0m\u001b[1;33m,\u001b[0m\u001b[1;34m'N'\u001b[0m\u001b[1;33m,\u001b[0m\u001b[1;34m'J'\u001b[0m\u001b[1;33m,\u001b[0m\u001b[1;34m'F'\u001b[0m\u001b[1;33m,\u001b[0m\u001b[1;34m'M'\u001b[0m\u001b[1;33m]\u001b[0m\u001b[1;33m,\u001b[0m\u001b[0mround\u001b[0m\u001b[1;33m=\u001b[0m\u001b[1;36m4\u001b[0m\u001b[1;33m)\u001b[0m\u001b[1;33m)\u001b[0m\u001b[1;33m)\u001b[0m\u001b[1;33m\u001b[0m\u001b[1;33m\u001b[0m\u001b[0m\n",
                        "\u001b[1;32m~\\Dropbox (Hutzler Lab)\\HutzlerLabShared\\Personal\\ArianJadbabaie\\Code\\Molecular-Structure\\energy_levels.py\u001b[0m in \u001b[0;36mgen_state_str\u001b[1;34m(self, vector_idx, evecs, basis, label_q, thresh, show_coeff, new_line, round, frac)\u001b[0m\n\u001b[0;32m    645\u001b[0m             \u001b[1;32mif\u001b[0m \u001b[0mnew_line\u001b[0m\u001b[1;33m:\u001b[0m\u001b[1;33m\u001b[0m\u001b[1;33m\u001b[0m\u001b[0m\n\u001b[0;32m    646\u001b[0m                 \u001b[0mlabel_str\u001b[0m \u001b[1;33m=\u001b[0m \u001b[1;34mr'$'\u001b[0m\u001b[1;33m+\u001b[0m\u001b[0mlabel_str\u001b[0m\u001b[1;33m\u001b[0m\u001b[1;33m\u001b[0m\u001b[0m\n\u001b[1;32m--> 647\u001b[1;33m             \u001b[0mval\u001b[0m \u001b[1;33m=\u001b[0m \u001b[1;33m{\u001b[0m\u001b[0mq\u001b[0m\u001b[1;33m:\u001b[0m\u001b[0mq_numbers\u001b[0m\u001b[1;33m[\u001b[0m\u001b[0mq\u001b[0m\u001b[1;33m]\u001b[0m\u001b[1;33m[\u001b[0m\u001b[0mindex\u001b[0m\u001b[1;33m]\u001b[0m \u001b[1;32mfor\u001b[0m \u001b[0mq\u001b[0m \u001b[1;32min\u001b[0m \u001b[0mlabel_q\u001b[0m\u001b[1;33m}\u001b[0m\u001b[1;33m\u001b[0m\u001b[1;33m\u001b[0m\u001b[0m\n\u001b[0m\u001b[0;32m    648\u001b[0m             \u001b[1;32mfor\u001b[0m \u001b[0mq\u001b[0m \u001b[1;32min\u001b[0m \u001b[0mlabel_q\u001b[0m\u001b[1;33m:\u001b[0m\u001b[1;33m\u001b[0m\u001b[1;33m\u001b[0m\u001b[0m\n\u001b[0;32m    649\u001b[0m                 \u001b[0m_q\u001b[0m \u001b[1;33m=\u001b[0m \u001b[1;33m{\u001b[0m\u001b[1;32mTrue\u001b[0m\u001b[1;33m:\u001b[0m \u001b[1;34m'\\u039B'\u001b[0m\u001b[1;33m,\u001b[0m \u001b[1;32mFalse\u001b[0m\u001b[1;33m:\u001b[0m \u001b[0mq\u001b[0m\u001b[1;33m}\u001b[0m\u001b[1;33m[\u001b[0m\u001b[0mq\u001b[0m\u001b[1;33m==\u001b[0m\u001b[1;34m'L'\u001b[0m\u001b[1;33m]\u001b[0m\u001b[1;33m\u001b[0m\u001b[1;33m\u001b[0m\u001b[0m\n",
                        "\u001b[1;32m~\\Dropbox (Hutzler Lab)\\HutzlerLabShared\\Personal\\ArianJadbabaie\\Code\\Molecular-Structure\\energy_levels.py\u001b[0m in \u001b[0;36m<dictcomp>\u001b[1;34m(.0)\u001b[0m\n\u001b[0;32m    645\u001b[0m             \u001b[1;32mif\u001b[0m \u001b[0mnew_line\u001b[0m\u001b[1;33m:\u001b[0m\u001b[1;33m\u001b[0m\u001b[1;33m\u001b[0m\u001b[0m\n\u001b[0;32m    646\u001b[0m                 \u001b[0mlabel_str\u001b[0m \u001b[1;33m=\u001b[0m \u001b[1;34mr'$'\u001b[0m\u001b[1;33m+\u001b[0m\u001b[0mlabel_str\u001b[0m\u001b[1;33m\u001b[0m\u001b[1;33m\u001b[0m\u001b[0m\n\u001b[1;32m--> 647\u001b[1;33m             \u001b[0mval\u001b[0m \u001b[1;33m=\u001b[0m \u001b[1;33m{\u001b[0m\u001b[0mq\u001b[0m\u001b[1;33m:\u001b[0m\u001b[0mq_numbers\u001b[0m\u001b[1;33m[\u001b[0m\u001b[0mq\u001b[0m\u001b[1;33m]\u001b[0m\u001b[1;33m[\u001b[0m\u001b[0mindex\u001b[0m\u001b[1;33m]\u001b[0m \u001b[1;32mfor\u001b[0m \u001b[0mq\u001b[0m \u001b[1;32min\u001b[0m \u001b[0mlabel_q\u001b[0m\u001b[1;33m}\u001b[0m\u001b[1;33m\u001b[0m\u001b[1;33m\u001b[0m\u001b[0m\n\u001b[0m\u001b[0;32m    648\u001b[0m             \u001b[1;32mfor\u001b[0m \u001b[0mq\u001b[0m \u001b[1;32min\u001b[0m \u001b[0mlabel_q\u001b[0m\u001b[1;33m:\u001b[0m\u001b[1;33m\u001b[0m\u001b[1;33m\u001b[0m\u001b[0m\n\u001b[0;32m    649\u001b[0m                 \u001b[0m_q\u001b[0m \u001b[1;33m=\u001b[0m \u001b[1;33m{\u001b[0m\u001b[1;32mTrue\u001b[0m\u001b[1;33m:\u001b[0m \u001b[1;34m'\\u039B'\u001b[0m\u001b[1;33m,\u001b[0m \u001b[1;32mFalse\u001b[0m\u001b[1;33m:\u001b[0m \u001b[0mq\u001b[0m\u001b[1;33m}\u001b[0m\u001b[1;33m[\u001b[0m\u001b[0mq\u001b[0m\u001b[1;33m==\u001b[0m\u001b[1;34m'L'\u001b[0m\u001b[1;33m]\u001b[0m\u001b[1;33m\u001b[0m\u001b[1;33m\u001b[0m\u001b[0m\n",
                        "\u001b[1;31mIndexError\u001b[0m: list index out of range"
                    ]
                }
            ],
            "source": [
                "A000.eigensystem(1000,0)\n",
                "M_idx = A000.select_q({'M':[0],'P':[3/2,-3/2]})\n",
                "print(M_idx)\n",
                "print('\\n')\n",
                "for i in M_idx:\n",
                "    display(Latex('$E = '+str(np.round(A000.evals0[i],4))+r'\\:\\mathrm{MHz}$'))\n",
                "    print('Decoupled:')\n",
                "    display(Latex(A000.gen_state_str(i,basis='decoupled',thresh=0.01,label_q=['K','M_N','M_S','M_I','M_F'],round=4)))\n",
                "    print('Decoupled with J:')\n",
                "    display(Latex(A000.gen_state_str(i,basis='recoupled_J',thresh=0.01,label_q=['K','N','J','M_J','M_I','M_F'],round=4)))\n",
                "    print('Case B:')\n",
                "    display(Latex(A000.gen_state_str(i,basis='bBJ',thresh=0.01,label_q=['K','N','J','F','M'],round=4)))\n",
                "    print('Case A:')\n",
                "    display(Latex(A000.gen_state_str(i,thresh=0.01,label_q=['P','K','Sigma','J','F','M'],round=4)))\n",
                "    print('\\n')"
            ]
        },
        {
            "cell_type": "code",
            "execution_count": 5,
            "id": "818327ff",
            "metadata": {},
            "outputs": [],
            "source": [
                "X010= MoleculeLevels.initialize_state('CaOH','40','X010',[1],M_values = 'all',I=[0,1/2],S=1/2,round=8)"
            ]
        },
        {
            "cell_type": "code",
            "execution_count": 17,
            "id": "68341dc7",
            "metadata": {
                "scrolled": true
            },
            "outputs": [
                {
                    "name": "stdout",
                    "output_type": "stream",
                    "text": [
                        "[ 2  3  8 11 12 15 18 19]\n",
                        "\n",
                        "\n"
                    ]
                },
                {
                    "data": {
                        "text/latex": [
                            "$E = 9618.8716\\:\\mathrm{MHz}$"
                        ],
                        "text/plain": [
                            "<IPython.core.display.Latex object>"
                        ]
                    },
                    "metadata": {},
                    "output_type": "display_data"
                },
                {
                    "name": "stdout",
                    "output_type": "stream",
                    "text": [
                        "Decoupled:\n"
                    ]
                },
                {
                    "data": {
                        "text/latex": [
                            "$\\,-\\,0.7064|K=-1,M_N=-1,M_S=\\frac{1}{2},M_I=\\frac{1}{2},M_F=0\\rangle\\,$$\\,+\\,0.0209|K=1,M_N=-1,M_S=\\frac{1}{2},M_I=\\frac{1}{2},M_F=0\\rangle\\,$$\\,+\\,0.0232|K=-1,M_N=0,M_S=\\frac{-1}{2},M_I=\\frac{1}{2},M_F=0\\rangle\\,$$\\,+\\,0.0232|K=1,M_N=0,M_S=\\frac{1}{2},M_I=\\frac{-1}{2},M_F=0\\rangle\\,$$\\,+\\,0.0209|K=-1,M_N=1,M_S=\\frac{-1}{2},M_I=\\frac{-1}{2},M_F=0\\rangle\\,$$\\,-\\,0.7064|K=1,M_N=1,M_S=\\frac{-1}{2},M_I=\\frac{-1}{2},M_F=0\\rangle\\,$"
                        ],
                        "text/plain": [
                            "<IPython.core.display.Latex object>"
                        ]
                    },
                    "metadata": {},
                    "output_type": "display_data"
                },
                {
                    "name": "stdout",
                    "output_type": "stream",
                    "text": [
                        "Case A:\n"
                    ]
                },
                {
                    "data": {
                        "text/latex": [
                            "$\\, \\,0.4043|K=1,Σ=\\frac{-1}{2},P=\\frac{1}{2},M=0\\rangle\\,$$\\,-\\,0.4043|K=-1,Σ=\\frac{1}{2},P=\\frac{-1}{2},M=0\\rangle\\,$$\\,+\\,0.4303|K=1,Σ=\\frac{-1}{2},P=\\frac{1}{2},M=0\\rangle\\,$$\\,+\\,0.4303|K=-1,Σ=\\frac{1}{2},P=\\frac{-1}{2},M=0\\rangle\\,$$\\,-\\,0.2444|K=-1,Σ=\\frac{-1}{2},P=\\frac{-3}{2},M=0\\rangle\\,$$\\,+\\,0.1411|K=1,Σ=\\frac{-1}{2},P=\\frac{1}{2},M=0\\rangle\\,$$\\,-\\,0.1411|K=-1,Σ=\\frac{1}{2},P=\\frac{-1}{2},M=0\\rangle\\,$$\\,+\\,0.2444|K=1,Σ=\\frac{1}{2},P=\\frac{3}{2},M=0\\rangle\\,$$\\,+\\,0.2319|K=-1,Σ=\\frac{-1}{2},P=\\frac{-3}{2},M=0\\rangle\\,$$\\,+\\,0.1339|K=1,Σ=\\frac{-1}{2},P=\\frac{1}{2},M=0\\rangle\\,$$\\,+\\,0.1339|K=-1,Σ=\\frac{1}{2},P=\\frac{-1}{2},M=0\\rangle\\,$$\\,+\\,0.2319|K=1,Σ=\\frac{1}{2},P=\\frac{3}{2},M=0\\rangle\\,$"
                        ],
                        "text/plain": [
                            "<IPython.core.display.Latex object>"
                        ]
                    },
                    "metadata": {},
                    "output_type": "display_data"
                },
                {
                    "name": "stdout",
                    "output_type": "stream",
                    "text": [
                        "Case B:\n"
                    ]
                },
                {
                    "data": {
                        "text/latex": [
                            "$\\, \\,0.4043|K=-1,N=1,J=\\frac{1}{2},F=0,M=0\\rangle\\,$$\\,+\\,0.4043|K=1,N=1,J=\\frac{1}{2},F=0,M=0\\rangle\\,$$\\,-\\,0.4303|K=-1,N=1,J=\\frac{1}{2},F=1,M=0\\rangle\\,$$\\,+\\,0.4303|K=1,N=1,J=\\frac{1}{2},F=1,M=0\\rangle\\,$$\\,-\\,0.2823|K=-1,N=1,J=\\frac{3}{2},F=1,M=0\\rangle\\,$$\\,+\\,0.2823|K=1,N=1,J=\\frac{3}{2},F=1,M=0\\rangle\\,$$\\,+\\,0.2677|K=-1,N=1,J=\\frac{3}{2},F=2,M=0\\rangle\\,$$\\,+\\,0.2677|K=1,N=1,J=\\frac{3}{2},F=2,M=0\\rangle\\,$"
                        ],
                        "text/plain": [
                            "<IPython.core.display.Latex object>"
                        ]
                    },
                    "metadata": {},
                    "output_type": "display_data"
                },
                {
                    "name": "stdout",
                    "output_type": "stream",
                    "text": [
                        "\n",
                        "\n"
                    ]
                },
                {
                    "data": {
                        "text/latex": [
                            "$E = 9618.8973\\:\\mathrm{MHz}$"
                        ],
                        "text/plain": [
                            "<IPython.core.display.Latex object>"
                        ]
                    },
                    "metadata": {},
                    "output_type": "display_data"
                },
                {
                    "name": "stdout",
                    "output_type": "stream",
                    "text": [
                        "Decoupled:\n"
                    ]
                },
                {
                    "data": {
                        "text/latex": [
                            "$\\, \\,0.7064|K=-1,M_N=-1,M_S=\\frac{1}{2},M_I=\\frac{1}{2},M_F=0\\rangle\\,$$\\,-\\,0.0205|K=1,M_N=-1,M_S=\\frac{1}{2},M_I=\\frac{1}{2},M_F=0\\rangle\\,$$\\,-\\,0.0232|K=-1,M_N=0,M_S=\\frac{-1}{2},M_I=\\frac{1}{2},M_F=0\\rangle\\,$$\\,+\\,0.0232|K=1,M_N=0,M_S=\\frac{1}{2},M_I=\\frac{-1}{2},M_F=0\\rangle\\,$$\\,+\\,0.0205|K=-1,M_N=1,M_S=\\frac{-1}{2},M_I=\\frac{-1}{2},M_F=0\\rangle\\,$$\\,-\\,0.7064|K=1,M_N=1,M_S=\\frac{-1}{2},M_I=\\frac{-1}{2},M_F=0\\rangle\\,$"
                        ],
                        "text/plain": [
                            "<IPython.core.display.Latex object>"
                        ]
                    },
                    "metadata": {},
                    "output_type": "display_data"
                },
                {
                    "name": "stdout",
                    "output_type": "stream",
                    "text": [
                        "Case A:\n"
                    ]
                },
                {
                    "data": {
                        "text/latex": [
                            "$\\, \\,0.4299|K=1,Σ=\\frac{-1}{2},P=\\frac{1}{2},M=0\\rangle\\,$$\\,+\\,0.4299|K=-1,Σ=\\frac{1}{2},P=\\frac{-1}{2},M=0\\rangle\\,$$\\,+\\,0.4047|K=1,Σ=\\frac{-1}{2},P=\\frac{1}{2},M=0\\rangle\\,$$\\,-\\,0.4047|K=-1,Σ=\\frac{1}{2},P=\\frac{-1}{2},M=0\\rangle\\,$$\\,+\\,0.2318|K=-1,Σ=\\frac{-1}{2},P=\\frac{-3}{2},M=0\\rangle\\,$$\\,+\\,0.1338|K=1,Σ=\\frac{-1}{2},P=\\frac{1}{2},M=0\\rangle\\,$$\\,+\\,0.1338|K=-1,Σ=\\frac{1}{2},P=\\frac{-1}{2},M=0\\rangle\\,$$\\,+\\,0.2318|K=1,Σ=\\frac{1}{2},P=\\frac{3}{2},M=0\\rangle\\,$$\\,-\\,0.2446|K=-1,Σ=\\frac{-1}{2},P=\\frac{-3}{2},M=0\\rangle\\,$$\\,+\\,0.1412|K=1,Σ=\\frac{-1}{2},P=\\frac{1}{2},M=0\\rangle\\,$$\\,-\\,0.1412|K=-1,Σ=\\frac{1}{2},P=\\frac{-1}{2},M=0\\rangle\\,$$\\,+\\,0.2446|K=1,Σ=\\frac{1}{2},P=\\frac{3}{2},M=0\\rangle\\,$"
                        ],
                        "text/plain": [
                            "<IPython.core.display.Latex object>"
                        ]
                    },
                    "metadata": {},
                    "output_type": "display_data"
                },
                {
                    "name": "stdout",
                    "output_type": "stream",
                    "text": [
                        "Case B:\n"
                    ]
                },
                {
                    "data": {
                        "text/latex": [
                            "$\\,-\\,0.4299|K=-1,N=1,J=\\frac{1}{2},F=0,M=0\\rangle\\,$$\\,+\\,0.4299|K=1,N=1,J=\\frac{1}{2},F=0,M=0\\rangle\\,$$\\,+\\,0.4047|K=-1,N=1,J=\\frac{1}{2},F=1,M=0\\rangle\\,$$\\,+\\,0.4047|K=1,N=1,J=\\frac{1}{2},F=1,M=0\\rangle\\,$$\\,+\\,0.2677|K=-1,N=1,J=\\frac{3}{2},F=1,M=0\\rangle\\,$$\\,+\\,0.2677|K=1,N=1,J=\\frac{3}{2},F=1,M=0\\rangle\\,$$\\,-\\,0.2824|K=-1,N=1,J=\\frac{3}{2},F=2,M=0\\rangle\\,$$\\,+\\,0.2824|K=1,N=1,J=\\frac{3}{2},F=2,M=0\\rangle\\,$"
                        ],
                        "text/plain": [
                            "<IPython.core.display.Latex object>"
                        ]
                    },
                    "metadata": {},
                    "output_type": "display_data"
                },
                {
                    "name": "stdout",
                    "output_type": "stream",
                    "text": [
                        "\n",
                        "\n"
                    ]
                },
                {
                    "data": {
                        "text/latex": [
                            "$E = 9973.1897\\:\\mathrm{MHz}$"
                        ],
                        "text/plain": [
                            "<IPython.core.display.Latex object>"
                        ]
                    },
                    "metadata": {},
                    "output_type": "display_data"
                },
                {
                    "name": "stdout",
                    "output_type": "stream",
                    "text": [
                        "Decoupled:\n"
                    ]
                },
                {
                    "data": {
                        "text/latex": [
                            "$\\, \\,0.0183|K=-1,M_N=-1,M_S=\\frac{1}{2},M_I=\\frac{1}{2},M_F=0\\rangle\\,$$\\,+\\,0.0152|K=1,M_N=-1,M_S=\\frac{1}{2},M_I=\\frac{1}{2},M_F=0\\rangle\\,$$\\,+\\,0.4952|K=-1,M_N=0,M_S=\\frac{-1}{2},M_I=\\frac{1}{2},M_F=0\\rangle\\,$$\\,-\\,0.5042|K=1,M_N=0,M_S=\\frac{-1}{2},M_I=\\frac{1}{2},M_F=0\\rangle\\,$$\\,-\\,0.5042|K=-1,M_N=0,M_S=\\frac{1}{2},M_I=\\frac{-1}{2},M_F=0\\rangle\\,$$\\,+\\,0.4952|K=1,M_N=0,M_S=\\frac{1}{2},M_I=\\frac{-1}{2},M_F=0\\rangle\\,$$\\,+\\,0.0152|K=-1,M_N=1,M_S=\\frac{-1}{2},M_I=\\frac{-1}{2},M_F=0\\rangle\\,$$\\,+\\,0.0183|K=1,M_N=1,M_S=\\frac{-1}{2},M_I=\\frac{-1}{2},M_F=0\\rangle\\,$"
                        ],
                        "text/plain": [
                            "<IPython.core.display.Latex object>"
                        ]
                    },
                    "metadata": {},
                    "output_type": "display_data"
                },
                {
                    "name": "stdout",
                    "output_type": "stream",
                    "text": [
                        "Case A:\n"
                    ]
                },
                {
                    "data": {
                        "text/latex": [
                            "$\\,-\\,0.023|K=1,Σ=\\frac{-1}{2},P=\\frac{1}{2},M=0\\rangle\\,$$\\,+\\,0.023|K=-1,Σ=\\frac{1}{2},P=\\frac{-1}{2},M=0\\rangle\\,$$\\,+\\,0.4062|K=1,Σ=\\frac{-1}{2},P=\\frac{1}{2},M=0\\rangle\\,$$\\,+\\,0.4062|K=-1,Σ=\\frac{1}{2},P=\\frac{-1}{2},M=0\\rangle\\,$$\\,+\\,0.5008|K=-1,Σ=\\frac{-1}{2},P=\\frac{-3}{2},M=0\\rangle\\,$$\\,-\\,0.2891|K=1,Σ=\\frac{-1}{2},P=\\frac{1}{2},M=0\\rangle\\,$$\\,+\\,0.2891|K=-1,Σ=\\frac{1}{2},P=\\frac{-1}{2},M=0\\rangle\\,$$\\,-\\,0.5008|K=1,Σ=\\frac{1}{2},P=\\frac{3}{2},M=0\\rangle\\,$"
                        ],
                        "text/plain": [
                            "<IPython.core.display.Latex object>"
                        ]
                    },
                    "metadata": {},
                    "output_type": "display_data"
                },
                {
                    "name": "stdout",
                    "output_type": "stream",
                    "text": [
                        "Case B:\n"
                    ]
                },
                {
                    "data": {
                        "text/latex": [
                            "$\\,-\\,0.023|K=-1,N=1,J=\\frac{1}{2},F=0,M=0\\rangle\\,$$\\,-\\,0.023|K=1,N=1,J=\\frac{1}{2},F=0,M=0\\rangle\\,$$\\,-\\,0.4062|K=-1,N=1,J=\\frac{1}{2},F=1,M=0\\rangle\\,$$\\,+\\,0.4062|K=1,N=1,J=\\frac{1}{2},F=1,M=0\\rangle\\,$$\\,+\\,0.5783|K=-1,N=1,J=\\frac{3}{2},F=1,M=0\\rangle\\,$$\\,-\\,0.5783|K=1,N=1,J=\\frac{3}{2},F=1,M=0\\rangle\\,$"
                        ],
                        "text/plain": [
                            "<IPython.core.display.Latex object>"
                        ]
                    },
                    "metadata": {},
                    "output_type": "display_data"
                },
                {
                    "name": "stdout",
                    "output_type": "stream",
                    "text": [
                        "\n",
                        "\n"
                    ]
                },
                {
                    "data": {
                        "text/latex": [
                            "$E = 9975.9236\\:\\mathrm{MHz}$"
                        ],
                        "text/plain": [
                            "<IPython.core.display.Latex object>"
                        ]
                    },
                    "metadata": {},
                    "output_type": "display_data"
                },
                {
                    "name": "stdout",
                    "output_type": "stream",
                    "text": [
                        "Decoupled:\n"
                    ]
                },
                {
                    "data": {
                        "text/latex": [
                            "$\\,-\\,0.0179|K=-1,M_N=-1,M_S=\\frac{1}{2},M_I=\\frac{1}{2},M_F=0\\rangle\\,$$\\,-\\,0.0152|K=1,M_N=-1,M_S=\\frac{1}{2},M_I=\\frac{1}{2},M_F=0\\rangle\\,$$\\,-\\,0.4946|K=-1,M_N=0,M_S=\\frac{-1}{2},M_I=\\frac{1}{2},M_F=0\\rangle\\,$$\\,+\\,0.5048|K=1,M_N=0,M_S=\\frac{-1}{2},M_I=\\frac{1}{2},M_F=0\\rangle\\,$$\\,-\\,0.5048|K=-1,M_N=0,M_S=\\frac{1}{2},M_I=\\frac{-1}{2},M_F=0\\rangle\\,$$\\,+\\,0.4946|K=1,M_N=0,M_S=\\frac{1}{2},M_I=\\frac{-1}{2},M_F=0\\rangle\\,$$\\,+\\,0.0152|K=-1,M_N=1,M_S=\\frac{-1}{2},M_I=\\frac{-1}{2},M_F=0\\rangle\\,$$\\,+\\,0.0179|K=1,M_N=1,M_S=\\frac{-1}{2},M_I=\\frac{-1}{2},M_F=0\\rangle\\,$"
                        ],
                        "text/plain": [
                            "<IPython.core.display.Latex object>"
                        ]
                    },
                    "metadata": {},
                    "output_type": "display_data"
                },
                {
                    "name": "stdout",
                    "output_type": "stream",
                    "text": [
                        "Case A:\n"
                    ]
                },
                {
                    "data": {
                        "text/latex": [
                            "$\\, \\,0.4064|K=1,Σ=\\frac{-1}{2},P=\\frac{1}{2},M=0\\rangle\\,$$\\,+\\,0.4064|K=-1,Σ=\\frac{1}{2},P=\\frac{-1}{2},M=0\\rangle\\,$$\\,-\\,0.0233|K=1,Σ=\\frac{-1}{2},P=\\frac{1}{2},M=0\\rangle\\,$$\\,+\\,0.0233|K=-1,Σ=\\frac{1}{2},P=\\frac{-1}{2},M=0\\rangle\\,$$\\,+\\,0.5007|K=-1,Σ=\\frac{-1}{2},P=\\frac{-3}{2},M=0\\rangle\\,$$\\,-\\,0.2891|K=1,Σ=\\frac{-1}{2},P=\\frac{1}{2},M=0\\rangle\\,$$\\,+\\,0.2891|K=-1,Σ=\\frac{1}{2},P=\\frac{-1}{2},M=0\\rangle\\,$$\\,-\\,0.5007|K=1,Σ=\\frac{1}{2},P=\\frac{3}{2},M=0\\rangle\\,$"
                        ],
                        "text/plain": [
                            "<IPython.core.display.Latex object>"
                        ]
                    },
                    "metadata": {},
                    "output_type": "display_data"
                },
                {
                    "name": "stdout",
                    "output_type": "stream",
                    "text": [
                        "Case B:\n"
                    ]
                },
                {
                    "data": {
                        "text/latex": [
                            "$\\,-\\,0.4064|K=-1,N=1,J=\\frac{1}{2},F=0,M=0\\rangle\\,$$\\,+\\,0.4064|K=1,N=1,J=\\frac{1}{2},F=0,M=0\\rangle\\,$$\\,-\\,0.0233|K=-1,N=1,J=\\frac{1}{2},F=1,M=0\\rangle\\,$$\\,-\\,0.0233|K=1,N=1,J=\\frac{1}{2},F=1,M=0\\rangle\\,$$\\,+\\,0.5781|K=-1,N=1,J=\\frac{3}{2},F=2,M=0\\rangle\\,$$\\,-\\,0.5781|K=1,N=1,J=\\frac{3}{2},F=2,M=0\\rangle\\,$"
                        ],
                        "text/plain": [
                            "<IPython.core.display.Latex object>"
                        ]
                    },
                    "metadata": {},
                    "output_type": "display_data"
                },
                {
                    "name": "stdout",
                    "output_type": "stream",
                    "text": [
                        "\n",
                        "\n"
                    ]
                },
                {
                    "data": {
                        "text/latex": [
                            "$E = 10016.3978\\:\\mathrm{MHz}$"
                        ],
                        "text/plain": [
                            "<IPython.core.display.Latex object>"
                        ]
                    },
                    "metadata": {},
                    "output_type": "display_data"
                },
                {
                    "name": "stdout",
                    "output_type": "stream",
                    "text": [
                        "Decoupled:\n"
                    ]
                },
                {
                    "data": {
                        "text/latex": [
                            "$\\,-\\,0.0148|K=-1,M_N=-1,M_S=\\frac{1}{2},M_I=\\frac{1}{2},M_F=0\\rangle\\,$$\\,+\\,0.0189|K=1,M_N=-1,M_S=\\frac{1}{2},M_I=\\frac{1}{2},M_F=0\\rangle\\,$$\\,-\\,0.5048|K=-1,M_N=0,M_S=\\frac{-1}{2},M_I=\\frac{1}{2},M_F=0\\rangle\\,$$\\,-\\,0.4946|K=1,M_N=0,M_S=\\frac{-1}{2},M_I=\\frac{1}{2},M_F=0\\rangle\\,$$\\,+\\,0.4946|K=-1,M_N=0,M_S=\\frac{1}{2},M_I=\\frac{-1}{2},M_F=0\\rangle\\,$$\\,+\\,0.5048|K=1,M_N=0,M_S=\\frac{1}{2},M_I=\\frac{-1}{2},M_F=0\\rangle\\,$$\\,-\\,0.0189|K=-1,M_N=1,M_S=\\frac{-1}{2},M_I=\\frac{-1}{2},M_F=0\\rangle\\,$$\\,+\\,0.0148|K=1,M_N=1,M_S=\\frac{-1}{2},M_I=\\frac{-1}{2},M_F=0\\rangle\\,$"
                        ],
                        "text/plain": [
                            "<IPython.core.display.Latex object>"
                        ]
                    },
                    "metadata": {},
                    "output_type": "display_data"
                },
                {
                    "name": "stdout",
                    "output_type": "stream",
                    "text": [
                        "Case A:\n"
                    ]
                },
                {
                    "data": {
                        "text/latex": [
                            "$\\,-\\,0.0153|K=1,Σ=\\frac{-1}{2},P=\\frac{1}{2},M=0\\rangle\\,$$\\,-\\,0.0153|K=-1,Σ=\\frac{1}{2},P=\\frac{-1}{2},M=0\\rangle\\,$$\\,+\\,0.4104|K=1,Σ=\\frac{-1}{2},P=\\frac{1}{2},M=0\\rangle\\,$$\\,-\\,0.4104|K=-1,Σ=\\frac{1}{2},P=\\frac{-1}{2},M=0\\rangle\\,$$\\,-\\,0.4982|K=-1,Σ=\\frac{-1}{2},P=\\frac{-3}{2},M=0\\rangle\\,$$\\,-\\,0.2876|K=1,Σ=\\frac{-1}{2},P=\\frac{1}{2},M=0\\rangle\\,$$\\,-\\,0.2876|K=-1,Σ=\\frac{1}{2},P=\\frac{-1}{2},M=0\\rangle\\,$$\\,-\\,0.4982|K=1,Σ=\\frac{1}{2},P=\\frac{3}{2},M=0\\rangle\\,$$\\,+\\,0.017|K=-1,Σ=\\frac{-1}{2},P=\\frac{-3}{2},M=0\\rangle\\,$$\\,-\\,0.017|K=1,Σ=\\frac{1}{2},P=\\frac{3}{2},M=0\\rangle\\,$"
                        ],
                        "text/plain": [
                            "<IPython.core.display.Latex object>"
                        ]
                    },
                    "metadata": {},
                    "output_type": "display_data"
                },
                {
                    "name": "stdout",
                    "output_type": "stream",
                    "text": [
                        "Case B:\n"
                    ]
                },
                {
                    "data": {
                        "text/latex": [
                            "$\\, \\,0.0153|K=-1,N=1,J=\\frac{1}{2},F=0,M=0\\rangle\\,$$\\,-\\,0.0153|K=1,N=1,J=\\frac{1}{2},F=0,M=0\\rangle\\,$$\\,+\\,0.4104|K=-1,N=1,J=\\frac{1}{2},F=1,M=0\\rangle\\,$$\\,+\\,0.4104|K=1,N=1,J=\\frac{1}{2},F=1,M=0\\rangle\\,$$\\,-\\,0.5753|K=-1,N=1,J=\\frac{3}{2},F=1,M=0\\rangle\\,$$\\,-\\,0.5753|K=1,N=1,J=\\frac{3}{2},F=1,M=0\\rangle\\,$$\\,+\\,0.0196|K=-1,N=1,J=\\frac{3}{2},F=2,M=0\\rangle\\,$$\\,-\\,0.0196|K=1,N=1,J=\\frac{3}{2},F=2,M=0\\rangle\\,$"
                        ],
                        "text/plain": [
                            "<IPython.core.display.Latex object>"
                        ]
                    },
                    "metadata": {},
                    "output_type": "display_data"
                },
                {
                    "name": "stdout",
                    "output_type": "stream",
                    "text": [
                        "\n",
                        "\n"
                    ]
                },
                {
                    "data": {
                        "text/latex": [
                            "$E = 10019.134\\:\\mathrm{MHz}$"
                        ],
                        "text/plain": [
                            "<IPython.core.display.Latex object>"
                        ]
                    },
                    "metadata": {},
                    "output_type": "display_data"
                },
                {
                    "name": "stdout",
                    "output_type": "stream",
                    "text": [
                        "Decoupled:\n"
                    ]
                },
                {
                    "data": {
                        "text/latex": [
                            "$\\,-\\,0.0144|K=-1,M_N=-1,M_S=\\frac{1}{2},M_I=\\frac{1}{2},M_F=0\\rangle\\,$$\\,+\\,0.0189|K=1,M_N=-1,M_S=\\frac{1}{2},M_I=\\frac{1}{2},M_F=0\\rangle\\,$$\\,-\\,0.5042|K=-1,M_N=0,M_S=\\frac{-1}{2},M_I=\\frac{1}{2},M_F=0\\rangle\\,$$\\,-\\,0.4952|K=1,M_N=0,M_S=\\frac{-1}{2},M_I=\\frac{1}{2},M_F=0\\rangle\\,$$\\,-\\,0.4952|K=-1,M_N=0,M_S=\\frac{1}{2},M_I=\\frac{-1}{2},M_F=0\\rangle\\,$$\\,-\\,0.5042|K=1,M_N=0,M_S=\\frac{1}{2},M_I=\\frac{-1}{2},M_F=0\\rangle\\,$$\\,+\\,0.0189|K=-1,M_N=1,M_S=\\frac{-1}{2},M_I=\\frac{-1}{2},M_F=0\\rangle\\,$$\\,-\\,0.0144|K=1,M_N=1,M_S=\\frac{-1}{2},M_I=\\frac{-1}{2},M_F=0\\rangle\\,$"
                        ],
                        "text/plain": [
                            "<IPython.core.display.Latex object>"
                        ]
                    },
                    "metadata": {},
                    "output_type": "display_data"
                },
                {
                    "name": "stdout",
                    "output_type": "stream",
                    "text": [
                        "Case A:\n"
                    ]
                },
                {
                    "data": {
                        "text/latex": [
                            "$\\,-\\,0.4106|K=1,Σ=\\frac{-1}{2},P=\\frac{1}{2},M=0\\rangle\\,$$\\,+\\,0.4106|K=-1,Σ=\\frac{1}{2},P=\\frac{-1}{2},M=0\\rangle\\,$$\\,+\\,0.0156|K=1,Σ=\\frac{-1}{2},P=\\frac{1}{2},M=0\\rangle\\,$$\\,+\\,0.0156|K=-1,Σ=\\frac{1}{2},P=\\frac{-1}{2},M=0\\rangle\\,$$\\,-\\,0.0163|K=-1,Σ=\\frac{-1}{2},P=\\frac{-3}{2},M=0\\rangle\\,$$\\,+\\,0.0163|K=1,Σ=\\frac{1}{2},P=\\frac{3}{2},M=0\\rangle\\,$$\\,+\\,0.4981|K=-1,Σ=\\frac{-1}{2},P=\\frac{-3}{2},M=0\\rangle\\,$$\\,+\\,0.2876|K=1,Σ=\\frac{-1}{2},P=\\frac{1}{2},M=0\\rangle\\,$$\\,+\\,0.2876|K=-1,Σ=\\frac{1}{2},P=\\frac{-1}{2},M=0\\rangle\\,$$\\,+\\,0.4981|K=1,Σ=\\frac{1}{2},P=\\frac{3}{2},M=0\\rangle\\,$"
                        ],
                        "text/plain": [
                            "<IPython.core.display.Latex object>"
                        ]
                    },
                    "metadata": {},
                    "output_type": "display_data"
                },
                {
                    "name": "stdout",
                    "output_type": "stream",
                    "text": [
                        "Case B:\n"
                    ]
                },
                {
                    "data": {
                        "text/latex": [
                            "$\\,-\\,0.4106|K=-1,N=1,J=\\frac{1}{2},F=0,M=0\\rangle\\,$$\\,-\\,0.4106|K=1,N=1,J=\\frac{1}{2},F=0,M=0\\rangle\\,$$\\,-\\,0.0156|K=-1,N=1,J=\\frac{1}{2},F=1,M=0\\rangle\\,$$\\,+\\,0.0156|K=1,N=1,J=\\frac{1}{2},F=1,M=0\\rangle\\,$$\\,-\\,0.0188|K=-1,N=1,J=\\frac{3}{2},F=1,M=0\\rangle\\,$$\\,+\\,0.0188|K=1,N=1,J=\\frac{3}{2},F=1,M=0\\rangle\\,$$\\,+\\,0.5752|K=-1,N=1,J=\\frac{3}{2},F=2,M=0\\rangle\\,$$\\,+\\,0.5752|K=1,N=1,J=\\frac{3}{2},F=2,M=0\\rangle\\,$"
                        ],
                        "text/plain": [
                            "<IPython.core.display.Latex object>"
                        ]
                    },
                    "metadata": {},
                    "output_type": "display_data"
                },
                {
                    "name": "stdout",
                    "output_type": "stream",
                    "text": [
                        "\n",
                        "\n"
                    ]
                },
                {
                    "data": {
                        "text/latex": [
                            "$E = 10358.4682\\:\\mathrm{MHz}$"
                        ],
                        "text/plain": [
                            "<IPython.core.display.Latex object>"
                        ]
                    },
                    "metadata": {},
                    "output_type": "display_data"
                },
                {
                    "name": "stdout",
                    "output_type": "stream",
                    "text": [
                        "Decoupled:\n"
                    ]
                },
                {
                    "data": {
                        "text/latex": [
                            "$\\, \\,0.0205|K=-1,M_N=-1,M_S=\\frac{1}{2},M_I=\\frac{1}{2},M_F=0\\rangle\\,$$\\,+\\,0.7064|K=1,M_N=-1,M_S=\\frac{1}{2},M_I=\\frac{1}{2},M_F=0\\rangle\\,$$\\,+\\,0.0241|K=1,M_N=0,M_S=\\frac{-1}{2},M_I=\\frac{1}{2},M_F=0\\rangle\\,$$\\,-\\,0.0241|K=-1,M_N=0,M_S=\\frac{1}{2},M_I=\\frac{-1}{2},M_F=0\\rangle\\,$$\\,-\\,0.7064|K=-1,M_N=1,M_S=\\frac{-1}{2},M_I=\\frac{-1}{2},M_F=0\\rangle\\,$$\\,-\\,0.0205|K=1,M_N=1,M_S=\\frac{-1}{2},M_I=\\frac{-1}{2},M_F=0\\rangle\\,$"
                        ],
                        "text/plain": [
                            "<IPython.core.display.Latex object>"
                        ]
                    },
                    "metadata": {},
                    "output_type": "display_data"
                },
                {
                    "name": "stdout",
                    "output_type": "stream",
                    "text": [
                        "Case A:\n"
                    ]
                },
                {
                    "data": {
                        "text/latex": [
                            "$\\,-\\,0.387|K=1,Σ=\\frac{-1}{2},P=\\frac{1}{2},M=0\\rangle\\,$$\\,-\\,0.387|K=-1,Σ=\\frac{1}{2},P=\\frac{-1}{2},M=0\\rangle\\,$$\\,+\\,0.4089|K=1,Σ=\\frac{-1}{2},P=\\frac{1}{2},M=0\\rangle\\,$$\\,-\\,0.4089|K=-1,Σ=\\frac{1}{2},P=\\frac{-1}{2},M=0\\rangle\\,$$\\,+\\,0.2702|K=-1,Σ=\\frac{-1}{2},P=\\frac{-3}{2},M=0\\rangle\\,$$\\,+\\,0.156|K=1,Σ=\\frac{-1}{2},P=\\frac{1}{2},M=0\\rangle\\,$$\\,+\\,0.156|K=-1,Σ=\\frac{1}{2},P=\\frac{-1}{2},M=0\\rangle\\,$$\\,+\\,0.2702|K=1,Σ=\\frac{1}{2},P=\\frac{3}{2},M=0\\rangle\\,$$\\,+\\,0.2535|K=-1,Σ=\\frac{-1}{2},P=\\frac{-3}{2},M=0\\rangle\\,$$\\,-\\,0.1463|K=1,Σ=\\frac{-1}{2},P=\\frac{1}{2},M=0\\rangle\\,$$\\,+\\,0.1463|K=-1,Σ=\\frac{1}{2},P=\\frac{-1}{2},M=0\\rangle\\,$$\\,-\\,0.2535|K=1,Σ=\\frac{1}{2},P=\\frac{3}{2},M=0\\rangle\\,$"
                        ],
                        "text/plain": [
                            "<IPython.core.display.Latex object>"
                        ]
                    },
                    "metadata": {},
                    "output_type": "display_data"
                },
                {
                    "name": "stdout",
                    "output_type": "stream",
                    "text": [
                        "Case B:\n"
                    ]
                },
                {
                    "data": {
                        "text/latex": [
                            "$\\, \\,0.387|K=-1,N=1,J=\\frac{1}{2},F=0,M=0\\rangle\\,$$\\,-\\,0.387|K=1,N=1,J=\\frac{1}{2},F=0,M=0\\rangle\\,$$\\,+\\,0.4089|K=-1,N=1,J=\\frac{1}{2},F=1,M=0\\rangle\\,$$\\,+\\,0.4089|K=1,N=1,J=\\frac{1}{2},F=1,M=0\\rangle\\,$$\\,+\\,0.312|K=-1,N=1,J=\\frac{3}{2},F=1,M=0\\rangle\\,$$\\,+\\,0.312|K=1,N=1,J=\\frac{3}{2},F=1,M=0\\rangle\\,$$\\,+\\,0.2927|K=-1,N=1,J=\\frac{3}{2},F=2,M=0\\rangle\\,$$\\,-\\,0.2927|K=1,N=1,J=\\frac{3}{2},F=2,M=0\\rangle\\,$"
                        ],
                        "text/plain": [
                            "<IPython.core.display.Latex object>"
                        ]
                    },
                    "metadata": {},
                    "output_type": "display_data"
                },
                {
                    "name": "stdout",
                    "output_type": "stream",
                    "text": [
                        "\n",
                        "\n"
                    ]
                },
                {
                    "data": {
                        "text/latex": [
                            "$E = 10358.4917\\:\\mathrm{MHz}$"
                        ],
                        "text/plain": [
                            "<IPython.core.display.Latex object>"
                        ]
                    },
                    "metadata": {},
                    "output_type": "display_data"
                },
                {
                    "name": "stdout",
                    "output_type": "stream",
                    "text": [
                        "Decoupled:\n"
                    ]
                },
                {
                    "data": {
                        "text/latex": [
                            "$\\,-\\,0.0209|K=-1,M_N=-1,M_S=\\frac{1}{2},M_I=\\frac{1}{2},M_F=0\\rangle\\,$$\\,-\\,0.7064|K=1,M_N=-1,M_S=\\frac{1}{2},M_I=\\frac{1}{2},M_F=0\\rangle\\,$$\\,-\\,0.0241|K=1,M_N=0,M_S=\\frac{-1}{2},M_I=\\frac{1}{2},M_F=0\\rangle\\,$$\\,-\\,0.0241|K=-1,M_N=0,M_S=\\frac{1}{2},M_I=\\frac{-1}{2},M_F=0\\rangle\\,$$\\,-\\,0.7064|K=-1,M_N=1,M_S=\\frac{-1}{2},M_I=\\frac{-1}{2},M_F=0\\rangle\\,$$\\,-\\,0.0209|K=1,M_N=1,M_S=\\frac{-1}{2},M_I=\\frac{-1}{2},M_F=0\\rangle\\,$"
                        ],
                        "text/plain": [
                            "<IPython.core.display.Latex object>"
                        ]
                    },
                    "metadata": {},
                    "output_type": "display_data"
                },
                {
                    "name": "stdout",
                    "output_type": "stream",
                    "text": [
                        "Case A:\n"
                    ]
                },
                {
                    "data": {
                        "text/latex": [
                            "$\\, \\,0.4092|K=1,Σ=\\frac{-1}{2},P=\\frac{1}{2},M=0\\rangle\\,$$\\,-\\,0.4092|K=-1,Σ=\\frac{1}{2},P=\\frac{-1}{2},M=0\\rangle\\,$$\\,-\\,0.3867|K=1,Σ=\\frac{-1}{2},P=\\frac{1}{2},M=0\\rangle\\,$$\\,-\\,0.3867|K=-1,Σ=\\frac{1}{2},P=\\frac{-1}{2},M=0\\rangle\\,$$\\,+\\,0.2534|K=-1,Σ=\\frac{-1}{2},P=\\frac{-3}{2},M=0\\rangle\\,$$\\,-\\,0.1463|K=1,Σ=\\frac{-1}{2},P=\\frac{1}{2},M=0\\rangle\\,$$\\,+\\,0.1463|K=-1,Σ=\\frac{1}{2},P=\\frac{-1}{2},M=0\\rangle\\,$$\\,-\\,0.2534|K=1,Σ=\\frac{1}{2},P=\\frac{3}{2},M=0\\rangle\\,$$\\,+\\,0.2703|K=-1,Σ=\\frac{-1}{2},P=\\frac{-3}{2},M=0\\rangle\\,$$\\,+\\,0.156|K=1,Σ=\\frac{-1}{2},P=\\frac{1}{2},M=0\\rangle\\,$$\\,+\\,0.156|K=-1,Σ=\\frac{1}{2},P=\\frac{-1}{2},M=0\\rangle\\,$$\\,+\\,0.2703|K=1,Σ=\\frac{1}{2},P=\\frac{3}{2},M=0\\rangle\\,$"
                        ],
                        "text/plain": [
                            "<IPython.core.display.Latex object>"
                        ]
                    },
                    "metadata": {},
                    "output_type": "display_data"
                },
                {
                    "name": "stdout",
                    "output_type": "stream",
                    "text": [
                        "Case B:\n"
                    ]
                },
                {
                    "data": {
                        "text/latex": [
                            "$\\, \\,0.4092|K=-1,N=1,J=\\frac{1}{2},F=0,M=0\\rangle\\,$$\\,+\\,0.4092|K=1,N=1,J=\\frac{1}{2},F=0,M=0\\rangle\\,$$\\,+\\,0.3867|K=-1,N=1,J=\\frac{1}{2},F=1,M=0\\rangle\\,$$\\,-\\,0.3867|K=1,N=1,J=\\frac{1}{2},F=1,M=0\\rangle\\,$$\\,+\\,0.2926|K=-1,N=1,J=\\frac{3}{2},F=1,M=0\\rangle\\,$$\\,-\\,0.2926|K=1,N=1,J=\\frac{3}{2},F=1,M=0\\rangle\\,$$\\,+\\,0.3121|K=-1,N=1,J=\\frac{3}{2},F=2,M=0\\rangle\\,$$\\,+\\,0.3121|K=1,N=1,J=\\frac{3}{2},F=2,M=0\\rangle\\,$"
                        ],
                        "text/plain": [
                            "<IPython.core.display.Latex object>"
                        ]
                    },
                    "metadata": {},
                    "output_type": "display_data"
                },
                {
                    "name": "stdout",
                    "output_type": "stream",
                    "text": [
                        "\n",
                        "\n"
                    ]
                }
            ],
            "source": [
                "X010.eigensystem(1000,1e-7)\n",
                "M0_idx = X010.select_q({'M':[0]})\n",
                "print(M0_idx)\n",
                "print('\\n')\n",
                "for i in M0_idx:\n",
                "    display(Latex('$E = '+str(np.round(X010.evals0[i],4))+r'\\:\\mathrm{MHz}$'))\n",
                "    print('Decoupled:')\n",
                "    display(Latex(X010.gen_state_str(i,basis='decoupled',thresh=0.01,label_q=['K','M_N','M_S','M_I','M_F'],round=4)))\n",
                "    print('Case A:')\n",
                "    display(Latex(X010.gen_state_str(i,basis='aBJ',thresh=0.01,label_q=['K','Sigma','P','M'],round=4)))\n",
                "    print('Case B:')\n",
                "    display(Latex(X010.gen_state_str(i,thresh=0.01,round=4)))\n",
                "    print('\\n')"
            ]
        },
        {
            "cell_type": "code",
            "execution_count": 22,
            "id": "7f636ac4",
            "metadata": {},
            "outputs": [],
            "source": [
                "A000.display_levels(1000,1e-7,'F',idx=M_idx)"
            ]
        },
        {
            "cell_type": "code",
            "execution_count": 29,
            "id": "1769def4",
            "metadata": {},
            "outputs": [
                {
                    "name": "stdout",
                    "output_type": "stream",
                    "text": [
                        "Successfully converted eigenvectors from bBJ to aBJ\n"
                    ]
                }
            ],
            "source": [
                "BR = branching_ratios(X000,A000,0,30)"
            ]
        },
        {
            "cell_type": "code",
            "execution_count": 54,
            "id": "ca0e3973",
            "metadata": {},
            "outputs": [],
            "source": [
                "def l2s(inputlist):\n",
                "      \"\"\"\n",
                "      Convert a flatten list to a list of slices:\n",
                "      test = [0,2,3,4,5,6,12,99,100,101,102,13,14,18,19,20,25]\n",
                "      l2s(test)\n",
                "      -> [(0, 0), (2, 6), (12, 14), (18, 20), (25, 25), (99, 102)]\n",
                "      \"\"\"\n",
                "      inputlist.sort()\n",
                "      pointers = np.where(np.diff(inputlist) > 1)[0]\n",
                "      pointers = zip(np.r_[0, pointers+1], np.r_[pointers, len(inputlist)-1])\n",
                "      slices = [slice(inputlist[i], inputlist[j]+1) for i, j in pointers]\n",
                "      return slices"
            ]
        },
        {
            "cell_type": "code",
            "execution_count": 55,
            "id": "6f6a2c9a",
            "metadata": {},
            "outputs": [
                {
                    "data": {
                        "text/plain": [
                            "(0, 11)"
                        ]
                    },
                    "execution_count": 55,
                    "metadata": {},
                    "output_type": "execute_result"
                }
            ],
            "source": [
                "gs"
            ]
        },
        {
            "cell_type": "code",
            "execution_count": 56,
            "id": "0e0f3f9f",
            "metadata": {},
            "outputs": [
                {
                    "data": {
                        "text/plain": [
                            "(11, 24)"
                        ]
                    },
                    "execution_count": 56,
                    "metadata": {},
                    "output_type": "execute_result"
                }
            ],
            "source": [
                "BR[slice(0,11),:].shape"
            ]
        },
        {
            "cell_type": "code",
            "execution_count": 70,
            "id": "8f01a740",
            "metadata": {},
            "outputs": [
                {
                    "name": "stderr",
                    "output_type": "stream",
                    "text": [
                        "D:\\Anaconda3\\lib\\site-packages\\ipykernel_launcher.py:42: MatplotlibDeprecationWarning: Auto-removal of grids by pcolor() and pcolormesh() is deprecated since 3.5 and will be removed two minor releases later; please call grid(False) first.\n"
                    ]
                }
            ],
            "source": [
                "fig,ax = plt.subplots(figsize=(10,10),constrained_layout=True)\n",
                "e_state = A000\n",
                "g_state = X000\n",
                "gidx = X000.select_q({'N':1},parity='-')\n",
                "eidx = A000.select_q({'J':0.5},parity='+')\n",
                "gs = l2s(gidx)[0]\n",
                "es = l2s(eidx)[0]\n",
                "log=False\n",
                "BR_plot = BR \n",
                "if log:\n",
                "    BR_plot=np.log10(BR_plot)\n",
                "    vmin = -10\n",
                "    vmax = 0\n",
                "else:\n",
                "    vmin=None\n",
                "    vmax = None\n",
                "#     log_BR = np.copy(BR0)\n",
                "#     for i,val1 in enumerate(log_BR):\n",
                "#         for j,val2 in enumerate(val1):\n",
                "#             if val2 !=0:\n",
                "#                 log_BR[i,j] = np.log10(val2)\n",
                "#     BR_plot = log_BR\n",
                "if log:\n",
                "    mat = ax.matshow(BR_plot[gs,es],cmap=plt.get_cmap('viridis'),norm=Lognorm())\n",
                "else: \n",
                "    mat = ax.matshow(BR_plot[gs,es],cmap=plt.get_cmap('viridis'),vmax=1,vmin=0)\n",
                "x = np.arange(0,len(eidx))\n",
                "y = np.arange(0,len(gidx))\n",
                "ax.set_yticks(y)\n",
                "ax.set_xticks(x)\n",
                "x_labels = [e_state.gen_state_str(i,thresh=0.2,single=True,parity=True,show_coeff=False, label_q=['F','J','M']) for i in eidx]\n",
                "y_labels = [g_state.gen_state_str(i,thresh=0.2,single=True,parity=True,show_coeff=False, label_q=['F','J','M']) for i in gidx]\n",
                "# x_labels = [X010.gen_state_str(i,thresh=0.3,single=True,parity=False,show_coeff=True, basis='decoupled',label_q=['K','M_N','M_S','M_F'],round=2) for i in N2]\n",
                "# y_labels = [X010.gen_state_str(i,thresh=0.3,single=True,parity=False,show_coeff=True, basis='decoupled',label_q=['K','M_N','M_S','M_F'],round=2) for i in N1]\n",
                "ax.set_yticklabels(y_labels, rotation='40', fontsize=12, ha='right')\n",
                "ax.set_xticklabels(x_labels, rotation='40', fontsize=12,ha='left')\n",
                "ax.tick_params(axis='both',labelsize=10,direction='out')\n",
                "ax.grid(True,which='major',color='white',ls='--',linewidth=0.5)\n",
                "ax.grid(False,which='minor')\n",
                "(bot,top) = ax.get_ylim()\n",
                "# ax.set_ylim(bot+0.5, top-0.5)\n",
                "cbar = fig.colorbar(mat, ax=ax,fraction=0.015, pad=0.05)\n",
                "cbar.set_label(label='BR',size=16)\n",
                "#ax.set_xlim(-0.5,x.size+0.5);"
            ]
        },
        {
            "cell_type": "code",
            "execution_count": 96,
            "id": "d3c55e88",
            "metadata": {},
            "outputs": [],
            "source": [
                "X000.display_levels(0,15,idx=gidx, pattern_q = 'F',parity=True)"
            ]
        },
        {
            "cell_type": "code",
            "execution_count": 93,
            "id": "4180dd52",
            "metadata": {},
            "outputs": [],
            "source": [
                "A000.display_levels(0,0,idx = A000.select_q({'J':[0.5,1.5]}),pattern_q = 'F',parity=True)"
            ]
        },
        {
            "cell_type": "code",
            "execution_count": 82,
            "id": "2de3626d",
            "metadata": {},
            "outputs": [],
            "source": [
                "A000.display_levels(0,30,idx=eidx, pattern_q = 'F',parity=True)"
            ]
        },
        {
            "cell_type": "code",
            "execution_count": 86,
            "id": "b37de479",
            "metadata": {},
            "outputs": [],
            "source": [
                "A000.ZeemanMap(Bz,0,plot=True)"
            ]
        },
        {
            "cell_type": "code",
            "execution_count": 85,
            "id": "f725d036",
            "metadata": {},
            "outputs": [],
            "source": [
                "state = A000\n",
                "idx = eidx\n",
                "field = Bz\n",
                "state.ZeemanMap(field,0,plot=False)\n",
                "plt.figure(figsize=(10,7))\n",
                "for (i,trace) in enumerate(state.evals_B.T[idx]):\n",
                "    plt.plot(field,trace)\n",
                "plt.xlabel('B (G)',fontsize=14)\n",
                "plt.ylabel('Energy (MHz)',fontsize=14)\n",
                "plt.title(r'$^{40}$CaOH $\\tilde{A}(000)$ Zeeman Shifts, $N=1$',fontsize=16);\n",
                "\n",
                "plt.figure(figsize=(10,7))\n",
                "for (i,trace) in enumerate(state.evals_B.T[idx]):\n",
                "    grad = np.gradient(trace)/(field[1]-field[0])\n",
                "    plt.plot(field,grad)\n",
                "plt.xlabel('B (G)',fontsize=14)\n",
                "plt.ylabel('Magnetization',fontsize=14)\n",
                "plt.title(r'$^{40}$CaOH $\\tilde{A}(000)$ Polarization, $N=1$',fontsize=16);"
            ]
        },
        {
            "cell_type": "code",
            "execution_count": 76,
            "id": "d156c04b",
            "metadata": {},
            "outputs": [
                {
                    "name": "stdout",
                    "output_type": "stream",
                    "text": [
                        "\n",
                        "\n"
                    ]
                },
                {
                    "data": {
                        "text/latex": [
                            "$E = -981785.5892\\:\\mathrm{MHz}$"
                        ],
                        "text/plain": [
                            "<IPython.core.display.Latex object>"
                        ]
                    },
                    "metadata": {},
                    "output_type": "display_data"
                },
                {
                    "name": "stdout",
                    "output_type": "stream",
                    "text": [
                        "Decoupled:\n"
                    ]
                },
                {
                    "data": {
                        "text/latex": [
                            "$\\, \\,0.4083|K=-1,M_N=0,M_S=\\frac{1}{2},M_I=\\frac{-1}{2},M_F=0\\rangle\\,$$\\,-\\,0.4083|K=1,M_N=0,M_S=\\frac{1}{2},M_I=\\frac{-1}{2},M_F=0\\rangle\\,$$\\,-\\,0.5773|K=-1,M_N=1,M_S=\\frac{-1}{2},M_I=\\frac{-1}{2},M_F=0\\rangle\\,$$\\,+\\,0.5773|K=1,M_N=1,M_S=\\frac{-1}{2},M_I=\\frac{-1}{2},M_F=0\\rangle\\,$"
                        ],
                        "text/plain": [
                            "<IPython.core.display.Latex object>"
                        ]
                    },
                    "metadata": {},
                    "output_type": "display_data"
                },
                {
                    "name": "stdout",
                    "output_type": "stream",
                    "text": [
                        "Case A:\n"
                    ]
                },
                {
                    "data": {
                        "text/latex": [
                            "$\\,-\\,0.5002|P=\\frac{1}{2},K=1,Sigma=\\frac{-1}{2},J=\\frac{1}{2},F=0,M=0\\rangle\\,$$\\,-\\,0.5002|P=\\frac{-1}{2},K=-1,Sigma=\\frac{1}{2},J=\\frac{1}{2},F=0,M=0\\rangle\\,$$\\,-\\,0.4998|P=\\frac{1}{2},K=1,Sigma=\\frac{-1}{2},J=\\frac{1}{2},F=1,M=0\\rangle\\,$$\\,-\\,0.4998|P=\\frac{-1}{2},K=-1,Sigma=\\frac{1}{2},J=\\frac{1}{2},F=1,M=0\\rangle\\,$"
                        ],
                        "text/plain": [
                            "<IPython.core.display.Latex object>"
                        ]
                    },
                    "metadata": {},
                    "output_type": "display_data"
                },
                {
                    "name": "stdout",
                    "output_type": "stream",
                    "text": [
                        "\n",
                        "\n"
                    ]
                },
                {
                    "data": {
                        "text/latex": [
                            "$E = -981785.5809\\:\\mathrm{MHz}$"
                        ],
                        "text/plain": [
                            "<IPython.core.display.Latex object>"
                        ]
                    },
                    "metadata": {},
                    "output_type": "display_data"
                },
                {
                    "name": "stdout",
                    "output_type": "stream",
                    "text": [
                        "Decoupled:\n"
                    ]
                },
                {
                    "data": {
                        "text/latex": [
                            "$\\,-\\,0.4083|K=-1,M_N=0,M_S=\\frac{1}{2},M_I=\\frac{1}{2},M_F=1\\rangle\\,$$\\,+\\,0.4083|K=1,M_N=0,M_S=\\frac{1}{2},M_I=\\frac{1}{2},M_F=1\\rangle\\,$$\\,+\\,0.5773|K=-1,M_N=1,M_S=\\frac{-1}{2},M_I=\\frac{1}{2},M_F=1\\rangle\\,$$\\,-\\,0.5773|K=1,M_N=1,M_S=\\frac{-1}{2},M_I=\\frac{1}{2},M_F=1\\rangle\\,$"
                        ],
                        "text/plain": [
                            "<IPython.core.display.Latex object>"
                        ]
                    },
                    "metadata": {},
                    "output_type": "display_data"
                },
                {
                    "name": "stdout",
                    "output_type": "stream",
                    "text": [
                        "Case A:\n"
                    ]
                },
                {
                    "data": {
                        "text/latex": [
                            "$\\, \\,0.7071|P=\\frac{1}{2},K=1,Sigma=\\frac{-1}{2},J=\\frac{1}{2},F=1,M=1\\rangle\\,$$\\,+\\,0.7071|P=\\frac{-1}{2},K=-1,Sigma=\\frac{1}{2},J=\\frac{1}{2},F=1,M=1\\rangle\\,$"
                        ],
                        "text/plain": [
                            "<IPython.core.display.Latex object>"
                        ]
                    },
                    "metadata": {},
                    "output_type": "display_data"
                },
                {
                    "name": "stdout",
                    "output_type": "stream",
                    "text": [
                        "\n",
                        "\n"
                    ]
                },
                {
                    "data": {
                        "text/latex": [
                            "$E = -981761.3436\\:\\mathrm{MHz}$"
                        ],
                        "text/plain": [
                            "<IPython.core.display.Latex object>"
                        ]
                    },
                    "metadata": {},
                    "output_type": "display_data"
                },
                {
                    "name": "stdout",
                    "output_type": "stream",
                    "text": [
                        "Decoupled:\n"
                    ]
                },
                {
                    "data": {
                        "text/latex": [
                            "$\\,-\\,0.5774|K=-1,M_N=-1,M_S=\\frac{1}{2},M_I=\\frac{1}{2},M_F=0\\rangle\\,$$\\,+\\,0.5774|K=1,M_N=-1,M_S=\\frac{1}{2},M_I=\\frac{1}{2},M_F=0\\rangle\\,$$\\,+\\,0.4082|K=-1,M_N=0,M_S=\\frac{-1}{2},M_I=\\frac{1}{2},M_F=0\\rangle\\,$$\\,-\\,0.4082|K=1,M_N=0,M_S=\\frac{-1}{2},M_I=\\frac{1}{2},M_F=0\\rangle\\,$"
                        ],
                        "text/plain": [
                            "<IPython.core.display.Latex object>"
                        ]
                    },
                    "metadata": {},
                    "output_type": "display_data"
                },
                {
                    "name": "stdout",
                    "output_type": "stream",
                    "text": [
                        "Case A:\n"
                    ]
                },
                {
                    "data": {
                        "text/latex": [
                            "$\\,-\\,0.4998|P=\\frac{1}{2},K=1,Sigma=\\frac{-1}{2},J=\\frac{1}{2},F=0,M=0\\rangle\\,$$\\,-\\,0.4998|P=\\frac{-1}{2},K=-1,Sigma=\\frac{1}{2},J=\\frac{1}{2},F=0,M=0\\rangle\\,$$\\,+\\,0.5002|P=\\frac{1}{2},K=1,Sigma=\\frac{-1}{2},J=\\frac{1}{2},F=1,M=0\\rangle\\,$$\\,+\\,0.5002|P=\\frac{-1}{2},K=-1,Sigma=\\frac{1}{2},J=\\frac{1}{2},F=1,M=0\\rangle\\,$"
                        ],
                        "text/plain": [
                            "<IPython.core.display.Latex object>"
                        ]
                    },
                    "metadata": {},
                    "output_type": "display_data"
                },
                {
                    "name": "stdout",
                    "output_type": "stream",
                    "text": [
                        "\n",
                        "\n"
                    ]
                },
                {
                    "data": {
                        "text/latex": [
                            "$E = -981761.3352\\:\\mathrm{MHz}$"
                        ],
                        "text/plain": [
                            "<IPython.core.display.Latex object>"
                        ]
                    },
                    "metadata": {},
                    "output_type": "display_data"
                },
                {
                    "name": "stdout",
                    "output_type": "stream",
                    "text": [
                        "Decoupled:\n"
                    ]
                },
                {
                    "data": {
                        "text/latex": [
                            "$\\, \\,0.5774|K=-1,M_N=-1,M_S=\\frac{1}{2},M_I=\\frac{-1}{2},M_F=-1\\rangle\\,$$\\,-\\,0.5774|K=1,M_N=-1,M_S=\\frac{1}{2},M_I=\\frac{-1}{2},M_F=-1\\rangle\\,$$\\,-\\,0.4082|K=-1,M_N=0,M_S=\\frac{-1}{2},M_I=\\frac{-1}{2},M_F=-1\\rangle\\,$$\\,+\\,0.4082|K=1,M_N=0,M_S=\\frac{-1}{2},M_I=\\frac{-1}{2},M_F=-1\\rangle\\,$"
                        ],
                        "text/plain": [
                            "<IPython.core.display.Latex object>"
                        ]
                    },
                    "metadata": {},
                    "output_type": "display_data"
                },
                {
                    "name": "stdout",
                    "output_type": "stream",
                    "text": [
                        "Case A:\n"
                    ]
                },
                {
                    "data": {
                        "text/latex": [
                            "$\\,-\\,0.7071|P=\\frac{1}{2},K=1,Sigma=\\frac{-1}{2},J=\\frac{1}{2},F=1,M=-1\\rangle\\,$$\\,-\\,0.7071|P=\\frac{-1}{2},K=-1,Sigma=\\frac{1}{2},J=\\frac{1}{2},F=1,M=-1\\rangle\\,$"
                        ],
                        "text/plain": [
                            "<IPython.core.display.Latex object>"
                        ]
                    },
                    "metadata": {},
                    "output_type": "display_data"
                },
                {
                    "name": "stdout",
                    "output_type": "stream",
                    "text": [
                        "\n",
                        "\n"
                    ]
                }
            ],
            "source": [
                "A000.eigensystem(0,30)\n",
                "print('\\n')\n",
                "for i in eidx:\n",
                "    display(Latex('$E = '+str(np.round(A000.evals0[i],4))+r'\\:\\mathrm{MHz}$'))\n",
                "    print('Decoupled:')\n",
                "    display(Latex(A000.gen_state_str(i,basis='decoupled',thresh=0.01,label_q=['K','M_N','M_S','M_I','M_F'],round=4)))\n",
                "#     print('Case B:')\n",
                "#     display(Latex(A000.gen_state_str(i,basis='bBJ',thresh=0.01,label_q=['K','N','J','F','M'],round=4)))\n",
                "    print('Case A:')\n",
                "    display(Latex(A000.gen_state_str(i,thresh=0.01,label_q=['P','K','Sigma','J','F','M'],round=4)))\n",
                "    print('\\n')"
            ]
        },
        {
            "cell_type": "code",
            "execution_count": null,
            "id": "fe4fb291",
            "metadata": {},
            "outputs": [],
            "source": [
                "A000.eigensystem(0,30)\n",
                "print('\\n')\n",
                "for i in [3,4]:\n",
                "    display(Latex('$E = '+str(np.round(A000.evals0[i],4))+r'\\:\\mathrm{MHz}$'))\n",
                "    print('Decoupled:')\n",
                "    display(Latex(A000.gen_state_str(i,basis='decoupled',thresh=0.01,label_q=['K','M_N','M_S','M_I','M_F'],round=4)))\n",
                "#     print('Case B:')\n",
                "#     display(Latex(A000.gen_state_str(i,basis='bBJ',thresh=0.01,label_q=['K','N','J','F','M'],round=4)))\n",
                "    print('Case A:')\n",
                "    display(Latex(A000.gen_state_str(i,thresh=0.01,label_q=['P','K','Sigma','J','F','M'],round=4)))\n",
                "    print('\\n')"
            ]
        },
        {
            "cell_type": "code",
            "execution_count": 34,
            "id": "9bac1c6c",
            "metadata": {},
            "outputs": [
                {
                    "name": "stderr",
                    "output_type": "stream",
                    "text": [
                        "C:\\ProgramData\\Anaconda3\\lib\\site-packages\\ipykernel_launcher.py:3: MatplotlibDeprecationWarning: Auto-removal of grids by pcolor() and pcolormesh() is deprecated since 3.5 and will be removed two minor releases later; please call grid(False) first.\n",
                        "  This is separate from the ipykernel package so we can avoid doing imports until\n"
                    ]
                }
            ],
            "source": [
                "fig,ax = plt.subplots(figsize=(10,10),constrained_layout=True)\n",
                "mat = ax.matshow(TDM_0,cmap=plt.get_cmap('magma'))\n",
                "cbar = fig.colorbar(mat, ax=ax,fraction=0.015, pad=0.05)\n",
                "ax.grid(False)"
            ]
        },
        {
            "cell_type": "code",
            "execution_count": 28,
            "id": "0dc6103d",
            "metadata": {},
            "outputs": [
                {
                    "data": {
                        "text/plain": [
                            "array([ 2,  3,  8, 11, 12, 15, 18, 19])"
                        ]
                    },
                    "execution_count": 28,
                    "metadata": {},
                    "output_type": "execute_result"
                }
            ],
            "source": [
                "X010.select_q({'M':0})"
            ]
        },
        {
            "cell_type": "code",
            "execution_count": 30,
            "id": "47c6e0cb",
            "metadata": {},
            "outputs": [
                {
                    "data": {
                        "text/plain": [
                            "slice(None, array([0, 2]), None)"
                        ]
                    },
                    "execution_count": 30,
                    "metadata": {},
                    "output_type": "execute_result"
                }
            ],
            "source": [
                "slice(B000.select_q({'M':0}))"
            ]
        },
        {
            "cell_type": "code",
            "execution_count": 32,
            "id": "12995f2d",
            "metadata": {},
            "outputs": [
                {
                    "data": {
                        "text/plain": [
                            "array([[0.],\n",
                            "       [0.],\n",
                            "       [0.],\n",
                            "       [0.],\n",
                            "       [0.],\n",
                            "       [0.]])"
                        ]
                    },
                    "execution_count": 32,
                    "metadata": {},
                    "output_type": "execute_result"
                }
            ],
            "source": [
                "TDM_0[np.ix_(X010.select_q({'M':1}),B000.select_q({'M':1}))]"
            ]
        },
        {
            "cell_type": "code",
            "execution_count": 18,
            "id": "451d5c3e",
            "metadata": {},
            "outputs": [],
            "source": [
                "B0_idx = B000.select_q({'M':[0]})\n",
                "X1_idx = "
            ]
        },
        {
            "cell_type": "code",
            "execution_count": null,
            "id": "f94ef04c",
            "metadata": {},
            "outputs": [],
            "source": []
        }
    ],
    "metadata": {
        "kernelspec": {
            "display_name": "Python 3",
            "language": "python",
            "name": "python3"
        },
        "language_info": {
            "codemirror_mode": {
                "name": "ipython",
                "version": 3
            },
            "file_extension": ".py",
            "mimetype": "text/x-python",
            "name": "python",
            "nbconvert_exporter": "python",
            "pygments_lexer": "ipython3",
            "version": "3.7.11"
        }
    },
    "nbformat": 4,
    "nbformat_minor": 5
}