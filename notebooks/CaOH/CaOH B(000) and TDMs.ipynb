{
    "cells": [
        {
            "cell_type": "code",
            "execution_count": 1,
            "id": "529ac22c",
            "metadata": {},
            "outputs": [
                {
                    "ename": "KeyboardInterrupt",
                    "evalue": "",
                    "output_type": "error",
                    "traceback": [
                        "\u001b[1;31m---------------------------------------------------------------------------\u001b[0m",
                        "\u001b[1;31mKeyboardInterrupt\u001b[0m                         Traceback (most recent call last)",
                        "\u001b[1;32m<ipython-input-1-984e74e539c2>\u001b[0m in \u001b[0;36m<module>\u001b[1;34m\u001b[0m\n\u001b[0;32m      6\u001b[0m \u001b[1;32mimport\u001b[0m \u001b[0mmatplotlib\u001b[0m\u001b[1;33m.\u001b[0m\u001b[0mpyplot\u001b[0m \u001b[1;32mas\u001b[0m \u001b[0mplt\u001b[0m\u001b[1;33m\u001b[0m\u001b[1;33m\u001b[0m\u001b[0m\n\u001b[0;32m      7\u001b[0m \u001b[0mget_ipython\u001b[0m\u001b[1;33m(\u001b[0m\u001b[1;33m)\u001b[0m\u001b[1;33m.\u001b[0m\u001b[0mrun_line_magic\u001b[0m\u001b[1;33m(\u001b[0m\u001b[1;34m'matplotlib'\u001b[0m\u001b[1;33m,\u001b[0m \u001b[1;34m'inline'\u001b[0m\u001b[1;33m)\u001b[0m\u001b[1;33m\u001b[0m\u001b[1;33m\u001b[0m\u001b[0m\n\u001b[1;32m----> 8\u001b[1;33m \u001b[1;32mimport\u001b[0m \u001b[0mseaborn\u001b[0m \u001b[1;32mas\u001b[0m \u001b[0msns\u001b[0m\u001b[1;33m\u001b[0m\u001b[1;33m\u001b[0m\u001b[0m\n\u001b[0m\u001b[0;32m      9\u001b[0m \u001b[0msns\u001b[0m\u001b[1;33m.\u001b[0m\u001b[0mset\u001b[0m\u001b[1;33m(\u001b[0m\u001b[1;33m)\u001b[0m\u001b[1;33m\u001b[0m\u001b[1;33m\u001b[0m\u001b[0m\n\u001b[0;32m     10\u001b[0m \u001b[0msns\u001b[0m\u001b[1;33m.\u001b[0m\u001b[0mset_palette\u001b[0m\u001b[1;33m(\u001b[0m\u001b[1;34m'terrain'\u001b[0m\u001b[1;33m)\u001b[0m\u001b[1;33m\u001b[0m\u001b[1;33m\u001b[0m\u001b[0m\n",
                        "\u001b[1;32mD:\\Anaconda3\\lib\\site-packages\\seaborn\\__init__.py\u001b[0m in \u001b[0;36m<module>\u001b[1;34m\u001b[0m\n\u001b[0;32m      1\u001b[0m \u001b[1;31m# Import seaborn objects\u001b[0m\u001b[1;33m\u001b[0m\u001b[1;33m\u001b[0m\u001b[1;33m\u001b[0m\u001b[0m\n\u001b[1;32m----> 2\u001b[1;33m \u001b[1;32mfrom\u001b[0m \u001b[1;33m.\u001b[0m\u001b[0mrcmod\u001b[0m \u001b[1;32mimport\u001b[0m \u001b[1;33m*\u001b[0m  \u001b[1;31m# noqa: F401,F403\u001b[0m\u001b[1;33m\u001b[0m\u001b[1;33m\u001b[0m\u001b[0m\n\u001b[0m\u001b[0;32m      3\u001b[0m \u001b[1;32mfrom\u001b[0m \u001b[1;33m.\u001b[0m\u001b[0mutils\u001b[0m \u001b[1;32mimport\u001b[0m \u001b[1;33m*\u001b[0m  \u001b[1;31m# noqa: F401,F403\u001b[0m\u001b[1;33m\u001b[0m\u001b[1;33m\u001b[0m\u001b[0m\n\u001b[0;32m      4\u001b[0m \u001b[1;32mfrom\u001b[0m \u001b[1;33m.\u001b[0m\u001b[0mpalettes\u001b[0m \u001b[1;32mimport\u001b[0m \u001b[1;33m*\u001b[0m  \u001b[1;31m# noqa: F401,F403\u001b[0m\u001b[1;33m\u001b[0m\u001b[1;33m\u001b[0m\u001b[0m\n\u001b[0;32m      5\u001b[0m \u001b[1;32mfrom\u001b[0m \u001b[1;33m.\u001b[0m\u001b[0mrelational\u001b[0m \u001b[1;32mimport\u001b[0m \u001b[1;33m*\u001b[0m  \u001b[1;31m# noqa: F401,F403\u001b[0m\u001b[1;33m\u001b[0m\u001b[1;33m\u001b[0m\u001b[0m\n",
                        "\u001b[1;32mD:\\Anaconda3\\lib\\site-packages\\seaborn\\rcmod.py\u001b[0m in \u001b[0;36m<module>\u001b[1;34m\u001b[0m\n\u001b[0;32m      5\u001b[0m \u001b[1;32mimport\u001b[0m \u001b[0mmatplotlib\u001b[0m \u001b[1;32mas\u001b[0m \u001b[0mmpl\u001b[0m\u001b[1;33m\u001b[0m\u001b[1;33m\u001b[0m\u001b[0m\n\u001b[0;32m      6\u001b[0m \u001b[1;32mfrom\u001b[0m \u001b[0mcycler\u001b[0m \u001b[1;32mimport\u001b[0m \u001b[0mcycler\u001b[0m\u001b[1;33m\u001b[0m\u001b[1;33m\u001b[0m\u001b[0m\n\u001b[1;32m----> 7\u001b[1;33m \u001b[1;32mfrom\u001b[0m \u001b[1;33m.\u001b[0m \u001b[1;32mimport\u001b[0m \u001b[0mpalettes\u001b[0m\u001b[1;33m\u001b[0m\u001b[1;33m\u001b[0m\u001b[0m\n\u001b[0m\u001b[0;32m      8\u001b[0m \u001b[1;33m\u001b[0m\u001b[0m\n\u001b[0;32m      9\u001b[0m \u001b[1;33m\u001b[0m\u001b[0m\n",
                        "\u001b[1;32mD:\\Anaconda3\\lib\\site-packages\\seaborn\\palettes.py\u001b[0m in \u001b[0;36m<module>\u001b[1;34m\u001b[0m\n\u001b[0;32m      7\u001b[0m \u001b[1;32mfrom\u001b[0m \u001b[1;33m.\u001b[0m\u001b[0mexternal\u001b[0m \u001b[1;32mimport\u001b[0m \u001b[0mhusl\u001b[0m\u001b[1;33m\u001b[0m\u001b[1;33m\u001b[0m\u001b[0m\n\u001b[0;32m      8\u001b[0m \u001b[1;33m\u001b[0m\u001b[0m\n\u001b[1;32m----> 9\u001b[1;33m \u001b[1;32mfrom\u001b[0m \u001b[1;33m.\u001b[0m\u001b[0mutils\u001b[0m \u001b[1;32mimport\u001b[0m \u001b[0mdesaturate\u001b[0m\u001b[1;33m,\u001b[0m \u001b[0mget_color_cycle\u001b[0m\u001b[1;33m\u001b[0m\u001b[1;33m\u001b[0m\u001b[0m\n\u001b[0m\u001b[0;32m     10\u001b[0m \u001b[1;32mfrom\u001b[0m \u001b[1;33m.\u001b[0m\u001b[0mcolors\u001b[0m \u001b[1;32mimport\u001b[0m \u001b[0mxkcd_rgb\u001b[0m\u001b[1;33m,\u001b[0m \u001b[0mcrayons\u001b[0m\u001b[1;33m\u001b[0m\u001b[1;33m\u001b[0m\u001b[0m\n\u001b[0;32m     11\u001b[0m \u001b[1;33m\u001b[0m\u001b[0m\n",
                        "\u001b[1;32mD:\\Anaconda3\\lib\\site-packages\\seaborn\\utils.py\u001b[0m in \u001b[0;36m<module>\u001b[1;34m\u001b[0m\n\u001b[0;32m      9\u001b[0m \u001b[1;32mimport\u001b[0m \u001b[0mnumpy\u001b[0m \u001b[1;32mas\u001b[0m \u001b[0mnp\u001b[0m\u001b[1;33m\u001b[0m\u001b[1;33m\u001b[0m\u001b[0m\n\u001b[0;32m     10\u001b[0m \u001b[1;32mfrom\u001b[0m \u001b[0mscipy\u001b[0m \u001b[1;32mimport\u001b[0m \u001b[0mstats\u001b[0m\u001b[1;33m\u001b[0m\u001b[1;33m\u001b[0m\u001b[0m\n\u001b[1;32m---> 11\u001b[1;33m \u001b[1;32mimport\u001b[0m \u001b[0mpandas\u001b[0m \u001b[1;32mas\u001b[0m \u001b[0mpd\u001b[0m\u001b[1;33m\u001b[0m\u001b[1;33m\u001b[0m\u001b[0m\n\u001b[0m\u001b[0;32m     12\u001b[0m \u001b[1;32mimport\u001b[0m \u001b[0mmatplotlib\u001b[0m \u001b[1;32mas\u001b[0m \u001b[0mmpl\u001b[0m\u001b[1;33m\u001b[0m\u001b[1;33m\u001b[0m\u001b[0m\n\u001b[0;32m     13\u001b[0m \u001b[1;32mimport\u001b[0m \u001b[0mmatplotlib\u001b[0m\u001b[1;33m.\u001b[0m\u001b[0mcolors\u001b[0m \u001b[1;32mas\u001b[0m \u001b[0mmplcol\u001b[0m\u001b[1;33m\u001b[0m\u001b[1;33m\u001b[0m\u001b[0m\n",
                        "\u001b[1;32mD:\\Anaconda3\\lib\\site-packages\\pandas\\__init__.py\u001b[0m in \u001b[0;36m<module>\u001b[1;34m\u001b[0m\n\u001b[0;32m     48\u001b[0m \u001b[1;32mimport\u001b[0m \u001b[0mpandas\u001b[0m\u001b[1;33m.\u001b[0m\u001b[0mcore\u001b[0m\u001b[1;33m.\u001b[0m\u001b[0mconfig_init\u001b[0m\u001b[1;33m\u001b[0m\u001b[1;33m\u001b[0m\u001b[0m\n\u001b[0;32m     49\u001b[0m \u001b[1;33m\u001b[0m\u001b[0m\n\u001b[1;32m---> 50\u001b[1;33m from pandas.core.api import (\n\u001b[0m\u001b[0;32m     51\u001b[0m     \u001b[1;31m# dtype\u001b[0m\u001b[1;33m\u001b[0m\u001b[1;33m\u001b[0m\u001b[1;33m\u001b[0m\u001b[0m\n\u001b[0;32m     52\u001b[0m     \u001b[0mInt8Dtype\u001b[0m\u001b[1;33m,\u001b[0m\u001b[1;33m\u001b[0m\u001b[1;33m\u001b[0m\u001b[0m\n",
                        "\u001b[1;32mD:\\Anaconda3\\lib\\site-packages\\pandas\\core\\api.py\u001b[0m in \u001b[0;36m<module>\u001b[1;34m\u001b[0m\n\u001b[0;32m     46\u001b[0m \u001b[1;32mfrom\u001b[0m \u001b[0mpandas\u001b[0m\u001b[1;33m.\u001b[0m\u001b[0mcore\u001b[0m\u001b[1;33m.\u001b[0m\u001b[0mconstruction\u001b[0m \u001b[1;32mimport\u001b[0m \u001b[0marray\u001b[0m\u001b[1;33m\u001b[0m\u001b[1;33m\u001b[0m\u001b[0m\n\u001b[0;32m     47\u001b[0m \u001b[1;32mfrom\u001b[0m \u001b[0mpandas\u001b[0m\u001b[1;33m.\u001b[0m\u001b[0mcore\u001b[0m\u001b[1;33m.\u001b[0m\u001b[0mflags\u001b[0m \u001b[1;32mimport\u001b[0m \u001b[0mFlags\u001b[0m\u001b[1;33m\u001b[0m\u001b[1;33m\u001b[0m\u001b[0m\n\u001b[1;32m---> 48\u001b[1;33m from pandas.core.groupby import (\n\u001b[0m\u001b[0;32m     49\u001b[0m     \u001b[0mGrouper\u001b[0m\u001b[1;33m,\u001b[0m\u001b[1;33m\u001b[0m\u001b[1;33m\u001b[0m\u001b[0m\n\u001b[0;32m     50\u001b[0m     \u001b[0mNamedAgg\u001b[0m\u001b[1;33m,\u001b[0m\u001b[1;33m\u001b[0m\u001b[1;33m\u001b[0m\u001b[0m\n",
                        "\u001b[1;32mD:\\Anaconda3\\lib\\site-packages\\pandas\\core\\groupby\\__init__.py\u001b[0m in \u001b[0;36m<module>\u001b[1;34m\u001b[0m\n\u001b[1;32m----> 1\u001b[1;33m from pandas.core.groupby.generic import (\n\u001b[0m\u001b[0;32m      2\u001b[0m     \u001b[0mDataFrameGroupBy\u001b[0m\u001b[1;33m,\u001b[0m\u001b[1;33m\u001b[0m\u001b[1;33m\u001b[0m\u001b[0m\n\u001b[0;32m      3\u001b[0m     \u001b[0mNamedAgg\u001b[0m\u001b[1;33m,\u001b[0m\u001b[1;33m\u001b[0m\u001b[1;33m\u001b[0m\u001b[0m\n\u001b[0;32m      4\u001b[0m     \u001b[0mSeriesGroupBy\u001b[0m\u001b[1;33m,\u001b[0m\u001b[1;33m\u001b[0m\u001b[1;33m\u001b[0m\u001b[0m\n\u001b[0;32m      5\u001b[0m )\n",
                        "\u001b[1;32mD:\\Anaconda3\\lib\\site-packages\\pandas\\core\\groupby\\generic.py\u001b[0m in \u001b[0;36m<module>\u001b[1;34m\u001b[0m\n\u001b[0;32m     73\u001b[0m \u001b[1;32mfrom\u001b[0m \u001b[0mpandas\u001b[0m\u001b[1;33m.\u001b[0m\u001b[0mcore\u001b[0m\u001b[1;33m.\u001b[0m\u001b[0mframe\u001b[0m \u001b[1;32mimport\u001b[0m \u001b[0mDataFrame\u001b[0m\u001b[1;33m\u001b[0m\u001b[1;33m\u001b[0m\u001b[0m\n\u001b[0;32m     74\u001b[0m \u001b[1;32mfrom\u001b[0m \u001b[0mpandas\u001b[0m\u001b[1;33m.\u001b[0m\u001b[0mcore\u001b[0m\u001b[1;33m.\u001b[0m\u001b[0mgeneric\u001b[0m \u001b[1;32mimport\u001b[0m \u001b[0mNDFrame\u001b[0m\u001b[1;33m\u001b[0m\u001b[1;33m\u001b[0m\u001b[0m\n\u001b[1;32m---> 75\u001b[1;33m \u001b[1;32mfrom\u001b[0m \u001b[0mpandas\u001b[0m\u001b[1;33m.\u001b[0m\u001b[0mcore\u001b[0m\u001b[1;33m.\u001b[0m\u001b[0mgroupby\u001b[0m \u001b[1;32mimport\u001b[0m \u001b[0mbase\u001b[0m\u001b[1;33m\u001b[0m\u001b[1;33m\u001b[0m\u001b[0m\n\u001b[0m\u001b[0;32m     76\u001b[0m from pandas.core.groupby.groupby import (\n\u001b[0;32m     77\u001b[0m     \u001b[0mGroupBy\u001b[0m\u001b[1;33m,\u001b[0m\u001b[1;33m\u001b[0m\u001b[1;33m\u001b[0m\u001b[0m\n",
                        "\u001b[1;32mD:\\Anaconda3\\lib\\importlib\\_bootstrap.py\u001b[0m in \u001b[0;36m_find_and_load\u001b[1;34m(name, import_)\u001b[0m\n",
                        "\u001b[1;32mD:\\Anaconda3\\lib\\importlib\\_bootstrap.py\u001b[0m in \u001b[0;36m_find_and_load_unlocked\u001b[1;34m(name, import_)\u001b[0m\n",
                        "\u001b[1;32mD:\\Anaconda3\\lib\\importlib\\_bootstrap.py\u001b[0m in \u001b[0;36m_find_spec\u001b[1;34m(name, path, target)\u001b[0m\n",
                        "\u001b[1;32mD:\\Anaconda3\\lib\\importlib\\_bootstrap_external.py\u001b[0m in \u001b[0;36mfind_spec\u001b[1;34m(cls, fullname, path, target)\u001b[0m\n",
                        "\u001b[1;32mD:\\Anaconda3\\lib\\importlib\\_bootstrap_external.py\u001b[0m in \u001b[0;36m_get_spec\u001b[1;34m(cls, fullname, path, target)\u001b[0m\n",
                        "\u001b[1;32mD:\\Anaconda3\\lib\\importlib\\_bootstrap_external.py\u001b[0m in \u001b[0;36mfind_spec\u001b[1;34m(self, fullname, target)\u001b[0m\n",
                        "\u001b[1;32mD:\\Anaconda3\\lib\\importlib\\_bootstrap_external.py\u001b[0m in \u001b[0;36m_path_stat\u001b[1;34m(path)\u001b[0m\n",
                        "\u001b[1;31mKeyboardInterrupt\u001b[0m: "
                    ]
                }
            ],
            "source": [
                "from config_path import add_to_sys_path\n",
                "add_to_sys_path()  # Call the function to add path\n",
                "\n",
                "import numpy as np\n",
                "from sympy.physics.wigner import wigner_3j,wigner_6j\n",
                "import sympy as sy\n",
                "from numpy import linalg as LA\n",
                "from IPython.display import Latex,display\n",
                "import matplotlib.pyplot as plt\n",
                "%matplotlib inline\n",
                "import seaborn as sns\n",
                "sns.set()\n",
                "sns.set_palette('terrain')\n",
                "from molecular_structure import MoleculeLevels\n",
                "np.set_printoptions(precision=5, suppress=True)\n",
                "from energy_levels import branching_ratios, calculate_TDMs\n",
                "\n",
                "%matplotlib qt"
            ]
        },
        {
            "cell_type": "code",
            "execution_count": null,
            "id": "25199661",
            "metadata": {},
            "outputs": [],
            "source": [
                "N_list = [0]\n",
                "print(N_list)"
            ]
        },
        {
            "cell_type": "code",
            "execution_count": null,
            "id": "bb41dcad",
            "metadata": {},
            "outputs": [],
            "source": [
                "B000= MoleculeLevels.initialize_state('CaOH','40','B000',[0,1],M_values = 'all',I=[0,1/2],S=1/2,round=8)"
            ]
        },
        {
            "cell_type": "code",
            "execution_count": null,
            "id": "5d1cc3be",
            "metadata": {},
            "outputs": [],
            "source": [
                "Bz = np.linspace(1e-6,100,3000)\n",
                "Ez = np.linspace(0.0,1000,5000)"
            ]
        },
        {
            "cell_type": "code",
            "execution_count": 23,
            "id": "92ee69c7",
            "metadata": {},
            "outputs": [
                {
                    "data": {
                        "text/plain": [
                            "(-0.5, 0.5)"
                        ]
                    },
                    "execution_count": 23,
                    "metadata": {},
                    "output_type": "execute_result"
                }
            ],
            "source": [
                "B000.ZeemanMap(Bz,0,plot=True)\n",
                "plt.xlim(0,0.1)\n",
                "plt.ylim(-0.5,0.5)"
            ]
        },
        {
            "cell_type": "code",
            "execution_count": 24,
            "id": "6d93bbbe",
            "metadata": {},
            "outputs": [
                {
                    "data": {
                        "text/plain": [
                            "(-4.0, 4.0)"
                        ]
                    },
                    "execution_count": 24,
                    "metadata": {},
                    "output_type": "execute_result"
                }
            ],
            "source": [
                "B000.StarkMap(Ez,1e-7,plot=True)\n",
                "plt.ylim(-4,4)"
            ]
        },
        {
            "cell_type": "code",
            "execution_count": 27,
            "id": "e4226ea2",
            "metadata": {
                "scrolled": false
            },
            "outputs": [
                {
                    "name": "stdout",
                    "output_type": "stream",
                    "text": [
                        "[ 0  1  8 11 12 13]\n",
                        "\n",
                        "\n"
                    ]
                },
                {
                    "data": {
                        "text/latex": [
                            "$E = -2.3801\\:\\mathrm{MHz}$"
                        ],
                        "text/plain": [
                            "<IPython.core.display.Latex object>"
                        ]
                    },
                    "metadata": {},
                    "output_type": "display_data"
                },
                {
                    "name": "stdout",
                    "output_type": "stream",
                    "text": [
                        "Decoupled:\n"
                    ]
                },
                {
                    "data": {
                        "text/latex": [
                            "$\\, \\,0.7071|K=0,M_N=0,M_S=\\frac{-1}{2},M_I=\\frac{1}{2},M_F=0\\rangle\\,$$\\,-\\,0.7071|K=0,M_N=0,M_S=\\frac{1}{2},M_I=\\frac{-1}{2},M_F=0\\rangle\\,$"
                        ],
                        "text/plain": [
                            "<IPython.core.display.Latex object>"
                        ]
                    },
                    "metadata": {},
                    "output_type": "display_data"
                },
                {
                    "name": "stdout",
                    "output_type": "stream",
                    "text": [
                        "Case A:\n"
                    ]
                },
                {
                    "data": {
                        "text/latex": [
                            "$\\, \\,0.7071|K=0,Σ=\\frac{-1}{2},P=\\frac{-1}{2},M=0\\rangle\\,$$\\,+\\,0.7071|K=0,Σ=\\frac{1}{2},P=\\frac{1}{2},M=0\\rangle\\,$"
                        ],
                        "text/plain": [
                            "<IPython.core.display.Latex object>"
                        ]
                    },
                    "metadata": {},
                    "output_type": "display_data"
                },
                {
                    "name": "stdout",
                    "output_type": "stream",
                    "text": [
                        "Case B:\n"
                    ]
                },
                {
                    "data": {
                        "text/latex": [
                            "$\\, \\,0.9999|K=0,N=0,J=\\frac{1}{2},F=0,M=0\\rangle\\,$"
                        ],
                        "text/plain": [
                            "<IPython.core.display.Latex object>"
                        ]
                    },
                    "metadata": {},
                    "output_type": "display_data"
                },
                {
                    "name": "stdout",
                    "output_type": "stream",
                    "text": [
                        "\n",
                        "\n"
                    ]
                },
                {
                    "data": {
                        "text/latex": [
                            "$E = -2.2761\\:\\mathrm{MHz}$"
                        ],
                        "text/plain": [
                            "<IPython.core.display.Latex object>"
                        ]
                    },
                    "metadata": {},
                    "output_type": "display_data"
                },
                {
                    "name": "stdout",
                    "output_type": "stream",
                    "text": [
                        "Decoupled:\n"
                    ]
                },
                {
                    "data": {
                        "text/latex": [
                            "$\\,-\\,0.7071|K=0,M_N=0,M_S=\\frac{-1}{2},M_I=\\frac{1}{2},M_F=0\\rangle\\,$$\\,-\\,0.7071|K=0,M_N=0,M_S=\\frac{1}{2},M_I=\\frac{-1}{2},M_F=0\\rangle\\,$"
                        ],
                        "text/plain": [
                            "<IPython.core.display.Latex object>"
                        ]
                    },
                    "metadata": {},
                    "output_type": "display_data"
                },
                {
                    "name": "stdout",
                    "output_type": "stream",
                    "text": [
                        "Case A:\n"
                    ]
                },
                {
                    "data": {
                        "text/latex": [
                            "$\\, \\,0.7071|K=0,Σ=\\frac{-1}{2},P=\\frac{-1}{2},M=0\\rangle\\,$$\\,+\\,0.7071|K=0,Σ=\\frac{1}{2},P=\\frac{1}{2},M=0\\rangle\\,$"
                        ],
                        "text/plain": [
                            "<IPython.core.display.Latex object>"
                        ]
                    },
                    "metadata": {},
                    "output_type": "display_data"
                },
                {
                    "name": "stdout",
                    "output_type": "stream",
                    "text": [
                        "Case B:\n"
                    ]
                },
                {
                    "data": {
                        "text/latex": [
                            "$\\, \\,0.9999|K=0,N=0,J=\\frac{1}{2},F=1,M=0\\rangle\\,$"
                        ],
                        "text/plain": [
                            "<IPython.core.display.Latex object>"
                        ]
                    },
                    "metadata": {},
                    "output_type": "display_data"
                },
                {
                    "name": "stdout",
                    "output_type": "stream",
                    "text": [
                        "\n",
                        "\n"
                    ]
                },
                {
                    "data": {
                        "text/latex": [
                            "$E = 19698.1732\\:\\mathrm{MHz}$"
                        ],
                        "text/plain": [
                            "<IPython.core.display.Latex object>"
                        ]
                    },
                    "metadata": {},
                    "output_type": "display_data"
                },
                {
                    "name": "stdout",
                    "output_type": "stream",
                    "text": [
                        "Decoupled:\n"
                    ]
                },
                {
                    "data": {
                        "text/latex": [
                            "$\\, \\,0.4085|K=0,M_N=-1,M_S=\\frac{1}{2},M_I=\\frac{1}{2},M_F=0\\rangle\\,$$\\,+\\,0.5771|K=0,M_N=0,M_S=\\frac{-1}{2},M_I=\\frac{1}{2},M_F=0\\rangle\\,$$\\,-\\,0.5771|K=0,M_N=0,M_S=\\frac{1}{2},M_I=\\frac{-1}{2},M_F=0\\rangle\\,$$\\,-\\,0.4085|K=0,M_N=1,M_S=\\frac{-1}{2},M_I=\\frac{-1}{2},M_F=0\\rangle\\,$"
                        ],
                        "text/plain": [
                            "<IPython.core.display.Latex object>"
                        ]
                    },
                    "metadata": {},
                    "output_type": "display_data"
                },
                {
                    "name": "stdout",
                    "output_type": "stream",
                    "text": [
                        "Case A:\n"
                    ]
                },
                {
                    "data": {
                        "text/latex": [
                            "$\\, \\,0.7071|K=0,Σ=\\frac{-1}{2},P=\\frac{-1}{2},M=0\\rangle\\,$$\\,+\\,0.7071|K=0,Σ=\\frac{1}{2},P=\\frac{1}{2},M=0\\rangle\\,$"
                        ],
                        "text/plain": [
                            "<IPython.core.display.Latex object>"
                        ]
                    },
                    "metadata": {},
                    "output_type": "display_data"
                },
                {
                    "name": "stdout",
                    "output_type": "stream",
                    "text": [
                        "Case B:\n"
                    ]
                },
                {
                    "data": {
                        "text/latex": [
                            "$\\, \\,1.0|K=0,N=1,J=\\frac{3}{2},F=1,M=0\\rangle\\,$"
                        ],
                        "text/plain": [
                            "<IPython.core.display.Latex object>"
                        ]
                    },
                    "metadata": {},
                    "output_type": "display_data"
                },
                {
                    "name": "stdout",
                    "output_type": "stream",
                    "text": [
                        "\n",
                        "\n"
                    ]
                },
                {
                    "data": {
                        "text/latex": [
                            "$E = 19698.2352\\:\\mathrm{MHz}$"
                        ],
                        "text/plain": [
                            "<IPython.core.display.Latex object>"
                        ]
                    },
                    "metadata": {},
                    "output_type": "display_data"
                },
                {
                    "name": "stdout",
                    "output_type": "stream",
                    "text": [
                        "Decoupled:\n"
                    ]
                },
                {
                    "data": {
                        "text/latex": [
                            "$\\,-\\,0.4086|K=0,M_N=-1,M_S=\\frac{1}{2},M_I=\\frac{1}{2},M_F=0\\rangle\\,$$\\,-\\,0.5771|K=0,M_N=0,M_S=\\frac{-1}{2},M_I=\\frac{1}{2},M_F=0\\rangle\\,$$\\,-\\,0.5771|K=0,M_N=0,M_S=\\frac{1}{2},M_I=\\frac{-1}{2},M_F=0\\rangle\\,$$\\,-\\,0.4086|K=0,M_N=1,M_S=\\frac{-1}{2},M_I=\\frac{-1}{2},M_F=0\\rangle\\,$"
                        ],
                        "text/plain": [
                            "<IPython.core.display.Latex object>"
                        ]
                    },
                    "metadata": {},
                    "output_type": "display_data"
                },
                {
                    "name": "stdout",
                    "output_type": "stream",
                    "text": [
                        "Case A:\n"
                    ]
                },
                {
                    "data": {
                        "text/latex": [
                            "$\\, \\,0.7071|K=0,Σ=\\frac{-1}{2},P=\\frac{-1}{2},M=0\\rangle\\,$$\\,+\\,0.7071|K=0,Σ=\\frac{1}{2},P=\\frac{1}{2},M=0\\rangle\\,$"
                        ],
                        "text/plain": [
                            "<IPython.core.display.Latex object>"
                        ]
                    },
                    "metadata": {},
                    "output_type": "display_data"
                },
                {
                    "name": "stdout",
                    "output_type": "stream",
                    "text": [
                        "Case B:\n"
                    ]
                },
                {
                    "data": {
                        "text/latex": [
                            "$\\, \\,1.0|K=0,N=1,J=\\frac{3}{2},F=2,M=0\\rangle\\,$"
                        ],
                        "text/plain": [
                            "<IPython.core.display.Latex object>"
                        ]
                    },
                    "metadata": {},
                    "output_type": "display_data"
                },
                {
                    "name": "stdout",
                    "output_type": "stream",
                    "text": [
                        "\n",
                        "\n"
                    ]
                },
                {
                    "data": {
                        "text/latex": [
                            "$E = 21658.6588\\:\\mathrm{MHz}$"
                        ],
                        "text/plain": [
                            "<IPython.core.display.Latex object>"
                        ]
                    },
                    "metadata": {},
                    "output_type": "display_data"
                },
                {
                    "name": "stdout",
                    "output_type": "stream",
                    "text": [
                        "Decoupled:\n"
                    ]
                },
                {
                    "data": {
                        "text/latex": [
                            "$\\,-\\,0.5771|K=0,M_N=-1,M_S=\\frac{1}{2},M_I=\\frac{1}{2},M_F=0\\rangle\\,$$\\,+\\,0.4085|K=0,M_N=0,M_S=\\frac{-1}{2},M_I=\\frac{1}{2},M_F=0\\rangle\\,$$\\,+\\,0.4086|K=0,M_N=0,M_S=\\frac{1}{2},M_I=\\frac{-1}{2},M_F=0\\rangle\\,$$\\,-\\,0.5771|K=0,M_N=1,M_S=\\frac{-1}{2},M_I=\\frac{-1}{2},M_F=0\\rangle\\,$"
                        ],
                        "text/plain": [
                            "<IPython.core.display.Latex object>"
                        ]
                    },
                    "metadata": {},
                    "output_type": "display_data"
                },
                {
                    "name": "stdout",
                    "output_type": "stream",
                    "text": [
                        "Case A:\n"
                    ]
                },
                {
                    "data": {
                        "text/latex": [
                            "$\\, \\,0.7071|K=0,Σ=\\frac{-1}{2},P=\\frac{-1}{2},M=0\\rangle\\,$$\\,-\\,0.7071|K=0,Σ=\\frac{1}{2},P=\\frac{1}{2},M=0\\rangle\\,$"
                        ],
                        "text/plain": [
                            "<IPython.core.display.Latex object>"
                        ]
                    },
                    "metadata": {},
                    "output_type": "display_data"
                },
                {
                    "name": "stdout",
                    "output_type": "stream",
                    "text": [
                        "Case B:\n"
                    ]
                },
                {
                    "data": {
                        "text/latex": [
                            "$\\, \\,1.0|K=0,N=1,J=\\frac{1}{2},F=0,M=0\\rangle\\,$"
                        ],
                        "text/plain": [
                            "<IPython.core.display.Latex object>"
                        ]
                    },
                    "metadata": {},
                    "output_type": "display_data"
                },
                {
                    "name": "stdout",
                    "output_type": "stream",
                    "text": [
                        "\n",
                        "\n"
                    ]
                },
                {
                    "data": {
                        "text/latex": [
                            "$E = 21658.6606\\:\\mathrm{MHz}$"
                        ],
                        "text/plain": [
                            "<IPython.core.display.Latex object>"
                        ]
                    },
                    "metadata": {},
                    "output_type": "display_data"
                },
                {
                    "name": "stdout",
                    "output_type": "stream",
                    "text": [
                        "Decoupled:\n"
                    ]
                },
                {
                    "data": {
                        "text/latex": [
                            "$\\,-\\,0.5772|K=0,M_N=-1,M_S=\\frac{1}{2},M_I=\\frac{1}{2},M_F=0\\rangle\\,$$\\,+\\,0.4085|K=0,M_N=0,M_S=\\frac{-1}{2},M_I=\\frac{1}{2},M_F=0\\rangle\\,$$\\,-\\,0.4085|K=0,M_N=0,M_S=\\frac{1}{2},M_I=\\frac{-1}{2},M_F=0\\rangle\\,$$\\,+\\,0.5771|K=0,M_N=1,M_S=\\frac{-1}{2},M_I=\\frac{-1}{2},M_F=0\\rangle\\,$"
                        ],
                        "text/plain": [
                            "<IPython.core.display.Latex object>"
                        ]
                    },
                    "metadata": {},
                    "output_type": "display_data"
                },
                {
                    "name": "stdout",
                    "output_type": "stream",
                    "text": [
                        "Case A:\n"
                    ]
                },
                {
                    "data": {
                        "text/latex": [
                            "$\\,-\\,0.7071|K=0,Σ=\\frac{-1}{2},P=\\frac{-1}{2},M=0\\rangle\\,$$\\,+\\,0.7071|K=0,Σ=\\frac{1}{2},P=\\frac{1}{2},M=0\\rangle\\,$"
                        ],
                        "text/plain": [
                            "<IPython.core.display.Latex object>"
                        ]
                    },
                    "metadata": {},
                    "output_type": "display_data"
                },
                {
                    "name": "stdout",
                    "output_type": "stream",
                    "text": [
                        "Case B:\n"
                    ]
                },
                {
                    "data": {
                        "text/latex": [
                            "$\\,-\\,1.0|K=0,N=1,J=\\frac{1}{2},F=1,M=0\\rangle\\,$"
                        ],
                        "text/plain": [
                            "<IPython.core.display.Latex object>"
                        ]
                    },
                    "metadata": {},
                    "output_type": "display_data"
                },
                {
                    "name": "stdout",
                    "output_type": "stream",
                    "text": [
                        "\n",
                        "\n"
                    ]
                }
            ],
            "source": [
                "B000.eigensystem(1000,1e-7)\n",
                "M0_idx = B000.select_q({'M':[0]})\n",
                "print(M0_idx)\n",
                "print('\\n')\n",
                "for i in M0_idx:\n",
                "    display(Latex('$E = '+str(np.round(B000.evals0[i],4))+r'\\:\\mathrm{MHz}$'))\n",
                "    print('Decoupled:')\n",
                "    display(Latex(B000.gen_state_str(i,basis='decoupled',thresh=0.01,label_q=['K','M_N','M_S','M_I','M_F'],round=4)))\n",
                "    print('Case A:')\n",
                "    display(Latex(B000.gen_state_str(i,basis='aBJ',thresh=0.01,label_q=['K','Sigma','P','M'],round=4)))\n",
                "    print('Case B:')\n",
                "    display(Latex(B000.gen_state_str(i,thresh=0.01,round=4)))\n",
                "    print('\\n')"
            ]
        },
        {
            "cell_type": "code",
            "execution_count": 28,
            "id": "818327ff",
            "metadata": {},
            "outputs": [],
            "source": [
                "X010= MoleculeLevels.initialize_state('CaOH','40','X010',[1],M_values = 'all',I=[0,1/2],S=1/2,round=8)"
            ]
        },
        {
            "cell_type": "code",
            "execution_count": 30,
            "id": "68341dc7",
            "metadata": {
                "scrolled": false
            },
            "outputs": [
                {
                    "name": "stdout",
                    "output_type": "stream",
                    "text": [
                        "[ 2  3  8 11 12 15 18 19]\n",
                        "\n",
                        "\n"
                    ]
                },
                {
                    "data": {
                        "text/latex": [
                            "$E = 9618.8716\\:\\mathrm{MHz}$"
                        ],
                        "text/plain": [
                            "<IPython.core.display.Latex object>"
                        ]
                    },
                    "metadata": {},
                    "output_type": "display_data"
                },
                {
                    "name": "stdout",
                    "output_type": "stream",
                    "text": [
                        "Decoupled:\n"
                    ]
                },
                {
                    "data": {
                        "text/latex": [
                            "$\\,-\\,0.7064|K=-1,M_N=-1,M_S=\\frac{1}{2},M_I=\\frac{1}{2},M_F=0\\rangle\\,$$\\,+\\,0.0209|K=1,M_N=-1,M_S=\\frac{1}{2},M_I=\\frac{1}{2},M_F=0\\rangle\\,$$\\,+\\,0.0232|K=-1,M_N=0,M_S=\\frac{-1}{2},M_I=\\frac{1}{2},M_F=0\\rangle\\,$$\\,+\\,0.0232|K=1,M_N=0,M_S=\\frac{1}{2},M_I=\\frac{-1}{2},M_F=0\\rangle\\,$$\\,+\\,0.0209|K=-1,M_N=1,M_S=\\frac{-1}{2},M_I=\\frac{-1}{2},M_F=0\\rangle\\,$$\\,-\\,0.7064|K=1,M_N=1,M_S=\\frac{-1}{2},M_I=\\frac{-1}{2},M_F=0\\rangle\\,$"
                        ],
                        "text/plain": [
                            "<IPython.core.display.Latex object>"
                        ]
                    },
                    "metadata": {},
                    "output_type": "display_data"
                },
                {
                    "name": "stdout",
                    "output_type": "stream",
                    "text": [
                        "Case A:\n"
                    ]
                },
                {
                    "data": {
                        "text/latex": [
                            "$\\, \\,0.4043|K=1,Σ=\\frac{-1}{2},P=\\frac{1}{2},M=0\\rangle\\,$$\\,-\\,0.4043|K=-1,Σ=\\frac{1}{2},P=\\frac{-1}{2},M=0\\rangle\\,$$\\,+\\,0.4303|K=1,Σ=\\frac{-1}{2},P=\\frac{1}{2},M=0\\rangle\\,$$\\,+\\,0.4303|K=-1,Σ=\\frac{1}{2},P=\\frac{-1}{2},M=0\\rangle\\,$$\\,-\\,0.2444|K=-1,Σ=\\frac{-1}{2},P=\\frac{-3}{2},M=0\\rangle\\,$$\\,+\\,0.1411|K=1,Σ=\\frac{-1}{2},P=\\frac{1}{2},M=0\\rangle\\,$$\\,-\\,0.1411|K=-1,Σ=\\frac{1}{2},P=\\frac{-1}{2},M=0\\rangle\\,$$\\,+\\,0.2444|K=1,Σ=\\frac{1}{2},P=\\frac{3}{2},M=0\\rangle\\,$$\\,+\\,0.2319|K=-1,Σ=\\frac{-1}{2},P=\\frac{-3}{2},M=0\\rangle\\,$$\\,+\\,0.1339|K=1,Σ=\\frac{-1}{2},P=\\frac{1}{2},M=0\\rangle\\,$$\\,+\\,0.1339|K=-1,Σ=\\frac{1}{2},P=\\frac{-1}{2},M=0\\rangle\\,$$\\,+\\,0.2319|K=1,Σ=\\frac{1}{2},P=\\frac{3}{2},M=0\\rangle\\,$"
                        ],
                        "text/plain": [
                            "<IPython.core.display.Latex object>"
                        ]
                    },
                    "metadata": {},
                    "output_type": "display_data"
                },
                {
                    "name": "stdout",
                    "output_type": "stream",
                    "text": [
                        "Case B:\n"
                    ]
                },
                {
                    "data": {
                        "text/latex": [
                            "$\\, \\,0.4043|K=-1,N=1,J=\\frac{1}{2},F=0,M=0\\rangle\\,$$\\,+\\,0.4043|K=1,N=1,J=\\frac{1}{2},F=0,M=0\\rangle\\,$$\\,-\\,0.4303|K=-1,N=1,J=\\frac{1}{2},F=1,M=0\\rangle\\,$$\\,+\\,0.4303|K=1,N=1,J=\\frac{1}{2},F=1,M=0\\rangle\\,$$\\,-\\,0.2823|K=-1,N=1,J=\\frac{3}{2},F=1,M=0\\rangle\\,$$\\,+\\,0.2823|K=1,N=1,J=\\frac{3}{2},F=1,M=0\\rangle\\,$$\\,+\\,0.2677|K=-1,N=1,J=\\frac{3}{2},F=2,M=0\\rangle\\,$$\\,+\\,0.2677|K=1,N=1,J=\\frac{3}{2},F=2,M=0\\rangle\\,$"
                        ],
                        "text/plain": [
                            "<IPython.core.display.Latex object>"
                        ]
                    },
                    "metadata": {},
                    "output_type": "display_data"
                },
                {
                    "name": "stdout",
                    "output_type": "stream",
                    "text": [
                        "\n",
                        "\n"
                    ]
                },
                {
                    "data": {
                        "text/latex": [
                            "$E = 9618.8973\\:\\mathrm{MHz}$"
                        ],
                        "text/plain": [
                            "<IPython.core.display.Latex object>"
                        ]
                    },
                    "metadata": {},
                    "output_type": "display_data"
                },
                {
                    "name": "stdout",
                    "output_type": "stream",
                    "text": [
                        "Decoupled:\n"
                    ]
                },
                {
                    "data": {
                        "text/latex": [
                            "$\\, \\,0.7064|K=-1,M_N=-1,M_S=\\frac{1}{2},M_I=\\frac{1}{2},M_F=0\\rangle\\,$$\\,-\\,0.0205|K=1,M_N=-1,M_S=\\frac{1}{2},M_I=\\frac{1}{2},M_F=0\\rangle\\,$$\\,-\\,0.0232|K=-1,M_N=0,M_S=\\frac{-1}{2},M_I=\\frac{1}{2},M_F=0\\rangle\\,$$\\,+\\,0.0232|K=1,M_N=0,M_S=\\frac{1}{2},M_I=\\frac{-1}{2},M_F=0\\rangle\\,$$\\,+\\,0.0205|K=-1,M_N=1,M_S=\\frac{-1}{2},M_I=\\frac{-1}{2},M_F=0\\rangle\\,$$\\,-\\,0.7064|K=1,M_N=1,M_S=\\frac{-1}{2},M_I=\\frac{-1}{2},M_F=0\\rangle\\,$"
                        ],
                        "text/plain": [
                            "<IPython.core.display.Latex object>"
                        ]
                    },
                    "metadata": {},
                    "output_type": "display_data"
                },
                {
                    "name": "stdout",
                    "output_type": "stream",
                    "text": [
                        "Case A:\n"
                    ]
                },
                {
                    "data": {
                        "text/latex": [
                            "$\\, \\,0.4299|K=1,Σ=\\frac{-1}{2},P=\\frac{1}{2},M=0\\rangle\\,$$\\,+\\,0.4299|K=-1,Σ=\\frac{1}{2},P=\\frac{-1}{2},M=0\\rangle\\,$$\\,+\\,0.4047|K=1,Σ=\\frac{-1}{2},P=\\frac{1}{2},M=0\\rangle\\,$$\\,-\\,0.4047|K=-1,Σ=\\frac{1}{2},P=\\frac{-1}{2},M=0\\rangle\\,$$\\,+\\,0.2318|K=-1,Σ=\\frac{-1}{2},P=\\frac{-3}{2},M=0\\rangle\\,$$\\,+\\,0.1338|K=1,Σ=\\frac{-1}{2},P=\\frac{1}{2},M=0\\rangle\\,$$\\,+\\,0.1338|K=-1,Σ=\\frac{1}{2},P=\\frac{-1}{2},M=0\\rangle\\,$$\\,+\\,0.2318|K=1,Σ=\\frac{1}{2},P=\\frac{3}{2},M=0\\rangle\\,$$\\,-\\,0.2446|K=-1,Σ=\\frac{-1}{2},P=\\frac{-3}{2},M=0\\rangle\\,$$\\,+\\,0.1412|K=1,Σ=\\frac{-1}{2},P=\\frac{1}{2},M=0\\rangle\\,$$\\,-\\,0.1412|K=-1,Σ=\\frac{1}{2},P=\\frac{-1}{2},M=0\\rangle\\,$$\\,+\\,0.2446|K=1,Σ=\\frac{1}{2},P=\\frac{3}{2},M=0\\rangle\\,$"
                        ],
                        "text/plain": [
                            "<IPython.core.display.Latex object>"
                        ]
                    },
                    "metadata": {},
                    "output_type": "display_data"
                },
                {
                    "name": "stdout",
                    "output_type": "stream",
                    "text": [
                        "Case B:\n"
                    ]
                },
                {
                    "data": {
                        "text/latex": [
                            "$\\,-\\,0.4299|K=-1,N=1,J=\\frac{1}{2},F=0,M=0\\rangle\\,$$\\,+\\,0.4299|K=1,N=1,J=\\frac{1}{2},F=0,M=0\\rangle\\,$$\\,+\\,0.4047|K=-1,N=1,J=\\frac{1}{2},F=1,M=0\\rangle\\,$$\\,+\\,0.4047|K=1,N=1,J=\\frac{1}{2},F=1,M=0\\rangle\\,$$\\,+\\,0.2677|K=-1,N=1,J=\\frac{3}{2},F=1,M=0\\rangle\\,$$\\,+\\,0.2677|K=1,N=1,J=\\frac{3}{2},F=1,M=0\\rangle\\,$$\\,-\\,0.2824|K=-1,N=1,J=\\frac{3}{2},F=2,M=0\\rangle\\,$$\\,+\\,0.2824|K=1,N=1,J=\\frac{3}{2},F=2,M=0\\rangle\\,$"
                        ],
                        "text/plain": [
                            "<IPython.core.display.Latex object>"
                        ]
                    },
                    "metadata": {},
                    "output_type": "display_data"
                },
                {
                    "name": "stdout",
                    "output_type": "stream",
                    "text": [
                        "\n",
                        "\n"
                    ]
                },
                {
                    "data": {
                        "text/latex": [
                            "$E = 9973.1897\\:\\mathrm{MHz}$"
                        ],
                        "text/plain": [
                            "<IPython.core.display.Latex object>"
                        ]
                    },
                    "metadata": {},
                    "output_type": "display_data"
                },
                {
                    "name": "stdout",
                    "output_type": "stream",
                    "text": [
                        "Decoupled:\n"
                    ]
                },
                {
                    "data": {
                        "text/latex": [
                            "$\\, \\,0.0183|K=-1,M_N=-1,M_S=\\frac{1}{2},M_I=\\frac{1}{2},M_F=0\\rangle\\,$$\\,+\\,0.0152|K=1,M_N=-1,M_S=\\frac{1}{2},M_I=\\frac{1}{2},M_F=0\\rangle\\,$$\\,+\\,0.4952|K=-1,M_N=0,M_S=\\frac{-1}{2},M_I=\\frac{1}{2},M_F=0\\rangle\\,$$\\,-\\,0.5042|K=1,M_N=0,M_S=\\frac{-1}{2},M_I=\\frac{1}{2},M_F=0\\rangle\\,$$\\,-\\,0.5042|K=-1,M_N=0,M_S=\\frac{1}{2},M_I=\\frac{-1}{2},M_F=0\\rangle\\,$$\\,+\\,0.4952|K=1,M_N=0,M_S=\\frac{1}{2},M_I=\\frac{-1}{2},M_F=0\\rangle\\,$$\\,+\\,0.0152|K=-1,M_N=1,M_S=\\frac{-1}{2},M_I=\\frac{-1}{2},M_F=0\\rangle\\,$$\\,+\\,0.0183|K=1,M_N=1,M_S=\\frac{-1}{2},M_I=\\frac{-1}{2},M_F=0\\rangle\\,$"
                        ],
                        "text/plain": [
                            "<IPython.core.display.Latex object>"
                        ]
                    },
                    "metadata": {},
                    "output_type": "display_data"
                },
                {
                    "name": "stdout",
                    "output_type": "stream",
                    "text": [
                        "Case A:\n"
                    ]
                },
                {
                    "data": {
                        "text/latex": [
                            "$\\,-\\,0.023|K=1,Σ=\\frac{-1}{2},P=\\frac{1}{2},M=0\\rangle\\,$$\\,+\\,0.023|K=-1,Σ=\\frac{1}{2},P=\\frac{-1}{2},M=0\\rangle\\,$$\\,+\\,0.4062|K=1,Σ=\\frac{-1}{2},P=\\frac{1}{2},M=0\\rangle\\,$$\\,+\\,0.4062|K=-1,Σ=\\frac{1}{2},P=\\frac{-1}{2},M=0\\rangle\\,$$\\,+\\,0.5008|K=-1,Σ=\\frac{-1}{2},P=\\frac{-3}{2},M=0\\rangle\\,$$\\,-\\,0.2891|K=1,Σ=\\frac{-1}{2},P=\\frac{1}{2},M=0\\rangle\\,$$\\,+\\,0.2891|K=-1,Σ=\\frac{1}{2},P=\\frac{-1}{2},M=0\\rangle\\,$$\\,-\\,0.5008|K=1,Σ=\\frac{1}{2},P=\\frac{3}{2},M=0\\rangle\\,$"
                        ],
                        "text/plain": [
                            "<IPython.core.display.Latex object>"
                        ]
                    },
                    "metadata": {},
                    "output_type": "display_data"
                },
                {
                    "name": "stdout",
                    "output_type": "stream",
                    "text": [
                        "Case B:\n"
                    ]
                },
                {
                    "data": {
                        "text/latex": [
                            "$\\,-\\,0.023|K=-1,N=1,J=\\frac{1}{2},F=0,M=0\\rangle\\,$$\\,-\\,0.023|K=1,N=1,J=\\frac{1}{2},F=0,M=0\\rangle\\,$$\\,-\\,0.4062|K=-1,N=1,J=\\frac{1}{2},F=1,M=0\\rangle\\,$$\\,+\\,0.4062|K=1,N=1,J=\\frac{1}{2},F=1,M=0\\rangle\\,$$\\,+\\,0.5783|K=-1,N=1,J=\\frac{3}{2},F=1,M=0\\rangle\\,$$\\,-\\,0.5783|K=1,N=1,J=\\frac{3}{2},F=1,M=0\\rangle\\,$"
                        ],
                        "text/plain": [
                            "<IPython.core.display.Latex object>"
                        ]
                    },
                    "metadata": {},
                    "output_type": "display_data"
                },
                {
                    "name": "stdout",
                    "output_type": "stream",
                    "text": [
                        "\n",
                        "\n"
                    ]
                },
                {
                    "data": {
                        "text/latex": [
                            "$E = 9975.9236\\:\\mathrm{MHz}$"
                        ],
                        "text/plain": [
                            "<IPython.core.display.Latex object>"
                        ]
                    },
                    "metadata": {},
                    "output_type": "display_data"
                },
                {
                    "name": "stdout",
                    "output_type": "stream",
                    "text": [
                        "Decoupled:\n"
                    ]
                },
                {
                    "data": {
                        "text/latex": [
                            "$\\,-\\,0.0179|K=-1,M_N=-1,M_S=\\frac{1}{2},M_I=\\frac{1}{2},M_F=0\\rangle\\,$$\\,-\\,0.0152|K=1,M_N=-1,M_S=\\frac{1}{2},M_I=\\frac{1}{2},M_F=0\\rangle\\,$$\\,-\\,0.4946|K=-1,M_N=0,M_S=\\frac{-1}{2},M_I=\\frac{1}{2},M_F=0\\rangle\\,$$\\,+\\,0.5048|K=1,M_N=0,M_S=\\frac{-1}{2},M_I=\\frac{1}{2},M_F=0\\rangle\\,$$\\,-\\,0.5048|K=-1,M_N=0,M_S=\\frac{1}{2},M_I=\\frac{-1}{2},M_F=0\\rangle\\,$$\\,+\\,0.4946|K=1,M_N=0,M_S=\\frac{1}{2},M_I=\\frac{-1}{2},M_F=0\\rangle\\,$$\\,+\\,0.0152|K=-1,M_N=1,M_S=\\frac{-1}{2},M_I=\\frac{-1}{2},M_F=0\\rangle\\,$$\\,+\\,0.0179|K=1,M_N=1,M_S=\\frac{-1}{2},M_I=\\frac{-1}{2},M_F=0\\rangle\\,$"
                        ],
                        "text/plain": [
                            "<IPython.core.display.Latex object>"
                        ]
                    },
                    "metadata": {},
                    "output_type": "display_data"
                },
                {
                    "name": "stdout",
                    "output_type": "stream",
                    "text": [
                        "Case A:\n"
                    ]
                },
                {
                    "data": {
                        "text/latex": [
                            "$\\, \\,0.4064|K=1,Σ=\\frac{-1}{2},P=\\frac{1}{2},M=0\\rangle\\,$$\\,+\\,0.4064|K=-1,Σ=\\frac{1}{2},P=\\frac{-1}{2},M=0\\rangle\\,$$\\,-\\,0.0233|K=1,Σ=\\frac{-1}{2},P=\\frac{1}{2},M=0\\rangle\\,$$\\,+\\,0.0233|K=-1,Σ=\\frac{1}{2},P=\\frac{-1}{2},M=0\\rangle\\,$$\\,+\\,0.5007|K=-1,Σ=\\frac{-1}{2},P=\\frac{-3}{2},M=0\\rangle\\,$$\\,-\\,0.2891|K=1,Σ=\\frac{-1}{2},P=\\frac{1}{2},M=0\\rangle\\,$$\\,+\\,0.2891|K=-1,Σ=\\frac{1}{2},P=\\frac{-1}{2},M=0\\rangle\\,$$\\,-\\,0.5007|K=1,Σ=\\frac{1}{2},P=\\frac{3}{2},M=0\\rangle\\,$"
                        ],
                        "text/plain": [
                            "<IPython.core.display.Latex object>"
                        ]
                    },
                    "metadata": {},
                    "output_type": "display_data"
                },
                {
                    "name": "stdout",
                    "output_type": "stream",
                    "text": [
                        "Case B:\n"
                    ]
                },
                {
                    "data": {
                        "text/latex": [
                            "$\\,-\\,0.4064|K=-1,N=1,J=\\frac{1}{2},F=0,M=0\\rangle\\,$$\\,+\\,0.4064|K=1,N=1,J=\\frac{1}{2},F=0,M=0\\rangle\\,$$\\,-\\,0.0233|K=-1,N=1,J=\\frac{1}{2},F=1,M=0\\rangle\\,$$\\,-\\,0.0233|K=1,N=1,J=\\frac{1}{2},F=1,M=0\\rangle\\,$$\\,+\\,0.5781|K=-1,N=1,J=\\frac{3}{2},F=2,M=0\\rangle\\,$$\\,-\\,0.5781|K=1,N=1,J=\\frac{3}{2},F=2,M=0\\rangle\\,$"
                        ],
                        "text/plain": [
                            "<IPython.core.display.Latex object>"
                        ]
                    },
                    "metadata": {},
                    "output_type": "display_data"
                },
                {
                    "name": "stdout",
                    "output_type": "stream",
                    "text": [
                        "\n",
                        "\n"
                    ]
                },
                {
                    "data": {
                        "text/latex": [
                            "$E = 10016.3978\\:\\mathrm{MHz}$"
                        ],
                        "text/plain": [
                            "<IPython.core.display.Latex object>"
                        ]
                    },
                    "metadata": {},
                    "output_type": "display_data"
                },
                {
                    "name": "stdout",
                    "output_type": "stream",
                    "text": [
                        "Decoupled:\n"
                    ]
                },
                {
                    "data": {
                        "text/latex": [
                            "$\\,-\\,0.0148|K=-1,M_N=-1,M_S=\\frac{1}{2},M_I=\\frac{1}{2},M_F=0\\rangle\\,$$\\,+\\,0.0189|K=1,M_N=-1,M_S=\\frac{1}{2},M_I=\\frac{1}{2},M_F=0\\rangle\\,$$\\,-\\,0.5048|K=-1,M_N=0,M_S=\\frac{-1}{2},M_I=\\frac{1}{2},M_F=0\\rangle\\,$$\\,-\\,0.4946|K=1,M_N=0,M_S=\\frac{-1}{2},M_I=\\frac{1}{2},M_F=0\\rangle\\,$$\\,+\\,0.4946|K=-1,M_N=0,M_S=\\frac{1}{2},M_I=\\frac{-1}{2},M_F=0\\rangle\\,$$\\,+\\,0.5048|K=1,M_N=0,M_S=\\frac{1}{2},M_I=\\frac{-1}{2},M_F=0\\rangle\\,$$\\,-\\,0.0189|K=-1,M_N=1,M_S=\\frac{-1}{2},M_I=\\frac{-1}{2},M_F=0\\rangle\\,$$\\,+\\,0.0148|K=1,M_N=1,M_S=\\frac{-1}{2},M_I=\\frac{-1}{2},M_F=0\\rangle\\,$"
                        ],
                        "text/plain": [
                            "<IPython.core.display.Latex object>"
                        ]
                    },
                    "metadata": {},
                    "output_type": "display_data"
                },
                {
                    "name": "stdout",
                    "output_type": "stream",
                    "text": [
                        "Case A:\n"
                    ]
                },
                {
                    "data": {
                        "text/latex": [
                            "$\\,-\\,0.0153|K=1,Σ=\\frac{-1}{2},P=\\frac{1}{2},M=0\\rangle\\,$$\\,-\\,0.0153|K=-1,Σ=\\frac{1}{2},P=\\frac{-1}{2},M=0\\rangle\\,$$\\,+\\,0.4104|K=1,Σ=\\frac{-1}{2},P=\\frac{1}{2},M=0\\rangle\\,$$\\,-\\,0.4104|K=-1,Σ=\\frac{1}{2},P=\\frac{-1}{2},M=0\\rangle\\,$$\\,-\\,0.4982|K=-1,Σ=\\frac{-1}{2},P=\\frac{-3}{2},M=0\\rangle\\,$$\\,-\\,0.2876|K=1,Σ=\\frac{-1}{2},P=\\frac{1}{2},M=0\\rangle\\,$$\\,-\\,0.2876|K=-1,Σ=\\frac{1}{2},P=\\frac{-1}{2},M=0\\rangle\\,$$\\,-\\,0.4982|K=1,Σ=\\frac{1}{2},P=\\frac{3}{2},M=0\\rangle\\,$$\\,+\\,0.017|K=-1,Σ=\\frac{-1}{2},P=\\frac{-3}{2},M=0\\rangle\\,$$\\,-\\,0.017|K=1,Σ=\\frac{1}{2},P=\\frac{3}{2},M=0\\rangle\\,$"
                        ],
                        "text/plain": [
                            "<IPython.core.display.Latex object>"
                        ]
                    },
                    "metadata": {},
                    "output_type": "display_data"
                },
                {
                    "name": "stdout",
                    "output_type": "stream",
                    "text": [
                        "Case B:\n"
                    ]
                },
                {
                    "data": {
                        "text/latex": [
                            "$\\, \\,0.0153|K=-1,N=1,J=\\frac{1}{2},F=0,M=0\\rangle\\,$$\\,-\\,0.0153|K=1,N=1,J=\\frac{1}{2},F=0,M=0\\rangle\\,$$\\,+\\,0.4104|K=-1,N=1,J=\\frac{1}{2},F=1,M=0\\rangle\\,$$\\,+\\,0.4104|K=1,N=1,J=\\frac{1}{2},F=1,M=0\\rangle\\,$$\\,-\\,0.5753|K=-1,N=1,J=\\frac{3}{2},F=1,M=0\\rangle\\,$$\\,-\\,0.5753|K=1,N=1,J=\\frac{3}{2},F=1,M=0\\rangle\\,$$\\,+\\,0.0196|K=-1,N=1,J=\\frac{3}{2},F=2,M=0\\rangle\\,$$\\,-\\,0.0196|K=1,N=1,J=\\frac{3}{2},F=2,M=0\\rangle\\,$"
                        ],
                        "text/plain": [
                            "<IPython.core.display.Latex object>"
                        ]
                    },
                    "metadata": {},
                    "output_type": "display_data"
                },
                {
                    "name": "stdout",
                    "output_type": "stream",
                    "text": [
                        "\n",
                        "\n"
                    ]
                },
                {
                    "data": {
                        "text/latex": [
                            "$E = 10019.134\\:\\mathrm{MHz}$"
                        ],
                        "text/plain": [
                            "<IPython.core.display.Latex object>"
                        ]
                    },
                    "metadata": {},
                    "output_type": "display_data"
                },
                {
                    "name": "stdout",
                    "output_type": "stream",
                    "text": [
                        "Decoupled:\n"
                    ]
                },
                {
                    "data": {
                        "text/latex": [
                            "$\\,-\\,0.0144|K=-1,M_N=-1,M_S=\\frac{1}{2},M_I=\\frac{1}{2},M_F=0\\rangle\\,$$\\,+\\,0.0189|K=1,M_N=-1,M_S=\\frac{1}{2},M_I=\\frac{1}{2},M_F=0\\rangle\\,$$\\,-\\,0.5042|K=-1,M_N=0,M_S=\\frac{-1}{2},M_I=\\frac{1}{2},M_F=0\\rangle\\,$$\\,-\\,0.4952|K=1,M_N=0,M_S=\\frac{-1}{2},M_I=\\frac{1}{2},M_F=0\\rangle\\,$$\\,-\\,0.4952|K=-1,M_N=0,M_S=\\frac{1}{2},M_I=\\frac{-1}{2},M_F=0\\rangle\\,$$\\,-\\,0.5042|K=1,M_N=0,M_S=\\frac{1}{2},M_I=\\frac{-1}{2},M_F=0\\rangle\\,$$\\,+\\,0.0189|K=-1,M_N=1,M_S=\\frac{-1}{2},M_I=\\frac{-1}{2},M_F=0\\rangle\\,$$\\,-\\,0.0144|K=1,M_N=1,M_S=\\frac{-1}{2},M_I=\\frac{-1}{2},M_F=0\\rangle\\,$"
                        ],
                        "text/plain": [
                            "<IPython.core.display.Latex object>"
                        ]
                    },
                    "metadata": {},
                    "output_type": "display_data"
                },
                {
                    "name": "stdout",
                    "output_type": "stream",
                    "text": [
                        "Case A:\n"
                    ]
                },
                {
                    "data": {
                        "text/latex": [
                            "$\\,-\\,0.4106|K=1,Σ=\\frac{-1}{2},P=\\frac{1}{2},M=0\\rangle\\,$$\\,+\\,0.4106|K=-1,Σ=\\frac{1}{2},P=\\frac{-1}{2},M=0\\rangle\\,$$\\,+\\,0.0156|K=1,Σ=\\frac{-1}{2},P=\\frac{1}{2},M=0\\rangle\\,$$\\,+\\,0.0156|K=-1,Σ=\\frac{1}{2},P=\\frac{-1}{2},M=0\\rangle\\,$$\\,-\\,0.0163|K=-1,Σ=\\frac{-1}{2},P=\\frac{-3}{2},M=0\\rangle\\,$$\\,+\\,0.0163|K=1,Σ=\\frac{1}{2},P=\\frac{3}{2},M=0\\rangle\\,$$\\,+\\,0.4981|K=-1,Σ=\\frac{-1}{2},P=\\frac{-3}{2},M=0\\rangle\\,$$\\,+\\,0.2876|K=1,Σ=\\frac{-1}{2},P=\\frac{1}{2},M=0\\rangle\\,$$\\,+\\,0.2876|K=-1,Σ=\\frac{1}{2},P=\\frac{-1}{2},M=0\\rangle\\,$$\\,+\\,0.4981|K=1,Σ=\\frac{1}{2},P=\\frac{3}{2},M=0\\rangle\\,$"
                        ],
                        "text/plain": [
                            "<IPython.core.display.Latex object>"
                        ]
                    },
                    "metadata": {},
                    "output_type": "display_data"
                },
                {
                    "name": "stdout",
                    "output_type": "stream",
                    "text": [
                        "Case B:\n"
                    ]
                },
                {
                    "data": {
                        "text/latex": [
                            "$\\,-\\,0.4106|K=-1,N=1,J=\\frac{1}{2},F=0,M=0\\rangle\\,$$\\,-\\,0.4106|K=1,N=1,J=\\frac{1}{2},F=0,M=0\\rangle\\,$$\\,-\\,0.0156|K=-1,N=1,J=\\frac{1}{2},F=1,M=0\\rangle\\,$$\\,+\\,0.0156|K=1,N=1,J=\\frac{1}{2},F=1,M=0\\rangle\\,$$\\,-\\,0.0188|K=-1,N=1,J=\\frac{3}{2},F=1,M=0\\rangle\\,$$\\,+\\,0.0188|K=1,N=1,J=\\frac{3}{2},F=1,M=0\\rangle\\,$$\\,+\\,0.5752|K=-1,N=1,J=\\frac{3}{2},F=2,M=0\\rangle\\,$$\\,+\\,0.5752|K=1,N=1,J=\\frac{3}{2},F=2,M=0\\rangle\\,$"
                        ],
                        "text/plain": [
                            "<IPython.core.display.Latex object>"
                        ]
                    },
                    "metadata": {},
                    "output_type": "display_data"
                },
                {
                    "name": "stdout",
                    "output_type": "stream",
                    "text": [
                        "\n",
                        "\n"
                    ]
                },
                {
                    "data": {
                        "text/latex": [
                            "$E = 10358.4682\\:\\mathrm{MHz}$"
                        ],
                        "text/plain": [
                            "<IPython.core.display.Latex object>"
                        ]
                    },
                    "metadata": {},
                    "output_type": "display_data"
                },
                {
                    "name": "stdout",
                    "output_type": "stream",
                    "text": [
                        "Decoupled:\n"
                    ]
                },
                {
                    "data": {
                        "text/latex": [
                            "$\\, \\,0.0205|K=-1,M_N=-1,M_S=\\frac{1}{2},M_I=\\frac{1}{2},M_F=0\\rangle\\,$$\\,+\\,0.7064|K=1,M_N=-1,M_S=\\frac{1}{2},M_I=\\frac{1}{2},M_F=0\\rangle\\,$$\\,+\\,0.0241|K=1,M_N=0,M_S=\\frac{-1}{2},M_I=\\frac{1}{2},M_F=0\\rangle\\,$$\\,-\\,0.0241|K=-1,M_N=0,M_S=\\frac{1}{2},M_I=\\frac{-1}{2},M_F=0\\rangle\\,$$\\,-\\,0.7064|K=-1,M_N=1,M_S=\\frac{-1}{2},M_I=\\frac{-1}{2},M_F=0\\rangle\\,$$\\,-\\,0.0205|K=1,M_N=1,M_S=\\frac{-1}{2},M_I=\\frac{-1}{2},M_F=0\\rangle\\,$"
                        ],
                        "text/plain": [
                            "<IPython.core.display.Latex object>"
                        ]
                    },
                    "metadata": {},
                    "output_type": "display_data"
                },
                {
                    "name": "stdout",
                    "output_type": "stream",
                    "text": [
                        "Case A:\n"
                    ]
                },
                {
                    "data": {
                        "text/latex": [
                            "$\\,-\\,0.387|K=1,Σ=\\frac{-1}{2},P=\\frac{1}{2},M=0\\rangle\\,$$\\,-\\,0.387|K=-1,Σ=\\frac{1}{2},P=\\frac{-1}{2},M=0\\rangle\\,$$\\,+\\,0.4089|K=1,Σ=\\frac{-1}{2},P=\\frac{1}{2},M=0\\rangle\\,$$\\,-\\,0.4089|K=-1,Σ=\\frac{1}{2},P=\\frac{-1}{2},M=0\\rangle\\,$$\\,+\\,0.2702|K=-1,Σ=\\frac{-1}{2},P=\\frac{-3}{2},M=0\\rangle\\,$$\\,+\\,0.156|K=1,Σ=\\frac{-1}{2},P=\\frac{1}{2},M=0\\rangle\\,$$\\,+\\,0.156|K=-1,Σ=\\frac{1}{2},P=\\frac{-1}{2},M=0\\rangle\\,$$\\,+\\,0.2702|K=1,Σ=\\frac{1}{2},P=\\frac{3}{2},M=0\\rangle\\,$$\\,+\\,0.2535|K=-1,Σ=\\frac{-1}{2},P=\\frac{-3}{2},M=0\\rangle\\,$$\\,-\\,0.1463|K=1,Σ=\\frac{-1}{2},P=\\frac{1}{2},M=0\\rangle\\,$$\\,+\\,0.1463|K=-1,Σ=\\frac{1}{2},P=\\frac{-1}{2},M=0\\rangle\\,$$\\,-\\,0.2535|K=1,Σ=\\frac{1}{2},P=\\frac{3}{2},M=0\\rangle\\,$"
                        ],
                        "text/plain": [
                            "<IPython.core.display.Latex object>"
                        ]
                    },
                    "metadata": {},
                    "output_type": "display_data"
                },
                {
                    "name": "stdout",
                    "output_type": "stream",
                    "text": [
                        "Case B:\n"
                    ]
                },
                {
                    "data": {
                        "text/latex": [
                            "$\\, \\,0.387|K=-1,N=1,J=\\frac{1}{2},F=0,M=0\\rangle\\,$$\\,-\\,0.387|K=1,N=1,J=\\frac{1}{2},F=0,M=0\\rangle\\,$$\\,+\\,0.4089|K=-1,N=1,J=\\frac{1}{2},F=1,M=0\\rangle\\,$$\\,+\\,0.4089|K=1,N=1,J=\\frac{1}{2},F=1,M=0\\rangle\\,$$\\,+\\,0.312|K=-1,N=1,J=\\frac{3}{2},F=1,M=0\\rangle\\,$$\\,+\\,0.312|K=1,N=1,J=\\frac{3}{2},F=1,M=0\\rangle\\,$$\\,+\\,0.2927|K=-1,N=1,J=\\frac{3}{2},F=2,M=0\\rangle\\,$$\\,-\\,0.2927|K=1,N=1,J=\\frac{3}{2},F=2,M=0\\rangle\\,$"
                        ],
                        "text/plain": [
                            "<IPython.core.display.Latex object>"
                        ]
                    },
                    "metadata": {},
                    "output_type": "display_data"
                },
                {
                    "name": "stdout",
                    "output_type": "stream",
                    "text": [
                        "\n",
                        "\n"
                    ]
                },
                {
                    "data": {
                        "text/latex": [
                            "$E = 10358.4917\\:\\mathrm{MHz}$"
                        ],
                        "text/plain": [
                            "<IPython.core.display.Latex object>"
                        ]
                    },
                    "metadata": {},
                    "output_type": "display_data"
                },
                {
                    "name": "stdout",
                    "output_type": "stream",
                    "text": [
                        "Decoupled:\n"
                    ]
                },
                {
                    "data": {
                        "text/latex": [
                            "$\\,-\\,0.0209|K=-1,M_N=-1,M_S=\\frac{1}{2},M_I=\\frac{1}{2},M_F=0\\rangle\\,$$\\,-\\,0.7064|K=1,M_N=-1,M_S=\\frac{1}{2},M_I=\\frac{1}{2},M_F=0\\rangle\\,$$\\,-\\,0.0241|K=1,M_N=0,M_S=\\frac{-1}{2},M_I=\\frac{1}{2},M_F=0\\rangle\\,$$\\,-\\,0.0241|K=-1,M_N=0,M_S=\\frac{1}{2},M_I=\\frac{-1}{2},M_F=0\\rangle\\,$$\\,-\\,0.7064|K=-1,M_N=1,M_S=\\frac{-1}{2},M_I=\\frac{-1}{2},M_F=0\\rangle\\,$$\\,-\\,0.0209|K=1,M_N=1,M_S=\\frac{-1}{2},M_I=\\frac{-1}{2},M_F=0\\rangle\\,$"
                        ],
                        "text/plain": [
                            "<IPython.core.display.Latex object>"
                        ]
                    },
                    "metadata": {},
                    "output_type": "display_data"
                },
                {
                    "name": "stdout",
                    "output_type": "stream",
                    "text": [
                        "Case A:\n"
                    ]
                },
                {
                    "data": {
                        "text/latex": [
                            "$\\, \\,0.4092|K=1,Σ=\\frac{-1}{2},P=\\frac{1}{2},M=0\\rangle\\,$$\\,-\\,0.4092|K=-1,Σ=\\frac{1}{2},P=\\frac{-1}{2},M=0\\rangle\\,$$\\,-\\,0.3867|K=1,Σ=\\frac{-1}{2},P=\\frac{1}{2},M=0\\rangle\\,$$\\,-\\,0.3867|K=-1,Σ=\\frac{1}{2},P=\\frac{-1}{2},M=0\\rangle\\,$$\\,+\\,0.2534|K=-1,Σ=\\frac{-1}{2},P=\\frac{-3}{2},M=0\\rangle\\,$$\\,-\\,0.1463|K=1,Σ=\\frac{-1}{2},P=\\frac{1}{2},M=0\\rangle\\,$$\\,+\\,0.1463|K=-1,Σ=\\frac{1}{2},P=\\frac{-1}{2},M=0\\rangle\\,$$\\,-\\,0.2534|K=1,Σ=\\frac{1}{2},P=\\frac{3}{2},M=0\\rangle\\,$$\\,+\\,0.2703|K=-1,Σ=\\frac{-1}{2},P=\\frac{-3}{2},M=0\\rangle\\,$$\\,+\\,0.156|K=1,Σ=\\frac{-1}{2},P=\\frac{1}{2},M=0\\rangle\\,$$\\,+\\,0.156|K=-1,Σ=\\frac{1}{2},P=\\frac{-1}{2},M=0\\rangle\\,$$\\,+\\,0.2703|K=1,Σ=\\frac{1}{2},P=\\frac{3}{2},M=0\\rangle\\,$"
                        ],
                        "text/plain": [
                            "<IPython.core.display.Latex object>"
                        ]
                    },
                    "metadata": {},
                    "output_type": "display_data"
                },
                {
                    "name": "stdout",
                    "output_type": "stream",
                    "text": [
                        "Case B:\n"
                    ]
                },
                {
                    "data": {
                        "text/latex": [
                            "$\\, \\,0.4092|K=-1,N=1,J=\\frac{1}{2},F=0,M=0\\rangle\\,$$\\,+\\,0.4092|K=1,N=1,J=\\frac{1}{2},F=0,M=0\\rangle\\,$$\\,+\\,0.3867|K=-1,N=1,J=\\frac{1}{2},F=1,M=0\\rangle\\,$$\\,-\\,0.3867|K=1,N=1,J=\\frac{1}{2},F=1,M=0\\rangle\\,$$\\,+\\,0.2926|K=-1,N=1,J=\\frac{3}{2},F=1,M=0\\rangle\\,$$\\,-\\,0.2926|K=1,N=1,J=\\frac{3}{2},F=1,M=0\\rangle\\,$$\\,+\\,0.3121|K=-1,N=1,J=\\frac{3}{2},F=2,M=0\\rangle\\,$$\\,+\\,0.3121|K=1,N=1,J=\\frac{3}{2},F=2,M=0\\rangle\\,$"
                        ],
                        "text/plain": [
                            "<IPython.core.display.Latex object>"
                        ]
                    },
                    "metadata": {},
                    "output_type": "display_data"
                },
                {
                    "name": "stdout",
                    "output_type": "stream",
                    "text": [
                        "\n",
                        "\n"
                    ]
                }
            ],
            "source": [
                "X010.eigensystem(1000,1e-7)\n",
                "M0_idx = X010.select_q({'M':[0]})\n",
                "print(M0_idx)\n",
                "print('\\n')\n",
                "for i in M0_idx:\n",
                "    display(Latex('$E = '+str(np.round(X010.evals0[i],4))+r'\\:\\mathrm{MHz}$'))\n",
                "    print('Decoupled:')\n",
                "    display(Latex(X010.gen_state_str(i,basis='decoupled',thresh=0.01,label_q=['K','M_N','M_S','M_I','M_F'],round=4)))\n",
                "    print('Case A:')\n",
                "    display(Latex(X010.gen_state_str(i,basis='aBJ',thresh=0.01,label_q=['K','Sigma','P','M'],round=4)))\n",
                "    print('Case B:')\n",
                "    display(Latex(X010.gen_state_str(i,thresh=0.01,round=4)))\n",
                "    print('\\n')"
            ]
        },
        {
            "cell_type": "code",
            "execution_count": 58,
            "id": "7f636ac4",
            "metadata": {},
            "outputs": [],
            "source": [
                "B000.display_levels(1000,1e-7,'F')"
            ]
        },
        {
            "cell_type": "code",
            "execution_count": 10,
            "id": "1769def4",
            "metadata": {},
            "outputs": [
                {
                    "name": "stdout",
                    "output_type": "stream",
                    "text": [
                        "Successfully converted eigenvectors from bBJ to aBJ\n",
                        "Successfully converted eigenvectors from bBJ to aBJ\n"
                    ]
                }
            ],
            "source": [
                "BR1000 = branching_ratios(X010,B000,1000,0)"
            ]
        },
        {
            "cell_type": "code",
            "execution_count": 11,
            "id": "3846b980",
            "metadata": {},
            "outputs": [],
            "source": [
                "def gen_state_str(vector,q_numbers,label_q,thresh=0.02,show_coeff=True):\n",
                "    full_label = r''\n",
                "    nonzero_idx = np.nonzero(vector)[0]\n",
                "    first = 0\n",
                "    for i,index in enumerate(nonzero_idx):\n",
                "        coeff = vector[index]\n",
                "        if abs(coeff) < thresh:\n",
                "            first+=1\n",
                "            continue\n",
                "        sign = {True: '+', False: '-'}[coeff > 0]\n",
                "        sign0 = {True: ' ', False: sign}[sign=='+']\n",
                "        if show_coeff:\n",
                "            label_str = r'${}{}|'.format({True: sign0, False: sign}[i==first],abs(coeff))\n",
                "        else:\n",
                "            label_str = r'${}|'.format({True: sign0, False: sign}[i==first])\n",
                "        val = {q:q_numbers[q][index] for q in label_q}\n",
                "        for q in label_q:\n",
                "            _q = {True: '\\u039B', False: q}[q=='L']\n",
                "            _q = {True: '\\u03A3', False: _q}[q=='Sigma']\n",
                "            _q = {True: '\\u03A9', False: _q}[q=='Omega']\n",
                "            if (abs(val[q]) % 1) !=0:\n",
                "                label_str+=r'{}=\\frac{{{}}}{{{}}},'.format(_q,*val[q].as_integer_ratio())\n",
                "            else:\n",
                "                label_str+=r'{}={},'.format(_q,int(val[q]))\n",
                "        label_str = label_str[:-1]+r'\\rangle$'\n",
                "        full_label+=label_str\n",
                "    if i==first and show_coeff==False:\n",
                "        full_label = r'$'+full_label[2:]\n",
                "    return full_label"
            ]
        },
        {
            "cell_type": "code",
            "execution_count": 60,
            "id": "8f01a740",
            "metadata": {},
            "outputs": [
                {
                    "name": "stderr",
                    "output_type": "stream",
                    "text": [
                        "C:\\ProgramData\\Anaconda3\\lib\\site-packages\\ipykernel_launcher.py:32: MatplotlibDeprecationWarning: Auto-removal of grids by pcolor() and pcolormesh() is deprecated since 3.5 and will be removed two minor releases later; please call grid(False) first.\n"
                    ]
                }
            ],
            "source": [
                "fig,ax = plt.subplots(figsize=(10,10),constrained_layout=True)\n",
                "# ax.set_aspect('equal')\n",
                "log=False\n",
                "BR_plot = TDM\n",
                "if log:\n",
                "    BR_plot=np.log10(BR0)\n",
                "    vmin = -10\n",
                "    vmax = 0\n",
                "else:\n",
                "    vmin=-1\n",
                "    vmax = 1\n",
                "#     log_BR = np.copy(BR0)\n",
                "#     for i,val1 in enumerate(log_BR):\n",
                "#         for j,val2 in enumerate(val1):\n",
                "#             if val2 !=0:\n",
                "#                 log_BR[i,j] = np.log10(val2)\n",
                "#     BR_plot = log_BR\n",
                "mat = ax.matshow(BR_plot,cmap=plt.get_cmap('seismic'),vmax = vmax, vmin = vmin)\n",
                "y = np.arange(0,len(X010.evecs0))\n",
                "x = np.arange(0,len(B000.evecs0))\n",
                "ax.set_yticks(y)\n",
                "ax.set_xticks(x)\n",
                "y_labels = [X010.gen_state_str(i,basis='decoupled',thresh=0.05,round=4,label_q=['K','M_N','M_S','M_I','M_F']) for i in range(y.size)]\n",
                "x_labels = [B000.gen_state_str(i,thresh=0.05,round=4) for i in range(x.size)]\n",
                "ax.set_yticklabels(y_labels, rotation='40', fontsize=12, ha='right')\n",
                "ax.set_xticklabels(x_labels, rotation='40', fontsize=12,ha='left')\n",
                "ax.tick_params(axis='both',labelsize=10,direction='out')\n",
                "ax.grid(True,which='major',color='white',ls='--',linewidth=0.5)\n",
                "ax.grid(False,which='minor')\n",
                "(bot,top) = ax.get_ylim()\n",
                "ax.set_ylim(bot+0.5, top-0.5)\n",
                "cbar = fig.colorbar(mat, ax=ax,fraction=0.015, pad=0.05)\n",
                "#ax.set_xlim(-0.5,x.size+0.5);"
            ]
        },
        {
            "cell_type": "code",
            "execution_count": 59,
            "id": "ce56c835",
            "metadata": {},
            "outputs": [
                {
                    "name": "stdout",
                    "output_type": "stream",
                    "text": [
                        "Successfully converted eigenvectors from bBJ to aBJ\n",
                        "Successfully converted eigenvectors from bBJ to aBJ\n",
                        "Successfully converted eigenvectors from bBJ to aBJ\n",
                        "Successfully converted eigenvectors from bBJ to aBJ\n"
                    ]
                }
            ],
            "source": [
                "TDM = calculate_TDMs(0,X010,B000,E0,B0)"
            ]
        },
        {
            "cell_type": "code",
            "execution_count": 52,
            "id": "a62e38f8",
            "metadata": {},
            "outputs": [
                {
                    "data": {
                        "text/plain": [
                            "(24, 16)"
                        ]
                    },
                    "execution_count": 52,
                    "metadata": {},
                    "output_type": "execute_result"
                }
            ],
            "source": [
                "TDM_0.shape"
            ]
        },
        {
            "cell_type": "code",
            "execution_count": 34,
            "id": "9bac1c6c",
            "metadata": {},
            "outputs": [
                {
                    "name": "stderr",
                    "output_type": "stream",
                    "text": [
                        "C:\\ProgramData\\Anaconda3\\lib\\site-packages\\ipykernel_launcher.py:3: MatplotlibDeprecationWarning: Auto-removal of grids by pcolor() and pcolormesh() is deprecated since 3.5 and will be removed two minor releases later; please call grid(False) first.\n",
                        "  This is separate from the ipykernel package so we can avoid doing imports until\n"
                    ]
                }
            ],
            "source": [
                "fig,ax = plt.subplots(figsize=(10,10),constrained_layout=True)\n",
                "mat = ax.matshow(TDM_0,cmap=plt.get_cmap('magma'))\n",
                "cbar = fig.colorbar(mat, ax=ax,fraction=0.015, pad=0.05)\n",
                "ax.grid(False)"
            ]
        },
        {
            "cell_type": "code",
            "execution_count": 50,
            "id": "f2e3a8b2",
            "metadata": {},
            "outputs": [
                {
                    "data": {
                        "text/plain": [
                            "array([[ 0.     ,  0.     ,  0.     ,  0.     ],\n",
                            "       [ 0.     ,  0.     , -0.4714 ,  0.     ],\n",
                            "       [ 0.     ,  0.     ,  0.     ,  0.4714 ],\n",
                            "       [ 0.     ,  0.     ,  0.     ,  0.     ],\n",
                            "       [ 0.     ,  0.     ,  0.     ,  0.     ],\n",
                            "       [-0.4714 ,  0.     ,  0.     ,  0.     ],\n",
                            "       [ 0.     ,  0.4714 ,  0.     ,  0.     ],\n",
                            "       [ 0.     ,  0.     ,  0.     ,  0.     ],\n",
                            "       [ 0.57735,  0.     ,  0.     ,  0.     ],\n",
                            "       [ 0.33333,  0.     ,  0.     ,  0.     ],\n",
                            "       [ 0.     ,  0.33333,  0.     ,  0.     ],\n",
                            "       [ 0.     ,  0.57735,  0.     ,  0.     ],\n",
                            "       [ 0.     ,  0.     ,  0.57735,  0.     ],\n",
                            "       [ 0.     ,  0.     ,  0.33333,  0.     ],\n",
                            "       [ 0.     ,  0.     ,  0.     ,  0.33333],\n",
                            "       [ 0.     ,  0.     ,  0.     ,  0.57735]])"
                        ]
                    },
                    "execution_count": 50,
                    "metadata": {},
                    "output_type": "execute_result"
                }
            ],
            "source": [
                "TDM_0"
            ]
        },
        {
            "cell_type": "code",
            "execution_count": 28,
            "id": "0dc6103d",
            "metadata": {},
            "outputs": [
                {
                    "data": {
                        "text/plain": [
                            "array([ 2,  3,  8, 11, 12, 15, 18, 19])"
                        ]
                    },
                    "execution_count": 28,
                    "metadata": {},
                    "output_type": "execute_result"
                }
            ],
            "source": [
                "X010.select_q({'M':0})"
            ]
        },
        {
            "cell_type": "code",
            "execution_count": 30,
            "id": "47c6e0cb",
            "metadata": {},
            "outputs": [
                {
                    "data": {
                        "text/plain": [
                            "slice(None, array([0, 2]), None)"
                        ]
                    },
                    "execution_count": 30,
                    "metadata": {},
                    "output_type": "execute_result"
                }
            ],
            "source": [
                "slice(B000.select_q({'M':0}))"
            ]
        },
        {
            "cell_type": "code",
            "execution_count": 32,
            "id": "12995f2d",
            "metadata": {},
            "outputs": [
                {
                    "data": {
                        "text/plain": [
                            "array([[0.],\n",
                            "       [0.],\n",
                            "       [0.],\n",
                            "       [0.],\n",
                            "       [0.],\n",
                            "       [0.]])"
                        ]
                    },
                    "execution_count": 32,
                    "metadata": {},
                    "output_type": "execute_result"
                }
            ],
            "source": [
                "TDM_0[np.ix_(X010.select_q({'M':1}),B000.select_q({'M':1}))]"
            ]
        },
        {
            "cell_type": "code",
            "execution_count": 18,
            "id": "451d5c3e",
            "metadata": {},
            "outputs": [],
            "source": [
                "B0_idx = B000.select_q({'M':[0]})\n",
                "X1_idx = "
            ]
        },
        {
            "cell_type": "code",
            "execution_count": null,
            "id": "f94ef04c",
            "metadata": {},
            "outputs": [],
            "source": []
        }
    ],
    "metadata": {
        "kernelspec": {
            "display_name": "Python 3 (ipykernel)",
            "language": "python",
            "name": "python3"
        },
        "language_info": {
            "codemirror_mode": {
                "name": "ipython",
                "version": 3
            },
            "file_extension": ".py",
            "mimetype": "text/x-python",
            "name": "python",
            "nbconvert_exporter": "python",
            "pygments_lexer": "ipython3",
            "version": "3.8.13"
        }
    },
    "nbformat": 4,
    "nbformat_minor": 5
}