{
    "cells": [
        {
            "cell_type": "code",
            "execution_count": 1,
            "id": "529ac22c",
            "metadata": {},
            "outputs": [],
            "source": [
                "from config_path import add_to_sys_path\n",
                "add_to_sys_path()  # Call the function to add path\n",
                "\n",
                "import numpy as np\n",
                "from sympy.physics.wigner import wigner_3j,wigner_6j\n",
                "import sympy as sy\n",
                "from numpy import linalg as LA\n",
                "from IPython.display import Latex,display\n",
                "import matplotlib.pyplot as plt\n",
                "%matplotlib inline\n",
                "import seaborn as sns\n",
                "sns.set()\n",
                "sns.set_palette('terrain')\n",
                "from molecular_structure import MoleculeLevels\n",
                "np.set_printoptions(precision=5, suppress=True)\n",
                "from energy_levels import branching_ratios, calculate_TDMs\n",
                "\n",
                "%matplotlib qt"
            ]
        },
        {
            "cell_type": "code",
            "execution_count": 2,
            "id": "25199661",
            "metadata": {},
            "outputs": [
                {
                    "name": "stdout",
                    "output_type": "stream",
                    "text": [
                        "[1]\n"
                    ]
                }
            ],
            "source": [
                "N_list = [1]\n",
                "print(N_list)"
            ]
        },
        {
            "cell_type": "code",
            "execution_count": 3,
            "id": "bb41dcad",
            "metadata": {},
            "outputs": [],
            "source": [
                "A000= MoleculeLevels.initialize_state('CaOH','40','A000',[1,2],M_values = 'custom',I=[0,1/2],S=1/2,round=8,M_range=[0],P_values=[1/2,3/2])"
            ]
        },
        {
            "cell_type": "code",
            "execution_count": 60,
            "id": "5d1cc3be",
            "metadata": {},
            "outputs": [],
            "source": [
                "Bz = np.linspace(1e-6,100,3000)\n",
                "Ez = np.linspace(0.0,100,5000)"
            ]
        },
        {
            "cell_type": "code",
            "execution_count": 61,
            "id": "92ee69c7",
            "metadata": {},
            "outputs": [],
            "source": [
                "A000.ZeemanMap(Bz,0,plot=True)"
            ]
        },
        {
            "cell_type": "code",
            "execution_count": 55,
            "id": "6d93bbbe",
            "metadata": {},
            "outputs": [
                {
                    "data": {
                        "text/plain": [
                            "(1032410.0, 1032438.0)"
                        ]
                    },
                    "execution_count": 55,
                    "metadata": {},
                    "output_type": "execute_result"
                }
            ],
            "source": [
                "A000.StarkMap(Ez,1e-6,plot=True)\n",
                "plt.ylim(1.032410e6,1.032438e6)"
            ]
        },
        {
            "cell_type": "code",
            "execution_count": 5,
            "id": "e4226ea2",
            "metadata": {
                "scrolled": true
            },
            "outputs": [
                {
                    "name": "stdout",
                    "output_type": "stream",
                    "text": [
                        "[12 13 14 15 16 17 18 19]\n",
                        "\n",
                        "\n"
                    ]
                },
                {
                    "data": {
                        "text/latex": [
                            "$E = 1032342.1674\\:\\mathrm{MHz}$"
                        ],
                        "text/plain": [
                            "<IPython.core.display.Latex object>"
                        ]
                    },
                    "metadata": {},
                    "output_type": "display_data"
                },
                {
                    "name": "stdout",
                    "output_type": "stream",
                    "text": [
                        "Decoupled:\n"
                    ]
                },
                {
                    "data": {
                        "text/latex": [
                            "$\\, \\,0.3517|K=-1,M_N=-1,M_S=\\frac{1}{2},M_I=\\frac{1}{2},M_F=0\\rangle\\,$$\\,+\\,0.4974|K=-1,M_N=0,M_S=\\frac{-1}{2},M_I=\\frac{1}{2},M_F=0\\rangle\\,$$\\,+\\,0.4974|K=1,M_N=0,M_S=\\frac{1}{2},M_I=\\frac{-1}{2},M_F=0\\rangle\\,$$\\,+\\,0.3517|K=1,M_N=1,M_S=\\frac{-1}{2},M_I=\\frac{-1}{2},M_F=0\\rangle\\,$$\\,-\\,0.2769|K=-1,M_N=-1,M_S=\\frac{1}{2},M_I=\\frac{1}{2},M_F=0\\rangle\\,$$\\,+\\,0.2285|K=-1,M_N=0,M_S=\\frac{-1}{2},M_I=\\frac{1}{2},M_F=0\\rangle\\,$$\\,+\\,0.2285|K=1,M_N=0,M_S=\\frac{1}{2},M_I=\\frac{-1}{2},M_F=0\\rangle\\,$$\\,-\\,0.2769|K=1,M_N=1,M_S=\\frac{-1}{2},M_I=\\frac{-1}{2},M_F=0\\rangle\\,$"
                        ],
                        "text/plain": [
                            "<IPython.core.display.Latex object>"
                        ]
                    },
                    "metadata": {},
                    "output_type": "display_data"
                },
                {
                    "name": "stdout",
                    "output_type": "stream",
                    "text": [
                        "Decoupled with J:\n"
                    ]
                },
                {
                    "data": {
                        "text/latex": [
                            "$\\, \\,0.4996|K=-1,N=1,J=\\frac{3}{2},M_J=\\frac{-1}{2},M_I=\\frac{1}{2},M_F=0\\rangle\\,$$\\,-\\,0.4996|K=1,N=1,J=\\frac{3}{2},M_J=\\frac{1}{2},M_I=\\frac{-1}{2},M_F=0\\rangle\\,$$\\,-\\,0.5003|K=-1,N=2,J=\\frac{3}{2},M_J=\\frac{-1}{2},M_I=\\frac{1}{2},M_F=0\\rangle\\,$$\\,-\\,0.5003|K=1,N=2,J=\\frac{3}{2},M_J=\\frac{1}{2},M_I=\\frac{-1}{2},M_F=0\\rangle\\,$"
                        ],
                        "text/plain": [
                            "<IPython.core.display.Latex object>"
                        ]
                    },
                    "metadata": {},
                    "output_type": "display_data"
                },
                {
                    "name": "stdout",
                    "output_type": "stream",
                    "text": [
                        "Case B:\n"
                    ]
                },
                {
                    "data": {
                        "text/latex": [
                            "$\\, \\,0.4305|K=-1,N=1,J=\\frac{3}{2},F=1,M=0\\rangle\\,$$\\,-\\,0.4305|K=1,N=1,J=\\frac{3}{2},F=1,M=0\\rangle\\,$$\\,-\\,0.431|K=-1,N=1,J=\\frac{3}{2},F=2,M=0\\rangle\\,$$\\,-\\,0.4311|K=1,N=1,J=\\frac{3}{2},F=2,M=0\\rangle\\,$$\\,+\\,0.2537|K=-1,N=2,J=\\frac{3}{2},F=1,M=0\\rangle\\,$$\\,+\\,0.2537|K=1,N=2,J=\\frac{3}{2},F=1,M=0\\rangle\\,$$\\,-\\,0.254|K=-1,N=2,J=\\frac{3}{2},F=2,M=0\\rangle\\,$$\\,+\\,0.254|K=1,N=2,J=\\frac{3}{2},F=2,M=0\\rangle\\,$"
                        ],
                        "text/plain": [
                            "<IPython.core.display.Latex object>"
                        ]
                    },
                    "metadata": {},
                    "output_type": "display_data"
                },
                {
                    "name": "stdout",
                    "output_type": "stream",
                    "text": [
                        "Case A:\n"
                    ]
                },
                {
                    "data": {
                        "text/latex": [
                            "$\\, \\,0.4996|P=\\frac{-3}{2},K=-1,Σ=\\frac{-1}{2},J=\\frac{3}{2},F=1,M=0\\rangle\\,$$\\,-\\,0.4996|P=\\frac{3}{2},K=1,Σ=\\frac{1}{2},J=\\frac{3}{2},F=1,M=0\\rangle\\,$$\\,-\\,0.5003|P=\\frac{-3}{2},K=-1,Σ=\\frac{-1}{2},J=\\frac{3}{2},F=2,M=0\\rangle\\,$$\\,-\\,0.5003|P=\\frac{3}{2},K=1,Σ=\\frac{1}{2},J=\\frac{3}{2},F=2,M=0\\rangle\\,$"
                        ],
                        "text/plain": [
                            "<IPython.core.display.Latex object>"
                        ]
                    },
                    "metadata": {},
                    "output_type": "display_data"
                },
                {
                    "name": "stdout",
                    "output_type": "stream",
                    "text": [
                        "\n",
                        "\n"
                    ]
                },
                {
                    "data": {
                        "text/latex": [
                            "$E = 1032342.1675\\:\\mathrm{MHz}$"
                        ],
                        "text/plain": [
                            "<IPython.core.display.Latex object>"
                        ]
                    },
                    "metadata": {},
                    "output_type": "display_data"
                },
                {
                    "name": "stdout",
                    "output_type": "stream",
                    "text": [
                        "Decoupled:\n"
                    ]
                },
                {
                    "data": {
                        "text/latex": [
                            "$\\, \\,0.3517|K=-1,M_N=-1,M_S=\\frac{1}{2},M_I=\\frac{1}{2},M_F=0\\rangle\\,$$\\,+\\,0.4974|K=-1,M_N=0,M_S=\\frac{-1}{2},M_I=\\frac{1}{2},M_F=0\\rangle\\,$$\\,-\\,0.4974|K=1,M_N=0,M_S=\\frac{1}{2},M_I=\\frac{-1}{2},M_F=0\\rangle\\,$$\\,-\\,0.3517|K=1,M_N=1,M_S=\\frac{-1}{2},M_I=\\frac{-1}{2},M_F=0\\rangle\\,$$\\,-\\,0.2769|K=-1,M_N=-1,M_S=\\frac{1}{2},M_I=\\frac{1}{2},M_F=0\\rangle\\,$$\\,+\\,0.2285|K=-1,M_N=0,M_S=\\frac{-1}{2},M_I=\\frac{1}{2},M_F=0\\rangle\\,$$\\,-\\,0.2285|K=1,M_N=0,M_S=\\frac{1}{2},M_I=\\frac{-1}{2},M_F=0\\rangle\\,$$\\,+\\,0.2769|K=1,M_N=1,M_S=\\frac{-1}{2},M_I=\\frac{-1}{2},M_F=0\\rangle\\,$"
                        ],
                        "text/plain": [
                            "<IPython.core.display.Latex object>"
                        ]
                    },
                    "metadata": {},
                    "output_type": "display_data"
                },
                {
                    "name": "stdout",
                    "output_type": "stream",
                    "text": [
                        "Decoupled with J:\n"
                    ]
                },
                {
                    "data": {
                        "text/latex": [
                            "$\\, \\,0.5003|K=-1,N=1,J=\\frac{3}{2},M_J=\\frac{-1}{2},M_I=\\frac{1}{2},M_F=0\\rangle\\,$$\\,+\\,0.5002|K=1,N=1,J=\\frac{3}{2},M_J=\\frac{1}{2},M_I=\\frac{-1}{2},M_F=0\\rangle\\,$$\\,-\\,0.4997|K=-1,N=2,J=\\frac{3}{2},M_J=\\frac{-1}{2},M_I=\\frac{1}{2},M_F=0\\rangle\\,$$\\,+\\,0.4997|K=1,N=2,J=\\frac{3}{2},M_J=\\frac{1}{2},M_I=\\frac{-1}{2},M_F=0\\rangle\\,$"
                        ],
                        "text/plain": [
                            "<IPython.core.display.Latex object>"
                        ]
                    },
                    "metadata": {},
                    "output_type": "display_data"
                },
                {
                    "name": "stdout",
                    "output_type": "stream",
                    "text": [
                        "Case B:\n"
                    ]
                },
                {
                    "data": {
                        "text/latex": [
                            "$\\, \\,0.431|K=-1,N=1,J=\\frac{3}{2},F=1,M=0\\rangle\\,$$\\,+\\,0.431|K=1,N=1,J=\\frac{3}{2},F=1,M=0\\rangle\\,$$\\,-\\,0.4305|K=-1,N=1,J=\\frac{3}{2},F=2,M=0\\rangle\\,$$\\,+\\,0.4305|K=1,N=1,J=\\frac{3}{2},F=2,M=0\\rangle\\,$$\\,+\\,0.254|K=-1,N=2,J=\\frac{3}{2},F=1,M=0\\rangle\\,$$\\,-\\,0.254|K=1,N=2,J=\\frac{3}{2},F=1,M=0\\rangle\\,$$\\,-\\,0.2537|K=-1,N=2,J=\\frac{3}{2},F=2,M=0\\rangle\\,$$\\,-\\,0.2537|K=1,N=2,J=\\frac{3}{2},F=2,M=0\\rangle\\,$"
                        ],
                        "text/plain": [
                            "<IPython.core.display.Latex object>"
                        ]
                    },
                    "metadata": {},
                    "output_type": "display_data"
                },
                {
                    "name": "stdout",
                    "output_type": "stream",
                    "text": [
                        "Case A:\n"
                    ]
                },
                {
                    "data": {
                        "text/latex": [
                            "$\\, \\,0.5003|P=\\frac{-3}{2},K=-1,Σ=\\frac{-1}{2},J=\\frac{3}{2},F=1,M=0\\rangle\\,$$\\,+\\,0.5002|P=\\frac{3}{2},K=1,Σ=\\frac{1}{2},J=\\frac{3}{2},F=1,M=0\\rangle\\,$$\\,-\\,0.4997|P=\\frac{-3}{2},K=-1,Σ=\\frac{-1}{2},J=\\frac{3}{2},F=2,M=0\\rangle\\,$$\\,+\\,0.4997|P=\\frac{3}{2},K=1,Σ=\\frac{1}{2},J=\\frac{3}{2},F=2,M=0\\rangle\\,$"
                        ],
                        "text/plain": [
                            "<IPython.core.display.Latex object>"
                        ]
                    },
                    "metadata": {},
                    "output_type": "display_data"
                },
                {
                    "name": "stdout",
                    "output_type": "stream",
                    "text": [
                        "\n",
                        "\n"
                    ]
                },
                {
                    "data": {
                        "text/latex": [
                            "$E = 1032510.4985\\:\\mathrm{MHz}$"
                        ],
                        "text/plain": [
                            "<IPython.core.display.Latex object>"
                        ]
                    },
                    "metadata": {},
                    "output_type": "display_data"
                },
                {
                    "name": "stdout",
                    "output_type": "stream",
                    "text": [
                        "Decoupled:\n"
                    ]
                },
                {
                    "data": {
                        "text/latex": [
                            "$\\,-\\,0.3517|K=1,M_N=-1,M_S=\\frac{1}{2},M_I=\\frac{1}{2},M_F=0\\rangle\\,$$\\,-\\,0.4974|K=1,M_N=0,M_S=\\frac{-1}{2},M_I=\\frac{1}{2},M_F=0\\rangle\\,$$\\,+\\,0.4974|K=-1,M_N=0,M_S=\\frac{1}{2},M_I=\\frac{-1}{2},M_F=0\\rangle\\,$$\\,+\\,0.3517|K=-1,M_N=1,M_S=\\frac{-1}{2},M_I=\\frac{-1}{2},M_F=0\\rangle\\,$$\\,-\\,0.2793|K=1,M_N=-1,M_S=\\frac{1}{2},M_I=\\frac{1}{2},M_F=0\\rangle\\,$$\\,+\\,0.2256|K=1,M_N=0,M_S=\\frac{-1}{2},M_I=\\frac{1}{2},M_F=0\\rangle\\,$$\\,-\\,0.2256|K=-1,M_N=0,M_S=\\frac{1}{2},M_I=\\frac{-1}{2},M_F=0\\rangle\\,$$\\,+\\,0.2793|K=-1,M_N=1,M_S=\\frac{-1}{2},M_I=\\frac{-1}{2},M_F=0\\rangle\\,$"
                        ],
                        "text/plain": [
                            "<IPython.core.display.Latex object>"
                        ]
                    },
                    "metadata": {},
                    "output_type": "display_data"
                },
                {
                    "name": "stdout",
                    "output_type": "stream",
                    "text": [
                        "Decoupled with J:\n"
                    ]
                },
                {
                    "data": {
                        "text/latex": [
                            "$\\,-\\,0.4997|K=-1,N=1,J=\\frac{3}{2},M_J=\\frac{-1}{2},M_I=\\frac{1}{2},M_F=0\\rangle\\,$$\\,-\\,0.4997|K=1,N=1,J=\\frac{3}{2},M_J=\\frac{1}{2},M_I=\\frac{-1}{2},M_F=0\\rangle\\,$$\\,-\\,0.5002|K=-1,N=2,J=\\frac{3}{2},M_J=\\frac{-1}{2},M_I=\\frac{1}{2},M_F=0\\rangle\\,$$\\,+\\,0.5003|K=1,N=2,J=\\frac{3}{2},M_J=\\frac{1}{2},M_I=\\frac{-1}{2},M_F=0\\rangle\\,$"
                        ],
                        "text/plain": [
                            "<IPython.core.display.Latex object>"
                        ]
                    },
                    "metadata": {},
                    "output_type": "display_data"
                },
                {
                    "name": "stdout",
                    "output_type": "stream",
                    "text": [
                        "Case B:\n"
                    ]
                },
                {
                    "data": {
                        "text/latex": [
                            "$\\,-\\,0.4305|K=-1,N=1,J=\\frac{3}{2},F=1,M=0\\rangle\\,$$\\,-\\,0.4305|K=1,N=1,J=\\frac{3}{2},F=1,M=0\\rangle\\,$$\\,-\\,0.431|K=-1,N=1,J=\\frac{3}{2},F=2,M=0\\rangle\\,$$\\,+\\,0.431|K=1,N=1,J=\\frac{3}{2},F=2,M=0\\rangle\\,$$\\,-\\,0.2537|K=-1,N=2,J=\\frac{3}{2},F=1,M=0\\rangle\\,$$\\,+\\,0.2537|K=1,N=2,J=\\frac{3}{2},F=1,M=0\\rangle\\,$$\\,-\\,0.254|K=-1,N=2,J=\\frac{3}{2},F=2,M=0\\rangle\\,$$\\,-\\,0.254|K=1,N=2,J=\\frac{3}{2},F=2,M=0\\rangle\\,$"
                        ],
                        "text/plain": [
                            "<IPython.core.display.Latex object>"
                        ]
                    },
                    "metadata": {},
                    "output_type": "display_data"
                },
                {
                    "name": "stdout",
                    "output_type": "stream",
                    "text": [
                        "Case A:\n"
                    ]
                },
                {
                    "data": {
                        "text/latex": [
                            "$\\,-\\,0.4997|P=\\frac{-3}{2},K=-1,Σ=\\frac{-1}{2},J=\\frac{3}{2},F=1,M=0\\rangle\\,$$\\,-\\,0.4997|P=\\frac{3}{2},K=1,Σ=\\frac{1}{2},J=\\frac{3}{2},F=1,M=0\\rangle\\,$$\\,-\\,0.5002|P=\\frac{-3}{2},K=-1,Σ=\\frac{-1}{2},J=\\frac{3}{2},F=2,M=0\\rangle\\,$$\\,+\\,0.5003|P=\\frac{3}{2},K=1,Σ=\\frac{1}{2},J=\\frac{3}{2},F=2,M=0\\rangle\\,$"
                        ],
                        "text/plain": [
                            "<IPython.core.display.Latex object>"
                        ]
                    },
                    "metadata": {},
                    "output_type": "display_data"
                },
                {
                    "name": "stdout",
                    "output_type": "stream",
                    "text": [
                        "\n",
                        "\n"
                    ]
                },
                {
                    "data": {
                        "text/latex": [
                            "$E = 1032510.4985\\:\\mathrm{MHz}$"
                        ],
                        "text/plain": [
                            "<IPython.core.display.Latex object>"
                        ]
                    },
                    "metadata": {},
                    "output_type": "display_data"
                },
                {
                    "name": "stdout",
                    "output_type": "stream",
                    "text": [
                        "Decoupled:\n"
                    ]
                },
                {
                    "data": {
                        "text/latex": [
                            "$\\, \\,0.3517|K=1,M_N=-1,M_S=\\frac{1}{2},M_I=\\frac{1}{2},M_F=0\\rangle\\,$$\\,+\\,0.4974|K=1,M_N=0,M_S=\\frac{-1}{2},M_I=\\frac{1}{2},M_F=0\\rangle\\,$$\\,+\\,0.4974|K=-1,M_N=0,M_S=\\frac{1}{2},M_I=\\frac{-1}{2},M_F=0\\rangle\\,$$\\,+\\,0.3517|K=-1,M_N=1,M_S=\\frac{-1}{2},M_I=\\frac{-1}{2},M_F=0\\rangle\\,$$\\,+\\,0.2793|K=1,M_N=-1,M_S=\\frac{1}{2},M_I=\\frac{1}{2},M_F=0\\rangle\\,$$\\,-\\,0.2256|K=1,M_N=0,M_S=\\frac{-1}{2},M_I=\\frac{1}{2},M_F=0\\rangle\\,$$\\,-\\,0.2256|K=-1,M_N=0,M_S=\\frac{1}{2},M_I=\\frac{-1}{2},M_F=0\\rangle\\,$$\\,+\\,0.2793|K=-1,M_N=1,M_S=\\frac{-1}{2},M_I=\\frac{-1}{2},M_F=0\\rangle\\,$"
                        ],
                        "text/plain": [
                            "<IPython.core.display.Latex object>"
                        ]
                    },
                    "metadata": {},
                    "output_type": "display_data"
                },
                {
                    "name": "stdout",
                    "output_type": "stream",
                    "text": [
                        "Decoupled with J:\n"
                    ]
                },
                {
                    "data": {
                        "text/latex": [
                            "$\\,-\\,0.5003|K=-1,N=1,J=\\frac{3}{2},M_J=\\frac{-1}{2},M_I=\\frac{1}{2},M_F=0\\rangle\\,$$\\,+\\,0.5003|K=1,N=1,J=\\frac{3}{2},M_J=\\frac{1}{2},M_I=\\frac{-1}{2},M_F=0\\rangle\\,$$\\,-\\,0.4996|K=-1,N=2,J=\\frac{3}{2},M_J=\\frac{-1}{2},M_I=\\frac{1}{2},M_F=0\\rangle\\,$$\\,-\\,0.4996|K=1,N=2,J=\\frac{3}{2},M_J=\\frac{1}{2},M_I=\\frac{-1}{2},M_F=0\\rangle\\,$"
                        ],
                        "text/plain": [
                            "<IPython.core.display.Latex object>"
                        ]
                    },
                    "metadata": {},
                    "output_type": "display_data"
                },
                {
                    "name": "stdout",
                    "output_type": "stream",
                    "text": [
                        "Case B:\n"
                    ]
                },
                {
                    "data": {
                        "text/latex": [
                            "$\\,-\\,0.4311|K=-1,N=1,J=\\frac{3}{2},F=1,M=0\\rangle\\,$$\\,+\\,0.431|K=1,N=1,J=\\frac{3}{2},F=1,M=0\\rangle\\,$$\\,-\\,0.4305|K=-1,N=1,J=\\frac{3}{2},F=2,M=0\\rangle\\,$$\\,-\\,0.4305|K=1,N=1,J=\\frac{3}{2},F=2,M=0\\rangle\\,$$\\,-\\,0.254|K=-1,N=2,J=\\frac{3}{2},F=1,M=0\\rangle\\,$$\\,-\\,0.254|K=1,N=2,J=\\frac{3}{2},F=1,M=0\\rangle\\,$$\\,-\\,0.2537|K=-1,N=2,J=\\frac{3}{2},F=2,M=0\\rangle\\,$$\\,+\\,0.2537|K=1,N=2,J=\\frac{3}{2},F=2,M=0\\rangle\\,$"
                        ],
                        "text/plain": [
                            "<IPython.core.display.Latex object>"
                        ]
                    },
                    "metadata": {},
                    "output_type": "display_data"
                },
                {
                    "name": "stdout",
                    "output_type": "stream",
                    "text": [
                        "Case A:\n"
                    ]
                },
                {
                    "data": {
                        "text/latex": [
                            "$\\,-\\,0.5003|P=\\frac{-3}{2},K=-1,Σ=\\frac{-1}{2},J=\\frac{3}{2},F=1,M=0\\rangle\\,$$\\,+\\,0.5003|P=\\frac{3}{2},K=1,Σ=\\frac{1}{2},J=\\frac{3}{2},F=1,M=0\\rangle\\,$$\\,-\\,0.4996|P=\\frac{-3}{2},K=-1,Σ=\\frac{-1}{2},J=\\frac{3}{2},F=2,M=0\\rangle\\,$$\\,-\\,0.4996|P=\\frac{3}{2},K=1,Σ=\\frac{1}{2},J=\\frac{3}{2},F=2,M=0\\rangle\\,$"
                        ],
                        "text/plain": [
                            "<IPython.core.display.Latex object>"
                        ]
                    },
                    "metadata": {},
                    "output_type": "display_data"
                },
                {
                    "name": "stdout",
                    "output_type": "stream",
                    "text": [
                        "\n",
                        "\n"
                    ]
                },
                {
                    "data": {
                        "text/latex": [
                            "$E = 1083802.7764\\:\\mathrm{MHz}$"
                        ],
                        "text/plain": [
                            "<IPython.core.display.Latex object>"
                        ]
                    },
                    "metadata": {},
                    "output_type": "display_data"
                },
                {
                    "name": "stdout",
                    "output_type": "stream",
                    "text": [
                        "Decoupled:\n"
                    ]
                },
                {
                    "data": {
                        "text/latex": [
                            "$\\, \\,0.5549|K=-1,M_N=-1,M_S=\\frac{1}{2},M_I=\\frac{1}{2},M_F=0\\rangle\\,$$\\,+\\,0.6767|K=-1,M_N=0,M_S=\\frac{-1}{2},M_I=\\frac{1}{2},M_F=0\\rangle\\,$$\\,+\\,0.6767|K=1,M_N=0,M_S=\\frac{1}{2},M_I=\\frac{-1}{2},M_F=0\\rangle\\,$$\\,+\\,0.5549|K=1,M_N=1,M_S=\\frac{-1}{2},M_I=\\frac{-1}{2},M_F=0\\rangle\\,$"
                        ],
                        "text/plain": [
                            "<IPython.core.display.Latex object>"
                        ]
                    },
                    "metadata": {},
                    "output_type": "display_data"
                },
                {
                    "name": "stdout",
                    "output_type": "stream",
                    "text": [
                        "Decoupled with J:\n"
                    ]
                },
                {
                    "ename": "IndexError",
                    "evalue": "list index out of range",
                    "output_type": "error",
                    "traceback": [
                        "\u001b[1;31m---------------------------------------------------------------------------\u001b[0m",
                        "\u001b[1;31mIndexError\u001b[0m                                Traceback (most recent call last)",
                        "\u001b[1;32m~\\AppData\\Local\\Temp/ipykernel_9328/1406708127.py\u001b[0m in \u001b[0;36m<module>\u001b[1;34m\u001b[0m\n\u001b[0;32m      8\u001b[0m     \u001b[0mdisplay\u001b[0m\u001b[1;33m(\u001b[0m\u001b[0mLatex\u001b[0m\u001b[1;33m(\u001b[0m\u001b[0mA000\u001b[0m\u001b[1;33m.\u001b[0m\u001b[0mgen_state_str\u001b[0m\u001b[1;33m(\u001b[0m\u001b[0mi\u001b[0m\u001b[1;33m,\u001b[0m\u001b[0mbasis\u001b[0m\u001b[1;33m=\u001b[0m\u001b[1;34m'decoupled'\u001b[0m\u001b[1;33m,\u001b[0m\u001b[0mthresh\u001b[0m\u001b[1;33m=\u001b[0m\u001b[1;36m0.01\u001b[0m\u001b[1;33m,\u001b[0m\u001b[0mlabel_q\u001b[0m\u001b[1;33m=\u001b[0m\u001b[1;33m[\u001b[0m\u001b[1;34m'K'\u001b[0m\u001b[1;33m,\u001b[0m\u001b[1;34m'M_N'\u001b[0m\u001b[1;33m,\u001b[0m\u001b[1;34m'M_S'\u001b[0m\u001b[1;33m,\u001b[0m\u001b[1;34m'M_I'\u001b[0m\u001b[1;33m,\u001b[0m\u001b[1;34m'M_F'\u001b[0m\u001b[1;33m]\u001b[0m\u001b[1;33m,\u001b[0m\u001b[0mround\u001b[0m\u001b[1;33m=\u001b[0m\u001b[1;36m4\u001b[0m\u001b[1;33m)\u001b[0m\u001b[1;33m)\u001b[0m\u001b[1;33m)\u001b[0m\u001b[1;33m\u001b[0m\u001b[1;33m\u001b[0m\u001b[0m\n\u001b[0;32m      9\u001b[0m     \u001b[0mprint\u001b[0m\u001b[1;33m(\u001b[0m\u001b[1;34m'Decoupled with J:'\u001b[0m\u001b[1;33m)\u001b[0m\u001b[1;33m\u001b[0m\u001b[1;33m\u001b[0m\u001b[0m\n\u001b[1;32m---> 10\u001b[1;33m     \u001b[0mdisplay\u001b[0m\u001b[1;33m(\u001b[0m\u001b[0mLatex\u001b[0m\u001b[1;33m(\u001b[0m\u001b[0mA000\u001b[0m\u001b[1;33m.\u001b[0m\u001b[0mgen_state_str\u001b[0m\u001b[1;33m(\u001b[0m\u001b[0mi\u001b[0m\u001b[1;33m,\u001b[0m\u001b[0mbasis\u001b[0m\u001b[1;33m=\u001b[0m\u001b[1;34m'recoupled_J'\u001b[0m\u001b[1;33m,\u001b[0m\u001b[0mthresh\u001b[0m\u001b[1;33m=\u001b[0m\u001b[1;36m0.01\u001b[0m\u001b[1;33m,\u001b[0m\u001b[0mlabel_q\u001b[0m\u001b[1;33m=\u001b[0m\u001b[1;33m[\u001b[0m\u001b[1;34m'K'\u001b[0m\u001b[1;33m,\u001b[0m\u001b[1;34m'N'\u001b[0m\u001b[1;33m,\u001b[0m\u001b[1;34m'J'\u001b[0m\u001b[1;33m,\u001b[0m\u001b[1;34m'M_J'\u001b[0m\u001b[1;33m,\u001b[0m\u001b[1;34m'M_I'\u001b[0m\u001b[1;33m,\u001b[0m\u001b[1;34m'M_F'\u001b[0m\u001b[1;33m]\u001b[0m\u001b[1;33m,\u001b[0m\u001b[0mround\u001b[0m\u001b[1;33m=\u001b[0m\u001b[1;36m4\u001b[0m\u001b[1;33m)\u001b[0m\u001b[1;33m)\u001b[0m\u001b[1;33m)\u001b[0m\u001b[1;33m\u001b[0m\u001b[1;33m\u001b[0m\u001b[0m\n\u001b[0m\u001b[0;32m     11\u001b[0m     \u001b[0mprint\u001b[0m\u001b[1;33m(\u001b[0m\u001b[1;34m'Case B:'\u001b[0m\u001b[1;33m)\u001b[0m\u001b[1;33m\u001b[0m\u001b[1;33m\u001b[0m\u001b[0m\n\u001b[0;32m     12\u001b[0m     \u001b[0mdisplay\u001b[0m\u001b[1;33m(\u001b[0m\u001b[0mLatex\u001b[0m\u001b[1;33m(\u001b[0m\u001b[0mA000\u001b[0m\u001b[1;33m.\u001b[0m\u001b[0mgen_state_str\u001b[0m\u001b[1;33m(\u001b[0m\u001b[0mi\u001b[0m\u001b[1;33m,\u001b[0m\u001b[0mbasis\u001b[0m\u001b[1;33m=\u001b[0m\u001b[1;34m'bBJ'\u001b[0m\u001b[1;33m,\u001b[0m\u001b[0mthresh\u001b[0m\u001b[1;33m=\u001b[0m\u001b[1;36m0.01\u001b[0m\u001b[1;33m,\u001b[0m\u001b[0mlabel_q\u001b[0m\u001b[1;33m=\u001b[0m\u001b[1;33m[\u001b[0m\u001b[1;34m'K'\u001b[0m\u001b[1;33m,\u001b[0m\u001b[1;34m'N'\u001b[0m\u001b[1;33m,\u001b[0m\u001b[1;34m'J'\u001b[0m\u001b[1;33m,\u001b[0m\u001b[1;34m'F'\u001b[0m\u001b[1;33m,\u001b[0m\u001b[1;34m'M'\u001b[0m\u001b[1;33m]\u001b[0m\u001b[1;33m,\u001b[0m\u001b[0mround\u001b[0m\u001b[1;33m=\u001b[0m\u001b[1;36m4\u001b[0m\u001b[1;33m)\u001b[0m\u001b[1;33m)\u001b[0m\u001b[1;33m)\u001b[0m\u001b[1;33m\u001b[0m\u001b[1;33m\u001b[0m\u001b[0m\n",
                        "\u001b[1;32m~\\Dropbox (Hutzler Lab)\\HutzlerLabShared\\Personal\\ArianJadbabaie\\Code\\Molecular-Structure\\energy_levels.py\u001b[0m in \u001b[0;36mgen_state_str\u001b[1;34m(self, vector_idx, evecs, basis, label_q, thresh, show_coeff, new_line, round, frac)\u001b[0m\n\u001b[0;32m    645\u001b[0m             \u001b[1;32mif\u001b[0m \u001b[0mnew_line\u001b[0m\u001b[1;33m:\u001b[0m\u001b[1;33m\u001b[0m\u001b[1;33m\u001b[0m\u001b[0m\n\u001b[0;32m    646\u001b[0m                 \u001b[0mlabel_str\u001b[0m \u001b[1;33m=\u001b[0m \u001b[1;34mr'$'\u001b[0m\u001b[1;33m+\u001b[0m\u001b[0mlabel_str\u001b[0m\u001b[1;33m\u001b[0m\u001b[1;33m\u001b[0m\u001b[0m\n\u001b[1;32m--> 647\u001b[1;33m             \u001b[0mval\u001b[0m \u001b[1;33m=\u001b[0m \u001b[1;33m{\u001b[0m\u001b[0mq\u001b[0m\u001b[1;33m:\u001b[0m\u001b[0mq_numbers\u001b[0m\u001b[1;33m[\u001b[0m\u001b[0mq\u001b[0m\u001b[1;33m]\u001b[0m\u001b[1;33m[\u001b[0m\u001b[0mindex\u001b[0m\u001b[1;33m]\u001b[0m \u001b[1;32mfor\u001b[0m \u001b[0mq\u001b[0m \u001b[1;32min\u001b[0m \u001b[0mlabel_q\u001b[0m\u001b[1;33m}\u001b[0m\u001b[1;33m\u001b[0m\u001b[1;33m\u001b[0m\u001b[0m\n\u001b[0m\u001b[0;32m    648\u001b[0m             \u001b[1;32mfor\u001b[0m \u001b[0mq\u001b[0m \u001b[1;32min\u001b[0m \u001b[0mlabel_q\u001b[0m\u001b[1;33m:\u001b[0m\u001b[1;33m\u001b[0m\u001b[1;33m\u001b[0m\u001b[0m\n\u001b[0;32m    649\u001b[0m                 \u001b[0m_q\u001b[0m \u001b[1;33m=\u001b[0m \u001b[1;33m{\u001b[0m\u001b[1;32mTrue\u001b[0m\u001b[1;33m:\u001b[0m \u001b[1;34m'\\u039B'\u001b[0m\u001b[1;33m,\u001b[0m \u001b[1;32mFalse\u001b[0m\u001b[1;33m:\u001b[0m \u001b[0mq\u001b[0m\u001b[1;33m}\u001b[0m\u001b[1;33m[\u001b[0m\u001b[0mq\u001b[0m\u001b[1;33m==\u001b[0m\u001b[1;34m'L'\u001b[0m\u001b[1;33m]\u001b[0m\u001b[1;33m\u001b[0m\u001b[1;33m\u001b[0m\u001b[0m\n",
                        "\u001b[1;32m~\\Dropbox (Hutzler Lab)\\HutzlerLabShared\\Personal\\ArianJadbabaie\\Code\\Molecular-Structure\\energy_levels.py\u001b[0m in \u001b[0;36m<dictcomp>\u001b[1;34m(.0)\u001b[0m\n\u001b[0;32m    645\u001b[0m             \u001b[1;32mif\u001b[0m \u001b[0mnew_line\u001b[0m\u001b[1;33m:\u001b[0m\u001b[1;33m\u001b[0m\u001b[1;33m\u001b[0m\u001b[0m\n\u001b[0;32m    646\u001b[0m                 \u001b[0mlabel_str\u001b[0m \u001b[1;33m=\u001b[0m \u001b[1;34mr'$'\u001b[0m\u001b[1;33m+\u001b[0m\u001b[0mlabel_str\u001b[0m\u001b[1;33m\u001b[0m\u001b[1;33m\u001b[0m\u001b[0m\n\u001b[1;32m--> 647\u001b[1;33m             \u001b[0mval\u001b[0m \u001b[1;33m=\u001b[0m \u001b[1;33m{\u001b[0m\u001b[0mq\u001b[0m\u001b[1;33m:\u001b[0m\u001b[0mq_numbers\u001b[0m\u001b[1;33m[\u001b[0m\u001b[0mq\u001b[0m\u001b[1;33m]\u001b[0m\u001b[1;33m[\u001b[0m\u001b[0mindex\u001b[0m\u001b[1;33m]\u001b[0m \u001b[1;32mfor\u001b[0m \u001b[0mq\u001b[0m \u001b[1;32min\u001b[0m \u001b[0mlabel_q\u001b[0m\u001b[1;33m}\u001b[0m\u001b[1;33m\u001b[0m\u001b[1;33m\u001b[0m\u001b[0m\n\u001b[0m\u001b[0;32m    648\u001b[0m             \u001b[1;32mfor\u001b[0m \u001b[0mq\u001b[0m \u001b[1;32min\u001b[0m \u001b[0mlabel_q\u001b[0m\u001b[1;33m:\u001b[0m\u001b[1;33m\u001b[0m\u001b[1;33m\u001b[0m\u001b[0m\n\u001b[0;32m    649\u001b[0m                 \u001b[0m_q\u001b[0m \u001b[1;33m=\u001b[0m \u001b[1;33m{\u001b[0m\u001b[1;32mTrue\u001b[0m\u001b[1;33m:\u001b[0m \u001b[1;34m'\\u039B'\u001b[0m\u001b[1;33m,\u001b[0m \u001b[1;32mFalse\u001b[0m\u001b[1;33m:\u001b[0m \u001b[0mq\u001b[0m\u001b[1;33m}\u001b[0m\u001b[1;33m[\u001b[0m\u001b[0mq\u001b[0m\u001b[1;33m==\u001b[0m\u001b[1;34m'L'\u001b[0m\u001b[1;33m]\u001b[0m\u001b[1;33m\u001b[0m\u001b[1;33m\u001b[0m\u001b[0m\n",
                        "\u001b[1;31mIndexError\u001b[0m: list index out of range"
                    ]
                }
            ],
            "source": [
                "A000.eigensystem(1000,0)\n",
                "M_idx = A000.select_q({'M':[0],'P':[3/2,-3/2]})\n",
                "print(M_idx)\n",
                "print('\\n')\n",
                "for i in M_idx:\n",
                "    display(Latex('$E = '+str(np.round(A000.evals0[i],4))+r'\\:\\mathrm{MHz}$'))\n",
                "    print('Decoupled:')\n",
                "    display(Latex(A000.gen_state_str(i,basis='decoupled',thresh=0.01,label_q=['K','M_N','M_S','M_I','M_F'],round=4)))\n",
                "    print('Decoupled with J:')\n",
                "    display(Latex(A000.gen_state_str(i,basis='recoupled_J',thresh=0.01,label_q=['K','N','J','M_J','M_I','M_F'],round=4)))\n",
                "    print('Case B:')\n",
                "    display(Latex(A000.gen_state_str(i,basis='bBJ',thresh=0.01,label_q=['K','N','J','F','M'],round=4)))\n",
                "    print('Case A:')\n",
                "    display(Latex(A000.gen_state_str(i,thresh=0.01,label_q=['P','K','Sigma','J','F','M'],round=4)))\n",
                "    print('\\n')"
            ]
        },
        {
            "cell_type": "code",
            "execution_count": 5,
            "id": "818327ff",
            "metadata": {},
            "outputs": [],
            "source": [
                "X010= MoleculeLevels.initialize_state('CaOH','40','X010',[1],M_values = 'all',I=[0,1/2],S=1/2,round=8)"
            ]
        },
        {
            "cell_type": "code",
            "execution_count": 17,
            "id": "68341dc7",
            "metadata": {
                "scrolled": true
            },
            "outputs": [
                {
                    "name": "stdout",
                    "output_type": "stream",
                    "text": [
                        "[ 2  3  8 11 12 15 18 19]\n",
                        "\n",
                        "\n"
                    ]
                },
                {
                    "data": {
                        "text/latex": [
                            "$E = 9618.8716\\:\\mathrm{MHz}$"
                        ],
                        "text/plain": [
                            "<IPython.core.display.Latex object>"
                        ]
                    },
                    "metadata": {},
                    "output_type": "display_data"
                },
                {
                    "name": "stdout",
                    "output_type": "stream",
                    "text": [
                        "Decoupled:\n"
                    ]
                },
                {
                    "data": {
                        "text/latex": [
                            "$\\,-\\,0.7064|K=-1,M_N=-1,M_S=\\frac{1}{2},M_I=\\frac{1}{2},M_F=0\\rangle\\,$$\\,+\\,0.0209|K=1,M_N=-1,M_S=\\frac{1}{2},M_I=\\frac{1}{2},M_F=0\\rangle\\,$$\\,+\\,0.0232|K=-1,M_N=0,M_S=\\frac{-1}{2},M_I=\\frac{1}{2},M_F=0\\rangle\\,$$\\,+\\,0.0232|K=1,M_N=0,M_S=\\frac{1}{2},M_I=\\frac{-1}{2},M_F=0\\rangle\\,$$\\,+\\,0.0209|K=-1,M_N=1,M_S=\\frac{-1}{2},M_I=\\frac{-1}{2},M_F=0\\rangle\\,$$\\,-\\,0.7064|K=1,M_N=1,M_S=\\frac{-1}{2},M_I=\\frac{-1}{2},M_F=0\\rangle\\,$"
                        ],
                        "text/plain": [
                            "<IPython.core.display.Latex object>"
                        ]
                    },
                    "metadata": {},
                    "output_type": "display_data"
                },
                {
                    "name": "stdout",
                    "output_type": "stream",
                    "text": [
                        "Case A:\n"
                    ]
                },
                {
                    "data": {
                        "text/latex": [
                            "$\\, \\,0.4043|K=1,Σ=\\frac{-1}{2},P=\\frac{1}{2},M=0\\rangle\\,$$\\,-\\,0.4043|K=-1,Σ=\\frac{1}{2},P=\\frac{-1}{2},M=0\\rangle\\,$$\\,+\\,0.4303|K=1,Σ=\\frac{-1}{2},P=\\frac{1}{2},M=0\\rangle\\,$$\\,+\\,0.4303|K=-1,Σ=\\frac{1}{2},P=\\frac{-1}{2},M=0\\rangle\\,$$\\,-\\,0.2444|K=-1,Σ=\\frac{-1}{2},P=\\frac{-3}{2},M=0\\rangle\\,$$\\,+\\,0.1411|K=1,Σ=\\frac{-1}{2},P=\\frac{1}{2},M=0\\rangle\\,$$\\,-\\,0.1411|K=-1,Σ=\\frac{1}{2},P=\\frac{-1}{2},M=0\\rangle\\,$$\\,+\\,0.2444|K=1,Σ=\\frac{1}{2},P=\\frac{3}{2},M=0\\rangle\\,$$\\,+\\,0.2319|K=-1,Σ=\\frac{-1}{2},P=\\frac{-3}{2},M=0\\rangle\\,$$\\,+\\,0.1339|K=1,Σ=\\frac{-1}{2},P=\\frac{1}{2},M=0\\rangle\\,$$\\,+\\,0.1339|K=-1,Σ=\\frac{1}{2},P=\\frac{-1}{2},M=0\\rangle\\,$$\\,+\\,0.2319|K=1,Σ=\\frac{1}{2},P=\\frac{3}{2},M=0\\rangle\\,$"
                        ],
                        "text/plain": [
                            "<IPython.core.display.Latex object>"
                        ]
                    },
                    "metadata": {},
                    "output_type": "display_data"
                },
                {
                    "name": "stdout",
                    "output_type": "stream",
                    "text": [
                        "Case B:\n"
                    ]
                },
                {
                    "data": {
                        "text/latex": [
                            "$\\, \\,0.4043|K=-1,N=1,J=\\frac{1}{2},F=0,M=0\\rangle\\,$$\\,+\\,0.4043|K=1,N=1,J=\\frac{1}{2},F=0,M=0\\rangle\\,$$\\,-\\,0.4303|K=-1,N=1,J=\\frac{1}{2},F=1,M=0\\rangle\\,$$\\,+\\,0.4303|K=1,N=1,J=\\frac{1}{2},F=1,M=0\\rangle\\,$$\\,-\\,0.2823|K=-1,N=1,J=\\frac{3}{2},F=1,M=0\\rangle\\,$$\\,+\\,0.2823|K=1,N=1,J=\\frac{3}{2},F=1,M=0\\rangle\\,$$\\,+\\,0.2677|K=-1,N=1,J=\\frac{3}{2},F=2,M=0\\rangle\\,$$\\,+\\,0.2677|K=1,N=1,J=\\frac{3}{2},F=2,M=0\\rangle\\,$"
                        ],
                        "text/plain": [
                            "<IPython.core.display.Latex object>"
                        ]
                    },
                    "metadata": {},
                    "output_type": "display_data"
                },
                {
                    "name": "stdout",
                    "output_type": "stream",
                    "text": [
                        "\n",
                        "\n"
                    ]
                },
                {
                    "data": {
                        "text/latex": [
                            "$E = 9618.8973\\:\\mathrm{MHz}$"
                        ],
                        "text/plain": [
                            "<IPython.core.display.Latex object>"
                        ]
                    },
                    "metadata": {},
                    "output_type": "display_data"
                },
                {
                    "name": "stdout",
                    "output_type": "stream",
                    "text": [
                        "Decoupled:\n"
                    ]
                },
                {
                    "data": {
                        "text/latex": [
                            "$\\, \\,0.7064|K=-1,M_N=-1,M_S=\\frac{1}{2},M_I=\\frac{1}{2},M_F=0\\rangle\\,$$\\,-\\,0.0205|K=1,M_N=-1,M_S=\\frac{1}{2},M_I=\\frac{1}{2},M_F=0\\rangle\\,$$\\,-\\,0.0232|K=-1,M_N=0,M_S=\\frac{-1}{2},M_I=\\frac{1}{2},M_F=0\\rangle\\,$$\\,+\\,0.0232|K=1,M_N=0,M_S=\\frac{1}{2},M_I=\\frac{-1}{2},M_F=0\\rangle\\,$$\\,+\\,0.0205|K=-1,M_N=1,M_S=\\frac{-1}{2},M_I=\\frac{-1}{2},M_F=0\\rangle\\,$$\\,-\\,0.7064|K=1,M_N=1,M_S=\\frac{-1}{2},M_I=\\frac{-1}{2},M_F=0\\rangle\\,$"
                        ],
                        "text/plain": [
                            "<IPython.core.display.Latex object>"
                        ]
                    },
                    "metadata": {},
                    "output_type": "display_data"
                },
                {
                    "name": "stdout",
                    "output_type": "stream",
                    "text": [
                        "Case A:\n"
                    ]
                },
                {
                    "data": {
                        "text/latex": [
                            "$\\, \\,0.4299|K=1,Σ=\\frac{-1}{2},P=\\frac{1}{2},M=0\\rangle\\,$$\\,+\\,0.4299|K=-1,Σ=\\frac{1}{2},P=\\frac{-1}{2},M=0\\rangle\\,$$\\,+\\,0.4047|K=1,Σ=\\frac{-1}{2},P=\\frac{1}{2},M=0\\rangle\\,$$\\,-\\,0.4047|K=-1,Σ=\\frac{1}{2},P=\\frac{-1}{2},M=0\\rangle\\,$$\\,+\\,0.2318|K=-1,Σ=\\frac{-1}{2},P=\\frac{-3}{2},M=0\\rangle\\,$$\\,+\\,0.1338|K=1,Σ=\\frac{-1}{2},P=\\frac{1}{2},M=0\\rangle\\,$$\\,+\\,0.1338|K=-1,Σ=\\frac{1}{2},P=\\frac{-1}{2},M=0\\rangle\\,$$\\,+\\,0.2318|K=1,Σ=\\frac{1}{2},P=\\frac{3}{2},M=0\\rangle\\,$$\\,-\\,0.2446|K=-1,Σ=\\frac{-1}{2},P=\\frac{-3}{2},M=0\\rangle\\,$$\\,+\\,0.1412|K=1,Σ=\\frac{-1}{2},P=\\frac{1}{2},M=0\\rangle\\,$$\\,-\\,0.1412|K=-1,Σ=\\frac{1}{2},P=\\frac{-1}{2},M=0\\rangle\\,$$\\,+\\,0.2446|K=1,Σ=\\frac{1}{2},P=\\frac{3}{2},M=0\\rangle\\,$"
                        ],
                        "text/plain": [
                            "<IPython.core.display.Latex object>"
                        ]
                    },
                    "metadata": {},
                    "output_type": "display_data"
                },
                {
                    "name": "stdout",
                    "output_type": "stream",
                    "text": [
                        "Case B:\n"
                    ]
                },
                {
                    "data": {
                        "text/latex": [
                            "$\\,-\\,0.4299|K=-1,N=1,J=\\frac{1}{2},F=0,M=0\\rangle\\,$$\\,+\\,0.4299|K=1,N=1,J=\\frac{1}{2},F=0,M=0\\rangle\\,$$\\,+\\,0.4047|K=-1,N=1,J=\\frac{1}{2},F=1,M=0\\rangle\\,$$\\,+\\,0.4047|K=1,N=1,J=\\frac{1}{2},F=1,M=0\\rangle\\,$$\\,+\\,0.2677|K=-1,N=1,J=\\frac{3}{2},F=1,M=0\\rangle\\,$$\\,+\\,0.2677|K=1,N=1,J=\\frac{3}{2},F=1,M=0\\rangle\\,$$\\,-\\,0.2824|K=-1,N=1,J=\\frac{3}{2},F=2,M=0\\rangle\\,$$\\,+\\,0.2824|K=1,N=1,J=\\frac{3}{2},F=2,M=0\\rangle\\,$"
                        ],
                        "text/plain": [
                            "<IPython.core.display.Latex object>"
                        ]
                    },
                    "metadata": {},
                    "output_type": "display_data"
                },
                {
                    "name": "stdout",
                    "output_type": "stream",
                    "text": [
                        "\n",
                        "\n"
                    ]
                },
                {
                    "data": {
                        "text/latex": [
                            "$E = 9973.1897\\:\\mathrm{MHz}$"
                        ],
                        "text/plain": [
                            "<IPython.core.display.Latex object>"
                        ]
                    },
                    "metadata": {},
                    "output_type": "display_data"
                },
                {
                    "name": "stdout",
                    "output_type": "stream",
                    "text": [
                        "Decoupled:\n"
                    ]
                },
                {
                    "data": {
                        "text/latex": [
                            "$\\, \\,0.0183|K=-1,M_N=-1,M_S=\\frac{1}{2},M_I=\\frac{1}{2},M_F=0\\rangle\\,$$\\,+\\,0.0152|K=1,M_N=-1,M_S=\\frac{1}{2},M_I=\\frac{1}{2},M_F=0\\rangle\\,$$\\,+\\,0.4952|K=-1,M_N=0,M_S=\\frac{-1}{2},M_I=\\frac{1}{2},M_F=0\\rangle\\,$$\\,-\\,0.5042|K=1,M_N=0,M_S=\\frac{-1}{2},M_I=\\frac{1}{2},M_F=0\\rangle\\,$$\\,-\\,0.5042|K=-1,M_N=0,M_S=\\frac{1}{2},M_I=\\frac{-1}{2},M_F=0\\rangle\\,$$\\,+\\,0.4952|K=1,M_N=0,M_S=\\frac{1}{2},M_I=\\frac{-1}{2},M_F=0\\rangle\\,$$\\,+\\,0.0152|K=-1,M_N=1,M_S=\\frac{-1}{2},M_I=\\frac{-1}{2},M_F=0\\rangle\\,$$\\,+\\,0.0183|K=1,M_N=1,M_S=\\frac{-1}{2},M_I=\\frac{-1}{2},M_F=0\\rangle\\,$"
                        ],
                        "text/plain": [
                            "<IPython.core.display.Latex object>"
                        ]
                    },
                    "metadata": {},
                    "output_type": "display_data"
                },
                {
                    "name": "stdout",
                    "output_type": "stream",
                    "text": [
                        "Case A:\n"
                    ]
                },
                {
                    "data": {
                        "text/latex": [
                            "$\\,-\\,0.023|K=1,Σ=\\frac{-1}{2},P=\\frac{1}{2},M=0\\rangle\\,$$\\,+\\,0.023|K=-1,Σ=\\frac{1}{2},P=\\frac{-1}{2},M=0\\rangle\\,$$\\,+\\,0.4062|K=1,Σ=\\frac{-1}{2},P=\\frac{1}{2},M=0\\rangle\\,$$\\,+\\,0.4062|K=-1,Σ=\\frac{1}{2},P=\\frac{-1}{2},M=0\\rangle\\,$$\\,+\\,0.5008|K=-1,Σ=\\frac{-1}{2},P=\\frac{-3}{2},M=0\\rangle\\,$$\\,-\\,0.2891|K=1,Σ=\\frac{-1}{2},P=\\frac{1}{2},M=0\\rangle\\,$$\\,+\\,0.2891|K=-1,Σ=\\frac{1}{2},P=\\frac{-1}{2},M=0\\rangle\\,$$\\,-\\,0.5008|K=1,Σ=\\frac{1}{2},P=\\frac{3}{2},M=0\\rangle\\,$"
                        ],
                        "text/plain": [
                            "<IPython.core.display.Latex object>"
                        ]
                    },
                    "metadata": {},
                    "output_type": "display_data"
                },
                {
                    "name": "stdout",
                    "output_type": "stream",
                    "text": [
                        "Case B:\n"
                    ]
                },
                {
                    "data": {
                        "text/latex": [
                            "$\\,-\\,0.023|K=-1,N=1,J=\\frac{1}{2},F=0,M=0\\rangle\\,$$\\,-\\,0.023|K=1,N=1,J=\\frac{1}{2},F=0,M=0\\rangle\\,$$\\,-\\,0.4062|K=-1,N=1,J=\\frac{1}{2},F=1,M=0\\rangle\\,$$\\,+\\,0.4062|K=1,N=1,J=\\frac{1}{2},F=1,M=0\\rangle\\,$$\\,+\\,0.5783|K=-1,N=1,J=\\frac{3}{2},F=1,M=0\\rangle\\,$$\\,-\\,0.5783|K=1,N=1,J=\\frac{3}{2},F=1,M=0\\rangle\\,$"
                        ],
                        "text/plain": [
                            "<IPython.core.display.Latex object>"
                        ]
                    },
                    "metadata": {},
                    "output_type": "display_data"
                },
                {
                    "name": "stdout",
                    "output_type": "stream",
                    "text": [
                        "\n",
                        "\n"
                    ]
                },
                {
                    "data": {
                        "text/latex": [
                            "$E = 9975.9236\\:\\mathrm{MHz}$"
                        ],
                        "text/plain": [
                            "<IPython.core.display.Latex object>"
                        ]
                    },
                    "metadata": {},
                    "output_type": "display_data"
                },
                {
                    "name": "stdout",
                    "output_type": "stream",
                    "text": [
                        "Decoupled:\n"
                    ]
                },
                {
                    "data": {
                        "text/latex": [
                            "$\\,-\\,0.0179|K=-1,M_N=-1,M_S=\\frac{1}{2},M_I=\\frac{1}{2},M_F=0\\rangle\\,$$\\,-\\,0.0152|K=1,M_N=-1,M_S=\\frac{1}{2},M_I=\\frac{1}{2},M_F=0\\rangle\\,$$\\,-\\,0.4946|K=-1,M_N=0,M_S=\\frac{-1}{2},M_I=\\frac{1}{2},M_F=0\\rangle\\,$$\\,+\\,0.5048|K=1,M_N=0,M_S=\\frac{-1}{2},M_I=\\frac{1}{2},M_F=0\\rangle\\,$$\\,-\\,0.5048|K=-1,M_N=0,M_S=\\frac{1}{2},M_I=\\frac{-1}{2},M_F=0\\rangle\\,$$\\,+\\,0.4946|K=1,M_N=0,M_S=\\frac{1}{2},M_I=\\frac{-1}{2},M_F=0\\rangle\\,$$\\,+\\,0.0152|K=-1,M_N=1,M_S=\\frac{-1}{2},M_I=\\frac{-1}{2},M_F=0\\rangle\\,$$\\,+\\,0.0179|K=1,M_N=1,M_S=\\frac{-1}{2},M_I=\\frac{-1}{2},M_F=0\\rangle\\,$"
                        ],
                        "text/plain": [
                            "<IPython.core.display.Latex object>"
                        ]
                    },
                    "metadata": {},
                    "output_type": "display_data"
                },
                {
                    "name": "stdout",
                    "output_type": "stream",
                    "text": [
                        "Case A:\n"
                    ]
                },
                {
                    "data": {
                        "text/latex": [
                            "$\\, \\,0.4064|K=1,Σ=\\frac{-1}{2},P=\\frac{1}{2},M=0\\rangle\\,$$\\,+\\,0.4064|K=-1,Σ=\\frac{1}{2},P=\\frac{-1}{2},M=0\\rangle\\,$$\\,-\\,0.0233|K=1,Σ=\\frac{-1}{2},P=\\frac{1}{2},M=0\\rangle\\,$$\\,+\\,0.0233|K=-1,Σ=\\frac{1}{2},P=\\frac{-1}{2},M=0\\rangle\\,$$\\,+\\,0.5007|K=-1,Σ=\\frac{-1}{2},P=\\frac{-3}{2},M=0\\rangle\\,$$\\,-\\,0.2891|K=1,Σ=\\frac{-1}{2},P=\\frac{1}{2},M=0\\rangle\\,$$\\,+\\,0.2891|K=-1,Σ=\\frac{1}{2},P=\\frac{-1}{2},M=0\\rangle\\,$$\\,-\\,0.5007|K=1,Σ=\\frac{1}{2},P=\\frac{3}{2},M=0\\rangle\\,$"
                        ],
                        "text/plain": [
                            "<IPython.core.display.Latex object>"
                        ]
                    },
                    "metadata": {},
                    "output_type": "display_data"
                },
                {
                    "name": "stdout",
                    "output_type": "stream",
                    "text": [
                        "Case B:\n"
                    ]
                },
                {
                    "data": {
                        "text/latex": [
                            "$\\,-\\,0.4064|K=-1,N=1,J=\\frac{1}{2},F=0,M=0\\rangle\\,$$\\,+\\,0.4064|K=1,N=1,J=\\frac{1}{2},F=0,M=0\\rangle\\,$$\\,-\\,0.0233|K=-1,N=1,J=\\frac{1}{2},F=1,M=0\\rangle\\,$$\\,-\\,0.0233|K=1,N=1,J=\\frac{1}{2},F=1,M=0\\rangle\\,$$\\,+\\,0.5781|K=-1,N=1,J=\\frac{3}{2},F=2,M=0\\rangle\\,$$\\,-\\,0.5781|K=1,N=1,J=\\frac{3}{2},F=2,M=0\\rangle\\,$"
                        ],
                        "text/plain": [
                            "<IPython.core.display.Latex object>"
                        ]
                    },
                    "metadata": {},
                    "output_type": "display_data"
                },
                {
                    "name": "stdout",
                    "output_type": "stream",
                    "text": [
                        "\n",
                        "\n"
                    ]
                },
                {
                    "data": {
                        "text/latex": [
                            "$E = 10016.3978\\:\\mathrm{MHz}$"
                        ],
                        "text/plain": [
                            "<IPython.core.display.Latex object>"
                        ]
                    },
                    "metadata": {},
                    "output_type": "display_data"
                },
                {
                    "name": "stdout",
                    "output_type": "stream",
                    "text": [
                        "Decoupled:\n"
                    ]
                },
                {
                    "data": {
                        "text/latex": [
                            "$\\,-\\,0.0148|K=-1,M_N=-1,M_S=\\frac{1}{2},M_I=\\frac{1}{2},M_F=0\\rangle\\,$$\\,+\\,0.0189|K=1,M_N=-1,M_S=\\frac{1}{2},M_I=\\frac{1}{2},M_F=0\\rangle\\,$$\\,-\\,0.5048|K=-1,M_N=0,M_S=\\frac{-1}{2},M_I=\\frac{1}{2},M_F=0\\rangle\\,$$\\,-\\,0.4946|K=1,M_N=0,M_S=\\frac{-1}{2},M_I=\\frac{1}{2},M_F=0\\rangle\\,$$\\,+\\,0.4946|K=-1,M_N=0,M_S=\\frac{1}{2},M_I=\\frac{-1}{2},M_F=0\\rangle\\,$$\\,+\\,0.5048|K=1,M_N=0,M_S=\\frac{1}{2},M_I=\\frac{-1}{2},M_F=0\\rangle\\,$$\\,-\\,0.0189|K=-1,M_N=1,M_S=\\frac{-1}{2},M_I=\\frac{-1}{2},M_F=0\\rangle\\,$$\\,+\\,0.0148|K=1,M_N=1,M_S=\\frac{-1}{2},M_I=\\frac{-1}{2},M_F=0\\rangle\\,$"
                        ],
                        "text/plain": [
                            "<IPython.core.display.Latex object>"
                        ]
                    },
                    "metadata": {},
                    "output_type": "display_data"
                },
                {
                    "name": "stdout",
                    "output_type": "stream",
                    "text": [
                        "Case A:\n"
                    ]
                },
                {
                    "data": {
                        "text/latex": [
                            "$\\,-\\,0.0153|K=1,Σ=\\frac{-1}{2},P=\\frac{1}{2},M=0\\rangle\\,$$\\,-\\,0.0153|K=-1,Σ=\\frac{1}{2},P=\\frac{-1}{2},M=0\\rangle\\,$$\\,+\\,0.4104|K=1,Σ=\\frac{-1}{2},P=\\frac{1}{2},M=0\\rangle\\,$$\\,-\\,0.4104|K=-1,Σ=\\frac{1}{2},P=\\frac{-1}{2},M=0\\rangle\\,$$\\,-\\,0.4982|K=-1,Σ=\\frac{-1}{2},P=\\frac{-3}{2},M=0\\rangle\\,$$\\,-\\,0.2876|K=1,Σ=\\frac{-1}{2},P=\\frac{1}{2},M=0\\rangle\\,$$\\,-\\,0.2876|K=-1,Σ=\\frac{1}{2},P=\\frac{-1}{2},M=0\\rangle\\,$$\\,-\\,0.4982|K=1,Σ=\\frac{1}{2},P=\\frac{3}{2},M=0\\rangle\\,$$\\,+\\,0.017|K=-1,Σ=\\frac{-1}{2},P=\\frac{-3}{2},M=0\\rangle\\,$$\\,-\\,0.017|K=1,Σ=\\frac{1}{2},P=\\frac{3}{2},M=0\\rangle\\,$"
                        ],
                        "text/plain": [
                            "<IPython.core.display.Latex object>"
                        ]
                    },
                    "metadata": {},
                    "output_type": "display_data"
                },
                {
                    "name": "stdout",
                    "output_type": "stream",
                    "text": [
                        "Case B:\n"
                    ]
                },
                {
                    "data": {
                        "text/latex": [
                            "$\\, \\,0.0153|K=-1,N=1,J=\\frac{1}{2},F=0,M=0\\rangle\\,$$\\,-\\,0.0153|K=1,N=1,J=\\frac{1}{2},F=0,M=0\\rangle\\,$$\\,+\\,0.4104|K=-1,N=1,J=\\frac{1}{2},F=1,M=0\\rangle\\,$$\\,+\\,0.4104|K=1,N=1,J=\\frac{1}{2},F=1,M=0\\rangle\\,$$\\,-\\,0.5753|K=-1,N=1,J=\\frac{3}{2},F=1,M=0\\rangle\\,$$\\,-\\,0.5753|K=1,N=1,J=\\frac{3}{2},F=1,M=0\\rangle\\,$$\\,+\\,0.0196|K=-1,N=1,J=\\frac{3}{2},F=2,M=0\\rangle\\,$$\\,-\\,0.0196|K=1,N=1,J=\\frac{3}{2},F=2,M=0\\rangle\\,$"
                        ],
                        "text/plain": [
                            "<IPython.core.display.Latex object>"
                        ]
                    },
                    "metadata": {},
                    "output_type": "display_data"
                },
                {
                    "name": "stdout",
                    "output_type": "stream",
                    "text": [
                        "\n",
                        "\n"
                    ]
                },
                {
                    "data": {
                        "text/latex": [
                            "$E = 10019.134\\:\\mathrm{MHz}$"
                        ],
                        "text/plain": [
                            "<IPython.core.display.Latex object>"
                        ]
                    },
                    "metadata": {},
                    "output_type": "display_data"
                },
                {
                    "name": "stdout",
                    "output_type": "stream",
                    "text": [
                        "Decoupled:\n"
                    ]
                },
                {
                    "data": {
                        "text/latex": [
                            "$\\,-\\,0.0144|K=-1,M_N=-1,M_S=\\frac{1}{2},M_I=\\frac{1}{2},M_F=0\\rangle\\,$$\\,+\\,0.0189|K=1,M_N=-1,M_S=\\frac{1}{2},M_I=\\frac{1}{2},M_F=0\\rangle\\,$$\\,-\\,0.5042|K=-1,M_N=0,M_S=\\frac{-1}{2},M_I=\\frac{1}{2},M_F=0\\rangle\\,$$\\,-\\,0.4952|K=1,M_N=0,M_S=\\frac{-1}{2},M_I=\\frac{1}{2},M_F=0\\rangle\\,$$\\,-\\,0.4952|K=-1,M_N=0,M_S=\\frac{1}{2},M_I=\\frac{-1}{2},M_F=0\\rangle\\,$$\\,-\\,0.5042|K=1,M_N=0,M_S=\\frac{1}{2},M_I=\\frac{-1}{2},M_F=0\\rangle\\,$$\\,+\\,0.0189|K=-1,M_N=1,M_S=\\frac{-1}{2},M_I=\\frac{-1}{2},M_F=0\\rangle\\,$$\\,-\\,0.0144|K=1,M_N=1,M_S=\\frac{-1}{2},M_I=\\frac{-1}{2},M_F=0\\rangle\\,$"
                        ],
                        "text/plain": [
                            "<IPython.core.display.Latex object>"
                        ]
                    },
                    "metadata": {},
                    "output_type": "display_data"
                },
                {
                    "name": "stdout",
                    "output_type": "stream",
                    "text": [
                        "Case A:\n"
                    ]
                },
                {
                    "data": {
                        "text/latex": [
                            "$\\,-\\,0.4106|K=1,Σ=\\frac{-1}{2},P=\\frac{1}{2},M=0\\rangle\\,$$\\,+\\,0.4106|K=-1,Σ=\\frac{1}{2},P=\\frac{-1}{2},M=0\\rangle\\,$$\\,+\\,0.0156|K=1,Σ=\\frac{-1}{2},P=\\frac{1}{2},M=0\\rangle\\,$$\\,+\\,0.0156|K=-1,Σ=\\frac{1}{2},P=\\frac{-1}{2},M=0\\rangle\\,$$\\,-\\,0.0163|K=-1,Σ=\\frac{-1}{2},P=\\frac{-3}{2},M=0\\rangle\\,$$\\,+\\,0.0163|K=1,Σ=\\frac{1}{2},P=\\frac{3}{2},M=0\\rangle\\,$$\\,+\\,0.4981|K=-1,Σ=\\frac{-1}{2},P=\\frac{-3}{2},M=0\\rangle\\,$$\\,+\\,0.2876|K=1,Σ=\\frac{-1}{2},P=\\frac{1}{2},M=0\\rangle\\,$$\\,+\\,0.2876|K=-1,Σ=\\frac{1}{2},P=\\frac{-1}{2},M=0\\rangle\\,$$\\,+\\,0.4981|K=1,Σ=\\frac{1}{2},P=\\frac{3}{2},M=0\\rangle\\,$"
                        ],
                        "text/plain": [
                            "<IPython.core.display.Latex object>"
                        ]
                    },
                    "metadata": {},
                    "output_type": "display_data"
                },
                {
                    "name": "stdout",
                    "output_type": "stream",
                    "text": [
                        "Case B:\n"
                    ]
                },
                {
                    "data": {
                        "text/latex": [
                            "$\\,-\\,0.4106|K=-1,N=1,J=\\frac{1}{2},F=0,M=0\\rangle\\,$$\\,-\\,0.4106|K=1,N=1,J=\\frac{1}{2},F=0,M=0\\rangle\\,$$\\,-\\,0.0156|K=-1,N=1,J=\\frac{1}{2},F=1,M=0\\rangle\\,$$\\,+\\,0.0156|K=1,N=1,J=\\frac{1}{2},F=1,M=0\\rangle\\,$$\\,-\\,0.0188|K=-1,N=1,J=\\frac{3}{2},F=1,M=0\\rangle\\,$$\\,+\\,0.0188|K=1,N=1,J=\\frac{3}{2},F=1,M=0\\rangle\\,$$\\,+\\,0.5752|K=-1,N=1,J=\\frac{3}{2},F=2,M=0\\rangle\\,$$\\,+\\,0.5752|K=1,N=1,J=\\frac{3}{2},F=2,M=0\\rangle\\,$"
                        ],
                        "text/plain": [
                            "<IPython.core.display.Latex object>"
                        ]
                    },
                    "metadata": {},
                    "output_type": "display_data"
                },
                {
                    "name": "stdout",
                    "output_type": "stream",
                    "text": [
                        "\n",
                        "\n"
                    ]
                },
                {
                    "data": {
                        "text/latex": [
                            "$E = 10358.4682\\:\\mathrm{MHz}$"
                        ],
                        "text/plain": [
                            "<IPython.core.display.Latex object>"
                        ]
                    },
                    "metadata": {},
                    "output_type": "display_data"
                },
                {
                    "name": "stdout",
                    "output_type": "stream",
                    "text": [
                        "Decoupled:\n"
                    ]
                },
                {
                    "data": {
                        "text/latex": [
                            "$\\, \\,0.0205|K=-1,M_N=-1,M_S=\\frac{1}{2},M_I=\\frac{1}{2},M_F=0\\rangle\\,$$\\,+\\,0.7064|K=1,M_N=-1,M_S=\\frac{1}{2},M_I=\\frac{1}{2},M_F=0\\rangle\\,$$\\,+\\,0.0241|K=1,M_N=0,M_S=\\frac{-1}{2},M_I=\\frac{1}{2},M_F=0\\rangle\\,$$\\,-\\,0.0241|K=-1,M_N=0,M_S=\\frac{1}{2},M_I=\\frac{-1}{2},M_F=0\\rangle\\,$$\\,-\\,0.7064|K=-1,M_N=1,M_S=\\frac{-1}{2},M_I=\\frac{-1}{2},M_F=0\\rangle\\,$$\\,-\\,0.0205|K=1,M_N=1,M_S=\\frac{-1}{2},M_I=\\frac{-1}{2},M_F=0\\rangle\\,$"
                        ],
                        "text/plain": [
                            "<IPython.core.display.Latex object>"
                        ]
                    },
                    "metadata": {},
                    "output_type": "display_data"
                },
                {
                    "name": "stdout",
                    "output_type": "stream",
                    "text": [
                        "Case A:\n"
                    ]
                },
                {
                    "data": {
                        "text/latex": [
                            "$\\,-\\,0.387|K=1,Σ=\\frac{-1}{2},P=\\frac{1}{2},M=0\\rangle\\,$$\\,-\\,0.387|K=-1,Σ=\\frac{1}{2},P=\\frac{-1}{2},M=0\\rangle\\,$$\\,+\\,0.4089|K=1,Σ=\\frac{-1}{2},P=\\frac{1}{2},M=0\\rangle\\,$$\\,-\\,0.4089|K=-1,Σ=\\frac{1}{2},P=\\frac{-1}{2},M=0\\rangle\\,$$\\,+\\,0.2702|K=-1,Σ=\\frac{-1}{2},P=\\frac{-3}{2},M=0\\rangle\\,$$\\,+\\,0.156|K=1,Σ=\\frac{-1}{2},P=\\frac{1}{2},M=0\\rangle\\,$$\\,+\\,0.156|K=-1,Σ=\\frac{1}{2},P=\\frac{-1}{2},M=0\\rangle\\,$$\\,+\\,0.2702|K=1,Σ=\\frac{1}{2},P=\\frac{3}{2},M=0\\rangle\\,$$\\,+\\,0.2535|K=-1,Σ=\\frac{-1}{2},P=\\frac{-3}{2},M=0\\rangle\\,$$\\,-\\,0.1463|K=1,Σ=\\frac{-1}{2},P=\\frac{1}{2},M=0\\rangle\\,$$\\,+\\,0.1463|K=-1,Σ=\\frac{1}{2},P=\\frac{-1}{2},M=0\\rangle\\,$$\\,-\\,0.2535|K=1,Σ=\\frac{1}{2},P=\\frac{3}{2},M=0\\rangle\\,$"
                        ],
                        "text/plain": [
                            "<IPython.core.display.Latex object>"
                        ]
                    },
                    "metadata": {},
                    "output_type": "display_data"
                },
                {
                    "name": "stdout",
                    "output_type": "stream",
                    "text": [
                        "Case B:\n"
                    ]
                },
                {
                    "data": {
                        "text/latex": [
                            "$\\, \\,0.387|K=-1,N=1,J=\\frac{1}{2},F=0,M=0\\rangle\\,$$\\,-\\,0.387|K=1,N=1,J=\\frac{1}{2},F=0,M=0\\rangle\\,$$\\,+\\,0.4089|K=-1,N=1,J=\\frac{1}{2},F=1,M=0\\rangle\\,$$\\,+\\,0.4089|K=1,N=1,J=\\frac{1}{2},F=1,M=0\\rangle\\,$$\\,+\\,0.312|K=-1,N=1,J=\\frac{3}{2},F=1,M=0\\rangle\\,$$\\,+\\,0.312|K=1,N=1,J=\\frac{3}{2},F=1,M=0\\rangle\\,$$\\,+\\,0.2927|K=-1,N=1,J=\\frac{3}{2},F=2,M=0\\rangle\\,$$\\,-\\,0.2927|K=1,N=1,J=\\frac{3}{2},F=2,M=0\\rangle\\,$"
                        ],
                        "text/plain": [
                            "<IPython.core.display.Latex object>"
                        ]
                    },
                    "metadata": {},
                    "output_type": "display_data"
                },
                {
                    "name": "stdout",
                    "output_type": "stream",
                    "text": [
                        "\n",
                        "\n"
                    ]
                },
                {
                    "data": {
                        "text/latex": [
                            "$E = 10358.4917\\:\\mathrm{MHz}$"
                        ],
                        "text/plain": [
                            "<IPython.core.display.Latex object>"
                        ]
                    },
                    "metadata": {},
                    "output_type": "display_data"
                },
                {
                    "name": "stdout",
                    "output_type": "stream",
                    "text": [
                        "Decoupled:\n"
                    ]
                },
                {
                    "data": {
                        "text/latex": [
                            "$\\,-\\,0.0209|K=-1,M_N=-1,M_S=\\frac{1}{2},M_I=\\frac{1}{2},M_F=0\\rangle\\,$$\\,-\\,0.7064|K=1,M_N=-1,M_S=\\frac{1}{2},M_I=\\frac{1}{2},M_F=0\\rangle\\,$$\\,-\\,0.0241|K=1,M_N=0,M_S=\\frac{-1}{2},M_I=\\frac{1}{2},M_F=0\\rangle\\,$$\\,-\\,0.0241|K=-1,M_N=0,M_S=\\frac{1}{2},M_I=\\frac{-1}{2},M_F=0\\rangle\\,$$\\,-\\,0.7064|K=-1,M_N=1,M_S=\\frac{-1}{2},M_I=\\frac{-1}{2},M_F=0\\rangle\\,$$\\,-\\,0.0209|K=1,M_N=1,M_S=\\frac{-1}{2},M_I=\\frac{-1}{2},M_F=0\\rangle\\,$"
                        ],
                        "text/plain": [
                            "<IPython.core.display.Latex object>"
                        ]
                    },
                    "metadata": {},
                    "output_type": "display_data"
                },
                {
                    "name": "stdout",
                    "output_type": "stream",
                    "text": [
                        "Case A:\n"
                    ]
                },
                {
                    "data": {
                        "text/latex": [
                            "$\\, \\,0.4092|K=1,Σ=\\frac{-1}{2},P=\\frac{1}{2},M=0\\rangle\\,$$\\,-\\,0.4092|K=-1,Σ=\\frac{1}{2},P=\\frac{-1}{2},M=0\\rangle\\,$$\\,-\\,0.3867|K=1,Σ=\\frac{-1}{2},P=\\frac{1}{2},M=0\\rangle\\,$$\\,-\\,0.3867|K=-1,Σ=\\frac{1}{2},P=\\frac{-1}{2},M=0\\rangle\\,$$\\,+\\,0.2534|K=-1,Σ=\\frac{-1}{2},P=\\frac{-3}{2},M=0\\rangle\\,$$\\,-\\,0.1463|K=1,Σ=\\frac{-1}{2},P=\\frac{1}{2},M=0\\rangle\\,$$\\,+\\,0.1463|K=-1,Σ=\\frac{1}{2},P=\\frac{-1}{2},M=0\\rangle\\,$$\\,-\\,0.2534|K=1,Σ=\\frac{1}{2},P=\\frac{3}{2},M=0\\rangle\\,$$\\,+\\,0.2703|K=-1,Σ=\\frac{-1}{2},P=\\frac{-3}{2},M=0\\rangle\\,$$\\,+\\,0.156|K=1,Σ=\\frac{-1}{2},P=\\frac{1}{2},M=0\\rangle\\,$$\\,+\\,0.156|K=-1,Σ=\\frac{1}{2},P=\\frac{-1}{2},M=0\\rangle\\,$$\\,+\\,0.2703|K=1,Σ=\\frac{1}{2},P=\\frac{3}{2},M=0\\rangle\\,$"
                        ],
                        "text/plain": [
                            "<IPython.core.display.Latex object>"
                        ]
                    },
                    "metadata": {},
                    "output_type": "display_data"
                },
                {
                    "name": "stdout",
                    "output_type": "stream",
                    "text": [
                        "Case B:\n"
                    ]
                },
                {
                    "data": {
                        "text/latex": [
                            "$\\, \\,0.4092|K=-1,N=1,J=\\frac{1}{2},F=0,M=0\\rangle\\,$$\\,+\\,0.4092|K=1,N=1,J=\\frac{1}{2},F=0,M=0\\rangle\\,$$\\,+\\,0.3867|K=-1,N=1,J=\\frac{1}{2},F=1,M=0\\rangle\\,$$\\,-\\,0.3867|K=1,N=1,J=\\frac{1}{2},F=1,M=0\\rangle\\,$$\\,+\\,0.2926|K=-1,N=1,J=\\frac{3}{2},F=1,M=0\\rangle\\,$$\\,-\\,0.2926|K=1,N=1,J=\\frac{3}{2},F=1,M=0\\rangle\\,$$\\,+\\,0.3121|K=-1,N=1,J=\\frac{3}{2},F=2,M=0\\rangle\\,$$\\,+\\,0.3121|K=1,N=1,J=\\frac{3}{2},F=2,M=0\\rangle\\,$"
                        ],
                        "text/plain": [
                            "<IPython.core.display.Latex object>"
                        ]
                    },
                    "metadata": {},
                    "output_type": "display_data"
                },
                {
                    "name": "stdout",
                    "output_type": "stream",
                    "text": [
                        "\n",
                        "\n"
                    ]
                }
            ],
            "source": [
                "X010.eigensystem(1000,1e-7)\n",
                "M0_idx = X010.select_q({'M':[0]})\n",
                "print(M0_idx)\n",
                "print('\\n')\n",
                "for i in M0_idx:\n",
                "    display(Latex('$E = '+str(np.round(X010.evals0[i],4))+r'\\:\\mathrm{MHz}$'))\n",
                "    print('Decoupled:')\n",
                "    display(Latex(X010.gen_state_str(i,basis='decoupled',thresh=0.01,label_q=['K','M_N','M_S','M_I','M_F'],round=4)))\n",
                "    print('Case A:')\n",
                "    display(Latex(X010.gen_state_str(i,basis='aBJ',thresh=0.01,label_q=['K','Sigma','P','M'],round=4)))\n",
                "    print('Case B:')\n",
                "    display(Latex(X010.gen_state_str(i,thresh=0.01,round=4)))\n",
                "    print('\\n')"
            ]
        },
        {
            "cell_type": "code",
            "execution_count": 22,
            "id": "7f636ac4",
            "metadata": {},
            "outputs": [],
            "source": [
                "A000.display_levels(1000,1e-7,'F',idx=M_idx)"
            ]
        },
        {
            "cell_type": "code",
            "execution_count": 6,
            "id": "1769def4",
            "metadata": {},
            "outputs": [
                {
                    "name": "stdout",
                    "output_type": "stream",
                    "text": [
                        "Successfully converted eigenvectors from bBJ to aBJ\n"
                    ]
                }
            ],
            "source": [
                "BR1000 = branching_ratios(X010,A000,1000,1e-6)"
            ]
        },
        {
            "cell_type": "code",
            "execution_count": 6,
            "id": "0457ff66",
            "metadata": {},
            "outputs": [
                {
                    "name": "stdout",
                    "output_type": "stream",
                    "text": [
                        "Successfully converted eigenvectors from bBJ to aBJ\n",
                        "Successfully converted eigenvectors from bBJ to aBJ\n"
                    ]
                }
            ],
            "source": [
                "TDM = calculate_TDMs(1,X010,A000,1000,1e-7)+calculate_TDMs(-1,X010,A000,1000,1e-7)"
            ]
        },
        {
            "cell_type": "code",
            "execution_count": 8,
            "id": "3846b980",
            "metadata": {},
            "outputs": [],
            "source": [
                "def gen_state_str(vector,q_numbers,label_q,thresh=0.02,show_coeff=True):\n",
                "    full_label = r''\n",
                "    nonzero_idx = np.nonzero(vector)[0]\n",
                "    first = 0\n",
                "    for i,index in enumerate(nonzero_idx):\n",
                "        coeff = vector[index]\n",
                "        if abs(coeff) < thresh:\n",
                "            first+=1\n",
                "            continue\n",
                "        sign = {True: '+', False: '-'}[coeff > 0]\n",
                "        sign0 = {True: ' ', False: sign}[sign=='+']\n",
                "        if show_coeff:\n",
                "            label_str = r'${}{}|'.format({True: sign0, False: sign}[i==first],abs(coeff))\n",
                "        else:\n",
                "            label_str = r'${}|'.format({True: sign0, False: sign}[i==first])\n",
                "        val = {q:q_numbers[q][index] for q in label_q}\n",
                "        for q in label_q:\n",
                "            _q = {True: '\\u039B', False: q}[q=='L']\n",
                "            _q = {True: '\\u03A3', False: _q}[q=='Sigma']\n",
                "            _q = {True: '\\u03A9', False: _q}[q=='Omega']\n",
                "            if (abs(val[q]) % 1) !=0:\n",
                "                label_str+=r'{}=\\frac{{{}}}{{{}}},'.format(_q,*val[q].as_integer_ratio())\n",
                "            else:\n",
                "                label_str+=r'{}={},'.format(_q,int(val[q]))\n",
                "        label_str = label_str[:-1]+r'\\rangle$'\n",
                "        full_label+=label_str\n",
                "    if i==first and show_coeff==False:\n",
                "        full_label = r'$'+full_label[2:]\n",
                "    return full_label"
            ]
        },
        {
            "cell_type": "code",
            "execution_count": 11,
            "id": "8f01a740",
            "metadata": {},
            "outputs": [
                {
                    "name": "stderr",
                    "output_type": "stream",
                    "text": [
                        "C:\\Users\\ajadbaba\\AppData\\Local\\Temp/ipykernel_7232/4122328236.py:32: MatplotlibDeprecationWarning: Auto-removal of grids by pcolor() and pcolormesh() is deprecated since 3.5 and will be removed two minor releases later; please call grid(False) first.\n",
                        "  cbar = fig.colorbar(mat, ax=ax,fraction=0.015, pad=0.05)\n"
                    ]
                }
            ],
            "source": [
                "fig,ax = plt.subplots(figsize=(10,10),constrained_layout=True)\n",
                "# ax.set_aspect('equal')\n",
                "log=False\n",
                "BR_plot = TDM\n",
                "if log:\n",
                "    BR_plot=np.log10(BR0)\n",
                "    vmin = -10\n",
                "    vmax = 0\n",
                "else:\n",
                "    vmin=-0.5\n",
                "    vmax = 0.5\n",
                "#     log_BR = np.copy(BR0)\n",
                "#     for i,val1 in enumerate(log_BR):\n",
                "#         for j,val2 in enumerate(val1):\n",
                "#             if val2 !=0:\n",
                "#                 log_BR[i,j] = np.log10(val2)\n",
                "#     BR_plot = log_BR\n",
                "mat = ax.matshow(BR_plot,cmap=plt.get_cmap('seismic'),vmax = vmax, vmin = vmin)\n",
                "y = np.arange(0,len(X010.evecs0))\n",
                "x = np.arange(0,len(A000.evecs0))\n",
                "ax.set_yticks(y)\n",
                "ax.set_xticks(x)\n",
                "y_labels = [X010.gen_state_str(i,basis='decoupled',thresh=0.05,round=4,label_q=['K','M_N','M_S','M_I','M_F']) for i in range(y.size)]\n",
                "x_labels = [A000.gen_state_str(i,thresh=0.05,round=4) for i in range(x.size)]\n",
                "ax.set_yticklabels(y_labels, rotation='40', fontsize=12, ha='right')\n",
                "ax.set_xticklabels(x_labels, rotation='40', fontsize=12,ha='left')\n",
                "ax.tick_params(axis='both',labelsize=10,direction='out')\n",
                "ax.grid(True,which='major',color='white',ls='--',linewidth=0.5)\n",
                "ax.grid(False,which='minor')\n",
                "(bot,top) = ax.get_ylim()\n",
                "ax.set_ylim(bot+0.5, top-0.5)\n",
                "cbar = fig.colorbar(mat, ax=ax,fraction=0.015, pad=0.05)\n",
                "#ax.set_xlim(-0.5,x.size+0.5);"
            ]
        },
        {
            "cell_type": "code",
            "execution_count": 28,
            "id": "ce56c835",
            "metadata": {},
            "outputs": [
                {
                    "name": "stdout",
                    "output_type": "stream",
                    "text": [
                        "Successfully converted eigenvectors from bBJ to aBJ\n",
                        "Successfully converted eigenvectors from bBJ to aBJ\n"
                    ]
                }
            ],
            "source": [
                "TDM = calculate_TDMs(1,X010,A000,1000,1e-7)+calculate_TDMs(-1,X010,A000,1000,1e-7)"
            ]
        },
        {
            "cell_type": "code",
            "execution_count": 13,
            "id": "a62e38f8",
            "metadata": {},
            "outputs": [
                {
                    "name": "stdout",
                    "output_type": "stream",
                    "text": [
                        "\n",
                        "\n"
                    ]
                },
                {
                    "data": {
                        "text/latex": [
                            "$E = 9617.4197\\:\\mathrm{MHz}$"
                        ],
                        "text/plain": [
                            "<IPython.core.display.Latex object>"
                        ]
                    },
                    "metadata": {},
                    "output_type": "display_data"
                },
                {
                    "name": "stdout",
                    "output_type": "stream",
                    "text": [
                        "Decoupled:\n"
                    ]
                },
                {
                    "data": {
                        "text/latex": [
                            "$\\,-\\,0.0328|K=1,M_N=0,M_S=\\frac{1}{2},M_I=\\frac{1}{2},M_F=1\\rangle\\,$$\\,-\\,0.0293|K=-1,M_N=1,M_S=\\frac{-1}{2},M_I=\\frac{1}{2},M_F=1\\rangle\\,$$\\,+\\,0.9966|K=1,M_N=1,M_S=\\frac{-1}{2},M_I=\\frac{1}{2},M_F=1\\rangle\\,$$\\,-\\,0.0699|K=1,M_N=1,M_S=\\frac{1}{2},M_I=\\frac{-1}{2},M_F=1\\rangle\\,$"
                        ],
                        "text/plain": [
                            "<IPython.core.display.Latex object>"
                        ]
                    },
                    "metadata": {},
                    "output_type": "display_data"
                },
                {
                    "name": "stdout",
                    "output_type": "stream",
                    "text": [
                        "Case A:\n"
                    ]
                },
                {
                    "data": {
                        "text/latex": [
                            "$\\,-\\,0.8327|K=1,Σ=\\frac{-1}{2},P=\\frac{1}{2},M=1\\rangle\\,$$\\,-\\,0.0255|K=-1,Σ=\\frac{1}{2},P=\\frac{-1}{2},M=1\\rangle\\,$$\\,+\\,0.1674|K=1,Σ=\\frac{-1}{2},P=\\frac{1}{2},M=1\\rangle\\,$$\\,+\\,0.29|K=1,Σ=\\frac{1}{2},P=\\frac{3}{2},M=1\\rangle\\,$$\\,+\\,0.01|K=-1,Σ=\\frac{-1}{2},P=\\frac{-3}{2},M=1\\rangle\\,$$\\,-\\,0.2201|K=1,Σ=\\frac{-1}{2},P=\\frac{1}{2},M=1\\rangle\\,$$\\,-\\,0.3811|K=1,Σ=\\frac{1}{2},P=\\frac{3}{2},M=1\\rangle\\,$"
                        ],
                        "text/plain": [
                            "<IPython.core.display.Latex object>"
                        ]
                    },
                    "metadata": {},
                    "output_type": "display_data"
                },
                {
                    "name": "stdout",
                    "output_type": "stream",
                    "text": [
                        "Case B:\n"
                    ]
                },
                {
                    "data": {
                        "text/latex": [
                            "$\\, \\,0.0255|K=-1,N=1,J=\\frac{1}{2},F=1,M=1\\rangle\\,$$\\,-\\,0.8327|K=1,N=1,J=\\frac{1}{2},F=1,M=1\\rangle\\,$$\\,+\\,0.3348|K=1,N=1,J=\\frac{3}{2},F=1,M=1\\rangle\\,$$\\,+\\,0.0116|K=-1,N=1,J=\\frac{3}{2},F=2,M=1\\rangle\\,$$\\,-\\,0.4401|K=1,N=1,J=\\frac{3}{2},F=2,M=1\\rangle\\,$"
                        ],
                        "text/plain": [
                            "<IPython.core.display.Latex object>"
                        ]
                    },
                    "metadata": {},
                    "output_type": "display_data"
                },
                {
                    "name": "stdout",
                    "output_type": "stream",
                    "text": [
                        "\n",
                        "\n"
                    ]
                },
                {
                    "data": {
                        "text/latex": [
                            "$E = 9617.4197\\:\\mathrm{MHz}$"
                        ],
                        "text/plain": [
                            "<IPython.core.display.Latex object>"
                        ]
                    },
                    "metadata": {},
                    "output_type": "display_data"
                },
                {
                    "name": "stdout",
                    "output_type": "stream",
                    "text": [
                        "Decoupled:\n"
                    ]
                },
                {
                    "data": {
                        "text/latex": [
                            "$\\,-\\,0.0699|K=-1,M_N=-1,M_S=\\frac{-1}{2},M_I=\\frac{1}{2},M_F=-1\\rangle\\,$$\\,+\\,0.9966|K=-1,M_N=-1,M_S=\\frac{1}{2},M_I=\\frac{-1}{2},M_F=-1\\rangle\\,$$\\,-\\,0.0293|K=1,M_N=-1,M_S=\\frac{1}{2},M_I=\\frac{-1}{2},M_F=-1\\rangle\\,$$\\,-\\,0.0328|K=-1,M_N=0,M_S=\\frac{-1}{2},M_I=\\frac{-1}{2},M_F=-1\\rangle\\,$"
                        ],
                        "text/plain": [
                            "<IPython.core.display.Latex object>"
                        ]
                    },
                    "metadata": {},
                    "output_type": "display_data"
                },
                {
                    "name": "stdout",
                    "output_type": "stream",
                    "text": [
                        "Case A:\n"
                    ]
                },
                {
                    "data": {
                        "text/latex": [
                            "$\\,-\\,0.0255|K=1,Σ=\\frac{-1}{2},P=\\frac{1}{2},M=-1\\rangle\\,$$\\,-\\,0.8327|K=-1,Σ=\\frac{1}{2},P=\\frac{-1}{2},M=-1\\rangle\\,$$\\,-\\,0.29|K=-1,Σ=\\frac{-1}{2},P=\\frac{-3}{2},M=-1\\rangle\\,$$\\,-\\,0.1674|K=-1,Σ=\\frac{1}{2},P=\\frac{-1}{2},M=-1\\rangle\\,$$\\,-\\,0.3811|K=-1,Σ=\\frac{-1}{2},P=\\frac{-3}{2},M=-1\\rangle\\,$$\\,-\\,0.2201|K=-1,Σ=\\frac{1}{2},P=\\frac{-1}{2},M=-1\\rangle\\,$$\\,+\\,0.01|K=1,Σ=\\frac{1}{2},P=\\frac{3}{2},M=-1\\rangle\\,$"
                        ],
                        "text/plain": [
                            "<IPython.core.display.Latex object>"
                        ]
                    },
                    "metadata": {},
                    "output_type": "display_data"
                },
                {
                    "name": "stdout",
                    "output_type": "stream",
                    "text": [
                        "Case B:\n"
                    ]
                },
                {
                    "data": {
                        "text/latex": [
                            "$\\, \\,0.8327|K=-1,N=1,J=\\frac{1}{2},F=1,M=-1\\rangle\\,$$\\,-\\,0.0255|K=1,N=1,J=\\frac{1}{2},F=1,M=-1\\rangle\\,$$\\,-\\,0.3348|K=-1,N=1,J=\\frac{3}{2},F=1,M=-1\\rangle\\,$$\\,-\\,0.4401|K=-1,N=1,J=\\frac{3}{2},F=2,M=-1\\rangle\\,$$\\,+\\,0.0116|K=1,N=1,J=\\frac{3}{2},F=2,M=-1\\rangle\\,$"
                        ],
                        "text/plain": [
                            "<IPython.core.display.Latex object>"
                        ]
                    },
                    "metadata": {},
                    "output_type": "display_data"
                },
                {
                    "name": "stdout",
                    "output_type": "stream",
                    "text": [
                        "\n",
                        "\n"
                    ]
                },
                {
                    "data": {
                        "text/latex": [
                            "$E = 10357.0299\\:\\mathrm{MHz}$"
                        ],
                        "text/plain": [
                            "<IPython.core.display.Latex object>"
                        ]
                    },
                    "metadata": {},
                    "output_type": "display_data"
                },
                {
                    "name": "stdout",
                    "output_type": "stream",
                    "text": [
                        "Decoupled:\n"
                    ]
                },
                {
                    "data": {
                        "text/latex": [
                            "$\\, \\,0.0347|K=-1,M_N=0,M_S=\\frac{1}{2},M_I=\\frac{1}{2},M_F=1\\rangle\\,$$\\,+\\,0.9962|K=-1,M_N=1,M_S=\\frac{-1}{2},M_I=\\frac{1}{2},M_F=1\\rangle\\,$$\\,+\\,0.0293|K=1,M_N=1,M_S=\\frac{-1}{2},M_I=\\frac{1}{2},M_F=1\\rangle\\,$$\\,-\\,0.0736|K=-1,M_N=1,M_S=\\frac{1}{2},M_I=\\frac{-1}{2},M_F=1\\rangle\\,$"
                        ],
                        "text/plain": [
                            "<IPython.core.display.Latex object>"
                        ]
                    },
                    "metadata": {},
                    "output_type": "display_data"
                },
                {
                    "name": "stdout",
                    "output_type": "stream",
                    "text": [
                        "Case A:\n"
                    ]
                },
                {
                    "data": {
                        "text/latex": [
                            "$\\,-\\,0.0221|K=1,Σ=\\frac{-1}{2},P=\\frac{1}{2},M=1\\rangle\\,$$\\,+\\,0.7934|K=-1,Σ=\\frac{1}{2},P=\\frac{-1}{2},M=1\\rangle\\,$$\\,+\\,0.3165|K=-1,Σ=\\frac{-1}{2},P=\\frac{-3}{2},M=1\\rangle\\,$$\\,+\\,0.1827|K=-1,Σ=\\frac{1}{2},P=\\frac{-1}{2},M=1\\rangle\\,$$\\,+\\,0.01|K=1,Σ=\\frac{1}{2},P=\\frac{3}{2},M=1\\rangle\\,$$\\,-\\,0.4208|K=-1,Σ=\\frac{-1}{2},P=\\frac{-3}{2},M=1\\rangle\\,$$\\,-\\,0.2429|K=-1,Σ=\\frac{1}{2},P=\\frac{-1}{2},M=1\\rangle\\,$$\\,-\\,0.0136|K=1,Σ=\\frac{1}{2},P=\\frac{3}{2},M=1\\rangle\\,$"
                        ],
                        "text/plain": [
                            "<IPython.core.display.Latex object>"
                        ]
                    },
                    "metadata": {},
                    "output_type": "display_data"
                },
                {
                    "name": "stdout",
                    "output_type": "stream",
                    "text": [
                        "Case B:\n"
                    ]
                },
                {
                    "data": {
                        "text/latex": [
                            "$\\,-\\,0.7934|K=-1,N=1,J=\\frac{1}{2},F=1,M=1\\rangle\\,$$\\,-\\,0.0221|K=1,N=1,J=\\frac{1}{2},F=1,M=1\\rangle\\,$$\\,+\\,0.3655|K=-1,N=1,J=\\frac{3}{2},F=1,M=1\\rangle\\,$$\\,+\\,0.0116|K=1,N=1,J=\\frac{3}{2},F=1,M=1\\rangle\\,$$\\,-\\,0.4859|K=-1,N=1,J=\\frac{3}{2},F=2,M=1\\rangle\\,$$\\,-\\,0.0157|K=1,N=1,J=\\frac{3}{2},F=2,M=1\\rangle\\,$"
                        ],
                        "text/plain": [
                            "<IPython.core.display.Latex object>"
                        ]
                    },
                    "metadata": {},
                    "output_type": "display_data"
                },
                {
                    "name": "stdout",
                    "output_type": "stream",
                    "text": [
                        "\n",
                        "\n"
                    ]
                },
                {
                    "data": {
                        "text/latex": [
                            "$E = 10357.0299\\:\\mathrm{MHz}$"
                        ],
                        "text/plain": [
                            "<IPython.core.display.Latex object>"
                        ]
                    },
                    "metadata": {},
                    "output_type": "display_data"
                },
                {
                    "name": "stdout",
                    "output_type": "stream",
                    "text": [
                        "Decoupled:\n"
                    ]
                },
                {
                    "data": {
                        "text/latex": [
                            "$\\,-\\,0.0736|K=1,M_N=-1,M_S=\\frac{-1}{2},M_I=\\frac{1}{2},M_F=-1\\rangle\\,$$\\,+\\,0.0293|K=-1,M_N=-1,M_S=\\frac{1}{2},M_I=\\frac{-1}{2},M_F=-1\\rangle\\,$$\\,+\\,0.9962|K=1,M_N=-1,M_S=\\frac{1}{2},M_I=\\frac{-1}{2},M_F=-1\\rangle\\,$$\\,+\\,0.0347|K=1,M_N=0,M_S=\\frac{-1}{2},M_I=\\frac{-1}{2},M_F=-1\\rangle\\,$"
                        ],
                        "text/plain": [
                            "<IPython.core.display.Latex object>"
                        ]
                    },
                    "metadata": {},
                    "output_type": "display_data"
                },
                {
                    "name": "stdout",
                    "output_type": "stream",
                    "text": [
                        "Case A:\n"
                    ]
                },
                {
                    "data": {
                        "text/latex": [
                            "$\\, \\,0.7934|K=1,Σ=\\frac{-1}{2},P=\\frac{1}{2},M=-1\\rangle\\,$$\\,-\\,0.0221|K=-1,Σ=\\frac{1}{2},P=\\frac{-1}{2},M=-1\\rangle\\,$$\\,-\\,0.01|K=-1,Σ=\\frac{-1}{2},P=\\frac{-3}{2},M=-1\\rangle\\,$$\\,-\\,0.1827|K=1,Σ=\\frac{-1}{2},P=\\frac{1}{2},M=-1\\rangle\\,$$\\,-\\,0.3165|K=1,Σ=\\frac{1}{2},P=\\frac{3}{2},M=-1\\rangle\\,$$\\,-\\,0.0136|K=-1,Σ=\\frac{-1}{2},P=\\frac{-3}{2},M=-1\\rangle\\,$$\\,-\\,0.2429|K=1,Σ=\\frac{-1}{2},P=\\frac{1}{2},M=-1\\rangle\\,$$\\,-\\,0.4208|K=1,Σ=\\frac{1}{2},P=\\frac{3}{2},M=-1\\rangle\\,$"
                        ],
                        "text/plain": [
                            "<IPython.core.display.Latex object>"
                        ]
                    },
                    "metadata": {},
                    "output_type": "display_data"
                },
                {
                    "name": "stdout",
                    "output_type": "stream",
                    "text": [
                        "Case B:\n"
                    ]
                },
                {
                    "data": {
                        "text/latex": [
                            "$\\, \\,0.0221|K=-1,N=1,J=\\frac{1}{2},F=1,M=-1\\rangle\\,$$\\,+\\,0.7934|K=1,N=1,J=\\frac{1}{2},F=1,M=-1\\rangle\\,$$\\,-\\,0.0116|K=-1,N=1,J=\\frac{3}{2},F=1,M=-1\\rangle\\,$$\\,-\\,0.3655|K=1,N=1,J=\\frac{3}{2},F=1,M=-1\\rangle\\,$$\\,-\\,0.0157|K=-1,N=1,J=\\frac{3}{2},F=2,M=-1\\rangle\\,$$\\,-\\,0.4859|K=1,N=1,J=\\frac{3}{2},F=2,M=-1\\rangle\\,$"
                        ],
                        "text/plain": [
                            "<IPython.core.display.Latex object>"
                        ]
                    },
                    "metadata": {},
                    "output_type": "display_data"
                },
                {
                    "name": "stdout",
                    "output_type": "stream",
                    "text": [
                        "\n",
                        "\n"
                    ]
                }
            ],
            "source": [
                "X010.eigensystem(1000,1e-7)\n",
                "print('\\n')\n",
                "for i in [0,1,16,17]:\n",
                "    display(Latex('$E = '+str(np.round(X010.evals0[i],4))+r'\\:\\mathrm{MHz}$'))\n",
                "    print('Decoupled:')\n",
                "    display(Latex(X010.gen_state_str(i,basis='decoupled',thresh=0.01,label_q=['K','M_N','M_S','M_I','M_F'],round=4)))\n",
                "    print('Case A:')\n",
                "    display(Latex(X010.gen_state_str(i,basis='aBJ',thresh=0.01,label_q=['K','Sigma','P','M'],round=4)))\n",
                "    print('Case B:')\n",
                "    display(Latex(X010.gen_state_str(i,thresh=0.01,round=4)))\n",
                "    print('\\n')"
            ]
        },
        {
            "cell_type": "code",
            "execution_count": 15,
            "id": "d3c55e88",
            "metadata": {},
            "outputs": [
                {
                    "data": {
                        "text/plain": [
                            "True"
                        ]
                    },
                    "execution_count": 15,
                    "metadata": {},
                    "output_type": "execute_result"
                }
            ],
            "source": [
                "True or True"
            ]
        },
        {
            "cell_type": "code",
            "execution_count": 14,
            "id": "d156c04b",
            "metadata": {},
            "outputs": [
                {
                    "name": "stdout",
                    "output_type": "stream",
                    "text": [
                        "\n",
                        "\n"
                    ]
                },
                {
                    "data": {
                        "text/latex": [
                            "$E = -980454.8099\\:\\mathrm{MHz}$"
                        ],
                        "text/plain": [
                            "<IPython.core.display.Latex object>"
                        ]
                    },
                    "metadata": {},
                    "output_type": "display_data"
                },
                {
                    "name": "stdout",
                    "output_type": "stream",
                    "text": [
                        "Decoupled:\n"
                    ]
                },
                {
                    "data": {
                        "text/latex": [
                            "$\\,-\\,0.3636|K=-1,M_N=-1,M_S=\\frac{1}{2},M_I=\\frac{1}{2},M_F=0\\rangle\\,$$\\,-\\,0.4481|K=1,M_N=-1,M_S=\\frac{1}{2},M_I=\\frac{1}{2},M_F=0\\rangle\\,$$\\,+\\,0.2554|K=-1,M_N=0,M_S=\\frac{-1}{2},M_I=\\frac{1}{2},M_F=0\\rangle\\,$$\\,+\\,0.319|K=1,M_N=0,M_S=\\frac{-1}{2},M_I=\\frac{1}{2},M_F=0\\rangle\\,$$\\,-\\,0.319|K=-1,M_N=0,M_S=\\frac{1}{2},M_I=\\frac{-1}{2},M_F=0\\rangle\\,$$\\,-\\,0.2554|K=1,M_N=0,M_S=\\frac{1}{2},M_I=\\frac{-1}{2},M_F=0\\rangle\\,$$\\,+\\,0.4481|K=-1,M_N=1,M_S=\\frac{-1}{2},M_I=\\frac{-1}{2},M_F=0\\rangle\\,$$\\,+\\,0.3636|K=1,M_N=1,M_S=\\frac{-1}{2},M_I=\\frac{-1}{2},M_F=0\\rangle\\,$"
                        ],
                        "text/plain": [
                            "<IPython.core.display.Latex object>"
                        ]
                    },
                    "metadata": {},
                    "output_type": "display_data"
                },
                {
                    "name": "stdout",
                    "output_type": "stream",
                    "text": [
                        "Case B:\n"
                    ]
                },
                {
                    "data": {
                        "text/latex": [
                            "$\\,-\\,0.0747|K=-1,N=1,J=\\frac{1}{2},F=0,M=0\\rangle\\,$$\\,+\\,0.0747|K=1,N=1,J=\\frac{1}{2},F=0,M=0\\rangle\\,$$\\,-\\,0.7031|K=-1,N=1,J=\\frac{1}{2},F=1,M=0\\rangle\\,$$\\,-\\,0.7031|K=1,N=1,J=\\frac{1}{2},F=1,M=0\\rangle\\,$"
                        ],
                        "text/plain": [
                            "<IPython.core.display.Latex object>"
                        ]
                    },
                    "metadata": {},
                    "output_type": "display_data"
                },
                {
                    "name": "stdout",
                    "output_type": "stream",
                    "text": [
                        "Case A:\n"
                    ]
                },
                {
                    "data": {
                        "text/latex": [
                            "$\\, \\,0.0747|P=\\frac{1}{2},K=1,Σ=\\frac{-1}{2},J=\\frac{1}{2},F=0,M=0\\rangle\\,$$\\,+\\,0.0747|P=\\frac{-1}{2},K=-1,Σ=\\frac{1}{2},J=\\frac{1}{2},F=0,M=0\\rangle\\,$$\\,-\\,0.7031|P=\\frac{1}{2},K=1,Σ=\\frac{-1}{2},J=\\frac{1}{2},F=1,M=0\\rangle\\,$$\\,+\\,0.7031|P=\\frac{-1}{2},K=-1,Σ=\\frac{1}{2},J=\\frac{1}{2},F=1,M=0\\rangle\\,$"
                        ],
                        "text/plain": [
                            "<IPython.core.display.Latex object>"
                        ]
                    },
                    "metadata": {},
                    "output_type": "display_data"
                },
                {
                    "name": "stdout",
                    "output_type": "stream",
                    "text": [
                        "\n",
                        "\n"
                    ]
                },
                {
                    "data": {
                        "text/latex": [
                            "$E = -951895.4529\\:\\mathrm{MHz}$"
                        ],
                        "text/plain": [
                            "<IPython.core.display.Latex object>"
                        ]
                    },
                    "metadata": {},
                    "output_type": "display_data"
                },
                {
                    "name": "stdout",
                    "output_type": "stream",
                    "text": [
                        "Decoupled:\n"
                    ]
                },
                {
                    "data": {
                        "text/latex": [
                            "$\\,-\\,0.1454|K=-1,M_N=-1,M_S=\\frac{1}{2},M_I=\\frac{1}{2},M_F=0\\rangle\\,$$\\,-\\,0.1477|K=1,M_N=-1,M_S=\\frac{1}{2},M_I=\\frac{1}{2},M_F=0\\rangle\\,$$\\,-\\,0.2114|K=-1,M_N=0,M_S=\\frac{-1}{2},M_I=\\frac{1}{2},M_F=0\\rangle\\,$$\\,-\\,0.2031|K=1,M_N=0,M_S=\\frac{-1}{2},M_I=\\frac{1}{2},M_F=0\\rangle\\,$$\\,+\\,0.2031|K=-1,M_N=0,M_S=\\frac{1}{2},M_I=\\frac{-1}{2},M_F=0\\rangle\\,$$\\,+\\,0.2114|K=1,M_N=0,M_S=\\frac{1}{2},M_I=\\frac{-1}{2},M_F=0\\rangle\\,$$\\,+\\,0.1477|K=-1,M_N=1,M_S=\\frac{-1}{2},M_I=\\frac{-1}{2},M_F=0\\rangle\\,$$\\,+\\,0.1454|K=1,M_N=1,M_S=\\frac{-1}{2},M_I=\\frac{-1}{2},M_F=0\\rangle\\,$$\\,-\\,0.338|K=-1,M_N=-1,M_S=\\frac{1}{2},M_I=\\frac{1}{2},M_F=0\\rangle\\,$$\\,+\\,0.3293|K=1,M_N=-1,M_S=\\frac{1}{2},M_I=\\frac{1}{2},M_F=0\\rangle\\,$$\\,+\\,0.2744|K=-1,M_N=0,M_S=\\frac{-1}{2},M_I=\\frac{1}{2},M_F=0\\rangle\\,$$\\,-\\,0.2704|K=1,M_N=0,M_S=\\frac{-1}{2},M_I=\\frac{1}{2},M_F=0\\rangle\\,$$\\,+\\,0.2704|K=-1,M_N=0,M_S=\\frac{1}{2},M_I=\\frac{-1}{2},M_F=0\\rangle\\,$$\\,-\\,0.2744|K=1,M_N=0,M_S=\\frac{1}{2},M_I=\\frac{-1}{2},M_F=0\\rangle\\,$$\\,-\\,0.3293|K=-1,M_N=1,M_S=\\frac{-1}{2},M_I=\\frac{-1}{2},M_F=0\\rangle\\,$$\\,+\\,0.338|K=1,M_N=1,M_S=\\frac{-1}{2},M_I=\\frac{-1}{2},M_F=0\\rangle\\,$"
                        ],
                        "text/plain": [
                            "<IPython.core.display.Latex object>"
                        ]
                    },
                    "metadata": {},
                    "output_type": "display_data"
                },
                {
                    "name": "stdout",
                    "output_type": "stream",
                    "text": [
                        "Case B:\n"
                    ]
                },
                {
                    "data": {
                        "text/latex": [
                            "$\\,-\\,0.359|K=-1,N=1,J=\\frac{3}{2},F=1,M=0\\rangle\\,$$\\,-\\,0.359|K=1,N=1,J=\\frac{3}{2},F=1,M=0\\rangle\\,$$\\,+\\,0.6091|K=-1,N=2,J=\\frac{3}{2},F=1,M=0\\rangle\\,$$\\,-\\,0.6091|K=1,N=2,J=\\frac{3}{2},F=1,M=0\\rangle\\,$"
                        ],
                        "text/plain": [
                            "<IPython.core.display.Latex object>"
                        ]
                    },
                    "metadata": {},
                    "output_type": "display_data"
                },
                {
                    "name": "stdout",
                    "output_type": "stream",
                    "text": [
                        "Case A:\n"
                    ]
                },
                {
                    "data": {
                        "text/latex": [
                            "$\\,-\\,0.707|P=\\frac{1}{2},K=1,Σ=\\frac{-1}{2},J=\\frac{3}{2},F=1,M=0\\rangle\\,$$\\,-\\,0.707|P=\\frac{-1}{2},K=-1,Σ=\\frac{1}{2},J=\\frac{3}{2},F=1,M=0\\rangle\\,$"
                        ],
                        "text/plain": [
                            "<IPython.core.display.Latex object>"
                        ]
                    },
                    "metadata": {},
                    "output_type": "display_data"
                },
                {
                    "name": "stdout",
                    "output_type": "stream",
                    "text": [
                        "\n",
                        "\n"
                    ]
                }
            ],
            "source": [
                "A000.eigensystem(1000,1e-7)\n",
                "print('\\n')\n",
                "for i in [3,4]:\n",
                "    display(Latex('$E = '+str(np.round(A000.evals0[i],4))+r'\\:\\mathrm{MHz}$'))\n",
                "    print('Decoupled:')\n",
                "    display(Latex(A000.gen_state_str(i,basis='decoupled',thresh=0.01,label_q=['K','M_N','M_S','M_I','M_F'],round=4)))\n",
                "    print('Case B:')\n",
                "    display(Latex(A000.gen_state_str(i,basis='bBJ',thresh=0.01,label_q=['K','N','J','F','M'],round=4)))\n",
                "    print('Case A:')\n",
                "    display(Latex(A000.gen_state_str(i,thresh=0.01,label_q=['P','K','Sigma','J','F','M'],round=4)))\n",
                "    print('\\n')"
            ]
        },
        {
            "cell_type": "code",
            "execution_count": 34,
            "id": "9bac1c6c",
            "metadata": {},
            "outputs": [
                {
                    "name": "stderr",
                    "output_type": "stream",
                    "text": [
                        "C:\\ProgramData\\Anaconda3\\lib\\site-packages\\ipykernel_launcher.py:3: MatplotlibDeprecationWarning: Auto-removal of grids by pcolor() and pcolormesh() is deprecated since 3.5 and will be removed two minor releases later; please call grid(False) first.\n",
                        "  This is separate from the ipykernel package so we can avoid doing imports until\n"
                    ]
                }
            ],
            "source": [
                "fig,ax = plt.subplots(figsize=(10,10),constrained_layout=True)\n",
                "mat = ax.matshow(TDM_0,cmap=plt.get_cmap('magma'))\n",
                "cbar = fig.colorbar(mat, ax=ax,fraction=0.015, pad=0.05)\n",
                "ax.grid(False)"
            ]
        },
        {
            "cell_type": "code",
            "execution_count": 31,
            "id": "f2e3a8b2",
            "metadata": {},
            "outputs": [
                {
                    "data": {
                        "text/plain": [
                            "array([  -55140.45562,  -946977.29496,   484162.96238,   623058.10306,\n",
                            "         896998.81803, -1081297.90694,   471578.31098,   985869.31647,\n",
                            "         220345.20695,  -460270.90951,   966960.55866,   956543.79559,\n",
                            "          60174.10687, -1904720.71352,   406156.54941, -2351103.71684,\n",
                            "         147078.58529,  1083867.87882,  -621523.66429, -1226443.16404,\n",
                            "        1065355.24261,  2532758.41836,  1810743.34   ,  1364788.40114])"
                        ]
                    },
                    "execution_count": 31,
                    "metadata": {},
                    "output_type": "execute_result"
                }
            ],
            "source": [
                "TDM"
            ]
        },
        {
            "cell_type": "code",
            "execution_count": 28,
            "id": "0dc6103d",
            "metadata": {},
            "outputs": [
                {
                    "data": {
                        "text/plain": [
                            "array([ 2,  3,  8, 11, 12, 15, 18, 19])"
                        ]
                    },
                    "execution_count": 28,
                    "metadata": {},
                    "output_type": "execute_result"
                }
            ],
            "source": [
                "X010.select_q({'M':0})"
            ]
        },
        {
            "cell_type": "code",
            "execution_count": 30,
            "id": "47c6e0cb",
            "metadata": {},
            "outputs": [
                {
                    "data": {
                        "text/plain": [
                            "slice(None, array([0, 2]), None)"
                        ]
                    },
                    "execution_count": 30,
                    "metadata": {},
                    "output_type": "execute_result"
                }
            ],
            "source": [
                "slice(B000.select_q({'M':0}))"
            ]
        },
        {
            "cell_type": "code",
            "execution_count": 32,
            "id": "12995f2d",
            "metadata": {},
            "outputs": [
                {
                    "data": {
                        "text/plain": [
                            "array([[0.],\n",
                            "       [0.],\n",
                            "       [0.],\n",
                            "       [0.],\n",
                            "       [0.],\n",
                            "       [0.]])"
                        ]
                    },
                    "execution_count": 32,
                    "metadata": {},
                    "output_type": "execute_result"
                }
            ],
            "source": [
                "TDM_0[np.ix_(X010.select_q({'M':1}),B000.select_q({'M':1}))]"
            ]
        },
        {
            "cell_type": "code",
            "execution_count": 18,
            "id": "451d5c3e",
            "metadata": {},
            "outputs": [],
            "source": [
                "B0_idx = B000.select_q({'M':[0]})\n",
                "X1_idx = "
            ]
        },
        {
            "cell_type": "code",
            "execution_count": null,
            "id": "f94ef04c",
            "metadata": {},
            "outputs": [],
            "source": []
        }
    ],
    "metadata": {
        "kernelspec": {
            "display_name": "Python 3",
            "language": "python",
            "name": "python3"
        },
        "language_info": {
            "codemirror_mode": {
                "name": "ipython",
                "version": 3
            },
            "file_extension": ".py",
            "mimetype": "text/x-python",
            "name": "python",
            "nbconvert_exporter": "python",
            "pygments_lexer": "ipython3",
            "version": "3.7.11"
        }
    },
    "nbformat": 4,
    "nbformat_minor": 5
}